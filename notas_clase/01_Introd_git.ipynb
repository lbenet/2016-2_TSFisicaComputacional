{
 "cells": [
  {
   "cell_type": "markdown",
   "metadata": {},
   "source": [
    "# Introducción a `git`"
   ]
  },
  {
   "cell_type": "markdown",
   "metadata": {},
   "source": [
    "## ¿Qué es `git`?"
   ]
  },
  {
   "cell_type": "markdown",
   "metadata": {},
   "source": [
    "`git` es un sistema controlador de versiones.\n",
    "\n",
    "- es una herramienta que permite tener acceso al historial *completo* de un proyecto\n",
    "\n",
    "- es una herramienta *colaborativa*\n",
    "\n",
    "- de uso *local* pero se puede subir al internet (ej. [GitHub](https://github.com))"
   ]
  },
  {
   "cell_type": "markdown",
   "metadata": {},
   "source": [
    "**Ejercicio 1**: Obtener una cuenta en GitHub, y mandarnos el usuario por email.\n",
    "\n",
    "*Nota:* La cuenta será pública, así que piensen dos veces si *LagartijaPeluda* es, o no, un buen nombre del usuario...."
   ]
  },
  {
   "cell_type": "markdown",
   "metadata": {},
   "source": [
    "Lo siguiente, es algo útil cuando se utiliza [Julia](https://julialang.org): Al empezar una *instrucción* con `;` (punto y coma), eso equivale a \"escapar a la terminal (*shell*)\". Así, por ejemplo, para listar los archivos que están en el directorio actual donde se trabaja, simplemente ejecutamos *en el notebook*\n",
    "\n",
    "```julia\n",
    "    ; ls -al\n",
    "```"
   ]
  },
  {
   "cell_type": "code",
   "execution_count": 1,
   "metadata": {
    "collapsed": false
   },
   "outputs": [
    {
     "name": "stdout",
     "output_type": "stream",
     "text": [
      "total 24\n",
      "drwxr-xr-x   6 benet  staff   204 Feb  8 13:36 .\n",
      "drwxr-xr-x  22 benet  staff   748 Dec 17 18:55 ..\n",
      "drwxr-xr-x   3 benet  staff   102 Feb  8 13:25 .ipynb_checkpoints\n",
      "-rw-r--r--   1 benet  staff  1622 Feb  8 13:36 01_Introd_git.ipynb\n",
      "-rw-r--r--   1 benet  staff  2982 Feb  2 14:55 README.md\n",
      "-rw-r--r--   1 benet  staff   911 Feb  8 13:22 ejemploMarkDown.md\n"
     ]
    }
   ],
   "source": [
    "; ls -al"
   ]
  },
  {
   "cell_type": "code",
   "execution_count": 2,
   "metadata": {
    "collapsed": false
   },
   "outputs": [
    {
     "name": "stdout",
     "output_type": "stream",
     "text": [
      "/Users/benet/Documents/4-Clases/46_TemasSelectos/2016-2\n"
     ]
    }
   ],
   "source": [
    "; pwd"
   ]
  },
  {
   "cell_type": "markdown",
   "metadata": {},
   "source": [
    "### Primeros pasos en `git`\n",
    "\n",
    "Empezamos por crear un *repositorio* **local** en `git`:\n",
    "\n",
    "```\n",
    "    > git init\n",
    "```\n",
    "(Esto lo hicimos desde la terminal.)"
   ]
  },
  {
   "cell_type": "code",
   "execution_count": 3,
   "metadata": {
    "collapsed": false
   },
   "outputs": [
    {
     "name": "stdout",
     "output_type": "stream",
     "text": [
      "total 24\n",
      "drwxr-xr-x   7 benet  staff   238 Feb  8 13:38 .\n",
      "drwxr-xr-x  22 benet  staff   748 Dec 17 18:55 ..\n",
      "drwxr-xr-x   9 benet  staff   306 Feb  8 13:38 .git\n",
      "drwxr-xr-x   3 benet  staff   102 Feb  8 13:25 .ipynb_checkpoints\n",
      "-rw-r--r--   1 benet  staff  2714 Feb  8 13:38 01_Introd_git.ipynb\n",
      "-rw-r--r--   1 benet  staff  2982 Feb  2 14:55 README.md\n",
      "-rw-r--r--   1 benet  staff   911 Feb  8 13:22 ejemploMarkDown.md\n"
     ]
    }
   ],
   "source": [
    "; ls -al"
   ]
  },
  {
   "cell_type": "markdown",
   "metadata": {},
   "source": [
    "Desde la terminal creamos el directorio \"notas_clase\"\n",
    "```\n",
    "    > mkdir notas_clase/\n",
    "```"
   ]
  },
  {
   "cell_type": "code",
   "execution_count": 5,
   "metadata": {
    "collapsed": false
   },
   "outputs": [
    {
     "name": "stdout",
     "output_type": "stream",
     "text": [
      "total 32\n",
      "drwxr-xr-x   8 benet  staff   272 Feb  8 13:42 ./\n",
      "drwxr-xr-x  22 benet  staff   748 Dec 17 18:55 ../\n",
      "drwxr-xr-x   9 benet  staff   306 Feb  8 13:42 .git/\n",
      "drwxr-xr-x   3 benet  staff   102 Feb  8 13:25 .ipynb_checkpoints/\n",
      "-rw-r--r--   1 benet  staff  7768 Feb  8 13:42 01_Introd_git.ipynb\n",
      "-rw-r--r--   1 benet  staff  2982 Feb  2 14:55 README.md\n",
      "-rw-r--r--   1 benet  staff   911 Feb  8 13:22 ejemploMarkDown.md\n",
      "drwxr-xr-x   2 benet  staff    68 Feb  8 13:42 notas_clase/\n"
     ]
    }
   ],
   "source": [
    "; ls -alp"
   ]
  },
  {
   "cell_type": "markdown",
   "metadata": {},
   "source": [
    "... y (desde la terminal) movemos a ese \"notas_clase\" el archivo \"ejemploMarkDown.md\", es decir:\n",
    "```\n",
    "    > mv ejemploMarkDown.md notas_clase\n",
    "```"
   ]
  },
  {
   "cell_type": "markdown",
   "metadata": {},
   "source": [
    "Si quiero saber el estado del repositorio:\n",
    "```\n",
    "    > git status\n",
    "```"
   ]
  },
  {
   "cell_type": "code",
   "execution_count": 6,
   "metadata": {
    "collapsed": false
   },
   "outputs": [
    {
     "name": "stdout",
     "output_type": "stream",
     "text": [
      "On branch master\n",
      "\n",
      "Initial commit\n",
      "\n",
      "Untracked files:\n",
      "  (use \"git add <file>...\" to include in what will be committed)\n",
      "\n",
      "\t.ipynb_checkpoints/\n",
      "\t01_Introd_git.ipynb\n",
      "\tREADME.md\n",
      "\tnotas_clase/\n",
      "\n",
      "nothing added to commit but untracked files present (use \"git add\" to track)\n"
     ]
    }
   ],
   "source": [
    "; git status"
   ]
  },
  {
   "cell_type": "markdown",
   "metadata": {},
   "source": [
    "Ahora, quiero que el nuevo directorio \"notas_clase\" sea algo que `git` \"siga\", o sea, que note los cambios que ahí se den.\n",
    "\n",
    "Para que `git` siga los cambios, primero le debo decir qué archivo (o directorio) seguir, y luego debo \"tomar una foto\" en el sentido de guardar los cambios a cierto instante del tiempo $t$. Eso lo hago con los comandos:\n",
    "\n",
    "```\n",
    "    > git add notas_clase/ejemploMarkDown.md\n",
    "    > git status\n",
    "```"
   ]
  },
  {
   "cell_type": "markdown",
   "metadata": {},
   "source": [
    "Para \"hacer definitivo\" el estado del repositorio, uno ejecuta:\n",
    "```\n",
    "    > git commit\n",
    "```\n",
    "\n",
    "Esta instrucción nos pone dentro de un editor, por default `vi` aunque esto es configurable. La idea es escribir un mensaje (de una línea!) que describa que se hizo, y si uno quiere incluir más detalles los escribe después. Líneas que empiezan con # se consideran comentarios\n",
    "(y no aparecerán con `git log`).\n",
    "\n",
    "Otra alternativa, si uno sólo quiere escribir la primer línea es:\n",
    "```\n",
    "    > git commit -m \"Mensaje corto y claro\"\n",
    "```"
   ]
  },
  {
   "cell_type": "markdown",
   "metadata": {},
   "source": [
    "`git log` permite ver el registro (*log*, en inglés) de los cambios en la historia del repositorio."
   ]
  },
  {
   "cell_type": "code",
   "execution_count": 7,
   "metadata": {
    "collapsed": false
   },
   "outputs": [
    {
     "name": "stdout",
     "output_type": "stream",
     "text": [
      "commit d04e1149c3d13dd17c1147a59e1ba9ead8b8c929\n",
      "Author: Luis Benet <benet@fis.unam.mx>\n",
      "Date:   Mon Feb 8 13:49:50 2016 -0600\n",
      "\n",
      "    Primer commit: agrego un archivo\n",
      "    \n",
      "    Después puedo dar detalles.... Si la línea empieza con `#` es un comentario\n"
     ]
    }
   ],
   "source": [
    "; git log"
   ]
  },
  {
   "cell_type": "markdown",
   "metadata": {},
   "source": [
    "### Configurando `git`\n",
    "\n",
    "```\n",
    "    > git config --global user.name \"Fulanito de Tal\"\n",
    "    > git config --global user.email \"usuariuo@email.de_verdad.edu\"\n",
    "    > git config --global color.ui \"auto\"\n",
    "    > git config --global github.user \"LagartijaPeluda\"\n",
    "```\n",
    "\n",
    "Para checar lo que git tiene configurado: `git config --list`.\n",
    "\n",
    "Configurar esto es importante, ya que permite saber quién hizo qué, y cómo contactarlo."
   ]
  },
  {
   "cell_type": "markdown",
   "metadata": {},
   "source": [
    "### Agregando un repositorio remoto\n"
   ]
  },
  {
   "cell_type": "markdown",
   "metadata": {},
   "source": [
    "Mientras *no* hayamos definido ningún repositorio remoto (que vive en la nube), no obtenemos información si usamos el comando `git remote -v` (\"-v\" es por *verbose*, o sea, \"verboso\" o \"chorero\"):"
   ]
  },
  {
   "cell_type": "code",
   "execution_count": 8,
   "metadata": {
    "collapsed": true
   },
   "outputs": [],
   "source": [
    "; git remote -v"
   ]
  },
  {
   "cell_type": "markdown",
   "metadata": {},
   "source": [
    "Desde la terminal, *agrego* un repositorio remote usando el comando:\n",
    "\n",
    "```\n",
    "    > git remote add origin https://github.com/lbenet/2016-2_TSFisicaComputacional\n",
    "```"
   ]
  },
  {
   "cell_type": "code",
   "execution_count": 9,
   "metadata": {
    "collapsed": false
   },
   "outputs": [
    {
     "name": "stdout",
     "output_type": "stream",
     "text": [
      "origin\thttps://github.com/lbenet/2016-2_TSFisicaComputacional (fetch)\n",
      "origin\thttps://github.com/lbenet/2016-2_TSFisicaComputacional (push)\n"
     ]
    }
   ],
   "source": [
    "; git remote -v"
   ]
  },
  {
   "cell_type": "markdown",
   "metadata": {},
   "source": [
    "Ahora mando todo lo que se ha hecho localmente al [repositorio remoto](https://github.com/lbenet/2016-2_TSFisicaComputacional) en GitHub:\n",
    "\n",
    "```\n",
    "    > git push -u origin master\n",
    "```\n",
    "\n",
    "En esta instrucción \"-u\" es por \"upstream\" y usualmente se utiliza sólo la primera vez que se sube al repo remoto. Por su parte, \"origin\" tiene que ver con la abreviatura (el default se le llama siempre \"origin\") y \"master\" tiene que ver con la rama que se sincroniza. Por lo tanto, lo que acabamos de hacer es, en algún sentido, tener un respaldo en la nube de todo lo que se haya guardado en el repositorio local."
   ]
  },
  {
   "cell_type": "markdown",
   "metadata": {},
   "source": [
    "### Mejorando un repositorio (o como enviar las tareas)"
   ]
  },
  {
   "cell_type": "markdown",
   "metadata": {},
   "source": [
    "Lo primero que deben que hacer, es clonar el repositorio remoto a su máquina local. Esto se hace usando la instrucción:\n",
    "\n",
    "```\n",
    "    > git clone https://github.com/lbenet/2016-2_TSFisicaComputacional\n",
    "```"
   ]
  },
  {
   "cell_type": "markdown",
   "metadata": {},
   "source": [
    "Como ustedes **no** son colaboradores, si quieren hacer mejoras en el repositorio (lo que en el curso significa enviar las tareas), deben hacer los cambios (tareas) de manera local, subirlos *a su propia copia* en GitHub del repositorio donde quieren contribuir, y desde ahí hacer un \"pull-request\"."
   ]
  },
  {
   "cell_type": "markdown",
   "metadata": {},
   "source": [
    "Entonces, lo primero, es hacer un \"fork\" *desde su cuenta* en GitHub; esto lo hacen con el botón \"FORK\" que hay (en el repositorio al que quieren contribuir), en el lado superior derecho de la página."
   ]
  },
  {
   "cell_type": "markdown",
   "metadata": {},
   "source": [
    "Una vez creado el fork, en GitHub tendrán una copia íntegra de dicho proyecto. \n",
    "\n",
    "Localmente (en su máquina), deben definir dónde está la copia del repositorio, en GitHub, donde ustedes pueden subir los cambios. Esto es, deben darlo de alta; en lo que sigue, a dicha copia la llamaré \"fork\" (\"origin\" será el repositorio de referencia, donde a priori *no* tienen acceso a subir los cambios):\n",
    "\n",
    "```\n",
    "    > git remote add fork https://github.com/SU_USUARIO/2016-2_TSFisicaComputacional\n",
    "```"
   ]
  },
  {
   "cell_type": "markdown",
   "metadata": {},
   "source": [
    "Los cambios que hagan (locales), los podrán subir a **su** repositorio con `git push fork master` (¡ojo!, la abreviación del repositorio remoto se hace explícita en la instrucción) y *desde* GitHub, hacen un pull-request, usando el botón para eso."
   ]
  },
  {
   "cell_type": "markdown",
   "metadata": {},
   "source": [
    "Para actualizar **mi** versión del repositorio de referencia, debo hacer\n",
    "```\n",
    "    > git pull origin master\n",
    "```\n",
    "\n",
    "Esto es importante hacerlo con cierta frecuencia."
   ]
  },
  {
   "cell_type": "markdown",
   "metadata": {},
   "source": [
    "Entonces, uno puede resumir que el flujo del trabajo esencialmente consiste en:\n",
    "```\n",
    "    > git init            # inicializa un repositorio\n",
    "    > git add <archivo>   # hace que git siga los cambios de archivo\n",
    "    > git status          # muestra el estado del repositorio\n",
    "    > git commit          # saca una foto instantánea del estado del proyecto\n",
    "    > git push            # sube los cambios al remoto\n",
    "    > git log             # muestra la bitácora/historia del proyecto\n",
    "```"
   ]
  },
  {
   "cell_type": "markdown",
   "metadata": {},
   "source": [
    "**Ejercicio 2:** (Conflictos de pareja)\n",
    "\n",
    "La situación que consideraremos es la siguiente: Alicia (Alice) y Beto (Bob) colaboran en un proyecto (el repositorio de la clase). Ellos trabajan en equipo; esto es para *fomentar* las colaboraciones. Por lo mismo deben ser colaboradores ante github.\n",
    "\n",
    "Ambos tienen la misma versión del código.\n",
    "\n",
    "Alicia: edita y *sube* al repo común (tareas/bob/) el archivo \"0-test.md\".\n",
    "Beto *también* trabaja en ese mismo archivo (tareas/bob/0-test.md\") y trata de subir los cambios.\n",
    "\n",
    "- ¿Qué pasa?\n",
    "\n",
    "- ¿Qué hacer para mantener ambas contribuciones, preservando el autor de cada una?\n",
    "\n",
    "- Una vez que logren resolver los conflictos, manden un pull-request al repositorio del curso.\n"
   ]
  },
  {
   "cell_type": "markdown",
   "metadata": {},
   "source": [
    "[El ejercicio anterior motiva el concepto de \"ramas\" (*branch* en inglés)]."
   ]
  },
  {
   "cell_type": "markdown",
   "metadata": {},
   "source": [
    "### Ligas de interés"
   ]
  },
  {
   "cell_type": "markdown",
   "metadata": {},
   "source": [
    "- [Documentación](https://daringfireball.net/projects/markdown/syntax) de la sintaxis de markdown.\n",
    "\n",
    "- [GitGuys](http://www.gitguys.com): Aquí hay mucha información que puede ser de interés para iniciarse en `git`; en particular, incluye detalles para instalar `git` en cualquier plataforma.\n",
    "\n",
    "- [Documentación oficial](http://git-scm.com/doc)  de `git`: Este es el sitio oficial con toda la documentación sobre `git`.\n",
    "\n",
    "- [Guías en GitHub](https://guides.github.com/) con mucha información útil, al interactuar desde GitHub.\n",
    "\n",
    "- [Esta liga](http://tbaggery.com/2008/04/19/a-note-about-git-commit-messages.html) describe cómo debe ser el estilo de escritura de los *commits*.\n",
    "\n",
    "- [Think like (a) git](http://think-like-a-git.net/)\n",
    "\n",
    "\n",
    "Los siguientes links son tutoriales ampliamente recomendados:\n",
    "\n",
    "- [Become a git guru](https://www.atlassian.com/git/tutorials/)\n",
    "\n",
    "- [Learn git branching](http://pcottle.github.io/learnGitBranching/)"
   ]
  },
  {
   "cell_type": "code",
   "execution_count": null,
   "metadata": {
    "collapsed": true
   },
   "outputs": [],
   "source": []
  }
 ],
 "metadata": {
  "kernelspec": {
   "display_name": "Julia 0.4.2",
   "language": "julia",
   "name": "julia-0.4"
  },
  "language_info": {
   "file_extension": ".jl",
   "mimetype": "application/julia",
   "name": "julia",
   "version": "0.4.2"
  }
 },
 "nbformat": 4,
 "nbformat_minor": 0
}
