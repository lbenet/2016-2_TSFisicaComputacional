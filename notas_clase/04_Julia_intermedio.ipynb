{
 "cells": [
  {
   "cell_type": "markdown",
   "metadata": {},
   "source": [
    "# Julia nivel intermedio 1"
   ]
  },
  {
   "cell_type": "markdown",
   "metadata": {},
   "source": [
    "Hemos visto varias cosas:\n",
    "\n",
    "- variables, incluyendo diversos tipos numéricos(`Int64`, `Float64`, `BigFloat`, `Complex{Float64}`, `Rational{Int64}`), cadenas, vectores, matrices\n",
    "\n",
    "- ciclos (`for`...`end`) y rangos (`a:b`)\n",
    "\n",
    "- diversas formas de condicionales\n",
    "\n",
    "- funciones simples\n",
    "\n",
    "Seguiremos con esto, pero de una manera más sistemática enfatizando conceptos *julianos*."
   ]
  },
  {
   "cell_type": "markdown",
   "metadata": {},
   "source": [
    "Una pieza básica del curso se puede resumir en:\n",
    "\n",
    "> ## Learning by doing\n",
    "\n",
    "Piénsenlo y, sobre todo, ¡practíquenlo!"
   ]
  },
  {
   "cell_type": "markdown",
   "metadata": {},
   "source": [
    "## Ejemplo: el método de Newton"
   ]
  },
  {
   "cell_type": "markdown",
   "metadata": {},
   "source": [
    "Como bien sabemos, el método de Newton es un método iterativo para encontrar los ceros, o raíces, de una ecuación $f(x)=0$. A partir de una aproximación $x_0$, y denotando la derivada de $f(x)$ como $f'(x)$, tenemos:\n",
    "\n",
    "\\begin{equation}\n",
    "x_{n+1} = x_n - \\frac{f(x_n)}{f'(x_n)} .\n",
    "\\end{equation}\n",
    "\n"
   ]
  },
  {
   "cell_type": "markdown",
   "metadata": {},
   "source": [
    "Para ejemplificar las cosas usaremos la función $f(x) = x^2-2$:"
   ]
  },
  {
   "cell_type": "code",
   "execution_count": 144,
   "metadata": {
    "collapsed": false
   },
   "outputs": [
    {
     "data": {
      "text/plain": [
       "f (generic function with 1 method)"
      ]
     },
     "execution_count": 144,
     "metadata": {},
     "output_type": "execute_result"
    }
   ],
   "source": [
    "f(x) = x^2 - 2.0"
   ]
  },
  {
   "cell_type": "markdown",
   "metadata": {},
   "source": [
    "... y su derivada:"
   ]
  },
  {
   "cell_type": "code",
   "execution_count": 152,
   "metadata": {
    "collapsed": false
   },
   "outputs": [
    {
     "data": {
      "text/plain": [
       "f´ (generic function with 1 method)"
      ]
     },
     "execution_count": 152,
     "metadata": {},
     "output_type": "execute_result"
    }
   ],
   "source": [
    "f´(x) = 2*x"
   ]
  },
  {
   "cell_type": "markdown",
   "metadata": {},
   "source": [
    "Entonces, el método de Newton vendría dado por la función:"
   ]
  },
  {
   "cell_type": "code",
   "execution_count": 5,
   "metadata": {
    "collapsed": false
   },
   "outputs": [
    {
     "name": "stdout",
     "output_type": "stream",
     "text": [
      "1\t"
     ]
    }
   ],
   "source": [
    "x_0 = 3.0\n",
    "\n",
    "for i in 1:10\n",
    "    x_new = x_0 - f(x_0) / f´(x_0)\n",
    "    println(i, \"\\t\", x_new)\n",
    "    x_0 = x_new\n",
    "end"
   ]
  },
  {
   "cell_type": "code",
   "execution_count": 6,
   "metadata": {
    "collapsed": false
   },
   "outputs": [
    {
     "data": {
      "text/plain": [
       "1.4142135623730951"
      ]
     },
     "execution_count": 6,
     "metadata": {},
     "output_type": "execute_result"
    }
   ],
   "source": [
    "sqrt(2.0)"
   ]
  },
  {
   "cell_type": "markdown",
   "metadata": {},
   "source": [
    "Recordando la clase de cálculo I, el método de Newton sólo converge si $x_0$ es *suficientemente* cercano a la raíz. Veamos qué pasa si *variamos* la condición inicial $x_0$."
   ]
  },
  {
   "cell_type": "code",
   "execution_count": 7,
   "metadata": {
    "collapsed": false
   },
   "outputs": [
    {
     "name": "stdout",
     "output_type": "stream",
     "text": [
      "1.8333333333333333\n",
      "2\t1.4621212121212122\n",
      "3\t1.4149984298948028\n",
      "4\t1.4142137800471977\n",
      "5\t1.4142135623731118\n",
      "6\t1.414213562373095\n",
      "7\t1.4142135623730951\n",
      "8\t1.414213562373095\n",
      "9\t1.4142135623730951\n",
      "10\t1.414213562373095\n"
     ]
    },
    {
     "data": {
      "text/plain": [
       "-3.0:0.125:3.0"
      ]
     },
     "execution_count": 7,
     "metadata": {},
     "output_type": "execute_result"
    }
   ],
   "source": [
    "initial_guess = -3:0.125:3"
   ]
  },
  {
   "cell_type": "code",
   "execution_count": 8,
   "metadata": {
    "collapsed": false
   },
   "outputs": [
    {
     "data": {
      "text/plain": [
       "FloatRange{Float64}"
      ]
     },
     "execution_count": 8,
     "metadata": {},
     "output_type": "execute_result"
    }
   ],
   "source": [
    "typeof(initial_guess)"
   ]
  },
  {
   "cell_type": "code",
   "execution_count": 9,
   "metadata": {
    "collapsed": false
   },
   "outputs": [
    {
     "data": {
      "text/plain": [
       "49-element Array{Float64,1}:\n",
       " -3.0  \n",
       " -2.875\n",
       " -2.75 \n",
       " -2.625\n",
       " -2.5  \n",
       " -2.375\n",
       " -2.25 \n",
       " -2.125\n",
       " -2.0  \n",
       " -1.875\n",
       " -1.75 \n",
       " -1.625\n",
       " -1.5  \n",
       "  ⋮    \n",
       "  1.625\n",
       "  1.75 \n",
       "  1.875\n",
       "  2.0  \n",
       "  2.125\n",
       "  2.25 \n",
       "  2.375\n",
       "  2.5  \n",
       "  2.625\n",
       "  2.75 \n",
       "  2.875\n",
       "  3.0  "
      ]
     },
     "execution_count": 9,
     "metadata": {},
     "output_type": "execute_result"
    }
   ],
   "source": [
    "collect(initial_guess)   # use tab-completion <TAB> for long variable names!"
   ]
  },
  {
   "cell_type": "markdown",
   "metadata": {},
   "source": [
    "Defino el arreglo de salida que, entrada por entrada, corresponderá a las condiciones iniciales definidas en `initial_conditions`."
   ]
  },
  {
   "cell_type": "code",
   "execution_count": 10,
   "metadata": {
    "collapsed": false
   },
   "outputs": [
    {
     "data": {
      "text/plain": [
       "49-element Array{Float64,1}:\n",
       " 0.0\n",
       " 0.0\n",
       " 0.0\n",
       " 0.0\n",
       " 0.0\n",
       " 0.0\n",
       " 0.0\n",
       " 0.0\n",
       " 0.0\n",
       " 0.0\n",
       " 0.0\n",
       " 0.0\n",
       " 0.0\n",
       " ⋮  \n",
       " 0.0\n",
       " 0.0\n",
       " 0.0\n",
       " 0.0\n",
       " 0.0\n",
       " 0.0\n",
       " 0.0\n",
       " 0.0\n",
       " 0.0\n",
       " 0.0\n",
       " 0.0\n",
       " 0.0"
      ]
     },
     "execution_count": 10,
     "metadata": {},
     "output_type": "execute_result"
    }
   ],
   "source": [
    "roots = similar(initial_guess)"
   ]
  },
  {
   "cell_type": "markdown",
   "metadata": {},
   "source": [
    "El número de datos de `initial_guess` es precisamente 49:"
   ]
  },
  {
   "cell_type": "code",
   "execution_count": 11,
   "metadata": {
    "collapsed": false
   },
   "outputs": [
    {
     "data": {
      "text/plain": [
       "49"
      ]
     },
     "execution_count": 11,
     "metadata": {},
     "output_type": "execute_result"
    }
   ],
   "source": [
    "length(initial_guess)"
   ]
  },
  {
   "cell_type": "markdown",
   "metadata": {},
   "source": [
    "Ahora, implementamos todo junto; abajo, `enumerate(initial_conditions)` regresa una *tupla* con un enetero, que es el índice de la condición inicial (`j`), y su valor (`x_0`)"
   ]
  },
  {
   "cell_type": "code",
   "execution_count": 12,
   "metadata": {
    "collapsed": false
   },
   "outputs": [],
   "source": [
    "for (j, x_0) in enumerate(initial_guess)\n",
    "    x = x_0\n",
    "\n",
    "    # 100 iterates of Newton's method\n",
    "    for i in 1:100\n",
    "        x = x - f(x) / f´(x)\n",
    "    end\n",
    "    \n",
    "    roots[j] = x\n",
    "end"
   ]
  },
  {
   "cell_type": "markdown",
   "metadata": {},
   "source": [
    "Veamos los resultados:"
   ]
  },
  {
   "cell_type": "code",
   "execution_count": 13,
   "metadata": {
    "collapsed": false
   },
   "outputs": [
    {
     "name": "stdout",
     "output_type": "stream",
     "text": [
      "[-"
     ]
    }
   ],
   "source": [
    "showall(roots)"
   ]
  },
  {
   "cell_type": "markdown",
   "metadata": {},
   "source": [
    "**Pregunta:** ¿Por qué hay un `NaN`?"
   ]
  },
  {
   "cell_type": "markdown",
   "metadata": {},
   "source": [
    "** Resspuesta: ** Porque evaluó la derivada en cero para este caso $f'(0) = 0$--> `f(x)/0 = NaN`"
   ]
  },
  {
   "cell_type": "markdown",
   "metadata": {},
   "source": [
    "Ahora vamos a visualizar esto. Para eso usaremos el paquete \"PyPlot\", que es una interface para usar \"matplotlb\".\n",
    "\n",
    "Para instalarlo es necesario usar el siguiente comando:\n",
    "```julia\n",
    "    Pkg.add(\"PyPlot\")\n",
    "```\n",
    "\n",
    "Otros paquetes *registrados* se pueden encontrar [aquí](http://pkg.julialang.org/)."
   ]
  },
  {
   "cell_type": "markdown",
   "metadata": {},
   "source": [
    "Para empezar a usar un paquete, en este caso \"PyPlot\" usamos el comando:\n",
    "\n",
    "```julia\n",
    "    using PyPlot\n",
    "```\n",
    "\n",
    "(Puede tardar un poco la primera vez que se utiliza.)"
   ]
  },
  {
   "cell_type": "code",
   "execution_count": 14,
   "metadata": {
    "collapsed": false
   },
   "outputs": [],
   "source": [
    "using PyPlot"
   ]
  },
  {
   "cell_type": "code",
   "execution_count": 15,
   "metadata": {
    "collapsed": false
   },
   "outputs": [
    {
     "name": "stdout",
     "output_type": "stream",
     "text": [
      "1.414213562373095,-1.4142135623730951,-1.4142135623730951,-1.414213562373095,-1.4142135623730951,-1.4142135623730951,-1.414213562373095,-1.414213562373095,-1.414213562373095,-1.4142135623730951,-1.4142135623730951,-1.4142135623730951,-1.4142135623730951,-1.4142135623730951,-1.4142135623730951,-1.4142135623730951,-1.414213562373095,-1.4142135623730951,-1.414213562373095,-1.4142135623730951,-1.4142135623730951,-1.4142135623730951,-1.414213562373095,-1.4142135623730951,NaN,1.4142135623730951,1.414213562373095,1.4142135623730951,1.4142135623730951,1.4142135623730951,1.414213562373095,1.4142135623730951,1.414213562373095,1.4142135623730951,1.4142135623730951,1.4142135623730951,1.4142135623730951,1.4142135623730951,1.4142135623730951,1.4142135623730951,1.414213562373095,1.414213562373095,1.414213562373095,1.4142135623730951,1.4142135623730951,1.414213562373095,1.4142135623730951,1.4142135623730951,1.414213562373095]"
     ]
    },
    {
     "data": {
      "image/png": "[encoded data removed]",
      "text/plain": [
       "PyPlot.Figure(PyObject <matplotlib.figure.Figure object at 0x7f385e94a4a8>)"
      ]
     },
     "metadata": {},
     "output_type": "display_data"
    },
    {
     "data": {
      "text/plain": [
       "1-element Array{Any,1}:\n",
       " PyObject <matplotlib.lines.Line2D object at 0x7f385e858710>"
      ]
     },
     "execution_count": 15,
     "metadata": {},
     "output_type": "execute_result"
    }
   ],
   "source": [
    "figure(figsize=(6,4)) # este comando define el tamaño de la figura\n",
    "plot(roots)  # este pinta las componentes \"y\" (`roots`); en \"x\" se utiliza el índice del vector"
   ]
  },
  {
   "cell_type": "markdown",
   "metadata": {},
   "source": [
    "## Rendimiento"
   ]
  },
  {
   "cell_type": "markdown",
   "metadata": {},
   "source": [
    "Ahora, algo **muy** importante en julia, es que el alto rendimiento se da cuando uno hace el trabajo dentro de funciones, y **no** en el *global scope*.\n",
    "\n",
    "Así que lo anterior, lo empacamos dentro de una función."
   ]
  },
  {
   "cell_type": "code",
   "execution_count": 142,
   "metadata": {
    "collapsed": false
   },
   "outputs": [
    {
     "data": {
      "text/plain": [
       "compute_roots (generic function with 1 method)"
      ]
     },
     "execution_count": 142,
     "metadata": {},
     "output_type": "execute_result"
    }
   ],
   "source": [
    "\"\"\"\n",
    "This function computes the roots of `f(x)` (which must be defined before) for different initial \n",
    "iterates in the range [-20,20], and returns them packed in a vector.\n",
    "\"\"\"\n",
    "function compute_roots()\n",
    "    initial_conditions = -20:0.125:20\n",
    "    roots = similar(initial_conditions)\n",
    "\n",
    "    for (j, x_0) in enumerate(initial_conditions)\n",
    "        x = x_0\n",
    "\n",
    "        # 100 iterations of Newton's method\n",
    "        for i in 1:100\n",
    "            x = x - f(x) / f´(x)\n",
    "        end\n",
    "\n",
    "        roots[j] = x\n",
    "    end\n",
    "    \n",
    "    roots\n",
    "end"
   ]
  },
  {
   "cell_type": "markdown",
   "metadata": {},
   "source": [
    "Noten la salida de la definición de la función `compute_roots`:\n",
    "\n",
    "```\n",
    "    compute_roots (generic function with 1 method)\n",
    "```\n",
    "\n",
    "A esto volveremos más adelante..."
   ]
  },
  {
   "cell_type": "code",
   "execution_count": 17,
   "metadata": {
    "collapsed": false
   },
   "outputs": [
    {
     "name": "stdout",
     "output_type": "stream",
     "text": [
      "search: "
     ]
    },
    {
     "data": {
      "text/latex": [
       "This function computes the roots of \\texttt{f(x)} (which must be defined before) for different initial  iterates in the range [-20,20], and returns them packed in a vector.\n"
      ],
      "text/markdown": [
       "This function computes the roots of `f(x)` (which must be defined before) for different initial  iterates in the range [-20,20], and returns them packed in a vector.\n"
      ],
      "text/plain": [
       "This function computes the roots of `f(x)` (which must be defined before) for different initial  iterates in the range [-20,20], and returns them packed in a vector.\n"
      ]
     },
     "execution_count": 17,
     "metadata": {},
     "output_type": "execute_result"
    }
   ],
   "source": [
    "?compute_roots"
   ]
  },
  {
   "cell_type": "code",
   "execution_count": 18,
   "metadata": {
    "collapsed": false
   },
   "outputs": [
    {
     "name": "stdout",
     "output_type": "stream",
     "text": [
      "compute_roots\n",
      "\n"
     ]
    }
   ],
   "source": [
    "# \";\" quita la salida\n",
    "roots = compute_roots();"
   ]
  },
  {
   "cell_type": "markdown",
   "metadata": {},
   "source": [
    "¿Cuánto tiempo tardó esto?\n",
    "\n",
    "El *macro* `@time` permite precisamente medir el tiempo de ejecución.\n",
    "\n",
    "Julia *compila* cada función la primera vez que es utilizada. Es por eso que conviene compilar `@time`, y luego la ejecución de `@time` con la función que nos interesa medir. Así, para medir fehacientemente el tiempo de ejecución, es importante no incluir en esa medición la compilación de la función."
   ]
  },
  {
   "cell_type": "code",
   "execution_count": 19,
   "metadata": {
    "collapsed": false
   },
   "outputs": [
    {
     "name": "stdout",
     "output_type": "stream",
     "text": [
      "  "
     ]
    }
   ],
   "source": [
    "@time 1;"
   ]
  },
  {
   "cell_type": "code",
   "execution_count": 20,
   "metadata": {
    "collapsed": false
   },
   "outputs": [],
   "source": [
    "@time 1;"
   ]
  },
  {
   "cell_type": "markdown",
   "metadata": {},
   "source": [
    "Las dos ejecuciones anteriores muestran que, al compilar (primer ejecución), julia utiliza espacio de memoria; una vez compiladas las cosas, el uso de memoria disminuye de manera importante. Incidentalmente, el uso exagerado de memoria muestra que las cosas pueden ser hechas de mejor manera..."
   ]
  },
  {
   "cell_type": "code",
   "execution_count": 146,
   "metadata": {
    "collapsed": false
   },
   "outputs": [
    {
     "name": "stdout",
     "output_type": "stream",
     "text": [
      "  "
     ]
    },
    {
     "data": {
      "text/plain": [
       "321-element Array{Float64,1}:\n",
       " -1.41421\n",
       " -1.41421\n",
       " -1.41421\n",
       " -1.41421\n",
       " -1.41421\n",
       " -1.41421\n",
       " -1.41421\n",
       " -1.41421\n",
       " -1.41421\n",
       " -1.41421\n",
       " -1.41421\n",
       " -1.41421\n",
       " -1.41421\n",
       "  ⋮      \n",
       "  1.41421\n",
       "  1.41421\n",
       "  1.41421\n",
       "  1.41421\n",
       "  1.41421\n",
       "  1.41421\n",
       "  1.41421\n",
       "  1.41421\n",
       "  1.41421\n",
       "  1.41421\n",
       "  1.41421\n",
       "  1.41421"
      ]
     },
     "execution_count": 146,
     "metadata": {},
     "output_type": "execute_result"
    },
    {
     "name": "stdout",
     "output_type": "stream",
     "text": [
      "0.011106 seconds (129.74 k allocations: 2.008 MB)\n"
     ]
    }
   ],
   "source": [
    "@time compute_roots()"
   ]
  },
  {
   "cell_type": "code",
   "execution_count": 147,
   "metadata": {
    "collapsed": false
   },
   "outputs": [
    {
     "name": "stdout",
     "output_type": "stream",
     "text": [
      "  "
     ]
    },
    {
     "data": {
      "text/plain": [
       "321-element Array{Float64,1}:\n",
       " -1.41421\n",
       " -1.41421\n",
       " -1.41421\n",
       " -1.41421\n",
       " -1.41421\n",
       " -1.41421\n",
       " -1.41421\n",
       " -1.41421\n",
       " -1.41421\n",
       " -1.41421\n",
       " -1.41421\n",
       " -1.41421\n",
       " -1.41421\n",
       "  ⋮      \n",
       "  1.41421\n",
       "  1.41421\n",
       "  1.41421\n",
       "  1.41421\n",
       "  1.41421\n",
       "  1.41421\n",
       "  1.41421\n",
       "  1.41421\n",
       "  1.41421\n",
       "  1.41421\n",
       "  1.41421\n",
       "  1.41421"
      ]
     },
     "execution_count": 147,
     "metadata": {},
     "output_type": "execute_result"
    },
    {
     "name": "stdout",
     "output_type": "stream",
     "text": [
      "0.007233 seconds (129.05 k allocations: 1.972 MB)\n"
     ]
    }
   ],
   "source": [
    "@time compute_roots()"
   ]
  },
  {
   "cell_type": "markdown",
   "metadata": {},
   "source": [
    "**Ejercicio 4:** ¿Qué conviene más, usar un ciclo `for... end` o un ciclo `while... end` en la función `compute_roots()`, respecto al for más interno?"
   ]
  },
  {
   "cell_type": "markdown",
   "metadata": {
    "collapsed": true
   },
   "source": [
    "Usaremos la función `compute_roots()` para calcular las raíces empleando un ciclo `for`, para el ciclo `while` se implementará la función `compute_roots2()`"
   ]
  },
  {
   "cell_type": "code",
   "execution_count": 140,
   "metadata": {
    "collapsed": false
   },
   "outputs": [
    {
     "data": {
      "text/plain": [
       "compute_roots2 (generic function with 1 method)"
      ]
     },
     "execution_count": 140,
     "metadata": {},
     "output_type": "execute_result"
    }
   ],
   "source": [
    "\"\"\"\n",
    "This function computes the roots of `f(x)` (which must be defined before) for different initial \n",
    "iterates in the range [-20,20], and returns them packed in a vector.\n",
    "\"\"\"\n",
    "function compute_roots2()\n",
    "    initial_conditions = -20:0.125:20\n",
    "    roots = similar(initial_conditions)\n",
    "\n",
    "    for (j, x_0) in enumerate(initial_conditions)\n",
    "        x = x_0\n",
    "\n",
    "        # 100 iterations of Newton's method\n",
    "        i = 1\n",
    "        while i <101\n",
    "            x = x - f(x) / f´(x)\n",
    "            i += 1\n",
    "        end\n",
    "\n",
    "        roots[j] = x\n",
    "    end\n",
    "    \n",
    "    roots\n",
    "end"
   ]
  },
  {
   "cell_type": "code",
   "execution_count": 148,
   "metadata": {
    "collapsed": false
   },
   "outputs": [
    {
     "name": "stdout",
     "output_type": "stream",
     "text": [
      "  "
     ]
    },
    {
     "data": {
      "text/plain": [
       "321-element Array{Float64,1}:\n",
       " -1.41421\n",
       " -1.41421\n",
       " -1.41421\n",
       " -1.41421\n",
       " -1.41421\n",
       " -1.41421\n",
       " -1.41421\n",
       " -1.41421\n",
       " -1.41421\n",
       " -1.41421\n",
       " -1.41421\n",
       " -1.41421\n",
       " -1.41421\n",
       "  ⋮      \n",
       "  1.41421\n",
       "  1.41421\n",
       "  1.41421\n",
       "  1.41421\n",
       "  1.41421\n",
       "  1.41421\n",
       "  1.41421\n",
       "  1.41421\n",
       "  1.41421\n",
       "  1.41421\n",
       "  1.41421\n",
       "  1.41421"
      ]
     },
     "execution_count": 148,
     "metadata": {},
     "output_type": "execute_result"
    },
    {
     "name": "stdout",
     "output_type": "stream",
     "text": [
      "0.020141 seconds (5.62 k allocations: 272.530 KB)\n"
     ]
    }
   ],
   "source": [
    "@time compute_roots2()"
   ]
  },
  {
   "cell_type": "code",
   "execution_count": 149,
   "metadata": {
    "collapsed": false
   },
   "outputs": [
    {
     "name": "stdout",
     "output_type": "stream",
     "text": [
      "  "
     ]
    },
    {
     "data": {
      "text/plain": [
       "321-element Array{Float64,1}:\n",
       " -1.41421\n",
       " -1.41421\n",
       " -1.41421\n",
       " -1.41421\n",
       " -1.41421\n",
       " -1.41421\n",
       " -1.41421\n",
       " -1.41421\n",
       " -1.41421\n",
       " -1.41421\n",
       " -1.41421\n",
       " -1.41421\n",
       " -1.41421\n",
       "  ⋮      \n",
       "  1.41421\n",
       "  1.41421\n",
       "  1.41421\n",
       "  1.41421\n",
       "  1.41421\n",
       "  1.41421\n",
       "  1.41421\n",
       "  1.41421\n",
       "  1.41421\n",
       "  1.41421\n",
       "  1.41421\n",
       "  1.41421"
      ]
     },
     "execution_count": 149,
     "metadata": {},
     "output_type": "execute_result"
    },
    {
     "name": "stdout",
     "output_type": "stream",
     "text": [
      "0.014175 seconds (129.05 k allocations: 1.972 MB, 56.06% gc time)\n"
     ]
    }
   ],
   "source": [
    "@time compute_roots()"
   ]
  },
  {
   "cell_type": "markdown",
   "metadata": {},
   "source": [
    "** Respuesta: ** Evidentemente es más rápido emplear la función `compute_roots()` empleando un for pues hay un orden de magnitud de tiempo de diferencia. "
   ]
  },
  {
   "cell_type": "markdown",
   "metadata": {},
   "source": [
    "## Funciones genéricas"
   ]
  },
  {
   "cell_type": "markdown",
   "metadata": {},
   "source": [
    "Lo que hemos hecho hasta ahora está bien, pero *no* es muy genérico, en el sentido de que no es muy cómodo la implementación si queremos considerar distintas funciones `f(x)`.\n",
    "\n",
    "Para esto, *definimos* el siguiente *método* para la función `compute_roots`:"
   ]
  },
  {
   "cell_type": "code",
   "execution_count": 154,
   "metadata": {
    "collapsed": false
   },
   "outputs": [
    {
     "data": {
      "text/plain": [
       "compute_roots (generic function with 2 methods)"
      ]
     },
     "execution_count": 154,
     "metadata": {},
     "output_type": "execute_result"
    }
   ],
   "source": [
    "function compute_roots(f, f´)\n",
    "    initial_conditions = -20:0.125:20\n",
    "    roots = similar(initial_conditions)\n",
    "\n",
    "    for (j, x_0) in enumerate(initial_conditions)\n",
    "        x = x_0\n",
    "\n",
    "        # 100 iterations of Newton's method\n",
    "        for i in 1:100\n",
    "            x = x - f(x) / f´(x)\n",
    "        end\n",
    "\n",
    "        roots[j] = x\n",
    "    end\n",
    "    \n",
    "    roots\n",
    "end"
   ]
  },
  {
   "cell_type": "markdown",
   "metadata": {},
   "source": [
    "Es importante notar que, ahora, tenemos 2 métodos definidos para la *misma* función `compute_roots`. Esto es, **no** hemos sobreescrito la función `compute_roots`, sino que hemos creado un nuevo método. \n",
    "\n",
    "Los métodos se distinguen por el tipo de argumentos de la función: en un caso *no* hay ningún argumento, mientras que en el otro hay dos argumentos.\n",
    "\n",
    "La instrucción `methods` ayuda a saber cuántos métodos hay asociados a una función, incluyendo información sobre el tipo de los parámetros; esto último es la \"signatura de tipo\" (*type signature*)."
   ]
  },
  {
   "cell_type": "code",
   "execution_count": 155,
   "metadata": {
    "collapsed": false
   },
   "outputs": [
    {
     "data": {
      "text/html": [
       "2 methods for generic function <b>compute_roots</b>:<ul><li> compute_roots() at In[142]:6<li> compute_roots(f, f´) at In[154]:2</ul>"
      ],
      "text/plain": [
       "# 2 methods for generic function \"compute_roots\":\n",
       "compute_roots() at In[142]:6\n",
       "compute_roots(f, f´) at In[154]:2"
      ]
     },
     "execution_count": 155,
     "metadata": {},
     "output_type": "execute_result"
    }
   ],
   "source": [
    "methods(compute_roots)"
   ]
  },
  {
   "cell_type": "markdown",
   "metadata": {},
   "source": [
    "**Ejercicio 5:** ¿De qué tipo son las variables f y f´?"
   ]
  },
  {
   "cell_type": "markdown",
   "metadata": {
    "collapsed": true
   },
   "source": [
    "**Respuesta:** ¡Son funciones!"
   ]
  },
  {
   "cell_type": "code",
   "execution_count": 150,
   "metadata": {
    "collapsed": false
   },
   "outputs": [
    {
     "data": {
      "text/plain": [
       "Function"
      ]
     },
     "execution_count": 150,
     "metadata": {},
     "output_type": "execute_result"
    }
   ],
   "source": [
    "typeof(f)"
   ]
  },
  {
   "cell_type": "markdown",
   "metadata": {},
   "source": [
    "Ejecutamos ahora la nueva implementación de las funciones:"
   ]
  },
  {
   "cell_type": "code",
   "execution_count": 156,
   "metadata": {
    "collapsed": false
   },
   "outputs": [
    {
     "name": "stdout",
     "output_type": "stream",
     "text": [
      "  0.016673 seconds (136.24 k allocations: 2.304 MB)\n"
     ]
    }
   ],
   "source": [
    "@time compute_roots(f, f´);"
   ]
  },
  {
   "cell_type": "code",
   "execution_count": 157,
   "metadata": {
    "collapsed": false
   },
   "outputs": [
    {
     "name": "stdout",
     "output_type": "stream",
     "text": [
      "  0.004977 seconds (129.05 k allocations: 1.972 MB)\n"
     ]
    }
   ],
   "source": [
    "@time compute_roots(f, f´);"
   ]
  },
  {
   "cell_type": "markdown",
   "metadata": {},
   "source": [
    "Vale la pena notar que, la vieja implementación es más rápida que la nueva, incluyendo un peor uso de la memoria. Esto se debe a que julia *no* sabe cómo inferir el resultado de $f$ y $f'$... Esto, de hecho, se puede resolver, o mejorar, con lo que se llama *generated functions*."
   ]
  },
  {
   "cell_type": "markdown",
   "metadata": {},
   "source": [
    "En Julia hay otro manera de definir y usar funciones: las funciones anónimas. Por ejemplo:"
   ]
  },
  {
   "cell_type": "code",
   "execution_count": 158,
   "metadata": {
    "collapsed": false
   },
   "outputs": [
    {
     "name": "stdout",
     "output_type": "stream",
     "text": [
      "  0.008787 seconds (161.19 k allocations: 2.464 MB)\n"
     ]
    }
   ],
   "source": [
    "@time compute_roots(x->x^2-2, x->2x);"
   ]
  },
  {
   "cell_type": "code",
   "execution_count": 159,
   "metadata": {
    "collapsed": false
   },
   "outputs": [
    {
     "name": "stdout",
     "output_type": "stream",
     "text": [
      "  0.022067 seconds (161.19 k allocations: 2.464 MB)\n"
     ]
    }
   ],
   "source": [
    "@time compute_roots(x->x^2-2, x->2x);"
   ]
  },
  {
   "cell_type": "markdown",
   "metadata": {},
   "source": [
    "En este momento (versión 0.4 de julia), las funciones anónimas son aún lentas, pero se pueden hacer trucos para que funcionen mejor. Nuevamente, esto tiene que ver con el hecho de que julia no sabe el tipo de resultado de las funciones anónimas, en el momento de compilar la función.\n",
    "\n",
    "Hagamos otro ejemplo un poco más interesante:"
   ]
  },
  {
   "cell_type": "code",
   "execution_count": 29,
   "metadata": {
    "collapsed": false
   },
   "outputs": [],
   "source": [
    "@time roots = compute_roots( x -> (x-1)*(x-2)*(x-3), x->3x^2-12x+11);"
   ]
  },
  {
   "cell_type": "code",
   "execution_count": 30,
   "metadata": {
    "collapsed": false
   },
   "outputs": [],
   "source": [
    "@time roots = compute_roots( x -> (x-1)*(x-2)*(x-3), x->3x^2-12x+11);"
   ]
  },
  {
   "cell_type": "code",
   "execution_count": 31,
   "metadata": {
    "collapsed": false
   },
   "outputs": [
    {
     "data": {
      "image/png": "[encoded data removed]",
      "text/plain": [
       "PyPlot.Figure(PyObject <matplotlib.figure.Figure object at 0x7f385e88ee48>)"
      ]
     },
     "metadata": {},
     "output_type": "display_data"
    },
    {
     "data": {
      "text/plain": [
       "(0,4)"
      ]
     },
     "execution_count": 31,
     "metadata": {},
     "output_type": "execute_result"
    },
    {
     "name": "stdout",
     "output_type": "stream",
     "text": [
      "0.014947 seconds (136.45 k allocations: 2.307 MB)\n",
      "  0.002809 seconds (129.05 k allocations: 1.972 MB)\n",
      "  0.007600 seconds (161.23 k allocations: 2.467 MB)\n",
      "  0.007979 seconds (161.19 k allocations: 2.464 MB)\n",
      "  0.019001 seconds (354.65 k allocations: 5.444 MB)\n",
      "  0.022576 seconds (353.80 k allocations: 5.404 MB, 19.44% gc time)\n"
     ]
    }
   ],
   "source": [
    "figure(figsize=(6,4))\n",
    "plot(-20:0.125:20, roots)\n",
    "ylim(0,4)"
   ]
  },
  {
   "cell_type": "code",
   "execution_count": 32,
   "metadata": {
    "collapsed": false
   },
   "outputs": [
    {
     "data": {
      "image/png": "[encoded data removed]",
      "text/plain": [
       "PyPlot.Figure(PyObject <matplotlib.figure.Figure object at 0x7f385c05efd0>)"
      ]
     },
     "metadata": {},
     "output_type": "display_data"
    },
    {
     "data": {
      "text/plain": [
       "(1,3)"
      ]
     },
     "execution_count": 32,
     "metadata": {},
     "output_type": "execute_result"
    }
   ],
   "source": [
    "figure(figsize=(6,4))\n",
    "plot(-20:0.125:20, roots, \"g.-\")\n",
    "ylim(0,4)\n",
    "xlim(1,3)\n"
   ]
  },
  {
   "cell_type": "markdown",
   "metadata": {},
   "source": [
    "## El método de Newton sobre los complejos"
   ]
  },
  {
   "cell_type": "markdown",
   "metadata": {},
   "source": [
    "Ahora, implementaremos el método de Newton, para alguna función modelo ($f(z) = z^3-1$), pero usaremos condiciones iniciales en los complejos.\n",
    "\n",
    "Las condiciones iniciales, igual que antes, las definiremos a partir de un `FloatRange{Float64}`, que usaremos tanto para la parte real como para la parte imaginaria de $z_0$."
   ]
  },
  {
   "cell_type": "markdown",
   "metadata": {},
   "source": [
    "A priori podríamos proceder como antes. Sin embargo, hay *sutilezas*, ya que la salida `roots` no será un vector, sino una matriz."
   ]
  },
  {
   "cell_type": "code",
   "execution_count": 33,
   "metadata": {
    "collapsed": false
   },
   "outputs": [
    {
     "data": {
      "text/plain": [
       "f´ (generic function with 1 method)"
      ]
     },
     "execution_count": 33,
     "metadata": {},
     "output_type": "execute_result"
    }
   ],
   "source": [
    "f(z) = z^3-one(z)\n",
    "f´(z) = 3*z^2"
   ]
  },
  {
   "cell_type": "code",
   "execution_count": 34,
   "metadata": {
    "collapsed": false
   },
   "outputs": [
    {
     "name": "stdout",
     "output_type": "stream",
     "text": [
      "search: "
     ]
    },
    {
     "data": {
      "text/latex": [
       "\\begin{verbatim}\n",
       "one(x)\n",
       "\\end{verbatim}\n",
       "Get the multiplicative identity element for the type of \\texttt{x} (\\texttt{x} can also specify the type itself). For matrices, returns an identity matrix of the appropriate size and type.\n"
      ],
      "text/markdown": [
       "```\n",
       "one(x)\n",
       "```\n",
       "\n",
       "Get the multiplicative identity element for the type of `x` (`x` can also specify the type itself). For matrices, returns an identity matrix of the appropriate size and type.\n"
      ],
      "text/plain": [
       "```\n",
       "one(x)\n",
       "```\n",
       "\n",
       "Get the multiplicative identity element for the type of `x` (`x` can also specify the type itself). For matrices, returns an identity matrix of the appropriate size and type.\n"
      ]
     },
     "execution_count": 34,
     "metadata": {},
     "output_type": "execute_result"
    }
   ],
   "source": [
    "? one"
   ]
  },
  {
   "cell_type": "code",
   "execution_count": 35,
   "metadata": {
    "collapsed": false
   },
   "outputs": [
    {
     "data": {
      "text/plain": [
       "1 + 0im"
      ]
     },
     "execution_count": 35,
     "metadata": {},
     "output_type": "execute_result"
    }
   ],
   "source": [
    "r = 3 + im\n",
    "one(r)"
   ]
  },
  {
   "cell_type": "markdown",
   "metadata": {},
   "source": [
    "**NOTA**: La siguiente función necesita las funciones $f$ y $f'$, lo que permite usarlas en contextos más generales. Esto, como vimos antes, tiene una penalización en la ejecución."
   ]
  },
  {
   "cell_type": "code",
   "execution_count": 163,
   "metadata": {
    "collapsed": false
   },
   "outputs": [
    {
     "data": {
      "text/plain": [
       "compute_complex_roots1 (generic function with 2 methods)"
      ]
     },
     "execution_count": 163,
     "metadata": {},
     "output_type": "execute_result"
    }
   ],
   "source": [
    "function compute_complex_roots1(f, f´, range=-5.0:0.125:5.0)  # default value\n",
    "\n",
    "    L = length(range)\n",
    "    \n",
    "    #### VER EL EJERCICIO 6: Dos opciones para *declarar* `roots`:\n",
    "    ## Uno: definir la matriz, y tener todos los elementos inicialmente en cero\n",
    "    roots = zeros(Complex128, L, L)  # set a matrix of appropriate length to zero\n",
    "    ## Dos: definir *el tipo y dimensiones* de la matriz\n",
    "    #roots = Array(Complex128, L, L)\n",
    "\n",
    "    for (j, x) in enumerate(range)\n",
    "        for (i, y) in enumerate(range)\n",
    "            \n",
    "            z = x + y*im\n",
    "            \n",
    "            for k in 1:1000\n",
    "                z = z - f(z) / f´(z)\n",
    "            end\n",
    "            \n",
    "            roots[i,j] = z\n",
    "            \n",
    "        end\n",
    "    end\n",
    "    \n",
    "    roots\n",
    "end"
   ]
  },
  {
   "cell_type": "code",
   "execution_count": 164,
   "metadata": {
    "collapsed": false
   },
   "outputs": [
    {
     "data": {
      "text/plain": [
       "compute_complex_roots2 (generic function with 2 methods)"
      ]
     },
     "execution_count": 164,
     "metadata": {},
     "output_type": "execute_result"
    }
   ],
   "source": [
    "function compute_complex_roots2(f, f´, range=-5.0:0.125:5.0)  # default value\n",
    "\n",
    "    L = length(range)\n",
    "    \n",
    "    #### VER EL EJERCICIO 6: Dos opciones para *declarar* `roots`:\n",
    "    ## Uno: definir la matriz, y tener todos los elementos inicialmente en cero\n",
    "    #roots = zeros(Complex128, L, L)  # set a matrix of appropriate length to zero\n",
    "    ## Dos: definir *el tipo y dimensiones* de la matriz\n",
    "    roots = Array(Complex128, L, L)\n",
    "\n",
    "    for (j, x) in enumerate(range)\n",
    "        for (i, y) in enumerate(range)\n",
    "            \n",
    "            z = x + y*im\n",
    "            \n",
    "            for k in 1:1000\n",
    "                z = z - f(z) / f´(z)\n",
    "            end\n",
    "            \n",
    "            roots[i,j] = z\n",
    "            \n",
    "        end\n",
    "    end\n",
    "    \n",
    "    roots\n",
    "end"
   ]
  },
  {
   "cell_type": "code",
   "execution_count": 166,
   "metadata": {
    "collapsed": false
   },
   "outputs": [
    {
     "data": {
      "text/plain": [
       "compute_complex_roots3 (generic function with 2 methods)"
      ]
     },
     "execution_count": 166,
     "metadata": {},
     "output_type": "execute_result"
    }
   ],
   "source": [
    "function compute_complex_roots3(f, f´, range=-5.0:0.125:5.0)  # default value\n",
    "\n",
    "    L = length(range)\n",
    "    \n",
    "    #### VER EL EJERCICIO 6: Dos opciones para *declarar* `roots`:\n",
    "    ## Uno: definir la matriz, y tener todos los elementos inicialmente en cero\n",
    "    #roots = zeros(Complex128, L, L)  # set a matrix of appropriate length to zero\n",
    "    ## Dos: definir *el tipo y dimensiones* de la matriz\n",
    "    roots = Array(Complex128, L, L)\n",
    "\n",
    "    for (i, x) in enumerate(range)\n",
    "        for (j, y) in enumerate(range)\n",
    "            \n",
    "            z = x + y*im\n",
    "            \n",
    "            for k in 1:1000\n",
    "                z = z - f(z) / f´(z)\n",
    "            end\n",
    "            \n",
    "            roots[i,j] = z\n",
    "            \n",
    "        end\n",
    "    end\n",
    "    \n",
    "    roots\n",
    "end"
   ]
  },
  {
   "cell_type": "code",
   "execution_count": 167,
   "metadata": {
    "collapsed": false
   },
   "outputs": [
    {
     "data": {
      "text/plain": [
       "compute_complex_roots4 (generic function with 2 methods)"
      ]
     },
     "execution_count": 167,
     "metadata": {},
     "output_type": "execute_result"
    }
   ],
   "source": [
    "function compute_complex_roots4(f, f´, range=-5.0:0.125:5.0)  # default value\n",
    "\n",
    "    L = length(range)\n",
    "    \n",
    "    #### VER EL EJERCICIO 6: Dos opciones para *declarar* `roots`:\n",
    "    ## Uno: definir la matriz, y tener todos los elementos inicialmente en cero\n",
    "    roots = zeros(Complex128, L, L)  # set a matrix of appropriate length to zero\n",
    "    ## Dos: definir *el tipo y dimensiones* de la matriz\n",
    "    #roots = Array(Complex128, L, L)\n",
    "\n",
    "    for (i, x) in enumerate(range)\n",
    "        for (j, y) in enumerate(range)\n",
    "            \n",
    "            z = x + y*im\n",
    "            \n",
    "            for k in 1:1000\n",
    "                z = z - f(z) / f´(z)\n",
    "            end\n",
    "            \n",
    "            roots[i,j] = z\n",
    "            \n",
    "        end\n",
    "    end\n",
    "    \n",
    "    roots\n",
    "end"
   ]
  },
  {
   "cell_type": "code",
   "execution_count": 168,
   "metadata": {
    "collapsed": false
   },
   "outputs": [
    {
     "name": "stdout",
     "output_type": "stream",
     "text": [
      "  0.072919 seconds (509.25 k allocations: 15.877 MB, 9.54% gc time)\n"
     ]
    }
   ],
   "source": [
    "@time compute_complex_roots1(f, f´, -5.0:1.0:5.0);"
   ]
  },
  {
   "cell_type": "code",
   "execution_count": 176,
   "metadata": {
    "collapsed": false
   },
   "outputs": [
    {
     "name": "stdout",
     "output_type": "stream",
     "text": [
      "141.211860 seconds (4.01 G allocations: 119.522 GB, 16.62% gc time)\n"
     ]
    }
   ],
   "source": [
    "#Método 1: roots con zeros\n",
    "@time croots = compute_complex_roots1(f, f´, -5:0.01:5);"
   ]
  },
  {
   "cell_type": "code",
   "execution_count": 170,
   "metadata": {
    "collapsed": false
   },
   "outputs": [
    {
     "name": "stdout",
     "output_type": "stream",
     "text": [
      "  0.034891 seconds (499.90 k allocations: 15.465 MB, 12.13% gc time)\n"
     ]
    }
   ],
   "source": [
    "@time compute_complex_roots2(f, f´, -5.0:1.0:5.0);"
   ]
  },
  {
   "cell_type": "code",
   "execution_count": 177,
   "metadata": {
    "collapsed": false
   },
   "outputs": [
    {
     "name": "stdout",
     "output_type": "stream",
     "text": [
      "156.516231 seconds (4.01 G allocations: 119.522 GB, 15.97% gc time)\n"
     ]
    }
   ],
   "source": [
    "#Método 2: roots con array\n",
    "@time croots = compute_complex_roots2(f, f´, -5:0.01:5);"
   ]
  },
  {
   "cell_type": "code",
   "execution_count": 172,
   "metadata": {
    "collapsed": true
   },
   "outputs": [],
   "source": [
    "@time compute_complex_roots3(f, f´, -5.0:1.0:5.0);"
   ]
  },
  {
   "cell_type": "code",
   "execution_count": 180,
   "metadata": {
    "collapsed": false
   },
   "outputs": [
    {
     "name": "stdout",
     "output_type": "stream",
     "text": [
      "151.347525 seconds (4.01 G allocations: 119.522 GB, 16.19% gc time)\n"
     ]
    }
   ],
   "source": [
    "#Método 3: roots con array, cambiando indices\n",
    "@time croots = compute_complex_roots3(f, f´, -5:0.01:5);"
   ]
  },
  {
   "cell_type": "code",
   "execution_count": 174,
   "metadata": {
    "collapsed": true
   },
   "outputs": [],
   "source": [
    "@time compute_complex_roots4(f, f´, -5.0:1.0:5.0);"
   ]
  },
  {
   "cell_type": "code",
   "execution_count": 179,
   "metadata": {
    "collapsed": false
   },
   "outputs": [
    {
     "name": "stdout",
     "output_type": "stream",
     "text": [
      "144.148311 seconds (4.01 G allocations: 119.522 GB, 16.65% gc time)\n"
     ]
    }
   ],
   "source": [
    "#Método 4: roots con zeros, cambiando indices\n",
    "@time croots = compute_complex_roots4(f, f´, -5:0.01:5);"
   ]
  },
  {
   "cell_type": "markdown",
   "metadata": {},
   "source": [
    "**Ejercicio 6:** Encuentren la implementación más rápida de `compute_complex_roots` considerando:\n",
    "- Las dos opciones para definir inicialmente `roots`\n",
    "- Los índices (i,j) que aparecen en el doble ciclo, respecto a su orden en `roots`\n",
    "\n",
    "Entre las posibles implementaciones, ¿cuál es la diferencia en el tiempo (o el cociente) entre la implementación más rápida y la más lenta?\n",
    "\n",
    "¿Por qué `compute_complex_roots` tiene 2 métodos definidos?"
   ]
  },
  {
   "cell_type": "markdown",
   "metadata": {},
   "source": [
    "Emplearemos las funciones `compute_complex_rootsn()` $n\\in{1,2,3,4}$ para usar cada combinación en el uso de `Array` o `zeros` para la creación del arreglo en donde se guardarán los datos y cambio los índices internos.\n",
    "\n",
    "**Respuesta:** Al parecer el método más efectivo resultó ser el 1, es decir, emplear la función `zeros` para crear el arreglo y empleando el índice rápido en el loop más interno.\n",
    "\n",
    "`compute_complex_roots` tiene dos métodos porque tiene definido un valor de intervalo por default (esto genera un método), pero puede indicarse si se quiere trabajar en otro intervalo (generando el segundo método)"
   ]
  },
  {
   "cell_type": "markdown",
   "metadata": {},
   "source": [
    "Visualicemos los resultados: para esto usaremos `imshow`, que sirve para visualizar una matriz, y el código de colores lo definiremos a partir de la parte imaginaria de `roots`."
   ]
  },
  {
   "cell_type": "code",
   "execution_count": 42,
   "metadata": {
    "collapsed": true
   },
   "outputs": [],
   "source": [
    "using PyPlot"
   ]
  },
  {
   "cell_type": "code",
   "execution_count": 43,
   "metadata": {
    "collapsed": false
   },
   "outputs": [
    {
     "data": {
      "image/png": "[encoded data removed]",
      "text/plain": [
       "PyPlot.Figure(PyObject <matplotlib.figure.Figure object at 0x7f385bff22e8>)"
      ]
     },
     "metadata": {},
     "output_type": "display_data"
    },
    {
     "data": {
      "text/plain": [
       "PyObject <matplotlib.image.AxesImage object at 0x7f385bf98438>"
      ]
     },
     "execution_count": 43,
     "metadata": {},
     "output_type": "execute_result"
    },
    {
     "name": "stdout",
     "output_type": "stream",
     "text": [
      "252886 seconds (4.01 G allocations: 119.522 GB, 14.29% gc time)\n"
     ]
    }
   ],
   "source": [
    "imshow(imag(croots))"
   ]
  },
  {
   "cell_type": "markdown",
   "metadata": {},
   "source": [
    "Juguemos un poco con esto..."
   ]
  },
  {
   "cell_type": "code",
   "execution_count": 44,
   "metadata": {
    "collapsed": false
   },
   "outputs": [
    {
     "data": {
      "image/png": "[encoded data removed]",
      "text/plain": [
       "PyPlot.Figure(PyObject <matplotlib.figure.Figure object at 0x7f385bfd97b8>)"
      ]
     },
     "metadata": {},
     "output_type": "display_data"
    },
    {
     "data": {
      "text/plain": [
       "PyObject <matplotlib.image.AxesImage object at 0x7f385bf095f8>"
      ]
     },
     "execution_count": 44,
     "metadata": {},
     "output_type": "execute_result"
    }
   ],
   "source": [
    "imshow(imag(compute_complex_roots(f, f´, -0.3:0.001:0.7)))"
   ]
  },
  {
   "cell_type": "markdown",
   "metadata": {},
   "source": [
    "## Definición de nuevos tipos: gas de partículas en un caja"
   ]
  },
  {
   "cell_type": "markdown",
   "metadata": {},
   "source": [
    "Algo que definitivamente hasta ahora **no** hemos visto es cómo crear nuevos tipos. Esto es algo impresionantemente útil, ya que permite un arreglo compacto (y tal vez eficiente) de los datos que, si es así, se traduce en velocidad."
   ]
  },
  {
   "cell_type": "markdown",
   "metadata": {},
   "source": [
    "Como ilustración definiremos un tipo nuevo, `Vector2D`, que permite dar la posición, o velocidad, de una partícula *libre*."
   ]
  },
  {
   "cell_type": "markdown",
   "metadata": {},
   "source": [
    "### Los campos de un `type`"
   ]
  },
  {
   "cell_type": "markdown",
   "metadata": {},
   "source": [
    "Para entender un poco más lo que significa definir un nuevo tipo, consideremos los números complejos:"
   ]
  },
  {
   "cell_type": "code",
   "execution_count": 45,
   "metadata": {
    "collapsed": false
   },
   "outputs": [
    {
     "data": {
      "text/plain": [
       "3 + 2im"
      ]
     },
     "execution_count": 45,
     "metadata": {},
     "output_type": "execute_result"
    }
   ],
   "source": [
    "z0 = complex(3,2) # Esto es *mejor* que z=3+2im"
   ]
  },
  {
   "cell_type": "code",
   "execution_count": 46,
   "metadata": {
    "collapsed": false
   },
   "outputs": [
    {
     "data": {
      "text/plain": [
       "Complex{Int64}"
      ]
     },
     "execution_count": 46,
     "metadata": {},
     "output_type": "execute_result"
    }
   ],
   "source": [
    "typeof(ans)"
   ]
  },
  {
   "cell_type": "markdown",
   "metadata": {},
   "source": [
    "La instrucción `fieldnames` da los campos internos de un tipo; vale la pena notar que el resultado consiste en un vector de *símbolos*. Estos símbolos son los nombres de los campos internos del tipo."
   ]
  },
  {
   "cell_type": "code",
   "execution_count": 47,
   "metadata": {
    "collapsed": false
   },
   "outputs": [
    {
     "data": {
      "text/plain": [
       "2-element Array{Symbol,1}:\n",
       " :re\n",
       " :im"
      ]
     },
     "execution_count": 47,
     "metadata": {},
     "output_type": "execute_result"
    }
   ],
   "source": [
    "fieldnames(z0)"
   ]
  },
  {
   "cell_type": "code",
   "execution_count": 48,
   "metadata": {
    "collapsed": false
   },
   "outputs": [
    {
     "data": {
      "text/plain": [
       "(3,2)"
      ]
     },
     "execution_count": 48,
     "metadata": {},
     "output_type": "execute_result"
    }
   ],
   "source": [
    "z0.re, z0.im"
   ]
  },
  {
   "cell_type": "code",
   "execution_count": 49,
   "metadata": {
    "collapsed": false
   },
   "outputs": [
    {
     "data": {
      "text/plain": [
       "Tuple{Int64,Int64}"
      ]
     },
     "execution_count": 49,
     "metadata": {},
     "output_type": "execute_result"
    }
   ],
   "source": [
    "typeof(ans)"
   ]
  },
  {
   "cell_type": "markdown",
   "metadata": {},
   "source": [
    "### Vectores de tamaño fijo"
   ]
  },
  {
   "cell_type": "markdown",
   "metadata": {},
   "source": [
    "La sintáxis básica para definir nuevos tipos es:"
   ]
  },
  {
   "cell_type": "code",
   "execution_count": 50,
   "metadata": {
    "collapsed": true
   },
   "outputs": [],
   "source": [
    "type Vector2D\n",
    "    x :: Float64\n",
    "    y :: Float64\n",
    "end"
   ]
  },
  {
   "cell_type": "markdown",
   "metadata": {},
   "source": [
    "En la celda anterior, el doble dos-puntos, `::`, sirve para *anotar* el tipo de las variables internas. Esto es, `Vector2D` constará de dos componentes, `x` y `y`, ambas del tipo `Float64`."
   ]
  },
  {
   "cell_type": "markdown",
   "metadata": {},
   "source": [
    "Por **convención** es que las estructuras de tipo empiezan con una *mayúscula*; las funciones empiezan en *minúsculas*."
   ]
  },
  {
   "cell_type": "markdown",
   "metadata": {},
   "source": [
    "A estas alturas del partido, sólo hemos definido el tipo `Vector2D`; ¿hemos definido algún método asociado a ésto? O, en otras palabras, ¿cómo creamos algo que sea del tipo `Vector2D`?"
   ]
  },
  {
   "cell_type": "code",
   "execution_count": 51,
   "metadata": {
    "collapsed": false
   },
   "outputs": [
    {
     "data": {
      "text/plain": [
       "4-element Array{Any,1}:\n",
       " call(::Type{Vector2D}, x::Float64, y::Float64) at In[50]:2\n",
       " call(::Type{Vector2D}, x, y) at In[50]:2                  \n",
       " call{T}(::Type{T}, arg) at essentials.jl:56               \n",
       " call{T}(::Type{T}, args...) at essentials.jl:57           "
      ]
     },
     "execution_count": 51,
     "metadata": {},
     "output_type": "execute_result"
    }
   ],
   "source": [
    "methods(Vector2D)"
   ]
  },
  {
   "cell_type": "markdown",
   "metadata": {},
   "source": [
    "Usando el resultado de `methods`, probamos con la función `call`:"
   ]
  },
  {
   "cell_type": "code",
   "execution_count": 52,
   "metadata": {
    "collapsed": false
   },
   "outputs": [
    {
     "data": {
      "text/plain": [
       "Vector2D(1.0,2.0)"
      ]
     },
     "execution_count": 52,
     "metadata": {},
     "output_type": "execute_result"
    }
   ],
   "source": [
    "call(Vector2D, 1.0, 2.0)"
   ]
  },
  {
   "cell_type": "code",
   "execution_count": 53,
   "metadata": {
    "collapsed": false
   },
   "outputs": [
    {
     "data": {
      "text/plain": [
       "Vector2D(1.0,2.0)"
      ]
     },
     "execution_count": 53,
     "metadata": {},
     "output_type": "execute_result"
    }
   ],
   "source": [
    "call(Vector2D, 1, 2)"
   ]
  },
  {
   "cell_type": "code",
   "execution_count": 54,
   "metadata": {
    "collapsed": false
   },
   "outputs": [
    {
     "data": {
      "text/plain": [
       "Vector2D(1.0,2.0)"
      ]
     },
     "execution_count": 54,
     "metadata": {},
     "output_type": "execute_result"
    }
   ],
   "source": [
    "call(Vector2D, (1, 2)...) # \"...\" es el 'splat' operator"
   ]
  },
  {
   "cell_type": "markdown",
   "metadata": {},
   "source": [
    "La función `call` de hecho es la forma genérica de crear cualquier tipo; uno puede usar la forma *concreta*:"
   ]
  },
  {
   "cell_type": "code",
   "execution_count": 55,
   "metadata": {
    "collapsed": false
   },
   "outputs": [
    {
     "data": {
      "text/plain": [
       "Vector2D(1.0,4.0)"
      ]
     },
     "execution_count": 55,
     "metadata": {},
     "output_type": "execute_result"
    }
   ],
   "source": [
    "x = Vector2D(1, 4)"
   ]
  },
  {
   "cell_type": "code",
   "execution_count": 56,
   "metadata": {
    "collapsed": false
   },
   "outputs": [
    {
     "data": {
      "text/plain": [
       "Vector2D(5.0,6.0)"
      ]
     },
     "execution_count": 56,
     "metadata": {},
     "output_type": "execute_result"
    }
   ],
   "source": [
    "y = Vector2D(5, 6)"
   ]
  },
  {
   "cell_type": "code",
   "execution_count": 57,
   "metadata": {
    "collapsed": false
   },
   "outputs": [
    {
     "data": {
      "text/plain": [
       "2-element Array{Symbol,1}:\n",
       " :x\n",
       " :y"
      ]
     },
     "execution_count": 57,
     "metadata": {},
     "output_type": "execute_result"
    }
   ],
   "source": [
    "fieldnames(Vector2D)"
   ]
  },
  {
   "cell_type": "markdown",
   "metadata": {},
   "source": [
    "Vale la pena notar que uno puede modificar los campos internos de un tipo:"
   ]
  },
  {
   "cell_type": "code",
   "execution_count": 58,
   "metadata": {
    "collapsed": false
   },
   "outputs": [
    {
     "data": {
      "text/plain": [
       "3.0"
      ]
     },
     "execution_count": 58,
     "metadata": {},
     "output_type": "execute_result"
    }
   ],
   "source": [
    "x.x = 3"
   ]
  },
  {
   "cell_type": "code",
   "execution_count": 59,
   "metadata": {
    "collapsed": false
   },
   "outputs": [
    {
     "data": {
      "text/plain": [
       "Vector2D(3.0,4.0)"
      ]
     },
     "execution_count": 59,
     "metadata": {},
     "output_type": "execute_result"
    }
   ],
   "source": [
    "x"
   ]
  },
  {
   "cell_type": "markdown",
   "metadata": {},
   "source": [
    "Pensando que estas cantidades son vectores desplazamiento, o velocidades, quisiéramos sumarlos. Problemos que obtenemos..."
   ]
  },
  {
   "cell_type": "code",
   "execution_count": 60,
   "metadata": {
    "collapsed": false
   },
   "outputs": [
    {
     "ename": "LoadError",
     "evalue": "LoadError: MethodError: `+` has no method matching +(::Vector2D, ::Vector2D)\nClosest candidates are:\n  +(::Any, ::Any, !Matched::Any, !Matched::Any...)\nwhile loading In[60], in expression starting on line 1",
     "output_type": "error",
     "traceback": [
      "LoadError: MethodError: `+` has no method matching +(::Vector2D, ::Vector2D)\nClosest candidates are:\n  +(::Any, ::Any, !Matched::Any, !Matched::Any...)\nwhile loading In[60], in expression starting on line 1",
      ""
     ]
    }
   ],
   "source": [
    "x + y"
   ]
  },
  {
   "cell_type": "markdown",
   "metadata": {},
   "source": [
    "Julia nos da un error ya que *no* está definida la función `+` para los argumentos de tipo `Vector2D`; el mensaje de la primer línea es perfectamente claro.\n",
    "\n",
    "Entonces, cómo *no* está definido, y nos interesa usarlo, podemos simplemente definirlo."
   ]
  },
  {
   "cell_type": "code",
   "execution_count": 61,
   "metadata": {
    "collapsed": false
   },
   "outputs": [
    {
     "name": "stderr",
     "output_type": "stream",
     "text": [
      "WARNING: module Main should explicitly import + from Base\n"
     ]
    },
    {
     "data": {
      "text/plain": [
       "+ (generic function with 175 methods)"
      ]
     },
     "execution_count": 61,
     "metadata": {},
     "output_type": "execute_result"
    }
   ],
   "source": [
    "+(a::Vector2D, b::Vector2D) = Vector2D(a.x+b.x, a.y+b.y)"
   ]
  },
  {
   "cell_type": "markdown",
   "metadata": {},
   "source": [
    "(En un momento explicaremos el mensajo y cómo hacer las cosas bien.)"
   ]
  },
  {
   "cell_type": "code",
   "execution_count": 62,
   "metadata": {
    "collapsed": false
   },
   "outputs": [
    {
     "data": {
      "text/plain": [
       "Vector2D(8.0,10.0)"
      ]
     },
     "execution_count": 62,
     "metadata": {},
     "output_type": "execute_result"
    }
   ],
   "source": [
    "x + y"
   ]
  },
  {
   "cell_type": "markdown",
   "metadata": {},
   "source": [
    "¿Y si quieremos definir el producto interno, o sea, la función `dot`?"
   ]
  },
  {
   "cell_type": "code",
   "execution_count": 63,
   "metadata": {
    "collapsed": false
   },
   "outputs": [
    {
     "ename": "LoadError",
     "evalue": "LoadError: MethodError: `dot` has no method matching dot(::Vector2D, ::Vector2D)\nwhile loading In[63], in expression starting on line 1",
     "output_type": "error",
     "traceback": [
      "LoadError: MethodError: `dot` has no method matching dot(::Vector2D, ::Vector2D)\nwhile loading In[63], in expression starting on line 1",
      ""
     ]
    }
   ],
   "source": [
    "x ⋅ y # x \\cdot<TAB> y"
   ]
  },
  {
   "cell_type": "markdown",
   "metadata": {},
   "source": [
    "Entonces, tratamos de proceder de igualmanera"
   ]
  },
  {
   "cell_type": "code",
   "execution_count": 64,
   "metadata": {
    "collapsed": false
   },
   "outputs": [
    {
     "data": {
      "text/plain": [
       "dot (generic function with 1 method)"
      ]
     },
     "execution_count": 64,
     "metadata": {},
     "output_type": "execute_result"
    }
   ],
   "source": [
    "dot(a::Vector2D, b::Vector2D) = a.x*b.x + a.y*b.y"
   ]
  },
  {
   "cell_type": "code",
   "execution_count": 65,
   "metadata": {
    "collapsed": false
   },
   "outputs": [
    {
     "ename": "LoadError",
     "evalue": "LoadError: MethodError: `dot` has no method matching dot(::Vector2D, ::Vector2D)\nwhile loading In[65], in expression starting on line 1",
     "output_type": "error",
     "traceback": [
      "LoadError: MethodError: `dot` has no method matching dot(::Vector2D, ::Vector2D)\nwhile loading In[65], in expression starting on line 1",
      ""
     ]
    }
   ],
   "source": [
    "x ⋅ y"
   ]
  },
  {
   "cell_type": "code",
   "execution_count": 66,
   "metadata": {
    "collapsed": false
   },
   "outputs": [
    {
     "data": {
      "text/html": [
       "5 methods for generic function <b>dot</b>:<ul><li> dot(x::<b>Number</b>, y::<b>Number</b>) at <a href=\"https://github.com/JuliaLang/julia/tree/bb73f3489d837e3339fce2c1aab283d3b2e97a4c/base/linalg/generic.jl#L291\" target=\"_blank\">linalg/generic.jl:291</a><li> dot<i>{T<:Union{Float32,Float64},TI<:Integer}</i>(x::<b>Array{T<:Union{Float32,Float64},1}</b>, rx::<b>Union{Range{TI<:Integer},UnitRange{TI<:Integer}}</b>, y::<b>Array{T<:Union{Float32,Float64},1}</b>, ry::<b>Union{Range{TI<:Integer},UnitRange{TI<:Integer}}</b>) at <a href=\"https://github.com/JuliaLang/julia/tree/bb73f3489d837e3339fce2c1aab283d3b2e97a4c/base/linalg/matmul.jl#L50\" target=\"_blank\">linalg/matmul.jl:50</a><li> dot<i>{T<:Union{Complex{Float32},Complex{Float64}},TI<:Integer}</i>(x::<b>Array{T<:Union{Complex{Float32},Complex{Float64}},1}</b>, rx::<b>Union{Range{TI<:Integer},UnitRange{TI<:Integer}}</b>, y::<b>Array{T<:Union{Complex{Float32},Complex{Float64}},1}</b>, ry::<b>Union{Range{TI<:Integer},UnitRange{TI<:Integer}}</b>) at <a href=\"https://github.com/JuliaLang/julia/tree/bb73f3489d837e3339fce2c1aab283d3b2e97a4c/base/linalg/matmul.jl#L63\" target=\"_blank\">linalg/matmul.jl:63</a><li> dot(x::<b>BitArray{1}</b>, y::<b>BitArray{1}</b>) at <a href=\"https://github.com/JuliaLang/julia/tree/bb73f3489d837e3339fce2c1aab283d3b2e97a4c/base/linalg/bitarray.jl#L5\" target=\"_blank\">linalg/bitarray.jl:5</a><li> dot(x::<b>AbstractArray{T,1}</b>, y::<b>AbstractArray{T,1}</b>) at <a href=\"https://github.com/JuliaLang/julia/tree/bb73f3489d837e3339fce2c1aab283d3b2e97a4c/base/linalg/generic.jl#L292\" target=\"_blank\">linalg/generic.jl:292</a></ul>"
      ],
      "text/plain": [
       "# 5 methods for generic function \"dot\":\n",
       "dot(x::Number, y::Number) at linalg/generic.jl:291\n",
       "dot{T<:Union{Float32,Float64},TI<:Integer}(x::Array{T<:Union{Float32,Float64},1}, rx::Union{Range{TI<:Integer},UnitRange{TI<:Integer}}, y::Array{T<:Union{Float32,Float64},1}, ry::Union{Range{TI<:Integer},UnitRange{TI<:Integer}}) at linalg/matmul.jl:50\n",
       "dot{T<:Union{Complex{Float32},Complex{Float64}},TI<:Integer}(x::Array{T<:Union{Complex{Float32},Complex{Float64}},1}, rx::Union{Range{TI<:Integer},UnitRange{TI<:Integer}}, y::Array{T<:Union{Complex{Float32},Complex{Float64}},1}, ry::Union{Range{TI<:Integer},UnitRange{TI<:Integer}}) at linalg/matmul.jl:63\n",
       "dot(x::BitArray{1}, y::BitArray{1}) at linalg/bitarray.jl:5\n",
       "dot(x::AbstractArray{T,1}, y::AbstractArray{T,1}) at linalg/generic.jl:292"
      ]
     },
     "execution_count": 66,
     "metadata": {},
     "output_type": "execute_result"
    }
   ],
   "source": [
    "methods(Base.dot)"
   ]
  },
  {
   "cell_type": "markdown",
   "metadata": {},
   "source": [
    "Julia simplemente **no** nos permite si quiera definir esta función.\n",
    "\n",
    "La manera de proceder aquí es, extendiendo los métodos de `dot` al caso que nos interesa. Sin embargo, debemos *explícitamente* importar la función que será extendida. \n",
    "\n",
    "Una manera de hacer esto es:"
   ]
  },
  {
   "cell_type": "code",
   "execution_count": 67,
   "metadata": {
    "collapsed": false
   },
   "outputs": [
    {
     "data": {
      "text/plain": [
       "dot (generic function with 6 methods)"
      ]
     },
     "execution_count": 67,
     "metadata": {},
     "output_type": "execute_result"
    }
   ],
   "source": [
    "Base.dot(a::Vector2D, b::Vector2D) = a.x*b.x + a.y*b.y"
   ]
  },
  {
   "cell_type": "markdown",
   "metadata": {},
   "source": [
    "Esto está relacionado con el mensaje que apareció al definir `+(a::Vector2D, b::Vector2D)`. Lo correcto hubiera sido definirla usando:\n",
    "\n",
    "```julia\n",
    "Base.+(a::Vector2D, b::Vector2D)\n",
    "```\n",
    "\n",
    "Una manera alternativa, que a veces es más conveniente, es usando el comando\n",
    "\n",
    "```julia\n",
    "import Base.dot\n",
    "```\n",
    "\n",
    "cosa que debe ejecutarse *antes* de definir `dot`. Para ilustrar esto debemos *limpiar* el espacio de nombres en la sesión actual. Esto lo hacemos con `workspace()`, lo que casi equivale a resetear la sesión."
   ]
  },
  {
   "cell_type": "code",
   "execution_count": 68,
   "metadata": {
    "collapsed": true
   },
   "outputs": [],
   "source": [
    "workspace()"
   ]
  },
  {
   "cell_type": "code",
   "execution_count": 69,
   "metadata": {
    "collapsed": false
   },
   "outputs": [
    {
     "ename": "LoadError",
     "evalue": "LoadError: UndefVarError: x not defined\nwhile loading In[69], in expression starting on line 1",
     "output_type": "error",
     "traceback": [
      "LoadError: UndefVarError: x not defined\nwhile loading In[69], in expression starting on line 1",
      ""
     ]
    }
   ],
   "source": [
    "x"
   ]
  },
  {
   "cell_type": "code",
   "execution_count": 70,
   "metadata": {
    "collapsed": false
   },
   "outputs": [
    {
     "data": {
      "text/plain": [
       "dot (generic function with 6 methods)"
      ]
     },
     "execution_count": 70,
     "metadata": {},
     "output_type": "execute_result"
    }
   ],
   "source": [
    "dot"
   ]
  },
  {
   "cell_type": "code",
   "execution_count": 71,
   "metadata": {
    "collapsed": false
   },
   "outputs": [
    {
     "ename": "LoadError",
     "evalue": "LoadError: UndefVarError: Vector2D not defined\nwhile loading In[71], in expression starting on line 1",
     "output_type": "error",
     "traceback": [
      "LoadError: UndefVarError: Vector2D not defined\nwhile loading In[71], in expression starting on line 1",
      ""
     ]
    }
   ],
   "source": [
    "Vector2D"
   ]
  },
  {
   "cell_type": "code",
   "execution_count": 72,
   "metadata": {
    "collapsed": true
   },
   "outputs": [],
   "source": [
    "type Vector2D\n",
    "    x :: Float64\n",
    "    y :: Float64\n",
    "end"
   ]
  },
  {
   "cell_type": "code",
   "execution_count": 73,
   "metadata": {
    "collapsed": true
   },
   "outputs": [],
   "source": [
    "import Base: +, dot"
   ]
  },
  {
   "cell_type": "code",
   "execution_count": 74,
   "metadata": {
    "collapsed": false
   },
   "outputs": [
    {
     "data": {
      "text/plain": [
       "+ (generic function with 176 methods)"
      ]
     },
     "execution_count": 74,
     "metadata": {},
     "output_type": "execute_result"
    }
   ],
   "source": [
    "+(a::Vector2D, b::Vector2D) = Vector2D(a.x+b.x, a.y+b.y)"
   ]
  },
  {
   "cell_type": "code",
   "execution_count": 75,
   "metadata": {
    "collapsed": false
   },
   "outputs": [
    {
     "data": {
      "text/plain": [
       "dot (generic function with 7 methods)"
      ]
     },
     "execution_count": 75,
     "metadata": {},
     "output_type": "execute_result"
    }
   ],
   "source": [
    "dot(a::Vector2D, b::Vector2D) = a.x*b.x + a.y+b.y"
   ]
  },
  {
   "cell_type": "code",
   "execution_count": 76,
   "metadata": {
    "collapsed": false
   },
   "outputs": [
    {
     "data": {
      "text/html": [
       "7 methods for generic function <b>dot</b>:<ul><li> dot(x::<b>Number</b>, y::<b>Number</b>) at <a href=\"https://github.com/JuliaLang/julia/tree/bb73f3489d837e3339fce2c1aab283d3b2e97a4c/base/linalg/generic.jl#L291\" target=\"_blank\">linalg/generic.jl:291</a><li> dot<i>{T<:Union{Float32,Float64},TI<:Integer}</i>(x::<b>Array{T<:Union{Float32,Float64},1}</b>, rx::<b>Union{Range{TI<:Integer},UnitRange{TI<:Integer}}</b>, y::<b>Array{T<:Union{Float32,Float64},1}</b>, ry::<b>Union{Range{TI<:Integer},UnitRange{TI<:Integer}}</b>) at <a href=\"https://github.com/JuliaLang/julia/tree/bb73f3489d837e3339fce2c1aab283d3b2e97a4c/base/linalg/matmul.jl#L50\" target=\"_blank\">linalg/matmul.jl:50</a><li> dot<i>{T<:Union{Complex{Float32},Complex{Float64}},TI<:Integer}</i>(x::<b>Array{T<:Union{Complex{Float32},Complex{Float64}},1}</b>, rx::<b>Union{Range{TI<:Integer},UnitRange{TI<:Integer}}</b>, y::<b>Array{T<:Union{Complex{Float32},Complex{Float64}},1}</b>, ry::<b>Union{Range{TI<:Integer},UnitRange{TI<:Integer}}</b>) at <a href=\"https://github.com/JuliaLang/julia/tree/bb73f3489d837e3339fce2c1aab283d3b2e97a4c/base/linalg/matmul.jl#L63\" target=\"_blank\">linalg/matmul.jl:63</a><li> dot(x::<b>BitArray{1}</b>, y::<b>BitArray{1}</b>) at <a href=\"https://github.com/JuliaLang/julia/tree/bb73f3489d837e3339fce2c1aab283d3b2e97a4c/base/linalg/bitarray.jl#L5\" target=\"_blank\">linalg/bitarray.jl:5</a><li> dot(x::<b>AbstractArray{T,1}</b>, y::<b>AbstractArray{T,1}</b>) at <a href=\"https://github.com/JuliaLang/julia/tree/bb73f3489d837e3339fce2c1aab283d3b2e97a4c/base/linalg/generic.jl#L292\" target=\"_blank\">linalg/generic.jl:292</a><li> dot(a::<b>LastMain.Vector2D</b>, b::<b>LastMain.Vector2D</b>) at In[67]:1<li> dot(a::<b>Vector2D</b>, b::<b>Vector2D</b>) at In[75]:1</ul>"
      ],
      "text/plain": [
       "# 7 methods for generic function \"dot\":\n",
       "dot(x::Number, y::Number) at linalg/generic.jl:291\n",
       "dot{T<:Union{Float32,Float64},TI<:Integer}(x::Array{T<:Union{Float32,Float64},1}, rx::Union{Range{TI<:Integer},UnitRange{TI<:Integer}}, y::Array{T<:Union{Float32,Float64},1}, ry::Union{Range{TI<:Integer},UnitRange{TI<:Integer}}) at linalg/matmul.jl:50\n",
       "dot{T<:Union{Complex{Float32},Complex{Float64}},TI<:Integer}(x::Array{T<:Union{Complex{Float32},Complex{Float64}},1}, rx::Union{Range{TI<:Integer},UnitRange{TI<:Integer}}, y::Array{T<:Union{Complex{Float32},Complex{Float64}},1}, ry::Union{Range{TI<:Integer},UnitRange{TI<:Integer}}) at linalg/matmul.jl:63\n",
       "dot(x::BitArray{1}, y::BitArray{1}) at linalg/bitarray.jl:5\n",
       "dot(x::AbstractArray{T,1}, y::AbstractArray{T,1}) at linalg/generic.jl:292\n",
       "dot(a::LastMain.Vector2D, b::LastMain.Vector2D) at In[67]:1\n",
       "dot(a::Vector2D, b::Vector2D) at In[75]:1"
      ]
     },
     "execution_count": 76,
     "metadata": {},
     "output_type": "execute_result"
    }
   ],
   "source": [
    "methods(dot)"
   ]
  },
  {
   "cell_type": "code",
   "execution_count": 77,
   "metadata": {
    "collapsed": false
   },
   "outputs": [
    {
     "data": {
      "text/plain": [
       "Vector2D(5.0,6.0)"
      ]
     },
     "execution_count": 77,
     "metadata": {},
     "output_type": "execute_result"
    }
   ],
   "source": [
    "x = Vector2D(3, 4)\n",
    "y = Vector2D(5, 6)"
   ]
  },
  {
   "cell_type": "markdown",
   "metadata": {},
   "source": [
    "Para saber qué método utilizó cierta ejecución de algún código, por ejemplo, `Vector2D(3, 4)`, utilizo el macro `@which`:"
   ]
  },
  {
   "cell_type": "code",
   "execution_count": 78,
   "metadata": {
    "collapsed": false
   },
   "outputs": [
    {
     "data": {
      "text/html": [
       "call(::<b>Type{Vector2D}</b>, x, y) at In[72]:2"
      ],
      "text/plain": [
       "call(::Type{Vector2D}, x, y) at In[72]:2"
      ]
     },
     "execution_count": 78,
     "metadata": {},
     "output_type": "execute_result"
    }
   ],
   "source": [
    "@which Vector2D(3, 4)"
   ]
  },
  {
   "cell_type": "code",
   "execution_count": 79,
   "metadata": {
    "collapsed": false
   },
   "outputs": [
    {
     "data": {
      "text/plain": [
       "Vector2D(8.0,10.0)"
      ]
     },
     "execution_count": 79,
     "metadata": {},
     "output_type": "execute_result"
    }
   ],
   "source": [
    "x + y"
   ]
  },
  {
   "cell_type": "code",
   "execution_count": 80,
   "metadata": {
    "collapsed": false
   },
   "outputs": [
    {
     "data": {
      "text/plain": [
       "25.0"
      ]
     },
     "execution_count": 80,
     "metadata": {},
     "output_type": "execute_result"
    }
   ],
   "source": [
    "x ⋅ y"
   ]
  },
  {
   "cell_type": "markdown",
   "metadata": {},
   "source": [
    "### Tipos parametrizados"
   ]
  },
  {
   "cell_type": "markdown",
   "metadata": {},
   "source": [
    "Hay situaciones en que nos interesa definir un nuevo tipo para distintos tipos de signatura de los parámetros internos. Un ejemplo es `Complex` o `Rational`, pero de hecho también los arreglos son tipos que reconocen la estructura de los elementos internos que los componen:"
   ]
  },
  {
   "cell_type": "code",
   "execution_count": 81,
   "metadata": {
    "collapsed": false
   },
   "outputs": [
    {
     "data": {
      "text/plain": [
       "Complex{Float64}"
      ]
     },
     "execution_count": 81,
     "metadata": {},
     "output_type": "execute_result"
    }
   ],
   "source": [
    "typeof(complex(1.0,2.0))"
   ]
  },
  {
   "cell_type": "code",
   "execution_count": 82,
   "metadata": {
    "collapsed": false
   },
   "outputs": [
    {
     "data": {
      "text/plain": [
       "Complex{Int64}"
      ]
     },
     "execution_count": 82,
     "metadata": {},
     "output_type": "execute_result"
    }
   ],
   "source": [
    "typeof(complex(1,2))"
   ]
  },
  {
   "cell_type": "code",
   "execution_count": 83,
   "metadata": {
    "collapsed": false
   },
   "outputs": [
    {
     "data": {
      "text/plain": [
       "Array{Float64,1}"
      ]
     },
     "execution_count": 83,
     "metadata": {},
     "output_type": "execute_result"
    }
   ],
   "source": [
    "typeof([1, 2.1])"
   ]
  },
  {
   "cell_type": "markdown",
   "metadata": {},
   "source": [
    "Noten arriba que el entero \"1\" es *promovido* a Float64 \"1.0\", que es el tipo del segundo elemento."
   ]
  },
  {
   "cell_type": "code",
   "execution_count": 84,
   "metadata": {
    "collapsed": true
   },
   "outputs": [],
   "source": [
    "workspace()"
   ]
  },
  {
   "cell_type": "code",
   "execution_count": 85,
   "metadata": {
    "collapsed": true
   },
   "outputs": [],
   "source": [
    "immutable Vector2D{T}\n",
    "    x::T\n",
    "    y::T\n",
    "end"
   ]
  },
  {
   "cell_type": "markdown",
   "metadata": {},
   "source": [
    "Arriba, hemos usado `immutable` en lugar de `type`, lo que le permite al compilador guardar (en memoria) a este tipo de estructura de una manera más eficiente. Esto, sin embargo, tiene consecuencias, como es el hecho de que una vez definida una estructura, sus componentes *no* pueden cambiar.\n",
    "\n",
    "En la definición de `Vector2D`, `T` representa el tipo de la estructura que creamos y *parametriza* a `Vector2D` lo que se indica con `{T}`. Dada esta definición, ambas componentes `x` y `y` son del (mismo) tipo `T`."
   ]
  },
  {
   "cell_type": "code",
   "execution_count": 86,
   "metadata": {
    "collapsed": false
   },
   "outputs": [
    {
     "name": "stdout",
     "output_type": "stream",
     "text": [
      "Vector2D{"
     ]
    }
   ],
   "source": [
    "x = Vector2D(1,3)\n",
    "\n",
    "y = Vector2D(2.0,3.5)\n",
    "\n",
    "println(x)"
   ]
  },
  {
   "cell_type": "code",
   "execution_count": 87,
   "metadata": {
    "collapsed": false
   },
   "outputs": [
    {
     "ename": "LoadError",
     "evalue": "LoadError: type Vector2D is immutable\nwhile loading In[87], in expression starting on line 1",
     "output_type": "error",
     "traceback": [
      "LoadError: type Vector2D is immutable\nwhile loading In[87], in expression starting on line 1",
      ""
     ]
    }
   ],
   "source": [
    "x.x = 4"
   ]
  },
  {
   "cell_type": "markdown",
   "metadata": {},
   "source": [
    "El error se debe a que la estructura es inmutable, y que el tipo (`Int64` en este caso) también lo es; existen otras estructuras que *no* son inmutables."
   ]
  },
  {
   "cell_type": "markdown",
   "metadata": {},
   "source": [
    "Esto de ser inmutable no es raro: los números son inmutables (sino, uno podría redefinir \"2\"). \n",
    "\n",
    "Todo aquéllo que es mutable puede ser redefinido. Por ejemplo:"
   ]
  },
  {
   "cell_type": "code",
   "execution_count": 88,
   "metadata": {
    "collapsed": false
   },
   "outputs": [
    {
     "data": {
      "text/plain": [
       "2-element Array{Int64,1}:\n",
       " 1\n",
       " 3"
      ]
     },
     "execution_count": 88,
     "metadata": {},
     "output_type": "execute_result"
    }
   ],
   "source": [
    "v = [1,2]\n",
    "\n",
    "v[2] = 3\n",
    "\n",
    "v"
   ]
  },
  {
   "cell_type": "code",
   "execution_count": 89,
   "metadata": {
    "collapsed": false
   },
   "outputs": [
    {
     "name": "stdout",
     "output_type": "stream",
     "text": [
      "Int64}(1,3)\n"
     ]
    },
    {
     "data": {
      "text/plain": [
       "3-element Array{Int64,1}:\n",
       " 1\n",
       " 3\n",
       " 6"
      ]
     },
     "execution_count": 89,
     "metadata": {},
     "output_type": "execute_result"
    }
   ],
   "source": [
    "push!(v,6)"
   ]
  },
  {
   "cell_type": "markdown",
   "metadata": {},
   "source": [
    "Los vectores (o cualquier tipo de arreglos) son mutables. Las tuplas, en cambio, **no son** mutables; esto permite un manejo más eficiente del objeto en memoria."
   ]
  },
  {
   "cell_type": "code",
   "execution_count": 90,
   "metadata": {
    "collapsed": false
   },
   "outputs": [
    {
     "data": {
      "text/plain": [
       "(1,2)"
      ]
     },
     "execution_count": 90,
     "metadata": {},
     "output_type": "execute_result"
    }
   ],
   "source": [
    "tup = (1,2)"
   ]
  },
  {
   "cell_type": "code",
   "execution_count": 91,
   "metadata": {
    "collapsed": false
   },
   "outputs": [
    {
     "ename": "LoadError",
     "evalue": "LoadError: MethodError: `setindex!` has no method matching setindex!(::Tuple{Int64,Int64}, ::Int64, ::Int64)\nwhile loading In[91], in expression starting on line 1",
     "output_type": "error",
     "traceback": [
      "LoadError: MethodError: `setindex!` has no method matching setindex!(::Tuple{Int64,Int64}, ::Int64, ::Int64)\nwhile loading In[91], in expression starting on line 1",
      ""
     ]
    }
   ],
   "source": [
    "tup[1] = 2"
   ]
  },
  {
   "cell_type": "code",
   "execution_count": 92,
   "metadata": {
    "collapsed": false
   },
   "outputs": [
    {
     "data": {
      "text/plain": [
       "1"
      ]
     },
     "execution_count": 92,
     "metadata": {},
     "output_type": "execute_result"
    }
   ],
   "source": [
    "tup[1]"
   ]
  },
  {
   "cell_type": "markdown",
   "metadata": {},
   "source": [
    "El definir una estructura parametrizada hace que, por default, si los parámetros **no** cumplen la signatura del tipo, haya un error:"
   ]
  },
  {
   "cell_type": "code",
   "execution_count": 93,
   "metadata": {
    "collapsed": false
   },
   "outputs": [
    {
     "ename": "LoadError",
     "evalue": "LoadError: MethodError: `convert` has no method matching convert(::Type{Vector2D{T}}, ::Int64, ::Float64)\nThis may have arisen from a call to the constructor Vector2D{T}(...),\nsince type constructors fall back to convert methods.\nClosest candidates are:\n  Vector2D{T}(::T, !Matched::T)\n  call{T}(::Type{T}, ::Any)\n  convert{T}(::Type{T}, !Matched::T)\nwhile loading In[93], in expression starting on line 1",
     "output_type": "error",
     "traceback": [
      "LoadError: MethodError: `convert` has no method matching convert(::Type{Vector2D{T}}, ::Int64, ::Float64)\nThis may have arisen from a call to the constructor Vector2D{T}(...),\nsince type constructors fall back to convert methods.\nClosest candidates are:\n  Vector2D{T}(::T, !Matched::T)\n  call{T}(::Type{T}, ::Any)\n  convert{T}(::Type{T}, !Matched::T)\nwhile loading In[93], in expression starting on line 1",
      "",
      " in call at essentials.jl:57"
     ]
    }
   ],
   "source": [
    "Vector2D(1, 2.3)"
   ]
  },
  {
   "cell_type": "markdown",
   "metadata": {},
   "source": [
    "Noten que la actual definición de `Vector2D{T}` (parametrizada) es *demasiado* flexible, esto es, permite definir ciertos tipos que, quizás, no nos interesa considerar."
   ]
  },
  {
   "cell_type": "code",
   "execution_count": 94,
   "metadata": {
    "collapsed": false
   },
   "outputs": [
    {
     "data": {
      "text/plain": [
       "Vector2D{ASCIIString}(\"Soy\",\"Luis\")"
      ]
     },
     "execution_count": 94,
     "metadata": {},
     "output_type": "execute_result"
    }
   ],
   "source": [
    "Vector2D(\"Soy\", \"Luis\")"
   ]
  },
  {
   "cell_type": "markdown",
   "metadata": {},
   "source": [
    "Las funciones, de hecho, también pueden ser parametrizadas:"
   ]
  },
  {
   "cell_type": "code",
   "execution_count": 95,
   "metadata": {
    "collapsed": false
   },
   "outputs": [
    {
     "data": {
      "text/plain": [
       "+ (generic function with 177 methods)"
      ]
     },
     "execution_count": 95,
     "metadata": {},
     "output_type": "execute_result"
    }
   ],
   "source": [
    "import Base.+\n",
    "+{T}(a::Vector2D{T}, b::Vector2D{T}) = Vector2D{T}(a.x+b.x, a.y+b.y)"
   ]
  },
  {
   "cell_type": "markdown",
   "metadata": {},
   "source": [
    "Noten arriba que la función, de hecho, está parametrizada, y que el parámetro está relacionado con el parámetros del tipo de los argumentos. \n",
    "\n"
   ]
  },
  {
   "cell_type": "code",
   "execution_count": 96,
   "metadata": {
    "collapsed": false
   },
   "outputs": [
    {
     "data": {
      "text/plain": [
       "Vector2D{Int64}(0,5)"
      ]
     },
     "execution_count": 96,
     "metadata": {},
     "output_type": "execute_result"
    }
   ],
   "source": [
    "Vector2D(1,3) + Vector2D(-1,2)"
   ]
  },
  {
   "cell_type": "code",
   "execution_count": 97,
   "metadata": {
    "collapsed": false
   },
   "outputs": [
    {
     "ename": "LoadError",
     "evalue": "LoadError: MethodError: `+` has no method matching +(::Vector2D{Int64}, ::Vector2D{ASCIIString})\nClosest candidates are:\n  +(::Any, ::Any, !Matched::Any, !Matched::Any...)\n  +{T}(::Vector2D{T}, !Matched::Vector2D{T})\nwhile loading In[97], in expression starting on line 1",
     "output_type": "error",
     "traceback": [
      "LoadError: MethodError: `+` has no method matching +(::Vector2D{Int64}, ::Vector2D{ASCIIString})\nClosest candidates are:\n  +(::Any, ::Any, !Matched::Any, !Matched::Any...)\n  +{T}(::Vector2D{T}, !Matched::Vector2D{T})\nwhile loading In[97], in expression starting on line 1",
      ""
     ]
    }
   ],
   "source": [
    "Vector2D(1,3) + Vector2D(\"Soy\", \"Luis\")"
   ]
  },
  {
   "cell_type": "code",
   "execution_count": 98,
   "metadata": {
    "collapsed": false
   },
   "outputs": [
    {
     "ename": "LoadError",
     "evalue": "LoadError: MethodError: `+` has no method matching +(::Vector2D{Int64}, ::Vector2D{Float64})\nClosest candidates are:\n  +(::Any, ::Any, !Matched::Any, !Matched::Any...)\n  +{T}(::Vector2D{T}, !Matched::Vector2D{T})\nwhile loading In[98], in expression starting on line 1",
     "output_type": "error",
     "traceback": [
      "LoadError: MethodError: `+` has no method matching +(::Vector2D{Int64}, ::Vector2D{Float64})\nClosest candidates are:\n  +(::Any, ::Any, !Matched::Any, !Matched::Any...)\n  +{T}(::Vector2D{T}, !Matched::Vector2D{T})\nwhile loading In[98], in expression starting on line 1",
      ""
     ]
    }
   ],
   "source": [
    "Vector2D(1,3) + Vector2D(3.0,1.1)"
   ]
  },
  {
   "cell_type": "markdown",
   "metadata": {},
   "source": [
    "Uno, de hecho, podría haber definido la misma operación sin incluir la parte paramétrica; esto tiene consecuencias interesantes. Así, tenemos:"
   ]
  },
  {
   "cell_type": "code",
   "execution_count": 99,
   "metadata": {
    "collapsed": false
   },
   "outputs": [
    {
     "data": {
      "text/plain": [
       "- (generic function with 211 methods)"
      ]
     },
     "execution_count": 99,
     "metadata": {},
     "output_type": "execute_result"
    }
   ],
   "source": [
    "import Base.-\n",
    "-(a::Vector2D, b::Vector2D) = Vector2D(a.x-b.x, a.y-b.y)"
   ]
  },
  {
   "cell_type": "code",
   "execution_count": 100,
   "metadata": {
    "collapsed": false
   },
   "outputs": [
    {
     "data": {
      "text/plain": [
       "Vector2D{Int64}(2,1)"
      ]
     },
     "execution_count": 100,
     "metadata": {},
     "output_type": "execute_result"
    }
   ],
   "source": [
    "Vector2D(1,3) - Vector2D(-1,2)"
   ]
  },
  {
   "cell_type": "code",
   "execution_count": 101,
   "metadata": {
    "collapsed": false
   },
   "outputs": [
    {
     "data": {
      "text/plain": [
       "Vector2D{Float64}(-2.0,1.9)"
      ]
     },
     "execution_count": 101,
     "metadata": {},
     "output_type": "execute_result"
    }
   ],
   "source": [
    "Vector2D(1,3) - Vector2D(3.0,1.1)"
   ]
  },
  {
   "cell_type": "markdown",
   "metadata": {},
   "source": [
    "Gracias a que *no* impusimos que `a` y `b` sean *ambos* `Vector2D{T}`, julia puede restarlos."
   ]
  },
  {
   "cell_type": "markdown",
   "metadata": {},
   "source": [
    "### Promotion and convertion"
   ]
  },
  {
   "cell_type": "markdown",
   "metadata": {},
   "source": [
    "La pregunta es, cómo conseguir que *no* nos de un error la instrucción `Vector2D(1, 3.2)`. La respuesta tiene que ver con definir reglas de conversión y promoción. (En este caso concreto, como veremos abajo, una regla de promoción es suficiente.)"
   ]
  },
  {
   "cell_type": "markdown",
   "metadata": {},
   "source": [
    "Convertir entre tipos (donde esto tenga sentido) se logra usando `convert`:"
   ]
  },
  {
   "cell_type": "code",
   "execution_count": 102,
   "metadata": {
    "collapsed": false
   },
   "outputs": [
    {
     "data": {
      "text/plain": [
       "0.5"
      ]
     },
     "execution_count": 102,
     "metadata": {},
     "output_type": "execute_result"
    }
   ],
   "source": [
    "convert(Float64, 1//2)"
   ]
  },
  {
   "cell_type": "code",
   "execution_count": 103,
   "metadata": {
    "collapsed": false
   },
   "outputs": [
    {
     "data": {
      "text/plain": [
       "2-element Array{Float64,1}:\n",
       " 0.5     \n",
       " 0.333333"
      ]
     },
     "execution_count": 103,
     "metadata": {},
     "output_type": "execute_result"
    }
   ],
   "source": [
    "convert(Array{Float64,1}, [1//2, 1//3])"
   ]
  },
  {
   "cell_type": "code",
   "execution_count": 104,
   "metadata": {
    "collapsed": false
   },
   "outputs": [
    {
     "data": {
      "text/plain": [
       "1//2"
      ]
     },
     "execution_count": 104,
     "metadata": {},
     "output_type": "execute_result"
    }
   ],
   "source": [
    "x = convert(Rational{Int128}, 0.5)"
   ]
  },
  {
   "cell_type": "code",
   "execution_count": 105,
   "metadata": {
    "collapsed": false
   },
   "outputs": [
    {
     "data": {
      "text/plain": [
       "Rational{Int128}"
      ]
     },
     "execution_count": 105,
     "metadata": {},
     "output_type": "execute_result"
    }
   ],
   "source": [
    "typeof(x)"
   ]
  },
  {
   "cell_type": "markdown",
   "metadata": {},
   "source": [
    "La operación de conversión debe tener sentido; por ejemplo, ¿qué esperamos que nos de `convert(Int64, 0.6)`?"
   ]
  },
  {
   "cell_type": "code",
   "execution_count": 106,
   "metadata": {
    "collapsed": false
   },
   "outputs": [
    {
     "ename": "LoadError",
     "evalue": "LoadError: InexactError()\nwhile loading In[106], in expression starting on line 1",
     "output_type": "error",
     "traceback": [
      "LoadError: InexactError()\nwhile loading In[106], in expression starting on line 1",
      "",
      " in convert at int.jl:209"
     ]
    }
   ],
   "source": [
    "convert(Int64, 0.6)"
   ]
  },
  {
   "cell_type": "code",
   "execution_count": 107,
   "metadata": {
    "collapsed": false
   },
   "outputs": [
    {
     "data": {
      "text/html": [
       "635 methods for generic function <b>convert</b>:<ul><li> convert(::<b>Type{Tuple{}}</b>, ::<b>Tuple{}</b>) at <a href=\"https://github.com/JuliaLang/julia/tree/bb73f3489d837e3339fce2c1aab283d3b2e97a4c/base/essentials.jl#L61\" target=\"_blank\">essentials.jl:61</a><li> convert<i>{T<:Tuple{Any,Vararg{Any}}}</i>(::<b>Type{T<:Tuple{Any,Vararg{Any}}}</b>, x::<b>T<:Tuple{Any,Vararg{Any}}</b>) at <a href=\"https://github.com/JuliaLang/julia/tree/bb73f3489d837e3339fce2c1aab283d3b2e97a4c/base/essentials.jl#L98\" target=\"_blank\">essentials.jl:98</a><li> convert<i>{T<:Tuple{Any,Vararg{Any}}}</i>(::<b>Type{T<:Tuple{Any,Vararg{Any}}}</b>, x::<b>Tuple{Any,Vararg{Any}}</b>) at <a href=\"https://github.com/JuliaLang/julia/tree/bb73f3489d837e3339fce2c1aab283d3b2e97a4c/base/essentials.jl#L96\" target=\"_blank\">essentials.jl:96</a><li> convert(::<b>Type{Tuple}</b>, x::<b>Tuple</b>) at <a href=\"https://github.com/JuliaLang/julia/tree/bb73f3489d837e3339fce2c1aab283d3b2e97a4c/base/essentials.jl#L62\" target=\"_blank\">essentials.jl:62</a><li> convert<i>{T}</i>(::<b>Type{Tuple{Vararg{T}}}</b>, x::<b>Tuple</b>) at <a href=\"https://github.com/JuliaLang/julia/tree/bb73f3489d837e3339fce2c1aab283d3b2e97a4c/base/essentials.jl#L63\" target=\"_blank\">essentials.jl:63</a><li> convert<i>{T<:Union{Int8,UInt8}}</i>(::<b>Type{Cstring}</b>, p::<b>Ptr{T<:Union{Int8,UInt8}}</b>) at <a href=\"https://github.com/JuliaLang/julia/tree/bb73f3489d837e3339fce2c1aab283d3b2e97a4c/base/c.jl#L61\" target=\"_blank\">c.jl:61</a><li> convert(::<b>Type{Cwstring}</b>, p::<b>Ptr{Int32}</b>) at <a href=\"https://github.com/JuliaLang/julia/tree/bb73f3489d837e3339fce2c1aab283d3b2e97a4c/base/c.jl#L62\" target=\"_blank\">c.jl:62</a><li> convert<i>{T<:Union{Int8,UInt8}}</i>(::<b>Type{Ptr{T<:Union{Int8,UInt8}}}</b>, p::<b>Cstring</b>) at <a href=\"https://github.com/JuliaLang/julia/tree/bb73f3489d837e3339fce2c1aab283d3b2e97a4c/base/c.jl#L63\" target=\"_blank\">c.jl:63</a><li> convert(::<b>Type{Ptr{Int32}}</b>, p::<b>Cwstring</b>) at <a href=\"https://github.com/JuliaLang/julia/tree/bb73f3489d837e3339fce2c1aab283d3b2e97a4c/base/c.jl#L64\" target=\"_blank\">c.jl:64</a><li> convert(::<b>Type{Cstring}</b>, s::<b>Symbol</b>) at <a href=\"https://github.com/JuliaLang/julia/tree/bb73f3489d837e3339fce2c1aab283d3b2e97a4c/base/c.jl#L83\" target=\"_blank\">c.jl:83</a><li> convert<i>{T}</i>(::<b>Type{UnitRange{T}}</b>, r::<b>UnitRange{T}</b>) at <a href=\"https://github.com/JuliaLang/julia/tree/bb73f3489d837e3339fce2c1aab283d3b2e97a4c/base/range.jl#L587\" target=\"_blank\">range.jl:587</a><li> convert<i>{T}</i>(::<b>Type{UnitRange{T}}</b>, r::<b>UnitRange{T<:Real}</b>) at <a href=\"https://github.com/JuliaLang/julia/tree/bb73f3489d837e3339fce2c1aab283d3b2e97a4c/base/range.jl#L588\" target=\"_blank\">range.jl:588</a><li> convert<i>{T1,T2}</i>(::<b>Type{StepRange{T1,T2}}</b>, r::<b>StepRange{T1,T2}</b>) at <a href=\"https://github.com/JuliaLang/julia/tree/bb73f3489d837e3339fce2c1aab283d3b2e97a4c/base/range.jl#L592\" target=\"_blank\">range.jl:592</a><li> convert<i>{T}</i>(::<b>Type{StepRange{T,S}}</b>, r::<b>UnitRange{T}</b>) at <a href=\"https://github.com/JuliaLang/julia/tree/bb73f3489d837e3339fce2c1aab283d3b2e97a4c/base/range.jl#L598\" target=\"_blank\">range.jl:598</a><li> convert<i>{T1,T2}</i>(::<b>Type{StepRange{T1,T2}}</b>, r::<b>Range{T}</b>) at <a href=\"https://github.com/JuliaLang/julia/tree/bb73f3489d837e3339fce2c1aab283d3b2e97a4c/base/range.jl#L596\" target=\"_blank\">range.jl:596</a><li> convert<i>{T}</i>(::<b>Type{FloatRange{T}}</b>, r::<b>FloatRange{T}</b>) at <a href=\"https://github.com/JuliaLang/julia/tree/bb73f3489d837e3339fce2c1aab283d3b2e97a4c/base/range.jl#L603\" target=\"_blank\">range.jl:603</a><li> convert<i>{T}</i>(::<b>Type{FloatRange{T}}</b>, r::<b>FloatRange{T<:AbstractFloat}</b>) at <a href=\"https://github.com/JuliaLang/julia/tree/bb73f3489d837e3339fce2c1aab283d3b2e97a4c/base/range.jl#L604\" target=\"_blank\">range.jl:604</a><li> convert<i>{T}</i>(::<b>Type{FloatRange{T<:AbstractFloat}}</b>, r::<b>OrdinalRange{T,S}</b>) at <a href=\"https://github.com/JuliaLang/julia/tree/bb73f3489d837e3339fce2c1aab283d3b2e97a4c/base/range.jl#L611\" target=\"_blank\">range.jl:611</a><li> convert<i>{T}</i>(::<b>Type{FloatRange{T}}</b>, r::<b>OrdinalRange{T,S}</b>) at <a href=\"https://github.com/JuliaLang/julia/tree/bb73f3489d837e3339fce2c1aab283d3b2e97a4c/base/range.jl#L609\" target=\"_blank\">range.jl:609</a><li> convert<i>{T}</i>(::<b>Type{LinSpace{T}}</b>, r::<b>LinSpace{T}</b>) at <a href=\"https://github.com/JuliaLang/julia/tree/bb73f3489d837e3339fce2c1aab283d3b2e97a4c/base/range.jl#L616\" target=\"_blank\">range.jl:616</a><li> convert<i>{T}</i>(::<b>Type{LinSpace{T}}</b>, r::<b>LinSpace{T<:AbstractFloat}</b>) at <a href=\"https://github.com/JuliaLang/julia/tree/bb73f3489d837e3339fce2c1aab283d3b2e97a4c/base/range.jl#L617\" target=\"_blank\">range.jl:617</a><li> convert<i>{T}</i>(::<b>Type{LinSpace{T<:AbstractFloat}}</b>, r::<b>OrdinalRange{T,S}</b>) at <a href=\"https://github.com/JuliaLang/julia/tree/bb73f3489d837e3339fce2c1aab283d3b2e97a4c/base/range.jl#L624\" target=\"_blank\">range.jl:624</a><li> convert<i>{T}</i>(::<b>Type{LinSpace{T}}</b>, r::<b>OrdinalRange{T,S}</b>) at <a href=\"https://github.com/JuliaLang/julia/tree/bb73f3489d837e3339fce2c1aab283d3b2e97a4c/base/range.jl#L622\" target=\"_blank\">range.jl:622</a><li> convert<i>{T}</i>(::<b>Type{LinSpace{T}}</b>, r::<b>FloatRange{T<:AbstractFloat}</b>) at <a href=\"https://github.com/JuliaLang/julia/tree/bb73f3489d837e3339fce2c1aab283d3b2e97a4c/base/range.jl#L630\" target=\"_blank\">range.jl:630</a><li> convert<i>{T}</i>(::<b>Type{LinSpace{T<:AbstractFloat}}</b>, r::<b>FloatRange{T}</b>) at <a href=\"https://github.com/JuliaLang/julia/tree/bb73f3489d837e3339fce2c1aab283d3b2e97a4c/base/range.jl#L632\" target=\"_blank\">range.jl:632</a><li> convert<i>{T}</i>(::<b>Type{Array{T,1}}</b>, r::<b>Range{T}</b>) at <a href=\"https://github.com/JuliaLang/julia/tree/bb73f3489d837e3339fce2c1aab283d3b2e97a4c/base/range.jl#L671\" target=\"_blank\">range.jl:671</a><li> convert(::<b>Type{Bool}</b>, x::<b>Bool</b>) at <a href=\"https://github.com/JuliaLang/julia/tree/bb73f3489d837e3339fce2c1aab283d3b2e97a4c/base/bool.jl#L5\" target=\"_blank\">bool.jl:5</a><li> convert(::<b>Type{Bool}</b>, x::<b>Rational{T<:Integer}</b>) at <a href=\"https://github.com/JuliaLang/julia/tree/bb73f3489d837e3339fce2c1aab283d3b2e97a4c/base/rational.jl#L75\" target=\"_blank\">rational.jl:75</a><li> convert(::<b>Type{Bool}</b>, x::<b>Float16</b>) at <a href=\"https://github.com/JuliaLang/julia/tree/bb73f3489d837e3339fce2c1aab283d3b2e97a4c/base/float16.jl#L101\" target=\"_blank\">float16.jl:101</a><li> convert(::<b>Type{Bool}</b>, x::<b>BigFloat</b>) at <a href=\"https://github.com/JuliaLang/julia/tree/bb73f3489d837e3339fce2c1aab283d3b2e97a4c/base/mpfr.jl#L164\" target=\"_blank\">mpfr.jl:164</a><li> convert<i>{T,f}</i>(::<b>Type{Bool}</b>, x::<b>LastMain.LastMain.FixedPointNumbers.Fixed{T,f}</b>) at <a href=\"https://github.com/JeffBezanson/FixedPointNumbers.jl/tree/404d4bef6eb278b9a83aea5beeaa88a2f8333827/src/fixed.jl#L42\" target=\"_blank\">/home/daniel/.julia/v0.4/FixedPointNumbers/src/fixed.jl:42</a><li> convert(::<b>Type{Bool}</b>, x::<b>LastMain.LastMain.FixedPointNumbers.UFixed{T<:Unsigned,f}</b>) at <a href=\"https://github.com/JeffBezanson/FixedPointNumbers.jl/tree/404d4bef6eb278b9a83aea5beeaa88a2f8333827/src/ufixed.jl#L71\" target=\"_blank\">/home/daniel/.julia/v0.4/FixedPointNumbers/src/ufixed.jl:71</a><li> convert(::<b>Type{Bool}</b>, x::<b>Real</b>) at <a href=\"https://github.com/JuliaLang/julia/tree/bb73f3489d837e3339fce2c1aab283d3b2e97a4c/base/bool.jl#L6\" target=\"_blank\">bool.jl:6</a><li> convert(::<b>Type{Int8}</b>, x::<b>UInt8</b>) at <a href=\"https://github.com/JuliaLang/julia/tree/bb73f3489d837e3339fce2c1aab283d3b2e97a4c/base/int.jl#L193\" target=\"_blank\">int.jl:193</a><li> convert(::<b>Type{Int8}</b>, x::<b>Int16</b>) at <a href=\"https://github.com/JuliaLang/julia/tree/bb73f3489d837e3339fce2c1aab283d3b2e97a4c/base/int.jl#L172\" target=\"_blank\">int.jl:172</a><li> convert(::<b>Type{Int8}</b>, x::<b>UInt16</b>) at <a href=\"https://github.com/JuliaLang/julia/tree/bb73f3489d837e3339fce2c1aab283d3b2e97a4c/base/int.jl#L170\" target=\"_blank\">int.jl:170</a><li> convert(::<b>Type{Int8}</b>, x::<b>Int32</b>) at <a href=\"https://github.com/JuliaLang/julia/tree/bb73f3489d837e3339fce2c1aab283d3b2e97a4c/base/int.jl#L172\" target=\"_blank\">int.jl:172</a><li> convert(::<b>Type{Int8}</b>, x::<b>UInt32</b>) at <a href=\"https://github.com/JuliaLang/julia/tree/bb73f3489d837e3339fce2c1aab283d3b2e97a4c/base/int.jl#L170\" target=\"_blank\">int.jl:170</a><li> convert(::<b>Type{Int8}</b>, x::<b>Int64</b>) at <a href=\"https://github.com/JuliaLang/julia/tree/bb73f3489d837e3339fce2c1aab283d3b2e97a4c/base/int.jl#L172\" target=\"_blank\">int.jl:172</a><li> convert(::<b>Type{Int8}</b>, x::<b>UInt64</b>) at <a href=\"https://github.com/JuliaLang/julia/tree/bb73f3489d837e3339fce2c1aab283d3b2e97a4c/base/int.jl#L170\" target=\"_blank\">int.jl:170</a><li> convert(::<b>Type{Int8}</b>, x::<b>Int128</b>) at <a href=\"https://github.com/JuliaLang/julia/tree/bb73f3489d837e3339fce2c1aab283d3b2e97a4c/base/int.jl#L172\" target=\"_blank\">int.jl:172</a><li> convert(::<b>Type{Int8}</b>, x::<b>UInt128</b>) at <a href=\"https://github.com/JuliaLang/julia/tree/bb73f3489d837e3339fce2c1aab283d3b2e97a4c/base/int.jl#L170\" target=\"_blank\">int.jl:170</a><li> convert(::<b>Type{Int8}</b>, x::<b>Bool</b>) at <a href=\"https://github.com/JuliaLang/julia/tree/bb73f3489d837e3339fce2c1aab283d3b2e97a4c/base/int.jl#L187\" target=\"_blank\">int.jl:187</a><li> convert(::<b>Type{UInt8}</b>, x::<b>Int8</b>) at <a href=\"https://github.com/JuliaLang/julia/tree/bb73f3489d837e3339fce2c1aab283d3b2e97a4c/base/int.jl#L193\" target=\"_blank\">int.jl:193</a><li> convert(::<b>Type{UInt8}</b>, x::<b>Int16</b>) at <a href=\"https://github.com/JuliaLang/julia/tree/bb73f3489d837e3339fce2c1aab283d3b2e97a4c/base/int.jl#L175\" target=\"_blank\">int.jl:175</a><li> convert(::<b>Type{UInt8}</b>, x::<b>UInt16</b>) at <a href=\"https://github.com/JuliaLang/julia/tree/bb73f3489d837e3339fce2c1aab283d3b2e97a4c/base/int.jl#L175\" target=\"_blank\">int.jl:175</a><li> convert(::<b>Type{UInt8}</b>, x::<b>Int32</b>) at <a href=\"https://github.com/JuliaLang/julia/tree/bb73f3489d837e3339fce2c1aab283d3b2e97a4c/base/int.jl#L175\" target=\"_blank\">int.jl:175</a><li> convert(::<b>Type{UInt8}</b>, x::<b>UInt32</b>) at <a href=\"https://github.com/JuliaLang/julia/tree/bb73f3489d837e3339fce2c1aab283d3b2e97a4c/base/int.jl#L175\" target=\"_blank\">int.jl:175</a><li> convert(::<b>Type{UInt8}</b>, x::<b>Int64</b>) at <a href=\"https://github.com/JuliaLang/julia/tree/bb73f3489d837e3339fce2c1aab283d3b2e97a4c/base/int.jl#L175\" target=\"_blank\">int.jl:175</a><li> convert(::<b>Type{UInt8}</b>, x::<b>UInt64</b>) at <a href=\"https://github.com/JuliaLang/julia/tree/bb73f3489d837e3339fce2c1aab283d3b2e97a4c/base/int.jl#L175\" target=\"_blank\">int.jl:175</a><li> convert(::<b>Type{UInt8}</b>, x::<b>Int128</b>) at <a href=\"https://github.com/JuliaLang/julia/tree/bb73f3489d837e3339fce2c1aab283d3b2e97a4c/base/int.jl#L175\" target=\"_blank\">int.jl:175</a><li> convert(::<b>Type{UInt8}</b>, x::<b>UInt128</b>) at <a href=\"https://github.com/JuliaLang/julia/tree/bb73f3489d837e3339fce2c1aab283d3b2e97a4c/base/int.jl#L175\" target=\"_blank\">int.jl:175</a><li> convert(::<b>Type{UInt8}</b>, x::<b>Bool</b>) at <a href=\"https://github.com/JuliaLang/julia/tree/bb73f3489d837e3339fce2c1aab283d3b2e97a4c/base/int.jl#L187\" target=\"_blank\">int.jl:187</a><li> convert(::<b>Type{Int16}</b>, x::<b>Int8</b>) at <a href=\"https://github.com/JuliaLang/julia/tree/bb73f3489d837e3339fce2c1aab283d3b2e97a4c/base/int.jl#L183\" target=\"_blank\">int.jl:183</a><li> convert(::<b>Type{Int16}</b>, x::<b>UInt8</b>) at <a href=\"https://github.com/JuliaLang/julia/tree/bb73f3489d837e3339fce2c1aab283d3b2e97a4c/base/int.jl#L187\" target=\"_blank\">int.jl:187</a><li> convert(::<b>Type{Int16}</b>, x::<b>UInt16</b>) at <a href=\"https://github.com/JuliaLang/julia/tree/bb73f3489d837e3339fce2c1aab283d3b2e97a4c/base/int.jl#L193\" target=\"_blank\">int.jl:193</a><li> convert(::<b>Type{Int16}</b>, x::<b>Int32</b>) at <a href=\"https://github.com/JuliaLang/julia/tree/bb73f3489d837e3339fce2c1aab283d3b2e97a4c/base/int.jl#L172\" target=\"_blank\">int.jl:172</a><li> convert(::<b>Type{Int16}</b>, x::<b>UInt32</b>) at <a href=\"https://github.com/JuliaLang/julia/tree/bb73f3489d837e3339fce2c1aab283d3b2e97a4c/base/int.jl#L170\" target=\"_blank\">int.jl:170</a><li> convert(::<b>Type{Int16}</b>, x::<b>Int64</b>) at <a href=\"https://github.com/JuliaLang/julia/tree/bb73f3489d837e3339fce2c1aab283d3b2e97a4c/base/int.jl#L172\" target=\"_blank\">int.jl:172</a><li> convert(::<b>Type{Int16}</b>, x::<b>UInt64</b>) at <a href=\"https://github.com/JuliaLang/julia/tree/bb73f3489d837e3339fce2c1aab283d3b2e97a4c/base/int.jl#L170\" target=\"_blank\">int.jl:170</a><li> convert(::<b>Type{Int16}</b>, x::<b>Int128</b>) at <a href=\"https://github.com/JuliaLang/julia/tree/bb73f3489d837e3339fce2c1aab283d3b2e97a4c/base/int.jl#L172\" target=\"_blank\">int.jl:172</a><li> convert(::<b>Type{Int16}</b>, x::<b>UInt128</b>) at <a href=\"https://github.com/JuliaLang/julia/tree/bb73f3489d837e3339fce2c1aab283d3b2e97a4c/base/int.jl#L170\" target=\"_blank\">int.jl:170</a><li> convert(::<b>Type{Int16}</b>, x::<b>Bool</b>) at <a href=\"https://github.com/JuliaLang/julia/tree/bb73f3489d837e3339fce2c1aab283d3b2e97a4c/base/int.jl#L187\" target=\"_blank\">int.jl:187</a><li> convert(::<b>Type{UInt16}</b>, x::<b>Int8</b>) at <a href=\"https://github.com/JuliaLang/julia/tree/bb73f3489d837e3339fce2c1aab283d3b2e97a4c/base/int.jl#L181\" target=\"_blank\">int.jl:181</a><li> convert(::<b>Type{UInt16}</b>, x::<b>UInt8</b>) at <a href=\"https://github.com/JuliaLang/julia/tree/bb73f3489d837e3339fce2c1aab283d3b2e97a4c/base/int.jl#L187\" target=\"_blank\">int.jl:187</a><li> convert(::<b>Type{UInt16}</b>, x::<b>Int16</b>) at <a href=\"https://github.com/JuliaLang/julia/tree/bb73f3489d837e3339fce2c1aab283d3b2e97a4c/base/int.jl#L193\" target=\"_blank\">int.jl:193</a><li> convert(::<b>Type{UInt16}</b>, x::<b>Int32</b>) at <a href=\"https://github.com/JuliaLang/julia/tree/bb73f3489d837e3339fce2c1aab283d3b2e97a4c/base/int.jl#L175\" target=\"_blank\">int.jl:175</a><li> convert(::<b>Type{UInt16}</b>, x::<b>UInt32</b>) at <a href=\"https://github.com/JuliaLang/julia/tree/bb73f3489d837e3339fce2c1aab283d3b2e97a4c/base/int.jl#L175\" target=\"_blank\">int.jl:175</a><li> convert(::<b>Type{UInt16}</b>, x::<b>Int64</b>) at <a href=\"https://github.com/JuliaLang/julia/tree/bb73f3489d837e3339fce2c1aab283d3b2e97a4c/base/int.jl#L175\" target=\"_blank\">int.jl:175</a><li> convert(::<b>Type{UInt16}</b>, x::<b>UInt64</b>) at <a href=\"https://github.com/JuliaLang/julia/tree/bb73f3489d837e3339fce2c1aab283d3b2e97a4c/base/int.jl#L175\" target=\"_blank\">int.jl:175</a><li> convert(::<b>Type{UInt16}</b>, x::<b>Int128</b>) at <a href=\"https://github.com/JuliaLang/julia/tree/bb73f3489d837e3339fce2c1aab283d3b2e97a4c/base/int.jl#L175\" target=\"_blank\">int.jl:175</a><li> convert(::<b>Type{UInt16}</b>, x::<b>UInt128</b>) at <a href=\"https://github.com/JuliaLang/julia/tree/bb73f3489d837e3339fce2c1aab283d3b2e97a4c/base/int.jl#L175\" target=\"_blank\">int.jl:175</a><li> convert(::<b>Type{UInt16}</b>, x::<b>Bool</b>) at <a href=\"https://github.com/JuliaLang/julia/tree/bb73f3489d837e3339fce2c1aab283d3b2e97a4c/base/int.jl#L187\" target=\"_blank\">int.jl:187</a><li> convert(::<b>Type{Int32}</b>, x::<b>Int8</b>) at <a href=\"https://github.com/JuliaLang/julia/tree/bb73f3489d837e3339fce2c1aab283d3b2e97a4c/base/int.jl#L183\" target=\"_blank\">int.jl:183</a><li> convert(::<b>Type{Int32}</b>, x::<b>UInt8</b>) at <a href=\"https://github.com/JuliaLang/julia/tree/bb73f3489d837e3339fce2c1aab283d3b2e97a4c/base/int.jl#L187\" target=\"_blank\">int.jl:187</a><li> convert(::<b>Type{Int32}</b>, x::<b>Int16</b>) at <a href=\"https://github.com/JuliaLang/julia/tree/bb73f3489d837e3339fce2c1aab283d3b2e97a4c/base/int.jl#L183\" target=\"_blank\">int.jl:183</a><li> convert(::<b>Type{Int32}</b>, x::<b>UInt16</b>) at <a href=\"https://github.com/JuliaLang/julia/tree/bb73f3489d837e3339fce2c1aab283d3b2e97a4c/base/int.jl#L187\" target=\"_blank\">int.jl:187</a><li> convert(::<b>Type{Int32}</b>, x::<b>UInt32</b>) at <a href=\"https://github.com/JuliaLang/julia/tree/bb73f3489d837e3339fce2c1aab283d3b2e97a4c/base/int.jl#L193\" target=\"_blank\">int.jl:193</a><li> convert(::<b>Type{Int32}</b>, x::<b>Int64</b>) at <a href=\"https://github.com/JuliaLang/julia/tree/bb73f3489d837e3339fce2c1aab283d3b2e97a4c/base/int.jl#L172\" target=\"_blank\">int.jl:172</a><li> convert(::<b>Type{Int32}</b>, x::<b>UInt64</b>) at <a href=\"https://github.com/JuliaLang/julia/tree/bb73f3489d837e3339fce2c1aab283d3b2e97a4c/base/int.jl#L170\" target=\"_blank\">int.jl:170</a><li> convert(::<b>Type{Int32}</b>, x::<b>Int128</b>) at <a href=\"https://github.com/JuliaLang/julia/tree/bb73f3489d837e3339fce2c1aab283d3b2e97a4c/base/int.jl#L172\" target=\"_blank\">int.jl:172</a><li> convert(::<b>Type{Int32}</b>, x::<b>UInt128</b>) at <a href=\"https://github.com/JuliaLang/julia/tree/bb73f3489d837e3339fce2c1aab283d3b2e97a4c/base/int.jl#L170\" target=\"_blank\">int.jl:170</a><li> convert(::<b>Type{Int32}</b>, x::<b>Bool</b>) at <a href=\"https://github.com/JuliaLang/julia/tree/bb73f3489d837e3339fce2c1aab283d3b2e97a4c/base/int.jl#L187\" target=\"_blank\">int.jl:187</a><li> convert(::<b>Type{UInt32}</b>, x::<b>Int8</b>) at <a href=\"https://github.com/JuliaLang/julia/tree/bb73f3489d837e3339fce2c1aab283d3b2e97a4c/base/int.jl#L181\" target=\"_blank\">int.jl:181</a><li> convert(::<b>Type{UInt32}</b>, x::<b>UInt8</b>) at <a href=\"https://github.com/JuliaLang/julia/tree/bb73f3489d837e3339fce2c1aab283d3b2e97a4c/base/int.jl#L187\" target=\"_blank\">int.jl:187</a><li> convert(::<b>Type{UInt32}</b>, x::<b>Int16</b>) at <a href=\"https://github.com/JuliaLang/julia/tree/bb73f3489d837e3339fce2c1aab283d3b2e97a4c/base/int.jl#L181\" target=\"_blank\">int.jl:181</a><li> convert(::<b>Type{UInt32}</b>, x::<b>UInt16</b>) at <a href=\"https://github.com/JuliaLang/julia/tree/bb73f3489d837e3339fce2c1aab283d3b2e97a4c/base/int.jl#L187\" target=\"_blank\">int.jl:187</a><li> convert(::<b>Type{UInt32}</b>, x::<b>Int32</b>) at <a href=\"https://github.com/JuliaLang/julia/tree/bb73f3489d837e3339fce2c1aab283d3b2e97a4c/base/int.jl#L193\" target=\"_blank\">int.jl:193</a><li> convert(::<b>Type{UInt32}</b>, x::<b>Int64</b>) at <a href=\"https://github.com/JuliaLang/julia/tree/bb73f3489d837e3339fce2c1aab283d3b2e97a4c/base/int.jl#L175\" target=\"_blank\">int.jl:175</a><li> convert(::<b>Type{UInt32}</b>, x::<b>UInt64</b>) at <a href=\"https://github.com/JuliaLang/julia/tree/bb73f3489d837e3339fce2c1aab283d3b2e97a4c/base/int.jl#L175\" target=\"_blank\">int.jl:175</a><li> convert(::<b>Type{UInt32}</b>, x::<b>Int128</b>) at <a href=\"https://github.com/JuliaLang/julia/tree/bb73f3489d837e3339fce2c1aab283d3b2e97a4c/base/int.jl#L175\" target=\"_blank\">int.jl:175</a><li> convert(::<b>Type{UInt32}</b>, x::<b>UInt128</b>) at <a href=\"https://github.com/JuliaLang/julia/tree/bb73f3489d837e3339fce2c1aab283d3b2e97a4c/base/int.jl#L175\" target=\"_blank\">int.jl:175</a><li> convert(::<b>Type{UInt32}</b>, x::<b>Bool</b>) at <a href=\"https://github.com/JuliaLang/julia/tree/bb73f3489d837e3339fce2c1aab283d3b2e97a4c/base/int.jl#L187\" target=\"_blank\">int.jl:187</a><li> convert(::<b>Type{Int64}</b>, x::<b>Int8</b>) at <a href=\"https://github.com/JuliaLang/julia/tree/bb73f3489d837e3339fce2c1aab283d3b2e97a4c/base/int.jl#L183\" target=\"_blank\">int.jl:183</a><li> convert(::<b>Type{Int64}</b>, x::<b>UInt8</b>) at <a href=\"https://github.com/JuliaLang/julia/tree/bb73f3489d837e3339fce2c1aab283d3b2e97a4c/base/int.jl#L187\" target=\"_blank\">int.jl:187</a><li> convert(::<b>Type{Int64}</b>, x::<b>Int16</b>) at <a href=\"https://github.com/JuliaLang/julia/tree/bb73f3489d837e3339fce2c1aab283d3b2e97a4c/base/int.jl#L183\" target=\"_blank\">int.jl:183</a><li> convert(::<b>Type{Int64}</b>, x::<b>UInt16</b>) at <a href=\"https://github.com/JuliaLang/julia/tree/bb73f3489d837e3339fce2c1aab283d3b2e97a4c/base/int.jl#L187\" target=\"_blank\">int.jl:187</a><li> convert(::<b>Type{Int64}</b>, x::<b>Int32</b>) at <a href=\"https://github.com/JuliaLang/julia/tree/bb73f3489d837e3339fce2c1aab283d3b2e97a4c/base/int.jl#L183\" target=\"_blank\">int.jl:183</a><li> convert(::<b>Type{Int64}</b>, x::<b>UInt32</b>) at <a href=\"https://github.com/JuliaLang/julia/tree/bb73f3489d837e3339fce2c1aab283d3b2e97a4c/base/int.jl#L187\" target=\"_blank\">int.jl:187</a><li> convert(::<b>Type{Int64}</b>, x::<b>UInt64</b>) at <a href=\"https://github.com/JuliaLang/julia/tree/bb73f3489d837e3339fce2c1aab283d3b2e97a4c/base/int.jl#L193\" target=\"_blank\">int.jl:193</a><li> convert(::<b>Type{Int64}</b>, x::<b>Int128</b>) at <a href=\"https://github.com/JuliaLang/julia/tree/bb73f3489d837e3339fce2c1aab283d3b2e97a4c/base/int.jl#L172\" target=\"_blank\">int.jl:172</a><li> convert(::<b>Type{Int64}</b>, x::<b>UInt128</b>) at <a href=\"https://github.com/JuliaLang/julia/tree/bb73f3489d837e3339fce2c1aab283d3b2e97a4c/base/int.jl#L170\" target=\"_blank\">int.jl:170</a><li> convert(::<b>Type{Int64}</b>, x::<b>Bool</b>) at <a href=\"https://github.com/JuliaLang/julia/tree/bb73f3489d837e3339fce2c1aab283d3b2e97a4c/base/int.jl#L187\" target=\"_blank\">int.jl:187</a><li> convert(::<b>Type{UInt64}</b>, x::<b>Int8</b>) at <a href=\"https://github.com/JuliaLang/julia/tree/bb73f3489d837e3339fce2c1aab283d3b2e97a4c/base/int.jl#L181\" target=\"_blank\">int.jl:181</a><li> convert(::<b>Type{UInt64}</b>, x::<b>UInt8</b>) at <a href=\"https://github.com/JuliaLang/julia/tree/bb73f3489d837e3339fce2c1aab283d3b2e97a4c/base/int.jl#L187\" target=\"_blank\">int.jl:187</a><li> convert(::<b>Type{UInt64}</b>, x::<b>Int16</b>) at <a href=\"https://github.com/JuliaLang/julia/tree/bb73f3489d837e3339fce2c1aab283d3b2e97a4c/base/int.jl#L181\" target=\"_blank\">int.jl:181</a><li> convert(::<b>Type{UInt64}</b>, x::<b>UInt16</b>) at <a href=\"https://github.com/JuliaLang/julia/tree/bb73f3489d837e3339fce2c1aab283d3b2e97a4c/base/int.jl#L187\" target=\"_blank\">int.jl:187</a><li> convert(::<b>Type{UInt64}</b>, x::<b>Int32</b>) at <a href=\"https://github.com/JuliaLang/julia/tree/bb73f3489d837e3339fce2c1aab283d3b2e97a4c/base/int.jl#L181\" target=\"_blank\">int.jl:181</a><li> convert(::<b>Type{UInt64}</b>, x::<b>UInt32</b>) at <a href=\"https://github.com/JuliaLang/julia/tree/bb73f3489d837e3339fce2c1aab283d3b2e97a4c/base/int.jl#L187\" target=\"_blank\">int.jl:187</a><li> convert(::<b>Type{UInt64}</b>, x::<b>Int64</b>) at <a href=\"https://github.com/JuliaLang/julia/tree/bb73f3489d837e3339fce2c1aab283d3b2e97a4c/base/int.jl#L193\" target=\"_blank\">int.jl:193</a><li> convert(::<b>Type{UInt64}</b>, x::<b>Int128</b>) at <a href=\"https://github.com/JuliaLang/julia/tree/bb73f3489d837e3339fce2c1aab283d3b2e97a4c/base/int.jl#L175\" target=\"_blank\">int.jl:175</a><li> convert(::<b>Type{UInt64}</b>, x::<b>UInt128</b>) at <a href=\"https://github.com/JuliaLang/julia/tree/bb73f3489d837e3339fce2c1aab283d3b2e97a4c/base/int.jl#L175\" target=\"_blank\">int.jl:175</a><li> convert(::<b>Type{UInt64}</b>, x::<b>Bool</b>) at <a href=\"https://github.com/JuliaLang/julia/tree/bb73f3489d837e3339fce2c1aab283d3b2e97a4c/base/int.jl#L187\" target=\"_blank\">int.jl:187</a><li> convert(::<b>Type{Int128}</b>, x::<b>Int8</b>) at <a href=\"https://github.com/JuliaLang/julia/tree/bb73f3489d837e3339fce2c1aab283d3b2e97a4c/base/int.jl#L183\" target=\"_blank\">int.jl:183</a><li> convert(::<b>Type{Int128}</b>, x::<b>UInt8</b>) at <a href=\"https://github.com/JuliaLang/julia/tree/bb73f3489d837e3339fce2c1aab283d3b2e97a4c/base/int.jl#L187\" target=\"_blank\">int.jl:187</a><li> convert(::<b>Type{Int128}</b>, x::<b>Int16</b>) at <a href=\"https://github.com/JuliaLang/julia/tree/bb73f3489d837e3339fce2c1aab283d3b2e97a4c/base/int.jl#L183\" target=\"_blank\">int.jl:183</a><li> convert(::<b>Type{Int128}</b>, x::<b>UInt16</b>) at <a href=\"https://github.com/JuliaLang/julia/tree/bb73f3489d837e3339fce2c1aab283d3b2e97a4c/base/int.jl#L187\" target=\"_blank\">int.jl:187</a><li> convert(::<b>Type{Int128}</b>, x::<b>Int32</b>) at <a href=\"https://github.com/JuliaLang/julia/tree/bb73f3489d837e3339fce2c1aab283d3b2e97a4c/base/int.jl#L183\" target=\"_blank\">int.jl:183</a><li> convert(::<b>Type{Int128}</b>, x::<b>UInt32</b>) at <a href=\"https://github.com/JuliaLang/julia/tree/bb73f3489d837e3339fce2c1aab283d3b2e97a4c/base/int.jl#L187\" target=\"_blank\">int.jl:187</a><li> convert(::<b>Type{Int128}</b>, x::<b>Int64</b>) at <a href=\"https://github.com/JuliaLang/julia/tree/bb73f3489d837e3339fce2c1aab283d3b2e97a4c/base/int.jl#L183\" target=\"_blank\">int.jl:183</a><li> convert(::<b>Type{Int128}</b>, x::<b>UInt64</b>) at <a href=\"https://github.com/JuliaLang/julia/tree/bb73f3489d837e3339fce2c1aab283d3b2e97a4c/base/int.jl#L187\" target=\"_blank\">int.jl:187</a><li> convert(::<b>Type{Int128}</b>, x::<b>UInt128</b>) at <a href=\"https://github.com/JuliaLang/julia/tree/bb73f3489d837e3339fce2c1aab283d3b2e97a4c/base/int.jl#L193\" target=\"_blank\">int.jl:193</a><li> convert(::<b>Type{Int128}</b>, x::<b>Bool</b>) at <a href=\"https://github.com/JuliaLang/julia/tree/bb73f3489d837e3339fce2c1aab283d3b2e97a4c/base/int.jl#L187\" target=\"_blank\">int.jl:187</a><li> convert(::<b>Type{UInt128}</b>, x::<b>Int8</b>) at <a href=\"https://github.com/JuliaLang/julia/tree/bb73f3489d837e3339fce2c1aab283d3b2e97a4c/base/int.jl#L181\" target=\"_blank\">int.jl:181</a><li> convert(::<b>Type{UInt128}</b>, x::<b>UInt8</b>) at <a href=\"https://github.com/JuliaLang/julia/tree/bb73f3489d837e3339fce2c1aab283d3b2e97a4c/base/int.jl#L187\" target=\"_blank\">int.jl:187</a><li> convert(::<b>Type{UInt128}</b>, x::<b>Int16</b>) at <a href=\"https://github.com/JuliaLang/julia/tree/bb73f3489d837e3339fce2c1aab283d3b2e97a4c/base/int.jl#L181\" target=\"_blank\">int.jl:181</a><li> convert(::<b>Type{UInt128}</b>, x::<b>UInt16</b>) at <a href=\"https://github.com/JuliaLang/julia/tree/bb73f3489d837e3339fce2c1aab283d3b2e97a4c/base/int.jl#L187\" target=\"_blank\">int.jl:187</a><li> convert(::<b>Type{UInt128}</b>, x::<b>Int32</b>) at <a href=\"https://github.com/JuliaLang/julia/tree/bb73f3489d837e3339fce2c1aab283d3b2e97a4c/base/int.jl#L181\" target=\"_blank\">int.jl:181</a><li> convert(::<b>Type{UInt128}</b>, x::<b>UInt32</b>) at <a href=\"https://github.com/JuliaLang/julia/tree/bb73f3489d837e3339fce2c1aab283d3b2e97a4c/base/int.jl#L187\" target=\"_blank\">int.jl:187</a><li> convert(::<b>Type{UInt128}</b>, x::<b>Int64</b>) at <a href=\"https://github.com/JuliaLang/julia/tree/bb73f3489d837e3339fce2c1aab283d3b2e97a4c/base/int.jl#L181\" target=\"_blank\">int.jl:181</a><li> convert(::<b>Type{UInt128}</b>, x::<b>UInt64</b>) at <a href=\"https://github.com/JuliaLang/julia/tree/bb73f3489d837e3339fce2c1aab283d3b2e97a4c/base/int.jl#L187\" target=\"_blank\">int.jl:187</a><li> convert(::<b>Type{UInt128}</b>, x::<b>Int128</b>) at <a href=\"https://github.com/JuliaLang/julia/tree/bb73f3489d837e3339fce2c1aab283d3b2e97a4c/base/int.jl#L193\" target=\"_blank\">int.jl:193</a><li> convert(::<b>Type{UInt128}</b>, x::<b>Bool</b>) at <a href=\"https://github.com/JuliaLang/julia/tree/bb73f3489d837e3339fce2c1aab283d3b2e97a4c/base/int.jl#L187\" target=\"_blank\">int.jl:187</a><li> convert(::<b>Type{Int8}</b>, x::<b>Float32</b>) at <a href=\"https://github.com/JuliaLang/julia/tree/bb73f3489d837e3339fce2c1aab283d3b2e97a4c/base/int.jl#L208\" target=\"_blank\">int.jl:208</a><li> convert(::<b>Type{Int8}</b>, x::<b>Float64</b>) at <a href=\"https://github.com/JuliaLang/julia/tree/bb73f3489d837e3339fce2c1aab283d3b2e97a4c/base/int.jl#L209\" target=\"_blank\">int.jl:209</a><li> convert(::<b>Type{Int16}</b>, x::<b>Float32</b>) at <a href=\"https://github.com/JuliaLang/julia/tree/bb73f3489d837e3339fce2c1aab283d3b2e97a4c/base/int.jl#L208\" target=\"_blank\">int.jl:208</a><li> convert(::<b>Type{Int16}</b>, x::<b>Float64</b>) at <a href=\"https://github.com/JuliaLang/julia/tree/bb73f3489d837e3339fce2c1aab283d3b2e97a4c/base/int.jl#L209\" target=\"_blank\">int.jl:209</a><li> convert(::<b>Type{Int32}</b>, x::<b>Float32</b>) at <a href=\"https://github.com/JuliaLang/julia/tree/bb73f3489d837e3339fce2c1aab283d3b2e97a4c/base/int.jl#L208\" target=\"_blank\">int.jl:208</a><li> convert(::<b>Type{Int32}</b>, x::<b>Float64</b>) at <a href=\"https://github.com/JuliaLang/julia/tree/bb73f3489d837e3339fce2c1aab283d3b2e97a4c/base/int.jl#L209\" target=\"_blank\">int.jl:209</a><li> convert(::<b>Type{Int64}</b>, x::<b>Float32</b>) at <a href=\"https://github.com/JuliaLang/julia/tree/bb73f3489d837e3339fce2c1aab283d3b2e97a4c/base/int.jl#L208\" target=\"_blank\">int.jl:208</a><li> convert(::<b>Type{Int64}</b>, x::<b>Float64</b>) at <a href=\"https://github.com/JuliaLang/julia/tree/bb73f3489d837e3339fce2c1aab283d3b2e97a4c/base/int.jl#L209\" target=\"_blank\">int.jl:209</a><li> convert(::<b>Type{UInt8}</b>, x::<b>Float32</b>) at <a href=\"https://github.com/JuliaLang/julia/tree/bb73f3489d837e3339fce2c1aab283d3b2e97a4c/base/int.jl#L215\" target=\"_blank\">int.jl:215</a><li> convert(::<b>Type{UInt8}</b>, x::<b>Float64</b>) at <a href=\"https://github.com/JuliaLang/julia/tree/bb73f3489d837e3339fce2c1aab283d3b2e97a4c/base/int.jl#L216\" target=\"_blank\">int.jl:216</a><li> convert(::<b>Type{UInt16}</b>, x::<b>Float32</b>) at <a href=\"https://github.com/JuliaLang/julia/tree/bb73f3489d837e3339fce2c1aab283d3b2e97a4c/base/int.jl#L215\" target=\"_blank\">int.jl:215</a><li> convert(::<b>Type{UInt16}</b>, x::<b>Float64</b>) at <a href=\"https://github.com/JuliaLang/julia/tree/bb73f3489d837e3339fce2c1aab283d3b2e97a4c/base/int.jl#L216\" target=\"_blank\">int.jl:216</a><li> convert(::<b>Type{UInt32}</b>, x::<b>Float32</b>) at <a href=\"https://github.com/JuliaLang/julia/tree/bb73f3489d837e3339fce2c1aab283d3b2e97a4c/base/int.jl#L215\" target=\"_blank\">int.jl:215</a><li> convert(::<b>Type{UInt32}</b>, x::<b>Float64</b>) at <a href=\"https://github.com/JuliaLang/julia/tree/bb73f3489d837e3339fce2c1aab283d3b2e97a4c/base/int.jl#L216\" target=\"_blank\">int.jl:216</a><li> convert(::<b>Type{UInt64}</b>, x::<b>Float32</b>) at <a href=\"https://github.com/JuliaLang/julia/tree/bb73f3489d837e3339fce2c1aab283d3b2e97a4c/base/int.jl#L215\" target=\"_blank\">int.jl:215</a><li> convert(::<b>Type{UInt64}</b>, x::<b>Float64</b>) at <a href=\"https://github.com/JuliaLang/julia/tree/bb73f3489d837e3339fce2c1aab283d3b2e97a4c/base/int.jl#L216\" target=\"_blank\">int.jl:216</a><li> convert(::<b>Type{Int128}</b>, x::<b>Float32</b>) at <a href=\"https://github.com/JuliaLang/julia/tree/bb73f3489d837e3339fce2c1aab283d3b2e97a4c/base/int.jl#L223\" target=\"_blank\">int.jl:223</a><li> convert(::<b>Type{Int128}</b>, x::<b>Float64</b>) at <a href=\"https://github.com/JuliaLang/julia/tree/bb73f3489d837e3339fce2c1aab283d3b2e97a4c/base/int.jl#L223\" target=\"_blank\">int.jl:223</a><li> convert(::<b>Type{UInt128}</b>, x::<b>Float32</b>) at <a href=\"https://github.com/JuliaLang/julia/tree/bb73f3489d837e3339fce2c1aab283d3b2e97a4c/base/int.jl#L223\" target=\"_blank\">int.jl:223</a><li> convert(::<b>Type{UInt128}</b>, x::<b>Float64</b>) at <a href=\"https://github.com/JuliaLang/julia/tree/bb73f3489d837e3339fce2c1aab283d3b2e97a4c/base/int.jl#L223\" target=\"_blank\">int.jl:223</a><li> convert(::<b>Type{Signed}</b>, x::<b>UInt8</b>) at <a href=\"https://github.com/JuliaLang/julia/tree/bb73f3489d837e3339fce2c1aab283d3b2e97a4c/base/int.jl#L229\" target=\"_blank\">int.jl:229</a><li> convert(::<b>Type{Signed}</b>, x::<b>UInt16</b>) at <a href=\"https://github.com/JuliaLang/julia/tree/bb73f3489d837e3339fce2c1aab283d3b2e97a4c/base/int.jl#L230\" target=\"_blank\">int.jl:230</a><li> convert(::<b>Type{Signed}</b>, x::<b>UInt32</b>) at <a href=\"https://github.com/JuliaLang/julia/tree/bb73f3489d837e3339fce2c1aab283d3b2e97a4c/base/int.jl#L231\" target=\"_blank\">int.jl:231</a><li> convert(::<b>Type{Signed}</b>, x::<b>UInt64</b>) at <a href=\"https://github.com/JuliaLang/julia/tree/bb73f3489d837e3339fce2c1aab283d3b2e97a4c/base/int.jl#L232\" target=\"_blank\">int.jl:232</a><li> convert(::<b>Type{Signed}</b>, x::<b>UInt128</b>) at <a href=\"https://github.com/JuliaLang/julia/tree/bb73f3489d837e3339fce2c1aab283d3b2e97a4c/base/int.jl#L233\" target=\"_blank\">int.jl:233</a><li> convert(::<b>Type{Signed}</b>, x::<b>Float32</b>) at <a href=\"https://github.com/JuliaLang/julia/tree/bb73f3489d837e3339fce2c1aab283d3b2e97a4c/base/int.jl#L234\" target=\"_blank\">int.jl:234</a><li> convert(::<b>Type{Signed}</b>, x::<b>Float64</b>) at <a href=\"https://github.com/JuliaLang/julia/tree/bb73f3489d837e3339fce2c1aab283d3b2e97a4c/base/int.jl#L235\" target=\"_blank\">int.jl:235</a><li> convert(::<b>Type{Signed}</b>, x::<b>Bool</b>) at <a href=\"https://github.com/JuliaLang/julia/tree/bb73f3489d837e3339fce2c1aab283d3b2e97a4c/base/int.jl#L236\" target=\"_blank\">int.jl:236</a><li> convert(::<b>Type{Unsigned}</b>, x::<b>Int8</b>) at <a href=\"https://github.com/JuliaLang/julia/tree/bb73f3489d837e3339fce2c1aab283d3b2e97a4c/base/int.jl#L238\" target=\"_blank\">int.jl:238</a><li> convert(::<b>Type{Unsigned}</b>, x::<b>Int16</b>) at <a href=\"https://github.com/JuliaLang/julia/tree/bb73f3489d837e3339fce2c1aab283d3b2e97a4c/base/int.jl#L239\" target=\"_blank\">int.jl:239</a><li> convert(::<b>Type{Unsigned}</b>, x::<b>Int32</b>) at <a href=\"https://github.com/JuliaLang/julia/tree/bb73f3489d837e3339fce2c1aab283d3b2e97a4c/base/int.jl#L240\" target=\"_blank\">int.jl:240</a><li> convert(::<b>Type{Unsigned}</b>, x::<b>Int64</b>) at <a href=\"https://github.com/JuliaLang/julia/tree/bb73f3489d837e3339fce2c1aab283d3b2e97a4c/base/int.jl#L241\" target=\"_blank\">int.jl:241</a><li> convert(::<b>Type{Unsigned}</b>, x::<b>Int128</b>) at <a href=\"https://github.com/JuliaLang/julia/tree/bb73f3489d837e3339fce2c1aab283d3b2e97a4c/base/int.jl#L242\" target=\"_blank\">int.jl:242</a><li> convert(::<b>Type{Unsigned}</b>, x::<b>Float32</b>) at <a href=\"https://github.com/JuliaLang/julia/tree/bb73f3489d837e3339fce2c1aab283d3b2e97a4c/base/int.jl#L243\" target=\"_blank\">int.jl:243</a><li> convert(::<b>Type{Unsigned}</b>, x::<b>Float64</b>) at <a href=\"https://github.com/JuliaLang/julia/tree/bb73f3489d837e3339fce2c1aab283d3b2e97a4c/base/int.jl#L244\" target=\"_blank\">int.jl:244</a><li> convert(::<b>Type{Unsigned}</b>, x::<b>Bool</b>) at <a href=\"https://github.com/JuliaLang/julia/tree/bb73f3489d837e3339fce2c1aab283d3b2e97a4c/base/int.jl#L245\" target=\"_blank\">int.jl:245</a><li> convert(::<b>Type{Integer}</b>, x::<b>Integer</b>) at <a href=\"https://github.com/JuliaLang/julia/tree/bb73f3489d837e3339fce2c1aab283d3b2e97a4c/base/int.jl#L247\" target=\"_blank\">int.jl:247</a><li> convert<i>{T<:Integer}</i>(::<b>Type{T<:Integer}</b>, x::<b>Rational{T<:Integer}</b>) at <a href=\"https://github.com/JuliaLang/julia/tree/bb73f3489d837e3339fce2c1aab283d3b2e97a4c/base/rational.jl#L76\" target=\"_blank\">rational.jl:76</a><li> convert(::<b>Type{BigInt}</b>, x::<b>Float16</b>) at <a href=\"https://github.com/JuliaLang/julia/tree/bb73f3489d837e3339fce2c1aab283d3b2e97a4c/base/gmp.jl#L140\" target=\"_blank\">gmp.jl:140</a><li> convert<i>{T<:Integer}</i>(::<b>Type{T<:Integer}</b>, x::<b>Float16</b>) at <a href=\"https://github.com/JuliaLang/julia/tree/bb73f3489d837e3339fce2c1aab283d3b2e97a4c/base/float16.jl#L105\" target=\"_blank\">float16.jl:105</a><li> convert<i>{T<:Integer}</i>(::<b>Type{T<:Integer}</b>, x::<b>BigFloat</b>) at <a href=\"https://github.com/JuliaLang/julia/tree/bb73f3489d837e3339fce2c1aab283d3b2e97a4c/base/mpfr.jl#L171\" target=\"_blank\">mpfr.jl:171</a><li> convert<i>{TI<:Integer,T,f}</i>(::<b>Type{TI<:Integer}</b>, x::<b>LastMain.LastMain.FixedPointNumbers.Fixed{T,f}</b>) at <a href=\"https://github.com/JeffBezanson/FixedPointNumbers.jl/tree/404d4bef6eb278b9a83aea5beeaa88a2f8333827/src/fixed.jl#L44\" target=\"_blank\">/home/daniel/.julia/v0.4/FixedPointNumbers/src/fixed.jl:44</a><li> convert<i>{T<:Integer}</i>(::<b>Type{T<:Integer}</b>, x::<b>LastMain.LastMain.FixedPointNumbers.UFixed{T<:Unsigned,f}</b>) at <a href=\"https://github.com/JeffBezanson/FixedPointNumbers.jl/tree/404d4bef6eb278b9a83aea5beeaa88a2f8333827/src/ufixed.jl#L72\" target=\"_blank\">/home/daniel/.julia/v0.4/FixedPointNumbers/src/ufixed.jl:72</a><li> convert(::<b>Type{Integer}</b>, x::<b>Real</b>) at <a href=\"https://github.com/JuliaLang/julia/tree/bb73f3489d837e3339fce2c1aab283d3b2e97a4c/base/int.jl#L248\" target=\"_blank\">int.jl:248</a><li> convert<i>{T<:Union{Int64,UInt64}}</i>(::<b>Type{T<:Union{Int64,UInt64}}</b>, x::<b>Ptr{T}</b>) at <a href=\"https://github.com/JuliaLang/julia/tree/bb73f3489d837e3339fce2c1aab283d3b2e97a4c/base/pointer.jl#L8\" target=\"_blank\">pointer.jl:8</a><li> convert<i>{T<:Integer}</i>(::<b>Type{T<:Integer}</b>, x::<b>Ptr{T}</b>) at <a href=\"https://github.com/JuliaLang/julia/tree/bb73f3489d837e3339fce2c1aab283d3b2e97a4c/base/pointer.jl#L9\" target=\"_blank\">pointer.jl:9</a><li> convert<i>{T}</i>(::<b>Type{Ptr{T}}</b>, x::<b>UInt64</b>) at <a href=\"https://github.com/JuliaLang/julia/tree/bb73f3489d837e3339fce2c1aab283d3b2e97a4c/base/pointer.jl#L12\" target=\"_blank\">pointer.jl:12</a><li> convert<i>{T}</i>(::<b>Type{Ptr{T}}</b>, x::<b>Int64</b>) at <a href=\"https://github.com/JuliaLang/julia/tree/bb73f3489d837e3339fce2c1aab283d3b2e97a4c/base/pointer.jl#L13\" target=\"_blank\">pointer.jl:13</a><li> convert<i>{T}</i>(::<b>Type{Ptr{T}}</b>, p::<b>Ptr{T}</b>) at <a href=\"https://github.com/JuliaLang/julia/tree/bb73f3489d837e3339fce2c1aab283d3b2e97a4c/base/pointer.jl#L16\" target=\"_blank\">pointer.jl:16</a><li> convert<i>{T}</i>(::<b>Type{Ptr{T}}</b>, p::<b>Ptr{T}</b>) at <a href=\"https://github.com/JuliaLang/julia/tree/bb73f3489d837e3339fce2c1aab283d3b2e97a4c/base/pointer.jl#L17\" target=\"_blank\">pointer.jl:17</a><li> convert<i>{T}</i>(::<b>Type{Ref{T}}</b>, x::<b>Ref{T}</b>) at <a href=\"https://github.com/JuliaLang/julia/tree/bb73f3489d837e3339fce2c1aab283d3b2e97a4c/base/refpointer.jl#L6\" target=\"_blank\">refpointer.jl:6</a><li> convert<i>{T}</i>(::<b>Type{Ref{T}}</b>, x::<b>AbstractArray{T,N}</b>) at <a href=\"https://github.com/JuliaLang/julia/tree/bb73f3489d837e3339fce2c1aab283d3b2e97a4c/base/refpointer.jl#L49\" target=\"_blank\">refpointer.jl:49</a><li> convert<i>{T}</i>(::<b>Type{Ref{T}}</b>, x) at <a href=\"https://github.com/JuliaLang/julia/tree/bb73f3489d837e3339fce2c1aab283d3b2e97a4c/base/refpointer.jl#L26\" target=\"_blank\">refpointer.jl:26</a><li> convert<i>{T,N}</i>(::<b>Type{AbstractArray{T,N}}</b>, B::<b>BitArray{N}</b>) at <a href=\"https://github.com/JuliaLang/julia/tree/bb73f3489d837e3339fce2c1aab283d3b2e97a4c/base/bitarray.jl#L331\" target=\"_blank\">bitarray.jl:331</a><li> convert<i>{T}</i>(::<b>Type{AbstractArray{T,2}}</b>, S::<b>SymTridiagonal{T}</b>) at <a href=\"https://github.com/JuliaLang/julia/tree/bb73f3489d837e3339fce2c1aab283d3b2e97a4c/base/linalg/tridiag.jl#L34\" target=\"_blank\">linalg/tridiag.jl:34</a><li> convert<i>{T}</i>(::<b>Type{AbstractArray{T,2}}</b>, M::<b>Tridiagonal{T}</b>) at <a href=\"https://github.com/JuliaLang/julia/tree/bb73f3489d837e3339fce2c1aab283d3b2e97a4c/base/linalg/tridiag.jl#L418\" target=\"_blank\">linalg/tridiag.jl:418</a><li> convert<i>{Tnew,Told,S}</i>(::<b>Type{AbstractArray{Tnew,2}}</b>, A::<b>LowerTriangular{Told,S}</b>) at <a href=\"https://github.com/JuliaLang/julia/tree/bb73f3489d837e3339fce2c1aab283d3b2e97a4c/base/linalg/triangular.jl#L22\" target=\"_blank\">linalg/triangular.jl:22</a><li> convert<i>{Tnew,Told,S}</i>(::<b>Type{AbstractArray{Tnew,2}}</b>, A::<b>Base.LinAlg.UnitLowerTriangular{Told,S}</b>) at <a href=\"https://github.com/JuliaLang/julia/tree/bb73f3489d837e3339fce2c1aab283d3b2e97a4c/base/linalg/triangular.jl#L22\" target=\"_blank\">linalg/triangular.jl:22</a><li> convert<i>{Tnew,Told,S}</i>(::<b>Type{AbstractArray{Tnew,2}}</b>, A::<b>UpperTriangular{Told,S}</b>) at <a href=\"https://github.com/JuliaLang/julia/tree/bb73f3489d837e3339fce2c1aab283d3b2e97a4c/base/linalg/triangular.jl#L22\" target=\"_blank\">linalg/triangular.jl:22</a><li> convert<i>{Tnew,Told,S}</i>(::<b>Type{AbstractArray{Tnew,2}}</b>, A::<b>Base.LinAlg.UnitUpperTriangular{Told,S}</b>) at <a href=\"https://github.com/JuliaLang/julia/tree/bb73f3489d837e3339fce2c1aab283d3b2e97a4c/base/linalg/triangular.jl#L22\" target=\"_blank\">linalg/triangular.jl:22</a><li> convert<i>{T}</i>(::<b>Type{AbstractArray{T,2}}</b>, Q::<b>Base.LinAlg.QRPackedQ{T,S<:AbstractArray{T,2}}</b>) at <a href=\"https://github.com/JuliaLang/julia/tree/bb73f3489d837e3339fce2c1aab283d3b2e97a4c/base/linalg/qr.jl#L125\" target=\"_blank\">linalg/qr.jl:125</a><li> convert<i>{S}</i>(::<b>Type{AbstractArray{S,2}}</b>, Q::<b>Base.LinAlg.QRCompactWYQ{S,M<:AbstractArray{T,2}}</b>) at <a href=\"https://github.com/JuliaLang/julia/tree/bb73f3489d837e3339fce2c1aab283d3b2e97a4c/base/linalg/qr.jl#L127\" target=\"_blank\">linalg/qr.jl:127</a><li> convert<i>{T}</i>(::<b>Type{AbstractArray{T,2}}</b>, A::<b>Symmetric{T,S<:AbstractArray{T,2}}</b>) at <a href=\"https://github.com/JuliaLang/julia/tree/bb73f3489d837e3339fce2c1aab283d3b2e97a4c/base/linalg/symmetric.jl#L34\" target=\"_blank\">linalg/symmetric.jl:34</a><li> convert<i>{T}</i>(::<b>Type{AbstractArray{T,2}}</b>, A::<b>Hermitian{T,S<:AbstractArray{T,2}}</b>) at <a href=\"https://github.com/JuliaLang/julia/tree/bb73f3489d837e3339fce2c1aab283d3b2e97a4c/base/linalg/symmetric.jl#L37\" target=\"_blank\">linalg/symmetric.jl:37</a><li> convert<i>{T}</i>(::<b>Type{AbstractArray{T,2}}</b>, D::<b>Diagonal{T}</b>) at <a href=\"https://github.com/JuliaLang/julia/tree/bb73f3489d837e3339fce2c1aab283d3b2e97a4c/base/linalg/diagonal.jl#L12\" target=\"_blank\">linalg/diagonal.jl:12</a><li> convert<i>{T}</i>(::<b>Type{AbstractArray{T,2}}</b>, A::<b>SparseMatrixCSC{Tv,Ti<:Integer}</b>) at <a href=\"https://github.com/JuliaLang/julia/tree/bb73f3489d837e3339fce2c1aab283d3b2e97a4c/base/sparse/sparsematrix.jl#L221\" target=\"_blank\">sparse/sparsematrix.jl:221</a><li> convert<i>{T,N}</i>(::<b>Type{AbstractArray{T,N}}</b>, A::<b>AbstractArray{T,N}</b>) at <a href=\"https://github.com/JuliaLang/julia/tree/bb73f3489d837e3339fce2c1aab283d3b2e97a4c/base/abstractarray.jl#L437\" target=\"_blank\">abstractarray.jl:437</a><li> convert<i>{T,S,N}</i>(::<b>Type{AbstractArray{T,N}}</b>, A::<b>AbstractArray{S,N}</b>) at <a href=\"https://github.com/JuliaLang/julia/tree/bb73f3489d837e3339fce2c1aab283d3b2e97a4c/base/abstractarray.jl#L438\" target=\"_blank\">abstractarray.jl:438</a><li> convert<i>{T,S,N}</i>(::<b>Type{AbstractArray{T,N}}</b>, A::<b>AbstractArray{S,N}</b>) at <a href=\"https://github.com/JuliaLang/julia/tree/bb73f3489d837e3339fce2c1aab283d3b2e97a4c/base/abstractarray.jl#L439\" target=\"_blank\">abstractarray.jl:439</a><li> convert<i>{T,S,N}</i>(::<b>Type{Array{T,N}}</b>, V::<b>SubArray{S,N,P<:AbstractArray{T,N},I<:Tuple{Vararg{Union{AbstractArray{T,1},Colon,Int64}}},LD}</b>) at <a href=\"https://github.com/JuliaLang/julia/tree/bb73f3489d837e3339fce2c1aab283d3b2e97a4c/base/subarray.jl#L510\" target=\"_blank\">subarray.jl:510</a><li> convert<i>{T,n}</i>(::<b>Type{Array{T,n}}</b>, x::<b>Array{T,n}</b>) at <a href=\"https://github.com/JuliaLang/julia/tree/bb73f3489d837e3339fce2c1aab283d3b2e97a4c/base/array.jl#L238\" target=\"_blank\">array.jl:238</a><li> convert<i>{T,n,S}</i>(::<b>Type{Array{T,n}}</b>, x::<b>Array{S,n}</b>) at <a href=\"https://github.com/JuliaLang/julia/tree/bb73f3489d837e3339fce2c1aab283d3b2e97a4c/base/array.jl#L240\" target=\"_blank\">array.jl:240</a><li> convert<i>{T,n}</i>(::<b>Type{Array{T,N}}</b>, x::<b>Array{T,n}</b>) at <a href=\"https://github.com/JuliaLang/julia/tree/bb73f3489d837e3339fce2c1aab283d3b2e97a4c/base/array.jl#L237\" target=\"_blank\">array.jl:237</a><li> convert<i>{T,n,S}</i>(::<b>Type{Array{T,N}}</b>, x::<b>Array{S,n}</b>) at <a href=\"https://github.com/JuliaLang/julia/tree/bb73f3489d837e3339fce2c1aab283d3b2e97a4c/base/array.jl#L239\" target=\"_blank\">array.jl:239</a><li> convert<i>{T,N}</i>(::<b>Type{Array{T,N}}</b>, B::<b>BitArray{N}</b>) at <a href=\"https://github.com/JuliaLang/julia/tree/bb73f3489d837e3339fce2c1aab283d3b2e97a4c/base/bitarray.jl#L296\" target=\"_blank\">bitarray.jl:296</a><li> convert<i>{T,N}</i>(::<b>Type{Array{T,N}}</b>, B::<b>BitArray{N}</b>) at <a href=\"https://github.com/JuliaLang/julia/tree/bb73f3489d837e3339fce2c1aab283d3b2e97a4c/base/bitarray.jl#L294\" target=\"_blank\">bitarray.jl:294</a><li> convert(::<b>Type{Array{T,N}}</b>, S::<b>SharedArray{T,N}</b>) at <a href=\"https://github.com/JuliaLang/julia/tree/bb73f3489d837e3339fce2c1aab283d3b2e97a4c/base/sharedarray.jl#L280\" target=\"_blank\">sharedarray.jl:280</a><li> convert<i>{T}</i>(::<b>Type{Array{T,2}}</b>, M::<b>SymTridiagonal{T}</b>) at <a href=\"https://github.com/JuliaLang/julia/tree/bb73f3489d837e3339fce2c1aab283d3b2e97a4c/base/linalg/tridiag.jl#L36\" target=\"_blank\">linalg/tridiag.jl:36</a><li> convert<i>{T}</i>(::<b>Type{Array{T,2}}</b>, M::<b>SymTridiagonal{T}</b>) at <a href=\"https://github.com/JuliaLang/julia/tree/bb73f3489d837e3339fce2c1aab283d3b2e97a4c/base/linalg/tridiag.jl#L48\" target=\"_blank\">linalg/tridiag.jl:48</a><li> convert<i>{T}</i>(::<b>Type{Array{T,2}}</b>, M::<b>Tridiagonal{T}</b>) at <a href=\"https://github.com/JuliaLang/julia/tree/bb73f3489d837e3339fce2c1aab283d3b2e97a4c/base/linalg/tridiag.jl#L296\" target=\"_blank\">linalg/tridiag.jl:296</a><li> convert<i>{T}</i>(::<b>Type{Array{T,2}}</b>, M::<b>Tridiagonal{T}</b>) at <a href=\"https://github.com/JuliaLang/julia/tree/bb73f3489d837e3339fce2c1aab283d3b2e97a4c/base/linalg/tridiag.jl#L306\" target=\"_blank\">linalg/tridiag.jl:306</a><li> convert<i>{T,S}</i>(::<b>Type{Array{T,2}}</b>, A::<b>LowerTriangular{T,S}</b>) at <a href=\"https://github.com/JuliaLang/julia/tree/bb73f3489d837e3339fce2c1aab283d3b2e97a4c/base/linalg/triangular.jl#L23\" target=\"_blank\">linalg/triangular.jl:23</a><li> convert<i>{T,S}</i>(::<b>Type{Array{T,2}}</b>, A::<b>Base.LinAlg.UnitLowerTriangular{T,S}</b>) at <a href=\"https://github.com/JuliaLang/julia/tree/bb73f3489d837e3339fce2c1aab283d3b2e97a4c/base/linalg/triangular.jl#L23\" target=\"_blank\">linalg/triangular.jl:23</a><li> convert<i>{T,S}</i>(::<b>Type{Array{T,2}}</b>, A::<b>UpperTriangular{T,S}</b>) at <a href=\"https://github.com/JuliaLang/julia/tree/bb73f3489d837e3339fce2c1aab283d3b2e97a4c/base/linalg/triangular.jl#L23\" target=\"_blank\">linalg/triangular.jl:23</a><li> convert<i>{T,S}</i>(::<b>Type{Array{T,2}}</b>, A::<b>Base.LinAlg.UnitUpperTriangular{T,S}</b>) at <a href=\"https://github.com/JuliaLang/julia/tree/bb73f3489d837e3339fce2c1aab283d3b2e97a4c/base/linalg/triangular.jl#L23\" target=\"_blank\">linalg/triangular.jl:23</a><li> convert<i>{Tret,T,S}</i>(::<b>Type{Array{Tret,2}}</b>, A::<b>LowerTriangular{T,S}</b>) at <a href=\"https://github.com/JuliaLang/julia/tree/bb73f3489d837e3339fce2c1aab283d3b2e97a4c/base/linalg/triangular.jl#L58\" target=\"_blank\">linalg/triangular.jl:58</a><li> convert<i>{Tret,T,S}</i>(::<b>Type{Array{Tret,2}}</b>, A::<b>Base.LinAlg.UnitLowerTriangular{T,S}</b>) at <a href=\"https://github.com/JuliaLang/julia/tree/bb73f3489d837e3339fce2c1aab283d3b2e97a4c/base/linalg/triangular.jl#L64\" target=\"_blank\">linalg/triangular.jl:64</a><li> convert<i>{Tret,T,S}</i>(::<b>Type{Array{Tret,2}}</b>, A::<b>UpperTriangular{T,S}</b>) at <a href=\"https://github.com/JuliaLang/julia/tree/bb73f3489d837e3339fce2c1aab283d3b2e97a4c/base/linalg/triangular.jl#L73\" target=\"_blank\">linalg/triangular.jl:73</a><li> convert<i>{Tret,T,S}</i>(::<b>Type{Array{Tret,2}}</b>, A::<b>Base.LinAlg.UnitUpperTriangular{T,S}</b>) at <a href=\"https://github.com/JuliaLang/julia/tree/bb73f3489d837e3339fce2c1aab283d3b2e97a4c/base/linalg/triangular.jl#L79\" target=\"_blank\">linalg/triangular.jl:79</a><li> convert<i>{T}</i>(::<b>Type{Array{T,2}}</b>, A::<b>Bidiagonal{T}</b>) at <a href=\"https://github.com/JuliaLang/julia/tree/bb73f3489d837e3339fce2c1aab283d3b2e97a4c/base/linalg/bidiag.jl#L46\" target=\"_blank\">linalg/bidiag.jl:46</a><li> convert<i>{T}</i>(::<b>Type{Array{T,2}}</b>, A::<b>Bidiagonal{T}</b>) at <a href=\"https://github.com/JuliaLang/julia/tree/bb73f3489d837e3339fce2c1aab283d3b2e97a4c/base/linalg/bidiag.jl#L59\" target=\"_blank\">linalg/bidiag.jl:59</a><li> convert(::<b>Type{Array{T,2}}</b>, D::<b>Diagonal{T}</b>) at <a href=\"https://github.com/JuliaLang/julia/tree/bb73f3489d837e3339fce2c1aab283d3b2e97a4c/base/linalg/special.jl#L11\" target=\"_blank\">linalg/special.jl:11</a><li> convert(::<b>Type{Array{T,2}}</b>, S::<b>SparseMatrixCSC{Tv,Ti<:Integer}</b>) at <a href=\"https://github.com/JuliaLang/julia/tree/bb73f3489d837e3339fce2c1aab283d3b2e97a4c/base/sparse/sparsematrix.jl#L222\" target=\"_blank\">sparse/sparsematrix.jl:222</a><li> convert<i>{T}</i>(::<b>Type{Array{T,2}}</b>, D::<b>Base.SparseMatrix.CHOLMOD.Dense{T}</b>) at <a href=\"https://github.com/JuliaLang/julia/tree/bb73f3489d837e3339fce2c1aab283d3b2e97a4c/base/sparse/cholmod.jl#L932\" target=\"_blank\">sparse/cholmod.jl:932</a><li> convert<i>{T}</i>(::<b>Type{Array{T,2}}</b>, D::<b>Base.SparseMatrix.CHOLMOD.Dense{T}</b>) at <a href=\"https://github.com/JuliaLang/julia/tree/bb73f3489d837e3339fce2c1aab283d3b2e97a4c/base/sparse/cholmod.jl#L945\" target=\"_blank\">sparse/cholmod.jl:945</a><li> convert<i>{T}</i>(::<b>Type{Array{T,1}}</b>, D::<b>Base.SparseMatrix.CHOLMOD.Dense{T}</b>) at <a href=\"https://github.com/JuliaLang/julia/tree/bb73f3489d837e3339fce2c1aab283d3b2e97a4c/base/sparse/cholmod.jl#L947\" target=\"_blank\">sparse/cholmod.jl:947</a><li> convert<i>{T}</i>(::<b>Type{Array{T,1}}</b>, D::<b>Base.SparseMatrix.CHOLMOD.Dense{T}</b>) at <a href=\"https://github.com/JuliaLang/julia/tree/bb73f3489d837e3339fce2c1aab283d3b2e97a4c/base/sparse/cholmod.jl#L952\" target=\"_blank\">sparse/cholmod.jl:952</a><li> convert<i>{T,N}</i>(::<b>Type{Array{T,N}}</b>, A::<b>AbstractArray{T,N}</b>) at <a href=\"https://github.com/JuliaLang/julia/tree/bb73f3489d837e3339fce2c1aab283d3b2e97a4c/base/abstractarray.jl#L441\" target=\"_blank\">abstractarray.jl:441</a><li> convert(::<b>Type{Float16}</b>, n::<b>BigInt</b>) at <a href=\"https://github.com/JuliaLang/julia/tree/bb73f3489d837e3339fce2c1aab283d3b2e97a4c/base/gmp.jl#L245\" target=\"_blank\">gmp.jl:245</a><li> convert(::<b>Type{Float16}</b>, x::<b>Integer</b>) at <a href=\"https://github.com/JuliaLang/julia/tree/bb73f3489d837e3339fce2c1aab283d3b2e97a4c/base/float.jl#L15\" target=\"_blank\">float.jl:15</a><li> convert(::<b>Type{Float32}</b>, x::<b>Int8</b>) at <a href=\"https://github.com/JuliaLang/julia/tree/bb73f3489d837e3339fce2c1aab283d3b2e97a4c/base/float.jl#L24\" target=\"_blank\">float.jl:24</a><li> convert(::<b>Type{Float32}</b>, x::<b>Int16</b>) at <a href=\"https://github.com/JuliaLang/julia/tree/bb73f3489d837e3339fce2c1aab283d3b2e97a4c/base/float.jl#L24\" target=\"_blank\">float.jl:24</a><li> convert(::<b>Type{Float32}</b>, x::<b>Int32</b>) at <a href=\"https://github.com/JuliaLang/julia/tree/bb73f3489d837e3339fce2c1aab283d3b2e97a4c/base/float.jl#L24\" target=\"_blank\">float.jl:24</a><li> convert(::<b>Type{Float32}</b>, x::<b>Int64</b>) at <a href=\"https://github.com/JuliaLang/julia/tree/bb73f3489d837e3339fce2c1aab283d3b2e97a4c/base/float.jl#L24\" target=\"_blank\">float.jl:24</a><li> convert(::<b>Type{Float32}</b>, x::<b>Bool</b>) at <a href=\"https://github.com/JuliaLang/julia/tree/bb73f3489d837e3339fce2c1aab283d3b2e97a4c/base/float.jl#L30\" target=\"_blank\">float.jl:30</a><li> convert(::<b>Type{Float32}</b>, x::<b>UInt8</b>) at <a href=\"https://github.com/JuliaLang/julia/tree/bb73f3489d837e3339fce2c1aab283d3b2e97a4c/base/float.jl#L30\" target=\"_blank\">float.jl:30</a><li> convert(::<b>Type{Float32}</b>, x::<b>UInt16</b>) at <a href=\"https://github.com/JuliaLang/julia/tree/bb73f3489d837e3339fce2c1aab283d3b2e97a4c/base/float.jl#L30\" target=\"_blank\">float.jl:30</a><li> convert(::<b>Type{Float32}</b>, x::<b>UInt32</b>) at <a href=\"https://github.com/JuliaLang/julia/tree/bb73f3489d837e3339fce2c1aab283d3b2e97a4c/base/float.jl#L30\" target=\"_blank\">float.jl:30</a><li> convert(::<b>Type{Float32}</b>, x::<b>UInt64</b>) at <a href=\"https://github.com/JuliaLang/julia/tree/bb73f3489d837e3339fce2c1aab283d3b2e97a4c/base/float.jl#L30\" target=\"_blank\">float.jl:30</a><li> convert(::<b>Type{Float64}</b>, x::<b>Int8</b>) at <a href=\"https://github.com/JuliaLang/julia/tree/bb73f3489d837e3339fce2c1aab283d3b2e97a4c/base/float.jl#L24\" target=\"_blank\">float.jl:24</a><li> convert(::<b>Type{Float64}</b>, x::<b>Int16</b>) at <a href=\"https://github.com/JuliaLang/julia/tree/bb73f3489d837e3339fce2c1aab283d3b2e97a4c/base/float.jl#L24\" target=\"_blank\">float.jl:24</a><li> convert(::<b>Type{Float64}</b>, x::<b>Int32</b>) at <a href=\"https://github.com/JuliaLang/julia/tree/bb73f3489d837e3339fce2c1aab283d3b2e97a4c/base/float.jl#L24\" target=\"_blank\">float.jl:24</a><li> convert(::<b>Type{Float64}</b>, x::<b>Int64</b>) at <a href=\"https://github.com/JuliaLang/julia/tree/bb73f3489d837e3339fce2c1aab283d3b2e97a4c/base/float.jl#L24\" target=\"_blank\">float.jl:24</a><li> convert(::<b>Type{Float64}</b>, x::<b>Bool</b>) at <a href=\"https://github.com/JuliaLang/julia/tree/bb73f3489d837e3339fce2c1aab283d3b2e97a4c/base/float.jl#L30\" target=\"_blank\">float.jl:30</a><li> convert(::<b>Type{Float64}</b>, x::<b>UInt8</b>) at <a href=\"https://github.com/JuliaLang/julia/tree/bb73f3489d837e3339fce2c1aab283d3b2e97a4c/base/float.jl#L30\" target=\"_blank\">float.jl:30</a><li> convert(::<b>Type{Float64}</b>, x::<b>UInt16</b>) at <a href=\"https://github.com/JuliaLang/julia/tree/bb73f3489d837e3339fce2c1aab283d3b2e97a4c/base/float.jl#L30\" target=\"_blank\">float.jl:30</a><li> convert(::<b>Type{Float64}</b>, x::<b>UInt32</b>) at <a href=\"https://github.com/JuliaLang/julia/tree/bb73f3489d837e3339fce2c1aab283d3b2e97a4c/base/float.jl#L30\" target=\"_blank\">float.jl:30</a><li> convert(::<b>Type{Float64}</b>, x::<b>UInt64</b>) at <a href=\"https://github.com/JuliaLang/julia/tree/bb73f3489d837e3339fce2c1aab283d3b2e97a4c/base/float.jl#L30\" target=\"_blank\">float.jl:30</a><li> convert(::<b>Type{Float64}</b>, x::<b>UInt128</b>) at <a href=\"https://github.com/JuliaLang/julia/tree/bb73f3489d837e3339fce2c1aab283d3b2e97a4c/base/float.jl#L42\" target=\"_blank\">float.jl:42</a><li> convert(::<b>Type{Float64}</b>, x::<b>Int128</b>) at <a href=\"https://github.com/JuliaLang/julia/tree/bb73f3489d837e3339fce2c1aab283d3b2e97a4c/base/float.jl#L56\" target=\"_blank\">float.jl:56</a><li> convert(::<b>Type{Float32}</b>, x::<b>UInt128</b>) at <a href=\"https://github.com/JuliaLang/julia/tree/bb73f3489d837e3339fce2c1aab283d3b2e97a4c/base/float.jl#L72\" target=\"_blank\">float.jl:72</a><li> convert(::<b>Type{Float32}</b>, x::<b>Int128</b>) at <a href=\"https://github.com/JuliaLang/julia/tree/bb73f3489d837e3339fce2c1aab283d3b2e97a4c/base/float.jl#L86\" target=\"_blank\">float.jl:86</a><li> convert(::<b>Type{Float16}</b>, x::<b>Float64</b>) at <a href=\"https://github.com/JuliaLang/julia/tree/bb73f3489d837e3339fce2c1aab283d3b2e97a4c/base/float.jl#L102\" target=\"_blank\">float.jl:102</a><li> convert(::<b>Type{Float32}</b>, x::<b>Float64</b>) at <a href=\"https://github.com/JuliaLang/julia/tree/bb73f3489d837e3339fce2c1aab283d3b2e97a4c/base/float.jl#L103\" target=\"_blank\">float.jl:103</a><li> convert(::<b>Type{Float64}</b>, x::<b>Float16</b>) at <a href=\"https://github.com/JuliaLang/julia/tree/bb73f3489d837e3339fce2c1aab283d3b2e97a4c/base/float.jl#L106\" target=\"_blank\">float.jl:106</a><li> convert(::<b>Type{Float64}</b>, x::<b>Float32</b>) at <a href=\"https://github.com/JuliaLang/julia/tree/bb73f3489d837e3339fce2c1aab283d3b2e97a4c/base/float.jl#L107\" target=\"_blank\">float.jl:107</a><li> convert(::<b>Type{AbstractFloat}</b>, x::<b>Bool</b>) at <a href=\"https://github.com/JuliaLang/julia/tree/bb73f3489d837e3339fce2c1aab283d3b2e97a4c/base/float.jl#L109\" target=\"_blank\">float.jl:109</a><li> convert(::<b>Type{AbstractFloat}</b>, x::<b>Int8</b>) at <a href=\"https://github.com/JuliaLang/julia/tree/bb73f3489d837e3339fce2c1aab283d3b2e97a4c/base/float.jl#L110\" target=\"_blank\">float.jl:110</a><li> convert(::<b>Type{AbstractFloat}</b>, x::<b>Int16</b>) at <a href=\"https://github.com/JuliaLang/julia/tree/bb73f3489d837e3339fce2c1aab283d3b2e97a4c/base/float.jl#L111\" target=\"_blank\">float.jl:111</a><li> convert(::<b>Type{AbstractFloat}</b>, x::<b>Int32</b>) at <a href=\"https://github.com/JuliaLang/julia/tree/bb73f3489d837e3339fce2c1aab283d3b2e97a4c/base/float.jl#L112\" target=\"_blank\">float.jl:112</a><li> convert(::<b>Type{AbstractFloat}</b>, x::<b>Int64</b>) at <a href=\"https://github.com/JuliaLang/julia/tree/bb73f3489d837e3339fce2c1aab283d3b2e97a4c/base/float.jl#L113\" target=\"_blank\">float.jl:113</a><li> convert(::<b>Type{AbstractFloat}</b>, x::<b>Int128</b>) at <a href=\"https://github.com/JuliaLang/julia/tree/bb73f3489d837e3339fce2c1aab283d3b2e97a4c/base/float.jl#L114\" target=\"_blank\">float.jl:114</a><li> convert(::<b>Type{AbstractFloat}</b>, x::<b>UInt8</b>) at <a href=\"https://github.com/JuliaLang/julia/tree/bb73f3489d837e3339fce2c1aab283d3b2e97a4c/base/float.jl#L115\" target=\"_blank\">float.jl:115</a><li> convert(::<b>Type{AbstractFloat}</b>, x::<b>UInt16</b>) at <a href=\"https://github.com/JuliaLang/julia/tree/bb73f3489d837e3339fce2c1aab283d3b2e97a4c/base/float.jl#L116\" target=\"_blank\">float.jl:116</a><li> convert(::<b>Type{AbstractFloat}</b>, x::<b>UInt32</b>) at <a href=\"https://github.com/JuliaLang/julia/tree/bb73f3489d837e3339fce2c1aab283d3b2e97a4c/base/float.jl#L117\" target=\"_blank\">float.jl:117</a><li> convert(::<b>Type{AbstractFloat}</b>, x::<b>UInt64</b>) at <a href=\"https://github.com/JuliaLang/julia/tree/bb73f3489d837e3339fce2c1aab283d3b2e97a4c/base/float.jl#L118\" target=\"_blank\">float.jl:118</a><li> convert(::<b>Type{AbstractFloat}</b>, x::<b>UInt128</b>) at <a href=\"https://github.com/JuliaLang/julia/tree/bb73f3489d837e3339fce2c1aab283d3b2e97a4c/base/float.jl#L119\" target=\"_blank\">float.jl:119</a><li> convert<i>{T<:Real}</i>(::<b>Type{Complex{T<:Real}}</b>, x::<b>Irrational{sym}</b>) at <a href=\"https://github.com/JuliaLang/julia/tree/bb73f3489d837e3339fce2c1aab283d3b2e97a4c/base/irrationals.jl#L15\" target=\"_blank\">irrationals.jl:15</a><li> convert<i>{T<:Real}</i>(::<b>Type{Complex{T<:Real}}</b>, x::<b>Real</b>) at <a href=\"https://github.com/JuliaLang/julia/tree/bb73f3489d837e3339fce2c1aab283d3b2e97a4c/base/complex.jl#L16\" target=\"_blank\">complex.jl:16</a><li> convert<i>{T<:Real}</i>(::<b>Type{Complex{T<:Real}}</b>, z::<b>Complex{T<:Real}</b>) at <a href=\"https://github.com/JuliaLang/julia/tree/bb73f3489d837e3339fce2c1aab283d3b2e97a4c/base/complex.jl#L17\" target=\"_blank\">complex.jl:17</a><li> convert<i>{T<:Real}</i>(::<b>Type{T<:Real}</b>, z::<b>Complex{T<:Real}</b>) at <a href=\"https://github.com/JuliaLang/julia/tree/bb73f3489d837e3339fce2c1aab283d3b2e97a4c/base/complex.jl#L18\" target=\"_blank\">complex.jl:18</a><li> convert(::<b>Type{Complex{T<:Real}}</b>, z::<b>Complex{T<:Real}</b>) at <a href=\"https://github.com/JuliaLang/julia/tree/bb73f3489d837e3339fce2c1aab283d3b2e97a4c/base/complex.jl#L21\" target=\"_blank\">complex.jl:21</a><li> convert(::<b>Type{Complex{T<:Real}}</b>, x::<b>Real</b>) at <a href=\"https://github.com/JuliaLang/julia/tree/bb73f3489d837e3339fce2c1aab283d3b2e97a4c/base/complex.jl#L22\" target=\"_blank\">complex.jl:22</a><li> convert<i>{T<:Integer}</i>(::<b>Type{Rational{T<:Integer}}</b>, x::<b>Rational{T<:Integer}</b>) at <a href=\"https://github.com/JuliaLang/julia/tree/bb73f3489d837e3339fce2c1aab283d3b2e97a4c/base/rational.jl#L69\" target=\"_blank\">rational.jl:69</a><li> convert<i>{T<:Integer}</i>(::<b>Type{Rational{T<:Integer}}</b>, x::<b>Integer</b>) at <a href=\"https://github.com/JuliaLang/julia/tree/bb73f3489d837e3339fce2c1aab283d3b2e97a4c/base/rational.jl#L70\" target=\"_blank\">rational.jl:70</a><li> convert(::<b>Type{Rational{T<:Integer}}</b>, x::<b>Rational{T<:Integer}</b>) at <a href=\"https://github.com/JuliaLang/julia/tree/bb73f3489d837e3339fce2c1aab283d3b2e97a4c/base/rational.jl#L72\" target=\"_blank\">rational.jl:72</a><li> convert(::<b>Type{Rational{T<:Integer}}</b>, x::<b>Integer</b>) at <a href=\"https://github.com/JuliaLang/julia/tree/bb73f3489d837e3339fce2c1aab283d3b2e97a4c/base/rational.jl#L73\" target=\"_blank\">rational.jl:73</a><li> convert(::<b>Type{AbstractFloat}</b>, x::<b>Rational{T<:Integer}</b>) at <a href=\"https://github.com/JuliaLang/julia/tree/bb73f3489d837e3339fce2c1aab283d3b2e97a4c/base/rational.jl#L78\" target=\"_blank\">rational.jl:78</a><li> convert(::<b>Type{BigFloat}</b>, x::<b>Rational{T<:Integer}</b>) at <a href=\"https://github.com/JuliaLang/julia/tree/bb73f3489d837e3339fce2c1aab283d3b2e97a4c/base/mpfr.jl#L94\" target=\"_blank\">mpfr.jl:94</a><li> convert<i>{T<:AbstractFloat,S}</i>(::<b>Type{T<:AbstractFloat}</b>, x::<b>Rational{S}</b>) at <a href=\"https://github.com/JuliaLang/julia/tree/bb73f3489d837e3339fce2c1aab283d3b2e97a4c/base/rational.jl#L80\" target=\"_blank\">rational.jl:80</a><li> convert(::<b>Type{Rational{T<:Integer}}</b>, x::<b>Float64</b>) at <a href=\"https://github.com/JuliaLang/julia/tree/bb73f3489d837e3339fce2c1aab283d3b2e97a4c/base/rational.jl#L89\" target=\"_blank\">rational.jl:89</a><li> convert(::<b>Type{Rational{T<:Integer}}</b>, x::<b>Float32</b>) at <a href=\"https://github.com/JuliaLang/julia/tree/bb73f3489d837e3339fce2c1aab283d3b2e97a4c/base/rational.jl#L90\" target=\"_blank\">rational.jl:90</a><li> convert(::<b>Type{Rational{T<:Integer}}</b>, x::<b>BigFloat</b>) at <a href=\"https://github.com/JuliaLang/julia/tree/bb73f3489d837e3339fce2c1aab283d3b2e97a4c/base/mpfr.jl#L102\" target=\"_blank\">mpfr.jl:102</a><li> convert(::<b>Type{Rational{BigInt}}</b>, x::<b>AbstractFloat</b>) at <a href=\"https://github.com/JuliaLang/julia/tree/bb73f3489d837e3339fce2c1aab283d3b2e97a4c/base/mpfr.jl#L196\" target=\"_blank\">mpfr.jl:196</a><li> convert<i>{T<:Integer}</i>(::<b>Type{Rational{T<:Integer}}</b>, x::<b>AbstractFloat</b>) at <a href=\"https://github.com/JuliaLang/julia/tree/bb73f3489d837e3339fce2c1aab283d3b2e97a4c/base/rational.jl#L85\" target=\"_blank\">rational.jl:85</a><li> convert<i>{N}</i>(::<b>Type{BitArray{N}}</b>, B::<b>BitArray{N}</b>) at <a href=\"https://github.com/JuliaLang/julia/tree/bb73f3489d837e3339fce2c1aab283d3b2e97a4c/base/bitarray.jl#L330\" target=\"_blank\">bitarray.jl:330</a><li> convert<i>{T,N}</i>(::<b>Type{BitArray{N}}</b>, A::<b>AbstractArray{T,N}</b>) at <a href=\"https://github.com/JuliaLang/julia/tree/bb73f3489d837e3339fce2c1aab283d3b2e97a4c/base/bitarray.jl#L306\" target=\"_blank\">bitarray.jl:306</a><li> convert<i>{T,N}</i>(::<b>Type{BitArray{N}}</b>, A::<b>AbstractArray{T,N}</b>) at <a href=\"https://github.com/JuliaLang/julia/tree/bb73f3489d837e3339fce2c1aab283d3b2e97a4c/base/bitarray.jl#L304\" target=\"_blank\">bitarray.jl:304</a><li> convert<i>{K,V}</i>(::<b>Type{Dict{K,V}}</b>, d::<b>Dict{K,V}</b>) at <a href=\"https://github.com/JuliaLang/julia/tree/bb73f3489d837e3339fce2c1aab283d3b2e97a4c/base/dict.jl#L468\" target=\"_blank\">dict.jl:468</a><li> convert<i>{K,V}</i>(::<b>Type{Dict{K,V}}</b>, d::<b>Associative{K,V}</b>) at <a href=\"https://github.com/JuliaLang/julia/tree/bb73f3489d837e3339fce2c1aab283d3b2e97a4c/base/dict.jl#L457\" target=\"_blank\">dict.jl:457</a><li> convert(::<b>Type{Char}</b>, x::<b>UInt32</b>) at <a href=\"https://github.com/JuliaLang/julia/tree/bb73f3489d837e3339fce2c1aab283d3b2e97a4c/base/char.jl#L3\" target=\"_blank\">char.jl:3</a><li> convert(::<b>Type{Char}</b>, x::<b>Number</b>) at <a href=\"https://github.com/JuliaLang/julia/tree/bb73f3489d837e3339fce2c1aab283d3b2e97a4c/base/char.jl#L4\" target=\"_blank\">char.jl:4</a><li> convert(::<b>Type{UInt32}</b>, x::<b>Char</b>) at <a href=\"https://github.com/JuliaLang/julia/tree/bb73f3489d837e3339fce2c1aab283d3b2e97a4c/base/char.jl#L5\" target=\"_blank\">char.jl:5</a><li> convert<i>{T<:Number}</i>(::<b>Type{T<:Number}</b>, x::<b>Char</b>) at <a href=\"https://github.com/JuliaLang/julia/tree/bb73f3489d837e3339fce2c1aab283d3b2e97a4c/base/char.jl#L6\" target=\"_blank\">char.jl:6</a><li> convert(::<b>Type{ASCIIString}</b>, s::<b>ASCIIString</b>) at <a href=\"https://github.com/JuliaLang/julia/tree/bb73f3489d837e3339fce2c1aab283d3b2e97a4c/base/ascii.jl#L104\" target=\"_blank\">ascii.jl:104</a><li> convert(::<b>Type{ASCIIString}</b>, s::<b>UTF8String</b>) at <a href=\"https://github.com/JuliaLang/julia/tree/bb73f3489d837e3339fce2c1aab283d3b2e97a4c/base/ascii.jl#L105\" target=\"_blank\">ascii.jl:105</a><li> convert(::<b>Type{ASCIIString}</b>, a::<b>Array{UInt8,1}</b>) at <a href=\"https://github.com/JuliaLang/julia/tree/bb73f3489d837e3339fce2c1aab283d3b2e97a4c/base/ascii.jl#L106\" target=\"_blank\">ascii.jl:106</a><li> convert(::<b>Type{ASCIIString}</b>, a::<b>Array{UInt8,1}</b>, invalids_as::<b>ASCIIString</b>) at <a href=\"https://github.com/JuliaLang/julia/tree/bb73f3489d837e3339fce2c1aab283d3b2e97a4c/base/ascii.jl#L115\" target=\"_blank\">ascii.jl:115</a><li> convert(::<b>Type{ASCIIString}</b>, a::<b>Array{UInt8,1}</b>, invalids_as::<b>AbstractString</b>) at <a href=\"https://github.com/JuliaLang/julia/tree/bb73f3489d837e3339fce2c1aab283d3b2e97a4c/base/ascii.jl#L132\" target=\"_blank\">ascii.jl:132</a><li> convert(::<b>Type{ASCIIString}</b>, s::<b>AbstractString</b>) at <a href=\"https://github.com/JuliaLang/julia/tree/bb73f3489d837e3339fce2c1aab283d3b2e97a4c/base/ascii.jl#L134\" target=\"_blank\">ascii.jl:134</a><li> convert(::<b>Type{SubString{UTF8String}}</b>, s::<b>SubString{ASCIIString}</b>) at <a href=\"https://github.com/JuliaLang/julia/tree/bb73f3489d837e3339fce2c1aab283d3b2e97a4c/base/unicode/utf8.jl#L236\" target=\"_blank\">unicode/utf8.jl:236</a><li> convert<i>{T<:AbstractString}</i>(::<b>Type{SubString{T<:AbstractString}}</b>, s::<b>T<:AbstractString</b>) at <a href=\"https://github.com/JuliaLang/julia/tree/bb73f3489d837e3339fce2c1aab283d3b2e97a4c/base/strings/types.jl#L77\" target=\"_blank\">strings/types.jl:77</a><li> convert(::<b>Type{RepString}</b>, s::<b>AbstractString</b>) at <a href=\"https://github.com/JuliaLang/julia/tree/bb73f3489d837e3339fce2c1aab283d3b2e97a4c/base/strings/types.jl#L173\" target=\"_blank\">strings/types.jl:173</a><li> convert(::<b>Type{Array{UInt8,1}}</b>, s::<b>AbstractString</b>) at <a href=\"https://github.com/JuliaLang/julia/tree/bb73f3489d837e3339fce2c1aab283d3b2e97a4c/base/strings/basic.jl#L27\" target=\"_blank\">strings/basic.jl:27</a><li> convert(::<b>Type{Array{UInt8,N}}</b>, s::<b>AbstractString</b>) at <a href=\"https://github.com/JuliaLang/julia/tree/bb73f3489d837e3339fce2c1aab283d3b2e97a4c/base/strings/basic.jl#L28\" target=\"_blank\">strings/basic.jl:28</a><li> convert(::<b>Type{ByteString}</b>, s::<b>AbstractString</b>) at <a href=\"https://github.com/JuliaLang/julia/tree/bb73f3489d837e3339fce2c1aab283d3b2e97a4c/base/strings/basic.jl#L29\" target=\"_blank\">strings/basic.jl:29</a><li> convert(::<b>Type{Array{Char,1}}</b>, s::<b>AbstractString</b>) at <a href=\"https://github.com/JuliaLang/julia/tree/bb73f3489d837e3339fce2c1aab283d3b2e97a4c/base/strings/basic.jl#L30\" target=\"_blank\">strings/basic.jl:30</a><li> convert(::<b>Type{Symbol}</b>, s::<b>AbstractString</b>) at <a href=\"https://github.com/JuliaLang/julia/tree/bb73f3489d837e3339fce2c1aab283d3b2e97a4c/base/strings/basic.jl#L31\" target=\"_blank\">strings/basic.jl:31</a><li> convert(::<b>Type{UTF8String}</b>, s::<b>UTF8String</b>) at <a href=\"https://github.com/JuliaLang/julia/tree/bb73f3489d837e3339fce2c1aab283d3b2e97a4c/base/unicode/utf8.jl#L234\" target=\"_blank\">unicode/utf8.jl:234</a><li> convert(::<b>Type{UTF8String}</b>, s::<b>ASCIIString</b>) at <a href=\"https://github.com/JuliaLang/julia/tree/bb73f3489d837e3339fce2c1aab283d3b2e97a4c/base/unicode/utf8.jl#L235\" target=\"_blank\">unicode/utf8.jl:235</a><li> convert(::<b>Type{UTF8String}</b>, dat::<b>Array{UInt8,1}</b>) at <a href=\"https://github.com/JuliaLang/julia/tree/bb73f3489d837e3339fce2c1aab283d3b2e97a4c/base/unicode/utf8.jl#L241\" target=\"_blank\">unicode/utf8.jl:241</a><li> convert(::<b>Type{UTF8String}</b>, a::<b>Array{UInt8,1}</b>, invalids_as::<b>AbstractString</b>) at <a href=\"https://github.com/JuliaLang/julia/tree/bb73f3489d837e3339fce2c1aab283d3b2e97a4c/base/unicode/utf8.jl#L293\" target=\"_blank\">unicode/utf8.jl:293</a><li> convert(::<b>Type{UTF8String}</b>, str::<b>UTF16String</b>) at <a href=\"https://github.com/JuliaLang/julia/tree/bb73f3489d837e3339fce2c1aab283d3b2e97a4c/base/unicode/utf16.jl#L160\" target=\"_blank\">unicode/utf16.jl:160</a><li> convert(::<b>Type{UTF8String}</b>, str::<b>UTF32String</b>) at <a href=\"https://github.com/JuliaLang/julia/tree/bb73f3489d837e3339fce2c1aab283d3b2e97a4c/base/unicode/utf32.jl#L27\" target=\"_blank\">unicode/utf32.jl:27</a><li> convert(::<b>Type{UTF8String}</b>, s::<b>AbstractString</b>) at <a href=\"https://github.com/JuliaLang/julia/tree/bb73f3489d837e3339fce2c1aab283d3b2e97a4c/base/unicode/utf8.jl#L313\" target=\"_blank\">unicode/utf8.jl:313</a><li> convert(::<b>Type{UTF16String}</b>, str::<b>UTF8String</b>) at <a href=\"https://github.com/JuliaLang/julia/tree/bb73f3489d837e3339fce2c1aab283d3b2e97a4c/base/unicode/utf16.jl#L123\" target=\"_blank\">unicode/utf16.jl:123</a><li> convert(::<b>Type{UTF16String}</b>, str::<b>ASCIIString</b>) at <a href=\"https://github.com/JuliaLang/julia/tree/bb73f3489d837e3339fce2c1aab283d3b2e97a4c/base/unicode/utf16.jl#L200\" target=\"_blank\">unicode/utf16.jl:200</a><li> convert(::<b>Type{UTF16String}</b>, str::<b>UTF16String</b>) at <a href=\"https://github.com/JuliaLang/julia/tree/bb73f3489d837e3339fce2c1aab283d3b2e97a4c/base/unicode/utf16.jl#L207\" target=\"_blank\">unicode/utf16.jl:207</a><li> convert(::<b>Type{UTF16String}</b>, str::<b>UTF32String</b>) at <a href=\"https://github.com/JuliaLang/julia/tree/bb73f3489d837e3339fce2c1aab283d3b2e97a4c/base/unicode/utf32.jl#L105\" target=\"_blank\">unicode/utf32.jl:105</a><li> convert(::<b>Type{UTF16String}</b>, str::<b>AbstractString</b>) at <a href=\"https://github.com/JuliaLang/julia/tree/bb73f3489d837e3339fce2c1aab283d3b2e97a4c/base/unicode/utf16.jl#L105\" target=\"_blank\">unicode/utf16.jl:105</a><li> convert(::<b>Type{Array{UInt16,1}}</b>, str::<b>UTF16String</b>) at <a href=\"https://github.com/JuliaLang/julia/tree/bb73f3489d837e3339fce2c1aab283d3b2e97a4c/base/unicode/utf16.jl#L204\" target=\"_blank\">unicode/utf16.jl:204</a><li> convert(::<b>Type{Array{UInt16,N}}</b>, str::<b>UTF16String</b>) at <a href=\"https://github.com/JuliaLang/julia/tree/bb73f3489d837e3339fce2c1aab283d3b2e97a4c/base/unicode/utf16.jl#L205\" target=\"_blank\">unicode/utf16.jl:205</a><li> convert(::<b>Type{UTF16String}</b>, dat::<b>AbstractArray{UInt16,1}</b>) at <a href=\"https://github.com/JuliaLang/julia/tree/bb73f3489d837e3339fce2c1aab283d3b2e97a4c/base/unicode/utf16.jl#L219\" target=\"_blank\">unicode/utf16.jl:219</a><li> convert(T::<b>Type{UTF16String}</b>, data::<b>AbstractArray{UInt16,N}</b>) at <a href=\"https://github.com/JuliaLang/julia/tree/bb73f3489d837e3339fce2c1aab283d3b2e97a4c/base/unicode/utf16.jl#L212\" target=\"_blank\">unicode/utf16.jl:212</a><li> convert(T::<b>Type{UTF16String}</b>, data::<b>AbstractArray{Int16,N}</b>) at <a href=\"https://github.com/JuliaLang/julia/tree/bb73f3489d837e3339fce2c1aab283d3b2e97a4c/base/unicode/utf16.jl#L215\" target=\"_blank\">unicode/utf16.jl:215</a><li> convert(T::<b>Type{UTF16String}</b>, bytes::<b>AbstractArray{UInt8,N}</b>) at <a href=\"https://github.com/JuliaLang/julia/tree/bb73f3489d837e3339fce2c1aab283d3b2e97a4c/base/unicode/utf16.jl#L224\" target=\"_blank\">unicode/utf16.jl:224</a><li> convert(::<b>Type{UTF32String}</b>, c::<b>Char</b>) at <a href=\"https://github.com/JuliaLang/julia/tree/bb73f3489d837e3339fce2c1aab283d3b2e97a4c/base/unicode/utf32.jl#L14\" target=\"_blank\">unicode/utf32.jl:14</a><li> convert(::<b>Type{UTF32String}</b>, s::<b>UTF32String</b>) at <a href=\"https://github.com/JuliaLang/julia/tree/bb73f3489d837e3339fce2c1aab283d3b2e97a4c/base/unicode/utf32.jl#L15\" target=\"_blank\">unicode/utf32.jl:15</a><li> convert(::<b>Type{UTF32String}</b>, str::<b>UTF8String</b>) at <a href=\"https://github.com/JuliaLang/julia/tree/bb73f3489d837e3339fce2c1aab283d3b2e97a4c/base/unicode/utf32.jl#L38\" target=\"_blank\">unicode/utf32.jl:38</a><li> convert(::<b>Type{UTF32String}</b>, str::<b>UTF16String</b>) at <a href=\"https://github.com/JuliaLang/julia/tree/bb73f3489d837e3339fce2c1aab283d3b2e97a4c/base/unicode/utf32.jl#L83\" target=\"_blank\">unicode/utf32.jl:83</a><li> convert(::<b>Type{UTF32String}</b>, str::<b>ASCIIString</b>) at <a href=\"https://github.com/JuliaLang/julia/tree/bb73f3489d837e3339fce2c1aab283d3b2e97a4c/base/unicode/utf32.jl#L117\" target=\"_blank\">unicode/utf32.jl:117</a><li> convert(::<b>Type{UTF32String}</b>, str::<b>AbstractString</b>) at <a href=\"https://github.com/JuliaLang/julia/tree/bb73f3489d837e3339fce2c1aab283d3b2e97a4c/base/unicode/utf32.jl#L18\" target=\"_blank\">unicode/utf32.jl:18</a><li> convert(::<b>Type{UTF32String}</b>, dat::<b>AbstractArray{UInt32,1}</b>) at <a href=\"https://github.com/JuliaLang/julia/tree/bb73f3489d837e3339fce2c1aab283d3b2e97a4c/base/unicode/utf32.jl#L122\" target=\"_blank\">unicode/utf32.jl:122</a><li> convert<i>{T<:Union{Char,Int32}}</i>(::<b>Type{UTF32String}</b>, data::<b>AbstractArray{T<:Union{Char,Int32},1}</b>) at <a href=\"https://github.com/JuliaLang/julia/tree/bb73f3489d837e3339fce2c1aab283d3b2e97a4c/base/unicode/utf32.jl#L125\" target=\"_blank\">unicode/utf32.jl:125</a><li> convert<i>{T<:Union{ASCIIString,UTF8String},S<:Union{Char,Int32,UInt32}}</i>(::<b>Type{T<:Union{ASCIIString,UTF8String}}</b>, data::<b>AbstractArray{S<:Union{Char,Int32,UInt32},1}</b>) at <a href=\"https://github.com/JuliaLang/julia/tree/bb73f3489d837e3339fce2c1aab283d3b2e97a4c/base/unicode/utf32.jl#L133\" target=\"_blank\">unicode/utf32.jl:133</a><li> convert<i>{T<:AbstractString,S<:Union{Char,Int32,UInt32}}</i>(::<b>Type{T<:AbstractString}</b>, v::<b>AbstractArray{S<:Union{Char,Int32,UInt32},1}</b>) at <a href=\"https://github.com/JuliaLang/julia/tree/bb73f3489d837e3339fce2c1aab283d3b2e97a4c/base/unicode/utf32.jl#L128\" target=\"_blank\">unicode/utf32.jl:128</a><li> convert(::<b>Type{Array{UInt32,1}}</b>, str::<b>UTF32String</b>) at <a href=\"https://github.com/JuliaLang/julia/tree/bb73f3489d837e3339fce2c1aab283d3b2e97a4c/base/unicode/utf32.jl#L141\" target=\"_blank\">unicode/utf32.jl:141</a><li> convert(::<b>Type{Array{UInt32,N}}</b>, str::<b>UTF32String</b>) at <a href=\"https://github.com/JuliaLang/julia/tree/bb73f3489d837e3339fce2c1aab283d3b2e97a4c/base/unicode/utf32.jl#L142\" target=\"_blank\">unicode/utf32.jl:142</a><li> convert(T::<b>Type{UTF32String}</b>, bytes::<b>AbstractArray{UInt8,N}</b>) at <a href=\"https://github.com/JuliaLang/julia/tree/bb73f3489d837e3339fce2c1aab283d3b2e97a4c/base/unicode/utf32.jl#L148\" target=\"_blank\">unicode/utf32.jl:148</a><li> convert<i>{S<:AbstractString}</i>(::<b>Type{S<:AbstractString}</b>, g::<b>Base.UTF8proc.GraphemeIterator{S<:AbstractString}</b>) at <a href=\"https://github.com/JuliaLang/julia/tree/bb73f3489d837e3339fce2c1aab283d3b2e97a4c/base/unicode/utf8proc.jl#L229\" target=\"_blank\">unicode/utf8proc.jl:229</a><li> convert(::<b>Type{Base.Libc.FILE}</b>, s::<b>IO</b>) at <a href=\"https://github.com/JuliaLang/julia/tree/bb73f3489d837e3339fce2c1aab283d3b2e97a4c/base/libc.jl#L61\" target=\"_blank\">libc.jl:61</a><li> convert<i>{T}</i>(::<b>Type{Nullable{T}}</b>, x::<b>Nullable{T}</b>) at <a href=\"https://github.com/JuliaLang/julia/tree/bb73f3489d837e3339fce2c1aab283d3b2e97a4c/base/nullable.jl#L11\" target=\"_blank\">nullable.jl:11</a><li> convert<i>{T}</i>(::<b>Type{Nullable{T}}</b>, x::<b>Nullable{T}</b>) at <a href=\"https://github.com/JuliaLang/julia/tree/bb73f3489d837e3339fce2c1aab283d3b2e97a4c/base/nullable.jl#L14\" target=\"_blank\">nullable.jl:14</a><li> convert<i>{T}</i>(::<b>Type{Nullable{T}}</b>, ::<b>Void</b>) at <a href=\"https://github.com/JuliaLang/julia/tree/bb73f3489d837e3339fce2c1aab283d3b2e97a4c/base/nullable.jl#L19\" target=\"_blank\">nullable.jl:19</a><li> convert(::<b>Type{Nullable{T}}</b>, ::<b>Void</b>) at <a href=\"https://github.com/JuliaLang/julia/tree/bb73f3489d837e3339fce2c1aab283d3b2e97a4c/base/nullable.jl#L20\" target=\"_blank\">nullable.jl:20</a><li> convert<i>{T}</i>(::<b>Type{Nullable{T}}</b>, x::<b>T</b>) at <a href=\"https://github.com/JuliaLang/julia/tree/bb73f3489d837e3339fce2c1aab283d3b2e97a4c/base/nullable.jl#L17\" target=\"_blank\">nullable.jl:17</a><li> convert<i>{T<:Integer}</i>(dt::<b>Type{T<:Integer}</b>, ip::<b>Base.IPAddr</b>) at <a href=\"https://github.com/JuliaLang/julia/tree/bb73f3489d837e3339fce2c1aab283d3b2e97a4c/base/socket.jl#L7\" target=\"_blank\">socket.jl:7</a><li> convert(::<b>Type{Float32}</b>, val::<b>Float16</b>) at <a href=\"https://github.com/JuliaLang/julia/tree/bb73f3489d837e3339fce2c1aab283d3b2e97a4c/base/float16.jl#L4\" target=\"_blank\">float16.jl:4</a><li> convert(::<b>Type{Float16}</b>, val::<b>Float32</b>) at <a href=\"https://github.com/JuliaLang/julia/tree/bb73f3489d837e3339fce2c1aab283d3b2e97a4c/base/float16.jl#L83\" target=\"_blank\">float16.jl:83</a><li> convert(::<b>Type{Int128}</b>, x::<b>Float16</b>) at <a href=\"https://github.com/JuliaLang/julia/tree/bb73f3489d837e3339fce2c1aab283d3b2e97a4c/base/float16.jl#L102\" target=\"_blank\">float16.jl:102</a><li> convert(::<b>Type{UInt128}</b>, x::<b>Float16</b>) at <a href=\"https://github.com/JuliaLang/julia/tree/bb73f3489d837e3339fce2c1aab283d3b2e97a4c/base/float16.jl#L103\" target=\"_blank\">float16.jl:103</a><li> convert(::<b>Type{VersionNumber}</b>, v::<b>Integer</b>) at <a href=\"https://github.com/JuliaLang/julia/tree/bb73f3489d837e3339fce2c1aab283d3b2e97a4c/base/version.jl#L71\" target=\"_blank\">version.jl:71</a><li> convert(::<b>Type{VersionNumber}</b>, v::<b>Tuple</b>) at <a href=\"https://github.com/JuliaLang/julia/tree/bb73f3489d837e3339fce2c1aab283d3b2e97a4c/base/version.jl#L72\" target=\"_blank\">version.jl:72</a><li> convert(::<b>Type{VersionNumber}</b>, v::<b>AbstractString</b>) at <a href=\"https://github.com/JuliaLang/julia/tree/bb73f3489d837e3339fce2c1aab283d3b2e97a4c/base/version.jl#L109\" target=\"_blank\">version.jl:109</a><li> convert(::<b>Type{BigInt}</b>, x::<b>BigInt</b>) at <a href=\"https://github.com/JuliaLang/julia/tree/bb73f3489d837e3339fce2c1aab283d3b2e97a4c/base/gmp.jl#L82\" target=\"_blank\">gmp.jl:82</a><li> convert(::<b>Type{BigInt}</b>, x::<b>Union{Int32,Int64}</b>) at <a href=\"https://github.com/JuliaLang/julia/tree/bb73f3489d837e3339fce2c1aab283d3b2e97a4c/base/gmp.jl#L111\" target=\"_blank\">gmp.jl:111</a><li> convert(::<b>Type{BigInt}</b>, x::<b>Union{UInt32,UInt64}</b>) at <a href=\"https://github.com/JuliaLang/julia/tree/bb73f3489d837e3339fce2c1aab283d3b2e97a4c/base/gmp.jl#L116\" target=\"_blank\">gmp.jl:116</a><li> convert(::<b>Type{BigInt}</b>, x::<b>Bool</b>) at <a href=\"https://github.com/JuliaLang/julia/tree/bb73f3489d837e3339fce2c1aab283d3b2e97a4c/base/gmp.jl#L121\" target=\"_blank\">gmp.jl:121</a><li> convert(::<b>Type{BigInt}</b>, x::<b>Float32</b>) at <a href=\"https://github.com/JuliaLang/julia/tree/bb73f3489d837e3339fce2c1aab283d3b2e97a4c/base/gmp.jl#L141\" target=\"_blank\">gmp.jl:141</a><li> convert(::<b>Type{BigInt}</b>, x::<b>Union{Float32,Float64}</b>) at <a href=\"https://github.com/JuliaLang/julia/tree/bb73f3489d837e3339fce2c1aab283d3b2e97a4c/base/gmp.jl#L131\" target=\"_blank\">gmp.jl:131</a><li> convert(::<b>Type{BigInt}</b>, x::<b>Integer</b>) at <a href=\"https://github.com/JuliaLang/julia/tree/bb73f3489d837e3339fce2c1aab283d3b2e97a4c/base/gmp.jl#L144\" target=\"_blank\">gmp.jl:144</a><li> convert<i>{T<:Unsigned}</i>(::<b>Type{T<:Unsigned}</b>, x::<b>BigInt</b>) at <a href=\"https://github.com/JuliaLang/julia/tree/bb73f3489d837e3339fce2c1aab283d3b2e97a4c/base/gmp.jl#L182\" target=\"_blank\">gmp.jl:182</a><li> convert<i>{T<:Signed}</i>(::<b>Type{T<:Signed}</b>, x::<b>BigInt</b>) at <a href=\"https://github.com/JuliaLang/julia/tree/bb73f3489d837e3339fce2c1aab283d3b2e97a4c/base/gmp.jl#L191\" target=\"_blank\">gmp.jl:191</a><li> convert(::<b>Type{Float64}</b>, n::<b>BigInt</b>) at <a href=\"https://github.com/JuliaLang/julia/tree/bb73f3489d837e3339fce2c1aab283d3b2e97a4c/base/gmp.jl#L243\" target=\"_blank\">gmp.jl:243</a><li> convert(::<b>Type{Float32}</b>, n::<b>BigInt</b>) at <a href=\"https://github.com/JuliaLang/julia/tree/bb73f3489d837e3339fce2c1aab283d3b2e97a4c/base/gmp.jl#L244\" target=\"_blank\">gmp.jl:244</a><li> convert(::<b>Type{BigFloat}</b>, x::<b>BigFloat</b>) at <a href=\"https://github.com/JuliaLang/julia/tree/bb73f3489d837e3339fce2c1aab283d3b2e97a4c/base/mpfr.jl#L69\" target=\"_blank\">mpfr.jl:69</a><li> convert(::<b>Type{BigFloat}</b>, x::<b>Int64</b>) at <a href=\"https://github.com/JuliaLang/julia/tree/bb73f3489d837e3339fce2c1aab283d3b2e97a4c/base/mpfr.jl#L75\" target=\"_blank\">mpfr.jl:75</a><li> convert(::<b>Type{BigFloat}</b>, x::<b>UInt64</b>) at <a href=\"https://github.com/JuliaLang/julia/tree/bb73f3489d837e3339fce2c1aab283d3b2e97a4c/base/mpfr.jl#L75\" target=\"_blank\">mpfr.jl:75</a><li> convert(::<b>Type{BigFloat}</b>, x::<b>Float64</b>) at <a href=\"https://github.com/JuliaLang/julia/tree/bb73f3489d837e3339fce2c1aab283d3b2e97a4c/base/mpfr.jl#L75\" target=\"_blank\">mpfr.jl:75</a><li> convert(::<b>Type{BigFloat}</b>, x::<b>BigInt</b>) at <a href=\"https://github.com/JuliaLang/julia/tree/bb73f3489d837e3339fce2c1aab283d3b2e97a4c/base/mpfr.jl#L83\" target=\"_blank\">mpfr.jl:83</a><li> convert(::<b>Type{BigFloat}</b>, x::<b>Union{Bool,Int16,Int32,Int8}</b>) at <a href=\"https://github.com/JuliaLang/julia/tree/bb73f3489d837e3339fce2c1aab283d3b2e97a4c/base/mpfr.jl#L90\" target=\"_blank\">mpfr.jl:90</a><li> convert(::<b>Type{BigFloat}</b>, x::<b>Union{UInt16,UInt32,UInt8}</b>) at <a href=\"https://github.com/JuliaLang/julia/tree/bb73f3489d837e3339fce2c1aab283d3b2e97a4c/base/mpfr.jl#L91\" target=\"_blank\">mpfr.jl:91</a><li> convert(::<b>Type{BigFloat}</b>, x::<b>Integer</b>) at <a href=\"https://github.com/JuliaLang/julia/tree/bb73f3489d837e3339fce2c1aab283d3b2e97a4c/base/mpfr.jl#L88\" target=\"_blank\">mpfr.jl:88</a><li> convert(::<b>Type{BigFloat}</b>, x::<b>Union{Float16,Float32}</b>) at <a href=\"https://github.com/JuliaLang/julia/tree/bb73f3489d837e3339fce2c1aab283d3b2e97a4c/base/mpfr.jl#L93\" target=\"_blank\">mpfr.jl:93</a><li> convert(::<b>Type{AbstractFloat}</b>, x::<b>BigInt</b>) at <a href=\"https://github.com/JuliaLang/julia/tree/bb73f3489d837e3339fce2c1aab283d3b2e97a4c/base/mpfr.jl#L103\" target=\"_blank\">mpfr.jl:103</a><li> convert(::<b>Type{BigInt}</b>, x::<b>BigFloat</b>) at <a href=\"https://github.com/JuliaLang/julia/tree/bb73f3489d837e3339fce2c1aab283d3b2e97a4c/base/mpfr.jl#L166\" target=\"_blank\">mpfr.jl:166</a><li> convert(::<b>Type{Float64}</b>, x::<b>BigFloat</b>) at <a href=\"https://github.com/JuliaLang/julia/tree/bb73f3489d837e3339fce2c1aab283d3b2e97a4c/base/mpfr.jl#L176\" target=\"_blank\">mpfr.jl:176</a><li> convert(::<b>Type{Float32}</b>, x::<b>BigFloat</b>) at <a href=\"https://github.com/JuliaLang/julia/tree/bb73f3489d837e3339fce2c1aab283d3b2e97a4c/base/mpfr.jl#L178\" target=\"_blank\">mpfr.jl:178</a><li> convert(::<b>Type{Float16}</b>, x::<b>BigFloat</b>) at <a href=\"https://github.com/JuliaLang/julia/tree/bb73f3489d837e3339fce2c1aab283d3b2e97a4c/base/mpfr.jl#L181\" target=\"_blank\">mpfr.jl:181</a><li> convert(::<b>Type{UInt128}</b>, u::<b>Base.Random.UUID</b>) at <a href=\"https://github.com/JuliaLang/julia/tree/bb73f3489d837e3339fce2c1aab283d3b2e97a4c/base/random.jl#L1240\" target=\"_blank\">random.jl:1240</a><li> convert(::<b>Type{Base.Random.UUID}</b>, s::<b>AbstractString</b>) at <a href=\"https://github.com/JuliaLang/julia/tree/bb73f3489d837e3339fce2c1aab283d3b2e97a4c/base/random.jl#L1243\" target=\"_blank\">random.jl:1243</a><li> convert<i>{T<:Integer}</i>(::<b>Type{T<:Integer}</b>, x::<b>Enum</b>) at <a href=\"https://github.com/JuliaLang/julia/tree/bb73f3489d837e3339fce2c1aab283d3b2e97a4c/base/Enums.jl#L9\" target=\"_blank\">Enums.jl:9</a><li> convert(::<b>Type{Base.WorkerState}</b>, ::<b>Integer</b>) at <a href=\"https://github.com/JuliaLang/julia/tree/bb73f3489d837e3339fce2c1aab283d3b2e97a4c/base/Enums.jl#L79\" target=\"_blank\">Enums.jl:79</a><li> convert<i>{TS,TA,N}</i>(::<b>Type{SharedArray{TS,N}}</b>, A::<b>Array{TA,N}</b>) at <a href=\"https://github.com/JuliaLang/julia/tree/bb73f3489d837e3339fce2c1aab283d3b2e97a4c/base/sharedarray.jl#L199\" target=\"_blank\">sharedarray.jl:199</a><li> convert<i>{T}</i>(::<b>Type{SharedArray{T,N}}</b>, A::<b>Array{T,N}</b>) at <a href=\"https://github.com/JuliaLang/julia/tree/bb73f3489d837e3339fce2c1aab283d3b2e97a4c/base/sharedarray.jl#L198\" target=\"_blank\">sharedarray.jl:198</a><li> convert(::<b>Type{SharedArray{T,N}}</b>, A::<b>Array{T,N}</b>) at <a href=\"https://github.com/JuliaLang/julia/tree/bb73f3489d837e3339fce2c1aab283d3b2e97a4c/base/sharedarray.jl#L197\" target=\"_blank\">sharedarray.jl:197</a><li> convert<i>{T}</i>(::<b>Type{SymTridiagonal{T}}</b>, S::<b>SymTridiagonal{T}</b>) at <a href=\"https://github.com/JuliaLang/julia/tree/bb73f3489d837e3339fce2c1aab283d3b2e97a4c/base/linalg/tridiag.jl#L33\" target=\"_blank\">linalg/tridiag.jl:33</a><li> convert<i>{T}</i>(::<b>Type{Tridiagonal{T}}</b>, M::<b>Tridiagonal{T}</b>) at <a href=\"https://github.com/JuliaLang/julia/tree/bb73f3489d837e3339fce2c1aab283d3b2e97a4c/base/linalg/tridiag.jl#L417\" target=\"_blank\">linalg/tridiag.jl:417</a><li> convert(::<b>Type{Tridiagonal{T}}</b>, A::<b>SymTridiagonal{T}</b>) at <a href=\"https://github.com/JuliaLang/julia/tree/bb73f3489d837e3339fce2c1aab283d3b2e97a4c/base/linalg/special.jl#L72\" target=\"_blank\">linalg/special.jl:72</a><li> convert<i>{T}</i>(::<b>Type{Tridiagonal{T}}</b>, M::<b>SymTridiagonal{T}</b>) at <a href=\"https://github.com/JuliaLang/julia/tree/bb73f3489d837e3339fce2c1aab283d3b2e97a4c/base/linalg/tridiag.jl#L419\" target=\"_blank\">linalg/tridiag.jl:419</a><li> convert<i>{T}</i>(::<b>Type{SymTridiagonal{T}}</b>, M::<b>Tridiagonal{T}</b>) at <a href=\"https://github.com/JuliaLang/julia/tree/bb73f3489d837e3339fce2c1aab283d3b2e97a4c/base/linalg/tridiag.jl#L421\" target=\"_blank\">linalg/tridiag.jl:421</a><li> convert<i>{T,S}</i>(::<b>Type{LowerTriangular{T,S<:AbstractArray{T,2}}}</b>, A::<b>LowerTriangular{T,S}</b>) at <a href=\"https://github.com/JuliaLang/julia/tree/bb73f3489d837e3339fce2c1aab283d3b2e97a4c/base/linalg/triangular.jl#L20\" target=\"_blank\">linalg/triangular.jl:20</a><li> convert<i>{Tnew,Told,S}</i>(::<b>Type{LowerTriangular{Tnew,S<:AbstractArray{T,2}}}</b>, A::<b>LowerTriangular{Told,S}</b>) at <a href=\"https://github.com/JuliaLang/julia/tree/bb73f3489d837e3339fce2c1aab283d3b2e97a4c/base/linalg/triangular.jl#L21\" target=\"_blank\">linalg/triangular.jl:21</a><li> convert<i>{T,S}</i>(::<b>Type{Base.LinAlg.UnitLowerTriangular{T,S<:AbstractArray{T,2}}}</b>, A::<b>Base.LinAlg.UnitLowerTriangular{T,S}</b>) at <a href=\"https://github.com/JuliaLang/julia/tree/bb73f3489d837e3339fce2c1aab283d3b2e97a4c/base/linalg/triangular.jl#L20\" target=\"_blank\">linalg/triangular.jl:20</a><li> convert<i>{Tnew,Told,S}</i>(::<b>Type{Base.LinAlg.UnitLowerTriangular{Tnew,S<:AbstractArray{T,2}}}</b>, A::<b>Base.LinAlg.UnitLowerTriangular{Told,S}</b>) at <a href=\"https://github.com/JuliaLang/julia/tree/bb73f3489d837e3339fce2c1aab283d3b2e97a4c/base/linalg/triangular.jl#L21\" target=\"_blank\">linalg/triangular.jl:21</a><li> convert<i>{T,S}</i>(::<b>Type{UpperTriangular{T,S<:AbstractArray{T,2}}}</b>, A::<b>UpperTriangular{T,S}</b>) at <a href=\"https://github.com/JuliaLang/julia/tree/bb73f3489d837e3339fce2c1aab283d3b2e97a4c/base/linalg/triangular.jl#L20\" target=\"_blank\">linalg/triangular.jl:20</a><li> convert<i>{Tnew,Told,S}</i>(::<b>Type{UpperTriangular{Tnew,S<:AbstractArray{T,2}}}</b>, A::<b>UpperTriangular{Told,S}</b>) at <a href=\"https://github.com/JuliaLang/julia/tree/bb73f3489d837e3339fce2c1aab283d3b2e97a4c/base/linalg/triangular.jl#L21\" target=\"_blank\">linalg/triangular.jl:21</a><li> convert<i>{T,S}</i>(::<b>Type{Base.LinAlg.UnitUpperTriangular{T,S<:AbstractArray{T,2}}}</b>, A::<b>Base.LinAlg.UnitUpperTriangular{T,S}</b>) at <a href=\"https://github.com/JuliaLang/julia/tree/bb73f3489d837e3339fce2c1aab283d3b2e97a4c/base/linalg/triangular.jl#L20\" target=\"_blank\">linalg/triangular.jl:20</a><li> convert<i>{Tnew,Told,S}</i>(::<b>Type{Base.LinAlg.UnitUpperTriangular{Tnew,S<:AbstractArray{T,2}}}</b>, A::<b>Base.LinAlg.UnitUpperTriangular{Told,S}</b>) at <a href=\"https://github.com/JuliaLang/julia/tree/bb73f3489d837e3339fce2c1aab283d3b2e97a4c/base/linalg/triangular.jl#L21\" target=\"_blank\">linalg/triangular.jl:21</a><li> convert<i>{T}</i>(::<b>Type{Factorization{T}}</b>, A::<b>Base.LinAlg.QR{T,S<:AbstractArray{T,2}}</b>) at <a href=\"https://github.com/JuliaLang/julia/tree/bb73f3489d837e3339fce2c1aab283d3b2e97a4c/base/linalg/qr.jl#L59\" target=\"_blank\">linalg/qr.jl:59</a><li> convert<i>{T}</i>(::<b>Type{Factorization{T}}</b>, A::<b>Base.LinAlg.QRCompactWY{S,M<:AbstractArray{T,2}}</b>) at <a href=\"https://github.com/JuliaLang/julia/tree/bb73f3489d837e3339fce2c1aab283d3b2e97a4c/base/linalg/qr.jl#L61\" target=\"_blank\">linalg/qr.jl:61</a><li> convert<i>{T}</i>(::<b>Type{Factorization{T}}</b>, A::<b>Base.LinAlg.QRPivoted{T,S<:AbstractArray{T,2}}</b>) at <a href=\"https://github.com/JuliaLang/julia/tree/bb73f3489d837e3339fce2c1aab283d3b2e97a4c/base/linalg/qr.jl#L63\" target=\"_blank\">linalg/qr.jl:63</a><li> convert<i>{T}</i>(::<b>Type{Factorization{T}}</b>, C::<b>Base.LinAlg.Cholesky{T,S<:AbstractArray{T,2}}</b>) at <a href=\"https://github.com/JuliaLang/julia/tree/bb73f3489d837e3339fce2c1aab283d3b2e97a4c/base/linalg/cholesky.jl#L152\" target=\"_blank\">linalg/cholesky.jl:152</a><li> convert<i>{T}</i>(::<b>Type{Factorization{T}}</b>, C::<b>Base.LinAlg.CholeskyPivoted{T,S<:AbstractArray{T,2}}</b>) at <a href=\"https://github.com/JuliaLang/julia/tree/bb73f3489d837e3339fce2c1aab283d3b2e97a4c/base/linalg/cholesky.jl#L155\" target=\"_blank\">linalg/cholesky.jl:155</a><li> convert<i>{T}</i>(::<b>Type{Factorization{T}}</b>, F::<b>Base.LinAlg.LU{T,S<:AbstractArray{T,2}}</b>) at <a href=\"https://github.com/JuliaLang/julia/tree/bb73f3489d837e3339fce2c1aab283d3b2e97a4c/base/linalg/lu.jl#L102\" target=\"_blank\">linalg/lu.jl:102</a><li> convert<i>{T}</i>(::<b>Type{Factorization{T}}</b>, B::<b>Base.LinAlg.BunchKaufman{T,S<:AbstractArray{T,2}}</b>) at <a href=\"https://github.com/JuliaLang/julia/tree/bb73f3489d837e3339fce2c1aab283d3b2e97a4c/base/linalg/bunchkaufman.jl#L31\" target=\"_blank\">linalg/bunchkaufman.jl:31</a><li> convert<i>{T,S,U}</i>(::<b>Type{Factorization{T}}</b>, F::<b>Base.LinAlg.LDLt{S,U}</b>) at <a href=\"https://github.com/JuliaLang/julia/tree/bb73f3489d837e3339fce2c1aab283d3b2e97a4c/base/linalg/ldlt.jl#L15\" target=\"_blank\">linalg/ldlt.jl:15</a><li> convert<i>{T}</i>(::<b>Type{Factorization{T}}</b>, F::<b>Factorization{T}</b>) at <a href=\"https://github.com/JuliaLang/julia/tree/bb73f3489d837e3339fce2c1aab283d3b2e97a4c/base/linalg/factorization.jl#L21\" target=\"_blank\">linalg/factorization.jl:21</a><li> convert<i>{T}</i>(::<b>Type{Base.LinAlg.QR{T,S<:AbstractArray{T,2}}}</b>, A::<b>Base.LinAlg.QR{T,S<:AbstractArray{T,2}}</b>) at <a href=\"https://github.com/JuliaLang/julia/tree/bb73f3489d837e3339fce2c1aab283d3b2e97a4c/base/linalg/qr.jl#L58\" target=\"_blank\">linalg/qr.jl:58</a><li> convert<i>{T}</i>(::<b>Type{Base.LinAlg.QRCompactWY{T,M<:AbstractArray{T,2}}}</b>, A::<b>Base.LinAlg.QRCompactWY{S,M<:AbstractArray{T,2}}</b>) at <a href=\"https://github.com/JuliaLang/julia/tree/bb73f3489d837e3339fce2c1aab283d3b2e97a4c/base/linalg/qr.jl#L60\" target=\"_blank\">linalg/qr.jl:60</a><li> convert<i>{T}</i>(::<b>Type{Base.LinAlg.QRPivoted{T,S<:AbstractArray{T,2}}}</b>, A::<b>Base.LinAlg.QRPivoted{T,S<:AbstractArray{T,2}}</b>) at <a href=\"https://github.com/JuliaLang/julia/tree/bb73f3489d837e3339fce2c1aab283d3b2e97a4c/base/linalg/qr.jl#L62\" target=\"_blank\">linalg/qr.jl:62</a><li> convert<i>{T}</i>(::<b>Type{Base.LinAlg.QRPackedQ{T,S<:AbstractArray{T,2}}}</b>, Q::<b>Base.LinAlg.QRPackedQ{T,S<:AbstractArray{T,2}}</b>) at <a href=\"https://github.com/JuliaLang/julia/tree/bb73f3489d837e3339fce2c1aab283d3b2e97a4c/base/linalg/qr.jl#L124\" target=\"_blank\">linalg/qr.jl:124</a><li> convert<i>{S}</i>(::<b>Type{Base.LinAlg.QRCompactWYQ{S,M<:AbstractArray{T,2}}}</b>, Q::<b>Base.LinAlg.QRCompactWYQ{S,M<:AbstractArray{T,2}}</b>) at <a href=\"https://github.com/JuliaLang/julia/tree/bb73f3489d837e3339fce2c1aab283d3b2e97a4c/base/linalg/qr.jl#L126\" target=\"_blank\">linalg/qr.jl:126</a><li> convert<i>{Tnew,Told,S}</i>(::<b>Type{Base.LinAlg.Cholesky{Tnew,S<:AbstractArray{T,2}}}</b>, C::<b>Base.LinAlg.Cholesky{Told,S}</b>) at <a href=\"https://github.com/JuliaLang/julia/tree/bb73f3489d837e3339fce2c1aab283d3b2e97a4c/base/linalg/cholesky.jl#L145\" target=\"_blank\">linalg/cholesky.jl:145</a><li> convert<i>{T,S}</i>(::<b>Type{Base.LinAlg.Cholesky{T,S}}</b>, C::<b>Base.LinAlg.Cholesky{T,S<:AbstractArray{T,2}}</b>) at <a href=\"https://github.com/JuliaLang/julia/tree/bb73f3489d837e3339fce2c1aab283d3b2e97a4c/base/linalg/cholesky.jl#L149\" target=\"_blank\">linalg/cholesky.jl:149</a><li> convert<i>{T}</i>(::<b>Type{Base.LinAlg.CholeskyPivoted{T,S<:AbstractArray{T,2}}}</b>, C::<b>Base.LinAlg.CholeskyPivoted{T,S<:AbstractArray{T,2}}</b>) at <a href=\"https://github.com/JuliaLang/julia/tree/bb73f3489d837e3339fce2c1aab283d3b2e97a4c/base/linalg/cholesky.jl#L153\" target=\"_blank\">linalg/cholesky.jl:153</a><li> convert<i>{T}</i>(::<b>Type{Base.LinAlg.LU{T,S<:AbstractArray{T,2}}}</b>, F::<b>Base.LinAlg.LU{T,S<:AbstractArray{T,2}}</b>) at <a href=\"https://github.com/JuliaLang/julia/tree/bb73f3489d837e3339fce2c1aab283d3b2e97a4c/base/linalg/lu.jl#L98\" target=\"_blank\">linalg/lu.jl:98</a><li> convert<i>{T,S}</i>(::<b>Type{Base.LinAlg.LU{T,S}}</b>, F::<b>Base.LinAlg.LU{T,S<:AbstractArray{T,2}}</b>) at <a href=\"https://github.com/JuliaLang/julia/tree/bb73f3489d837e3339fce2c1aab283d3b2e97a4c/base/linalg/lu.jl#L101\" target=\"_blank\">linalg/lu.jl:101</a><li> convert<i>{T}</i>(::<b>Type{Base.LinAlg.BunchKaufman{T,S<:AbstractArray{T,2}}}</b>, B::<b>Base.LinAlg.BunchKaufman{T,S<:AbstractArray{T,2}}</b>) at <a href=\"https://github.com/JuliaLang/julia/tree/bb73f3489d837e3339fce2c1aab283d3b2e97a4c/base/linalg/bunchkaufman.jl#L30\" target=\"_blank\">linalg/bunchkaufman.jl:30</a><li> convert<i>{T,S<:AbstractArray{T,2}}</i>(::<b>Type{Symmetric{T,S<:AbstractArray{T,2}}}</b>, A::<b>Symmetric{T,S<:AbstractArray{T,2}}</b>) at <a href=\"https://github.com/JuliaLang/julia/tree/bb73f3489d837e3339fce2c1aab283d3b2e97a4c/base/linalg/symmetric.jl#L32\" target=\"_blank\">linalg/symmetric.jl:32</a><li> convert<i>{T,S<:AbstractArray{T,2}}</i>(::<b>Type{Symmetric{T,S<:AbstractArray{T,2}}}</b>, A::<b>Symmetric{T,S<:AbstractArray{T,2}}</b>) at <a href=\"https://github.com/JuliaLang/julia/tree/bb73f3489d837e3339fce2c1aab283d3b2e97a4c/base/linalg/symmetric.jl#L33\" target=\"_blank\">linalg/symmetric.jl:33</a><li> convert<i>{T,S<:AbstractArray{T,2}}</i>(::<b>Type{Hermitian{T,S<:AbstractArray{T,2}}}</b>, A::<b>Hermitian{T,S<:AbstractArray{T,2}}</b>) at <a href=\"https://github.com/JuliaLang/julia/tree/bb73f3489d837e3339fce2c1aab283d3b2e97a4c/base/linalg/symmetric.jl#L35\" target=\"_blank\">linalg/symmetric.jl:35</a><li> convert<i>{T,S<:AbstractArray{T,2}}</i>(::<b>Type{Hermitian{T,S<:AbstractArray{T,2}}}</b>, A::<b>Hermitian{T,S<:AbstractArray{T,2}}</b>) at <a href=\"https://github.com/JuliaLang/julia/tree/bb73f3489d837e3339fce2c1aab283d3b2e97a4c/base/linalg/symmetric.jl#L36\" target=\"_blank\">linalg/symmetric.jl:36</a><li> convert<i>{T}</i>(::<b>Type{Diagonal{T}}</b>, D::<b>Diagonal{T}</b>) at <a href=\"https://github.com/JuliaLang/julia/tree/bb73f3489d837e3339fce2c1aab283d3b2e97a4c/base/linalg/diagonal.jl#L10\" target=\"_blank\">linalg/diagonal.jl:10</a><li> convert<i>{T}</i>(::<b>Type{Diagonal{T}}</b>, D::<b>Diagonal{T}</b>) at <a href=\"https://github.com/JuliaLang/julia/tree/bb73f3489d837e3339fce2c1aab283d3b2e97a4c/base/linalg/diagonal.jl#L11\" target=\"_blank\">linalg/diagonal.jl:11</a><li> convert<i>{T}</i>(::<b>Type{UpperTriangular{T,S<:AbstractArray{T,2}}}</b>, A::<b>Diagonal{T}</b>) at <a href=\"https://github.com/JuliaLang/julia/tree/bb73f3489d837e3339fce2c1aab283d3b2e97a4c/base/linalg/diagonal.jl#L13\" target=\"_blank\">linalg/diagonal.jl:13</a><li> convert<i>{T}</i>(::<b>Type{LowerTriangular{T,S<:AbstractArray{T,2}}}</b>, A::<b>Diagonal{T}</b>) at <a href=\"https://github.com/JuliaLang/julia/tree/bb73f3489d837e3339fce2c1aab283d3b2e97a4c/base/linalg/diagonal.jl#L14\" target=\"_blank\">linalg/diagonal.jl:14</a><li> convert<i>{T}</i>(::<b>Type{Tridiagonal{T}}</b>, A::<b>Bidiagonal{T}</b>) at <a href=\"https://github.com/JuliaLang/julia/tree/bb73f3489d837e3339fce2c1aab283d3b2e97a4c/base/linalg/bidiag.jl#L65\" target=\"_blank\">linalg/bidiag.jl:65</a><li> convert<i>{T}</i>(::<b>Type{Base.LinAlg.Givens{T}}</b>, G::<b>Base.LinAlg.Givens{T}</b>) at <a href=\"https://github.com/JuliaLang/julia/tree/bb73f3489d837e3339fce2c1aab283d3b2e97a4c/base/linalg/givens.jl#L27\" target=\"_blank\">linalg/givens.jl:27</a><li> convert<i>{T}</i>(::<b>Type{Base.LinAlg.Givens{T}}</b>, G::<b>Base.LinAlg.Givens{T}</b>) at <a href=\"https://github.com/JuliaLang/julia/tree/bb73f3489d837e3339fce2c1aab283d3b2e97a4c/base/linalg/givens.jl#L28\" target=\"_blank\">linalg/givens.jl:28</a><li> convert<i>{T}</i>(::<b>Type{Base.LinAlg.Rotation{T}}</b>, R::<b>Base.LinAlg.Rotation{T}</b>) at <a href=\"https://github.com/JuliaLang/julia/tree/bb73f3489d837e3339fce2c1aab283d3b2e97a4c/base/linalg/givens.jl#L29\" target=\"_blank\">linalg/givens.jl:29</a><li> convert<i>{T}</i>(::<b>Type{Base.LinAlg.Rotation{T}}</b>, R::<b>Base.LinAlg.Rotation{T}</b>) at <a href=\"https://github.com/JuliaLang/julia/tree/bb73f3489d837e3339fce2c1aab283d3b2e97a4c/base/linalg/givens.jl#L30\" target=\"_blank\">linalg/givens.jl:30</a><li> convert<i>{T}</i>(::<b>Type{Base.LinAlg.AbstractRotation{T}}</b>, G::<b>Base.LinAlg.Givens{T}</b>) at <a href=\"https://github.com/JuliaLang/julia/tree/bb73f3489d837e3339fce2c1aab283d3b2e97a4c/base/linalg/givens.jl#L31\" target=\"_blank\">linalg/givens.jl:31</a><li> convert<i>{T}</i>(::<b>Type{Base.LinAlg.AbstractRotation{T}}</b>, R::<b>Base.LinAlg.Rotation{T}</b>) at <a href=\"https://github.com/JuliaLang/julia/tree/bb73f3489d837e3339fce2c1aab283d3b2e97a4c/base/linalg/givens.jl#L32\" target=\"_blank\">linalg/givens.jl:32</a><li> convert<i>{T}</i>(::<b>Type{Bidiagonal{T}}</b>, A::<b>Diagonal{T}</b>) at <a href=\"https://github.com/JuliaLang/julia/tree/bb73f3489d837e3339fce2c1aab283d3b2e97a4c/base/linalg/special.jl#L6\" target=\"_blank\">linalg/special.jl:6</a><li> convert<i>{T}</i>(::<b>Type{SymTridiagonal{T}}</b>, A::<b>Diagonal{T}</b>) at <a href=\"https://github.com/JuliaLang/julia/tree/bb73f3489d837e3339fce2c1aab283d3b2e97a4c/base/linalg/special.jl#L7\" target=\"_blank\">linalg/special.jl:7</a><li> convert<i>{T}</i>(::<b>Type{Tridiagonal{T}}</b>, A::<b>Diagonal{T}</b>) at <a href=\"https://github.com/JuliaLang/julia/tree/bb73f3489d837e3339fce2c1aab283d3b2e97a4c/base/linalg/special.jl#L8\" target=\"_blank\">linalg/special.jl:8</a><li> convert(::<b>Type{LowerTriangular{T,S<:AbstractArray{T,2}}}</b>, A::<b>Bidiagonal{T}</b>) at <a href=\"https://github.com/JuliaLang/julia/tree/bb73f3489d837e3339fce2c1aab283d3b2e97a4c/base/linalg/special.jl#L9\" target=\"_blank\">linalg/special.jl:9</a><li> convert(::<b>Type{UpperTriangular{T,S<:AbstractArray{T,2}}}</b>, A::<b>Bidiagonal{T}</b>) at <a href=\"https://github.com/JuliaLang/julia/tree/bb73f3489d837e3339fce2c1aab283d3b2e97a4c/base/linalg/special.jl#L10\" target=\"_blank\">linalg/special.jl:10</a><li> convert(::<b>Type{Base.LinAlg.UnitUpperTriangular{T,S<:AbstractArray{T,2}}}</b>, A::<b>Diagonal{T}</b>) at <a href=\"https://github.com/JuliaLang/julia/tree/bb73f3489d837e3339fce2c1aab283d3b2e97a4c/base/linalg/special.jl#L14\" target=\"_blank\">linalg/special.jl:14</a><li> convert(::<b>Type{Base.LinAlg.UnitLowerTriangular{T,S<:AbstractArray{T,2}}}</b>, A::<b>Diagonal{T}</b>) at <a href=\"https://github.com/JuliaLang/julia/tree/bb73f3489d837e3339fce2c1aab283d3b2e97a4c/base/linalg/special.jl#L21\" target=\"_blank\">linalg/special.jl:21</a><li> convert(::<b>Type{Diagonal{T}}</b>, A::<b>Union{Bidiagonal{T},SymTridiagonal{T}}</b>) at <a href=\"https://github.com/JuliaLang/julia/tree/bb73f3489d837e3339fce2c1aab283d3b2e97a4c/base/linalg/special.jl#L28\" target=\"_blank\">linalg/special.jl:28</a><li> convert(::<b>Type{SymTridiagonal{T}}</b>, A::<b>Bidiagonal{T}</b>) at <a href=\"https://github.com/JuliaLang/julia/tree/bb73f3489d837e3339fce2c1aab283d3b2e97a4c/base/linalg/special.jl#L35\" target=\"_blank\">linalg/special.jl:35</a><li> convert<i>{T}</i>(::<b>Type{Tridiagonal{T}}</b>, A::<b>Bidiagonal{T}</b>) at <a href=\"https://github.com/JuliaLang/julia/tree/bb73f3489d837e3339fce2c1aab283d3b2e97a4c/base/linalg/special.jl#L41\" target=\"_blank\">linalg/special.jl:41</a><li> convert(::<b>Type{Bidiagonal{T}}</b>, A::<b>SymTridiagonal{T}</b>) at <a href=\"https://github.com/JuliaLang/julia/tree/bb73f3489d837e3339fce2c1aab283d3b2e97a4c/base/linalg/special.jl#L44\" target=\"_blank\">linalg/special.jl:44</a><li> convert(::<b>Type{Diagonal{T}}</b>, A::<b>Tridiagonal{T}</b>) at <a href=\"https://github.com/JuliaLang/julia/tree/bb73f3489d837e3339fce2c1aab283d3b2e97a4c/base/linalg/special.jl#L51\" target=\"_blank\">linalg/special.jl:51</a><li> convert(::<b>Type{Bidiagonal{T}}</b>, A::<b>Tridiagonal{T}</b>) at <a href=\"https://github.com/JuliaLang/julia/tree/bb73f3489d837e3339fce2c1aab283d3b2e97a4c/base/linalg/special.jl#L58\" target=\"_blank\">linalg/special.jl:58</a><li> convert(::<b>Type{SymTridiagonal{T}}</b>, A::<b>Tridiagonal{T}</b>) at <a href=\"https://github.com/JuliaLang/julia/tree/bb73f3489d837e3339fce2c1aab283d3b2e97a4c/base/linalg/special.jl#L65\" target=\"_blank\">linalg/special.jl:65</a><li> convert(::<b>Type{Diagonal{T}}</b>, A::<b>Base.LinAlg.AbstractTriangular{T,S<:AbstractArray{T,2}}</b>) at <a href=\"https://github.com/JuliaLang/julia/tree/bb73f3489d837e3339fce2c1aab283d3b2e97a4c/base/linalg/special.jl#L76\" target=\"_blank\">linalg/special.jl:76</a><li> convert(::<b>Type{Bidiagonal{T}}</b>, A::<b>Base.LinAlg.AbstractTriangular{T,S<:AbstractArray{T,2}}</b>) at <a href=\"https://github.com/JuliaLang/julia/tree/bb73f3489d837e3339fce2c1aab283d3b2e97a4c/base/linalg/special.jl#L83\" target=\"_blank\">linalg/special.jl:83</a><li> convert(::<b>Type{SymTridiagonal{T}}</b>, A::<b>Base.LinAlg.AbstractTriangular{T,S<:AbstractArray{T,2}}</b>) at <a href=\"https://github.com/JuliaLang/julia/tree/bb73f3489d837e3339fce2c1aab283d3b2e97a4c/base/linalg/special.jl#L93\" target=\"_blank\">linalg/special.jl:93</a><li> convert(::<b>Type{Tridiagonal{T}}</b>, A::<b>Base.LinAlg.AbstractTriangular{T,S<:AbstractArray{T,2}}</b>) at <a href=\"https://github.com/JuliaLang/julia/tree/bb73f3489d837e3339fce2c1aab283d3b2e97a4c/base/linalg/special.jl#L96\" target=\"_blank\">linalg/special.jl:96</a><li> convert<i>{T,S,U<:AbstractArray{T,2}}</i>(::<b>Type{Base.LinAlg.LDLt{T,S<:AbstractArray{T,2}}}</b>, F::<b>Base.LinAlg.LDLt{S,U<:AbstractArray{T,2}}</b>) at <a href=\"https://github.com/JuliaLang/julia/tree/bb73f3489d837e3339fce2c1aab283d3b2e97a4c/base/linalg/ldlt.jl#L13\" target=\"_blank\">linalg/ldlt.jl:13</a><li> convert<i>{T,S}</i>(::<b>Type{Base.LinAlg.LDLt{T,S}}</b>, F::<b>Base.LinAlg.LDLt{T,S<:AbstractArray{T,2}}</b>) at <a href=\"https://github.com/JuliaLang/julia/tree/bb73f3489d837e3339fce2c1aab283d3b2e97a4c/base/linalg/ldlt.jl#L10\" target=\"_blank\">linalg/ldlt.jl:10</a><li> convert<i>{Tv,TvS,TiS}</i>(::<b>Type{SparseMatrixCSC{Tv,Ti<:Integer}}</b>, S::<b>SparseMatrixCSC{TvS,TiS}</b>) at <a href=\"https://github.com/JuliaLang/julia/tree/bb73f3489d837e3339fce2c1aab283d3b2e97a4c/base/sparse/sparsematrix.jl#L203\" target=\"_blank\">sparse/sparsematrix.jl:203</a><li> convert<i>{Tv,Ti,TvS,TiS}</i>(::<b>Type{SparseMatrixCSC{Tv,Ti}}</b>, S::<b>SparseMatrixCSC{TvS,TiS}</b>) at <a href=\"https://github.com/JuliaLang/julia/tree/bb73f3489d837e3339fce2c1aab283d3b2e97a4c/base/sparse/sparsematrix.jl#L192\" target=\"_blank\">sparse/sparsematrix.jl:192</a><li> convert<i>{Tv}</i>(::<b>Type{SparseMatrixCSC{Tv,Int64}}</b>, A::<b>Base.SparseMatrix.CHOLMOD.Sparse{Tv}</b>) at <a href=\"https://github.com/JuliaLang/julia/tree/bb73f3489d837e3339fce2c1aab283d3b2e97a4c/base/sparse/cholmod.jl#L955\" target=\"_blank\">sparse/cholmod.jl:955</a><li> convert<i>{Tv,Ti}</i>(::<b>Type{SparseMatrixCSC{Tv,Ti}}</b>, M::<b>AbstractArray{T,2}</b>) at <a href=\"https://github.com/JuliaLang/julia/tree/bb73f3489d837e3339fce2c1aab283d3b2e97a4c/base/sparse/sparsematrix.jl#L214\" target=\"_blank\">sparse/sparsematrix.jl:214</a><li> convert<i>{T<:Union{Complex{Float64},Float64}}</i>(::<b>Type{Base.SparseMatrix.CHOLMOD.Dense{T<:Union{Complex{Float64},Float64}}}</b>, A::<b>Union{Array{T<:Union{Complex{Float64},Float64},1},Array{T<:Union{Complex{Float64},Float64},2}}</b>) at <a href=\"https://github.com/JuliaLang/julia/tree/bb73f3489d837e3339fce2c1aab283d3b2e97a4c/base/sparse/cholmod.jl#L799\" target=\"_blank\">sparse/cholmod.jl:799</a><li> convert(::<b>Type{Base.SparseMatrix.CHOLMOD.Dense{T<:Union{Complex{Float64},Float64}}}</b>, A::<b>Union{Array{T,1},Array{T,2}}</b>) at <a href=\"https://github.com/JuliaLang/julia/tree/bb73f3489d837e3339fce2c1aab283d3b2e97a4c/base/sparse/cholmod.jl#L804\" target=\"_blank\">sparse/cholmod.jl:804</a><li> convert(::<b>Type{Base.SparseMatrix.CHOLMOD.Dense{T<:Union{Complex{Float64},Float64}}}</b>, A::<b>Base.SparseMatrix.CHOLMOD.Sparse{Tv<:Union{Complex{Float64},Float64}}</b>) at <a href=\"https://github.com/JuliaLang/julia/tree/bb73f3489d837e3339fce2c1aab283d3b2e97a4c/base/sparse/cholmod.jl#L805\" target=\"_blank\">sparse/cholmod.jl:805</a><li> convert<i>{Tv<:Union{Complex{Float64},Float64}}</i>(::<b>Type{Base.SparseMatrix.CHOLMOD.Sparse{Tv<:Union{Complex{Float64},Float64}}}</b>, m::<b>Integer</b>, n::<b>Integer</b>, colptr::<b>Array{Int64,1}</b>, rowval::<b>Array{Int64,1}</b>, nzval::<b>Array{Tv<:Union{Complex{Float64},Float64},1}</b>, stype) at <a href=\"https://github.com/JuliaLang/julia/tree/bb73f3489d837e3339fce2c1aab283d3b2e97a4c/base/sparse/cholmod.jl#L811\" target=\"_blank\">sparse/cholmod.jl:811</a><li> convert<i>{Tv<:Union{Complex{Float64},Float64}}</i>(::<b>Type{Base.SparseMatrix.CHOLMOD.Sparse{Tv<:Union{Complex{Float64},Float64}}}</b>, m::<b>Integer</b>, n::<b>Integer</b>, colptr::<b>Array{Int64,1}</b>, rowval::<b>Array{Int64,1}</b>, nzval::<b>Array{Tv<:Union{Complex{Float64},Float64},1}</b>) at <a href=\"https://github.com/JuliaLang/julia/tree/bb73f3489d837e3339fce2c1aab283d3b2e97a4c/base/sparse/cholmod.jl#L832\" target=\"_blank\">sparse/cholmod.jl:832</a><li> convert<i>{Tv<:Union{Complex{Float64},Float64}}</i>(::<b>Type{Base.SparseMatrix.CHOLMOD.Sparse{Tv<:Union{Complex{Float64},Float64}}}</b>, A::<b>SparseMatrixCSC{Tv<:Union{Complex{Float64},Float64},Int64}</b>, stype::<b>Integer</b>) at <a href=\"https://github.com/JuliaLang/julia/tree/bb73f3489d837e3339fce2c1aab283d3b2e97a4c/base/sparse/cholmod.jl#L842\" target=\"_blank\">sparse/cholmod.jl:842</a><li> convert<i>{Tv<:Union{Complex{Float64},Float64},Ti<:Union{Int32,Int64}}</i>(::<b>Type{Base.SparseMatrix.CHOLMOD.Sparse{Tv<:Union{Complex{Float64},Float64}}}</b>, A::<b>SparseMatrixCSC{Tv<:Union{Complex{Float64},Float64},Ti<:Union{Int32,Int64}}</b>) at <a href=\"https://github.com/JuliaLang/julia/tree/bb73f3489d837e3339fce2c1aab283d3b2e97a4c/base/sparse/cholmod.jl#L858\" target=\"_blank\">sparse/cholmod.jl:858</a><li> convert<i>{Ti<:Union{Int32,Int64}}</i>(::<b>Type{Base.SparseMatrix.CHOLMOD.Sparse{Tv<:Union{Complex{Float64},Float64}}}</b>, A::<b>SparseMatrixCSC{Float32,Ti<:Union{Int32,Int64}}</b>) at <a href=\"https://github.com/JuliaLang/julia/tree/bb73f3489d837e3339fce2c1aab283d3b2e97a4c/base/sparse/cholmod.jl#L865\" target=\"_blank\">sparse/cholmod.jl:865</a><li> convert<i>{Ti<:Union{Int32,Int64}}</i>(::<b>Type{Base.SparseMatrix.CHOLMOD.Sparse{Tv<:Union{Complex{Float64},Float64}}}</b>, A::<b>SparseMatrixCSC{Complex{Float32},Ti<:Union{Int32,Int64}}</b>) at <a href=\"https://github.com/JuliaLang/julia/tree/bb73f3489d837e3339fce2c1aab283d3b2e97a4c/base/sparse/cholmod.jl#L866\" target=\"_blank\">sparse/cholmod.jl:866</a><li> convert(::<b>Type{Base.SparseMatrix.CHOLMOD.Sparse{Tv<:Union{Complex{Float64},Float64}}}</b>, A::<b>Symmetric{Float64,SparseMatrixCSC{Float64,Int64}}</b>) at <a href=\"https://github.com/JuliaLang/julia/tree/bb73f3489d837e3339fce2c1aab283d3b2e97a4c/base/sparse/cholmod.jl#L867\" target=\"_blank\">sparse/cholmod.jl:867</a><li> convert<i>{Tv<:Union{Complex{Float64},Float64}}</i>(::<b>Type{Base.SparseMatrix.CHOLMOD.Sparse{Tv<:Union{Complex{Float64},Float64}}}</b>, A::<b>Hermitian{Tv<:Union{Complex{Float64},Float64},SparseMatrixCSC{Tv<:Union{Complex{Float64},Float64},Int64}}</b>) at <a href=\"https://github.com/JuliaLang/julia/tree/bb73f3489d837e3339fce2c1aab283d3b2e97a4c/base/sparse/cholmod.jl#L868\" target=\"_blank\">sparse/cholmod.jl:868</a><li> convert<i>{T,Ti<:Union{Int32,Int64}}</i>(::<b>Type{Base.SparseMatrix.CHOLMOD.Sparse{Tv<:Union{Complex{Float64},Float64}}}</b>, A::<b>Union{Hermitian{T,SparseMatrixCSC{T,Ti<:Union{Int32,Int64}}},SparseMatrixCSC{T,Ti<:Union{Int32,Int64}},Symmetric{T,SparseMatrixCSC{T,Ti<:Union{Int32,Int64}}}}</b>, args...) at <a href=\"https://github.com/JuliaLang/julia/tree/bb73f3489d837e3339fce2c1aab283d3b2e97a4c/base/sparse/cholmod.jl#L874\" target=\"_blank\">sparse/cholmod.jl:874</a><li> convert(::<b>Type{Base.SparseMatrix.CHOLMOD.Sparse{Tv<:Union{Complex{Float64},Float64}}}</b>, p::<b>Ptr{Base.SparseMatrix.CHOLMOD.C_SparseVoid}</b>) at <a href=\"https://github.com/JuliaLang/julia/tree/bb73f3489d837e3339fce2c1aab283d3b2e97a4c/base/sparse/cholmod.jl#L880\" target=\"_blank\">sparse/cholmod.jl:880</a><li> convert(::<b>Type{Base.SparseMatrix.CHOLMOD.Sparse{Tv<:Union{Complex{Float64},Float64}}}</b>, A::<b>Base.SparseMatrix.CHOLMOD.Dense{T<:Union{Complex{Float64},Float64}}</b>) at <a href=\"https://github.com/JuliaLang/julia/tree/bb73f3489d837e3339fce2c1aab283d3b2e97a4c/base/sparse/cholmod.jl#L922\" target=\"_blank\">sparse/cholmod.jl:922</a><li> convert(::<b>Type{Base.SparseMatrix.CHOLMOD.Sparse{Tv<:Union{Complex{Float64},Float64}}}</b>, L::<b>Base.SparseMatrix.CHOLMOD.Factor{Tv}</b>) at <a href=\"https://github.com/JuliaLang/julia/tree/bb73f3489d837e3339fce2c1aab283d3b2e97a4c/base/sparse/cholmod.jl#L923\" target=\"_blank\">sparse/cholmod.jl:923</a><li> convert(::<b>Type{Base.SparseMatrix.CHOLMOD.Sparse{Tv<:Union{Complex{Float64},Float64}}}</b>, filename::<b>ByteString</b>) at <a href=\"https://github.com/JuliaLang/julia/tree/bb73f3489d837e3339fce2c1aab283d3b2e97a4c/base/sparse/cholmod.jl#L925\" target=\"_blank\">sparse/cholmod.jl:925</a><li> convert(::<b>Type{Symmetric{Float64,SparseMatrixCSC{Float64,Int64}}}</b>, A::<b>Base.SparseMatrix.CHOLMOD.Sparse{Float64}</b>) at <a href=\"https://github.com/JuliaLang/julia/tree/bb73f3489d837e3339fce2c1aab283d3b2e97a4c/base/sparse/cholmod.jl#L962\" target=\"_blank\">sparse/cholmod.jl:962</a><li> convert<i>{Tv<:Union{Complex{Float64},Float64}}</i>(::<b>Type{Hermitian{Tv<:Union{Complex{Float64},Float64},SparseMatrixCSC{Tv<:Union{Complex{Float64},Float64},Int64}}}</b>, A::<b>Base.SparseMatrix.CHOLMOD.Sparse{Tv<:Union{Complex{Float64},Float64}}</b>) at <a href=\"https://github.com/JuliaLang/julia/tree/bb73f3489d837e3339fce2c1aab283d3b2e97a4c/base/sparse/cholmod.jl#L969\" target=\"_blank\">sparse/cholmod.jl:969</a><li> convert(::<b>Type{AbstractFloat}</b>, x::<b>Irrational{sym}</b>) at <a href=\"https://github.com/JuliaLang/julia/tree/bb73f3489d837e3339fce2c1aab283d3b2e97a4c/base/irrationals.jl#L13\" target=\"_blank\">irrationals.jl:13</a><li> convert(::<b>Type{Float16}</b>, x::<b>Irrational{sym}</b>) at <a href=\"https://github.com/JuliaLang/julia/tree/bb73f3489d837e3339fce2c1aab283d3b2e97a4c/base/irrationals.jl#L14\" target=\"_blank\">irrationals.jl:14</a><li> convert<i>{T<:Integer}</i>(::<b>Type{Rational{T<:Integer}}</b>, x::<b>Irrational{sym}</b>) at <a href=\"https://github.com/JuliaLang/julia/tree/bb73f3489d837e3339fce2c1aab283d3b2e97a4c/base/irrationals.jl#L16\" target=\"_blank\">irrationals.jl:16</a><li> convert(::<b>Type{BigFloat}</b>, ::<b>Irrational{:π}</b>) at <a href=\"https://github.com/JuliaLang/julia/tree/bb73f3489d837e3339fce2c1aab283d3b2e97a4c/base/irrationals.jl#L80\" target=\"_blank\">irrationals.jl:80</a><li> convert(::<b>Type{Float64}</b>, ::<b>Irrational{:π}</b>) at <a href=\"https://github.com/JuliaLang/julia/tree/bb73f3489d837e3339fce2c1aab283d3b2e97a4c/base/irrationals.jl#L92\" target=\"_blank\">irrationals.jl:92</a><li> convert(::<b>Type{Float32}</b>, ::<b>Irrational{:π}</b>) at <a href=\"https://github.com/JuliaLang/julia/tree/bb73f3489d837e3339fce2c1aab283d3b2e97a4c/base/irrationals.jl#L93\" target=\"_blank\">irrationals.jl:93</a><li> convert(::<b>Type{BigFloat}</b>, ::<b>Irrational{:e}</b>) at <a href=\"https://github.com/JuliaLang/julia/tree/bb73f3489d837e3339fce2c1aab283d3b2e97a4c/base/irrationals.jl#L87\" target=\"_blank\">irrationals.jl:87</a><li> convert(::<b>Type{Float64}</b>, ::<b>Irrational{:e}</b>) at <a href=\"https://github.com/JuliaLang/julia/tree/bb73f3489d837e3339fce2c1aab283d3b2e97a4c/base/irrationals.jl#L92\" target=\"_blank\">irrationals.jl:92</a><li> convert(::<b>Type{Float32}</b>, ::<b>Irrational{:e}</b>) at <a href=\"https://github.com/JuliaLang/julia/tree/bb73f3489d837e3339fce2c1aab283d3b2e97a4c/base/irrationals.jl#L93\" target=\"_blank\">irrationals.jl:93</a><li> convert(::<b>Type{BigFloat}</b>, ::<b>Irrational{:γ}</b>) at <a href=\"https://github.com/JuliaLang/julia/tree/bb73f3489d837e3339fce2c1aab283d3b2e97a4c/base/irrationals.jl#L80\" target=\"_blank\">irrationals.jl:80</a><li> convert(::<b>Type{Float64}</b>, ::<b>Irrational{:γ}</b>) at <a href=\"https://github.com/JuliaLang/julia/tree/bb73f3489d837e3339fce2c1aab283d3b2e97a4c/base/irrationals.jl#L92\" target=\"_blank\">irrationals.jl:92</a><li> convert(::<b>Type{Float32}</b>, ::<b>Irrational{:γ}</b>) at <a href=\"https://github.com/JuliaLang/julia/tree/bb73f3489d837e3339fce2c1aab283d3b2e97a4c/base/irrationals.jl#L93\" target=\"_blank\">irrationals.jl:93</a><li> convert(::<b>Type{BigFloat}</b>, ::<b>Irrational{:catalan}</b>) at <a href=\"https://github.com/JuliaLang/julia/tree/bb73f3489d837e3339fce2c1aab283d3b2e97a4c/base/irrationals.jl#L80\" target=\"_blank\">irrationals.jl:80</a><li> convert(::<b>Type{Float64}</b>, ::<b>Irrational{:catalan}</b>) at <a href=\"https://github.com/JuliaLang/julia/tree/bb73f3489d837e3339fce2c1aab283d3b2e97a4c/base/irrationals.jl#L92\" target=\"_blank\">irrationals.jl:92</a><li> convert(::<b>Type{Float32}</b>, ::<b>Irrational{:catalan}</b>) at <a href=\"https://github.com/JuliaLang/julia/tree/bb73f3489d837e3339fce2c1aab283d3b2e97a4c/base/irrationals.jl#L93\" target=\"_blank\">irrationals.jl:93</a><li> convert(::<b>Type{BigFloat}</b>, ::<b>Irrational{:φ}</b>) at <a href=\"https://github.com/JuliaLang/julia/tree/bb73f3489d837e3339fce2c1aab283d3b2e97a4c/base/irrationals.jl#L87\" target=\"_blank\">irrationals.jl:87</a><li> convert(::<b>Type{Float64}</b>, ::<b>Irrational{:φ}</b>) at <a href=\"https://github.com/JuliaLang/julia/tree/bb73f3489d837e3339fce2c1aab283d3b2e97a4c/base/irrationals.jl#L92\" target=\"_blank\">irrationals.jl:92</a><li> convert(::<b>Type{Float32}</b>, ::<b>Irrational{:φ}</b>) at <a href=\"https://github.com/JuliaLang/julia/tree/bb73f3489d837e3339fce2c1aab283d3b2e97a4c/base/irrationals.jl#L93\" target=\"_blank\">irrationals.jl:93</a><li> convert<i>{T<:Number}</i>(::<b>Type{T<:Number}</b>, x::<b>Base.Dates.Period</b>) at <a href=\"https://github.com/JuliaLang/julia/tree/bb73f3489d837e3339fce2c1aab283d3b2e97a4c/base/dates/periods.jl#L21\" target=\"_blank\">dates/periods.jl:21</a><li> convert<i>{T<:Base.Dates.Period}</i>(::<b>Type{T<:Base.Dates.Period}</b>, x::<b>Real</b>) at <a href=\"https://github.com/JuliaLang/julia/tree/bb73f3489d837e3339fce2c1aab283d3b2e97a4c/base/dates/periods.jl#L22\" target=\"_blank\">dates/periods.jl:22</a><li> convert(::<b>Type{Base.Dates.CompoundPeriod}</b>, x::<b>Base.Dates.Period</b>) at <a href=\"https://github.com/JuliaLang/julia/tree/bb73f3489d837e3339fce2c1aab283d3b2e97a4c/base/dates/periods.jl#L175\" target=\"_blank\">dates/periods.jl:175</a><li> convert(::<b>Type{Base.Dates.Week}</b>, x::<b>Base.Dates.Day</b>) at <a href=\"https://github.com/JuliaLang/julia/tree/bb73f3489d837e3339fce2c1aab283d3b2e97a4c/base/dates/periods.jl#L277\" target=\"_blank\">dates/periods.jl:277</a><li> convert(::<b>Type{Base.Dates.Week}</b>, x::<b>Base.Dates.Hour</b>) at <a href=\"https://github.com/JuliaLang/julia/tree/bb73f3489d837e3339fce2c1aab283d3b2e97a4c/base/dates/periods.jl#L277\" target=\"_blank\">dates/periods.jl:277</a><li> convert(::<b>Type{Base.Dates.Week}</b>, x::<b>Base.Dates.Minute</b>) at <a href=\"https://github.com/JuliaLang/julia/tree/bb73f3489d837e3339fce2c1aab283d3b2e97a4c/base/dates/periods.jl#L277\" target=\"_blank\">dates/periods.jl:277</a><li> convert(::<b>Type{Base.Dates.Week}</b>, x::<b>Base.Dates.Second</b>) at <a href=\"https://github.com/JuliaLang/julia/tree/bb73f3489d837e3339fce2c1aab283d3b2e97a4c/base/dates/periods.jl#L277\" target=\"_blank\">dates/periods.jl:277</a><li> convert(::<b>Type{Base.Dates.Week}</b>, x::<b>Base.Dates.Millisecond</b>) at <a href=\"https://github.com/JuliaLang/julia/tree/bb73f3489d837e3339fce2c1aab283d3b2e97a4c/base/dates/periods.jl#L277\" target=\"_blank\">dates/periods.jl:277</a><li> convert(::<b>Type{Base.Dates.Day}</b>, x::<b>Base.Dates.Week</b>) at <a href=\"https://github.com/JuliaLang/julia/tree/bb73f3489d837e3339fce2c1aab283d3b2e97a4c/base/dates/periods.jl#L270\" target=\"_blank\">dates/periods.jl:270</a><li> convert(::<b>Type{Base.Dates.Day}</b>, x::<b>Base.Dates.Hour</b>) at <a href=\"https://github.com/JuliaLang/julia/tree/bb73f3489d837e3339fce2c1aab283d3b2e97a4c/base/dates/periods.jl#L277\" target=\"_blank\">dates/periods.jl:277</a><li> convert(::<b>Type{Base.Dates.Day}</b>, x::<b>Base.Dates.Minute</b>) at <a href=\"https://github.com/JuliaLang/julia/tree/bb73f3489d837e3339fce2c1aab283d3b2e97a4c/base/dates/periods.jl#L277\" target=\"_blank\">dates/periods.jl:277</a><li> convert(::<b>Type{Base.Dates.Day}</b>, x::<b>Base.Dates.Second</b>) at <a href=\"https://github.com/JuliaLang/julia/tree/bb73f3489d837e3339fce2c1aab283d3b2e97a4c/base/dates/periods.jl#L277\" target=\"_blank\">dates/periods.jl:277</a><li> convert(::<b>Type{Base.Dates.Day}</b>, x::<b>Base.Dates.Millisecond</b>) at <a href=\"https://github.com/JuliaLang/julia/tree/bb73f3489d837e3339fce2c1aab283d3b2e97a4c/base/dates/periods.jl#L277\" target=\"_blank\">dates/periods.jl:277</a><li> convert(::<b>Type{Base.Dates.Hour}</b>, x::<b>Base.Dates.Day</b>) at <a href=\"https://github.com/JuliaLang/julia/tree/bb73f3489d837e3339fce2c1aab283d3b2e97a4c/base/dates/periods.jl#L270\" target=\"_blank\">dates/periods.jl:270</a><li> convert(::<b>Type{Base.Dates.Hour}</b>, x::<b>Base.Dates.Week</b>) at <a href=\"https://github.com/JuliaLang/julia/tree/bb73f3489d837e3339fce2c1aab283d3b2e97a4c/base/dates/periods.jl#L270\" target=\"_blank\">dates/periods.jl:270</a><li> convert(::<b>Type{Base.Dates.Hour}</b>, x::<b>Base.Dates.Minute</b>) at <a href=\"https://github.com/JuliaLang/julia/tree/bb73f3489d837e3339fce2c1aab283d3b2e97a4c/base/dates/periods.jl#L277\" target=\"_blank\">dates/periods.jl:277</a><li> convert(::<b>Type{Base.Dates.Hour}</b>, x::<b>Base.Dates.Second</b>) at <a href=\"https://github.com/JuliaLang/julia/tree/bb73f3489d837e3339fce2c1aab283d3b2e97a4c/base/dates/periods.jl#L277\" target=\"_blank\">dates/periods.jl:277</a><li> convert(::<b>Type{Base.Dates.Hour}</b>, x::<b>Base.Dates.Millisecond</b>) at <a href=\"https://github.com/JuliaLang/julia/tree/bb73f3489d837e3339fce2c1aab283d3b2e97a4c/base/dates/periods.jl#L277\" target=\"_blank\">dates/periods.jl:277</a><li> convert(::<b>Type{Base.Dates.Minute}</b>, x::<b>Base.Dates.Hour</b>) at <a href=\"https://github.com/JuliaLang/julia/tree/bb73f3489d837e3339fce2c1aab283d3b2e97a4c/base/dates/periods.jl#L270\" target=\"_blank\">dates/periods.jl:270</a><li> convert(::<b>Type{Base.Dates.Minute}</b>, x::<b>Base.Dates.Day</b>) at <a href=\"https://github.com/JuliaLang/julia/tree/bb73f3489d837e3339fce2c1aab283d3b2e97a4c/base/dates/periods.jl#L270\" target=\"_blank\">dates/periods.jl:270</a><li> convert(::<b>Type{Base.Dates.Minute}</b>, x::<b>Base.Dates.Week</b>) at <a href=\"https://github.com/JuliaLang/julia/tree/bb73f3489d837e3339fce2c1aab283d3b2e97a4c/base/dates/periods.jl#L270\" target=\"_blank\">dates/periods.jl:270</a><li> convert(::<b>Type{Base.Dates.Minute}</b>, x::<b>Base.Dates.Second</b>) at <a href=\"https://github.com/JuliaLang/julia/tree/bb73f3489d837e3339fce2c1aab283d3b2e97a4c/base/dates/periods.jl#L277\" target=\"_blank\">dates/periods.jl:277</a><li> convert(::<b>Type{Base.Dates.Minute}</b>, x::<b>Base.Dates.Millisecond</b>) at <a href=\"https://github.com/JuliaLang/julia/tree/bb73f3489d837e3339fce2c1aab283d3b2e97a4c/base/dates/periods.jl#L277\" target=\"_blank\">dates/periods.jl:277</a><li> convert(::<b>Type{Base.Dates.Second}</b>, x::<b>Base.Dates.Minute</b>) at <a href=\"https://github.com/JuliaLang/julia/tree/bb73f3489d837e3339fce2c1aab283d3b2e97a4c/base/dates/periods.jl#L270\" target=\"_blank\">dates/periods.jl:270</a><li> convert(::<b>Type{Base.Dates.Second}</b>, x::<b>Base.Dates.Hour</b>) at <a href=\"https://github.com/JuliaLang/julia/tree/bb73f3489d837e3339fce2c1aab283d3b2e97a4c/base/dates/periods.jl#L270\" target=\"_blank\">dates/periods.jl:270</a><li> convert(::<b>Type{Base.Dates.Second}</b>, x::<b>Base.Dates.Day</b>) at <a href=\"https://github.com/JuliaLang/julia/tree/bb73f3489d837e3339fce2c1aab283d3b2e97a4c/base/dates/periods.jl#L270\" target=\"_blank\">dates/periods.jl:270</a><li> convert(::<b>Type{Base.Dates.Second}</b>, x::<b>Base.Dates.Week</b>) at <a href=\"https://github.com/JuliaLang/julia/tree/bb73f3489d837e3339fce2c1aab283d3b2e97a4c/base/dates/periods.jl#L270\" target=\"_blank\">dates/periods.jl:270</a><li> convert(::<b>Type{Base.Dates.Second}</b>, x::<b>Base.Dates.Millisecond</b>) at <a href=\"https://github.com/JuliaLang/julia/tree/bb73f3489d837e3339fce2c1aab283d3b2e97a4c/base/dates/periods.jl#L277\" target=\"_blank\">dates/periods.jl:277</a><li> convert(::<b>Type{Base.Dates.Millisecond}</b>, x::<b>Base.Dates.Second</b>) at <a href=\"https://github.com/JuliaLang/julia/tree/bb73f3489d837e3339fce2c1aab283d3b2e97a4c/base/dates/periods.jl#L270\" target=\"_blank\">dates/periods.jl:270</a><li> convert(::<b>Type{Base.Dates.Millisecond}</b>, x::<b>Base.Dates.Minute</b>) at <a href=\"https://github.com/JuliaLang/julia/tree/bb73f3489d837e3339fce2c1aab283d3b2e97a4c/base/dates/periods.jl#L270\" target=\"_blank\">dates/periods.jl:270</a><li> convert(::<b>Type{Base.Dates.Millisecond}</b>, x::<b>Base.Dates.Hour</b>) at <a href=\"https://github.com/JuliaLang/julia/tree/bb73f3489d837e3339fce2c1aab283d3b2e97a4c/base/dates/periods.jl#L270\" target=\"_blank\">dates/periods.jl:270</a><li> convert(::<b>Type{Base.Dates.Millisecond}</b>, x::<b>Base.Dates.Day</b>) at <a href=\"https://github.com/JuliaLang/julia/tree/bb73f3489d837e3339fce2c1aab283d3b2e97a4c/base/dates/periods.jl#L270\" target=\"_blank\">dates/periods.jl:270</a><li> convert(::<b>Type{Base.Dates.Millisecond}</b>, x::<b>Base.Dates.Week</b>) at <a href=\"https://github.com/JuliaLang/julia/tree/bb73f3489d837e3339fce2c1aab283d3b2e97a4c/base/dates/periods.jl#L270\" target=\"_blank\">dates/periods.jl:270</a><li> convert(::<b>Type{Base.Dates.Month}</b>, x::<b>Base.Dates.Year</b>) at <a href=\"https://github.com/JuliaLang/julia/tree/bb73f3489d837e3339fce2c1aab283d3b2e97a4c/base/dates/periods.jl#L290\" target=\"_blank\">dates/periods.jl:290</a><li> convert(::<b>Type{Base.Dates.Year}</b>, x::<b>Base.Dates.Month</b>) at <a href=\"https://github.com/JuliaLang/julia/tree/bb73f3489d837e3339fce2c1aab283d3b2e97a4c/base/dates/periods.jl#L294\" target=\"_blank\">dates/periods.jl:294</a><li> convert(::<b>Type{DateTime}</b>, dt::<b>Date</b>) at <a href=\"https://github.com/JuliaLang/julia/tree/bb73f3489d837e3339fce2c1aab283d3b2e97a4c/base/dates/conversions.jl#L6\" target=\"_blank\">dates/conversions.jl:6</a><li> convert(::<b>Type{Date}</b>, dt::<b>DateTime</b>) at <a href=\"https://github.com/JuliaLang/julia/tree/bb73f3489d837e3339fce2c1aab283d3b2e97a4c/base/dates/conversions.jl#L7\" target=\"_blank\">dates/conversions.jl:7</a><li> convert<i>{R<:Real}</i>(::<b>Type{R<:Real}</b>, x::<b>DateTime</b>) at <a href=\"https://github.com/JuliaLang/julia/tree/bb73f3489d837e3339fce2c1aab283d3b2e97a4c/base/dates/conversions.jl#L8\" target=\"_blank\">dates/conversions.jl:8</a><li> convert<i>{R<:Real}</i>(::<b>Type{R<:Real}</b>, x::<b>Date</b>) at <a href=\"https://github.com/JuliaLang/julia/tree/bb73f3489d837e3339fce2c1aab283d3b2e97a4c/base/dates/conversions.jl#L9\" target=\"_blank\">dates/conversions.jl:9</a><li> convert<i>{T}</i>(::<b>Type{Ptr{T}}</b>, x::<b>Signed</b>) at <a href=\"https://github.com/JuliaLang/julia/tree/bb73f3489d837e3339fce2c1aab283d3b2e97a4c/base/deprecated.jl#L427\" target=\"_blank\">deprecated.jl:427</a><li> convert<i>{T}</i>(::<b>Type{Ptr{T}}</b>, x::<b>Integer</b>) at <a href=\"https://github.com/JuliaLang/julia/tree/bb73f3489d837e3339fce2c1aab283d3b2e97a4c/base/deprecated.jl#L423\" target=\"_blank\">deprecated.jl:423</a><li> convert(::<b>Type{IOStream}</b>, zmsg::<b>LastMain.LastMain.ZMQ.Message</b>) at <a href=\"https://github.com/JuliaLang/ZMQ.jl/tree/5bfcf106e579c52f2be6d91c1bfaee1e198504d7/src/ZMQ.jl#L447\" target=\"_blank\">/home/daniel/.julia/v0.4/ZMQ/src/ZMQ.jl:447</a><li> convert(::<b>Type{LastMain.LastMain.PyCall.PyObject}</b>, o) at <a href=\"https://github.com/stevengj/PyCall.jl/tree/874b044ab4239aa20993cf67e41749abf8dd9668/src/PyCall.jl#L118\" target=\"_blank\">/home/daniel/.julia/v0.4/PyCall/src/PyCall.jl:118</a><li> convert(::<b>Type{Bool}</b>, po::<b>LastMain.LastMain.PyCall.PyObject</b>) at <a href=\"https://github.com/stevengj/PyCall.jl/tree/874b044ab4239aa20993cf67e41749abf8dd9668/src/conversions.jl#L39\" target=\"_blank\">/home/daniel/.julia/v0.4/PyCall/src/conversions.jl:39</a><li> convert(::<b>Type{BigInt}</b>, o::<b>LastMain.LastMain.PyCall.PyObject</b>) at <a href=\"https://github.com/stevengj/PyCall.jl/tree/874b044ab4239aa20993cf67e41749abf8dd9668/src/conversions.jl#L688\" target=\"_blank\">/home/daniel/.julia/v0.4/PyCall/src/conversions.jl:688</a><li> convert<i>{T<:Integer}</i>(::<b>Type{T<:Integer}</b>, po::<b>LastMain.LastMain.PyCall.PyObject</b>) at <a href=\"https://github.com/stevengj/PyCall.jl/tree/874b044ab4239aa20993cf67e41749abf8dd9668/src/conversions.jl#L31\" target=\"_blank\">/home/daniel/.julia/v0.4/PyCall/src/conversions.jl:31</a><li> convert(::<b>Type{BigFloat}</b>, o::<b>LastMain.LastMain.PyCall.PyObject</b>) at <a href=\"https://github.com/stevengj/PyCall.jl/tree/874b044ab4239aa20993cf67e41749abf8dd9668/src/conversions.jl#L662\" target=\"_blank\">/home/daniel/.julia/v0.4/PyCall/src/conversions.jl:662</a><li> convert<i>{T<:Real}</i>(::<b>Type{T<:Real}</b>, po::<b>LastMain.LastMain.PyCall.PyObject</b>) at <a href=\"https://github.com/stevengj/PyCall.jl/tree/874b044ab4239aa20993cf67e41749abf8dd9668/src/conversions.jl#L42\" target=\"_blank\">/home/daniel/.julia/v0.4/PyCall/src/conversions.jl:42</a><li> convert(::<b>Type{Complex{BigFloat}}</b>, o::<b>LastMain.LastMain.PyCall.PyObject</b>) at <a href=\"https://github.com/stevengj/PyCall.jl/tree/874b044ab4239aa20993cf67e41749abf8dd9668/src/conversions.jl#L668\" target=\"_blank\">/home/daniel/.julia/v0.4/PyCall/src/conversions.jl:668</a><li> convert<i>{T<:Complex{T<:Real}}</i>(::<b>Type{T<:Complex{T<:Real}}</b>, po_::<b>LastMain.LastMain.PyCall.PyObject</b>) at <a href=\"https://github.com/stevengj/PyCall.jl/tree/874b044ab4239aa20993cf67e41749abf8dd9668/src/conversions.jl#L46\" target=\"_blank\">/home/daniel/.julia/v0.4/PyCall/src/conversions.jl:46</a><li> convert(::<b>Type{Void}</b>, po::<b>LastMain.LastMain.PyCall.PyObject</b>) at <a href=\"https://github.com/stevengj/PyCall.jl/tree/874b044ab4239aa20993cf67e41749abf8dd9668/src/conversions.jl#L56\" target=\"_blank\">/home/daniel/.julia/v0.4/PyCall/src/conversions.jl:56</a><li> convert<i>{T<:AbstractString}</i>(::<b>Type{T<:AbstractString}</b>, po::<b>LastMain.LastMain.PyCall.PyObject</b>) at <a href=\"https://github.com/stevengj/PyCall.jl/tree/874b044ab4239aa20993cf67e41749abf8dd9668/src/conversions.jl#L81\" target=\"_blank\">/home/daniel/.julia/v0.4/PyCall/src/conversions.jl:81</a><li> convert(::<b>Type{Symbol}</b>, po::<b>LastMain.LastMain.PyCall.PyObject</b>) at <a href=\"https://github.com/stevengj/PyCall.jl/tree/874b044ab4239aa20993cf67e41749abf8dd9668/src/conversions.jl#L95\" target=\"_blank\">/home/daniel/.julia/v0.4/PyCall/src/conversions.jl:95</a><li> convert(::<b>Type{Array{UInt8,1}}</b>, po::<b>LastMain.LastMain.PyCall.PyObject</b>) at <a href=\"https://github.com/stevengj/PyCall.jl/tree/874b044ab4239aa20993cf67e41749abf8dd9668/src/conversions.jl#L108\" target=\"_blank\">/home/daniel/.julia/v0.4/PyCall/src/conversions.jl:108</a><li> convert(::<b>Type{Ptr{Void}}</b>, po::<b>LastMain.LastMain.PyCall.PyObject</b>) at <a href=\"https://github.com/stevengj/PyCall.jl/tree/874b044ab4239aa20993cf67e41749abf8dd9668/src/conversions.jl#L142\" target=\"_blank\">/home/daniel/.julia/v0.4/PyCall/src/conversions.jl:142</a><li> convert(::<b>Type{LastMain.LastMain.PyCall.PyAny}</b>, o::<b>LastMain.LastMain.PyCall.PyObject</b>) at <a href=\"https://github.com/stevengj/PyCall.jl/tree/874b044ab4239aa20993cf67e41749abf8dd9668/src/conversions.jl#L818\" target=\"_blank\">/home/daniel/.julia/v0.4/PyCall/src/conversions.jl:818</a><li> convert(::<b>Type{LastMain.LastMain.PyCall.PyAny}</b>, x::<b>Int64</b>) at <a href=\"https://github.com/stevengj/PyCall.jl/tree/874b044ab4239aa20993cf67e41749abf8dd9668/src/conversions.jl#L185\" target=\"_blank\">/home/daniel/.julia/v0.4/PyCall/src/conversions.jl:185</a><li> convert(::<b>Type{LastMain.LastMain.PyCall.PyAny}</b>, x::<b>Bool</b>) at <a href=\"https://github.com/stevengj/PyCall.jl/tree/874b044ab4239aa20993cf67e41749abf8dd9668/src/conversions.jl#L185\" target=\"_blank\">/home/daniel/.julia/v0.4/PyCall/src/conversions.jl:185</a><li> convert(::<b>Type{LastMain.LastMain.PyCall.PyAny}</b>, x::<b>Float64</b>) at <a href=\"https://github.com/stevengj/PyCall.jl/tree/874b044ab4239aa20993cf67e41749abf8dd9668/src/conversions.jl#L185\" target=\"_blank\">/home/daniel/.julia/v0.4/PyCall/src/conversions.jl:185</a><li> convert(::<b>Type{LastMain.LastMain.PyCall.PyAny}</b>, x::<b>Complex{Float64}</b>) at <a href=\"https://github.com/stevengj/PyCall.jl/tree/874b044ab4239aa20993cf67e41749abf8dd9668/src/conversions.jl#L185\" target=\"_blank\">/home/daniel/.julia/v0.4/PyCall/src/conversions.jl:185</a><li> convert(::<b>Type{LastMain.LastMain.PyCall.PyAny}</b>, x::<b>AbstractString</b>) at <a href=\"https://github.com/stevengj/PyCall.jl/tree/874b044ab4239aa20993cf67e41749abf8dd9668/src/conversions.jl#L185\" target=\"_blank\">/home/daniel/.julia/v0.4/PyCall/src/conversions.jl:185</a><li> convert(::<b>Type{LastMain.LastMain.PyCall.PyAny}</b>, x::<b>Function</b>) at <a href=\"https://github.com/stevengj/PyCall.jl/tree/874b044ab4239aa20993cf67e41749abf8dd9668/src/conversions.jl#L185\" target=\"_blank\">/home/daniel/.julia/v0.4/PyCall/src/conversions.jl:185</a><li> convert(::<b>Type{LastMain.LastMain.PyCall.PyAny}</b>, x::<b>Dict{K,V}</b>) at <a href=\"https://github.com/stevengj/PyCall.jl/tree/874b044ab4239aa20993cf67e41749abf8dd9668/src/conversions.jl#L185\" target=\"_blank\">/home/daniel/.julia/v0.4/PyCall/src/conversions.jl:185</a><li> convert(::<b>Type{LastMain.LastMain.PyCall.PyAny}</b>, x::<b>Tuple</b>) at <a href=\"https://github.com/stevengj/PyCall.jl/tree/874b044ab4239aa20993cf67e41749abf8dd9668/src/conversions.jl#L185\" target=\"_blank\">/home/daniel/.julia/v0.4/PyCall/src/conversions.jl:185</a><li> convert(::<b>Type{LastMain.LastMain.PyCall.PyAny}</b>, x::<b>Array{T,N}</b>) at <a href=\"https://github.com/stevengj/PyCall.jl/tree/874b044ab4239aa20993cf67e41749abf8dd9668/src/conversions.jl#L185\" target=\"_blank\">/home/daniel/.julia/v0.4/PyCall/src/conversions.jl:185</a><li> convert(::<b>Type{Function}</b>, po::<b>LastMain.LastMain.PyCall.PyObject</b>) at <a href=\"https://github.com/stevengj/PyCall.jl/tree/874b044ab4239aa20993cf67e41749abf8dd9668/src/conversions.jl#L192\" target=\"_blank\">/home/daniel/.julia/v0.4/PyCall/src/conversions.jl:192</a><li> convert<i>{T<:Tuple}</i>(tt::<b>Type{T<:Tuple}</b>, o::<b>LastMain.LastMain.PyCall.PyObject</b>) at <a href=\"https://github.com/stevengj/PyCall.jl/tree/874b044ab4239aa20993cf67e41749abf8dd9668/src/conversions.jl#L225\" target=\"_blank\">/home/daniel/.julia/v0.4/PyCall/src/conversions.jl:225</a><li> convert<i>{T}</i>(::<b>Type{LastMain.LastMain.PyCall.PyVector{T}}</b>, o::<b>LastMain.LastMain.PyCall.PyObject</b>) at <a href=\"https://github.com/stevengj/PyCall.jl/tree/874b044ab4239aa20993cf67e41749abf8dd9668/src/conversions.jl#L253\" target=\"_blank\">/home/daniel/.julia/v0.4/PyCall/src/conversions.jl:253</a><li> convert(::<b>Type{LastMain.LastMain.PyCall.PyVector{T}}</b>, o::<b>LastMain.LastMain.PyCall.PyObject</b>) at <a href=\"https://github.com/stevengj/PyCall.jl/tree/874b044ab4239aa20993cf67e41749abf8dd9668/src/conversions.jl#L252\" target=\"_blank\">/home/daniel/.julia/v0.4/PyCall/src/conversions.jl:252</a><li> convert<i>{T<:Union{Bool,Complex{Float32},Complex{Float64},Float32,Float64,Int16,Int32,Int64,Int8,Ptr{LastMain.LastMain.PyCall.PyObject_struct},UInt16,UInt32,UInt64,UInt8}}</i>(::<b>Type{Array{T<:Union{Bool,Complex{Float32},Complex{Float64},Float32,Float64,Int16,Int32,Int64,Int8,Ptr{LastMain.LastMain.PyCall.PyObject_struct},UInt16,UInt32,UInt64,UInt8},1}}</b>, o::<b>LastMain.LastMain.PyCall.PyObject</b>) at <a href=\"https://github.com/stevengj/PyCall.jl/tree/874b044ab4239aa20993cf67e41749abf8dd9668/src/numpy.jl#L413\" target=\"_blank\">/home/daniel/.julia/v0.4/PyCall/src/numpy.jl:413</a><li> convert(::<b>Type{Array{LastMain.LastMain.PyCall.PyObject,1}}</b>, o::<b>LastMain.LastMain.PyCall.PyObject</b>) at <a href=\"https://github.com/stevengj/PyCall.jl/tree/874b044ab4239aa20993cf67e41749abf8dd9668/src/numpy.jl#L461\" target=\"_blank\">/home/daniel/.julia/v0.4/PyCall/src/numpy.jl:461</a><li> convert<i>{T}</i>(::<b>Type{Array{T,1}}</b>, o::<b>LastMain.LastMain.PyCall.PyObject</b>) at <a href=\"https://github.com/stevengj/PyCall.jl/tree/874b044ab4239aa20993cf67e41749abf8dd9668/src/conversions.jl#L405\" target=\"_blank\">/home/daniel/.julia/v0.4/PyCall/src/conversions.jl:405</a><li> convert<i>{T<:Union{Bool,Complex{Float32},Complex{Float64},Float32,Float64,Int16,Int32,Int64,Int8,Ptr{LastMain.LastMain.PyCall.PyObject_struct},UInt16,UInt32,UInt64,UInt8}}</i>(::<b>Type{Array{T<:Union{Bool,Complex{Float32},Complex{Float64},Float32,Float64,Int16,Int32,Int64,Int8,Ptr{LastMain.LastMain.PyCall.PyObject_struct},UInt16,UInt32,UInt64,UInt8},N}}</b>, o::<b>LastMain.LastMain.PyCall.PyObject</b>) at <a href=\"https://github.com/stevengj/PyCall.jl/tree/874b044ab4239aa20993cf67e41749abf8dd9668/src/numpy.jl#L423\" target=\"_blank\">/home/daniel/.julia/v0.4/PyCall/src/numpy.jl:423</a><li> convert<i>{T<:Union{Bool,Complex{Float32},Complex{Float64},Float32,Float64,Int16,Int32,Int64,Int8,Ptr{LastMain.LastMain.PyCall.PyObject_struct},UInt16,UInt32,UInt64,UInt8},N}</i>(::<b>Type{Array{T<:Union{Bool,Complex{Float32},Complex{Float64},Float32,Float64,Int16,Int32,Int64,Int8,Ptr{LastMain.LastMain.PyCall.PyObject_struct},UInt16,UInt32,UInt64,UInt8},N}}</b>, o::<b>LastMain.LastMain.PyCall.PyObject</b>) at <a href=\"https://github.com/stevengj/PyCall.jl/tree/874b044ab4239aa20993cf67e41749abf8dd9668/src/numpy.jl#L436\" target=\"_blank\">/home/daniel/.julia/v0.4/PyCall/src/numpy.jl:436</a><li> convert<i>{N}</i>(::<b>Type{Array{LastMain.LastMain.PyCall.PyObject,N}}</b>, o::<b>LastMain.LastMain.PyCall.PyObject</b>) at <a href=\"https://github.com/stevengj/PyCall.jl/tree/874b044ab4239aa20993cf67e41749abf8dd9668/src/numpy.jl#L465\" target=\"_blank\">/home/daniel/.julia/v0.4/PyCall/src/numpy.jl:465</a><li> convert(::<b>Type{Array{LastMain.LastMain.PyCall.PyObject,N}}</b>, o::<b>LastMain.LastMain.PyCall.PyObject</b>) at <a href=\"https://github.com/stevengj/PyCall.jl/tree/874b044ab4239aa20993cf67e41749abf8dd9668/src/numpy.jl#L457\" target=\"_blank\">/home/daniel/.julia/v0.4/PyCall/src/numpy.jl:457</a><li> convert<i>{T}</i>(::<b>Type{Array{T,N}}</b>, o::<b>LastMain.LastMain.PyCall.PyObject</b>) at <a href=\"https://github.com/stevengj/PyCall.jl/tree/874b044ab4239aa20993cf67e41749abf8dd9668/src/conversions.jl#L415\" target=\"_blank\">/home/daniel/.julia/v0.4/PyCall/src/conversions.jl:415</a><li> convert(::<b>Type{Array{T,N}}</b>, o::<b>LastMain.LastMain.PyCall.PyObject</b>) at <a href=\"https://github.com/stevengj/PyCall.jl/tree/874b044ab4239aa20993cf67e41749abf8dd9668/src/conversions.jl#L414\" target=\"_blank\">/home/daniel/.julia/v0.4/PyCall/src/conversions.jl:414</a><li> convert(::<b>Type{LastMain.LastMain.PyCall.PyArray{T,N}}</b>, o::<b>LastMain.LastMain.PyCall.PyObject</b>) at <a href=\"https://github.com/stevengj/PyCall.jl/tree/874b044ab4239aa20993cf67e41749abf8dd9668/src/numpy.jl#L410\" target=\"_blank\">/home/daniel/.julia/v0.4/PyCall/src/numpy.jl:410</a><li> convert<i>{K,V}</i>(::<b>Type{LastMain.LastMain.PyCall.PyDict{K,V}}</b>, o::<b>LastMain.LastMain.PyCall.PyObject</b>) at <a href=\"https://github.com/stevengj/PyCall.jl/tree/874b044ab4239aa20993cf67e41749abf8dd9668/src/conversions.jl#L448\" target=\"_blank\">/home/daniel/.julia/v0.4/PyCall/src/conversions.jl:448</a><li> convert(::<b>Type{LastMain.LastMain.PyCall.PyDict{K,V}}</b>, o::<b>LastMain.LastMain.PyCall.PyObject</b>) at <a href=\"https://github.com/stevengj/PyCall.jl/tree/874b044ab4239aa20993cf67e41749abf8dd9668/src/conversions.jl#L447\" target=\"_blank\">/home/daniel/.julia/v0.4/PyCall/src/conversions.jl:447</a><li> convert<i>{K,V}</i>(::<b>Type{Dict{K,V}}</b>, o::<b>LastMain.LastMain.PyCall.PyObject</b>) at <a href=\"https://github.com/stevengj/PyCall.jl/tree/874b044ab4239aa20993cf67e41749abf8dd9668/src/conversions.jl#L583\" target=\"_blank\">/home/daniel/.julia/v0.4/PyCall/src/conversions.jl:583</a><li> convert<i>{T<:Range{T}}</i>(::<b>Type{T<:Range{T}}</b>, o::<b>LastMain.LastMain.PyCall.PyObject</b>) at <a href=\"https://github.com/stevengj/PyCall.jl/tree/874b044ab4239aa20993cf67e41749abf8dd9668/src/conversions.jl#L606\" target=\"_blank\">/home/daniel/.julia/v0.4/PyCall/src/conversions.jl:606</a><li> convert(::<b>Type{DateTime}</b>, o::<b>LastMain.LastMain.PyCall.PyObject</b>) at <a href=\"https://github.com/stevengj/PyCall.jl/tree/874b044ab4239aa20993cf67e41749abf8dd9668/src/pydates.jl#L122\" target=\"_blank\">/home/daniel/.julia/v0.4/PyCall/src/pydates.jl:122</a><li> convert(::<b>Type{Date}</b>, o::<b>LastMain.LastMain.PyCall.PyObject</b>) at <a href=\"https://github.com/stevengj/PyCall.jl/tree/874b044ab4239aa20993cf67e41749abf8dd9668/src/pydates.jl#L142\" target=\"_blank\">/home/daniel/.julia/v0.4/PyCall/src/pydates.jl:142</a><li> convert(::<b>Type{Base.Dates.Millisecond}</b>, o::<b>LastMain.LastMain.PyCall.PyObject</b>) at <a href=\"https://github.com/stevengj/PyCall.jl/tree/874b044ab4239aa20993cf67e41749abf8dd9668/src/pydates.jl#L162\" target=\"_blank\">/home/daniel/.julia/v0.4/PyCall/src/pydates.jl:162</a><li> convert(::<b>Type{Base.Dates.Second}</b>, o::<b>LastMain.LastMain.PyCall.PyObject</b>) at <a href=\"https://github.com/stevengj/PyCall.jl/tree/874b044ab4239aa20993cf67e41749abf8dd9668/src/pydates.jl#L167\" target=\"_blank\">/home/daniel/.julia/v0.4/PyCall/src/pydates.jl:167</a><li> convert(::<b>Type{Base.Dates.Day}</b>, o::<b>LastMain.LastMain.PyCall.PyObject</b>) at <a href=\"https://github.com/stevengj/PyCall.jl/tree/874b044ab4239aa20993cf67e41749abf8dd9668/src/pydates.jl#L172\" target=\"_blank\">/home/daniel/.julia/v0.4/PyCall/src/pydates.jl:172</a><li> convert<i>{T,f}</i>(::<b>Type{LastMain.LastMain.FixedPointNumbers.Fixed{T,f}}</b>, x::<b>Integer</b>) at <a href=\"https://github.com/JeffBezanson/FixedPointNumbers.jl/tree/404d4bef6eb278b9a83aea5beeaa88a2f8333827/src/fixed.jl#L33\" target=\"_blank\">/home/daniel/.julia/v0.4/FixedPointNumbers/src/fixed.jl:33</a><li> convert<i>{T,f}</i>(::<b>Type{LastMain.LastMain.FixedPointNumbers.Fixed{T,f}}</b>, x::<b>AbstractFloat</b>) at <a href=\"https://github.com/JeffBezanson/FixedPointNumbers.jl/tree/404d4bef6eb278b9a83aea5beeaa88a2f8333827/src/fixed.jl#L34\" target=\"_blank\">/home/daniel/.julia/v0.4/FixedPointNumbers/src/fixed.jl:34</a><li> convert<i>{T,f}</i>(::<b>Type{LastMain.LastMain.FixedPointNumbers.Fixed{T,f}}</b>, x::<b>Rational{T<:Integer}</b>) at <a href=\"https://github.com/JeffBezanson/FixedPointNumbers.jl/tree/404d4bef6eb278b9a83aea5beeaa88a2f8333827/src/fixed.jl#L35\" target=\"_blank\">/home/daniel/.julia/v0.4/FixedPointNumbers/src/fixed.jl:35</a><li> convert<i>{T,f}</i>(::<b>Type{BigFloat}</b>, x::<b>LastMain.LastMain.FixedPointNumbers.Fixed{T,f}</b>) at <a href=\"https://github.com/JeffBezanson/FixedPointNumbers.jl/tree/404d4bef6eb278b9a83aea5beeaa88a2f8333827/src/fixed.jl#L37\" target=\"_blank\">/home/daniel/.julia/v0.4/FixedPointNumbers/src/fixed.jl:37</a><li> convert<i>{TF<:AbstractFloat,T,f}</i>(::<b>Type{TF<:AbstractFloat}</b>, x::<b>LastMain.LastMain.FixedPointNumbers.Fixed{T,f}</b>) at <a href=\"https://github.com/JeffBezanson/FixedPointNumbers.jl/tree/404d4bef6eb278b9a83aea5beeaa88a2f8333827/src/fixed.jl#L39\" target=\"_blank\">/home/daniel/.julia/v0.4/FixedPointNumbers/src/fixed.jl:39</a><li> convert<i>{TR<:Rational{T<:Integer},T,f}</i>(::<b>Type{TR<:Rational{T<:Integer}}</b>, x::<b>LastMain.LastMain.FixedPointNumbers.Fixed{T,f}</b>) at <a href=\"https://github.com/JeffBezanson/FixedPointNumbers.jl/tree/404d4bef6eb278b9a83aea5beeaa88a2f8333827/src/fixed.jl#L48\" target=\"_blank\">/home/daniel/.julia/v0.4/FixedPointNumbers/src/fixed.jl:48</a><li> convert(::<b>Type{LastMain.LastMain.FixedPointNumbers.UFixed{UInt16,16}}</b>, x::<b>LastMain.LastMain.FixedPointNumbers.UFixed{UInt8,8}</b>) at <a href=\"https://github.com/JeffBezanson/FixedPointNumbers.jl/tree/404d4bef6eb278b9a83aea5beeaa88a2f8333827/src/ufixed.jl#L53\" target=\"_blank\">/home/daniel/.julia/v0.4/FixedPointNumbers/src/ufixed.jl:53</a><li> convert<i>{T<:LastMain.LastMain.FixedPointNumbers.UFixed{T<:Unsigned,f}}</i>(::<b>Type{T<:LastMain.LastMain.FixedPointNumbers.UFixed{T<:Unsigned,f}}</b>, x::<b>T<:LastMain.LastMain.FixedPointNumbers.UFixed{T<:Unsigned,f}</b>) at <a href=\"https://github.com/JeffBezanson/FixedPointNumbers.jl/tree/404d4bef6eb278b9a83aea5beeaa88a2f8333827/src/ufixed.jl#L51\" target=\"_blank\">/home/daniel/.julia/v0.4/FixedPointNumbers/src/ufixed.jl:51</a><li> convert<i>{T1<:LastMain.LastMain.FixedPointNumbers.UFixed{T<:Unsigned,f}}</i>(::<b>Type{T1<:LastMain.LastMain.FixedPointNumbers.UFixed{T<:Unsigned,f}}</b>, x::<b>LastMain.LastMain.FixedPointNumbers.UFixed{T<:Unsigned,f}</b>) at <a href=\"https://github.com/JeffBezanson/FixedPointNumbers.jl/tree/404d4bef6eb278b9a83aea5beeaa88a2f8333827/src/ufixed.jl#L52\" target=\"_blank\">/home/daniel/.julia/v0.4/FixedPointNumbers/src/ufixed.jl:52</a><li> convert<i>{T<:LastMain.LastMain.FixedPointNumbers.UFixed{T<:Unsigned,f}}</i>(::<b>Type{T<:LastMain.LastMain.FixedPointNumbers.UFixed{T<:Unsigned,f}}</b>, x::<b>Real</b>) at <a href=\"https://github.com/JeffBezanson/FixedPointNumbers.jl/tree/404d4bef6eb278b9a83aea5beeaa88a2f8333827/src/ufixed.jl#L54\" target=\"_blank\">/home/daniel/.julia/v0.4/FixedPointNumbers/src/ufixed.jl:54</a><li> convert(::<b>Type{BigFloat}</b>, x::<b>LastMain.LastMain.FixedPointNumbers.UFixed{T<:Unsigned,f}</b>) at <a href=\"https://github.com/JeffBezanson/FixedPointNumbers.jl/tree/404d4bef6eb278b9a83aea5beeaa88a2f8333827/src/ufixed.jl#L69\" target=\"_blank\">/home/daniel/.julia/v0.4/FixedPointNumbers/src/ufixed.jl:69</a><li> convert<i>{T<:AbstractFloat}</i>(::<b>Type{T<:AbstractFloat}</b>, x::<b>LastMain.LastMain.FixedPointNumbers.UFixed{T<:Unsigned,f}</b>) at <a href=\"https://github.com/JeffBezanson/FixedPointNumbers.jl/tree/404d4bef6eb278b9a83aea5beeaa88a2f8333827/src/ufixed.jl#L70\" target=\"_blank\">/home/daniel/.julia/v0.4/FixedPointNumbers/src/ufixed.jl:70</a><li> convert<i>{Ti<:Integer}</i>(::<b>Type{Rational{Ti<:Integer}}</b>, x::<b>LastMain.LastMain.FixedPointNumbers.UFixed{T<:Unsigned,f}</b>) at <a href=\"https://github.com/JeffBezanson/FixedPointNumbers.jl/tree/404d4bef6eb278b9a83aea5beeaa88a2f8333827/src/ufixed.jl#L73\" target=\"_blank\">/home/daniel/.julia/v0.4/FixedPointNumbers/src/ufixed.jl:73</a><li> convert(::<b>Type{Rational{T<:Integer}}</b>, x::<b>LastMain.LastMain.FixedPointNumbers.UFixed{T<:Unsigned,f}</b>) at <a href=\"https://github.com/JeffBezanson/FixedPointNumbers.jl/tree/404d4bef6eb278b9a83aea5beeaa88a2f8333827/src/ufixed.jl#L74\" target=\"_blank\">/home/daniel/.julia/v0.4/FixedPointNumbers/src/ufixed.jl:74</a><li> convert(::<b>Type{LastMain.LastMain.ColorTypes.ARGB32}</b>, c::<b>LastMain.LastMain.ColorTypes.Color{T,N}</b>) at <a href=\"https://github.com/JuliaGraphics/Colors.jl/tree/8f1f8c3c84804245aa111fb61f4814ae73a723dd/src/conversions.jl#L788\" target=\"_blank\">/home/daniel/.julia/v0.4/Colors/src/conversions.jl:788</a><li> convert(::<b>Type{LastMain.LastMain.ColorTypes.ARGB32}</b>, c::<b>LastMain.LastMain.ColorTypes.Color{T,N}</b>, alpha) at <a href=\"https://github.com/JuliaGraphics/Colors.jl/tree/8f1f8c3c84804245aa111fb61f4814ae73a723dd/src/conversions.jl#L789\" target=\"_blank\">/home/daniel/.julia/v0.4/Colors/src/conversions.jl:789</a><li> convert<i>{C<:LastMain.LastMain.ColorTypes.TransparentColor{C<:LastMain.LastMain.ColorTypes.Color{T,N},T,N}}</i>(::<b>Type{C<:LastMain.LastMain.ColorTypes.TransparentColor{C<:LastMain.LastMain.ColorTypes.Color{T,N},T,N}}</b>, c::<b>LastMain.LastMain.ColorTypes.Color{T,N}</b>, alpha) at <a href=\"https://github.com/JuliaGraphics/ColorTypes.jl/tree/792dfee18016cdb77c56e0cbff4d0262e4e7779d/src/conversions.jl#L7\" target=\"_blank\">/home/daniel/.julia/v0.4/ColorTypes/src/conversions.jl:7</a><li> convert(::<b>Type{LastMain.LastMain.ColorTypes.RGB24}</b>, c::<b>LastMain.LastMain.ColorTypes.RGB24</b>) at <a href=\"https://github.com/JuliaGraphics/Colors.jl/tree/8f1f8c3c84804245aa111fb61f4814ae73a723dd/src/conversions.jl#L771\" target=\"_blank\">/home/daniel/.julia/v0.4/Colors/src/conversions.jl:771</a><li> convert(::<b>Type{LastMain.LastMain.ColorTypes.RGB24}</b>, c::<b>LastMain.LastMain.ColorTypes.AbstractRGB{LastMain.LastMain.FixedPointNumbers.UFixed{UInt8,8}}</b>) at <a href=\"https://github.com/JuliaGraphics/Colors.jl/tree/8f1f8c3c84804245aa111fb61f4814ae73a723dd/src/conversions.jl#L772\" target=\"_blank\">/home/daniel/.julia/v0.4/Colors/src/conversions.jl:772</a><li> convert(::<b>Type{LastMain.LastMain.ColorTypes.RGB24}</b>, c::<b>LastMain.LastMain.ColorTypes.AbstractRGB{T}</b>) at <a href=\"https://github.com/JuliaGraphics/Colors.jl/tree/8f1f8c3c84804245aa111fb61f4814ae73a723dd/src/conversions.jl#L773\" target=\"_blank\">/home/daniel/.julia/v0.4/Colors/src/conversions.jl:773</a><li> convert(::<b>Type{LastMain.LastMain.ColorTypes.RGB24}</b>, c::<b>LastMain.LastMain.ColorTypes.Color{T,N}</b>) at <a href=\"https://github.com/JuliaGraphics/Colors.jl/tree/8f1f8c3c84804245aa111fb61f4814ae73a723dd/src/conversions.jl#L777\" target=\"_blank\">/home/daniel/.julia/v0.4/Colors/src/conversions.jl:777</a><li> convert(::<b>Type{LastMain.LastMain.ColorTypes.ARGB32}</b>, c::<b>LastMain.LastMain.ColorTypes.ARGB32</b>) at <a href=\"https://github.com/JuliaGraphics/Colors.jl/tree/8f1f8c3c84804245aa111fb61f4814ae73a723dd/src/conversions.jl#L783\" target=\"_blank\">/home/daniel/.julia/v0.4/Colors/src/conversions.jl:783</a><li> convert<i>{CV<:LastMain.LastMain.ColorTypes.AbstractRGB{LastMain.LastMain.FixedPointNumbers.UFixed{UInt8,8}}}</i>(::<b>Type{LastMain.LastMain.ColorTypes.ARGB32}</b>, c::<b>LastMain.LastMain.ColorTypes.TransparentColor{CV<:LastMain.LastMain.ColorTypes.AbstractRGB{LastMain.LastMain.FixedPointNumbers.UFixed{UInt8,8}},T,N}</b>) at <a href=\"https://github.com/JuliaGraphics/Colors.jl/tree/8f1f8c3c84804245aa111fb61f4814ae73a723dd/src/conversions.jl#L784\" target=\"_blank\">/home/daniel/.julia/v0.4/Colors/src/conversions.jl:784</a><li> convert(::<b>Type{LastMain.LastMain.ColorTypes.ARGB32}</b>, c::<b>LastMain.LastMain.ColorTypes.TransparentColor{C<:LastMain.LastMain.ColorTypes.Color{T,N},T,N}</b>) at <a href=\"https://github.com/JuliaGraphics/Colors.jl/tree/8f1f8c3c84804245aa111fb61f4814ae73a723dd/src/conversions.jl#L786\" target=\"_blank\">/home/daniel/.julia/v0.4/Colors/src/conversions.jl:786</a><li> convert<i>{T<:LastMain.LastMain.FixedPointNumbers.UFixed{T<:Unsigned,f}}</i>(::<b>Type{LastMain.LastMain.ColorTypes.Gray{T<:LastMain.LastMain.FixedPointNumbers.UFixed{T<:Unsigned,f}}}</b>, x::<b>LastMain.LastMain.ColorTypes.AbstractRGB{T<:LastMain.LastMain.FixedPointNumbers.UFixed{T<:Unsigned,f}}</b>) at <a href=\"https://github.com/JuliaGraphics/Colors.jl/tree/8f1f8c3c84804245aa111fb61f4814ae73a723dd/src/conversions.jl#L801\" target=\"_blank\">/home/daniel/.julia/v0.4/Colors/src/conversions.jl:801</a><li> convert<i>{T}</i>(::<b>Type{LastMain.LastMain.ColorTypes.Gray{T}}</b>, x::<b>LastMain.LastMain.ColorTypes.AbstractRGB{T}</b>) at <a href=\"https://github.com/JuliaGraphics/Colors.jl/tree/8f1f8c3c84804245aa111fb61f4814ae73a723dd/src/conversions.jl#L802\" target=\"_blank\">/home/daniel/.julia/v0.4/Colors/src/conversions.jl:802</a><li> convert<i>{C<:LastMain.LastMain.ColorTypes.Colorant{T,N}}</i>(::<b>Type{C<:LastMain.LastMain.ColorTypes.Colorant{T,N}}</b>, c::<b>LastMain.LastMain.ColorTypes.Colorant{T,N}</b>) at <a href=\"https://github.com/JuliaGraphics/ColorTypes.jl/tree/792dfee18016cdb77c56e0cbff4d0262e4e7779d/src/conversions.jl#L4\" target=\"_blank\">/home/daniel/.julia/v0.4/ColorTypes/src/conversions.jl:4</a><li> convert(::<b>Type{UInt32}</b>, c::<b>LastMain.LastMain.ColorTypes.RGB24</b>) at <a href=\"https://github.com/JuliaGraphics/ColorTypes.jl/tree/792dfee18016cdb77c56e0cbff4d0262e4e7779d/src/conversions.jl#L42\" target=\"_blank\">/home/daniel/.julia/v0.4/ColorTypes/src/conversions.jl:42</a><li> convert(::<b>Type{UInt32}</b>, c::<b>LastMain.LastMain.ColorTypes.ARGB32</b>) at <a href=\"https://github.com/JuliaGraphics/ColorTypes.jl/tree/792dfee18016cdb77c56e0cbff4d0262e4e7779d/src/conversions.jl#L43\" target=\"_blank\">/home/daniel/.julia/v0.4/ColorTypes/src/conversions.jl:43</a><li> convert(::<b>Type{UInt32}</b>, g::<b>LastMain.LastMain.ColorTypes.Gray24</b>) at <a href=\"https://github.com/JuliaGraphics/ColorTypes.jl/tree/792dfee18016cdb77c56e0cbff4d0262e4e7779d/src/conversions.jl#L44\" target=\"_blank\">/home/daniel/.julia/v0.4/ColorTypes/src/conversions.jl:44</a><li> convert(::<b>Type{UInt32}</b>, g::<b>LastMain.LastMain.ColorTypes.AGray32</b>) at <a href=\"https://github.com/JuliaGraphics/ColorTypes.jl/tree/792dfee18016cdb77c56e0cbff4d0262e4e7779d/src/conversions.jl#L45\" target=\"_blank\">/home/daniel/.julia/v0.4/ColorTypes/src/conversions.jl:45</a><li> convert(::<b>Type{LastMain.LastMain.ColorTypes.RGB24}</b>, x::<b>Real</b>) at <a href=\"https://github.com/JuliaGraphics/ColorTypes.jl/tree/792dfee18016cdb77c56e0cbff4d0262e4e7779d/src/conversions.jl#L47\" target=\"_blank\">/home/daniel/.julia/v0.4/ColorTypes/src/conversions.jl:47</a><li> convert(::<b>Type{LastMain.LastMain.ColorTypes.ARGB32}</b>, x::<b>Real</b>) at <a href=\"https://github.com/JuliaGraphics/ColorTypes.jl/tree/792dfee18016cdb77c56e0cbff4d0262e4e7779d/src/conversions.jl#L48\" target=\"_blank\">/home/daniel/.julia/v0.4/ColorTypes/src/conversions.jl:48</a><li> convert(::<b>Type{LastMain.LastMain.ColorTypes.Gray24}</b>, x::<b>Real</b>) at <a href=\"https://github.com/JuliaGraphics/ColorTypes.jl/tree/792dfee18016cdb77c56e0cbff4d0262e4e7779d/src/conversions.jl#L49\" target=\"_blank\">/home/daniel/.julia/v0.4/ColorTypes/src/conversions.jl:49</a><li> convert(::<b>Type{LastMain.LastMain.ColorTypes.AGray32}</b>, x::<b>Real</b>) at <a href=\"https://github.com/JuliaGraphics/ColorTypes.jl/tree/792dfee18016cdb77c56e0cbff4d0262e4e7779d/src/conversions.jl#L50\" target=\"_blank\">/home/daniel/.julia/v0.4/ColorTypes/src/conversions.jl:50</a><li> convert(::<b>Type{LastMain.LastMain.ColorTypes.ARGB32}</b>, x::<b>Real</b>, alpha) at <a href=\"https://github.com/JuliaGraphics/ColorTypes.jl/tree/792dfee18016cdb77c56e0cbff4d0262e4e7779d/src/conversions.jl#L51\" target=\"_blank\">/home/daniel/.julia/v0.4/ColorTypes/src/conversions.jl:51</a><li> convert(::<b>Type{LastMain.LastMain.ColorTypes.AGray32}</b>, x::<b>Real</b>, alpha) at <a href=\"https://github.com/JuliaGraphics/ColorTypes.jl/tree/792dfee18016cdb77c56e0cbff4d0262e4e7779d/src/conversions.jl#L52\" target=\"_blank\">/home/daniel/.julia/v0.4/ColorTypes/src/conversions.jl:52</a><li> convert<i>{T}</i>(::<b>Type{LastMain.LastMain.ColorTypes.Gray{T}}</b>, x::<b>Real</b>) at <a href=\"https://github.com/JuliaGraphics/ColorTypes.jl/tree/792dfee18016cdb77c56e0cbff4d0262e4e7779d/src/conversions.jl#L54\" target=\"_blank\">/home/daniel/.julia/v0.4/ColorTypes/src/conversions.jl:54</a><li> convert<i>{T<:Real}</i>(::<b>Type{T<:Real}</b>, x::<b>LastMain.LastMain.ColorTypes.Gray{T<:Union{AbstractFloat,LastMain.LastMain.FixedPointNumbers.FixedPoint{T<:Integer,f}}}</b>) at <a href=\"https://github.com/JuliaGraphics/ColorTypes.jl/tree/792dfee18016cdb77c56e0cbff4d0262e4e7779d/src/conversions.jl#L55\" target=\"_blank\">/home/daniel/.julia/v0.4/ColorTypes/src/conversions.jl:55</a><li> convert<i>{T}</i>(::<b>Type{LastMain.LastMain.ColorTypes.AGray{T}}</b>, x::<b>Real</b>) at <a href=\"https://github.com/JuliaGraphics/ColorTypes.jl/tree/792dfee18016cdb77c56e0cbff4d0262e4e7779d/src/conversions.jl#L56\" target=\"_blank\">/home/daniel/.julia/v0.4/ColorTypes/src/conversions.jl:56</a><li> convert<i>{T}</i>(::<b>Type{LastMain.LastMain.ColorTypes.GrayA{T}}</b>, x::<b>Real</b>) at <a href=\"https://github.com/JuliaGraphics/ColorTypes.jl/tree/792dfee18016cdb77c56e0cbff4d0262e4e7779d/src/conversions.jl#L57\" target=\"_blank\">/home/daniel/.julia/v0.4/ColorTypes/src/conversions.jl:57</a><li> convert(::<b>Type{LastMain.LastMain.ColorTypes.XYZ{T<:AbstractFloat}}</b>, c, wp::<b>LastMain.LastMain.ColorTypes.XYZ{T<:AbstractFloat}</b>) at <a href=\"https://github.com/JuliaGraphics/Colors.jl/tree/8f1f8c3c84804245aa111fb61f4814ae73a723dd/src/conversions.jl#L298\" target=\"_blank\">/home/daniel/.julia/v0.4/Colors/src/conversions.jl:298</a><li> convert<i>{T}</i>(::<b>Type{LastMain.LastMain.ColorTypes.XYZ{T}}</b>, c, wp::<b>LastMain.LastMain.ColorTypes.XYZ{T<:AbstractFloat}</b>) at <a href=\"https://github.com/JuliaGraphics/Colors.jl/tree/8f1f8c3c84804245aa111fb61f4814ae73a723dd/src/conversions.jl#L299\" target=\"_blank\">/home/daniel/.julia/v0.4/Colors/src/conversions.jl:299</a><li> convert(::<b>Type{LastMain.LastMain.ColorTypes.Lab{T<:AbstractFloat}}</b>, c, wp::<b>LastMain.LastMain.ColorTypes.XYZ{T<:AbstractFloat}</b>) at <a href=\"https://github.com/JuliaGraphics/Colors.jl/tree/8f1f8c3c84804245aa111fb61f4814ae73a723dd/src/conversions.jl#L413\" target=\"_blank\">/home/daniel/.julia/v0.4/Colors/src/conversions.jl:413</a><li> convert<i>{T}</i>(::<b>Type{LastMain.LastMain.ColorTypes.Lab{T}}</b>, c, wp::<b>LastMain.LastMain.ColorTypes.XYZ{T<:AbstractFloat}</b>) at <a href=\"https://github.com/JuliaGraphics/Colors.jl/tree/8f1f8c3c84804245aa111fb61f4814ae73a723dd/src/conversions.jl#L412\" target=\"_blank\">/home/daniel/.julia/v0.4/Colors/src/conversions.jl:412</a><li> convert(::<b>Type{LastMain.LastMain.ColorTypes.Luv{T<:AbstractFloat}}</b>, c, wp::<b>LastMain.LastMain.ColorTypes.XYZ{T<:AbstractFloat}</b>) at <a href=\"https://github.com/JuliaGraphics/Colors.jl/tree/8f1f8c3c84804245aa111fb61f4814ae73a723dd/src/conversions.jl#L530\" target=\"_blank\">/home/daniel/.julia/v0.4/Colors/src/conversions.jl:530</a><li> convert<i>{T}</i>(::<b>Type{LastMain.LastMain.ColorTypes.Luv{T}}</b>, c, wp::<b>LastMain.LastMain.ColorTypes.XYZ{T<:AbstractFloat}</b>) at <a href=\"https://github.com/JuliaGraphics/Colors.jl/tree/8f1f8c3c84804245aa111fb61f4814ae73a723dd/src/conversions.jl#L529\" target=\"_blank\">/home/daniel/.julia/v0.4/Colors/src/conversions.jl:529</a><li> convert(::<b>Type{LastMain.LastMain.PyPlot.Figure}</b>, o::<b>LastMain.LastMain.PyCall.PyObject</b>) at <a href=\"https://github.com/stevengj/PyPlot.jl/tree/006190cc52eb56bf5cf55dd1860ecbefd218be25/src/PyPlot.jl#L304\" target=\"_blank\">/home/daniel/.julia/v0.4/PyPlot/src/PyPlot.jl:304</a><li> convert(::<b>Type{LastMain.LastMain.PyPlot.ColorMap}</b>, o::<b>LastMain.LastMain.PyCall.PyObject</b>) at <a href=\"https://github.com/stevengj/PyPlot.jl/tree/006190cc52eb56bf5cf55dd1860ecbefd218be25/src/colormaps.jl#L15\" target=\"_blank\">/home/daniel/.julia/v0.4/PyPlot/src/colormaps.jl:15</a><li> convert<i>{T}</i>(::<b>Type{T}</b>, x::<b>T</b>) at <a href=\"https://github.com/JuliaLang/julia/tree/bb73f3489d837e3339fce2c1aab283d3b2e97a4c/base/essentials.jl#L59\" target=\"_blank\">essentials.jl:59</a></ul>"
      ],
      "text/plain": [
       "# 635 methods for generic function \"convert\":\n",
       "convert(::Type{Tuple{}}, ::Tuple{}) at essentials.jl:61\n",
       "convert{T<:Tuple{Any,Vararg{Any}}}(::Type{T<:Tuple{Any,Vararg{Any}}}, x::T<:Tuple{Any,Vararg{Any}}) at essentials.jl:98\n",
       "convert{T<:Tuple{Any,Vararg{Any}}}(::Type{T<:Tuple{Any,Vararg{Any}}}, x::Tuple{Any,Vararg{Any}}) at essentials.jl:96\n",
       "convert(::Type{Tuple}, x::Tuple) at essentials.jl:62\n",
       "convert{T}(::Type{Tuple{Vararg{T}}}, x::Tuple) at essentials.jl:63\n",
       "convert{T<:Union{Int8,UInt8}}(::Type{Cstring}, p::Ptr{T<:Union{Int8,UInt8}}) at c.jl:61\n",
       "convert(::Type{Cwstring}, p::Ptr{Int32}) at c.jl:62\n",
       "convert{T<:Union{Int8,UInt8}}(::Type{Ptr{T<:Union{Int8,UInt8}}}, p::Cstring) at c.jl:63\n",
       "convert(::Type{Ptr{Int32}}, p::Cwstring) at c.jl:64\n",
       "convert(::Type{Cstring}, s::Symbol) at c.jl:83\n",
       "convert{T}(::Type{UnitRange{T}}, r::UnitRange{T}) at range.jl:587\n",
       "convert{T}(::Type{UnitRange{T}}, r::UnitRange{T<:Real}) at range.jl:588\n",
       "convert{T1,T2}(::Type{StepRange{T1,T2}}, r::StepRange{T1,T2}) at range.jl:592\n",
       "convert{T}(::Type{StepRange{T,S}}, r::UnitRange{T}) at range.jl:598\n",
       "convert{T1,T2}(::Type{StepRange{T1,T2}}, r::Range{T}) at range.jl:596\n",
       "convert{T}(::Type{FloatRange{T}}, r::FloatRange{T}) at range.jl:603\n",
       "convert{T}(::Type{FloatRange{T}}, r::FloatRange{T<:AbstractFloat}) at range.jl:604\n",
       "convert{T}(::Type{FloatRange{T<:AbstractFloat}}, r::OrdinalRange{T,S}) at range.jl:611\n",
       "convert{T}(::Type{FloatRange{T}}, r::OrdinalRange{T,S}) at range.jl:609\n",
       "convert{T}(::Type{LinSpace{T}}, r::LinSpace{T}) at range.jl:616\n",
       "convert{T}(::Type{LinSpace{T}}, r::LinSpace{T<:AbstractFloat}) at range.jl:617\n",
       "convert{T}(::Type{LinSpace{T<:AbstractFloat}}, r::OrdinalRange{T,S}) at range.jl:624\n",
       "convert{T}(::Type{LinSpace{T}}, r::OrdinalRange{T,S}) at range.jl:622\n",
       "convert{T}(::Type{LinSpace{T}}, r::FloatRange{T<:AbstractFloat}) at range.jl:630\n",
       "convert{T}(::Type{LinSpace{T<:AbstractFloat}}, r::FloatRange{T}) at range.jl:632\n",
       "convert{T}(::Type{Array{T,1}}, r::Range{T}) at range.jl:671\n",
       "convert(::Type{Bool}, x::Bool) at bool.jl:5\n",
       "convert(::Type{Bool}, x::Rational{T<:Integer}) at rational.jl:75\n",
       "convert(::Type{Bool}, x::Float16) at float16.jl:101\n",
       "convert(::Type{Bool}, x::BigFloat) at mpfr.jl:164\n",
       "convert{T,f}(::Type{Bool}, x::LastMain.LastMain.FixedPointNumbers.Fixed{T,f}) at /home/daniel/.julia/v0.4/FixedPointNumbers/src/fixed.jl:42\n",
       "convert(::Type{Bool}, x::LastMain.LastMain.FixedPointNumbers.UFixed{T<:Unsigned,f}) at /home/daniel/.julia/v0.4/FixedPointNumbers/src/ufixed.jl:71\n",
       "convert(::Type{Bool}, x::Real) at bool.jl:6\n",
       "convert(::Type{Int8}, x::UInt8) at int.jl:193\n",
       "convert(::Type{Int8}, x::Int16) at int.jl:172\n",
       "convert(::Type{Int8}, x::UInt16) at int.jl:170\n",
       "convert(::Type{Int8}, x::Int32) at int.jl:172\n",
       "convert(::Type{Int8}, x::UInt32) at int.jl:170\n",
       "convert(::Type{Int8}, x::Int64) at int.jl:172\n",
       "convert(::Type{Int8}, x::UInt64) at int.jl:170\n",
       "convert(::Type{Int8}, x::Int128) at int.jl:172\n",
       "convert(::Type{Int8}, x::UInt128) at int.jl:170\n",
       "convert(::Type{Int8}, x::Bool) at int.jl:187\n",
       "convert(::Type{UInt8}, x::Int8) at int.jl:193\n",
       "convert(::Type{UInt8}, x::Int16) at int.jl:175\n",
       "convert(::Type{UInt8}, x::UInt16) at int.jl:175\n",
       "convert(::Type{UInt8}, x::Int32) at int.jl:175\n",
       "convert(::Type{UInt8}, x::UInt32) at int.jl:175\n",
       "convert(::Type{UInt8}, x::Int64) at int.jl:175\n",
       "convert(::Type{UInt8}, x::UInt64) at int.jl:175\n",
       "convert(::Type{UInt8}, x::Int128) at int.jl:175\n",
       "convert(::Type{UInt8}, x::UInt128) at int.jl:175\n",
       "convert(::Type{UInt8}, x::Bool) at int.jl:187\n",
       "convert(::Type{Int16}, x::Int8) at int.jl:183\n",
       "convert(::Type{Int16}, x::UInt8) at int.jl:187\n",
       "convert(::Type{Int16}, x::UInt16) at int.jl:193\n",
       "convert(::Type{Int16}, x::Int32) at int.jl:172\n",
       "convert(::Type{Int16}, x::UInt32) at int.jl:170\n",
       "convert(::Type{Int16}, x::Int64) at int.jl:172\n",
       "convert(::Type{Int16}, x::UInt64) at int.jl:170\n",
       "convert(::Type{Int16}, x::Int128) at int.jl:172\n",
       "convert(::Type{Int16}, x::UInt128) at int.jl:170\n",
       "convert(::Type{Int16}, x::Bool) at int.jl:187\n",
       "convert(::Type{UInt16}, x::Int8) at int.jl:181\n",
       "convert(::Type{UInt16}, x::UInt8) at int.jl:187\n",
       "convert(::Type{UInt16}, x::Int16) at int.jl:193\n",
       "convert(::Type{UInt16}, x::Int32) at int.jl:175\n",
       "convert(::Type{UInt16}, x::UInt32) at int.jl:175\n",
       "convert(::Type{UInt16}, x::Int64) at int.jl:175\n",
       "convert(::Type{UInt16}, x::UInt64) at int.jl:175\n",
       "convert(::Type{UInt16}, x::Int128) at int.jl:175\n",
       "convert(::Type{UInt16}, x::UInt128) at int.jl:175\n",
       "convert(::Type{UInt16}, x::Bool) at int.jl:187\n",
       "convert(::Type{Int32}, x::Int8) at int.jl:183\n",
       "convert(::Type{Int32}, x::UInt8) at int.jl:187\n",
       "convert(::Type{Int32}, x::Int16) at int.jl:183\n",
       "convert(::Type{Int32}, x::UInt16) at int.jl:187\n",
       "convert(::Type{Int32}, x::UInt32) at int.jl:193\n",
       "convert(::Type{Int32}, x::Int64) at int.jl:172\n",
       "convert(::Type{Int32}, x::UInt64) at int.jl:170\n",
       "convert(::Type{Int32}, x::Int128) at int.jl:172\n",
       "convert(::Type{Int32}, x::UInt128) at int.jl:170\n",
       "convert(::Type{Int32}, x::Bool) at int.jl:187\n",
       "convert(::Type{UInt32}, x::Int8) at int.jl:181\n",
       "convert(::Type{UInt32}, x::UInt8) at int.jl:187\n",
       "convert(::Type{UInt32}, x::Int16) at int.jl:181\n",
       "convert(::Type{UInt32}, x::UInt16) at int.jl:187\n",
       "convert(::Type{UInt32}, x::Int32) at int.jl:193\n",
       "convert(::Type{UInt32}, x::Int64) at int.jl:175\n",
       "convert(::Type{UInt32}, x::UInt64) at int.jl:175\n",
       "convert(::Type{UInt32}, x::Int128) at int.jl:175\n",
       "convert(::Type{UInt32}, x::UInt128) at int.jl:175\n",
       "convert(::Type{UInt32}, x::Bool) at int.jl:187\n",
       "convert(::Type{Int64}, x::Int8) at int.jl:183\n",
       "convert(::Type{Int64}, x::UInt8) at int.jl:187\n",
       "convert(::Type{Int64}, x::Int16) at int.jl:183\n",
       "convert(::Type{Int64}, x::UInt16) at int.jl:187\n",
       "convert(::Type{Int64}, x::Int32) at int.jl:183\n",
       "convert(::Type{Int64}, x::UInt32) at int.jl:187\n",
       "convert(::Type{Int64}, x::UInt64) at int.jl:193\n",
       "convert(::Type{Int64}, x::Int128) at int.jl:172\n",
       "convert(::Type{Int64}, x::UInt128) at int.jl:170\n",
       "convert(::Type{Int64}, x::Bool) at int.jl:187\n",
       "convert(::Type{UInt64}, x::Int8) at int.jl:181\n",
       "convert(::Type{UInt64}, x::UInt8) at int.jl:187\n",
       "convert(::Type{UInt64}, x::Int16) at int.jl:181\n",
       "convert(::Type{UInt64}, x::UInt16) at int.jl:187\n",
       "convert(::Type{UInt64}, x::Int32) at int.jl:181\n",
       "convert(::Type{UInt64}, x::UInt32) at int.jl:187\n",
       "convert(::Type{UInt64}, x::Int64) at int.jl:193\n",
       "convert(::Type{UInt64}, x::Int128) at int.jl:175\n",
       "convert(::Type{UInt64}, x::UInt128) at int.jl:175\n",
       "convert(::Type{UInt64}, x::Bool) at int.jl:187\n",
       "convert(::Type{Int128}, x::Int8) at int.jl:183\n",
       "convert(::Type{Int128}, x::UInt8) at int.jl:187\n",
       "convert(::Type{Int128}, x::Int16) at int.jl:183\n",
       "convert(::Type{Int128}, x::UInt16) at int.jl:187\n",
       "convert(::Type{Int128}, x::Int32) at int.jl:183\n",
       "convert(::Type{Int128}, x::UInt32) at int.jl:187\n",
       "convert(::Type{Int128}, x::Int64) at int.jl:183\n",
       "convert(::Type{Int128}, x::UInt64) at int.jl:187\n",
       "convert(::Type{Int128}, x::UInt128) at int.jl:193\n",
       "convert(::Type{Int128}, x::Bool) at int.jl:187\n",
       "convert(::Type{UInt128}, x::Int8) at int.jl:181\n",
       "convert(::Type{UInt128}, x::UInt8) at int.jl:187\n",
       "convert(::Type{UInt128}, x::Int16) at int.jl:181\n",
       "convert(::Type{UInt128}, x::UInt16) at int.jl:187\n",
       "convert(::Type{UInt128}, x::Int32) at int.jl:181\n",
       "convert(::Type{UInt128}, x::UInt32) at int.jl:187\n",
       "convert(::Type{UInt128}, x::Int64) at int.jl:181\n",
       "convert(::Type{UInt128}, x::UInt64) at int.jl:187\n",
       "convert(::Type{UInt128}, x::Int128) at int.jl:193\n",
       "convert(::Type{UInt128}, x::Bool) at int.jl:187\n",
       "convert(::Type{Int8}, x::Float32) at int.jl:208\n",
       "convert(::Type{Int8}, x::Float64) at int.jl:209\n",
       "convert(::Type{Int16}, x::Float32) at int.jl:208\n",
       "convert(::Type{Int16}, x::Float64) at int.jl:209\n",
       "convert(::Type{Int32}, x::Float32) at int.jl:208\n",
       "convert(::Type{Int32}, x::Float64) at int.jl:209\n",
       "convert(::Type{Int64}, x::Float32) at int.jl:208\n",
       "convert(::Type{Int64}, x::Float64) at int.jl:209\n",
       "convert(::Type{UInt8}, x::Float32) at int.jl:215\n",
       "convert(::Type{UInt8}, x::Float64) at int.jl:216\n",
       "convert(::Type{UInt16}, x::Float32) at int.jl:215\n",
       "convert(::Type{UInt16}, x::Float64) at int.jl:216\n",
       "convert(::Type{UInt32}, x::Float32) at int.jl:215\n",
       "convert(::Type{UInt32}, x::Float64) at int.jl:216\n",
       "convert(::Type{UInt64}, x::Float32) at int.jl:215\n",
       "convert(::Type{UInt64}, x::Float64) at int.jl:216\n",
       "convert(::Type{Int128}, x::Float32) at int.jl:223\n",
       "convert(::Type{Int128}, x::Float64) at int.jl:223\n",
       "convert(::Type{UInt128}, x::Float32) at int.jl:223\n",
       "convert(::Type{UInt128}, x::Float64) at int.jl:223\n",
       "convert(::Type{Signed}, x::UInt8) at int.jl:229\n",
       "convert(::Type{Signed}, x::UInt16) at int.jl:230\n",
       "convert(::Type{Signed}, x::UInt32) at int.jl:231\n",
       "convert(::Type{Signed}, x::UInt64) at int.jl:232\n",
       "convert(::Type{Signed}, x::UInt128) at int.jl:233\n",
       "convert(::Type{Signed}, x::Float32) at int.jl:234\n",
       "convert(::Type{Signed}, x::Float64) at int.jl:235\n",
       "convert(::Type{Signed}, x::Bool) at int.jl:236\n",
       "convert(::Type{Unsigned}, x::Int8) at int.jl:238\n",
       "convert(::Type{Unsigned}, x::Int16) at int.jl:239\n",
       "convert(::Type{Unsigned}, x::Int32) at int.jl:240\n",
       "convert(::Type{Unsigned}, x::Int64) at int.jl:241\n",
       "convert(::Type{Unsigned}, x::Int128) at int.jl:242\n",
       "convert(::Type{Unsigned}, x::Float32) at int.jl:243\n",
       "convert(::Type{Unsigned}, x::Float64) at int.jl:244\n",
       "convert(::Type{Unsigned}, x::Bool) at int.jl:245\n",
       "convert(::Type{Integer}, x::Integer) at int.jl:247\n",
       "convert{T<:Integer}(::Type{T<:Integer}, x::Rational{T<:Integer}) at rational.jl:76\n",
       "convert(::Type{BigInt}, x::Float16) at gmp.jl:140\n",
       "convert{T<:Integer}(::Type{T<:Integer}, x::Float16) at float16.jl:105\n",
       "convert{T<:Integer}(::Type{T<:Integer}, x::BigFloat) at mpfr.jl:171\n",
       "convert{TI<:Integer,T,f}(::Type{TI<:Integer}, x::LastMain.LastMain.FixedPointNumbers.Fixed{T,f}) at /home/daniel/.julia/v0.4/FixedPointNumbers/src/fixed.jl:44\n",
       "convert{T<:Integer}(::Type{T<:Integer}, x::LastMain.LastMain.FixedPointNumbers.UFixed{T<:Unsigned,f}) at /home/daniel/.julia/v0.4/FixedPointNumbers/src/ufixed.jl:72\n",
       "convert(::Type{Integer}, x::Real) at int.jl:248\n",
       "convert{T<:Union{Int64,UInt64}}(::Type{T<:Union{Int64,UInt64}}, x::Ptr{T}) at pointer.jl:8\n",
       "convert{T<:Integer}(::Type{T<:Integer}, x::Ptr{T}) at pointer.jl:9\n",
       "convert{T}(::Type{Ptr{T}}, x::UInt64) at pointer.jl:12\n",
       "convert{T}(::Type{Ptr{T}}, x::Int64) at pointer.jl:13\n",
       "convert{T}(::Type{Ptr{T}}, p::Ptr{T}) at pointer.jl:16\n",
       "convert{T}(::Type{Ptr{T}}, p::Ptr{T}) at pointer.jl:17\n",
       "convert{T}(::Type{Ref{T}}, x::Ref{T}) at refpointer.jl:6\n",
       "convert{T}(::Type{Ref{T}}, x::AbstractArray{T,N}) at refpointer.jl:49\n",
       "convert{T}(::Type{Ref{T}}, x) at refpointer.jl:26\n",
       "convert{T,N}(::Type{AbstractArray{T,N}}, B::BitArray{N}) at bitarray.jl:331\n",
       "convert{T}(::Type{AbstractArray{T,2}}, S::SymTridiagonal{T}) at linalg/tridiag.jl:34\n",
       "convert{T}(::Type{AbstractArray{T,2}}, M::Tridiagonal{T}) at linalg/tridiag.jl:418\n",
       "convert{Tnew,Told,S}(::Type{AbstractArray{Tnew,2}}, A::LowerTriangular{Told,S}) at linalg/triangular.jl:22\n",
       "convert{Tnew,Told,S}(::Type{AbstractArray{Tnew,2}}, A::Base.LinAlg.UnitLowerTriangular{Told,S}) at linalg/triangular.jl:22\n",
       "convert{Tnew,Told,S}(::Type{AbstractArray{Tnew,2}}, A::UpperTriangular{Told,S}) at linalg/triangular.jl:22\n",
       "convert{Tnew,Told,S}(::Type{AbstractArray{Tnew,2}}, A::Base.LinAlg.UnitUpperTriangular{Told,S}) at linalg/triangular.jl:22\n",
       "convert{T}(::Type{AbstractArray{T,2}}, Q::Base.LinAlg.QRPackedQ{T,S<:AbstractArray{T,2}}) at linalg/qr.jl:125\n",
       "convert{S}(::Type{AbstractArray{S,2}}, Q::Base.LinAlg.QRCompactWYQ{S,M<:AbstractArray{T,2}}) at linalg/qr.jl:127\n",
       "convert{T}(::Type{AbstractArray{T,2}}, A::Symmetric{T,S<:AbstractArray{T,2}}) at linalg/symmetric.jl:34\n",
       "convert{T}(::Type{AbstractArray{T,2}}, A::Hermitian{T,S<:AbstractArray{T,2}}) at linalg/symmetric.jl:37\n",
       "convert{T}(::Type{AbstractArray{T,2}}, D::Diagonal{T}) at linalg/diagonal.jl:12\n",
       "convert{T}(::Type{AbstractArray{T,2}}, A::SparseMatrixCSC{Tv,Ti<:Integer}) at sparse/sparsematrix.jl:221\n",
       "convert{T,N}(::Type{AbstractArray{T,N}}, A::AbstractArray{T,N}) at abstractarray.jl:437\n",
       "convert{T,S,N}(::Type{AbstractArray{T,N}}, A::AbstractArray{S,N}) at abstractarray.jl:438\n",
       "convert{T,S,N}(::Type{AbstractArray{T,N}}, A::AbstractArray{S,N}) at abstractarray.jl:439\n",
       "convert{T,S,N}(::Type{Array{T,N}}, V::SubArray{S,N,P<:AbstractArray{T,N},I<:Tuple{Vararg{Union{AbstractArray{T,1},Colon,Int64}}},LD}) at subarray.jl:510\n",
       "convert{T,n}(::Type{Array{T,n}}, x::Array{T,n}) at array.jl:238\n",
       "convert{T,n,S}(::Type{Array{T,n}}, x::Array{S,n}) at array.jl:240\n",
       "convert{T,n}(::Type{Array{T,N}}, x::Array{T,n}) at array.jl:237\n",
       "convert{T,n,S}(::Type{Array{T,N}}, x::Array{S,n}) at array.jl:239\n",
       "convert{T,N}(::Type{Array{T,N}}, B::BitArray{N}) at bitarray.jl:296\n",
       "convert{T,N}(::Type{Array{T,N}}, B::BitArray{N}) at bitarray.jl:294\n",
       "convert(::Type{Array{T,N}}, S::SharedArray{T,N}) at sharedarray.jl:280\n",
       "convert{T}(::Type{Array{T,2}}, M::SymTridiagonal{T}) at linalg/tridiag.jl:36\n",
       "convert{T}(::Type{Array{T,2}}, M::SymTridiagonal{T}) at linalg/tridiag.jl:48\n",
       "convert{T}(::Type{Array{T,2}}, M::Tridiagonal{T}) at linalg/tridiag.jl:296\n",
       "convert{T}(::Type{Array{T,2}}, M::Tridiagonal{T}) at linalg/tridiag.jl:306\n",
       "convert{T,S}(::Type{Array{T,2}}, A::LowerTriangular{T,S}) at linalg/triangular.jl:23\n",
       "convert{T,S}(::Type{Array{T,2}}, A::Base.LinAlg.UnitLowerTriangular{T,S}) at linalg/triangular.jl:23\n",
       "convert{T,S}(::Type{Array{T,2}}, A::UpperTriangular{T,S}) at linalg/triangular.jl:23\n",
       "convert{T,S}(::Type{Array{T,2}}, A::Base.LinAlg.UnitUpperTriangular{T,S}) at linalg/triangular.jl:23\n",
       "convert{Tret,T,S}(::Type{Array{Tret,2}}, A::LowerTriangular{T,S}) at linalg/triangular.jl:58\n",
       "convert{Tret,T,S}(::Type{Array{Tret,2}}, A::Base.LinAlg.UnitLowerTriangular{T,S}) at linalg/triangular.jl:64\n",
       "convert{Tret,T,S}(::Type{Array{Tret,2}}, A::UpperTriangular{T,S}) at linalg/triangular.jl:73\n",
       "convert{Tret,T,S}(::Type{Array{Tret,2}}, A::Base.LinAlg.UnitUpperTriangular{T,S}) at linalg/triangular.jl:79\n",
       "convert{T}(::Type{Array{T,2}}, A::Bidiagonal{T}) at linalg/bidiag.jl:46\n",
       "convert{T}(::Type{Array{T,2}}, A::Bidiagonal{T}) at linalg/bidiag.jl:59\n",
       "convert(::Type{Array{T,2}}, D::Diagonal{T}) at linalg/special.jl:11\n",
       "convert(::Type{Array{T,2}}, S::SparseMatrixCSC{Tv,Ti<:Integer}) at sparse/sparsematrix.jl:222\n",
       "convert{T}(::Type{Array{T,2}}, D::Base.SparseMatrix.CHOLMOD.Dense{T}) at sparse/cholmod.jl:932\n",
       "convert{T}(::Type{Array{T,2}}, D::Base.SparseMatrix.CHOLMOD.Dense{T}) at sparse/cholmod.jl:945\n",
       "convert{T}(::Type{Array{T,1}}, D::Base.SparseMatrix.CHOLMOD.Dense{T}) at sparse/cholmod.jl:947\n",
       "convert{T}(::Type{Array{T,1}}, D::Base.SparseMatrix.CHOLMOD.Dense{T}) at sparse/cholmod.jl:952\n",
       "convert{T,N}(::Type{Array{T,N}}, A::AbstractArray{T,N}) at abstractarray.jl:441\n",
       "convert(::Type{Float16}, n::BigInt) at gmp.jl:245\n",
       "convert(::Type{Float16}, x::Integer) at float.jl:15\n",
       "convert(::Type{Float32}, x::Int8) at float.jl:24\n",
       "convert(::Type{Float32}, x::Int16) at float.jl:24\n",
       "convert(::Type{Float32}, x::Int32) at float.jl:24\n",
       "convert(::Type{Float32}, x::Int64) at float.jl:24\n",
       "convert(::Type{Float32}, x::Bool) at float.jl:30\n",
       "convert(::Type{Float32}, x::UInt8) at float.jl:30\n",
       "convert(::Type{Float32}, x::UInt16) at float.jl:30\n",
       "convert(::Type{Float32}, x::UInt32) at float.jl:30\n",
       "convert(::Type{Float32}, x::UInt64) at float.jl:30\n",
       "convert(::Type{Float64}, x::Int8) at float.jl:24\n",
       "convert(::Type{Float64}, x::Int16) at float.jl:24\n",
       "convert(::Type{Float64}, x::Int32) at float.jl:24\n",
       "convert(::Type{Float64}, x::Int64) at float.jl:24\n",
       "convert(::Type{Float64}, x::Bool) at float.jl:30\n",
       "convert(::Type{Float64}, x::UInt8) at float.jl:30\n",
       "convert(::Type{Float64}, x::UInt16) at float.jl:30\n",
       "convert(::Type{Float64}, x::UInt32) at float.jl:30\n",
       "convert(::Type{Float64}, x::UInt64) at float.jl:30\n",
       "convert(::Type{Float64}, x::UInt128) at float.jl:42\n",
       "convert(::Type{Float64}, x::Int128) at float.jl:56\n",
       "convert(::Type{Float32}, x::UInt128) at float.jl:72\n",
       "convert(::Type{Float32}, x::Int128) at float.jl:86\n",
       "convert(::Type{Float16}, x::Float64) at float.jl:102\n",
       "convert(::Type{Float32}, x::Float64) at float.jl:103\n",
       "convert(::Type{Float64}, x::Float16) at float.jl:106\n",
       "convert(::Type{Float64}, x::Float32) at float.jl:107\n",
       "convert(::Type{AbstractFloat}, x::Bool) at float.jl:109\n",
       "convert(::Type{AbstractFloat}, x::Int8) at float.jl:110\n",
       "convert(::Type{AbstractFloat}, x::Int16) at float.jl:111\n",
       "convert(::Type{AbstractFloat}, x::Int32) at float.jl:112\n",
       "convert(::Type{AbstractFloat}, x::Int64) at float.jl:113\n",
       "convert(::Type{AbstractFloat}, x::Int128) at float.jl:114\n",
       "convert(::Type{AbstractFloat}, x::UInt8) at float.jl:115\n",
       "convert(::Type{AbstractFloat}, x::UInt16) at float.jl:116\n",
       "convert(::Type{AbstractFloat}, x::UInt32) at float.jl:117\n",
       "convert(::Type{AbstractFloat}, x::UInt64) at float.jl:118\n",
       "convert(::Type{AbstractFloat}, x::UInt128) at float.jl:119\n",
       "convert{T<:Real}(::Type{Complex{T<:Real}}, x::Irrational{sym}) at irrationals.jl:15\n",
       "convert{T<:Real}(::Type{Complex{T<:Real}}, x::Real) at complex.jl:16\n",
       "convert{T<:Real}(::Type{Complex{T<:Real}}, z::Complex{T<:Real}) at complex.jl:17\n",
       "convert{T<:Real}(::Type{T<:Real}, z::Complex{T<:Real}) at complex.jl:18\n",
       "convert(::Type{Complex{T<:Real}}, z::Complex{T<:Real}) at complex.jl:21\n",
       "convert(::Type{Complex{T<:Real}}, x::Real) at complex.jl:22\n",
       "convert{T<:Integer}(::Type{Rational{T<:Integer}}, x::Rational{T<:Integer}) at rational.jl:69\n",
       "convert{T<:Integer}(::Type{Rational{T<:Integer}}, x::Integer) at rational.jl:70\n",
       "convert(::Type{Rational{T<:Integer}}, x::Rational{T<:Integer}) at rational.jl:72\n",
       "convert(::Type{Rational{T<:Integer}}, x::Integer) at rational.jl:73\n",
       "convert(::Type{AbstractFloat}, x::Rational{T<:Integer}) at rational.jl:78\n",
       "convert(::Type{BigFloat}, x::Rational{T<:Integer}) at mpfr.jl:94\n",
       "convert{T<:AbstractFloat,S}(::Type{T<:AbstractFloat}, x::Rational{S}) at rational.jl:80\n",
       "convert(::Type{Rational{T<:Integer}}, x::Float64) at rational.jl:89\n",
       "convert(::Type{Rational{T<:Integer}}, x::Float32) at rational.jl:90\n",
       "convert(::Type{Rational{T<:Integer}}, x::BigFloat) at mpfr.jl:102\n",
       "convert(::Type{Rational{BigInt}}, x::AbstractFloat) at mpfr.jl:196\n",
       "convert{T<:Integer}(::Type{Rational{T<:Integer}}, x::AbstractFloat) at rational.jl:85\n",
       "convert{N}(::Type{BitArray{N}}, B::BitArray{N}) at bitarray.jl:330\n",
       "convert{T,N}(::Type{BitArray{N}}, A::AbstractArray{T,N}) at bitarray.jl:306\n",
       "convert{T,N}(::Type{BitArray{N}}, A::AbstractArray{T,N}) at bitarray.jl:304\n",
       "convert{K,V}(::Type{Dict{K,V}}, d::Dict{K,V}) at dict.jl:468\n",
       "convert{K,V}(::Type{Dict{K,V}}, d::Associative{K,V}) at dict.jl:457\n",
       "convert(::Type{Char}, x::UInt32) at char.jl:3\n",
       "convert(::Type{Char}, x::Number) at char.jl:4\n",
       "convert(::Type{UInt32}, x::Char) at char.jl:5\n",
       "convert{T<:Number}(::Type{T<:Number}, x::Char) at char.jl:6\n",
       "convert(::Type{ASCIIString}, s::ASCIIString) at ascii.jl:104\n",
       "convert(::Type{ASCIIString}, s::UTF8String) at ascii.jl:105\n",
       "convert(::Type{ASCIIString}, a::Array{UInt8,1}) at ascii.jl:106\n",
       "convert(::Type{ASCIIString}, a::Array{UInt8,1}, invalids_as::ASCIIString) at ascii.jl:115\n",
       "convert(::Type{ASCIIString}, a::Array{UInt8,1}, invalids_as::AbstractString) at ascii.jl:132\n",
       "convert(::Type{ASCIIString}, s::AbstractString) at ascii.jl:134\n",
       "convert(::Type{SubString{UTF8String}}, s::SubString{ASCIIString}) at unicode/utf8.jl:236\n",
       "convert{T<:AbstractString}(::Type{SubString{T<:AbstractString}}, s::T<:AbstractString) at strings/types.jl:77\n",
       "convert(::Type{RepString}, s::AbstractString) at strings/types.jl:173\n",
       "convert(::Type{Array{UInt8,1}}, s::AbstractString) at strings/basic.jl:27\n",
       "convert(::Type{Array{UInt8,N}}, s::AbstractString) at strings/basic.jl:28\n",
       "convert(::Type{ByteString}, s::AbstractString) at strings/basic.jl:29\n",
       "convert(::Type{Array{Char,1}}, s::AbstractString) at strings/basic.jl:30\n",
       "convert(::Type{Symbol}, s::AbstractString) at strings/basic.jl:31\n",
       "convert(::Type{UTF8String}, s::UTF8String) at unicode/utf8.jl:234\n",
       "convert(::Type{UTF8String}, s::ASCIIString) at unicode/utf8.jl:235\n",
       "convert(::Type{UTF8String}, dat::Array{UInt8,1}) at unicode/utf8.jl:241\n",
       "convert(::Type{UTF8String}, a::Array{UInt8,1}, invalids_as::AbstractString) at unicode/utf8.jl:293\n",
       "convert(::Type{UTF8String}, str::UTF16String) at unicode/utf16.jl:160\n",
       "convert(::Type{UTF8String}, str::UTF32String) at unicode/utf32.jl:27\n",
       "convert(::Type{UTF8String}, s::AbstractString) at unicode/utf8.jl:313\n",
       "convert(::Type{UTF16String}, str::UTF8String) at unicode/utf16.jl:123\n",
       "convert(::Type{UTF16String}, str::ASCIIString) at unicode/utf16.jl:200\n",
       "convert(::Type{UTF16String}, str::UTF16String) at unicode/utf16.jl:207\n",
       "convert(::Type{UTF16String}, str::UTF32String) at unicode/utf32.jl:105\n",
       "convert(::Type{UTF16String}, str::AbstractString) at unicode/utf16.jl:105\n",
       "convert(::Type{Array{UInt16,1}}, str::UTF16String) at unicode/utf16.jl:204\n",
       "convert(::Type{Array{UInt16,N}}, str::UTF16String) at unicode/utf16.jl:205\n",
       "convert(::Type{UTF16String}, dat::AbstractArray{UInt16,1}) at unicode/utf16.jl:219\n",
       "convert(T::Type{UTF16String}, data::AbstractArray{UInt16,N}) at unicode/utf16.jl:212\n",
       "convert(T::Type{UTF16String}, data::AbstractArray{Int16,N}) at unicode/utf16.jl:215\n",
       "convert(T::Type{UTF16String}, bytes::AbstractArray{UInt8,N}) at unicode/utf16.jl:224\n",
       "convert(::Type{UTF32String}, c::Char) at unicode/utf32.jl:14\n",
       "convert(::Type{UTF32String}, s::UTF32String) at unicode/utf32.jl:15\n",
       "convert(::Type{UTF32String}, str::UTF8String) at unicode/utf32.jl:38\n",
       "convert(::Type{UTF32String}, str::UTF16String) at unicode/utf32.jl:83\n",
       "convert(::Type{UTF32String}, str::ASCIIString) at unicode/utf32.jl:117\n",
       "convert(::Type{UTF32String}, str::AbstractString) at unicode/utf32.jl:18\n",
       "convert(::Type{UTF32String}, dat::AbstractArray{UInt32,1}) at unicode/utf32.jl:122\n",
       "convert{T<:Union{Char,Int32}}(::Type{UTF32String}, data::AbstractArray{T<:Union{Char,Int32},1}) at unicode/utf32.jl:125\n",
       "convert{T<:Union{ASCIIString,UTF8String},S<:Union{Char,Int32,UInt32}}(::Type{T<:Union{ASCIIString,UTF8String}}, data::AbstractArray{S<:Union{Char,Int32,UInt32},1}) at unicode/utf32.jl:133\n",
       "convert{T<:AbstractString,S<:Union{Char,Int32,UInt32}}(::Type{T<:AbstractString}, v::AbstractArray{S<:Union{Char,Int32,UInt32},1}) at unicode/utf32.jl:128\n",
       "convert(::Type{Array{UInt32,1}}, str::UTF32String) at unicode/utf32.jl:141\n",
       "convert(::Type{Array{UInt32,N}}, str::UTF32String) at unicode/utf32.jl:142\n",
       "convert(T::Type{UTF32String}, bytes::AbstractArray{UInt8,N}) at unicode/utf32.jl:148\n",
       "convert{S<:AbstractString}(::Type{S<:AbstractString}, g::Base.UTF8proc.GraphemeIterator{S<:AbstractString}) at unicode/utf8proc.jl:229\n",
       "convert(::Type{Base.Libc.FILE}, s::IO) at libc.jl:61\n",
       "convert{T}(::Type{Nullable{T}}, x::Nullable{T}) at nullable.jl:11\n",
       "convert{T}(::Type{Nullable{T}}, x::Nullable{T}) at nullable.jl:14\n",
       "convert{T}(::Type{Nullable{T}}, ::Void) at nullable.jl:19\n",
       "convert(::Type{Nullable{T}}, ::Void) at nullable.jl:20\n",
       "convert{T}(::Type{Nullable{T}}, x::T) at nullable.jl:17\n",
       "convert{T<:Integer}(dt::Type{T<:Integer}, ip::Base.IPAddr) at socket.jl:7\n",
       "convert(::Type{Float32}, val::Float16) at float16.jl:4\n",
       "convert(::Type{Float16}, val::Float32) at float16.jl:83\n",
       "convert(::Type{Int128}, x::Float16) at float16.jl:102\n",
       "convert(::Type{UInt128}, x::Float16) at float16.jl:103\n",
       "convert(::Type{VersionNumber}, v::Integer) at version.jl:71\n",
       "convert(::Type{VersionNumber}, v::Tuple) at version.jl:72\n",
       "convert(::Type{VersionNumber}, v::AbstractString) at version.jl:109\n",
       "convert(::Type{BigInt}, x::BigInt) at gmp.jl:82\n",
       "convert(::Type{BigInt}, x::Union{Int32,Int64}) at gmp.jl:111\n",
       "convert(::Type{BigInt}, x::Union{UInt32,UInt64}) at gmp.jl:116\n",
       "convert(::Type{BigInt}, x::Bool) at gmp.jl:121\n",
       "convert(::Type{BigInt}, x::Float32) at gmp.jl:141\n",
       "convert(::Type{BigInt}, x::Union{Float32,Float64}) at gmp.jl:131\n",
       "convert(::Type{BigInt}, x::Integer) at gmp.jl:144\n",
       "convert{T<:Unsigned}(::Type{T<:Unsigned}, x::BigInt) at gmp.jl:182\n",
       "convert{T<:Signed}(::Type{T<:Signed}, x::BigInt) at gmp.jl:191\n",
       "convert(::Type{Float64}, n::BigInt) at gmp.jl:243\n",
       "convert(::Type{Float32}, n::BigInt) at gmp.jl:244\n",
       "convert(::Type{BigFloat}, x::BigFloat) at mpfr.jl:69\n",
       "convert(::Type{BigFloat}, x::Int64) at mpfr.jl:75\n",
       "convert(::Type{BigFloat}, x::UInt64) at mpfr.jl:75\n",
       "convert(::Type{BigFloat}, x::Float64) at mpfr.jl:75\n",
       "convert(::Type{BigFloat}, x::BigInt) at mpfr.jl:83\n",
       "convert(::Type{BigFloat}, x::Union{Bool,Int16,Int32,Int8}) at mpfr.jl:90\n",
       "convert(::Type{BigFloat}, x::Union{UInt16,UInt32,UInt8}) at mpfr.jl:91\n",
       "convert(::Type{BigFloat}, x::Integer) at mpfr.jl:88\n",
       "convert(::Type{BigFloat}, x::Union{Float16,Float32}) at mpfr.jl:93\n",
       "convert(::Type{AbstractFloat}, x::BigInt) at mpfr.jl:103\n",
       "convert(::Type{BigInt}, x::BigFloat) at mpfr.jl:166\n",
       "convert(::Type{Float64}, x::BigFloat) at mpfr.jl:176\n",
       "convert(::Type{Float32}, x::BigFloat) at mpfr.jl:178\n",
       "convert(::Type{Float16}, x::BigFloat) at mpfr.jl:181\n",
       "convert(::Type{UInt128}, u::Base.Random.UUID) at random.jl:1240\n",
       "convert(::Type{Base.Random.UUID}, s::AbstractString) at random.jl:1243\n",
       "convert{T<:Integer}(::Type{T<:Integer}, x::Enum) at Enums.jl:9\n",
       "convert(::Type{Base.WorkerState}, ::Integer) at Enums.jl:79\n",
       "convert{TS,TA,N}(::Type{SharedArray{TS,N}}, A::Array{TA,N}) at sharedarray.jl:199\n",
       "convert{T}(::Type{SharedArray{T,N}}, A::Array{T,N}) at sharedarray.jl:198\n",
       "convert(::Type{SharedArray{T,N}}, A::Array{T,N}) at sharedarray.jl:197\n",
       "convert{T}(::Type{SymTridiagonal{T}}, S::SymTridiagonal{T}) at linalg/tridiag.jl:33\n",
       "convert{T}(::Type{Tridiagonal{T}}, M::Tridiagonal{T}) at linalg/tridiag.jl:417\n",
       "convert(::Type{Tridiagonal{T}}, A::SymTridiagonal{T}) at linalg/special.jl:72\n",
       "convert{T}(::Type{Tridiagonal{T}}, M::SymTridiagonal{T}) at linalg/tridiag.jl:419\n",
       "convert{T}(::Type{SymTridiagonal{T}}, M::Tridiagonal{T}) at linalg/tridiag.jl:421\n",
       "convert{T,S}(::Type{LowerTriangular{T,S<:AbstractArray{T,2}}}, A::LowerTriangular{T,S}) at linalg/triangular.jl:20\n",
       "convert{Tnew,Told,S}(::Type{LowerTriangular{Tnew,S<:AbstractArray{T,2}}}, A::LowerTriangular{Told,S}) at linalg/triangular.jl:21\n",
       "convert{T,S}(::Type{Base.LinAlg.UnitLowerTriangular{T,S<:AbstractArray{T,2}}}, A::Base.LinAlg.UnitLowerTriangular{T,S}) at linalg/triangular.jl:20\n",
       "convert{Tnew,Told,S}(::Type{Base.LinAlg.UnitLowerTriangular{Tnew,S<:AbstractArray{T,2}}}, A::Base.LinAlg.UnitLowerTriangular{Told,S}) at linalg/triangular.jl:21\n",
       "convert{T,S}(::Type{UpperTriangular{T,S<:AbstractArray{T,2}}}, A::UpperTriangular{T,S}) at linalg/triangular.jl:20\n",
       "convert{Tnew,Told,S}(::Type{UpperTriangular{Tnew,S<:AbstractArray{T,2}}}, A::UpperTriangular{Told,S}) at linalg/triangular.jl:21\n",
       "convert{T,S}(::Type{Base.LinAlg.UnitUpperTriangular{T,S<:AbstractArray{T,2}}}, A::Base.LinAlg.UnitUpperTriangular{T,S}) at linalg/triangular.jl:20\n",
       "convert{Tnew,Told,S}(::Type{Base.LinAlg.UnitUpperTriangular{Tnew,S<:AbstractArray{T,2}}}, A::Base.LinAlg.UnitUpperTriangular{Told,S}) at linalg/triangular.jl:21\n",
       "convert{T}(::Type{Factorization{T}}, A::Base.LinAlg.QR{T,S<:AbstractArray{T,2}}) at linalg/qr.jl:59\n",
       "convert{T}(::Type{Factorization{T}}, A::Base.LinAlg.QRCompactWY{S,M<:AbstractArray{T,2}}) at linalg/qr.jl:61\n",
       "convert{T}(::Type{Factorization{T}}, A::Base.LinAlg.QRPivoted{T,S<:AbstractArray{T,2}}) at linalg/qr.jl:63\n",
       "convert{T}(::Type{Factorization{T}}, C::Base.LinAlg.Cholesky{T,S<:AbstractArray{T,2}}) at linalg/cholesky.jl:152\n",
       "convert{T}(::Type{Factorization{T}}, C::Base.LinAlg.CholeskyPivoted{T,S<:AbstractArray{T,2}}) at linalg/cholesky.jl:155\n",
       "convert{T}(::Type{Factorization{T}}, F::Base.LinAlg.LU{T,S<:AbstractArray{T,2}}) at linalg/lu.jl:102\n",
       "convert{T}(::Type{Factorization{T}}, B::Base.LinAlg.BunchKaufman{T,S<:AbstractArray{T,2}}) at linalg/bunchkaufman.jl:31\n",
       "convert{T,S,U}(::Type{Factorization{T}}, F::Base.LinAlg.LDLt{S,U}) at linalg/ldlt.jl:15\n",
       "convert{T}(::Type{Factorization{T}}, F::Factorization{T}) at linalg/factorization.jl:21\n",
       "convert{T}(::Type{Base.LinAlg.QR{T,S<:AbstractArray{T,2}}}, A::Base.LinAlg.QR{T,S<:AbstractArray{T,2}}) at linalg/qr.jl:58\n",
       "convert{T}(::Type{Base.LinAlg.QRCompactWY{T,M<:AbstractArray{T,2}}}, A::Base.LinAlg.QRCompactWY{S,M<:AbstractArray{T,2}}) at linalg/qr.jl:60\n",
       "convert{T}(::Type{Base.LinAlg.QRPivoted{T,S<:AbstractArray{T,2}}}, A::Base.LinAlg.QRPivoted{T,S<:AbstractArray{T,2}}) at linalg/qr.jl:62\n",
       "convert{T}(::Type{Base.LinAlg.QRPackedQ{T,S<:AbstractArray{T,2}}}, Q::Base.LinAlg.QRPackedQ{T,S<:AbstractArray{T,2}}) at linalg/qr.jl:124\n",
       "convert{S}(::Type{Base.LinAlg.QRCompactWYQ{S,M<:AbstractArray{T,2}}}, Q::Base.LinAlg.QRCompactWYQ{S,M<:AbstractArray{T,2}}) at linalg/qr.jl:126\n",
       "convert{Tnew,Told,S}(::Type{Base.LinAlg.Cholesky{Tnew,S<:AbstractArray{T,2}}}, C::Base.LinAlg.Cholesky{Told,S}) at linalg/cholesky.jl:145\n",
       "convert{T,S}(::Type{Base.LinAlg.Cholesky{T,S}}, C::Base.LinAlg.Cholesky{T,S<:AbstractArray{T,2}}) at linalg/cholesky.jl:149\n",
       "convert{T}(::Type{Base.LinAlg.CholeskyPivoted{T,S<:AbstractArray{T,2}}}, C::Base.LinAlg.CholeskyPivoted{T,S<:AbstractArray{T,2}}) at linalg/cholesky.jl:153\n",
       "convert{T}(::Type{Base.LinAlg.LU{T,S<:AbstractArray{T,2}}}, F::Base.LinAlg.LU{T,S<:AbstractArray{T,2}}) at linalg/lu.jl:98\n",
       "convert{T,S}(::Type{Base.LinAlg.LU{T,S}}, F::Base.LinAlg.LU{T,S<:AbstractArray{T,2}}) at linalg/lu.jl:101\n",
       "convert{T}(::Type{Base.LinAlg.BunchKaufman{T,S<:AbstractArray{T,2}}}, B::Base.LinAlg.BunchKaufman{T,S<:AbstractArray{T,2}}) at linalg/bunchkaufman.jl:30\n",
       "convert{T,S<:AbstractArray{T,2}}(::Type{Symmetric{T,S<:AbstractArray{T,2}}}, A::Symmetric{T,S<:AbstractArray{T,2}}) at linalg/symmetric.jl:32\n",
       "convert{T,S<:AbstractArray{T,2}}(::Type{Symmetric{T,S<:AbstractArray{T,2}}}, A::Symmetric{T,S<:AbstractArray{T,2}}) at linalg/symmetric.jl:33\n",
       "convert{T,S<:AbstractArray{T,2}}(::Type{Hermitian{T,S<:AbstractArray{T,2}}}, A::Hermitian{T,S<:AbstractArray{T,2}}) at linalg/symmetric.jl:35\n",
       "convert{T,S<:AbstractArray{T,2}}(::Type{Hermitian{T,S<:AbstractArray{T,2}}}, A::Hermitian{T,S<:AbstractArray{T,2}}) at linalg/symmetric.jl:36\n",
       "convert{T}(::Type{Diagonal{T}}, D::Diagonal{T}) at linalg/diagonal.jl:10\n",
       "convert{T}(::Type{Diagonal{T}}, D::Diagonal{T}) at linalg/diagonal.jl:11\n",
       "convert{T}(::Type{UpperTriangular{T,S<:AbstractArray{T,2}}}, A::Diagonal{T}) at linalg/diagonal.jl:13\n",
       "convert{T}(::Type{LowerTriangular{T,S<:AbstractArray{T,2}}}, A::Diagonal{T}) at linalg/diagonal.jl:14\n",
       "convert{T}(::Type{Tridiagonal{T}}, A::Bidiagonal{T}) at linalg/bidiag.jl:65\n",
       "convert{T}(::Type{Base.LinAlg.Givens{T}}, G::Base.LinAlg.Givens{T}) at linalg/givens.jl:27\n",
       "convert{T}(::Type{Base.LinAlg.Givens{T}}, G::Base.LinAlg.Givens{T}) at linalg/givens.jl:28\n",
       "convert{T}(::Type{Base.LinAlg.Rotation{T}}, R::Base.LinAlg.Rotation{T}) at linalg/givens.jl:29\n",
       "convert{T}(::Type{Base.LinAlg.Rotation{T}}, R::Base.LinAlg.Rotation{T}) at linalg/givens.jl:30\n",
       "convert{T}(::Type{Base.LinAlg.AbstractRotation{T}}, G::Base.LinAlg.Givens{T}) at linalg/givens.jl:31\n",
       "convert{T}(::Type{Base.LinAlg.AbstractRotation{T}}, R::Base.LinAlg.Rotation{T}) at linalg/givens.jl:32\n",
       "convert{T}(::Type{Bidiagonal{T}}, A::Diagonal{T}) at linalg/special.jl:6\n",
       "convert{T}(::Type{SymTridiagonal{T}}, A::Diagonal{T}) at linalg/special.jl:7\n",
       "convert{T}(::Type{Tridiagonal{T}}, A::Diagonal{T}) at linalg/special.jl:8\n",
       "convert(::Type{LowerTriangular{T,S<:AbstractArray{T,2}}}, A::Bidiagonal{T}) at linalg/special.jl:9\n",
       "convert(::Type{UpperTriangular{T,S<:AbstractArray{T,2}}}, A::Bidiagonal{T}) at linalg/special.jl:10\n",
       "convert(::Type{Base.LinAlg.UnitUpperTriangular{T,S<:AbstractArray{T,2}}}, A::Diagonal{T}) at linalg/special.jl:14\n",
       "convert(::Type{Base.LinAlg.UnitLowerTriangular{T,S<:AbstractArray{T,2}}}, A::Diagonal{T}) at linalg/special.jl:21\n",
       "convert(::Type{Diagonal{T}}, A::Union{Bidiagonal{T},SymTridiagonal{T}}) at linalg/special.jl:28\n",
       "convert(::Type{SymTridiagonal{T}}, A::Bidiagonal{T}) at linalg/special.jl:35\n",
       "convert{T}(::Type{Tridiagonal{T}}, A::Bidiagonal{T}) at linalg/special.jl:41\n",
       "convert(::Type{Bidiagonal{T}}, A::SymTridiagonal{T}) at linalg/special.jl:44\n",
       "convert(::Type{Diagonal{T}}, A::Tridiagonal{T}) at linalg/special.jl:51\n",
       "convert(::Type{Bidiagonal{T}}, A::Tridiagonal{T}) at linalg/special.jl:58\n",
       "convert(::Type{SymTridiagonal{T}}, A::Tridiagonal{T}) at linalg/special.jl:65\n",
       "convert(::Type{Diagonal{T}}, A::Base.LinAlg.AbstractTriangular{T,S<:AbstractArray{T,2}}) at linalg/special.jl:76\n",
       "convert(::Type{Bidiagonal{T}}, A::Base.LinAlg.AbstractTriangular{T,S<:AbstractArray{T,2}}) at linalg/special.jl:83\n",
       "convert(::Type{SymTridiagonal{T}}, A::Base.LinAlg.AbstractTriangular{T,S<:AbstractArray{T,2}}) at linalg/special.jl:93\n",
       "convert(::Type{Tridiagonal{T}}, A::Base.LinAlg.AbstractTriangular{T,S<:AbstractArray{T,2}}) at linalg/special.jl:96\n",
       "convert{T,S,U<:AbstractArray{T,2}}(::Type{Base.LinAlg.LDLt{T,S<:AbstractArray{T,2}}}, F::Base.LinAlg.LDLt{S,U<:AbstractArray{T,2}}) at linalg/ldlt.jl:13\n",
       "convert{T,S}(::Type{Base.LinAlg.LDLt{T,S}}, F::Base.LinAlg.LDLt{T,S<:AbstractArray{T,2}}) at linalg/ldlt.jl:10\n",
       "convert{Tv,TvS,TiS}(::Type{SparseMatrixCSC{Tv,Ti<:Integer}}, S::SparseMatrixCSC{TvS,TiS}) at sparse/sparsematrix.jl:203\n",
       "convert{Tv,Ti,TvS,TiS}(::Type{SparseMatrixCSC{Tv,Ti}}, S::SparseMatrixCSC{TvS,TiS}) at sparse/sparsematrix.jl:192\n",
       "convert{Tv}(::Type{SparseMatrixCSC{Tv,Int64}}, A::Base.SparseMatrix.CHOLMOD.Sparse{Tv}) at sparse/cholmod.jl:955\n",
       "convert{Tv,Ti}(::Type{SparseMatrixCSC{Tv,Ti}}, M::AbstractArray{T,2}) at sparse/sparsematrix.jl:214\n",
       "convert{T<:Union{Complex{Float64},Float64}}(::Type{Base.SparseMatrix.CHOLMOD.Dense{T<:Union{Complex{Float64},Float64}}}, A::Union{Array{T<:Union{Complex{Float64},Float64},1},Array{T<:Union{Complex{Float64},Float64},2}}) at sparse/cholmod.jl:799\n",
       "convert(::Type{Base.SparseMatrix.CHOLMOD.Dense{T<:Union{Complex{Float64},Float64}}}, A::Union{Array{T,1},Array{T,2}}) at sparse/cholmod.jl:804\n",
       "convert(::Type{Base.SparseMatrix.CHOLMOD.Dense{T<:Union{Complex{Float64},Float64}}}, A::Base.SparseMatrix.CHOLMOD.Sparse{Tv<:Union{Complex{Float64},Float64}}) at sparse/cholmod.jl:805\n",
       "convert{Tv<:Union{Complex{Float64},Float64}}(::Type{Base.SparseMatrix.CHOLMOD.Sparse{Tv<:Union{Complex{Float64},Float64}}}, m::Integer, n::Integer, colptr::Array{Int64,1}, rowval::Array{Int64,1}, nzval::Array{Tv<:Union{Complex{Float64},Float64},1}, stype) at sparse/cholmod.jl:811\n",
       "convert{Tv<:Union{Complex{Float64},Float64}}(::Type{Base.SparseMatrix.CHOLMOD.Sparse{Tv<:Union{Complex{Float64},Float64}}}, m::Integer, n::Integer, colptr::Array{Int64,1}, rowval::Array{Int64,1}, nzval::Array{Tv<:Union{Complex{Float64},Float64},1}) at sparse/cholmod.jl:832\n",
       "convert{Tv<:Union{Complex{Float64},Float64}}(::Type{Base.SparseMatrix.CHOLMOD.Sparse{Tv<:Union{Complex{Float64},Float64}}}, A::SparseMatrixCSC{Tv<:Union{Complex{Float64},Float64},Int64}, stype::Integer) at sparse/cholmod.jl:842\n",
       "convert{Tv<:Union{Complex{Float64},Float64},Ti<:Union{Int32,Int64}}(::Type{Base.SparseMatrix.CHOLMOD.Sparse{Tv<:Union{Complex{Float64},Float64}}}, A::SparseMatrixCSC{Tv<:Union{Complex{Float64},Float64},Ti<:Union{Int32,Int64}}) at sparse/cholmod.jl:858\n",
       "convert{Ti<:Union{Int32,Int64}}(::Type{Base.SparseMatrix.CHOLMOD.Sparse{Tv<:Union{Complex{Float64},Float64}}}, A::SparseMatrixCSC{Float32,Ti<:Union{Int32,Int64}}) at sparse/cholmod.jl:865\n",
       "convert{Ti<:Union{Int32,Int64}}(::Type{Base.SparseMatrix.CHOLMOD.Sparse{Tv<:Union{Complex{Float64},Float64}}}, A::SparseMatrixCSC{Complex{Float32},Ti<:Union{Int32,Int64}}) at sparse/cholmod.jl:866\n",
       "convert(::Type{Base.SparseMatrix.CHOLMOD.Sparse{Tv<:Union{Complex{Float64},Float64}}}, A::Symmetric{Float64,SparseMatrixCSC{Float64,Int64}}) at sparse/cholmod.jl:867\n",
       "convert{Tv<:Union{Complex{Float64},Float64}}(::Type{Base.SparseMatrix.CHOLMOD.Sparse{Tv<:Union{Complex{Float64},Float64}}}, A::Hermitian{Tv<:Union{Complex{Float64},Float64},SparseMatrixCSC{Tv<:Union{Complex{Float64},Float64},Int64}}) at sparse/cholmod.jl:868\n",
       "convert{T,Ti<:Union{Int32,Int64}}(::Type{Base.SparseMatrix.CHOLMOD.Sparse{Tv<:Union{Complex{Float64},Float64}}}, A::Union{Hermitian{T,SparseMatrixCSC{T,Ti<:Union{Int32,Int64}}},SparseMatrixCSC{T,Ti<:Union{Int32,Int64}},Symmetric{T,SparseMatrixCSC{T,Ti<:Union{Int32,Int64}}}}, args...) at sparse/cholmod.jl:874\n",
       "convert(::Type{Base.SparseMatrix.CHOLMOD.Sparse{Tv<:Union{Complex{Float64},Float64}}}, p::Ptr{Base.SparseMatrix.CHOLMOD.C_SparseVoid}) at sparse/cholmod.jl:880\n",
       "convert(::Type{Base.SparseMatrix.CHOLMOD.Sparse{Tv<:Union{Complex{Float64},Float64}}}, A::Base.SparseMatrix.CHOLMOD.Dense{T<:Union{Complex{Float64},Float64}}) at sparse/cholmod.jl:922\n",
       "convert(::Type{Base.SparseMatrix.CHOLMOD.Sparse{Tv<:Union{Complex{Float64},Float64}}}, L::Base.SparseMatrix.CHOLMOD.Factor{Tv}) at sparse/cholmod.jl:923\n",
       "convert(::Type{Base.SparseMatrix.CHOLMOD.Sparse{Tv<:Union{Complex{Float64},Float64}}}, filename::ByteString) at sparse/cholmod.jl:925\n",
       "convert(::Type{Symmetric{Float64,SparseMatrixCSC{Float64,Int64}}}, A::Base.SparseMatrix.CHOLMOD.Sparse{Float64}) at sparse/cholmod.jl:962\n",
       "convert{Tv<:Union{Complex{Float64},Float64}}(::Type{Hermitian{Tv<:Union{Complex{Float64},Float64},SparseMatrixCSC{Tv<:Union{Complex{Float64},Float64},Int64}}}, A::Base.SparseMatrix.CHOLMOD.Sparse{Tv<:Union{Complex{Float64},Float64}}) at sparse/cholmod.jl:969\n",
       "convert(::Type{AbstractFloat}, x::Irrational{sym}) at irrationals.jl:13\n",
       "convert(::Type{Float16}, x::Irrational{sym}) at irrationals.jl:14\n",
       "convert{T<:Integer}(::Type{Rational{T<:Integer}}, x::Irrational{sym}) at irrationals.jl:16\n",
       "convert(::Type{BigFloat}, ::Irrational{:π}) at irrationals.jl:80\n",
       "convert(::Type{Float64}, ::Irrational{:π}) at irrationals.jl:92\n",
       "convert(::Type{Float32}, ::Irrational{:π}) at irrationals.jl:93\n",
       "convert(::Type{BigFloat}, ::Irrational{:e}) at irrationals.jl:87\n",
       "convert(::Type{Float64}, ::Irrational{:e}) at irrationals.jl:92\n",
       "convert(::Type{Float32}, ::Irrational{:e}) at irrationals.jl:93\n",
       "convert(::Type{BigFloat}, ::Irrational{:γ}) at irrationals.jl:80\n",
       "convert(::Type{Float64}, ::Irrational{:γ}) at irrationals.jl:92\n",
       "convert(::Type{Float32}, ::Irrational{:γ}) at irrationals.jl:93\n",
       "convert(::Type{BigFloat}, ::Irrational{:catalan}) at irrationals.jl:80\n",
       "convert(::Type{Float64}, ::Irrational{:catalan}) at irrationals.jl:92\n",
       "convert(::Type{Float32}, ::Irrational{:catalan}) at irrationals.jl:93\n",
       "convert(::Type{BigFloat}, ::Irrational{:φ}) at irrationals.jl:87\n",
       "convert(::Type{Float64}, ::Irrational{:φ}) at irrationals.jl:92\n",
       "convert(::Type{Float32}, ::Irrational{:φ}) at irrationals.jl:93\n",
       "convert{T<:Number}(::Type{T<:Number}, x::Base.Dates.Period) at dates/periods.jl:21\n",
       "convert{T<:Base.Dates.Period}(::Type{T<:Base.Dates.Period}, x::Real) at dates/periods.jl:22\n",
       "convert(::Type{Base.Dates.CompoundPeriod}, x::Base.Dates.Period) at dates/periods.jl:175\n",
       "convert(::Type{Base.Dates.Week}, x::Base.Dates.Day) at dates/periods.jl:277\n",
       "convert(::Type{Base.Dates.Week}, x::Base.Dates.Hour) at dates/periods.jl:277\n",
       "convert(::Type{Base.Dates.Week}, x::Base.Dates.Minute) at dates/periods.jl:277\n",
       "convert(::Type{Base.Dates.Week}, x::Base.Dates.Second) at dates/periods.jl:277\n",
       "convert(::Type{Base.Dates.Week}, x::Base.Dates.Millisecond) at dates/periods.jl:277\n",
       "convert(::Type{Base.Dates.Day}, x::Base.Dates.Week) at dates/periods.jl:270\n",
       "convert(::Type{Base.Dates.Day}, x::Base.Dates.Hour) at dates/periods.jl:277\n",
       "convert(::Type{Base.Dates.Day}, x::Base.Dates.Minute) at dates/periods.jl:277\n",
       "convert(::Type{Base.Dates.Day}, x::Base.Dates.Second) at dates/periods.jl:277\n",
       "convert(::Type{Base.Dates.Day}, x::Base.Dates.Millisecond) at dates/periods.jl:277\n",
       "convert(::Type{Base.Dates.Hour}, x::Base.Dates.Day) at dates/periods.jl:270\n",
       "convert(::Type{Base.Dates.Hour}, x::Base.Dates.Week) at dates/periods.jl:270\n",
       "convert(::Type{Base.Dates.Hour}, x::Base.Dates.Minute) at dates/periods.jl:277\n",
       "convert(::Type{Base.Dates.Hour}, x::Base.Dates.Second) at dates/periods.jl:277\n",
       "convert(::Type{Base.Dates.Hour}, x::Base.Dates.Millisecond) at dates/periods.jl:277\n",
       "convert(::Type{Base.Dates.Minute}, x::Base.Dates.Hour) at dates/periods.jl:270\n",
       "convert(::Type{Base.Dates.Minute}, x::Base.Dates.Day) at dates/periods.jl:270\n",
       "convert(::Type{Base.Dates.Minute}, x::Base.Dates.Week) at dates/periods.jl:270\n",
       "convert(::Type{Base.Dates.Minute}, x::Base.Dates.Second) at dates/periods.jl:277\n",
       "convert(::Type{Base.Dates.Minute}, x::Base.Dates.Millisecond) at dates/periods.jl:277\n",
       "convert(::Type{Base.Dates.Second}, x::Base.Dates.Minute) at dates/periods.jl:270\n",
       "convert(::Type{Base.Dates.Second}, x::Base.Dates.Hour) at dates/periods.jl:270\n",
       "convert(::Type{Base.Dates.Second}, x::Base.Dates.Day) at dates/periods.jl:270\n",
       "convert(::Type{Base.Dates.Second}, x::Base.Dates.Week) at dates/periods.jl:270\n",
       "convert(::Type{Base.Dates.Second}, x::Base.Dates.Millisecond) at dates/periods.jl:277\n",
       "convert(::Type{Base.Dates.Millisecond}, x::Base.Dates.Second) at dates/periods.jl:270\n",
       "convert(::Type{Base.Dates.Millisecond}, x::Base.Dates.Minute) at dates/periods.jl:270\n",
       "convert(::Type{Base.Dates.Millisecond}, x::Base.Dates.Hour) at dates/periods.jl:270\n",
       "convert(::Type{Base.Dates.Millisecond}, x::Base.Dates.Day) at dates/periods.jl:270\n",
       "convert(::Type{Base.Dates.Millisecond}, x::Base.Dates.Week) at dates/periods.jl:270\n",
       "convert(::Type{Base.Dates.Month}, x::Base.Dates.Year) at dates/periods.jl:290\n",
       "convert(::Type{Base.Dates.Year}, x::Base.Dates.Month) at dates/periods.jl:294\n",
       "convert(::Type{DateTime}, dt::Date) at dates/conversions.jl:6\n",
       "convert(::Type{Date}, dt::DateTime) at dates/conversions.jl:7\n",
       "convert{R<:Real}(::Type{R<:Real}, x::DateTime) at dates/conversions.jl:8\n",
       "convert{R<:Real}(::Type{R<:Real}, x::Date) at dates/conversions.jl:9\n",
       "convert{T}(::Type{Ptr{T}}, x::Signed) at deprecated.jl:427\n",
       "convert{T}(::Type{Ptr{T}}, x::Integer) at deprecated.jl:423\n",
       "convert(::Type{IOStream}, zmsg::LastMain.LastMain.ZMQ.Message) at /home/daniel/.julia/v0.4/ZMQ/src/ZMQ.jl:447\n",
       "convert(::Type{LastMain.LastMain.PyCall.PyObject}, o) at /home/daniel/.julia/v0.4/PyCall/src/PyCall.jl:118\n",
       "convert(::Type{Bool}, po::LastMain.LastMain.PyCall.PyObject) at /home/daniel/.julia/v0.4/PyCall/src/conversions.jl:39\n",
       "convert(::Type{BigInt}, o::LastMain.LastMain.PyCall.PyObject) at /home/daniel/.julia/v0.4/PyCall/src/conversions.jl:688\n",
       "convert{T<:Integer}(::Type{T<:Integer}, po::LastMain.LastMain.PyCall.PyObject) at /home/daniel/.julia/v0.4/PyCall/src/conversions.jl:31\n",
       "convert(::Type{BigFloat}, o::LastMain.LastMain.PyCall.PyObject) at /home/daniel/.julia/v0.4/PyCall/src/conversions.jl:662\n",
       "convert{T<:Real}(::Type{T<:Real}, po::LastMain.LastMain.PyCall.PyObject) at /home/daniel/.julia/v0.4/PyCall/src/conversions.jl:42\n",
       "convert(::Type{Complex{BigFloat}}, o::LastMain.LastMain.PyCall.PyObject) at /home/daniel/.julia/v0.4/PyCall/src/conversions.jl:668\n",
       "convert{T<:Complex{T<:Real}}(::Type{T<:Complex{T<:Real}}, po_::LastMain.LastMain.PyCall.PyObject) at /home/daniel/.julia/v0.4/PyCall/src/conversions.jl:46\n",
       "convert(::Type{Void}, po::LastMain.LastMain.PyCall.PyObject) at /home/daniel/.julia/v0.4/PyCall/src/conversions.jl:56\n",
       "convert{T<:AbstractString}(::Type{T<:AbstractString}, po::LastMain.LastMain.PyCall.PyObject) at /home/daniel/.julia/v0.4/PyCall/src/conversions.jl:81\n",
       "convert(::Type{Symbol}, po::LastMain.LastMain.PyCall.PyObject) at /home/daniel/.julia/v0.4/PyCall/src/conversions.jl:95\n",
       "convert(::Type{Array{UInt8,1}}, po::LastMain.LastMain.PyCall.PyObject) at /home/daniel/.julia/v0.4/PyCall/src/conversions.jl:108\n",
       "convert(::Type{Ptr{Void}}, po::LastMain.LastMain.PyCall.PyObject) at /home/daniel/.julia/v0.4/PyCall/src/conversions.jl:142\n",
       "convert(::Type{LastMain.LastMain.PyCall.PyAny}, o::LastMain.LastMain.PyCall.PyObject) at /home/daniel/.julia/v0.4/PyCall/src/conversions.jl:818\n",
       "convert(::Type{LastMain.LastMain.PyCall.PyAny}, x::Int64) at /home/daniel/.julia/v0.4/PyCall/src/conversions.jl:185\n",
       "convert(::Type{LastMain.LastMain.PyCall.PyAny}, x::Bool) at /home/daniel/.julia/v0.4/PyCall/src/conversions.jl:185\n",
       "convert(::Type{LastMain.LastMain.PyCall.PyAny}, x::Float64) at /home/daniel/.julia/v0.4/PyCall/src/conversions.jl:185\n",
       "convert(::Type{LastMain.LastMain.PyCall.PyAny}, x::Complex{Float64}) at /home/daniel/.julia/v0.4/PyCall/src/conversions.jl:185\n",
       "convert(::Type{LastMain.LastMain.PyCall.PyAny}, x::AbstractString) at /home/daniel/.julia/v0.4/PyCall/src/conversions.jl:185\n",
       "convert(::Type{LastMain.LastMain.PyCall.PyAny}, x::Function) at /home/daniel/.julia/v0.4/PyCall/src/conversions.jl:185\n",
       "convert(::Type{LastMain.LastMain.PyCall.PyAny}, x::Dict{K,V}) at /home/daniel/.julia/v0.4/PyCall/src/conversions.jl:185\n",
       "convert(::Type{LastMain.LastMain.PyCall.PyAny}, x::Tuple) at /home/daniel/.julia/v0.4/PyCall/src/conversions.jl:185\n",
       "convert(::Type{LastMain.LastMain.PyCall.PyAny}, x::Array{T,N}) at /home/daniel/.julia/v0.4/PyCall/src/conversions.jl:185\n",
       "convert(::Type{Function}, po::LastMain.LastMain.PyCall.PyObject) at /home/daniel/.julia/v0.4/PyCall/src/conversions.jl:192\n",
       "convert{T<:Tuple}(tt::Type{T<:Tuple}, o::LastMain.LastMain.PyCall.PyObject) at /home/daniel/.julia/v0.4/PyCall/src/conversions.jl:225\n",
       "convert{T}(::Type{LastMain.LastMain.PyCall.PyVector{T}}, o::LastMain.LastMain.PyCall.PyObject) at /home/daniel/.julia/v0.4/PyCall/src/conversions.jl:253\n",
       "convert(::Type{LastMain.LastMain.PyCall.PyVector{T}}, o::LastMain.LastMain.PyCall.PyObject) at /home/daniel/.julia/v0.4/PyCall/src/conversions.jl:252\n",
       "convert{T<:Union{Bool,Complex{Float32},Complex{Float64},Float32,Float64,Int16,Int32,Int64,Int8,Ptr{LastMain.LastMain.PyCall.PyObject_struct},UInt16,UInt32,UInt64,UInt8}}(::Type{Array{T<:Union{Bool,Complex{Float32},Complex{Float64},Float32,Float64,Int16,Int32,Int64,Int8,Ptr{LastMain.LastMain.PyCall.PyObject_struct},UInt16,UInt32,UInt64,UInt8},1}}, o::LastMain.LastMain.PyCall.PyObject) at /home/daniel/.julia/v0.4/PyCall/src/numpy.jl:413\n",
       "convert(::Type{Array{LastMain.LastMain.PyCall.PyObject,1}}, o::LastMain.LastMain.PyCall.PyObject) at /home/daniel/.julia/v0.4/PyCall/src/numpy.jl:461\n",
       "convert{T}(::Type{Array{T,1}}, o::LastMain.LastMain.PyCall.PyObject) at /home/daniel/.julia/v0.4/PyCall/src/conversions.jl:405\n",
       "convert{T<:Union{Bool,Complex{Float32},Complex{Float64},Float32,Float64,Int16,Int32,Int64,Int8,Ptr{LastMain.LastMain.PyCall.PyObject_struct},UInt16,UInt32,UInt64,UInt8}}(::Type{Array{T<:Union{Bool,Complex{Float32},Complex{Float64},Float32,Float64,Int16,Int32,Int64,Int8,Ptr{LastMain.LastMain.PyCall.PyObject_struct},UInt16,UInt32,UInt64,UInt8},N}}, o::LastMain.LastMain.PyCall.PyObject) at /home/daniel/.julia/v0.4/PyCall/src/numpy.jl:423\n",
       "convert{T<:Union{Bool,Complex{Float32},Complex{Float64},Float32,Float64,Int16,Int32,Int64,Int8,Ptr{LastMain.LastMain.PyCall.PyObject_struct},UInt16,UInt32,UInt64,UInt8},N}(::Type{Array{T<:Union{Bool,Complex{Float32},Complex{Float64},Float32,Float64,Int16,Int32,Int64,Int8,Ptr{LastMain.LastMain.PyCall.PyObject_struct},UInt16,UInt32,UInt64,UInt8},N}}, o::LastMain.LastMain.PyCall.PyObject) at /home/daniel/.julia/v0.4/PyCall/src/numpy.jl:436\n",
       "convert{N}(::Type{Array{LastMain.LastMain.PyCall.PyObject,N}}, o::LastMain.LastMain.PyCall.PyObject) at /home/daniel/.julia/v0.4/PyCall/src/numpy.jl:465\n",
       "convert(::Type{Array{LastMain.LastMain.PyCall.PyObject,N}}, o::LastMain.LastMain.PyCall.PyObject) at /home/daniel/.julia/v0.4/PyCall/src/numpy.jl:457\n",
       "convert{T}(::Type{Array{T,N}}, o::LastMain.LastMain.PyCall.PyObject) at /home/daniel/.julia/v0.4/PyCall/src/conversions.jl:415\n",
       "convert(::Type{Array{T,N}}, o::LastMain.LastMain.PyCall.PyObject) at /home/daniel/.julia/v0.4/PyCall/src/conversions.jl:414\n",
       "convert(::Type{LastMain.LastMain.PyCall.PyArray{T,N}}, o::LastMain.LastMain.PyCall.PyObject) at /home/daniel/.julia/v0.4/PyCall/src/numpy.jl:410\n",
       "convert{K,V}(::Type{LastMain.LastMain.PyCall.PyDict{K,V}}, o::LastMain.LastMain.PyCall.PyObject) at /home/daniel/.julia/v0.4/PyCall/src/conversions.jl:448\n",
       "convert(::Type{LastMain.LastMain.PyCall.PyDict{K,V}}, o::LastMain.LastMain.PyCall.PyObject) at /home/daniel/.julia/v0.4/PyCall/src/conversions.jl:447\n",
       "convert{K,V}(::Type{Dict{K,V}}, o::LastMain.LastMain.PyCall.PyObject) at /home/daniel/.julia/v0.4/PyCall/src/conversions.jl:583\n",
       "convert{T<:Range{T}}(::Type{T<:Range{T}}, o::LastMain.LastMain.PyCall.PyObject) at /home/daniel/.julia/v0.4/PyCall/src/conversions.jl:606\n",
       "convert(::Type{DateTime}, o::LastMain.LastMain.PyCall.PyObject) at /home/daniel/.julia/v0.4/PyCall/src/pydates.jl:122\n",
       "convert(::Type{Date}, o::LastMain.LastMain.PyCall.PyObject) at /home/daniel/.julia/v0.4/PyCall/src/pydates.jl:142\n",
       "convert(::Type{Base.Dates.Millisecond}, o::LastMain.LastMain.PyCall.PyObject) at /home/daniel/.julia/v0.4/PyCall/src/pydates.jl:162\n",
       "convert(::Type{Base.Dates.Second}, o::LastMain.LastMain.PyCall.PyObject) at /home/daniel/.julia/v0.4/PyCall/src/pydates.jl:167\n",
       "convert(::Type{Base.Dates.Day}, o::LastMain.LastMain.PyCall.PyObject) at /home/daniel/.julia/v0.4/PyCall/src/pydates.jl:172\n",
       "convert{T,f}(::Type{LastMain.LastMain.FixedPointNumbers.Fixed{T,f}}, x::Integer) at /home/daniel/.julia/v0.4/FixedPointNumbers/src/fixed.jl:33\n",
       "convert{T,f}(::Type{LastMain.LastMain.FixedPointNumbers.Fixed{T,f}}, x::AbstractFloat) at /home/daniel/.julia/v0.4/FixedPointNumbers/src/fixed.jl:34\n",
       "convert{T,f}(::Type{LastMain.LastMain.FixedPointNumbers.Fixed{T,f}}, x::Rational{T<:Integer}) at /home/daniel/.julia/v0.4/FixedPointNumbers/src/fixed.jl:35\n",
       "convert{T,f}(::Type{BigFloat}, x::LastMain.LastMain.FixedPointNumbers.Fixed{T,f}) at /home/daniel/.julia/v0.4/FixedPointNumbers/src/fixed.jl:37\n",
       "convert{TF<:AbstractFloat,T,f}(::Type{TF<:AbstractFloat}, x::LastMain.LastMain.FixedPointNumbers.Fixed{T,f}) at /home/daniel/.julia/v0.4/FixedPointNumbers/src/fixed.jl:39\n",
       "convert{TR<:Rational{T<:Integer},T,f}(::Type{TR<:Rational{T<:Integer}}, x::LastMain.LastMain.FixedPointNumbers.Fixed{T,f}) at /home/daniel/.julia/v0.4/FixedPointNumbers/src/fixed.jl:48\n",
       "convert(::Type{LastMain.LastMain.FixedPointNumbers.UFixed{UInt16,16}}, x::LastMain.LastMain.FixedPointNumbers.UFixed{UInt8,8}) at /home/daniel/.julia/v0.4/FixedPointNumbers/src/ufixed.jl:53\n",
       "convert{T<:LastMain.LastMain.FixedPointNumbers.UFixed{T<:Unsigned,f}}(::Type{T<:LastMain.LastMain.FixedPointNumbers.UFixed{T<:Unsigned,f}}, x::T<:LastMain.LastMain.FixedPointNumbers.UFixed{T<:Unsigned,f}) at /home/daniel/.julia/v0.4/FixedPointNumbers/src/ufixed.jl:51\n",
       "convert{T1<:LastMain.LastMain.FixedPointNumbers.UFixed{T<:Unsigned,f}}(::Type{T1<:LastMain.LastMain.FixedPointNumbers.UFixed{T<:Unsigned,f}}, x::LastMain.LastMain.FixedPointNumbers.UFixed{T<:Unsigned,f}) at /home/daniel/.julia/v0.4/FixedPointNumbers/src/ufixed.jl:52\n",
       "convert{T<:LastMain.LastMain.FixedPointNumbers.UFixed{T<:Unsigned,f}}(::Type{T<:LastMain.LastMain.FixedPointNumbers.UFixed{T<:Unsigned,f}}, x::Real) at /home/daniel/.julia/v0.4/FixedPointNumbers/src/ufixed.jl:54\n",
       "convert(::Type{BigFloat}, x::LastMain.LastMain.FixedPointNumbers.UFixed{T<:Unsigned,f}) at /home/daniel/.julia/v0.4/FixedPointNumbers/src/ufixed.jl:69\n",
       "convert{T<:AbstractFloat}(::Type{T<:AbstractFloat}, x::LastMain.LastMain.FixedPointNumbers.UFixed{T<:Unsigned,f}) at /home/daniel/.julia/v0.4/FixedPointNumbers/src/ufixed.jl:70\n",
       "convert{Ti<:Integer}(::Type{Rational{Ti<:Integer}}, x::LastMain.LastMain.FixedPointNumbers.UFixed{T<:Unsigned,f}) at /home/daniel/.julia/v0.4/FixedPointNumbers/src/ufixed.jl:73\n",
       "convert(::Type{Rational{T<:Integer}}, x::LastMain.LastMain.FixedPointNumbers.UFixed{T<:Unsigned,f}) at /home/daniel/.julia/v0.4/FixedPointNumbers/src/ufixed.jl:74\n",
       "convert(::Type{LastMain.LastMain.ColorTypes.ARGB32}, c::LastMain.LastMain.ColorTypes.Color{T,N}) at /home/daniel/.julia/v0.4/Colors/src/conversions.jl:788\n",
       "convert(::Type{LastMain.LastMain.ColorTypes.ARGB32}, c::LastMain.LastMain.ColorTypes.Color{T,N}, alpha) at /home/daniel/.julia/v0.4/Colors/src/conversions.jl:789\n",
       "convert{C<:LastMain.LastMain.ColorTypes.TransparentColor{C<:LastMain.LastMain.ColorTypes.Color{T,N},T,N}}(::Type{C<:LastMain.LastMain.ColorTypes.TransparentColor{C<:LastMain.LastMain.ColorTypes.Color{T,N},T,N}}, c::LastMain.LastMain.ColorTypes.Color{T,N}, alpha) at /home/daniel/.julia/v0.4/ColorTypes/src/conversions.jl:7\n",
       "convert(::Type{LastMain.LastMain.ColorTypes.RGB24}, c::LastMain.LastMain.ColorTypes.RGB24) at /home/daniel/.julia/v0.4/Colors/src/conversions.jl:771\n",
       "convert(::Type{LastMain.LastMain.ColorTypes.RGB24}, c::LastMain.LastMain.ColorTypes.AbstractRGB{LastMain.LastMain.FixedPointNumbers.UFixed{UInt8,8}}) at /home/daniel/.julia/v0.4/Colors/src/conversions.jl:772\n",
       "convert(::Type{LastMain.LastMain.ColorTypes.RGB24}, c::LastMain.LastMain.ColorTypes.AbstractRGB{T}) at /home/daniel/.julia/v0.4/Colors/src/conversions.jl:773\n",
       "convert(::Type{LastMain.LastMain.ColorTypes.RGB24}, c::LastMain.LastMain.ColorTypes.Color{T,N}) at /home/daniel/.julia/v0.4/Colors/src/conversions.jl:777\n",
       "convert(::Type{LastMain.LastMain.ColorTypes.ARGB32}, c::LastMain.LastMain.ColorTypes.ARGB32) at /home/daniel/.julia/v0.4/Colors/src/conversions.jl:783\n",
       "convert{CV<:LastMain.LastMain.ColorTypes.AbstractRGB{LastMain.LastMain.FixedPointNumbers.UFixed{UInt8,8}}}(::Type{LastMain.LastMain.ColorTypes.ARGB32}, c::LastMain.LastMain.ColorTypes.TransparentColor{CV<:LastMain.LastMain.ColorTypes.AbstractRGB{LastMain.LastMain.FixedPointNumbers.UFixed{UInt8,8}},T,N}) at /home/daniel/.julia/v0.4/Colors/src/conversions.jl:784\n",
       "convert(::Type{LastMain.LastMain.ColorTypes.ARGB32}, c::LastMain.LastMain.ColorTypes.TransparentColor{C<:LastMain.LastMain.ColorTypes.Color{T,N},T,N}) at /home/daniel/.julia/v0.4/Colors/src/conversions.jl:786\n",
       "convert{T<:LastMain.LastMain.FixedPointNumbers.UFixed{T<:Unsigned,f}}(::Type{LastMain.LastMain.ColorTypes.Gray{T<:LastMain.LastMain.FixedPointNumbers.UFixed{T<:Unsigned,f}}}, x::LastMain.LastMain.ColorTypes.AbstractRGB{T<:LastMain.LastMain.FixedPointNumbers.UFixed{T<:Unsigned,f}}) at /home/daniel/.julia/v0.4/Colors/src/conversions.jl:801\n",
       "convert{T}(::Type{LastMain.LastMain.ColorTypes.Gray{T}}, x::LastMain.LastMain.ColorTypes.AbstractRGB{T}) at /home/daniel/.julia/v0.4/Colors/src/conversions.jl:802\n",
       "convert{C<:LastMain.LastMain.ColorTypes.Colorant{T,N}}(::Type{C<:LastMain.LastMain.ColorTypes.Colorant{T,N}}, c::LastMain.LastMain.ColorTypes.Colorant{T,N}) at /home/daniel/.julia/v0.4/ColorTypes/src/conversions.jl:4\n",
       "convert(::Type{UInt32}, c::LastMain.LastMain.ColorTypes.RGB24) at /home/daniel/.julia/v0.4/ColorTypes/src/conversions.jl:42\n",
       "convert(::Type{UInt32}, c::LastMain.LastMain.ColorTypes.ARGB32) at /home/daniel/.julia/v0.4/ColorTypes/src/conversions.jl:43\n",
       "convert(::Type{UInt32}, g::LastMain.LastMain.ColorTypes.Gray24) at /home/daniel/.julia/v0.4/ColorTypes/src/conversions.jl:44\n",
       "convert(::Type{UInt32}, g::LastMain.LastMain.ColorTypes.AGray32) at /home/daniel/.julia/v0.4/ColorTypes/src/conversions.jl:45\n",
       "convert(::Type{LastMain.LastMain.ColorTypes.RGB24}, x::Real) at /home/daniel/.julia/v0.4/ColorTypes/src/conversions.jl:47\n",
       "convert(::Type{LastMain.LastMain.ColorTypes.ARGB32}, x::Real) at /home/daniel/.julia/v0.4/ColorTypes/src/conversions.jl:48\n",
       "convert(::Type{LastMain.LastMain.ColorTypes.Gray24}, x::Real) at /home/daniel/.julia/v0.4/ColorTypes/src/conversions.jl:49\n",
       "convert(::Type{LastMain.LastMain.ColorTypes.AGray32}, x::Real) at /home/daniel/.julia/v0.4/ColorTypes/src/conversions.jl:50\n",
       "convert(::Type{LastMain.LastMain.ColorTypes.ARGB32}, x::Real, alpha) at /home/daniel/.julia/v0.4/ColorTypes/src/conversions.jl:51\n",
       "convert(::Type{LastMain.LastMain.ColorTypes.AGray32}, x::Real, alpha) at /home/daniel/.julia/v0.4/ColorTypes/src/conversions.jl:52\n",
       "convert{T}(::Type{LastMain.LastMain.ColorTypes.Gray{T}}, x::Real) at /home/daniel/.julia/v0.4/ColorTypes/src/conversions.jl:54\n",
       "convert{T<:Real}(::Type{T<:Real}, x::LastMain.LastMain.ColorTypes.Gray{T<:Union{AbstractFloat,LastMain.LastMain.FixedPointNumbers.FixedPoint{T<:Integer,f}}}) at /home/daniel/.julia/v0.4/ColorTypes/src/conversions.jl:55\n",
       "convert{T}(::Type{LastMain.LastMain.ColorTypes.AGray{T}}, x::Real) at /home/daniel/.julia/v0.4/ColorTypes/src/conversions.jl:56\n",
       "convert{T}(::Type{LastMain.LastMain.ColorTypes.GrayA{T}}, x::Real) at /home/daniel/.julia/v0.4/ColorTypes/src/conversions.jl:57\n",
       "convert(::Type{LastMain.LastMain.ColorTypes.XYZ{T<:AbstractFloat}}, c, wp::LastMain.LastMain.ColorTypes.XYZ{T<:AbstractFloat}) at /home/daniel/.julia/v0.4/Colors/src/conversions.jl:298\n",
       "convert{T}(::Type{LastMain.LastMain.ColorTypes.XYZ{T}}, c, wp::LastMain.LastMain.ColorTypes.XYZ{T<:AbstractFloat}) at /home/daniel/.julia/v0.4/Colors/src/conversions.jl:299\n",
       "convert(::Type{LastMain.LastMain.ColorTypes.Lab{T<:AbstractFloat}}, c, wp::LastMain.LastMain.ColorTypes.XYZ{T<:AbstractFloat}) at /home/daniel/.julia/v0.4/Colors/src/conversions.jl:413\n",
       "convert{T}(::Type{LastMain.LastMain.ColorTypes.Lab{T}}, c, wp::LastMain.LastMain.ColorTypes.XYZ{T<:AbstractFloat}) at /home/daniel/.julia/v0.4/Colors/src/conversions.jl:412\n",
       "convert(::Type{LastMain.LastMain.ColorTypes.Luv{T<:AbstractFloat}}, c, wp::LastMain.LastMain.ColorTypes.XYZ{T<:AbstractFloat}) at /home/daniel/.julia/v0.4/Colors/src/conversions.jl:530\n",
       "convert{T}(::Type{LastMain.LastMain.ColorTypes.Luv{T}}, c, wp::LastMain.LastMain.ColorTypes.XYZ{T<:AbstractFloat}) at /home/daniel/.julia/v0.4/Colors/src/conversions.jl:529\n",
       "convert(::Type{LastMain.LastMain.PyPlot.Figure}, o::LastMain.LastMain.PyCall.PyObject) at /home/daniel/.julia/v0.4/PyPlot/src/PyPlot.jl:304\n",
       "convert(::Type{LastMain.LastMain.PyPlot.ColorMap}, o::LastMain.LastMain.PyCall.PyObject) at /home/daniel/.julia/v0.4/PyPlot/src/colormaps.jl:15\n",
       "convert{T}(::Type{T}, x::T) at essentials.jl:59"
      ]
     },
     "execution_count": 107,
     "metadata": {},
     "output_type": "execute_result"
    }
   ],
   "source": [
    "methods(convert)"
   ]
  },
  {
   "cell_type": "code",
   "execution_count": 108,
   "metadata": {
    "collapsed": false
   },
   "outputs": [
    {
     "data": {
      "text/plain": [
       "1"
      ]
     },
     "execution_count": 108,
     "metadata": {},
     "output_type": "execute_result"
    }
   ],
   "source": [
    "convert(Int, true)"
   ]
  },
  {
   "cell_type": "code",
   "execution_count": 109,
   "metadata": {
    "collapsed": false
   },
   "outputs": [
    {
     "data": {
      "text/html": [
       "convert(::<b>Type{Int64}</b>, x::<b>Bool</b>) at <a href=\"https://github.com/JuliaLang/julia/tree/bb73f3489d837e3339fce2c1aab283d3b2e97a4c/base/int.jl#L187\" target=\"_blank\">int.jl:187</a>"
      ],
      "text/plain": [
       "convert(::Type{Int64}, x::Bool) at int.jl:187"
      ]
     },
     "execution_count": 109,
     "metadata": {},
     "output_type": "execute_result"
    }
   ],
   "source": [
    "@which convert(Int, true)"
   ]
  },
  {
   "cell_type": "markdown",
   "metadata": {},
   "source": [
    "También, existe la promoción de varios objetos a un tipo común:"
   ]
  },
  {
   "cell_type": "code",
   "execution_count": 110,
   "metadata": {
    "collapsed": false
   },
   "outputs": [
    {
     "data": {
      "text/plain": [
       "(1//1,1//2,2//1)"
      ]
     },
     "execution_count": 110,
     "metadata": {},
     "output_type": "execute_result"
    }
   ],
   "source": [
    "tup = promote(1, 1//2, BigInt(2))"
   ]
  },
  {
   "cell_type": "code",
   "execution_count": 111,
   "metadata": {
    "collapsed": false
   },
   "outputs": [
    {
     "data": {
      "text/plain": [
       "Tuple{Rational{BigInt},Rational{BigInt},Rational{BigInt}}"
      ]
     },
     "execution_count": 111,
     "metadata": {},
     "output_type": "execute_result"
    }
   ],
   "source": [
    "typeof(tup)"
   ]
  },
  {
   "cell_type": "markdown",
   "metadata": {},
   "source": [
    "En julia, hay un árbol jerárquico en la organización de los tipos. Para entender esto veamos dos casos:"
   ]
  },
  {
   "cell_type": "code",
   "execution_count": 112,
   "metadata": {
    "collapsed": false
   },
   "outputs": [
    {
     "name": "stdout",
     "output_type": "stream",
     "text": [
      "search: "
     ]
    },
    {
     "data": {
      "text/latex": [
       "No documentation found.\n",
       "\\textbf{Summary:}\n",
       "\\begin{verbatim}\n",
       "immutable Int64 <: Signed\n",
       "\\end{verbatim}\n"
      ],
      "text/markdown": [
       "No documentation found.\n",
       "\n",
       "**Summary:**\n",
       "\n",
       "```julia\n",
       "immutable Int64 <: Signed\n",
       "```\n"
      ],
      "text/plain": [
       "No documentation found.\n",
       "\n",
       "**Summary:**\n",
       "\n",
       "```julia\n",
       "immutable Int64 <: Signed\n",
       "```\n"
      ]
     },
     "execution_count": 112,
     "metadata": {},
     "output_type": "execute_result"
    },
    {
     "name": "stdout",
     "output_type": "stream",
     "text": [
      "Int64 int64 UInt64 uint64 Int16 int16 UInt16 uint16\n",
      "\n"
     ]
    }
   ],
   "source": [
    "? Int64"
   ]
  },
  {
   "cell_type": "code",
   "execution_count": 113,
   "metadata": {
    "collapsed": false
   },
   "outputs": [
    {
     "name": "stdout",
     "output_type": "stream",
     "text": [
      "search: "
     ]
    },
    {
     "data": {
      "text/latex": [
       "No documentation found.\n",
       "\\textbf{Summary:}\n",
       "\\begin{verbatim}\n",
       "immutable Rational{T<:Integer} <: Real\n",
       "\\end{verbatim}\n",
       "\\textbf{Fields:}\n",
       "\\begin{verbatim}\n",
       "num :: T<:Integer\n",
       "den :: T<:Integer\n",
       "\\end{verbatim}\n"
      ],
      "text/markdown": [
       "No documentation found.\n",
       "\n",
       "**Summary:**\n",
       "\n",
       "```julia\n",
       "immutable Rational{T<:Integer} <: Real\n",
       "```\n",
       "\n",
       "**Fields:**\n",
       "\n",
       "```julia\n",
       "num :: T<:Integer\n",
       "den :: T<:Integer\n",
       "```\n"
      ],
      "text/plain": [
       "No documentation found.\n",
       "\n",
       "**Summary:**\n",
       "\n",
       "```julia\n",
       "immutable Rational{T<:Integer} <: Real\n",
       "```\n",
       "\n",
       "**Fields:**\n",
       "\n",
       "```julia\n",
       "num :: T<:Integer\n",
       "den :: T<:Integer\n",
       "```\n"
      ]
     },
     "execution_count": 113,
     "metadata": {},
     "output_type": "execute_result"
    }
   ],
   "source": [
    "? Rational"
   ]
  },
  {
   "cell_type": "code",
   "execution_count": 114,
   "metadata": {
    "collapsed": false
   },
   "outputs": [
    {
     "name": "stdout",
     "output_type": "stream",
     "text": [
      "Rational rationalize Irrational SerializationState permutations\n",
      "\n",
      "search: S"
     ]
    },
    {
     "data": {
      "text/latex": [
       "No documentation found.\n",
       "\\textbf{Summary:}\n",
       "\\begin{verbatim}\n",
       "abstract Signed <: Integer\n",
       "\\end{verbatim}\n",
       "\\textbf{Subtypes:}\n",
       "\\begin{verbatim}\n",
       "Int128\n",
       "Int16\n",
       "Int32\n",
       "Int64\n",
       "Int8\n",
       "\\end{verbatim}\n"
      ],
      "text/markdown": [
       "No documentation found.\n",
       "\n",
       "**Summary:**\n",
       "\n",
       "```julia\n",
       "abstract Signed <: Integer\n",
       "```\n",
       "\n",
       "**Subtypes:**\n",
       "\n",
       "```julia\n",
       "Int128\n",
       "Int16\n",
       "Int32\n",
       "Int64\n",
       "Int8\n",
       "```\n"
      ],
      "text/plain": [
       "No documentation found.\n",
       "\n",
       "**Summary:**\n",
       "\n",
       "```julia\n",
       "abstract Signed <: Integer\n",
       "```\n",
       "\n",
       "**Subtypes:**\n",
       "\n",
       "```julia\n",
       "Int128\n",
       "Int16\n",
       "Int32\n",
       "Int64\n",
       "Int8\n",
       "```\n"
      ]
     },
     "execution_count": 114,
     "metadata": {},
     "output_type": "execute_result"
    },
    {
     "name": "stdout",
     "output_type": "stream",
     "text": [
      "igned signed Unsigned unsigned isassigned is_assigned_char\n",
      "\n"
     ]
    }
   ],
   "source": [
    "? Signed"
   ]
  },
  {
   "cell_type": "markdown",
   "metadata": {},
   "source": [
    "Esto muestra que hay ciertos tipos *concretos* (como `Int64`, `Float64`) y *otros* que son abstractos; los segundos en algún sentido agrupan varios tipos distintos."
   ]
  },
  {
   "cell_type": "markdown",
   "metadata": {},
   "source": [
    "La instrucción `super` permite ver qué tipo está directamente arriba en la estructura del árbol:"
   ]
  },
  {
   "cell_type": "code",
   "execution_count": 115,
   "metadata": {
    "collapsed": false
   },
   "outputs": [
    {
     "data": {
      "text/plain": [
       "AbstractFloat"
      ]
     },
     "execution_count": 115,
     "metadata": {},
     "output_type": "execute_result"
    }
   ],
   "source": [
    "super(Float64)"
   ]
  },
  {
   "cell_type": "code",
   "execution_count": 116,
   "metadata": {
    "collapsed": false
   },
   "outputs": [
    {
     "data": {
      "text/plain": [
       "Real"
      ]
     },
     "execution_count": 116,
     "metadata": {},
     "output_type": "execute_result"
    }
   ],
   "source": [
    "super(AbstractFloat)"
   ]
  },
  {
   "cell_type": "code",
   "execution_count": 117,
   "metadata": {
    "collapsed": false
   },
   "outputs": [
    {
     "data": {
      "text/plain": [
       "Number"
      ]
     },
     "execution_count": 117,
     "metadata": {},
     "output_type": "execute_result"
    }
   ],
   "source": [
    "super(Real)"
   ]
  },
  {
   "cell_type": "markdown",
   "metadata": {},
   "source": [
    "... y la instrucción subtypes, qué está por debajo:"
   ]
  },
  {
   "cell_type": "code",
   "execution_count": 118,
   "metadata": {
    "collapsed": false
   },
   "outputs": [
    {
     "data": {
      "text/plain": [
       "5-element Array{Any,1}:\n",
       " AbstractFloat                                               \n",
       " Integer                                                     \n",
       " Irrational{sym}                                             \n",
       " LastMain.LastMain.FixedPointNumbers.FixedPoint{T<:Integer,f}\n",
       " Rational{T<:Integer}                                        "
      ]
     },
     "execution_count": 118,
     "metadata": {},
     "output_type": "execute_result"
    }
   ],
   "source": [
    "subtypes(Real)"
   ]
  },
  {
   "cell_type": "code",
   "execution_count": 119,
   "metadata": {
    "collapsed": false
   },
   "outputs": [
    {
     "data": {
      "text/plain": [
       "2-element Array{Any,1}:\n",
       " Complex{T<:Real}\n",
       " Real            "
      ]
     },
     "execution_count": 119,
     "metadata": {},
     "output_type": "execute_result"
    }
   ],
   "source": [
    "subtypes(Number)"
   ]
  },
  {
   "cell_type": "markdown",
   "metadata": {},
   "source": [
    "La estructura de árbol tiene un tope *por arriba*, `Any`:"
   ]
  },
  {
   "cell_type": "code",
   "execution_count": 120,
   "metadata": {
    "collapsed": false
   },
   "outputs": [
    {
     "data": {
      "text/plain": [
       "Any"
      ]
     },
     "execution_count": 120,
     "metadata": {},
     "output_type": "execute_result"
    }
   ],
   "source": [
    "super(Number)"
   ]
  },
  {
   "cell_type": "code",
   "execution_count": 121,
   "metadata": {
    "collapsed": false
   },
   "outputs": [
    {
     "data": {
      "text/plain": [
       "Any"
      ]
     },
     "execution_count": 121,
     "metadata": {},
     "output_type": "execute_result"
    }
   ],
   "source": [
    "super(Any)"
   ]
  },
  {
   "cell_type": "code",
   "execution_count": 122,
   "metadata": {
    "collapsed": false
   },
   "outputs": [
    {
     "data": {
      "text/plain": [
       "276-element Array{Any,1}:\n",
       " AbstractArray{T,N}                        \n",
       " AbstractChannel                           \n",
       " AbstractRNG                               \n",
       " AbstractString                            \n",
       " Any                                       \n",
       " Associative{K,V}                          \n",
       " Base.AbstractCmd                          \n",
       " Base.AbstractMsg                          \n",
       " Base.AbstractZipIterator                  \n",
       " Base.Cartesian.LReplace{S<:AbstractString}\n",
       " Base.Combinations{T}                      \n",
       " Base.Count{S<:Number}                     \n",
       " Base.Cycle{I}                             \n",
       " ⋮                                         \n",
       " Tuple                                     \n",
       " TypeName                                  \n",
       " TypeVar                                   \n",
       " Type{T}                                   \n",
       " UniformScaling{T<:Number}                 \n",
       " Val{T}                                    \n",
       " Vararg{T}                                 \n",
       " Vector2D{T}                               \n",
       " VersionNumber                             \n",
       " Void                                      \n",
       " WeakRef                                   \n",
       " WorkerConfig                              "
      ]
     },
     "execution_count": 122,
     "metadata": {},
     "output_type": "execute_result"
    }
   ],
   "source": [
    "subtypes(Any)"
   ]
  },
  {
   "cell_type": "markdown",
   "metadata": {},
   "source": [
    "Vale la pena notar que existe, entre varias cosas, el tipo `Void` (antes `Nothing`)"
   ]
  },
  {
   "cell_type": "code",
   "execution_count": 123,
   "metadata": {
    "collapsed": false
   },
   "outputs": [
    {
     "name": "stdout",
     "output_type": "stream",
     "text": [
      "search: "
     ]
    },
    {
     "data": {
      "text/latex": [
       "No documentation found.\n",
       "\\textbf{Summary:}\n",
       "\\begin{verbatim}\n",
       "immutable Void <: Any\n",
       "\\end{verbatim}\n"
      ],
      "text/markdown": [
       "No documentation found.\n",
       "\n",
       "**Summary:**\n",
       "\n",
       "```julia\n",
       "immutable Void <: Any\n",
       "```\n"
      ],
      "text/plain": [
       "No documentation found.\n",
       "\n",
       "**Summary:**\n",
       "\n",
       "```julia\n",
       "immutable Void <: Any\n",
       "```\n"
      ]
     },
     "execution_count": 123,
     "metadata": {},
     "output_type": "execute_result"
    }
   ],
   "source": [
    "? Void"
   ]
  },
  {
   "cell_type": "markdown",
   "metadata": {},
   "source": [
    "Entonces, volviendo al punto de cómo hacer para que `Vector2D{1, 3.2}` funcione, podemos definir un nuevo método, para la creación del tipo `Vector2D`, que involucre una promoción de tipos, de la siguiente manera:"
   ]
  },
  {
   "cell_type": "code",
   "execution_count": 124,
   "metadata": {
    "collapsed": false
   },
   "outputs": [
    {
     "data": {
      "text/plain": [
       "Vector2D{T}"
      ]
     },
     "execution_count": 124,
     "metadata": {},
     "output_type": "execute_result"
    }
   ],
   "source": [
    "Vector2D(a, b) = Vector2D(promote(a,b)...)"
   ]
  },
  {
   "cell_type": "code",
   "execution_count": 125,
   "metadata": {
    "collapsed": false
   },
   "outputs": [
    {
     "data": {
      "text/plain": [
       "Vector2D{Float64}(1.0,3.2)"
      ]
     },
     "execution_count": 125,
     "metadata": {},
     "output_type": "execute_result"
    }
   ],
   "source": [
    "Vector2D(1, 3.2)"
   ]
  },
  {
   "cell_type": "markdown",
   "metadata": {},
   "source": [
    "Claro que, esto sólo tendrá sentido cuando la promoción tiene sentido; cuando no la tiene, arrojará un error:"
   ]
  },
  {
   "cell_type": "code",
   "execution_count": 126,
   "metadata": {
    "collapsed": false
   },
   "outputs": [
    {
     "ename": "LoadError",
     "evalue": "LoadError: StackOverflowError:\nwhile loading In[126], in expression starting on line 1",
     "output_type": "error",
     "traceback": [
      "LoadError: StackOverflowError:\nwhile loading In[126], in expression starting on line 1",
      "",
      " in call at In[124]:1 (repeats 513 times)"
     ]
    }
   ],
   "source": [
    "Vector2D(\"Luis\", 3.2)"
   ]
  },
  {
   "cell_type": "markdown",
   "metadata": {},
   "source": [
    "Por último, uno puede restringir el tipo de parámetros de una estructura, usando la notación ` T <: R` que significa que el parámetro `T` es subtipo de `R`. Un ejemplo es `T <: Real`."
   ]
  },
  {
   "cell_type": "code",
   "execution_count": 127,
   "metadata": {
    "collapsed": false
   },
   "outputs": [
    {
     "name": "stdout",
     "output_type": "stream",
     "text": [
      "Void @vectorize_2arg @vectorize_1arg versioninfo\n",
      "\n"
     ]
    }
   ],
   "source": [
    "workspace()"
   ]
  },
  {
   "cell_type": "code",
   "execution_count": 128,
   "metadata": {
    "collapsed": true
   },
   "outputs": [],
   "source": [
    "type Vector2D{T<:Real}\n",
    "    x :: T\n",
    "    y :: T\n",
    "end"
   ]
  },
  {
   "cell_type": "markdown",
   "metadata": {},
   "source": [
    "Agregamos la promoción de los tipos:"
   ]
  },
  {
   "cell_type": "code",
   "execution_count": 129,
   "metadata": {
    "collapsed": false
   },
   "outputs": [
    {
     "data": {
      "text/plain": [
       "Vector2D{T<:Real}"
      ]
     },
     "execution_count": 129,
     "metadata": {},
     "output_type": "execute_result"
    }
   ],
   "source": [
    "Vector2D(a, b) = Vector2D(promote(a,b)...)"
   ]
  },
  {
   "cell_type": "code",
   "execution_count": 130,
   "metadata": {
    "collapsed": false
   },
   "outputs": [
    {
     "data": {
      "text/plain": [
       "Vector2D{Float64}(1.0,3.2)"
      ]
     },
     "execution_count": 130,
     "metadata": {},
     "output_type": "execute_result"
    }
   ],
   "source": [
    "Vector2D(1, 3.2)"
   ]
  },
  {
   "cell_type": "code",
   "execution_count": 131,
   "metadata": {
    "collapsed": false
   },
   "outputs": [
    {
     "ename": "LoadError",
     "evalue": "LoadError: StackOverflowError:\nwhile loading In[131], in expression starting on line 1",
     "output_type": "error",
     "traceback": [
      "LoadError: StackOverflowError:\nwhile loading In[131], in expression starting on line 1",
      "",
      " in call at In[129]:1 (repeats 342 times)"
     ]
    }
   ],
   "source": [
    "Vector2D(\"Soy\", \"Luis\")"
   ]
  },
  {
   "cell_type": "markdown",
   "metadata": {},
   "source": [
    "La notación `T <: R` de hecho puede ser utilizada para saber si algo es subtipo de otra cosa:"
   ]
  },
  {
   "cell_type": "code",
   "execution_count": 132,
   "metadata": {
    "collapsed": false
   },
   "outputs": [
    {
     "data": {
      "text/plain": [
       "true"
      ]
     },
     "execution_count": 132,
     "metadata": {},
     "output_type": "execute_result"
    }
   ],
   "source": [
    "Int64 <: Real"
   ]
  },
  {
   "cell_type": "code",
   "execution_count": 133,
   "metadata": {
    "collapsed": false
   },
   "outputs": [
    {
     "data": {
      "text/plain": [
       "false"
      ]
     },
     "execution_count": 133,
     "metadata": {},
     "output_type": "execute_result"
    }
   ],
   "source": [
    "Int64 <: Void"
   ]
  },
  {
   "cell_type": "code",
   "execution_count": 134,
   "metadata": {
    "collapsed": false
   },
   "outputs": [
    {
     "data": {
      "text/plain": [
       "false"
      ]
     },
     "execution_count": 134,
     "metadata": {},
     "output_type": "execute_result"
    }
   ],
   "source": [
    "Void <: Int64"
   ]
  },
  {
   "cell_type": "markdown",
   "metadata": {},
   "source": [
    "Las dos últimas instrucciones muestran que el tipo superior común entre `Int64` y `Void` es `Any`:"
   ]
  },
  {
   "cell_type": "code",
   "execution_count": 135,
   "metadata": {
    "collapsed": false
   },
   "outputs": [
    {
     "data": {
      "text/plain": [
       "Any"
      ]
     },
     "execution_count": 135,
     "metadata": {},
     "output_type": "execute_result"
    }
   ],
   "source": [
    "promote_type(Int64, Void)"
   ]
  },
  {
   "cell_type": "markdown",
   "metadata": {},
   "source": [
    "## Referencias"
   ]
  },
  {
   "cell_type": "markdown",
   "metadata": {},
   "source": [
    "Parte de este notebook está basado en [Invitation to julia](https://github.com/dpsanders/invitation_to_julia), de [David P. Sanders](https://github.com/dpsanders)."
   ]
  }
 ],
 "metadata": {
  "kernelspec": {
   "display_name": "Julia 0.4.2",
   "language": "julia",
   "name": "julia-0.4"
  },
  "language_info": {
   "file_extension": ".jl",
   "mimetype": "application/julia",
   "name": "julia",
   "version": "0.4.2"
  }
 },
 "nbformat": 4,
 "nbformat_minor": 0
}
