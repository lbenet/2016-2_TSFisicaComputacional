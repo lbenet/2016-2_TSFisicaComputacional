{
 "cells": [
  {
   "cell_type": "code",
   "execution_count": 18,
   "metadata": {
    "collapsed": false
   },
   "outputs": [],
   "source": [
    "using ChaosCrypto\n",
    "using PyPlot"
   ]
  },
  {
   "cell_type": "code",
   "execution_count": 2,
   "metadata": {
    "collapsed": false
   },
   "outputs": [
    {
     "data": {
      "text/plain": [
       "superrunge (generic function with 1 method)"
      ]
     },
     "execution_count": 2,
     "metadata": {},
     "output_type": "execute_result"
    }
   ],
   "source": [
    "#Funciones Runge Kutta\n",
    "function runge2(f,x,t,dt)\n",
    "    k1 = f(x,t)\n",
    "    k2 = f(x+2dt*k1/3, t+2*dt/3)\n",
    "    (k1/4+3k2/4)\n",
    "end\n",
    "\n",
    "function runge4(f,x,t,dt)\n",
    "    k1 = f(x,t)\n",
    "    k2 = f(x+dt*k1/2, t+dt/2)\n",
    "    k3 = f(x+dt*k2/2,t+dt/2)\n",
    "    k4 = f(x+dt*k3,t + dt)\n",
    "    (k1+2k2+2k3+k4)/6\n",
    "end\n",
    "\n",
    "function superrunge(f,x,t,dt)\n",
    "    x1x,u1x,x1y,u1y,x2x,u2x,x2y,u2y = x\n",
    "    normi = ((x1x-x2x)^2+(x1y-x2y)^2)^(-3/2)\n",
    "    if normi < 1e-3\n",
    "        return \"fin\"\n",
    "    else\n",
    "        k1 = f(x,t)\n",
    "        k2 = f(x+dt*k1/2, t+dt/2)\n",
    "        k3 = f(x+dt*k2/2,t+dt/2)\n",
    "        k4 = f(x+dt*k3,t + dt)\n",
    "        (k1+2k2+2k3+k4)/6\n",
    "    end\n",
    "end"
   ]
  },
  {
   "cell_type": "code",
   "execution_count": 3,
   "metadata": {
    "collapsed": false
   },
   "outputs": [
    {
     "data": {
      "text/plain": [
       "integrar (generic function with 2 methods)"
      ]
     },
     "execution_count": 3,
     "metadata": {},
     "output_type": "execute_result"
    }
   ],
   "source": [
    "#Integracion\n",
    "function integrar(f, x0, t0, t_final, dt, metodo = 4)\n",
    "    # necesito una function f(x,t)\n",
    "    # que come un vector x, el tiempo t\n",
    "    # y regresa un vector (el campo vectorial evaluado en x,t)\n",
    "    \n",
    "    tiempos = [t0]\n",
    "    xs = typeof(x0)[x0]\n",
    "\n",
    "    #x = copy(x0)  # ver pythontutor.com\n",
    "    \n",
    "    x = x0\n",
    "    \n",
    "    for t in t0:dt:t_final\n",
    "        if metodo == 1\n",
    "            k = f(x,t)\n",
    "        elseif metodo == 2\n",
    "            k = runge2(f,x,t,dt)\n",
    "        elseif metodo == 4\n",
    "            k = runge4(f,x,t,dt)\n",
    "        elseif metodo == 20\n",
    "            k = superrunge(f,x,t,dt)\n",
    "            if k == \"fin\"\n",
    "                return xs, tiempos\n",
    "            end\n",
    "        else\n",
    "            error(\"Los únicos métodos son 1 2 ó 4\")\n",
    "        end\n",
    "        x_nueva = x + dt*k\n",
    "        \n",
    "        push!(xs, x)\n",
    "        push!(tiempos, t)\n",
    "        \n",
    "        x = x_nueva\n",
    "        \n",
    "    end\n",
    "    \n",
    "    xs, tiempos\n",
    "end"
   ]
  },
  {
   "cell_type": "code",
   "execution_count": 4,
   "metadata": {
    "collapsed": false
   },
   "outputs": [
    {
     "data": {
      "text/plain": [
       "lorenz (generic function with 1 method)"
      ]
     },
     "execution_count": 4,
     "metadata": {},
     "output_type": "execute_result"
    }
   ],
   "source": [
    "#Funcion para generar Taylor\n",
    "function generarTaylor(condIni, funcion)\n",
    "    funcion(condIni)\n",
    "end\n",
    "\n",
    "#Funcion para generar serie\n",
    "function generarSerie(polTalor)\n",
    "    x = Float64[]\n",
    "    push!(x, polTalor.ini)\n",
    "    valores = copy(polTalor.coef)\n",
    "    for i in 1:length(valores)\n",
    "        push!(x, valores[i]/i)\n",
    "    end\n",
    "    x\n",
    "end\n",
    "\n",
    "#Funcion para generar intervalos\n",
    "function generaIntervalo(lista)\n",
    "    p = length(lista)\n",
    "    h = lista[end]\n",
    "    while (lista[p] == 0)\n",
    "        p -= 1\n",
    "        h = lista[p]\n",
    "    end\n",
    "    ϵ = 1e-3\n",
    "    (ϵ/h)^(1/p)\n",
    "end\n",
    "\n",
    "#Funcion horner\n",
    "function horner(x,h = 1e-3)\n",
    "    p = length(x)\n",
    "    xt = zeros(x)\n",
    "    xt[p-1] = x[p-1] + h*x[p]\n",
    "    for i in 3:p\n",
    "        xt[p-i+1] = x[p-i+1] + h*xt[p-i+1+1]\n",
    "    end\n",
    "    xt[1]\n",
    "end\n",
    "\n",
    "#Funcion Lorenz\n",
    "function lorenz(xx, t)\n",
    "    x, y, z, xr, yr, zr= xx\n",
    "    AD.Taylor(x, [σ])*(AD.Taylor(x,[y])-AD.Taylor(x,[x])),\n",
    "    AD.Taylor(y,[x])*(AD.Taylor(y,[ρ])-AD.Taylor(y,[z]))-AD.Taylor(y,[y]),\n",
    "    AD.Taylor(z,[x])*AD.Taylor(z,[y])-AD.Taylor(z,[β])*AD.Taylor(z,[z]),\n",
    "    AD.Taylor(xr,[σ])*(AD.Taylor(xr,[y])-AD.Taylor(xr,[xr])),\n",
    "    AD.Taylor(yr,[ρ])*AD.Taylor(yr,[xr])-AD.Taylor(yr,[yr])-AD.Taylor(yr,[xr])*AD.Taylor(yr,[zr]),\n",
    "    AD.Taylor(zr,[xr])*AD.Taylor(zr,[yr])-AD.Taylor(zr,[β])*AD.Taylor(zr,[zr])\n",
    "end"
   ]
  },
  {
   "cell_type": "code",
   "execution_count": 5,
   "metadata": {
    "collapsed": false
   },
   "outputs": [
    {
     "data": {
      "text/plain": [
       "integrador (generic function with 1 method)"
      ]
     },
     "execution_count": 5,
     "metadata": {},
     "output_type": "execute_result"
    }
   ],
   "source": [
    "#Funcion integradora \n",
    "function integrador(x0, f, tf)\n",
    "    a = generarTaylor(x0,f)\n",
    "    b = map(generarSerie,a)\n",
    "    suma = map(horner,b)\n",
    "    sol = Array{Float64,1}[x0, [suma...]]\n",
    "    t = [0.,1e-3]\n",
    "    while t[end] < tf\n",
    "        a = generarTaylor(sol[end],f)\n",
    "        b = map(generarSerie,a)\n",
    "        suma = map(horner,b)\n",
    "        push!(sol,[suma...])\n",
    "        push!(t,t[end]+1e-3)\n",
    "    end\n",
    "    sol,t\n",
    "end"
   ]
  },
  {
   "cell_type": "code",
   "execution_count": 6,
   "metadata": {
    "collapsed": false
   },
   "outputs": [
    {
     "data": {
      "text/plain": [
       "2.6666666666666665"
      ]
     },
     "execution_count": 6,
     "metadata": {},
     "output_type": "execute_result"
    }
   ],
   "source": [
    "σ = 10\n",
    "ρ = 60\n",
    "β = 8/3"
   ]
  },
  {
   "cell_type": "code",
   "execution_count": 7,
   "metadata": {
    "collapsed": false
   },
   "outputs": [
    {
     "data": {
      "text/plain": [
       "lorenzSin (generic function with 1 method)"
      ]
     },
     "execution_count": 7,
     "metadata": {},
     "output_type": "execute_result"
    }
   ],
   "source": [
    "function lorenzSin(xx,t)\n",
    "    x, y, z, xr, yr, zr = xx\n",
    "    \n",
    "    m = sin(t)\n",
    "    s = x + m\n",
    "    \n",
    "    [σ*(y-x), (ρ*x - y - x*z), x*y-β*z,\n",
    "     σ*(yr-xr), (ρ*s - yr - s*zr) , (s*yr - β*zr)]\n",
    "end"
   ]
  },
  {
   "cell_type": "code",
   "execution_count": 8,
   "metadata": {
    "collapsed": false
   },
   "outputs": [
    {
     "data": {
      "text/plain": [
       "([[1.0,1.0,1.0,1.0,1.0,1.0],[1.0,1.0,1.0,1.0,1.0,1.0],[1.000288956351818,1.0579775186819051,0.9983646203871539,1.0002890544156735,1.0580070092221987,0.9983651490917144],[1.0011517840606747,1.1159326863958128,0.9967921164530711,1.0011525664313716,1.1160506105954693,0.9967943459835544],[1.0025827185285459,1.1738991359527675,0.9952830348064678,1.0025853518248427,1.174164379709357,0.9952883092770297],[1.0045763853539194,1.231910139929975,0.9938380465645921,1.0045826102242699,1.2323815315410263,0.9938478822439836],[1.0071277929787703,1.2899986334474847,0.9924579461536236,1.0071399178145775,1.2907349432225397,0.992474031953802],[1.010232325633097,1.3481972364992933,0.9911436504182564,1.010253220340607,1.3492571763607257,0.9911678487042633],[1.0138857365697038,1.4065382758549727,0.9898961980316839,1.0139188263998355,1.4079804989257423,0.9899305457477223],[1.0180841415821507,1.4650538065475114,0.988716749198085,1.0181334010175442,1.4669369067240299,0.9887634593051859]  …  [8.178158584660933,16.358442263603397,38.21018520266293,7.355847227066381,15.214532679342694,32.88696679157695],[8.260362543621682,16.520962561756484,38.243368990857554,7.4349410770599915,15.3951706244801,32.90989065094927],[8.343372395724586,16.68483193693475,38.27917365937479,7.515054699841061,15.577692864493619,32.935344380530715],[8.427193488471842,16.850038732882528,38.31764394268571,7.596196683955779,15.762096519421418,32.963377831357356],[8.511830995188271,17.016570286499363,38.358825176575245,7.678375499205637,15.948377773343914,32.9940416963982],[8.597289906552524,17.184412890859125,38.402763290627306,7.761599488315377,16.13653183394433,33.027387510160615],[8.683575021840559,17.353551757423766,38.449504799639534,7.845876858276168,16.326552891004294,33.06346764733634],[8.770690939876289,17.5239709774579,38.499096793912884,7.93121567135661,16.51843407382945,33.10233532042919],[8.858642049684388,17.695653482652432,38.55158692835945,8.017623835774213,16.712167407601633,33.14404457630343],[8.947432520840398,17.868581004967524,38.607023410370395,8.105109096020035,16.90774376865618,33.18865029158949]],[0.0,0.0,0.001,0.002,0.003,0.004,0.005,0.006,0.007,0.008  …  29.991,29.992,29.993,29.994,29.995,29.996,29.997,29.998,29.999,30.0])"
      ]
     },
     "execution_count": 8,
     "metadata": {},
     "output_type": "execute_result"
    }
   ],
   "source": [
    "xsSin, tsSin = integrar(lorenzSin,[1., 1., 1., 1., 1., 1.],0. ,30. ,1e-3,4)"
   ]
  },
  {
   "cell_type": "code",
   "execution_count": 9,
   "metadata": {
    "collapsed": false
   },
   "outputs": [
    {
     "data": {
      "text/plain": [
       "30002-element Array{Any,1}:\n",
       "  0.0        \n",
       "  0.0        \n",
       "  0.000999902\n",
       "  0.00199922 \n",
       "  0.00299736 \n",
       "  0.00399376 \n",
       "  0.00498785 \n",
       "  0.00597907 \n",
       "  0.00696685 \n",
       "  0.00795066 \n",
       "  0.00892993 \n",
       "  0.00990414 \n",
       "  0.0108728  \n",
       "  ⋮          \n",
       " -0.174206   \n",
       " -0.170534   \n",
       " -0.167068   \n",
       " -0.163813   \n",
       " -0.160769   \n",
       " -0.157943   \n",
       " -0.155335   \n",
       " -0.15295    \n",
       " -0.150792   \n",
       " -0.148863   \n",
       " -0.147167   \n",
       " -0.145708   "
      ]
     },
     "execution_count": 9,
     "metadata": {},
     "output_type": "execute_result"
    }
   ],
   "source": [
    "m = sin(tsSin)\n",
    "s = [x[1] for x in xsSin] + m\n",
    "m_hat = s - [x[4] for x in xsSin]"
   ]
  },
  {
   "cell_type": "code",
   "execution_count": 10,
   "metadata": {
    "collapsed": false
   },
   "outputs": [
    {
     "ename": "LoadError",
     "evalue": "LoadError: UndefVarError: plot not defined\nwhile loading In[10], in expression starting on line 1",
     "output_type": "error",
     "traceback": [
      "LoadError: UndefVarError: plot not defined\nwhile loading In[10], in expression starting on line 1",
      ""
     ]
    }
   ],
   "source": [
    "plot(tsSin, m)\n",
    "plot(tsSin, m_hat)\n",
    "legend()"
   ]
  },
  {
   "cell_type": "code",
   "execution_count": 11,
   "metadata": {
    "collapsed": false
   },
   "outputs": [
    {
     "data": {
      "text/plain": [
       "paso (generic function with 1 method)"
      ]
     },
     "execution_count": 11,
     "metadata": {},
     "output_type": "execute_result"
    }
   ],
   "source": [
    "function paso(x)\n",
    "    if x > 2 && x < 3\n",
    "        return 1.\n",
    "    end \n",
    "    0.\n",
    "end"
   ]
  },
  {
   "cell_type": "code",
   "execution_count": 12,
   "metadata": {
    "collapsed": false
   },
   "outputs": [
    {
     "data": {
      "text/plain": [
       "lorenzpaso (generic function with 1 method)"
      ]
     },
     "execution_count": 12,
     "metadata": {},
     "output_type": "execute_result"
    }
   ],
   "source": [
    "function lorenzpaso(xx,t)\n",
    "    x, y, z, xr, yr, zr = xx\n",
    "    \n",
    "    m = paso(t)\n",
    "    s = x + m\n",
    "    \n",
    "    [σ*(y-x), (ρ*x - y - x*z), x*y-β*z,\n",
    "     σ*(yr-xr), (ρ*s - yr - s*zr) , (s*yr - β*zr)]\n",
    "end"
   ]
  },
  {
   "cell_type": "code",
   "execution_count": 13,
   "metadata": {
    "collapsed": false
   },
   "outputs": [
    {
     "data": {
      "text/plain": [
       "([[1.0,1.0,1.0,1.0,10.0,10.0],[1.0,1.0,1.0,1.0,10.0,10.0],[1.000288956351818,1.0579775186819051,0.9983646203871539,1.0897508045182125,10.039993142987552,9.983376481627849],[1.0011517840606747,1.1159326863958128,0.9967921164530711,1.1790065153117362,10.07999170767026,9.966842971569879],[1.0025827185285459,1.1738991359527675,0.9952830348064678,1.2677722547525603,10.120024171982708,9.950405054820807],[1.0045763853539194,1.231910139929975,0.9938380465645921,1.3560533761693427,10.160118729061821,9.934068342024231],[1.0071277929787703,1.2899986334474847,0.9924579461536236,1.4438554588099222,10.200303306116366,9.91783847249057],[1.010232325633097,1.3481972364992933,0.9911436504182564,1.531184303039814,10.240605582918809,9.9017211173818],[1.0138857365697038,1.4065382758549727,0.9898961980316839,1.618045925770656,10.281053009933466,9.88572198305912],[1.0180841415821507,1.4650538065475114,0.988716749198085,1.704446556112763,10.321672826094396,9.869846814590405]  …  [8.178158584660933,16.358442263603397,38.21018520266293,8.178158584660933,16.358442263603397,38.21018520266293],[8.260362543621682,16.520962561756484,38.243368990857554,8.260362543621682,16.520962561756484,38.243368990857554],[8.343372395724586,16.68483193693475,38.27917365937479,8.343372395724586,16.68483193693475,38.27917365937479],[8.427193488471842,16.850038732882528,38.31764394268571,8.427193488471842,16.850038732882528,38.31764394268571],[8.511830995188271,17.016570286499363,38.358825176575245,8.511830995188271,17.016570286499363,38.358825176575245],[8.597289906552524,17.184412890859125,38.402763290627306,8.597289906552524,17.184412890859125,38.402763290627306],[8.683575021840559,17.353551757423766,38.449504799639534,8.683575021840559,17.353551757423766,38.449504799639534],[8.770690939876289,17.5239709774579,38.499096793912884,8.770690939876289,17.5239709774579,38.499096793912884],[8.858642049684388,17.695653482652432,38.55158692835945,8.858642049684388,17.695653482652432,38.55158692835945],[8.947432520840398,17.868581004967524,38.607023410370395,8.947432520840398,17.868581004967524,38.607023410370395]],[0.0,0.0,0.001,0.002,0.003,0.004,0.005,0.006,0.007,0.008  …  29.991,29.992,29.993,29.994,29.995,29.996,29.997,29.998,29.999,30.0])"
      ]
     },
     "execution_count": 13,
     "metadata": {},
     "output_type": "execute_result"
    }
   ],
   "source": [
    "xsPaso, tsPaso = integrar(lorenzpaso,[1., 1., 1., 1., 10, 10],0. ,30. ,1e-3,4)"
   ]
  },
  {
   "cell_type": "code",
   "execution_count": 14,
   "metadata": {
    "collapsed": false
   },
   "outputs": [
    {
     "data": {
      "text/plain": [
       "30002-element Array{Float64,1}:\n",
       " 0.0\n",
       " 0.0\n",
       " 0.0\n",
       " 0.0\n",
       " 0.0\n",
       " 0.0\n",
       " 0.0\n",
       " 0.0\n",
       " 0.0\n",
       " 0.0\n",
       " 0.0\n",
       " 0.0\n",
       " 0.0\n",
       " ⋮  \n",
       " 0.0\n",
       " 0.0\n",
       " 0.0\n",
       " 0.0\n",
       " 0.0\n",
       " 0.0\n",
       " 0.0\n",
       " 0.0\n",
       " 0.0\n",
       " 0.0\n",
       " 0.0\n",
       " 0.0"
      ]
     },
     "execution_count": 14,
     "metadata": {},
     "output_type": "execute_result"
    }
   ],
   "source": [
    "mpaso = [paso(p) for p in tsPaso]"
   ]
  },
  {
   "cell_type": "code",
   "execution_count": 15,
   "metadata": {
    "collapsed": false
   },
   "outputs": [
    {
     "data": {
      "text/plain": [
       "30002-element Array{Any,1}:\n",
       "  0.0      \n",
       "  0.0      \n",
       " -0.0884618\n",
       " -0.175855 \n",
       " -0.26219  \n",
       " -0.347477 \n",
       " -0.431728 \n",
       " -0.514952 \n",
       " -0.59716  \n",
       " -0.678362 \n",
       " -0.758569 \n",
       " -0.837789 \n",
       " -0.916032 \n",
       "  ⋮        \n",
       " -0.989669 \n",
       " -0.989525 \n",
       " -0.98938  \n",
       " -0.989234 \n",
       " -0.989087 \n",
       " -0.988939 \n",
       " -0.988791 \n",
       " -0.988641 \n",
       " -0.98849  \n",
       " -0.988338 \n",
       " -0.988185 \n",
       " -0.988032 "
      ]
     },
     "execution_count": 15,
     "metadata": {},
     "output_type": "execute_result"
    }
   ],
   "source": [
    "s = [x[1] for x in xsPaso] + m\n",
    "m_hat_paso = s - [x[4] for x in xsPaso]"
   ]
  },
  {
   "cell_type": "code",
   "execution_count": 20,
   "metadata": {
    "collapsed": false
   },
   "outputs": [
    {
     "data": {
      "image/png": "[encoded data removed]",
      "text/plain": [
       "PyPlot.Figure(PyObject <matplotlib.figure.Figure object at 0x7f8262ff1d68>)"
      ]
     },
     "metadata": {},
     "output_type": "display_data"
    }
   ],
   "source": [
    "plot(tsPaso, mpaso)\n",
    "plot(tsPaso, m_hat_paso)\n",
    "legend()"
   ]
  },
  {
   "cell_type": "code",
   "execution_count": 21,
   "metadata": {
    "collapsed": false
   },
   "outputs": [
    {
     "data": {
      "image/png": "[encoded data removed]",
      "text/plain": [
       "PyPlot.Figure(PyObject <matplotlib.figure.Figure object at 0x7f8262fccf98>)"
      ]
     },
     "metadata": {},
     "output_type": "display_data"
    }
   ],
   "source": [
    "plot(tsPaso, mpaso)\n",
    "plot(tsPaso, m_hat_paso)\n",
    "legend()"
   ]
  },
  {
   "cell_type": "code",
   "execution_count": null,
   "metadata": {
    "collapsed": true
   },
   "outputs": [],
   "source": []
  }
 ],
 "metadata": {
  "kernelspec": {
   "display_name": "Julia 0.4.5",
   "language": "julia",
   "name": "julia-0.4"
  },
  "language_info": {
   "file_extension": ".jl",
   "mimetype": "application/julia",
   "name": "julia",
   "version": "0.4.5"
  }
 },
 "nbformat": 4,
 "nbformat_minor": 0
}
