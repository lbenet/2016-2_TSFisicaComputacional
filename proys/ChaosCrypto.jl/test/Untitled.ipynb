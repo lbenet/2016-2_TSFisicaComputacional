{
 "cells": [
  {
   "cell_type": "code",
   "execution_count": 1,
   "metadata": {
    "collapsed": false
   },
   "outputs": [
    {
     "name": "stderr",
     "output_type": "stream",
     "text": [
      "WARNING: Union(args...) is deprecated, use Union{args...} instead.\n",
      " in depwarn at ./deprecated.jl:73\n",
      "while loading /home/ignacio/.julia/v0.4/AudioIO/src/nodes.jl, in expression starting on line 16\n",
      "WARNING: Union(args...) is deprecated, use Union{args...} instead.\n",
      " in depwarn at ./deprecated.jl:73\n",
      "while loading /home/ignacio/.julia/v0.4/AudioIO/src/nodes.jl, in expression starting on line 16\n",
      "WARNING: Union(args...) is deprecated, use Union{args...} instead.\n",
      " in depwarn at ./deprecated.jl:73\n",
      "while loading /home/ignacio/.julia/v0.4/AudioIO/src/nodes.jl, in expression starting on line 127\n",
      "WARNING: Union(args...) is deprecated, use Union{args...} instead.\n",
      " in depwarn at ./deprecated.jl:73\n",
      "while loading /home/ignacio/.julia/v0.4/AudioIO/src/nodes.jl, in expression starting on line 127\n",
      "WARNING: Base.FloatingPoint is deprecated, use AbstractFloat instead.\n",
      "  likely near /home/ignacio/.julia/v0.4/AudioIO/src/nodes.jl:231\n",
      "\n",
      "WARNING: deprecated syntax \"{a=>b, ...}\" at /home/ignacio/.julia/v0.4/AudioIO/src/portaudio.jl:40.\n",
      "Use \"Dict{Any,Any}(a=>b, ...)\" instead.\n",
      "WARNING: Base.String is deprecated, use AbstractString instead.\n",
      "  likely near /home/ignacio/.julia/v0.4/AudioIO/src/portaudio.jl:133\n",
      "WARNING: Base.String is deprecated, use AbstractString instead.\n",
      "  likely near /home/ignacio/.julia/v0.4/AudioIO/src/portaudio.jl:133\n",
      "WARNING: Base.String is deprecated, use AbstractString instead.\n",
      "  likely near /home/ignacio/.julia/v0.4/AudioIO/src/portaudio.jl:133\n",
      "WARNING: Base.String is deprecated, use AbstractString instead.\n",
      "  likely near /home/ignacio/.julia/v0.4/AudioIO/src/portaudio.jl:133\n",
      "WARNING: int32(x) is deprecated, use Int32(x) instead.\n",
      " in depwarn at ./deprecated.jl:73\n",
      "while loading /home/ignacio/.julia/v0.4/AudioIO/src/sndfile.jl, in expression starting on line 3\n",
      "WARNING: int32(x) is deprecated, use Int32(x) instead.\n",
      " in depwarn at ./deprecated.jl:73\n",
      "while loading /home/ignacio/.julia/v0.4/AudioIO/src/sndfile.jl, in expression starting on line 4\n",
      "\n",
      "WARNING: deprecated syntax \"[a=>b, ...]\" at /home/ignacio/.julia/v0.4/AudioIO/src/sndfile.jl:20.\n",
      "Use \"Dict(a=>b, ...)\" instead.\n",
      "WARNING: Base.String is deprecated, use AbstractString instead.\n",
      "  likely near /home/ignacio/.julia/v0.4/AudioIO/src/sndfile.jl:48\n",
      "WARNING: Base.String is deprecated, use AbstractString instead.\n",
      "  likely near /home/ignacio/.julia/v0.4/AudioIO/src/sndfile.jl:48\n",
      "WARNING: Base.String is deprecated, use AbstractString instead.\n",
      "  likely near /home/ignacio/.julia/v0.4/AudioIO/src/sndfile.jl:48\n",
      "WARNING: Base.String is deprecated, use AbstractString instead.\n",
      "  likely near /home/ignacio/.julia/v0.4/AudioIO/src/sndfile.jl:48\n",
      "WARNING: Base.String is deprecated, use AbstractString instead.\n",
      "  likely near /home/ignacio/.julia/v0.4/AudioIO/src/sndfile.jl:48\n",
      "WARNING: Base.String is deprecated, use AbstractString instead.\n",
      "  likely near /home/ignacio/.julia/v0.4/AudioIO/src/sndfile.jl:48\n",
      "WARNING: Base.String is deprecated, use AbstractString instead.\n",
      "  likely near /home/ignacio/.julia/v0.4/AudioIO/src/sndfile.jl:48\n",
      "WARNING: Base.String is deprecated, use AbstractString instead.\n",
      "  likely near /home/ignacio/.julia/v0.4/AudioIO/src/sndfile.jl:48\n",
      "WARNING: Base.String is deprecated, use AbstractString instead.\n",
      "  likely near /home/ignacio/.julia/v0.4/AudioIO/src/sndfile.jl:48\n",
      "WARNING: Base.String is deprecated, use AbstractString instead.\n",
      "  likely near /home/ignacio/.julia/v0.4/AudioIO/src/sndfile.jl:183\n",
      "WARNING: Base.String is deprecated, use AbstractString instead.\n",
      "  likely near /home/ignacio/.julia/v0.4/AudioIO/src/sndfile.jl:207\n",
      "WARNING: module AudioIO should explicitly import * from Base\n",
      "WARNING: module AudioIO should explicitly import + from Base\n",
      "WARNING: module AudioIO should explicitly import + from Base\n",
      "WARNING: module AudioIO should explicitly import + from Base\n",
      "WARNING: module AudioIO should explicitly import + from Base\n",
      "WARNING: module AudioIO should explicitly import + from Base\n",
      "WARNING: module AudioIO should explicitly import + from Base\n"
     ]
    }
   ],
   "source": [
    "using AudioIO"
   ]
  },
  {
   "cell_type": "code",
   "execution_count": 2,
   "metadata": {
    "collapsed": false
   },
   "outputs": [
    {
     "name": "stderr",
     "output_type": "stream",
     "text": [
      "WARNING: Base.Uint8 is deprecated, use UInt8 instead.\n",
      "  likely near In[2]:1\n",
      "WARNING: Base.Uint8 is deprecated, use UInt8 instead.\n",
      "  likely near In[2]:1\n",
      "WARNING: Base.Uint8 is deprecated, use UInt8 instead.\n",
      "  likely near In[2]:1\n",
      "WARNING: Base.Uint8 is deprecated, use UInt8 instead.\n",
      "  likely near In[2]:1\n",
      "WARNING: Base.Uint8 is deprecated, use UInt8 instead.\n",
      "  likely near In[2]:1\n",
      "WARNING: Base.Uint8 is deprecated, use UInt8 instead.\n",
      "  likely near In[2]:1\n",
      "WARNING: Base.Uint8 is deprecated, use UInt8 instead.\n",
      "  likely near In[2]:1\n",
      "WARNING: int64(x) is deprecated, use Int64(x) instead.\n",
      " in depwarn at ./deprecated.jl:73\n",
      "while loading In[2], in expression starting on line 1\n",
      "WARNING: int32(x) is deprecated, use Int32(x) instead.\n",
      " in depwarn at ./deprecated.jl:73\n",
      "while loading In[2], in expression starting on line 1\n",
      "WARNING: int32(x) is deprecated, use Int32(x) instead.\n",
      " in depwarn at ./deprecated.jl:73\n",
      "while loading In[2], in expression starting on line 1\n",
      "WARNING: int32(x) is deprecated, use Int32(x) instead.\n",
      " in depwarn at ./deprecated.jl:73\n",
      "while loading In[2], in expression starting on line 1\n",
      "WARNING: int32(x) is deprecated, use Int32(x) instead.\n",
      " in depwarn at ./deprecated.jl:73\n",
      "while loading In[2], in expression starting on line 1\n",
      "WARNING: int32(x) is deprecated, use Int32(x) instead.\n",
      " in depwarn at ./deprecated.jl:73\n",
      "while loading In[2], in expression starting on line 1\n"
     ]
    }
   ],
   "source": [
    "f = AudioIO.open(\"test.wav\")\n",
    "data = read(f)\n",
    "close(f)"
   ]
  },
  {
   "cell_type": "code",
   "execution_count": 3,
   "metadata": {
    "collapsed": false
   },
   "outputs": [
    {
     "name": "stderr",
     "output_type": "stream",
     "text": [
      "INFO: Initializing PortAudio. Expect errors as we scan devices\n",
      "ALSA lib pcm_dsnoop.c:606:(snd_pcm_dsnoop_open) unable to open slave\n",
      "ALSA lib pcm_dmix.c:1029:(snd_pcm_dmix_open) unable to open slave\n",
      "ALSA lib pcm.c:2266:(snd_pcm_open_noupdate) Unknown PCM cards.pcm.rear\n",
      "ALSA lib pcm.c:2266:(snd_pcm_open_noupdate) Unknown PCM cards.pcm.center_lfe\n",
      "ALSA lib pcm.c:2266:(snd_pcm_open_noupdate) Unknown PCM cards.pcm.side\n",
      "ALSA lib pcm_dmix.c:1029:(snd_pcm_dmix_open) unable to open slave\n",
      "Cannot connect to server socket err = No such file or directory\n",
      "Cannot connect to server request channel\n",
      "jack server is not running or cannot be started\n",
      "JackShmReadWritePtr::~JackShmReadWritePtr - Init not done for 4294967295, skipping unlock\n",
      "JackShmReadWritePtr::~JackShmReadWritePtr - Init not done for 4294967295, skipping unlock\n",
      "WARNING: convert(::Type{Ptr}, ::Int64) methods should be converted to be methods of unsafe_convert\n",
      " in depwarn at ./deprecated.jl:73\n",
      "while loading In[3], in expression starting on line 1\n",
      "WARNING: convert(::Type{Ptr}, ::Int64) methods should be converted to be methods of unsafe_convert\n",
      " in depwarn at ./deprecated.jl:73\n",
      "while loading In[3], in expression starting on line 1\n",
      "INFO: Scheduling PortAudio Render Task...\n",
      "INFO: PortAudio Render Task Running...\n",
      "WARNING: Audio Task died with exception: AssertionError(\"node.file.sfinfo.samplerate == info.sample_rate\")\n"
     ]
    },
    {
     "data": {
      "text/plain": [
       "AudioIO.AudioNode{AudioIO.FileRenderer}(true,Condition(Any[]),AudioIO.FileRenderer(AudioIO.AudioFile(Ptr{Void} @0x0000000003e0bd90,AudioIO.SF_INFO(10891,16000,1,65538,1,1))))"
      ]
     },
     "execution_count": 3,
     "metadata": {},
     "output_type": "execute_result"
    }
   ],
   "source": [
    "play(f)"
   ]
  },
  {
   "cell_type": "code",
   "execution_count": 4,
   "metadata": {
    "collapsed": false
   },
   "outputs": [
    {
     "data": {
      "text/plain": [
       "AudioIO.AudioNode{AudioIO.ArrayRenderer}(true,Condition(Any[]),AudioIO.ArrayRenderer(Float32[0.0365244,0.0069179,0.0115531,0.0111393,0.0973888,0.0598227,0.00694104,0.0617922,0.0275544,0.0673025  …  0.0540471,0.0680887,0.0627368,0.0602411,0.00566722,0.0177669,0.0862987,0.0950486,0.0786777,0.0759056],1,Float32[]))"
      ]
     },
     "execution_count": 4,
     "metadata": {},
     "output_type": "execute_result"
    }
   ],
   "source": [
    "v = rand(44100) * 0.1\n",
    "play(v)"
   ]
  },
  {
   "cell_type": "code",
   "execution_count": 5,
   "metadata": {
    "collapsed": false
   },
   "outputs": [
    {
     "data": {
      "text/plain": [
       "Array{Float64,1}"
      ]
     },
     "execution_count": 5,
     "metadata": {},
     "output_type": "execute_result"
    }
   ],
   "source": [
    "typeof(v)"
   ]
  },
  {
   "cell_type": "code",
   "execution_count": 6,
   "metadata": {
    "collapsed": false
   },
   "outputs": [
    {
     "data": {
      "text/plain": [
       "AudioIO.AudioFile"
      ]
     },
     "execution_count": 6,
     "metadata": {},
     "output_type": "execute_result"
    }
   ],
   "source": [
    "typeof(f)"
   ]
  },
  {
   "cell_type": "code",
   "execution_count": 7,
   "metadata": {
    "collapsed": false
   },
   "outputs": [
    {
     "name": "stdout",
     "output_type": "stream",
     "text": [
      "search: play Display display displayable FilePlayer undisplay redisplay\n",
      "\n"
     ]
    },
    {
     "data": {
      "text/latex": [
       "No documentation found.\n",
       "\\texttt{AudioIO.play} is a generic \\texttt{Function}.\n",
       "\\begin{verbatim}\n",
       "# 8 methods for generic function \"play\":\n",
       "play(arr::Array{Float32,N}, args...) at /home/ignacio/.julia/v0.4/AudioIO/src/nodes.jl:226\n",
       "play{T<:AbstractFloat}(arr::Array{T<:AbstractFloat,N}, args...) at /home/ignacio/.julia/v0.4/AudioIO/src/nodes.jl:232\n",
       "play{T<:Signed}(arr::Array{T<:Signed,N}, args...) at /home/ignacio/.julia/v0.4/AudioIO/src/nodes.jl:241\n",
       "play{T<:Unsigned}(arr::Array{T<:Unsigned,N}, args...) at /home/ignacio/.julia/v0.4/AudioIO/src/nodes.jl:246\n",
       "play(filename::AbstractString, args...) at /home/ignacio/.julia/v0.4/AudioIO/src/sndfile.jl:208\n",
       "play(file::AudioIO.AudioFile, args...) at /home/ignacio/.julia/v0.4/AudioIO/src/sndfile.jl:213\n",
       "play(node::AudioIO.AudioNode{T<:AudioIO.AudioRenderer}) at /home/ignacio/.julia/v0.4/AudioIO/src/AudioIO.jl:76\n",
       "play(node::AudioIO.AudioNode{T<:AudioIO.AudioRenderer}, stream::AudioIO.AudioStream) at /home/ignacio/.julia/v0.4/AudioIO/src/AudioIO.jl:70\n",
       "\\end{verbatim}\n"
      ],
      "text/markdown": [
       "No documentation found.\n",
       "\n",
       "`AudioIO.play` is a generic `Function`.\n",
       "\n",
       "```julia\n",
       "# 8 methods for generic function \"play\":\n",
       "play(arr::Array{Float32,N}, args...) at /home/ignacio/.julia/v0.4/AudioIO/src/nodes.jl:226\n",
       "play{T<:AbstractFloat}(arr::Array{T<:AbstractFloat,N}, args...) at /home/ignacio/.julia/v0.4/AudioIO/src/nodes.jl:232\n",
       "play{T<:Signed}(arr::Array{T<:Signed,N}, args...) at /home/ignacio/.julia/v0.4/AudioIO/src/nodes.jl:241\n",
       "play{T<:Unsigned}(arr::Array{T<:Unsigned,N}, args...) at /home/ignacio/.julia/v0.4/AudioIO/src/nodes.jl:246\n",
       "play(filename::AbstractString, args...) at /home/ignacio/.julia/v0.4/AudioIO/src/sndfile.jl:208\n",
       "play(file::AudioIO.AudioFile, args...) at /home/ignacio/.julia/v0.4/AudioIO/src/sndfile.jl:213\n",
       "play(node::AudioIO.AudioNode{T<:AudioIO.AudioRenderer}) at /home/ignacio/.julia/v0.4/AudioIO/src/AudioIO.jl:76\n",
       "play(node::AudioIO.AudioNode{T<:AudioIO.AudioRenderer}, stream::AudioIO.AudioStream) at /home/ignacio/.julia/v0.4/AudioIO/src/AudioIO.jl:70\n",
       "```\n"
      ],
      "text/plain": [
       "No documentation found.\n",
       "\n",
       "`AudioIO.play` is a generic `Function`.\n",
       "\n",
       "```julia\n",
       "# 8 methods for generic function \"play\":\n",
       "play(arr::Array{Float32,N}, args...) at /home/ignacio/.julia/v0.4/AudioIO/src/nodes.jl:226\n",
       "play{T<:AbstractFloat}(arr::Array{T<:AbstractFloat,N}, args...) at /home/ignacio/.julia/v0.4/AudioIO/src/nodes.jl:232\n",
       "play{T<:Signed}(arr::Array{T<:Signed,N}, args...) at /home/ignacio/.julia/v0.4/AudioIO/src/nodes.jl:241\n",
       "play{T<:Unsigned}(arr::Array{T<:Unsigned,N}, args...) at /home/ignacio/.julia/v0.4/AudioIO/src/nodes.jl:246\n",
       "play(filename::AbstractString, args...) at /home/ignacio/.julia/v0.4/AudioIO/src/sndfile.jl:208\n",
       "play(file::AudioIO.AudioFile, args...) at /home/ignacio/.julia/v0.4/AudioIO/src/sndfile.jl:213\n",
       "play(node::AudioIO.AudioNode{T<:AudioIO.AudioRenderer}) at /home/ignacio/.julia/v0.4/AudioIO/src/AudioIO.jl:76\n",
       "play(node::AudioIO.AudioNode{T<:AudioIO.AudioRenderer}, stream::AudioIO.AudioStream) at /home/ignacio/.julia/v0.4/AudioIO/src/AudioIO.jl:70\n",
       "```\n"
      ]
     },
     "execution_count": 7,
     "metadata": {},
     "output_type": "execute_result"
    }
   ],
   "source": [
    "?play"
   ]
  },
  {
   "cell_type": "code",
   "execution_count": null,
   "metadata": {
    "collapsed": true
   },
   "outputs": [],
   "source": []
  }
 ],
 "metadata": {
  "kernelspec": {
   "display_name": "Julia 0.4.5",
   "language": "julia",
   "name": "julia-0.4"
  },
  "language_info": {
   "file_extension": ".jl",
   "mimetype": "application/julia",
   "name": "julia",
   "version": "0.4.5"
  }
 },
 "nbformat": 4,
 "nbformat_minor": 0
}
