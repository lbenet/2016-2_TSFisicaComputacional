{
 "cells": [
  {
   "cell_type": "markdown",
   "metadata": {},
   "source": [
    "# Tarea 2 Yuriko Yamamoto"
   ]
  },
  {
   "cell_type": "markdown",
   "metadata": {},
   "source": [
    "Como siempre, documenten **todo** lo que hacen en el notebook\n",
    "\n",
    "Se recomienda que *colaboren* (equipos de máximo dos personas) en la tarea."
   ]
  },
  {
   "cell_type": "markdown",
   "metadata": {},
   "source": [
    "## 1. Histogramas\n",
    "\n",
    "Usando la función `randn`, generen $N$ valores tipo `Float64` al azar ($N\\sim 10000$, o mayor, es razonable). Construyan la función `histograma`, que regresa un vector de tamaño $n_{hist}$ (que es un argumento de la función) y que contiene el histograma de frecuencias *sin normalizar*. Esto es, la primer componente del vector corresponde al número de valores generados al azar que caen en el intervalo (llamado *bin* en inglés) $[x_0, x_1)$, los de la segunda componente caen en el intervalo $[x_1, x_2)$, etc, hasta $[x_{n_{hist}-1}, x{n_{hist}})$, donde el tamaño de los intervalos es el mismo y corresponde a $\\Delta x = (\\textrm{sup}(x)-\\textrm{inf}(x))/n_{hist}$. (No escatimen en estética.)\n",
    "\n",
    "Dibujen el histograma a partir de sus datos.\n",
    "\n",
    "PyPlot (matplotlib) de hecho tiene [una función]() útil para dibujar histogramas a partir de los datos directamente. Utilizando esa función, muestren el histograma de sus datos. Debería ser muy parecida a la que ya obtuvieron antes.\n",
    "\n",
    "NOTA: Hay esencialmente dos formas de hacerlo, que se distinguen por el número de veces que uno lee los datos. Traten de hacer su implementación usando *una* lectura de los datos. (Si no pueden, llevarán sobre sus hombros esa carga toda su vida.)"
   ]
  },
  {
   "cell_type": "code",
   "execution_count": 64,
   "metadata": {
    "collapsed": false
   },
   "outputs": [
    {
     "data": {
      "text/plain": [
       "20000-element Array{Float64,1}:\n",
       "  0.247727 \n",
       " -1.21649  \n",
       " -1.27707  \n",
       "  1.04797  \n",
       " -2.41958  \n",
       " -0.390412 \n",
       "  0.593808 \n",
       " -0.0577089\n",
       "  1.09755  \n",
       " -1.67474  \n",
       " -0.545846 \n",
       " -0.0727651\n",
       "  1.42463  \n",
       "  ⋮        \n",
       " -1.11169  \n",
       "  1.15122  \n",
       "  0.391614 \n",
       "  0.611109 \n",
       " -2.46062  \n",
       " -0.896755 \n",
       " -0.989192 \n",
       " -0.803845 \n",
       "  0.918255 \n",
       "  2.88312  \n",
       " -0.012249 \n",
       " -0.620833 "
      ]
     },
     "execution_count": 64,
     "metadata": {},
     "output_type": "execute_result"
    }
   ],
   "source": [
    "#Generando N valores aleatorios de tipo Float64\n",
    "N = 20000\n",
    "x = randn(N)"
   ]
  },
  {
   "cell_type": "code",
   "execution_count": 2,
   "metadata": {
    "collapsed": false
   },
   "outputs": [
    {
     "data": {
      "text/plain": [
       "20000"
      ]
     },
     "execution_count": 2,
     "metadata": {},
     "output_type": "execute_result"
    }
   ],
   "source": [
    "#Comprobando que el arreglo tiene N elementos\n",
    "length(x)"
   ]
  },
  {
   "cell_type": "code",
   "execution_count": 65,
   "metadata": {
    "collapsed": false
   },
   "outputs": [
    {
     "name": "stdout",
     "output_type": "stream",
     "text": [
      "Δx = 0.8465996169840121 xinf = -4.5565043386813 xsup = 3.9094918311588205"
     ]
    }
   ],
   "source": [
    "#Encontrando el mínimo del arreglo\n",
    "xinf = minimum(x)\n",
    "\n",
    "#Encontrando el máximo del arreglo\n",
    "xsup = maximum(x)\n",
    "\n",
    "#Encontrando el tamaño Δx de los s subintervalos \n",
    "s = 10\n",
    "Δx = (xsup - xinf)/s\n",
    "\n",
    "print(\"Δx = \",Δx, \" xinf = \", xinf, \" xsup = \", xsup) \n",
    "    "
   ]
  },
  {
   "cell_type": "code",
   "execution_count": 66,
   "metadata": {
    "collapsed": false
   },
   "outputs": [
    {
     "data": {
      "text/plain": [
       "histograma (generic function with 1 method)"
      ]
     },
     "execution_count": 66,
     "metadata": {},
     "output_type": "execute_result"
    }
   ],
   "source": [
    "#Definiendo la función histograma\n",
    "function histograma(num::Array, nhist::Int)\n",
    "    \n",
    "    #Calculando el mínimo y máximo del conjunto de números aleatrorios x.\n",
    "    xinf = minimum(num)\n",
    "    xsup = maximum(num)\n",
    "    \n",
    "    #Calculando el tamaño de los nhist intervalos Δx (bin).\n",
    "    Δx = (xsup - xinf) / nhist\n",
    "    #print(\"Δx = \",Δx, \" xinf = \", xinf, \" xsup = \", xsup) \n",
    "    \n",
    "    #Creando el arreglo de frecuencias e iniciándolos en cero.\n",
    "    frecs = zeros(nhist)\n",
    "    \n",
    "    #Ciclo para llevar el conteo de números aleatorios en cada intervalo.\n",
    "    for i in num\n",
    "        a = xinf \n",
    "        b = xinf + Δx\n",
    "        \n",
    "        for j in 1:nhist\n",
    "            if i >= a && i < b\n",
    "                frecs[j] = frecs[j] + 1\n",
    "                \n",
    "            end \n",
    "            \n",
    "            a = a + Δx\n",
    "            b = b + Δx\n",
    "        end\n",
    "        \n",
    "        if i == xsup\n",
    "            frecs[nhist] = frecs[nhist] + 1\n",
    "        end\n",
    "    end    \n",
    "    return frecs \n",
    "end"
   ]
  },
  {
   "cell_type": "code",
   "execution_count": 67,
   "metadata": {
    "collapsed": false
   },
   "outputs": [
    {
     "data": {
      "text/plain": [
       "30-element Array{Float64,1}:\n",
       "    1.0\n",
       "    0.0\n",
       "    1.0\n",
       "    5.0\n",
       "    8.0\n",
       "   30.0\n",
       "   59.0\n",
       "  115.0\n",
       "  203.0\n",
       "  384.0\n",
       "  654.0\n",
       "  991.0\n",
       " 1283.0\n",
       "    ⋮  \n",
       " 1817.0\n",
       " 1430.0\n",
       " 1104.0\n",
       "  734.0\n",
       "  426.0\n",
       "  257.0\n",
       "  149.0\n",
       "   74.0\n",
       "   26.0\n",
       "   12.0\n",
       "    5.0\n",
       "    3.0"
      ]
     },
     "execution_count": 67,
     "metadata": {},
     "output_type": "execute_result"
    }
   ],
   "source": [
    "#Evaluando la función histograma\n",
    "frqs = histograma(x,30)"
   ]
  },
  {
   "cell_type": "code",
   "execution_count": 68,
   "metadata": {
    "collapsed": false
   },
   "outputs": [
    {
     "data": {
      "image/png": "[encoded data removed]",
      "text/plain": [
       "PyPlot.Figure(PyObject <matplotlib.figure.Figure object at 0x317348590>)"
      ]
     },
     "metadata": {},
     "output_type": "display_data"
    },
    {
     "data": {
      "text/plain": [
       "PyObject <matplotlib.text.Text object at 0x313066190>"
      ]
     },
     "execution_count": 68,
     "metadata": {},
     "output_type": "execute_result"
    }
   ],
   "source": [
    "#Graficando Histograma\n",
    "using PyPlot\n",
    "\n",
    "h = bar(1:30, frqs, color=\"#0f87bf\",align=\"center\",alpha=0.4)\n",
    "\n",
    "title(\"Histograma\")\n",
    "#xlabel(\"Bin\")\n",
    "#ylabel(\"Frecuencia\")\n"
   ]
  },
  {
   "cell_type": "code",
   "execution_count": 70,
   "metadata": {
    "collapsed": false
   },
   "outputs": [
    {
     "data": {
      "text/plain": [
       "(linspace(-4.9,3.8,31),[0,1,0,1,3,10,30,60,117,212  …  1335,991,638,346,203,111,44,19,3,5])"
      ]
     },
     "execution_count": 70,
     "metadata": {},
     "output_type": "execute_result"
    }
   ],
   "source": [
    "#Usando la función histograma de Julia \n",
    "j = hist(x, linspace(-4.9, 3.8, 31))"
   ]
  },
  {
   "cell_type": "code",
   "execution_count": 71,
   "metadata": {
    "collapsed": false
   },
   "outputs": [
    {
     "data": {
      "text/plain": [
       "Tuple{LinSpace{Float64},Array{Int64,1}}"
      ]
     },
     "execution_count": 71,
     "metadata": {},
     "output_type": "execute_result"
    }
   ],
   "source": [
    "typeof(j)"
   ]
  },
  {
   "cell_type": "code",
   "execution_count": 72,
   "metadata": {
    "collapsed": false
   },
   "outputs": [
    {
     "data": {
      "image/png": "[encoded data removed]",
      "text/plain": [
       "PyPlot.Figure(PyObject <matplotlib.figure.Figure object at 0x317f6f290>)"
      ]
     },
     "metadata": {},
     "output_type": "display_data"
    },
    {
     "data": {
      "text/plain": [
       "(PyObject <matplotlib.patches.Rectangle object at 0x3177d2850>,PyObject <matplotlib.patches.Rectangle object at 0x3177d2d50>,PyObject <matplotlib.patches.Rectangle object at 0x31771c410>,PyObject <matplotlib.patches.Rectangle object at 0x31771ca90>,PyObject <matplotlib.patches.Rectangle object at 0x31771cf90>,PyObject <matplotlib.patches.Rectangle object at 0x31772b7d0>,PyObject <matplotlib.patches.Rectangle object at 0x31772be50>,PyObject <matplotlib.patches.Rectangle object at 0x317739510>,PyObject <matplotlib.patches.Rectangle object at 0x317739b90>,PyObject <matplotlib.patches.Rectangle object at 0x317746250>,PyObject <matplotlib.patches.Rectangle object at 0x3177468d0>,PyObject <matplotlib.patches.Rectangle object at 0x317746f50>,PyObject <matplotlib.patches.Rectangle object at 0x317fa8610>,PyObject <matplotlib.patches.Rectangle object at 0x317fa8c90>,PyObject <matplotlib.patches.Rectangle object at 0x317fb5350>,PyObject <matplotlib.patches.Rectangle object at 0x317fb59d0>,PyObject <matplotlib.patches.Rectangle object at 0x317fb5ed0>,PyObject <matplotlib.patches.Rectangle object at 0x317fc4710>,PyObject <matplotlib.patches.Rectangle object at 0x317fc4d90>,PyObject <matplotlib.patches.Rectangle object at 0x317fd1450>,PyObject <matplotlib.patches.Rectangle object at 0x317fd1ad0>,PyObject <matplotlib.patches.Rectangle object at 0x317fd1fd0>,PyObject <matplotlib.patches.Rectangle object at 0x317fdd810>,PyObject <matplotlib.patches.Rectangle object at 0x317fdde90>,PyObject <matplotlib.patches.Rectangle object at 0x317fea550>,PyObject <matplotlib.patches.Rectangle object at 0x3180f7210>,PyObject <matplotlib.patches.Rectangle object at 0x318105310>,PyObject <matplotlib.patches.Rectangle object at 0x318117610>,PyObject <matplotlib.patches.Rectangle object at 0x317feaed0>,PyObject <matplotlib.patches.Rectangle object at 0x317ffc590>)"
      ]
     },
     "execution_count": 72,
     "metadata": {},
     "output_type": "execute_result"
    }
   ],
   "source": [
    "#Graficando el histograma de Julia con una línea continua azul y el de la función que se creó con un histograma. \n",
    "#Así se puede comparar ambas funciones que aunque no dan exactamente el mismo resultado, son similares.\n",
    "plot(j[2])\n",
    "\n",
    "h = bar(1:30, frqs, color=\"#0f87bf\",align=\"center\",alpha=0.4)"
   ]
  },
  {
   "cell_type": "markdown",
   "metadata": {},
   "source": [
    "## 2. Promedio y varianza\n",
    "\n",
    "(a) Siguiendo con la generación de datos del ejercicio anterior, hagan una subrutina que calcule el promedio y la varianza de los datos generados anteriormente. Comparen su resultado con lo que se obtiene al utilizar `mean` y `var` (que son las funciones nativas de julia que hacen eso).\n",
    "    \n",
    "(b) Existe un [algoritmo recursivo](https://en.wikipedia.org/wiki/Algorithms_for_calculating_variance#Online_algorithm), ampliamente desconocido, que permite calcular el promedio y la varianza con una sóla lectura de los datos. Impleméntenlo. La *misma* función debería de darles *ambos* valores.\n",
    "    \n",
    "(c) ¿Cuál de todos los algoritmos es el más rápido? Consideren esto para datos de distinta longitud, cubriendo varios órdenes de magnitud.\n"
   ]
  },
  {
   "cell_type": "code",
   "execution_count": 18,
   "metadata": {
    "collapsed": false
   },
   "outputs": [
    {
     "data": {
      "text/plain": [
       "promedioy (generic function with 1 method)"
      ]
     },
     "execution_count": 18,
     "metadata": {},
     "output_type": "execute_result"
    }
   ],
   "source": [
    "#Definiendo la función promedio\n",
    "function promedioy(p)\n",
    "    \n",
    "    #Iniciando el contador suma en cero (Float64)\n",
    "    suma = 0.0\n",
    "    \n",
    "    #Ciclo para obtener la suma de todos los números aleatorios\n",
    "    for xi in p\n",
    "        suma = suma + xi\n",
    "    end\n",
    "    \n",
    "    #Dividiendo la suma entre el número de números aleatorios que tenemos\n",
    "    prom = suma/length(p)\n",
    "    \n",
    "    return prom\n",
    "end"
   ]
  },
  {
   "cell_type": "code",
   "execution_count": 19,
   "metadata": {
    "collapsed": false
   },
   "outputs": [
    {
     "data": {
      "text/plain": [
       "0.00323949888533693"
      ]
     },
     "execution_count": 19,
     "metadata": {},
     "output_type": "execute_result"
    }
   ],
   "source": [
    "#Evaluando la función promedioy\n",
    "promedioy(x)"
   ]
  },
  {
   "cell_type": "code",
   "execution_count": 21,
   "metadata": {
    "collapsed": false
   },
   "outputs": [
    {
     "data": {
      "text/plain": [
       "0.0032394988853369534"
      ]
     },
     "execution_count": 21,
     "metadata": {},
     "output_type": "execute_result"
    }
   ],
   "source": [
    "#Se obtiene el valor promedio con la función mean de Julia\n",
    "mean(x)"
   ]
  },
  {
   "cell_type": "code",
   "execution_count": 22,
   "metadata": {
    "collapsed": false
   },
   "outputs": [
    {
     "name": "stdout",
     "output_type": "stream",
     "text": [
      "  "
     ]
    },
    {
     "data": {
      "text/plain": [
       "0.00323949888533693"
      ]
     },
     "execution_count": 22,
     "metadata": {},
     "output_type": "execute_result"
    },
    {
     "name": "stdout",
     "output_type": "stream",
     "text": [
      "0.000031 seconds (149 allocations: 10.167 KB)\n"
     ]
    }
   ],
   "source": [
    "#Tiempo de la función promedioy\n",
    "@time promedioy(x)"
   ]
  },
  {
   "cell_type": "code",
   "execution_count": 23,
   "metadata": {
    "collapsed": false
   },
   "outputs": [
    {
     "name": "stdout",
     "output_type": "stream",
     "text": [
      "  "
     ]
    },
    {
     "data": {
      "text/plain": [
       "0.0032394988853369534"
      ]
     },
     "execution_count": 23,
     "metadata": {},
     "output_type": "execute_result"
    },
    {
     "name": "stdout",
     "output_type": "stream",
     "text": [
      "0.000017 seconds (5 allocations: 176 bytes)\n"
     ]
    }
   ],
   "source": [
    "#Tiempo de la función mean \n",
    "@time mean(x)"
   ]
  },
  {
   "cell_type": "code",
   "execution_count": 25,
   "metadata": {
    "collapsed": false
   },
   "outputs": [
    {
     "data": {
      "text/plain": [
       "varianzay (generic function with 1 method)"
      ]
     },
     "execution_count": 25,
     "metadata": {},
     "output_type": "execute_result"
    }
   ],
   "source": [
    "#Definiendo la función varianza\n",
    "function varianzay(v)\n",
    "    \n",
    "    #Iniciando el contador suma en cero (Float64)\n",
    "    suma = 0.0\n",
    "   \n",
    "    #Ciclo para obtener la suma del cuadrado de los números aleatorios\n",
    "    for vi in v\n",
    "        suma = suma + (vi^2)\n",
    "    end\n",
    "    \n",
    "    \n",
    "    d = suma/length(v)\n",
    "    \n",
    "    prom = promedioy(v)\n",
    "    \n",
    "    var1 = d - prom^2\n",
    "    \n",
    "    return var1\n",
    "end"
   ]
  },
  {
   "cell_type": "code",
   "execution_count": 26,
   "metadata": {
    "collapsed": false
   },
   "outputs": [
    {
     "data": {
      "text/plain": [
       "0.9962366239536855"
      ]
     },
     "execution_count": 26,
     "metadata": {},
     "output_type": "execute_result"
    }
   ],
   "source": [
    "#Evaluando la función varianzay\n",
    "varianzay(x)"
   ]
  },
  {
   "cell_type": "code",
   "execution_count": 27,
   "metadata": {
    "collapsed": false
   },
   "outputs": [
    {
     "data": {
      "text/plain": [
       "0.996286438275592"
      ]
     },
     "execution_count": 27,
     "metadata": {},
     "output_type": "execute_result"
    }
   ],
   "source": [
    "#Se obtiene el valor de la varianza con la función var de Julia\n",
    "var(x)"
   ]
  },
  {
   "cell_type": "code",
   "execution_count": 28,
   "metadata": {
    "collapsed": false
   },
   "outputs": [
    {
     "name": "stdout",
     "output_type": "stream",
     "text": [
      "  "
     ]
    },
    {
     "data": {
      "text/plain": [
       "0.9962366239536855"
      ]
     },
     "execution_count": 28,
     "metadata": {},
     "output_type": "execute_result"
    },
    {
     "name": "stdout",
     "output_type": "stream",
     "text": [
      "0.000050 seconds (5 allocations: 176 bytes)\n"
     ]
    }
   ],
   "source": [
    "#Tiempo de la función varianzay \n",
    "@time varianzay(x)"
   ]
  },
  {
   "cell_type": "code",
   "execution_count": 29,
   "metadata": {
    "collapsed": false
   },
   "outputs": [
    {
     "name": "stdout",
     "output_type": "stream",
     "text": [
      "  "
     ]
    },
    {
     "data": {
      "text/plain": [
       "0.996286438275592"
      ]
     },
     "execution_count": 29,
     "metadata": {},
     "output_type": "execute_result"
    },
    {
     "name": "stdout",
     "output_type": "stream",
     "text": [
      "0.000045 seconds (8 allocations: 288 bytes)\n"
     ]
    }
   ],
   "source": [
    "#Tiempo de la función var \n",
    "@time var(x)"
   ]
  },
  {
   "cell_type": "code",
   "execution_count": 51,
   "metadata": {
    "collapsed": false
   },
   "outputs": [
    {
     "data": {
      "text/plain": [
       "alg_recursivo (generic function with 1 method)"
      ]
     },
     "execution_count": 51,
     "metadata": {},
     "output_type": "execute_result"
    }
   ],
   "source": [
    "#Definiendo la función alg_recursivo (algoritmo recursivo)\n",
    "function alg_recursivo(data)\n",
    "    n = 0\n",
    "    mean1 = 0.0\n",
    "    M2 = 0.0\n",
    "     \n",
    "    for x in data\n",
    "        n += 1\n",
    "        delta = x - mean1\n",
    "        mean1 += delta/n\n",
    "        M2 += delta*(x - mean1)\n",
    "    end\n",
    "    \n",
    "    #Devuelve el valor del promedio y varianza\n",
    "    return (mean1, M2 / (n - 1))\n",
    "end"
   ]
  },
  {
   "cell_type": "code",
   "execution_count": 52,
   "metadata": {
    "collapsed": false
   },
   "outputs": [
    {
     "data": {
      "text/plain": [
       "(0.0032394988853369417,0.9962864382755888)"
      ]
     },
     "execution_count": 52,
     "metadata": {},
     "output_type": "execute_result"
    }
   ],
   "source": [
    "#Evaluando la función del algoritmo recursivo\n",
    "alg_recursivo(x)"
   ]
  },
  {
   "cell_type": "code",
   "execution_count": 32,
   "metadata": {
    "collapsed": false
   },
   "outputs": [
    {
     "name": "stdout",
     "output_type": "stream",
     "text": [
      "  "
     ]
    },
    {
     "data": {
      "text/plain": [
       "(0.0032394988853369417,0.9962864382755888)"
      ]
     },
     "execution_count": 32,
     "metadata": {},
     "output_type": "execute_result"
    },
    {
     "name": "stdout",
     "output_type": "stream",
     "text": [
      "0.000190 seconds (5 allocations: 192 bytes)\n"
     ]
    }
   ],
   "source": [
    "#Tiempo de la función alg_recursivo\n",
    "@time alg_recursivo(x)"
   ]
  },
  {
   "cell_type": "markdown",
   "metadata": {},
   "source": [
    "## 3. Método de Simpson para integrar $f(x)$ en un intervalo\n",
    "\n",
    "Implementen el método de Simpson para integrar una función arbitraria $f(x)$."
   ]
  },
  {
   "cell_type": "code",
   "execution_count": 33,
   "metadata": {
    "collapsed": false
   },
   "outputs": [
    {
     "data": {
      "text/plain": [
       "f (generic function with 1 method)"
      ]
     },
     "execution_count": 33,
     "metadata": {},
     "output_type": "execute_result"
    }
   ],
   "source": [
    "#Definir función F\n",
    "f(t) = t^2+1"
   ]
  },
  {
   "cell_type": "code",
   "execution_count": 34,
   "metadata": {
    "collapsed": false
   },
   "outputs": [
    {
     "data": {
      "text/plain": [
       "IntegracionSimpson (generic function with 1 method)"
      ]
     },
     "execution_count": 34,
     "metadata": {},
     "output_type": "execute_result"
    }
   ],
   "source": [
    "#Definiendo la función Integración de Simpson de la función 'F' definida de 'a' a 'b' con 'm' subintervalos.\n",
    "function IntegracionSimpson(F, a, b, m)\n",
    "    \n",
    "    \n",
    "    #Definiendo operaciones internas de la función F\n",
    "    g = (b - a)/6.0\n",
    "    h = F(a)\n",
    "    p = 4 * (F((a + b)/2.0))\n",
    "    q = F(b)\n",
    "    \n",
    "    #Aproximación de la integral.\n",
    "    int =  g * (h + p + q)\n",
    "    \n",
    "    return int\n",
    "end"
   ]
  },
  {
   "cell_type": "code",
   "execution_count": 35,
   "metadata": {
    "collapsed": false
   },
   "outputs": [
    {
     "data": {
      "text/plain": [
       "1.3333333333333333"
      ]
     },
     "execution_count": 35,
     "metadata": {},
     "output_type": "execute_result"
    }
   ],
   "source": [
    "#Prueba del Método de Simpson para integrar la función F\n",
    "IntegracionSimpson(f, 0.0, 1.0, 5)"
   ]
  }
 ],
 "metadata": {
  "kernelspec": {
   "display_name": "Julia 0.4.3",
   "language": "julia",
   "name": "julia-0.4"
  },
  "language_info": {
   "file_extension": ".jl",
   "mimetype": "application/julia",
   "name": "julia",
   "version": "0.4.3"
  }
 },
 "nbformat": 4,
 "nbformat_minor": 0
}
