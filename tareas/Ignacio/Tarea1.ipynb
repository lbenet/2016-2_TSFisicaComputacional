{
 "cells": [
  {
   "cell_type": "markdown",
   "metadata": {},
   "source": [
    "# Tarea 1 - Ignacio Vargas Cordero\n",
    "\n",
    "Implementen en [julia](https://github.com/JuliaLang/julia) una función que devuelva las raíces de una ecuación de segundo grado general con coeficientes reales. La función debe ser estable según el tipo (*[type-stable](http://docs.julialang.org/en/release-0.4/manual/faq/?highlight=type%20stability#what-does-type-stable-mean)*), lo que significa que el tipo del resultado *sólamente* depende del tipo de las entradas. Muestren en el notebook con algunos ejemplos (escogidos de manera adecuada) que la función implementada da resultados *correctos*. \n",
    "\n",
    "La función debe estar documentada de manera apropiada, lo que significa que, al correr el Jupyter notebook y desde ahí, tecleando\n",
    "```\n",
    "? nombre_funcion\n",
    "```\n",
    "seguido de <SHIFT>-Enter, debe dar una explicación adecuada de qué hace la función, cuales son las entradas y cuales las salidas. Para esto, lean la documentación [aquí](http://docs.julialang.org/en/release-0.4/manual/documentation/#documentation). \n",
    "\n",
    "Cualquier comentario que ayude a entender su razonamiento lo pueden incluir en el notebook, explotando Markdown.\n",
    "\n",
    "**NOTA** El máximo número de colaboradores es 2, cuyos nombres deben ser incluidos con claridad. Si usan ideas de cualquier fuente, favor de incluir la referencia apropiada."
   ]
  },
  {
   "cell_type": "markdown",
   "metadata": {},
   "source": [
    "## Quadratic Equation Solver"
   ]
  },
  {
   "cell_type": "code",
   "execution_count": 39,
   "metadata": {
    "collapsed": false,
    "scrolled": false
   },
   "outputs": [
    {
     "data": {
      "text/plain": [
       "quadratic_equation (generic function with 1 method)"
      ]
     },
     "execution_count": 39,
     "metadata": {},
     "output_type": "execute_result"
    }
   ],
   "source": [
    "\"\"\"\n",
    "Function which solves quadratic equations with real coefficients A, B, C, while preserving type-stability.\n",
    "\n",
    "Only accepts Float64 as input. If any other data types are entered, the function won't work.\n",
    "\n",
    "Function first checks if coefficient A is non-zero, as it wouldn't be a quadratic equation otherwise. If it is non-zero,\n",
    "the function advances to the next step. If it is zero, the function stops and returns an error.\n",
    "\n",
    "Function checks if the discriminant of the function is equal to or greater than zero.\n",
    "If it is, it returns the two roots of the equation as a Tuple of two Float64 numbers. If it is not, it returns an error \n",
    "message stating that the program must be type-stable, and therefore cannot allow Complex Float64 output when it had Float64 input.\n",
    "\n",
    "\"\"\"\n",
    "function quadratic_equation(a::Float64,b::Float64,c::Float64)\n",
    "    \n",
    "    (a != 0.0) ? nothing : error(\"This is not a quadratic equation. Please let the A coefficient be non-zero.\")\n",
    "    discriminant = b^2 - 4*a*c\n",
    "    (discriminant >= 0) ? ((-b + sqrt(discriminant))/(2a), (-b - sqrt(discriminant))/(2a)) : error(\"Discriminant is less than zero. We wish to preserve type-stability. No complex roots allowed.\")\n",
    "    \n",
    "end    "
   ]
  },
  {
   "cell_type": "code",
   "execution_count": 40,
   "metadata": {
    "collapsed": false
   },
   "outputs": [
    {
     "name": "stdout",
     "output_type": "stream",
     "text": [
      "search: "
     ]
    },
    {
     "data": {
      "text/latex": [
       "Function which solves quadratic equations with real coefficients A, B, C, while preserving type-stability.\n",
       "Only accepts Float64 as input. If any other data types are entered, the function won't work.\n",
       "Function first checks if coefficient A is non-zero, as it wouldn't be a quadratic equation otherwise. If it is non-zero, the function advances to the next step. If it is zero, the function stops and returns an error.\n",
       "Function checks if the discriminant of the function is equal to or greater than zero. If it is, it returns the two roots of the equation as a Tuple of two Float64 numbers. If it is not, it returns an error  message stating that the program must be type-stable, and therefore cannot allow Complex Float64 output when it had Float64 input.\n"
      ],
      "text/markdown": [
       "Function which solves quadratic equations with real coefficients A, B, C, while preserving type-stability.\n",
       "\n",
       "Only accepts Float64 as input. If any other data types are entered, the function won't work.\n",
       "\n",
       "Function first checks if coefficient A is non-zero, as it wouldn't be a quadratic equation otherwise. If it is non-zero, the function advances to the next step. If it is zero, the function stops and returns an error.\n",
       "\n",
       "Function checks if the discriminant of the function is equal to or greater than zero. If it is, it returns the two roots of the equation as a Tuple of two Float64 numbers. If it is not, it returns an error  message stating that the program must be type-stable, and therefore cannot allow Complex Float64 output when it had Float64 input.\n"
      ],
      "text/plain": [
       "Function which solves quadratic equations with real coefficients A, B, C, while preserving type-stability.\n",
       "\n",
       "Only accepts Float64 as input. If any other data types are entered, the function won't work.\n",
       "\n",
       "Function first checks if coefficient A is non-zero, as it wouldn't be a quadratic equation otherwise. If it is non-zero, the function advances to the next step. If it is zero, the function stops and returns an error.\n",
       "\n",
       "Function checks if the discriminant of the function is equal to or greater than zero. If it is, it returns the two roots of the equation as a Tuple of two Float64 numbers. If it is not, it returns an error  message stating that the program must be type-stable, and therefore cannot allow Complex Float64 output when it had Float64 input.\n"
      ]
     },
     "execution_count": 40,
     "metadata": {},
     "output_type": "execute_result"
    },
    {
     "name": "stdout",
     "output_type": "stream",
     "text": [
      "quadratic_equation\n",
      "\n"
     ]
    }
   ],
   "source": [
    "? quadratic_equation"
   ]
  },
  {
   "cell_type": "markdown",
   "metadata": {},
   "source": [
    "### Failure Conditions"
   ]
  },
  {
   "cell_type": "markdown",
   "metadata": {},
   "source": [
    "#### A=0.0, B=0.0, C=0.0\n",
    "Returns an error because A=0.0, therefore we do not have a quadratic equation to solve. The program does not care if B or C are 0.0, however. Only A is checked."
   ]
  },
  {
   "cell_type": "code",
   "execution_count": 41,
   "metadata": {
    "collapsed": false
   },
   "outputs": [
    {
     "ename": "LoadError",
     "evalue": "LoadError: This is not a quadratic equation. Please let the A coefficient be non-zero.\nwhile loading In[41], in expression starting on line 1",
     "output_type": "error",
     "traceback": [
      "LoadError: This is not a quadratic equation. Please let the A coefficient be non-zero.\nwhile loading In[41], in expression starting on line 1",
      "",
      " in quadratic_equation at In[39]:16"
     ]
    }
   ],
   "source": [
    "quadratic_equation(0.0,0.0,0.0)"
   ]
  },
  {
   "cell_type": "markdown",
   "metadata": {},
   "source": [
    "#### A=1, B=1, C=1\n",
    "Returns an error because at least one of the inputs is not Float64."
   ]
  },
  {
   "cell_type": "code",
   "execution_count": 42,
   "metadata": {
    "collapsed": false
   },
   "outputs": [
    {
     "ename": "LoadError",
     "evalue": "LoadError: MethodError: `quadratic_equation` has no method matching quadratic_equation(::Int64, ::Int64, ::Int64)\nwhile loading In[42], in expression starting on line 1",
     "output_type": "error",
     "traceback": [
      "LoadError: MethodError: `quadratic_equation` has no method matching quadratic_equation(::Int64, ::Int64, ::Int64)\nwhile loading In[42], in expression starting on line 1",
      ""
     ]
    }
   ],
   "source": [
    "quadratic_equation(1,1,1)"
   ]
  },
  {
   "cell_type": "markdown",
   "metadata": {},
   "source": [
    "#### A=1.0, B=2.0, C=3.0\n",
    "Returns an error because the discriminant is less than zero, therefore the roots will be complex and this program does not allow that (in order to preserve type-stability)."
   ]
  },
  {
   "cell_type": "code",
   "execution_count": 43,
   "metadata": {
    "collapsed": false
   },
   "outputs": [
    {
     "ename": "LoadError",
     "evalue": "LoadError: Discriminant is less than zero. We wish to preserve type-stability. No complex roots allowed.\nwhile loading In[43], in expression starting on line 1",
     "output_type": "error",
     "traceback": [
      "LoadError: Discriminant is less than zero. We wish to preserve type-stability. No complex roots allowed.\nwhile loading In[43], in expression starting on line 1",
      "",
      " in quadratic_equation at In[39]:18"
     ]
    }
   ],
   "source": [
    "quadratic_equation(1.0,2.0,3.0)"
   ]
  },
  {
   "cell_type": "markdown",
   "metadata": {},
   "source": [
    "### Examples"
   ]
  },
  {
   "cell_type": "markdown",
   "metadata": {},
   "source": [
    "#### A=5.0, 6.0, 1.0"
   ]
  },
  {
   "cell_type": "code",
   "execution_count": 23,
   "metadata": {
    "collapsed": false
   },
   "outputs": [
    {
     "data": {
      "text/plain": [
       "(-0.2,-1.0)"
      ]
     },
     "execution_count": 23,
     "metadata": {},
     "output_type": "execute_result"
    }
   ],
   "source": [
    "quadratic_equation(5.0,6.0,1.0)"
   ]
  },
  {
   "cell_type": "markdown",
   "metadata": {},
   "source": [
    "#### A=10.0, 15.0, 4.0"
   ]
  },
  {
   "cell_type": "code",
   "execution_count": 24,
   "metadata": {
    "collapsed": false,
    "scrolled": true
   },
   "outputs": [
    {
     "data": {
      "text/plain": [
       "(-0.34688711258507254,-1.1531128874149275)"
      ]
     },
     "execution_count": 24,
     "metadata": {},
     "output_type": "execute_result"
    }
   ],
   "source": [
    "quadratic_equation(10.0, 15.0, 4.0)"
   ]
  },
  {
   "cell_type": "markdown",
   "metadata": {},
   "source": [
    "#### A=0.5, B=0.7, C=0.2"
   ]
  },
  {
   "cell_type": "code",
   "execution_count": 26,
   "metadata": {
    "collapsed": false
   },
   "outputs": [
    {
     "data": {
      "text/plain": [
       "(-0.4000000000000001,-0.9999999999999998)"
      ]
     },
     "execution_count": 26,
     "metadata": {},
     "output_type": "execute_result"
    }
   ],
   "source": [
    "quadratic_equation(0.5,0.7,0.2)"
   ]
  },
  {
   "cell_type": "markdown",
   "metadata": {},
   "source": [
    "#### A=1.0, B=0.0, C=0.0"
   ]
  },
  {
   "cell_type": "code",
   "execution_count": 27,
   "metadata": {
    "collapsed": false
   },
   "outputs": [
    {
     "data": {
      "text/plain": [
       "(0.0,-0.0)"
      ]
     },
     "execution_count": 27,
     "metadata": {},
     "output_type": "execute_result"
    }
   ],
   "source": [
    "quadratic_equation(1.0,0.0,0.0)"
   ]
  },
  {
   "cell_type": "markdown",
   "metadata": {},
   "source": [
    "### Resources Consulted"
   ]
  },
  {
   "cell_type": "markdown",
   "metadata": {},
   "source": [
    "<http://docs.julialang.org/en/release-0.4/manual/control-flow/#man-compound-expressions>\n",
    "For the usage of ternary operators ?:\n",
    "\n",
    "________________________________________________________________________________________________\n",
    "\n",
    "<http://wiener.math.csi.cuny.edu/verzani/tmp/julia/zeroes.html>\n",
    "\n",
    "<http://mth229.github.io/zeros.html>\n",
    "\n",
    "<http://docs.julialang.org/en/release-0.4/manual/functions/>\n",
    "\n",
    "\n",
    "To gain a better understanding of Julia's logic when it comes to making functions work\n",
    "\n",
    "\n"
   ]
  }
 ],
 "metadata": {
  "kernelspec": {
   "display_name": "Julia 0.4.2",
   "language": "julia",
   "name": "julia-0.4"
  },
  "language_info": {
   "file_extension": ".jl",
   "mimetype": "application/julia",
   "name": "julia",
   "version": "0.4.2"
  }
 },
 "nbformat": 4,
 "nbformat_minor": 0
}
