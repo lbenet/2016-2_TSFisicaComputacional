{
 "cells": [
  {
   "cell_type": "markdown",
   "metadata": {
    "collapsed": true
   },
   "source": [
    "# Tarea 2 - Ignacio Vargas Cordero"
   ]
  },
  {
   "cell_type": "markdown",
   "metadata": {},
   "source": [
    "Como siempre, documenten **todo** lo que hacen en el notebook\n",
    "\n",
    "Se recomienda que *colaboren* (equipos de máximo dos personas) en la tarea."
   ]
  },
  {
   "cell_type": "markdown",
   "metadata": {},
   "source": [
    "## 1. Histogramas\n",
    "\n",
    "Usando la función `randn`, generen $N$ valores tipo `Float64` al azar ($N\\sim 10000$, o mayor, es razonable). Construyan la función `histograma`, que regresa un vector de tamaño $n_{hist}$ (que es un argumento de la función) y que contiene el histograma de frecuencias *sin normalizar*. Esto es, la primer componente del vector corresponde al número de valores generados al azar que caen en el intervalo (llamado *bin* en inglés) $[x_0, x_1)$, los de la segunda componente caen en el intervalo $[x_1, x_2)$, etc, hasta $[x_{n_{hist}-1}, x{n_{hist}})$, donde el tamaño de los intervalos es el mismo y corresponde a $\\Delta x = (\\textrm{sup}(x)-\\textrm{inf}(x))/n_{hist}$. (No escatimen en estética.)\n",
    "\n",
    "Dibujen el histograma a partir de sus datos.\n",
    "\n",
    "PyPlot (matplotlib) de hecho tiene [una función]() útil para dibujar histogramas a partir de los datos directamente. Utilizando esa función, muestren el histograma de sus datos. Debería ser muy parecida a la que ya obtuvieron antes.\n",
    "\n",
    "NOTA: Hay esencialmente dos formas de hacerlo, que se distinguen por el número de veces que uno lee los datos. Traten de hacer su implementación usando *una* lectura de los datos. (Si no pueden, llevarán sobre sus hombros esa carga toda su vida.)"
   ]
  },
  {
   "cell_type": "code",
   "execution_count": 1,
   "metadata": {
    "collapsed": false
   },
   "outputs": [
    {
     "data": {
      "text/plain": [
       "histograma (generic function with 2 methods)"
      ]
     },
     "execution_count": 1,
     "metadata": {},
     "output_type": "execute_result"
    }
   ],
   "source": [
    "#randn\n",
    "#generar 10000 valores random que sean Float64 \n",
    "#construir funcion histograma\n",
    "#esta debe regresar vector tamano NHist (argumento de funcion histograma)\n",
    "#vector NHist contiene frecuencias sin normalizar \n",
    "#primer componente vector corresponde a numero valores generados random que caen en intervalo (bin) [x0,x1)\n",
    "#segunda componente caen en [x1,x2) etc hasta [xnhist-1,xnhist) donde tamano de los dos intervalos es el mismo\n",
    "#tamano intervalos corresponde a delta_x=(sup(x)-inf(x)/nhist)\n",
    "\n",
    "#dibujar histograma \n",
    "#dibujar con PyPlot(matplotlib) de los datos directamente\n",
    "\n",
    "using PyPlot\n",
    "\n",
    "\"\"\"\n",
    "`histograma(Arreglo, NHist)` es una funcion que obtiene un histograma de frecuencias no normalizadas \n",
    "del arreglo que se le proporcione (Float64).\n",
    "\n",
    "Por la definicion de los intervalos de longitud, es necesario que 0 < NHist ≦ Arreglo_Long para que no se indetermine.\n",
    "El arreglo no puede ser vacio.\n",
    "\n",
    "La funcion devuelve el indice y vector resultado, quien es de las mismas dimensiones que NHist.\n",
    "Cada entrada tiene el número de valores encontrados en el intervalo [x_{i-1},x_i].\n",
    "\"\"\"\n",
    "\n",
    "#Se pide al usuario que ingrese un arreglo de Float64 y un argumento de la funcion NHist. Si no provee este ultimo,\n",
    "#se le asigna un valor predeterminado de 100.\n",
    "function histograma(Arreglo::Array{Float64,1}, NHist=100)\n",
    "    \n",
    "    Arreglo_Long = length(Arreglo)\n",
    "    \n",
    "    #Se declaran reglas para que el programa funcione. Si las cumple, ordenamos los elementos aleatorios de 'Arreglo'.\n",
    "    Arreglo_Long == 0 ? error(\"Arreglo vacio. Revisar documentacion\") : \n",
    "    (NHist <= 0 || Arreglo_Long < NHist) ? error(\"Argumento NHist es invalido. Revisar documentacion\") : \n",
    "    Arreglo_Orden = sort(Arreglo)\n",
    "    \n",
    "    #Se declara el tamano de los intervalos\n",
    "    delta_x= (Arreglo_Orden[end] - Arreglo_Orden[1])/NHist\n",
    "    \n",
    "    #Se inicializa el Arreglo donde saldran los resultados, con las mismas dimensiones del NHist escogido\n",
    "    vector_resultado = zeros(NHist)\n",
    "    \n",
    "    #Se inicia ciclo for para declarar 'x_i', el contador 'incremento', y 'ultimo' - quien redondea la suma del rango\n",
    "    #de elementos de 'vector_resultado' llevados hasta el momento del ciclo + 1. Al pasar por el ciclo interno,\n",
    "    #nos asigna el valor de incremento en cada elemento de vector_resultado.\n",
    "    for i in 1:NHist\n",
    "        \n",
    "        x_i = i*delta_x + Arreglo_Orden[1]\n",
    "        incremento = 0\n",
    "        ultimo = round(Int64, sum(vector_resultado[1:i]) + 1)\n",
    "        \n",
    "        #Ciclo interno para continuar hasta que el elemento de Arreglo_Orden sea igual a x_i\n",
    "        for j in ultimo:Arreglo_Long\n",
    "            finalcuenta = Arreglo_Orden[j]\n",
    "            finalcuenta < x_i ? incremento += 1 : break\n",
    "            \n",
    "        end\n",
    "        \n",
    "        vector_resultado[i] = incremento\n",
    "        \n",
    "    end\n",
    "    \n",
    "    #Le sumamos 1 al ultimo elemento de vector_resultado. Devolvemos al indice y vector_resultado.\n",
    "    vector_resultado[end] += 1\n",
    "    indice = collect(1:NHist)\n",
    "    indice, vector_resultado\n",
    "    \n",
    "end"
   ]
  },
  {
   "cell_type": "code",
   "execution_count": 2,
   "metadata": {
    "collapsed": false
   },
   "outputs": [
    {
     "name": "stdout",
     "output_type": "stream",
     "text": [
      "search: histograma\n",
      "\n"
     ]
    },
    {
     "data": {
      "text/latex": [
       "\\texttt{histograma(Arreglo, NHist)} es una funcion que obtiene un histograma de frecuencias no normalizadas  del arreglo que se le proporcione (Float64).\n",
       "Por la definicion de los intervalos de longitud, es necesario que 0 < NHist ≦ Arreglo\\_Long para que no se indetermine. El arreglo no puede ser vacio.\n",
       "La funcion devuelve el indice y vector resultado, quien es de las mismas dimensiones que NHist. Cada entrada tiene el número de valores encontrados en el intervalo [x\\_\\{i-1\\},x\\_i].\n"
      ],
      "text/markdown": [
       "`histograma(Arreglo, NHist)` es una funcion que obtiene un histograma de frecuencias no normalizadas  del arreglo que se le proporcione (Float64).\n",
       "\n",
       "Por la definicion de los intervalos de longitud, es necesario que 0 < NHist ≦ Arreglo_Long para que no se indetermine. El arreglo no puede ser vacio.\n",
       "\n",
       "La funcion devuelve el indice y vector resultado, quien es de las mismas dimensiones que NHist. Cada entrada tiene el número de valores encontrados en el intervalo [x_{i-1},x_i].\n"
      ],
      "text/plain": [
       "`histograma(Arreglo, NHist)` es una funcion que obtiene un histograma de frecuencias no normalizadas  del arreglo que se le proporcione (Float64).\n",
       "\n",
       "Por la definicion de los intervalos de longitud, es necesario que 0 < NHist ≦ Arreglo_Long para que no se indetermine. El arreglo no puede ser vacio.\n",
       "\n",
       "La funcion devuelve el indice y vector resultado, quien es de las mismas dimensiones que NHist. Cada entrada tiene el número de valores encontrados en el intervalo [x_{i-1},x_i].\n"
      ]
     },
     "execution_count": 2,
     "metadata": {},
     "output_type": "execute_result"
    }
   ],
   "source": [
    "? histograma"
   ]
  },
  {
   "cell_type": "code",
   "execution_count": 3,
   "metadata": {
    "collapsed": false
   },
   "outputs": [],
   "source": [
    "#inicializamos nuestro arreglo aleatorio, guardamos los resultados del histograma de dicho arreglo aleatorio en las\n",
    "#variables 'indice_afuera' y 'vector_resultado_afuera'\n",
    "Arreglo_Aleatorio = randn(10000);\n",
    "indice_afuera, vector_resultado_afuera = histograma(Arreglo_Aleatorio);"
   ]
  },
  {
   "cell_type": "code",
   "execution_count": 4,
   "metadata": {
    "collapsed": false
   },
   "outputs": [
    {
     "data": {
      "text/plain": [
       "10000-element Array{Float64,1}:\n",
       " -3.79568\n",
       " -3.73424\n",
       " -3.70111\n",
       " -3.44296\n",
       " -3.42309\n",
       " -3.33238\n",
       " -3.32781\n",
       " -3.24212\n",
       " -3.21276\n",
       " -3.19851\n",
       " -3.15137\n",
       " -3.12105\n",
       " -3.10198\n",
       "  ⋮      \n",
       "  2.89819\n",
       "  2.91162\n",
       "  2.91273\n",
       "  2.91548\n",
       "  2.93191\n",
       "  2.99597\n",
       "  3.04487\n",
       "  3.10664\n",
       "  3.10922\n",
       "  3.11097\n",
       "  3.35943\n",
       "  3.76691"
      ]
     },
     "execution_count": 4,
     "metadata": {},
     "output_type": "execute_result"
    }
   ],
   "source": [
    "sort(Arreglo_Aleatorio)"
   ]
  },
  {
   "cell_type": "code",
   "execution_count": 5,
   "metadata": {
    "collapsed": false
   },
   "outputs": [
    {
     "data": {
      "image/png": "[encoded data removed]",
      "text/plain": [
       "PyPlot.Figure(PyObject <matplotlib.figure.Figure object at 0x7f105fffc5f8>)"
      ]
     },
     "metadata": {},
     "output_type": "display_data"
    }
   ],
   "source": [
    "figure(figsize=(6,5))\n",
    "bar(indice_afuera,vector_resultado_afuera)\n",
    "title(\"Histograma a pie\")\n",
    "show()"
   ]
  },
  {
   "cell_type": "code",
   "execution_count": 6,
   "metadata": {
    "collapsed": false
   },
   "outputs": [
    {
     "data": {
      "image/png": "[encoded data removed]",
      "text/plain": [
       "PyPlot.Figure(PyObject <matplotlib.figure.Figure object at 0x7f104ca89400>)"
      ]
     },
     "metadata": {},
     "output_type": "display_data"
    }
   ],
   "source": [
    "figure(figsize = (6,5))\n",
    "plt[:hist](Arreglo_Aleatorio,100)\n",
    "title(\"Funcion Histograma ya incluida en Julia\")\n",
    "show()"
   ]
  },
  {
   "cell_type": "markdown",
   "metadata": {},
   "source": [
    "## 2. Promedio y varianza\n",
    "\n",
    "(a) Siguiendo con la generación de datos del ejercicio anterior, hagan una subrutina que calcule el promedio y la varianza de los datos generados anteriormente. Comparen su resultado con lo que se obtiene al utilizar `mean` y `var` (que son las funciones nativas de julia que hacen eso)."
   ]
  },
  {
   "cell_type": "code",
   "execution_count": 7,
   "metadata": {
    "collapsed": false
   },
   "outputs": [
    {
     "data": {
      "text/plain": [
       "promedio (generic function with 1 method)"
      ]
     },
     "execution_count": 7,
     "metadata": {},
     "output_type": "execute_result"
    }
   ],
   "source": [
    "function promedio(A::Array)\n",
    "    \n",
    "    suma = 0.0\n",
    "    for j in A  #Ciclo for corriendo sobre los elementos del arreglo aleatorio y los va sumando\n",
    "        suma+=j\n",
    "    end \n",
    "    suma/length(A)\n",
    "    \n",
    "end"
   ]
  },
  {
   "cell_type": "code",
   "execution_count": 8,
   "metadata": {
    "collapsed": false
   },
   "outputs": [
    {
     "data": {
      "text/plain": [
       "varianza (generic function with 1 method)"
      ]
     },
     "execution_count": 8,
     "metadata": {},
     "output_type": "execute_result"
    }
   ],
   "source": [
    "function varianza(B::Array)\n",
    "    \n",
    "    suma = 0.0\n",
    "    for j in B  #Ciclo for corriendo sobre los elementos del arreglo aleatorio y los va sumando\n",
    "        suma+=(promedio(B)-j)^2\n",
    "    end \n",
    "    return suma/length(B)\n",
    "    \n",
    "end"
   ]
  },
  {
   "cell_type": "code",
   "execution_count": 9,
   "metadata": {
    "collapsed": false
   },
   "outputs": [
    {
     "data": {
      "text/plain": [
       "(6.938893903907228e-17,0.00010020491343087912)"
      ]
     },
     "execution_count": 9,
     "metadata": {},
     "output_type": "execute_result"
    }
   ],
   "source": [
    "abs(mean(Arreglo_Aleatorio)-promedio(Arreglo_Aleatorio)) , \n",
    "abs(var(Arreglo_Aleatorio)-varianza(Arreglo_Aleatorio))\n",
    "\n",
    "#Como se puede ver en los resultados, la diferencia entre mean y promedio es muy baja. Sin embargo, la difrencia entre\n",
    "#var y varianza es bastante notable - esto se debe a que varianza llama a promedio en cada corrida del ciclo for."
   ]
  },
  {
   "cell_type": "code",
   "execution_count": 10,
   "metadata": {
    "collapsed": false
   },
   "outputs": [
    {
     "name": "stdout",
     "output_type": "stream",
     "text": [
      "  0.000023 seconds (155 allocations: 42.104 KB)\n",
      "  0.000015 seconds (5 allocations: 176 bytes)\n"
     ]
    }
   ],
   "source": [
    "@time promedio(Arreglo_Aleatorio);\n",
    "@time mean(Arreglo_Aleatorio);"
   ]
  },
  {
   "cell_type": "code",
   "execution_count": 11,
   "metadata": {
    "collapsed": false
   },
   "outputs": [
    {
     "name": "stdout",
     "output_type": "stream",
     "text": [
      "  0.102417 seconds (5 allocations: 176 bytes)\n",
      "  0.000025 seconds (8 allocations: 288 bytes)\n"
     ]
    }
   ],
   "source": [
    "@time varianza(Arreglo_Aleatorio)\n",
    "@time var(Arreglo_Aleatorio);"
   ]
  },
  {
   "cell_type": "markdown",
   "metadata": {},
   "source": [
    "(b) Existe un [algoritmo recursivo](https://en.wikipedia.org/wiki/Algorithms_for_calculating_variance#Online_algorithm), ampliamente desconocido, que permite calcular el promedio y la varianza con una sóla lectura de los datos. Impleméntenlo. La *misma* función debería de darles *ambos* valores.\n"
   ]
  },
  {
   "cell_type": "code",
   "execution_count": 12,
   "metadata": {
    "collapsed": false
   },
   "outputs": [
    {
     "data": {
      "text/plain": [
       "algoritmo_recursivo (generic function with 1 method)"
      ]
     },
     "execution_count": 12,
     "metadata": {},
     "output_type": "execute_result"
    }
   ],
   "source": [
    "function algoritmo_recursivo(C::Array)\n",
    "    n = 0\n",
    "    mean = 0.0\n",
    "    Arreglo_Aleatorio_2 = 0.0\n",
    "     \n",
    "    for x in C\n",
    "        n += 1\n",
    "        delta = x - mean\n",
    "        mean += delta/n\n",
    "        Arreglo_Aleatorio_2 += delta*(x - mean)\n",
    "    end\n",
    "    \n",
    "    n < 2 ? [NaN,NaN] : [mean, Arreglo_Aleatorio_2 / n]\n",
    "end"
   ]
  },
  {
   "cell_type": "code",
   "execution_count": 13,
   "metadata": {
    "collapsed": false
   },
   "outputs": [
    {
     "data": {
      "text/plain": [
       "(4.163336342344337e-17,1.1102230246251565e-15)"
      ]
     },
     "execution_count": 13,
     "metadata": {},
     "output_type": "execute_result"
    }
   ],
   "source": [
    "abs(promedio(Arreglo_Aleatorio)-algoritmo_recursivo(Arreglo_Aleatorio)[1]), \n",
    "abs(varianza(Arreglo_Aleatorio)-algoritmo_recursivo(Arreglo_Aleatorio)[2])\n",
    "#Diferencia pequena en ambos casos, pero la de varianza es 2 ordenes de magnitud mayor"
   ]
  },
  {
   "cell_type": "code",
   "execution_count": 14,
   "metadata": {
    "collapsed": false,
    "scrolled": true
   },
   "outputs": [
    {
     "name": "stdout",
     "output_type": "stream",
     "text": [
      "  0.000019 seconds (5 allocations: 176 bytes)\n",
      "  0.100874 seconds (5 allocations: 176 bytes)\n",
      "  0.000104 seconds (7 allocations: 272 bytes)\n"
     ]
    },
    {
     "data": {
      "text/plain": [
       "2-element Array{Float64,1}:\n",
       " -0.020285\n",
       "  1.00195 "
      ]
     },
     "execution_count": 14,
     "metadata": {},
     "output_type": "execute_result"
    }
   ],
   "source": [
    "@time promedio(Arreglo_Aleatorio);\n",
    "@time varianza(Arreglo_Aleatorio);\n",
    "@time algoritmo_recursivo(Arreglo_Aleatorio);\n",
    "#Es mucho mas rapido algoritmo_recursivo al hacer ambas cosas, debe realizar menos iteraciones."
   ]
  },
  {
   "cell_type": "markdown",
   "metadata": {},
   "source": [
    "(c) ¿Cuál de todos los algoritmos es el más rápido? Consideren esto para datos de distinta longitud, cubriendo varios órdenes de magnitud."
   ]
  },
  {
   "cell_type": "code",
   "execution_count": 15,
   "metadata": {
    "collapsed": false
   },
   "outputs": [],
   "source": [
    "#Generamos 3 arreglos aleatorios de diferentes dimensiones\n",
    "R1=rand(10); \n",
    "R2=rand(10^3);\n",
    "R3=rand(10^5);"
   ]
  },
  {
   "cell_type": "code",
   "execution_count": 16,
   "metadata": {
    "collapsed": false
   },
   "outputs": [
    {
     "name": "stdout",
     "output_type": "stream",
     "text": [
      "  0.000003 seconds (5 allocations: 176 bytes)\n",
      "  0.000003 seconds (5 allocations: 176 bytes)\n",
      "  0.000003 seconds (7 allocations: 272 bytes)\n",
      "# # # # # # # # # # # # # # # # # # # # # # #\n",
      "  0.000003 seconds (5 allocations: 176 bytes)\n",
      "  0.001017 seconds (5 allocations: 176 bytes)\n",
      "  0.000013 seconds (7 allocations: 272 bytes)\n",
      "# # # # # # # # # # # # # # # # # # # # # # #\n",
      "  0.000124 seconds (5 allocations: 176 bytes)\n",
      " 10.113941 seconds (5 allocations: 176 bytes)\n",
      "  0.001024 seconds (7 allocations: 272 bytes)\n"
     ]
    },
    {
     "data": {
      "text/plain": [
       "2-element Array{Float64,1}:\n",
       " 0.499117\n",
       " 0.083796"
      ]
     },
     "execution_count": 16,
     "metadata": {},
     "output_type": "execute_result"
    }
   ],
   "source": [
    "@time promedio(R1);\n",
    "@time varianza(R1);\n",
    "@time algoritmo_recursivo(R1);\n",
    "println(\"# # # # # # # # # # # # # # # # # # # # # # #\")\n",
    "@time promedio(R2);\n",
    "@time varianza(R2);\n",
    "@time algoritmo_recursivo(R2);\n",
    "println(\"# # # # # # # # # # # # # # # # # # # # # # #\")\n",
    "@time promedio(R3);\n",
    "@time varianza(R3);\n",
    "@time algoritmo_recursivo(R3);\n",
    "\n",
    "#Es claro por los resultados que el algoritmo mas rapido es el recursivo."
   ]
  },
  {
   "cell_type": "markdown",
   "metadata": {},
   "source": [
    "## 3. Método de Simpson para integrar $f(x)$ en un intervalo\n",
    "\n",
    "Implementen el método de Simpson para integrar una función arbitraria $f(x)$."
   ]
  },
  {
   "cell_type": "code",
   "execution_count": 17,
   "metadata": {
    "collapsed": false
   },
   "outputs": [
    {
     "data": {
      "text/plain": [
       "metodo_simpson (generic function with 1 method)"
      ]
     },
     "execution_count": 17,
     "metadata": {},
     "output_type": "execute_result"
    }
   ],
   "source": [
    "#Guiandonos por el ejemplo de implementacion del Metodo de Simpson para Python encontrado en la pagina de Wikipedia de\n",
    "#Simpson's Rule\":\n",
    "\n",
    "function metodo_simpson(f,a,b,n)\n",
    "    \n",
    "    n == 0 ? error(\"'n' no puede ser cero.\"): integral = 0.0\n",
    "    \n",
    "    delta = abs(b-a)/n\n",
    "    xs = [a + delta*m for m in 0:n]\n",
    "    \n",
    "    simpson(f,a,b) = ((b-a)/6) * ( f(a) + 4*f((a+b)/2) + f(b) )\n",
    "    \n",
    "    for i in 1:n\n",
    "        integral += simpson(f,xs[i],xs[i+1])\n",
    "    end\n",
    "    \n",
    "    return integral\n",
    "end"
   ]
  },
  {
   "cell_type": "code",
   "execution_count": 18,
   "metadata": {
    "collapsed": false
   },
   "outputs": [
    {
     "data": {
      "text/plain": [
       "0.3333333333333333"
      ]
     },
     "execution_count": 18,
     "metadata": {},
     "output_type": "execute_result"
    }
   ],
   "source": [
    "f(x) = x^2\n",
    "metodo_simpson(f,0,1,100)"
   ]
  },
  {
   "cell_type": "code",
   "execution_count": 19,
   "metadata": {
    "collapsed": false
   },
   "outputs": [
    {
     "data": {
      "text/plain": [
       "2.0000000006764718"
      ]
     },
     "execution_count": 19,
     "metadata": {},
     "output_type": "execute_result"
    }
   ],
   "source": [
    "g(x) = sin(x)\n",
    "metodo_simpson(g,0,pi,100)"
   ]
  },
  {
   "cell_type": "code",
   "execution_count": 20,
   "metadata": {
    "collapsed": false
   },
   "outputs": [
    {
     "data": {
      "text/plain": [
       "(304.5,304.5)"
      ]
     },
     "execution_count": 20,
     "metadata": {},
     "output_type": "execute_result"
    }
   ],
   "source": [
    "a = 2\n",
    "b = 5\n",
    "c = 10\n",
    "\n",
    "2/4*(5^4 -  2^4), \n",
    "metodo_simpson(x -> 2*x^3, a, b, c)"
   ]
  }
 ],
 "metadata": {
  "kernelspec": {
   "display_name": "Julia 0.4.5",
   "language": "julia",
   "name": "julia-0.4"
  },
  "language_info": {
   "file_extension": ".jl",
   "mimetype": "application/julia",
   "name": "julia",
   "version": "0.4.5"
  }
 },
 "nbformat": 4,
 "nbformat_minor": 0
}
