{
 "cells": [
  {
   "cell_type": "markdown",
   "metadata": {},
   "source": [
    "# Tarea 1\n",
    "\n",
    "#### Eva Yazmín Santiago Santos\n",
    "\n",
    "Implementen en julia una función que devuelva las raíces de una ecuación de segundo grado general con coeficientes reales. La función debe ser estable según el tipo (type-stable), lo que significa que el tipo del resultado sólamente depende del tipo de las entradas. Muestren en el notebook con algunos ejemplos (escogidos de manera adecuada) que la función implementada da resultados correctos.\n",
    "\n",
    "La función debe estar documentada de manera apropiada, lo que significa que, al correr el Jupyter notebook y desde ahí, tecleando\n",
    "\n",
    "? nombre_funcion\n",
    "\n",
    "seguido de\n",
    "\n",
    "Cualquier comentario que ayude a entender su razonamiento lo pueden incluir en el notebook, explotando Markdown.\n",
    "\n",
    "NOTA El máximo número de colaboradores es 2, cuyos nombres deben ser incluidos con claridad. Si usan ideas de cualquier fuente, favor de incluir la referencia apropiada."
   ]
  },
  {
   "cell_type": "markdown",
   "metadata": {},
   "source": [
    "### Introducción\n",
    "\n",
    "Una ecuación de segundo grado general tiene la siguiente forma:\n",
    "\n",
    "   $$f(x)=ax^2+bx+c$$\n",
    "   \n",
    "Una manera sencilla para encontrar las raíces, para este tipo de ecuación, es utilizando la fórmula cuadrática. Esta fórmula se expresa de la siguiente manera:\n",
    "\n",
    "$$x=\\frac{-b \\pm \\sqrt{b^{2}-4ac}}{2a}$$"
   ]
  },
  {
   "cell_type": "markdown",
   "metadata": {},
   "source": [
    "### Razonamiento\n",
    "\n",
    "Hay dos objetivos principales que se pretenden cumplir en este problema.\n",
    "\n",
    "**Objetivo 1:** La función debe devolver las raíces de la ecuación.\n",
    "Si la entrada **a** es igual a cero entonces la función se vuelve lineal, por lo que sólo tiene una raíz. Entonces la solución tiene la forma:\n",
    "\n",
    "$$x=-\\frac{c}{b}$$\n",
    "\n",
    "Si la entrada **a** es distinta de cero, se aplica la fórmula cuadrática tal como se expresa en la Introducción.\n",
    "\n",
    "**Objetivo 2:** La función debe ser estable según el tipo.\n",
    "Para este ejercició se desarrollan dos funciones. La primera función (*quadratic1*) sólo acepta entradas de tipo *Float64*, y la segunda función (*quadratic2*) sólo acepta entradas de tipo *Complex{Float64}*.\n",
    "\n",
    "Como se quiere que la sálida de la función *quadratic1* sea de tipo *Float64* entonces se debe asegurar que las raíces de la ecuación no sean complejas. Esto depende del discriminante, que debe ser mayor o igual a cero para obtener una salida de tipo *Float64*. En caso de que el discriminante sea menor que cero, se muestra un mensaje de error.\n",
    "\n",
    "Para la función *quadratic2*, la salida debe ser de tipo *Complex{Float64}*. Para esta función no es necesario aplicarle un condición al discriminante, lo que importa es que la salida esté expresada como un número complejo. "
   ]
  },
  {
   "cell_type": "code",
   "execution_count": 2,
   "metadata": {
    "collapsed": false
   },
   "outputs": [
    {
     "data": {
      "text/plain": [
       "quadratic1 (generic function with 1 method)"
      ]
     },
     "execution_count": 2,
     "metadata": {},
     "output_type": "execute_result"
    }
   ],
   "source": [
    "\"\"\"\n",
    "quadratic1(a,b,c)\n",
    "\n",
    "La función devuelve las raíces de la ecuación ax^2+bx+c. Las entradas que solo acepta son de tipo Float64,\n",
    "en cualquier otro caso, marca un error. El resultado final se calcula a partir de la fórmula cuadrática y la salida\n",
    "es de tipo Float64. Por tanto, el discriminante debe ser mayor que cero. En caso de que esta última condición no \n",
    "se cumpla, la función marca un error.\n",
    "\n",
    "\"\"\"\n",
    "\n",
    "function quadratic1(a::Float64,b::Float64,c::Float64)\n",
    "    if (a == 0.0) \n",
    "        x=-c/b\n",
    "        return x\n",
    "        \n",
    "        else    \n",
    "    (b^2 - 4*a*c >= 0) ? sq=sqrt(b^2 - 4*a*c) : error(\"El discriminante no debe ser menor que cero para que la función sea estable según el tipo.\")\n",
    "\n",
    "  ((-b - sq)/(2a), (-b + sq)/(2a))\n",
    "    end\n",
    "end"
   ]
  },
  {
   "cell_type": "markdown",
   "metadata": {},
   "source": [
    "Se realizan algunos ejemplos de la función *quadratic1*"
   ]
  },
  {
   "cell_type": "code",
   "execution_count": 38,
   "metadata": {
    "collapsed": false,
    "scrolled": false
   },
   "outputs": [
    {
     "ename": "LoadError",
     "evalue": "LoadError: MethodError: `quadratic1` has no method matching quadratic1(::Float64, ::Float64, ::Int64)\nClosest candidates are:\n  quadratic1(::Float64, ::Float64, !Matched::Float64)\nwhile loading In[38], in expression starting on line 1",
     "output_type": "error",
     "traceback": [
      "LoadError: MethodError: `quadratic1` has no method matching quadratic1(::Float64, ::Float64, ::Int64)\nClosest candidates are:\n  quadratic1(::Float64, ::Float64, !Matched::Float64)\nwhile loading In[38], in expression starting on line 1",
      ""
     ]
    }
   ],
   "source": [
    "quadratic1(1.0,5.0,3)"
   ]
  },
  {
   "cell_type": "markdown",
   "metadata": {},
   "source": [
    "Aparece un error ya que la entrada **c** no es de tipo *Float64*."
   ]
  },
  {
   "cell_type": "code",
   "execution_count": 40,
   "metadata": {
    "collapsed": false
   },
   "outputs": [
    {
     "ename": "LoadError",
     "evalue": "LoadError: El discriminante no debe ser menor que cero para que la función sea estable según el tipo.\nwhile loading In[40], in expression starting on line 1",
     "output_type": "error",
     "traceback": [
      "LoadError: El discriminante no debe ser menor que cero para que la función sea estable según el tipo.\nwhile loading In[40], in expression starting on line 1",
      "",
      " in quadratic1 at In[32]:7"
     ]
    }
   ],
   "source": [
    "quadratic1(2.3, 1.9, 3.0)"
   ]
  },
  {
   "cell_type": "markdown",
   "metadata": {},
   "source": [
    "Aparece un error porque el discriminate es menor que cero."
   ]
  },
  {
   "cell_type": "code",
   "execution_count": 41,
   "metadata": {
    "collapsed": false
   },
   "outputs": [
    {
     "data": {
      "text/plain": [
       "-2.6333333333333333"
      ]
     },
     "execution_count": 41,
     "metadata": {},
     "output_type": "execute_result"
    }
   ],
   "source": [
    "quadratic1(0.0,3.0,7.9)"
   ]
  },
  {
   "cell_type": "code",
   "execution_count": 43,
   "metadata": {
    "collapsed": false
   },
   "outputs": [
    {
     "data": {
      "text/plain": [
       "(-0.9132316359153204,-0.3220624817317385)"
      ]
     },
     "execution_count": 43,
     "metadata": {},
     "output_type": "execute_result"
    }
   ],
   "source": [
    "quadratic1(3.4,4.2,1.0)"
   ]
  },
  {
   "cell_type": "code",
   "execution_count": 46,
   "metadata": {
    "collapsed": false
   },
   "outputs": [
    {
     "data": {
      "text/plain": [
       "(-0.7129109430106292,0.9351331652328514)"
      ]
     },
     "execution_count": 46,
     "metadata": {},
     "output_type": "execute_result"
    }
   ],
   "source": [
    "quadratic1(4.5,-1.0,-3.0)"
   ]
  },
  {
   "cell_type": "code",
   "execution_count": 1,
   "metadata": {
    "collapsed": false,
    "scrolled": true
   },
   "outputs": [
    {
     "data": {
      "text/plain": [
       "quadratic2 (generic function with 1 method)"
      ]
     },
     "execution_count": 1,
     "metadata": {},
     "output_type": "execute_result"
    }
   ],
   "source": [
    "\"\"\"\n",
    "quadratic1(a,b,c)\n",
    "\n",
    "La función devuelve las raíces de la ecuación ax^2+bx+c. Las entradas que solo acepta son de tipo Complex{Float64},\n",
    "en cualquier otro caso, marca un error. El resultado final se calcula a partir de la fórmula cuadrática y es de tipo\n",
    "Complex{Float64}.\n",
    "\n",
    "\"\"\"\n",
    "\n",
    "function quadratic2(a::Complex{Float64},b::Complex{Float64},c::Complex{Float64})\n",
    "   if (a == 0.0) \n",
    "        x=-c/b\n",
    "        return x\n",
    "        \n",
    "        else \n",
    "  return (-b + sqrt(b^2 -4a*c + 0im)) / 2a, (-b - sqrt(b^2 -4a*c + 0im)) / 2a\n",
    "    end\n",
    "end"
   ]
  },
  {
   "cell_type": "code",
   "execution_count": 48,
   "metadata": {
    "collapsed": false
   },
   "outputs": [
    {
     "ename": "LoadError",
     "evalue": "LoadError: MethodError: `quadratic2` has no method matching quadratic2(::Float64, ::Float64, ::Complex{Float64})\nClosest candidates are:\n  quadratic2(!Matched::Complex{Float64}, !Matched::Complex{Float64}, ::Complex{Float64})\nwhile loading In[48], in expression starting on line 1",
     "output_type": "error",
     "traceback": [
      "LoadError: MethodError: `quadratic2` has no method matching quadratic2(::Float64, ::Float64, ::Complex{Float64})\nClosest candidates are:\n  quadratic2(!Matched::Complex{Float64}, !Matched::Complex{Float64}, ::Complex{Float64})\nwhile loading In[48], in expression starting on line 1",
      ""
     ]
    }
   ],
   "source": [
    "quadratic2(3.0,1.0,2.5+3.0im)"
   ]
  },
  {
   "cell_type": "markdown",
   "metadata": {},
   "source": [
    "Aparece un error porque las entradas **a** y **b** no son tipo *Complex{Float64}*"
   ]
  },
  {
   "cell_type": "code",
   "execution_count": 51,
   "metadata": {
    "collapsed": false
   },
   "outputs": [
    {
     "data": {
      "text/plain": [
       "(-0.2694947218473238 + 0.041590152135689396im,-0.08050527815267605 - 6.691590152135689im)"
      ]
     },
     "execution_count": 51,
     "metadata": {},
     "output_type": "execute_result"
    }
   ],
   "source": [
    "quadratic2(1.0-1.0im, 7.0+6.3im, 2.1+1.5im)"
   ]
  },
  {
   "cell_type": "code",
   "execution_count": 52,
   "metadata": {
    "collapsed": false
   },
   "outputs": [
    {
     "data": {
      "text/plain": [
       "-1.2949279899812145 + 1.0939261114589856im"
      ]
     },
     "execution_count": 52,
     "metadata": {},
     "output_type": "execute_result"
    }
   ],
   "source": [
    "quadratic2(0.0+0.0im,3.4+2.1im,6.7-1.0im)"
   ]
  },
  {
   "cell_type": "code",
   "execution_count": 3,
   "metadata": {
    "collapsed": false
   },
   "outputs": [
    {
     "name": "stdout",
     "output_type": "stream",
     "text": [
      "search: "
     ]
    },
    {
     "data": {
      "text/latex": [
       "quadratic1(a,b,c)\n",
       "La función devuelve las raíces de la ecuación ax\\^{}2+bx+c. Las entradas que solo acepta son de tipo Float64, en cualquier otro caso, marca un error. El resultado final se calcula a partir de la fórmula cuadrática y la salida es de tipo Float64. Por tanto, el discriminante debe ser mayor que cero. En caso de que esta última condición no  se cumpla, la función marca un error.\n"
      ],
      "text/markdown": [
       "quadratic1(a,b,c)\n",
       "\n",
       "La función devuelve las raíces de la ecuación ax^2+bx+c. Las entradas que solo acepta son de tipo Float64, en cualquier otro caso, marca un error. El resultado final se calcula a partir de la fórmula cuadrática y la salida es de tipo Float64. Por tanto, el discriminante debe ser mayor que cero. En caso de que esta última condición no  se cumpla, la función marca un error.\n"
      ],
      "text/plain": [
       "quadratic1(a,b,c)\n",
       "\n",
       "La función devuelve las raíces de la ecuación ax^2+bx+c. Las entradas que solo acepta son de tipo Float64, en cualquier otro caso, marca un error. El resultado final se calcula a partir de la fórmula cuadrática y la salida es de tipo Float64. Por tanto, el discriminante debe ser mayor que cero. En caso de que esta última condición no  se cumpla, la función marca un error.\n"
      ]
     },
     "execution_count": 3,
     "metadata": {},
     "output_type": "execute_result"
    },
    {
     "name": "stdout",
     "output_type": "stream",
     "text": [
      "quadratic1 quadratic2\n",
      "\n"
     ]
    }
   ],
   "source": [
    "? quadratic1"
   ]
  },
  {
   "cell_type": "code",
   "execution_count": 4,
   "metadata": {
    "collapsed": false
   },
   "outputs": [
    {
     "name": "stdout",
     "output_type": "stream",
     "text": [
      "search: "
     ]
    },
    {
     "data": {
      "text/latex": [
       "quadratic1(a,b,c)\n",
       "La función devuelve las raíces de la ecuación ax\\^{}2+bx+c. Las entradas que solo acepta son de tipo Complex\\{Float64\\}, en cualquier otro caso, marca un error. El resultado final se calcula a partir de la fórmula cuadrática y es de tipo Complex\\{Float64\\}.\n"
      ],
      "text/markdown": [
       "quadratic1(a,b,c)\n",
       "\n",
       "La función devuelve las raíces de la ecuación ax^2+bx+c. Las entradas que solo acepta son de tipo Complex{Float64}, en cualquier otro caso, marca un error. El resultado final se calcula a partir de la fórmula cuadrática y es de tipo Complex{Float64}.\n"
      ],
      "text/plain": [
       "quadratic1(a,b,c)\n",
       "\n",
       "La función devuelve las raíces de la ecuación ax^2+bx+c. Las entradas que solo acepta son de tipo Complex{Float64}, en cualquier otro caso, marca un error. El resultado final se calcula a partir de la fórmula cuadrática y es de tipo Complex{Float64}.\n"
      ]
     },
     "execution_count": 4,
     "metadata": {},
     "output_type": "execute_result"
    },
    {
     "name": "stdout",
     "output_type": "stream",
     "text": [
      "quadratic2 quadratic1\n",
      "\n"
     ]
    }
   ],
   "source": [
    "? quadratic2"
   ]
  },
  {
   "cell_type": "markdown",
   "metadata": {},
   "source": [
    "#### Referencias\n",
    "\n",
    "http://mth229.github.io/zeros.html\n"
   ]
  }
 ],
 "metadata": {
  "kernelspec": {
   "display_name": "Julia 0.4.3",
   "language": "julia",
   "name": "julia-0.4"
  },
  "language_info": {
   "file_extension": ".jl",
   "mimetype": "application/julia",
   "name": "julia",
   "version": "0.4.3"
  }
 },
 "nbformat": 4,
 "nbformat_minor": 0
}
