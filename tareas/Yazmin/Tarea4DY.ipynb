{
 "cells": [
  {
   "cell_type": "markdown",
   "metadata": {
    "slideshow": {
     "slide_type": "slide"
    }
   },
   "source": [
    "# Diferenciación automática (o algorítmica): Parte 1"
   ]
  },
  {
   "cell_type": "markdown",
   "metadata": {
    "slideshow": {
     "slide_type": "-"
    }
   },
   "source": [
    "### NOTA\n",
    "\n",
    "Este notebook se iniciará en la clase y **debe** hacerse en equipo de dos personas (máximo tres). La resolución completa de los ejercicios debe ser enviada como \"Tarea4.ipynb\"."
   ]
  },
  {
   "cell_type": "markdown",
   "metadata": {
    "slideshow": {
     "slide_type": "slide"
    }
   },
   "source": [
    "## Motivación"
   ]
  },
  {
   "cell_type": "markdown",
   "metadata": {
    "slideshow": {
     "slide_type": "-"
    }
   },
   "source": [
    "En el [notebook anterior](https://github.com/lbenet/2016-2_TSFisicaComputacional/blob/master/notas_clase/06_Derivacion_numerica.ipynb), vimos que hay diferentes formas de implementar la derivación de una función $f(x)$ en un punto $x_0$ y que éstas dependen de un parámetro $h$, que es la separación entre puntos cercanos. \n",
    "\n",
    "Vimos que el error absoluto en términos de $h$, cuando $h\\to 0$, tiene un comportamiento distinto, y que de hecho puede ser \"contaminado\" por errores de numéricos."
   ]
  },
  {
   "cell_type": "markdown",
   "metadata": {
    "slideshow": {
     "slide_type": "subslide"
    }
   },
   "source": [
    "Se obtuvo que:\n",
    "\n",
    "- La \"derivada derecha\" converge *linealmente* al $h\\to 0$ al valor correcto de la derivada, es decir, el error es proporcional a $\\mathcal{O}(h)$. Sin embargo, para valores *suficientemente* pequeños de $h$, el valor obtenido de la derivada deja de tener sentido ya que pierde exactitud.\n",
    "\n",
    "- La \"derivada simétrica\" converge *cuadráticamente*, es decir, el error escala como $\\mathcal{O}(h^2)$. Al igual que la derivada derecha, para $h$ suficientemente pequeña errores \"de cancelación\" debidos a la diferencia en la definición hacen que el resultado pierda sentido.\n",
    "\n",
    "- La definición de la \"derivada compleja\" también converge *cuadráticamente*; a diferencia de las dos definiciones anteriores *no* exhibe problemas al considerar valores de $h$ muy pequeños."
   ]
  },
  {
   "cell_type": "markdown",
   "metadata": {
    "slideshow": {
     "slide_type": "subslide"
    }
   },
   "source": [
    "Los puntos anteriores muestran que, la manera de implementar un algoritmo (concreto) cualquiera en la computadora es importante respecto a cuestiones de la convergencia y del manejo de errores numéricos. En este sentido, la \"derivada compleja\" da el resultado que más se acerca al exacto, incluso para valores de $h \\sim 10.^{-16}$."
   ]
  },
  {
   "cell_type": "markdown",
   "metadata": {
    "slideshow": {
     "slide_type": "fragment"
    }
   },
   "source": [
    "La pregunta es si podemos ir más allá y obtener el valor exacto, esto es, el que más se acerca al valor obtenido con números reales excepto por cuestiones de redondeo."
   ]
  },
  {
   "cell_type": "markdown",
   "metadata": {
    "slideshow": {
     "slide_type": "slide"
    }
   },
   "source": [
    "## Diferenciación automática (o algorítmica)"
   ]
  },
  {
   "cell_type": "markdown",
   "metadata": {},
   "source": [
    "Citando a [wikipedia](https://en.wikipedia.org/wiki/Automatic_differentiation): ``Automatic differentiation (AD), also called algorithmic differentiation or computational differentiation, is a set of techniques to numerically evaluate the derivative of a function specified by a computer program.''\n",
    "\n",
    "Diferenciación automática **no es** diferenciación numérica. Está basada en cálculos numéricos (evaluación de funciones por la computadora), pero **no** usa ninguna de las definiciones por diferencias finitas, como las que vimos la clase anterior."
   ]
  },
  {
   "cell_type": "markdown",
   "metadata": {
    "slideshow": {
     "slide_type": "subslide"
    }
   },
   "source": [
    "Para ilustrar su funcionamiento, empezaremos recordando cómo funcionan los números complejos: $z = a + \\mathrm{i} b$.\n",
    "\n",
    "Uno puede definir todas las operaciones aritméticas de la manera natural (a partir de los números reales), manteniendo las expresiones con $\\mathrm{i}$ factorizada; en el caso de la multiplicación y división, simplemente recordamos que $\\mathrm{i}^2=-1$."
   ]
  },
  {
   "cell_type": "markdown",
   "metadata": {
    "slideshow": {
     "slide_type": "fragment"
    }
   },
   "source": [
    "Por ejemplo, tenemos que, para $z = a + \\mathrm{i} b$ y $w = c + \\mathrm{i} d$\n",
    "\\begin{eqnarray*}\n",
    "z + w & = & (a + \\mathrm{i} b) + (c + \\mathrm{i} d) = a + c + \\mathrm{i}(b + d),\\\\\n",
    "z \\cdot w & = & (a + \\mathrm{i} b)\\cdot (c + \\mathrm{i} d) \\\\\n",
    "  & = & ac + \\mathrm{i} (ad+bc) + \\mathrm{i}^2 b d\n",
    " = ac - b d + \\mathrm{i} (ad+bc).\n",
    "\\end{eqnarray*}\n",
    "\n",
    "Por último, vale también la pena recordar que, $\\mathbb{C}$ es *isomorfo* a $\\mathbb{R}^2$, esto es, hay un mapeo biyectivo de $ z \\leftrightarrow (a, b)$."
   ]
  },
  {
   "cell_type": "markdown",
   "metadata": {
    "slideshow": {
     "slide_type": "subslide"
    }
   },
   "source": [
    "Volviendo a la cuestión de la diferenciación automática, la idea es introducir un par ordenado donde la primer\n",
    "componente es el valor de una función $f(x)$ evaluada en $x_0$, y la segunda es el valor de su derivada evaluada\n",
    "en el mismo punto. Esto es, definimos a los *duales* como:\n",
    "\n",
    "\\begin{equation}\n",
    "\\vec{f}(x_0) = \\big( f_0, f'_0\\big) = f_0 + \\hat{\\mathbf{x}}\\, f'_0,\n",
    "\\end{equation}\n",
    "\n",
    "donde $f_0 = f(x_0)$ y $f'_0=\\frac{d f}{d x}(x_0)$ y, en la segunda igualdad, $\\hat{\\mathbf{x}}$ sirve para indicar la segunda componente del par ordenado. (En un sentido que se precisará más adelante, $\\hat{\\mathbf{x}}$ se comporta de una manera semejante a $\\mathrm{i}$ para los números complejos, distinguiéndose en $\\hat{\\mathbf{x}}^2$.)"
   ]
  },
  {
   "cell_type": "markdown",
   "metadata": {
    "slideshow": {
     "slide_type": "subslide"
    }
   },
   "source": [
    "En particular, para la función constante $f(x)=c$ se cumple que el dual asociado es $\\vec{c}(x_0)=(c,0)$, y para la función identidad $f(x)=x$ obtenemos $\\vec{x}(x_0)=(x_0,1)$. Vale la pena aquí enfatizar que la función identidad es precisamente la variable independiente, respecto a la que se está derivando."
   ]
  },
  {
   "cell_type": "markdown",
   "metadata": {
    "slideshow": {
     "slide_type": "slide"
    }
   },
   "source": [
    "### Ejercicio\n",
    "\n",
    "Implementen una nueva estructura paramétrica (`type`) que defina los duales, donde el parámetro debe ser un subtipo de `Real` (ver la siguiente celda). La parte que identifica a $f_0$ será llamada `fun`, y la correspondiente a $f'_0$ será `der`.\n",
    "\n",
    "La definición debe incluir métodos que sean compatibles con las dos propiedades arriba mencionadas, es decir, que el dual de una constante (cualquier número real) sea $(c,0)$, y que el de la variable independiente sea $(x_0,1)$. Para lo segundo definiremos una función `xdual` con la propiedad mencionada."
   ]
  },
  {
   "cell_type": "code",
   "execution_count": 5,
   "metadata": {
    "collapsed": false
   },
   "outputs": [],
   "source": [
    "\"\"\"Definición de los duales, donde\n",
    "...\n",
    "\"\"\"\n",
    "type Dual{D <: Real}\n",
    "    fun::D\n",
    "    der::D\n",
    "    # código: \n",
    "end"
   ]
  },
  {
   "cell_type": "code",
   "execution_count": 6,
   "metadata": {
    "collapsed": false
   },
   "outputs": [
    {
     "data": {
      "text/plain": [
       "Dual{D<:Real}"
      ]
     },
     "execution_count": 6,
     "metadata": {},
     "output_type": "execute_result"
    }
   ],
   "source": [
    "# Definan un método que permita la promoción automática de las componentes, cuando no son del mismo tipo\n",
    "Dual(a,b)=Dual(promote(a,b)...)"
   ]
  },
  {
   "cell_type": "code",
   "execution_count": 7,
   "metadata": {
    "collapsed": false
   },
   "outputs": [
    {
     "data": {
      "text/plain": [
       "Dual{D<:Real}"
      ]
     },
     "execution_count": 7,
     "metadata": {},
     "output_type": "execute_result"
    }
   ],
   "source": [
    "# Aqui se define un método que garantiza que el dual de un número cumple lo requerido\n",
    "Dual(a)=Dual(a,0)"
   ]
  },
  {
   "cell_type": "code",
   "execution_count": 8,
   "metadata": {
    "collapsed": false
   },
   "outputs": [
    {
     "data": {
      "text/plain": [
       "Dual{Int64}(3,0)"
      ]
     },
     "execution_count": 8,
     "metadata": {},
     "output_type": "execute_result"
    }
   ],
   "source": [
    "Dual(3)"
   ]
  },
  {
   "cell_type": "code",
   "execution_count": 9,
   "metadata": {
    "collapsed": false
   },
   "outputs": [
    {
     "data": {
      "text/plain": [
       "xdual (generic function with 1 method)"
      ]
     },
     "execution_count": 9,
     "metadata": {},
     "output_type": "execute_result"
    }
   ],
   "source": [
    "# Aqui se define la función `xdual`, que se usará para identificar la variable independiente\n",
    "function xdual(x)\n",
    "    if typeof(x) <: Real\n",
    "        fun=x\n",
    "        der=1\n",
    "        return Dual(fun,der)\n",
    "    end   \n",
    "end"
   ]
  },
  {
   "cell_type": "code",
   "execution_count": 57,
   "metadata": {
    "collapsed": false,
    "scrolled": true
   },
   "outputs": [
    {
     "data": {
      "text/plain": [
       "Dual{Int64}(-5,1)"
      ]
     },
     "execution_count": 57,
     "metadata": {},
     "output_type": "execute_result"
    }
   ],
   "source": [
    "xdual(-5)"
   ]
  },
  {
   "cell_type": "code",
   "execution_count": 11,
   "metadata": {
    "collapsed": false,
    "slideshow": {
     "slide_type": "subslide"
    }
   },
   "outputs": [
    {
     "ename": "LoadError",
     "evalue": "LoadError: wrong number of arguments\nwhile loading In[11], in expression starting on line 6",
     "output_type": "error",
     "traceback": [
      "LoadError: wrong number of arguments\nwhile loading In[11], in expression starting on line 6",
      ""
     ]
    }
   ],
   "source": [
    "# Muestren que su código funciona con tests adecuados; para los detalles ver \n",
    "# http://julia.readthedocs.org/en/release-0.4/stdlib/test/\n",
    "using Base.Test\n",
    "\n",
    "# Aqui vienen varios tests de cada una de las funciones que implementaron\n",
    "@test # falta completar esto"
   ]
  },
  {
   "cell_type": "markdown",
   "metadata": {
    "slideshow": {
     "slide_type": "slide"
    }
   },
   "source": [
    "## Aritmética de duales"
   ]
  },
  {
   "cell_type": "markdown",
   "metadata": {},
   "source": [
    "De la definición, y recordando el significado de cada una de las componentes del par doble, tenemos que las operaciones aritméticas quedan definidas por:\n",
    "\n",
    "\\begin{eqnarray}\n",
    "    \\vec{u} \\pm \\vec{w} &=& \\big( u_0 \\pm w_0,\\, u'_0\\pm w'_0 \\big),\\\\\n",
    "    \\vec{u} \\times \\vec{w} &=& \\big( u_0 \\cdot w_0,\\, u_0 w'_0 +  w_0 u'_0 \\big),\\\\\n",
    "    \\frac{\\vec{u}}{\\vec{w}} &=& \\big( \\frac{u_0}{w_0},\\, \\frac{ u'_0 - (u_0/w_0)w'_0}{w_0}\\big),\\\\\n",
    "    {\\vec{u}}^\\alpha &=& \\big( u_0^\\alpha,\\, \\alpha u_0^{\\alpha-1} u'_0 \\big).\\\\\n",
    "\\end{eqnarray}    \n",
    "\n",
    "Además, están los operadores unitarios, que satisfacen:\n",
    "\\begin{equation}\n",
    "    \\pm \\vec{u} = \\big(\\pm u_0, \\pm u'_0 \\big).\n",
    "\\end{equation}    \n"
   ]
  },
  {
   "cell_type": "markdown",
   "metadata": {
    "slideshow": {
     "slide_type": "slide"
    }
   },
   "source": [
    "### Ejercicio\n",
    "\n",
    "Implementen *todas* las operaciones aritméticas. Incluyan tests que muestren que cada una de ellas está bien definida, y que sus resultados dan valores consistentes."
   ]
  },
  {
   "cell_type": "code",
   "execution_count": 12,
   "metadata": {
    "collapsed": false
   },
   "outputs": [
    {
     "name": "stdout",
     "output_type": "stream",
     "text": [
      "+\n",
      "begin  # In[12], line 7:\n",
      "    function +(a::Dual,b::Dual) # In[12], line 8:\n",
      "        xx = a.fun + b.fun # In[12], line 9:\n",
      "        yy = a.der + b.der # In[12], line 10:\n",
      "        return Dual(xx,yy)\n",
      "    end\n",
      "end\n",
      "-\n",
      "begin  # In[12], line 7:\n",
      "    function -(a::Dual,b::Dual) # In[12], line 8:\n",
      "        xx = a.fun - b.fun # In[12], line 9:\n",
      "        yy = a.der - b.der # In[12], line 10:\n",
      "        return Dual(xx,yy)\n",
      "    end\n",
      "end\n",
      "*\n",
      "begin  # In[12], line 20:\n",
      "    function *(a::Dual,b::Dual) # In[12], line 21:\n",
      "        xx = a.fun * b.fun # In[12], line 22:\n",
      "        yy = a.fun * b.der + a.der * b.fun # In[12], line 23:\n",
      "        return Dual(xx,yy)\n",
      "    end\n",
      "end\n",
      "/\n",
      "begin  # In[12], line 34:\n",
      "    function /(a::Dual,b::Dual) # In[12], line 35:\n",
      "        xx = a.fun / b.fun # In[12], line 36:\n",
      "        yy = (a.der - (a.fun / b.fun) * b.der) / b.fun # In[12], line 37:\n",
      "        return Dual(xx,yy)\n",
      "    end\n",
      "end\n",
      "^\n",
      "begin  # In[12], line 47:\n",
      "    function ^(a::Dual,b::Float64) # In[12], line 48:\n",
      "        xx = a.fun ^ b # In[12], line 49:\n",
      "        yy = b * a.fun ^ (b - 1) * a.der # In[12], line 50:\n",
      "        return Dual(xx,yy)\n",
      "    end\n",
      "end\n",
      "+\n"
     ]
    }
   ],
   "source": [
    "import Base: +, -, *, /, ^\n",
    "\n",
    "# Aqui se implementan los métodos necesarios para cada función\n",
    "for fn1 = (:+, :-)\n",
    "    println(fn1)\n",
    "    ex = quote\n",
    "        function ($fn1)(a::Dual, b::Dual)\n",
    "            xx = ($fn1)(a.fun, b.fun)\n",
    "            yy = ($fn1)(a.der, b.der)\n",
    "            return Dual(xx, yy)\n",
    "        end\n",
    "    end\n",
    "    println(ex)\n",
    "    @eval $ex\n",
    "end\n",
    "\n",
    "for fn2 in (:*,), fn3 in (:+,)\n",
    "    println(fn2)\n",
    "    ex = quote\n",
    "        function ($fn2)(a::Dual, b::Dual)\n",
    "            xx = ($fn2)(a.fun, b.fun)\n",
    "            yy = ($fn3)(($fn2)(a.fun, b.der),($fn2)(a.der, b.fun))\n",
    "            return Dual(xx, yy)\n",
    "        end\n",
    "    end\n",
    "    println(ex)\n",
    "    @eval $ex\n",
    "end\n",
    "\n",
    "\n",
    "for fn4 = (:/,), fn5 = (:*,), fn6 = (:-,)\n",
    "    println(fn4)\n",
    "    ex = quote\n",
    "        function ($fn4)(a::Dual, b::Dual)\n",
    "            xx = ($fn4)(a.fun, b.fun)\n",
    "            yy = ($fn4)(($fn6)(a.der, ($fn5)(($fn4)(a.fun,b.fun),b.der)),b.fun)\n",
    "            return Dual(xx, yy)\n",
    "        end\n",
    "    end\n",
    "    println(ex)\n",
    "    @eval $ex\n",
    "end\n",
    "\n",
    "for fn7 = (:^,), fn8 = (:*,)\n",
    "    println(fn7)\n",
    "    ex = quote\n",
    "        function ($fn7)(a::Dual, b::Float64)\n",
    "            xx = ($fn7)(a.fun, b)\n",
    "            yy = ($fn8)(b,($fn7)(a.fun,b-1),a.der)\n",
    "            return Dual(xx, yy)\n",
    "        end\n",
    "    end\n",
    "    println(ex)\n",
    "    @eval $ex\n",
    "end\n",
    "\n",
    "for fn9 = (:+, :-)\n",
    "    println(fn9)\n",
    "    ex = quote\n",
    "        function ($fn9)(a::Dual)\n",
    "            xx = ($fn9)(a.fun)\n",
    "            yy = ($fn9)(a.der)\n",
    "            return Dual(xx, yy)\n",
    "        end\n",
    "    end\n",
    "    println(ex)\n",
    "    @eval $ex\n",
    "end"
   ]
  },
  {
   "cell_type": "code",
   "execution_count": 118,
   "metadata": {
    "collapsed": false
   },
   "outputs": [
    {
     "data": {
      "text/plain": [
       "/ (generic function with 51 methods)"
      ]
     },
     "execution_count": 118,
     "metadata": {},
     "output_type": "execute_result"
    }
   ],
   "source": [
    "#Aqui definimos lo que hace falta para la multiplicación y division de un número con un dual, y la suma y resta \n",
    "#con numeros reales.\n",
    "function *(a::Real,b::Dual)\n",
    "    Dual(a)*b\n",
    "end\n",
    "\n",
    "function *(a::Dual,b::Real)\n",
    "    return b*a\n",
    "end\n",
    "\n",
    "#Para la suma y la resta, al derivar una constante esta se hace cero por lo que la segunda entrada no debe cambiar.\n",
    "function +(a::Real,b::Dual)\n",
    "    Dual(a)+b\n",
    "end\n",
    "\n",
    "function +(a::Dual,b::Real)\n",
    "    return b+a\n",
    "end\n",
    "\n",
    "function -(a::Real,b::Dual)\n",
    "    Dual(a)-b\n",
    "end\n",
    "\n",
    "function -(a::Dual,b::Real)\n",
    "    return a-Dual(b)\n",
    "end\n",
    "\n",
    "#La división\n",
    "function /(a::Dual,b::Real)\n",
    "    a/Dual(b)\n",
    "end\n",
    "\n",
    "function /(a::Real,b::Dual)\n",
    "    Dual(a)/b\n",
    "end\n",
    "    "
   ]
  },
  {
   "cell_type": "code",
   "execution_count": 119,
   "metadata": {
    "collapsed": false,
    "slideshow": {
     "slide_type": "subslide"
    }
   },
   "outputs": [
    {
     "data": {
      "text/plain": [
       "Dual{Float64}(1.0,2.5)"
      ]
     },
     "execution_count": 119,
     "metadata": {},
     "output_type": "execute_result"
    }
   ],
   "source": [
    "# Aqui se incluyen las pruebas necesarias\n",
    "Dual(3.0,3)-Dual(2,0.5)"
   ]
  },
  {
   "cell_type": "code",
   "execution_count": 120,
   "metadata": {
    "collapsed": false
   },
   "outputs": [
    {
     "data": {
      "text/plain": [
       "Dual{Int64}(2,11)"
      ]
     },
     "execution_count": 120,
     "metadata": {},
     "output_type": "execute_result"
    }
   ],
   "source": [
    "Dual(1,3)*Dual(2,5)"
   ]
  },
  {
   "cell_type": "code",
   "execution_count": 121,
   "metadata": {
    "collapsed": false
   },
   "outputs": [
    {
     "data": {
      "text/plain": [
       "Dual{Float64}(0.5,0.0)"
      ]
     },
     "execution_count": 121,
     "metadata": {},
     "output_type": "execute_result"
    }
   ],
   "source": [
    "Dual(2,1)/Dual(4,2)"
   ]
  },
  {
   "cell_type": "code",
   "execution_count": 122,
   "metadata": {
    "collapsed": false,
    "scrolled": true
   },
   "outputs": [
    {
     "data": {
      "text/plain": [
       "Dual{Int64}(4,12)"
      ]
     },
     "execution_count": 122,
     "metadata": {},
     "output_type": "execute_result"
    }
   ],
   "source": [
    "Dual(2,3)^2"
   ]
  },
  {
   "cell_type": "code",
   "execution_count": 123,
   "metadata": {
    "collapsed": false
   },
   "outputs": [
    {
     "data": {
      "text/plain": [
       "Dual{Int64}(3,-4)"
      ]
     },
     "execution_count": 123,
     "metadata": {},
     "output_type": "execute_result"
    }
   ],
   "source": [
    "Dual(3,-4)"
   ]
  },
  {
   "cell_type": "code",
   "execution_count": 124,
   "metadata": {
    "collapsed": false
   },
   "outputs": [
    {
     "data": {
      "text/plain": [
       "Dual{Int64}(4,2)"
      ]
     },
     "execution_count": 124,
     "metadata": {},
     "output_type": "execute_result"
    }
   ],
   "source": [
    "Dual(3,2)+1"
   ]
  },
  {
   "cell_type": "code",
   "execution_count": 125,
   "metadata": {
    "collapsed": false
   },
   "outputs": [
    {
     "data": {
      "text/plain": [
       "Dual{Int64}(4,2)"
      ]
     },
     "execution_count": 125,
     "metadata": {},
     "output_type": "execute_result"
    }
   ],
   "source": [
    "1+Dual(3,2)"
   ]
  },
  {
   "cell_type": "markdown",
   "metadata": {
    "slideshow": {
     "slide_type": "slide"
    }
   },
   "source": [
    "Ahora probaremos la infraestructura que han desarrollado hasta ahora. En particular, usaremos la misma función que se\n",
    "utilizón en la clase anterior:\n",
    "\n",
    "\\begin{equation}\n",
    "    f_\\textrm{test}(x) = 3x^3 - 2,\n",
    "\\end{equation}\n",
    "\n",
    "y la idea es calcular la derivada en $x_0=1$."
   ]
  },
  {
   "cell_type": "code",
   "execution_count": 126,
   "metadata": {
    "collapsed": false
   },
   "outputs": [
    {
     "data": {
      "text/plain": [
       "f_test (generic function with 1 method)"
      ]
     },
     "execution_count": 126,
     "metadata": {},
     "output_type": "execute_result"
    }
   ],
   "source": [
    "f_test(x) = 3*x^3 - 2"
   ]
  },
  {
   "cell_type": "code",
   "execution_count": 127,
   "metadata": {
    "collapsed": false
   },
   "outputs": [
    {
     "data": {
      "text/plain": [
       "Dual{Int64}(1,9)"
      ]
     },
     "execution_count": 127,
     "metadata": {},
     "output_type": "execute_result"
    }
   ],
   "source": [
    "f_test(xdual(1))"
   ]
  },
  {
   "cell_type": "code",
   "execution_count": 128,
   "metadata": {
    "collapsed": true
   },
   "outputs": [],
   "source": [
    "# Del resultado anterior, obtengan el valor de la derivada"
   ]
  },
  {
   "cell_type": "markdown",
   "metadata": {
    "slideshow": {
     "slide_type": "slide"
    }
   },
   "source": [
    "Consideremos otra función racional:\n",
    "\n",
    "$$\n",
    "g_\\textrm{test}(x) = (3x^2-8x+5)/(7x^3-1)\n",
    "$$\n",
    "\n",
    "cuya derivada queremos calcular en $x_0=1$. Según [WolframAlpha](http://www.wolframalpha.com/input/?i=D%5B+%283x%5E2-8x%2B5%29%2F%287x%5E3-1%29+%2C+x+%5D+%2F.+x-%3E+1), el resultado exacto es $-1/3$.\n"
   ]
  },
  {
   "cell_type": "code",
   "execution_count": 129,
   "metadata": {
    "collapsed": false
   },
   "outputs": [
    {
     "data": {
      "text/plain": [
       "gtest (generic function with 1 method)"
      ]
     },
     "execution_count": 129,
     "metadata": {},
     "output_type": "execute_result"
    }
   ],
   "source": [
    "gtest(x) = (3x^2-8x+5)/(7x^3-1)"
   ]
  },
  {
   "cell_type": "code",
   "execution_count": 130,
   "metadata": {
    "collapsed": false
   },
   "outputs": [
    {
     "data": {
      "text/plain": [
       "Dual{Float64}(0.0,-0.3333333333333333)"
      ]
     },
     "execution_count": 130,
     "metadata": {},
     "output_type": "execute_result"
    }
   ],
   "source": [
    "gtest( xdual(1) )"
   ]
  },
  {
   "cell_type": "markdown",
   "metadata": {
    "slideshow": {
     "slide_type": "subslide"
    }
   },
   "source": [
    "El resultado anterior es la representación en números de punto flotante de $-1/3$. La pregunta es si podemos obtener\n",
    "el resultado exacto."
   ]
  },
  {
   "cell_type": "code",
   "execution_count": 131,
   "metadata": {
    "collapsed": true
   },
   "outputs": [],
   "source": [
    "# Evalúen `gtest` de manera que el resultado sea el exacto\n",
    "\n"
   ]
  },
  {
   "cell_type": "markdown",
   "metadata": {
    "slideshow": {
     "slide_type": "slide"
    }
   },
   "source": [
    "Para entender cómo funciona esto, evaluaremos explícitamente y paso a paso $g_\\textrm{test}(x)$ en $\\vec{x_0} = (1,1)$:"
   ]
  },
  {
   "cell_type": "markdown",
   "metadata": {
    "slideshow": {
     "slide_type": "subslide"
    }
   },
   "source": [
    "\\begin{equation}\n",
    "\\vec{g_\\textrm{test}}(\\vec{x}) = \\frac{\\vec{3}\\cdot{\\vec{x}}^2-\\vec{8}\\cdot\\vec{x}+\\vec{5}}{\\vec{7}\\cdot{\\vec{x}}^3-\\vec{1}}\n",
    "\\end{equation}\n"
   ]
  },
  {
   "cell_type": "markdown",
   "metadata": {
    "slideshow": {
     "slide_type": "subslide"
    }
   },
   "source": [
    "\\begin{eqnarray}\n",
    "\\vec{g_\\textrm{test}}(\\vec{x}) & = & \n",
    "\\frac{(3,0)\\cdot{(1,1)}^2-(8,0)\\cdot(1,1)+(5,0)}{(7,0)\\cdot{(1,1)}^3-(1,0)}\\\\\n",
    "& = & \\frac{(3,0)\\cdot(1,2)-(8,0)\\cdot(1,1)+(5,0)}{(7,0)\\cdot(1,3)-(1,0)}\n",
    "\\end{eqnarray}\n"
   ]
  },
  {
   "cell_type": "markdown",
   "metadata": {
    "slideshow": {
     "slide_type": "subslide"
    }
   },
   "source": [
    "\\begin{equation}\n",
    "\\vec{g_\\textrm{test}}(\\vec{x}) = \n",
    "\\frac{ (3,6)-(8,1)+(5,0)}{(7,21)-(1,0)} = \\frac{ \\Big(3-8+5, 6-8\\Big)}{\\Big( 7-1,21\\Big)} = \n",
    "\\frac{ \\Big(0, -2\\Big)}{\\Big( 6,21\\Big)} \n",
    "\\end{equation}"
   ]
  },
  {
   "cell_type": "markdown",
   "metadata": {
    "slideshow": {
     "slide_type": "subslide"
    }
   },
   "source": [
    "\\begin{equation}\n",
    "\\vec{g_\\textrm{test}}(\\vec{x}) = \\Big(\\frac{0}{6}, \\frac{(-2)-21\\cdot(0/6)}{6} \\Big) = \n",
    "\\Big(0, -\\frac{1}{3}\\Big). \\Box\n",
    "\\end{equation}\n"
   ]
  },
  {
   "cell_type": "markdown",
   "metadata": {
    "slideshow": {
     "slide_type": "slide"
    }
   },
   "source": [
    "## Modulos y \"runtests.jl\" en julia"
   ]
  },
  {
   "cell_type": "markdown",
   "metadata": {},
   "source": [
    "### Ejercicio\n",
    "\n",
    "Para reutilizar el código que han hecho en este notebook, y de hecho seguirlo desarrollando, conviene ponerlo dentro de un módulo. Para hacer esto, deberán copiar todo el código necesario (y que aparece en la resolución de los ejercicios anteriores) en un archivo coyo nombre será \"AutomDiff.jl\" y cuya estructura es:\n",
    "\n",
    "```julia\n",
    "# Aqui viene una explicación de lo que se hace en el módulo, los autores y la fecha\n",
    "\n",
    "# La siguiente instrucción sirve para *precompilar* el módulo\n",
    "__precompile__(true)\n",
    "\n",
    "module AD\n",
    "    import Base: +, -, *, /, ^\n",
    "    \n",
    "    export Dual, xdual\n",
    "    \n",
    "    # Aqui viene TODO el código que implementaron\n",
    "\n",
    "end\n",
    "```\n",
    "\n",
    "Todas las pruebas deberán ser incluídas en un archivo llamado \"runtest.jl\", y su estructura es:\n",
    "\n",
    "```julia\n",
    "# Este archivo incluye los tests del módulo AD\n",
    "\n",
    "using Base.test\n",
    "using AD\n",
    "\n",
    "# A continuación vienen los tests que implementaron y que deben ser suficientemente exhaustivos\n",
    "\n",
    "\n",
    "```\n",
    "\n",
    "Estos dos archivos deben incluirlos en el envío de su tarea."
   ]
  },
  {
   "cell_type": "code",
   "execution_count": 132,
   "metadata": {
    "collapsed": true
   },
   "outputs": [],
   "source": [
    "#Aqui trabajaremos en lo que es formalmente la tarea 5, el problema es por no haber definido los modulos con anterioridad."
   ]
  },
  {
   "cell_type": "code",
   "execution_count": 133,
   "metadata": {
    "collapsed": true
   },
   "outputs": [],
   "source": [
    "import Base: exp, log, sin, cos, tan, sinh, cosh, tanh"
   ]
  },
  {
   "cell_type": "code",
   "execution_count": 134,
   "metadata": {
    "collapsed": false
   },
   "outputs": [
    {
     "data": {
      "text/plain": [
       "tanh (generic function with 14 methods)"
      ]
     },
     "execution_count": 134,
     "metadata": {},
     "output_type": "execute_result"
    }
   ],
   "source": [
    "function exp(a::Dual)\n",
    "    xx = exp(a.fun)\n",
    "    yy = exp(a.fun)*a.der\n",
    "    return Dual(xx,yy)\n",
    "end\n",
    "\n",
    "function log(a::Dual)\n",
    "    xx = log(a.fun)\n",
    "    yy = a.der/a.fun\n",
    "    return Dual(xx,yy)\n",
    "end\n",
    "\n",
    "function sin(a::Dual)\n",
    "    xx = sin(a.fun)\n",
    "    yy = cos(a.fun)*a.der\n",
    "    return Dual(xx,yy)\n",
    "end\n",
    "\n",
    "function cos(a::Dual)\n",
    "    xx = cos(a.fun)\n",
    "    yy = -sin(a.fun)*a.der\n",
    "    return Dual(xx,yy)\n",
    "end\n",
    "\n",
    "function tan(a::Dual)\n",
    "    xx = tan(a.fun)\n",
    "    yy = sec(a.fun)^2*a.der\n",
    "    return Dual(xx,yy)\n",
    "end\n",
    "\n",
    "function sinh(a::Dual)\n",
    "    xx = sinh(a.fun)\n",
    "    yy = cosh(a.fun)*a.der\n",
    "    return Dual(xx,yy)\n",
    "end\n",
    "\n",
    "function cosh(a::Dual)\n",
    "    xx = cosh(a.fun)\n",
    "    yy = sinh(a.fun)*a.der\n",
    "    return Dual(xx,yy)\n",
    "end\n",
    "\n",
    "function tanh(a::Dual)\n",
    "    xx = tanh(a.fun)\n",
    "    yy = sech(a.fun)^2*a.der\n",
    "    \n",
    "    return Dual(xx,yy)\n",
    "end\n"
   ]
  },
  {
   "cell_type": "code",
   "execution_count": 135,
   "metadata": {
    "collapsed": false
   },
   "outputs": [
    {
     "data": {
      "text/plain": [
       "Dual{Float64}(2.718281828459045,24.464536456131405)"
      ]
     },
     "execution_count": 135,
     "metadata": {},
     "output_type": "execute_result"
    }
   ],
   "source": [
    "exp(f_test(xdual(1)))"
   ]
  },
  {
   "cell_type": "code",
   "execution_count": 136,
   "metadata": {
    "collapsed": false
   },
   "outputs": [
    {
     "data": {
      "text/plain": [
       "(0.36787944117144233,3.310914970542981)"
      ]
     },
     "execution_count": 136,
     "metadata": {},
     "output_type": "execute_result"
    }
   ],
   "source": [
    "exp(-1),exp(-1)*9"
   ]
  },
  {
   "cell_type": "code",
   "execution_count": 137,
   "metadata": {
    "collapsed": false
   },
   "outputs": [
    {
     "data": {
      "text/plain": [
       "Dual{Float64}(0.0,9.0)"
      ]
     },
     "execution_count": 137,
     "metadata": {},
     "output_type": "execute_result"
    }
   ],
   "source": [
    "log(f_test(xdual(1)))"
   ]
  },
  {
   "cell_type": "code",
   "execution_count": 138,
   "metadata": {
    "collapsed": false
   },
   "outputs": [
    {
     "data": {
      "text/plain": [
       "0.0"
      ]
     },
     "execution_count": 138,
     "metadata": {},
     "output_type": "execute_result"
    }
   ],
   "source": [
    "log(1)"
   ]
  },
  {
   "cell_type": "code",
   "execution_count": 139,
   "metadata": {
    "collapsed": false
   },
   "outputs": [
    {
     "data": {
      "text/plain": [
       "Dual{Int64}(1,9)"
      ]
     },
     "execution_count": 139,
     "metadata": {},
     "output_type": "execute_result"
    }
   ],
   "source": [
    "f_test(xdual(1))"
   ]
  },
  {
   "cell_type": "code",
   "execution_count": 140,
   "metadata": {
    "collapsed": false
   },
   "outputs": [
    {
     "data": {
      "text/plain": [
       "Dual{Float64}(0.5403023058681398,-7.573238863271069)"
      ]
     },
     "execution_count": 140,
     "metadata": {},
     "output_type": "execute_result"
    }
   ],
   "source": [
    "cos(f_test(xdual(1)))"
   ]
  },
  {
   "cell_type": "code",
   "execution_count": 141,
   "metadata": {
    "collapsed": false
   },
   "outputs": [
    {
     "data": {
      "text/plain": [
       "(0.5403023058681398,-7.573238863271069)"
      ]
     },
     "execution_count": 141,
     "metadata": {},
     "output_type": "execute_result"
    }
   ],
   "source": [
    "cos(1),-sin(1)*9"
   ]
  },
  {
   "cell_type": "code",
   "execution_count": 142,
   "metadata": {
    "collapsed": false
   },
   "outputs": [
    {
     "data": {
      "text/plain": [
       "Dual{Float64}(0.8414709848078965,4.862720752813258)"
      ]
     },
     "execution_count": 142,
     "metadata": {},
     "output_type": "execute_result"
    }
   ],
   "source": [
    "sin(f_test(xdual(1)))"
   ]
  },
  {
   "cell_type": "code",
   "execution_count": 143,
   "metadata": {
    "collapsed": false
   },
   "outputs": [
    {
     "data": {
      "text/plain": [
       "(0.8414709848078965,4.862720752813258)"
      ]
     },
     "execution_count": 143,
     "metadata": {},
     "output_type": "execute_result"
    }
   ],
   "source": [
    "sin(1),cos(1)*9"
   ]
  },
  {
   "cell_type": "code",
   "execution_count": 144,
   "metadata": {
    "collapsed": false
   },
   "outputs": [
    {
     "data": {
      "text/plain": [
       "Dual{Float64}(1.5574077246549023,30.82966938733283)"
      ]
     },
     "execution_count": 144,
     "metadata": {},
     "output_type": "execute_result"
    }
   ],
   "source": [
    "tan(f_test(xdual(1)))"
   ]
  },
  {
   "cell_type": "code",
   "execution_count": 145,
   "metadata": {
    "collapsed": false
   },
   "outputs": [
    {
     "data": {
      "text/plain": [
       "(1.5574077246549023,30.82966938733283)"
      ]
     },
     "execution_count": 145,
     "metadata": {},
     "output_type": "execute_result"
    }
   ],
   "source": [
    "tan(1),sec(1)^2*9"
   ]
  },
  {
   "cell_type": "code",
   "execution_count": 146,
   "metadata": {
    "collapsed": false
   },
   "outputs": [
    {
     "data": {
      "text/plain": [
       "Dual{Float64}(1.1752011936438014,13.887725713337193)"
      ]
     },
     "execution_count": 146,
     "metadata": {},
     "output_type": "execute_result"
    }
   ],
   "source": [
    "sinh(f_test(xdual(1)))"
   ]
  },
  {
   "cell_type": "code",
   "execution_count": 147,
   "metadata": {
    "collapsed": false
   },
   "outputs": [
    {
     "data": {
      "text/plain": [
       "(1.1752011936438014,13.887725713337193)"
      ]
     },
     "execution_count": 147,
     "metadata": {},
     "output_type": "execute_result"
    }
   ],
   "source": [
    "sinh(1),cosh(1)*9"
   ]
  },
  {
   "cell_type": "code",
   "execution_count": 148,
   "metadata": {
    "collapsed": false
   },
   "outputs": [
    {
     "data": {
      "text/plain": [
       "Dual{Float64}(1.5430806348152437,10.576810742794212)"
      ]
     },
     "execution_count": 148,
     "metadata": {},
     "output_type": "execute_result"
    }
   ],
   "source": [
    "cosh(f_test(xdual(1)))"
   ]
  },
  {
   "cell_type": "code",
   "execution_count": 149,
   "metadata": {
    "collapsed": false
   },
   "outputs": [
    {
     "data": {
      "text/plain": [
       "(1.5430806348152437,10.576810742794212)"
      ]
     },
     "execution_count": 149,
     "metadata": {},
     "output_type": "execute_result"
    }
   ],
   "source": [
    "cosh(1),sinh(1)*9"
   ]
  },
  {
   "cell_type": "code",
   "execution_count": 150,
   "metadata": {
    "collapsed": false
   },
   "outputs": [
    {
     "data": {
      "text/plain": [
       "Dual{Float64}(0.7615941559557649,3.7797690745262353)"
      ]
     },
     "execution_count": 150,
     "metadata": {},
     "output_type": "execute_result"
    }
   ],
   "source": [
    "tanh(f_test(xdual(1)))"
   ]
  },
  {
   "cell_type": "code",
   "execution_count": 151,
   "metadata": {
    "collapsed": false
   },
   "outputs": [
    {
     "data": {
      "text/plain": [
       "(0.7615941559557649,3.7797690745262353)"
      ]
     },
     "execution_count": 151,
     "metadata": {},
     "output_type": "execute_result"
    }
   ],
   "source": [
    "tanh(1),sech(1)^2*9"
   ]
  },
  {
   "cell_type": "markdown",
   "metadata": {},
   "source": [
    "## Ejercicio\n",
    "\n",
    "Prueben su implementación calculando la derivada de $f(x) = \\sin\\Big(x^3 - \\frac{2}{x^6}\\Big)$\n",
    "en $x_0 = 2$.\n",
    "\n",
    "Dibujen, para $x_0 \\in [1,5]$ la función $f'(x)$."
   ]
  },
  {
   "cell_type": "code",
   "execution_count": 152,
   "metadata": {
    "collapsed": false
   },
   "outputs": [
    {
     "data": {
      "text/plain": [
       "f1 (generic function with 1 method)"
      ]
     },
     "execution_count": 152,
     "metadata": {},
     "output_type": "execute_result"
    }
   ],
   "source": [
    "function f(x)\n",
    "    sin(x^3-2/x^6)\n",
    "end\n",
    "\n",
    "function f1(x)\n",
    "    cos(x^3-2/x^6)*(3*x^2+12/x^7)\n",
    "end"
   ]
  },
  {
   "cell_type": "code",
   "execution_count": 158,
   "metadata": {
    "collapsed": false
   },
   "outputs": [
    {
     "data": {
      "text/plain": [
       "Dual{Float64}(0.9934213368955197,-1.384934905523464)"
      ]
     },
     "execution_count": 158,
     "metadata": {},
     "output_type": "execute_result"
    }
   ],
   "source": [
    "f(xdual(2))"
   ]
  },
  {
   "cell_type": "code",
   "execution_count": 160,
   "metadata": {
    "collapsed": false
   },
   "outputs": [
    {
     "data": {
      "text/plain": [
       "(0.9934213368955197,-1.384934905523464)"
      ]
     },
     "execution_count": 160,
     "metadata": {},
     "output_type": "execute_result"
    }
   ],
   "source": [
    "f(2),f1(2)"
   ]
  },
  {
   "cell_type": "code",
   "execution_count": 154,
   "metadata": {
    "collapsed": false
   },
   "outputs": [
    {
     "data": {
      "text/plain": [
       "h (generic function with 1 method)"
      ]
     },
     "execution_count": 154,
     "metadata": {},
     "output_type": "execute_result"
    }
   ],
   "source": [
    "function h(x)\n",
    "    x^3-2/x^6\n",
    "end"
   ]
  },
  {
   "cell_type": "code",
   "execution_count": 155,
   "metadata": {
    "collapsed": false
   },
   "outputs": [
    {
     "data": {
      "text/plain": [
       "Dual{Float64}(-1.0,15.0)"
      ]
     },
     "execution_count": 155,
     "metadata": {},
     "output_type": "execute_result"
    }
   ],
   "source": [
    "h(xdual(1))"
   ]
  },
  {
   "cell_type": "code",
   "execution_count": 156,
   "metadata": {
    "collapsed": false
   },
   "outputs": [
    {
     "data": {
      "text/plain": [
       "Dual{Float64}(2.0,20.0)"
      ]
     },
     "execution_count": 156,
     "metadata": {},
     "output_type": "execute_result"
    }
   ],
   "source": [
    "2/Dual(1,-10)"
   ]
  },
  {
   "cell_type": "code",
   "execution_count": 164,
   "metadata": {
    "collapsed": false
   },
   "outputs": [],
   "source": [
    "using PyPlot"
   ]
  },
  {
   "cell_type": "code",
   "execution_count": 189,
   "metadata": {
    "collapsed": false
   },
   "outputs": [],
   "source": [
    "x = linspace(1,5,10000)\n",
    "f1ex=similar(x)\n",
    "f1nu=similar(x)\n",
    "fex=similar(x)\n",
    "fnu=similar(x)\n",
    "\n",
    "for (i,a) in enumerate(x)\n",
    "    f1ex[i] = f1(a)\n",
    "    f1nu[i] = f(xdual(a)).der\n",
    "    fex[i] = f(a)\n",
    "    fnu[i] = f(xdual(a)).fun\n",
    "end"
   ]
  },
  {
   "cell_type": "code",
   "execution_count": 190,
   "metadata": {
    "collapsed": false
   },
   "outputs": [
    {
     "data": {
      "text/plain": [
       "10000-element Array{Float64,1}:\n",
       "  0.0        \n",
       " -1.77636e-15\n",
       " -3.55271e-15\n",
       " -8.88178e-15\n",
       "  3.55271e-15\n",
       " -5.32907e-15\n",
       " -1.77636e-15\n",
       "  3.55271e-15\n",
       "  0.0        \n",
       "  5.32907e-15\n",
       "  0.0        \n",
       " -1.77636e-15\n",
       "  0.0        \n",
       "  ⋮          \n",
       "  8.88178e-13\n",
       "  8.73968e-13\n",
       "  0.0        \n",
       "  0.0        \n",
       "  0.0        \n",
       "  0.0        \n",
       "  0.0        \n",
       " -7.60281e-13\n",
       "  0.0        \n",
       "  0.0        \n",
       "  6.82121e-13\n",
       "  0.0        "
      ]
     },
     "execution_count": 190,
     "metadata": {},
     "output_type": "execute_result"
    }
   ],
   "source": [
    "f1ex-f1nu"
   ]
  },
  {
   "cell_type": "code",
   "execution_count": 194,
   "metadata": {
    "collapsed": false
   },
   "outputs": [
    {
     "data": {
      "image/png": "[encoded data removed]",
      "text/plain": [
       "PyPlot.Figure(PyObject <matplotlib.figure.Figure object at 0x7f20af12afd0>)"
      ]
     },
     "metadata": {},
     "output_type": "display_data"
    },
    {
     "data": {
      "text/plain": [
       "1-element Array{Any,1}:\n",
       " PyObject <matplotlib.lines.Line2D object at 0x7f20aeec0550>"
      ]
     },
     "execution_count": 194,
     "metadata": {},
     "output_type": "execute_result"
    }
   ],
   "source": [
    "plot(x,f1ex)\n",
    "plot(x,f1nu)\n",
    "plot(x,fnu)"
   ]
  },
  {
   "cell_type": "code",
   "execution_count": 206,
   "metadata": {
    "collapsed": false
   },
   "outputs": [
    {
     "data": {
      "text/plain": [
       "newton1D (generic function with 2 methods)"
      ]
     },
     "execution_count": 206,
     "metadata": {},
     "output_type": "execute_result"
    }
   ],
   "source": [
    "function newton1D(f::Function,x0::Real,n::Int64)\n",
    "    for i in 1:n\n",
    "        a = f(xdual(x0))\n",
    "        x0 = x0 - a.fun/a.der\n",
    "    end\n",
    "    return x0\n",
    "end"
   ]
  },
  {
   "cell_type": "code",
   "execution_count": 207,
   "metadata": {
    "collapsed": false
   },
   "outputs": [
    {
     "data": {
      "text/plain": [
       "1.4686492099827628e-162"
      ]
     },
     "execution_count": 207,
     "metadata": {},
     "output_type": "execute_result"
    }
   ],
   "source": [
    "newton1D(x->x^2,0.1,1000)"
   ]
  },
  {
   "cell_type": "code",
   "execution_count": 213,
   "metadata": {
    "collapsed": false
   },
   "outputs": [
    {
     "data": {
      "text/plain": [
       "-10.995574287564276"
      ]
     },
     "execution_count": 213,
     "metadata": {},
     "output_type": "execute_result"
    }
   ],
   "source": [
    "newton1D(x->x*sin(2x),1.0,1000)"
   ]
  },
  {
   "cell_type": "code",
   "execution_count": 223,
   "metadata": {
    "collapsed": false
   },
   "outputs": [
    {
     "data": {
      "text/plain": [
       "Wilkinson6 (generic function with 1 method)"
      ]
     },
     "execution_count": 223,
     "metadata": {},
     "output_type": "execute_result"
    }
   ],
   "source": [
    "function Wilkinson6(x)\n",
    "    return (x-6)*(x-5)*(x-4)*(x-3)*(x-2)*(x-1)\n",
    "end"
   ]
  },
  {
   "cell_type": "code",
   "execution_count": 225,
   "metadata": {
    "collapsed": false
   },
   "outputs": [
    {
     "data": {
      "text/plain": [
       "3.6771840000000027"
      ]
     },
     "execution_count": 225,
     "metadata": {},
     "output_type": "execute_result"
    }
   ],
   "source": [
    "Wilkinson6(2.2)"
   ]
  },
  {
   "cell_type": "code",
   "execution_count": 229,
   "metadata": {
    "collapsed": false
   },
   "outputs": [
    {
     "data": {
      "text/plain": [
       "2.0"
      ]
     },
     "execution_count": 229,
     "metadata": {},
     "output_type": "execute_result"
    }
   ],
   "source": [
    "newton1D(x->Wilkinson6(x),2.2,10)"
   ]
  },
  {
   "cell_type": "code",
   "execution_count": 230,
   "metadata": {
    "collapsed": false
   },
   "outputs": [
    {
     "data": {
      "text/plain": [
       "6.0"
      ]
     },
     "execution_count": 230,
     "metadata": {},
     "output_type": "execute_result"
    }
   ],
   "source": [
    "newton1D(x->Wilkinson6(x),2.45,10)"
   ]
  },
  {
   "cell_type": "code",
   "execution_count": null,
   "metadata": {
    "collapsed": true
   },
   "outputs": [],
   "source": []
  }
 ],
 "metadata": {
  "kernelspec": {
   "display_name": "Julia 0.4.2",
   "language": "julia",
   "name": "julia-0.4"
  },
  "language_info": {
   "file_extension": ".jl",
   "mimetype": "application/julia",
   "name": "julia",
   "version": "0.4.2"
  }
 },
 "nbformat": 4,
 "nbformat_minor": 0
}
