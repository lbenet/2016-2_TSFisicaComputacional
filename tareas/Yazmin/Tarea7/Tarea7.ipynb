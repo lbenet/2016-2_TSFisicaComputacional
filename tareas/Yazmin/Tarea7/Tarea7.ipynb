{
 "cells": [
  {
   "cell_type": "markdown",
   "metadata": {
    "slideshow": {
     "slide_type": "slide"
    }
   },
   "source": [
    "# Integración por Taylor"
   ]
  },
  {
   "cell_type": "markdown",
   "metadata": {
    "slideshow": {
     "slide_type": "-"
    }
   },
   "source": [
    "Aquí veremos un ejemplo sencillo de cómo integrar usando el método de Tayor en un problema de valor inicial, o sea, para una ecuación diferencial ordinaria con una condición inicial."
   ]
  },
  {
   "cell_type": "markdown",
   "metadata": {
    "slideshow": {
     "slide_type": "subslide"
    }
   },
   "source": [
    "El punto de partida, y *absolutamente importante* en todo lo que sigue, es el [Teorema Fundamental de las Ecuaciones Diferenciales Ordinarias](https://en.wikipedia.org/wiki/Picard%E2%80%93Lindel%C3%B6f_theorem), (o teorema de existencia y unicidad de las EDOs):\n",
    "\n",
    "#### Teorema\n",
    "\n",
    "Consideren el problema de valores iniciales $y'(t)=f(t,y(t)),\\ y(t_0)=y_0$. Suponemos que $f(t,y)$ es Lipschitz uniformemente continua en $y$ (lo que significa que hay una constante, independiente de $t$, que acota $f$ para todo intervalo de su dominio) y continua en $t$. Entonces, para algún valor $\\varepsilon > 0$ existe una solución única $y(t)$ al problema de valor inicial en el intervalo $[t_0-\\varepsilon, t_0+\\varepsilon]$.\n",
    "\n",
    "**Importante:** El teorema establece la existencia y unicidad de la solución en un intervalo de $t$ en torno al valor $t_0$ que especifica la condición inicial. Esto, sin embargo, **no** implica que la solución exista para todo tiempo $t>t_0$."
   ]
  },
  {
   "cell_type": "markdown",
   "metadata": {
    "slideshow": {
     "slide_type": "slide"
    }
   },
   "source": [
    "## Un ejemplo sencillo"
   ]
  },
  {
   "cell_type": "markdown",
   "metadata": {
    "slideshow": {
     "slide_type": "-"
    }
   },
   "source": [
    "El método de Taylor lo describiremos a través de un ejemplo. Concretamente, ilustraremos como integrar la ecuación diferencial\n",
    "\n",
    "\\begin{equation}\n",
    "\\dot{x} = f(x) = x^2,\n",
    "\\end{equation}\n",
    "\n",
    "con $x(0) = 3$."
   ]
  },
  {
   "cell_type": "markdown",
   "metadata": {
    "slideshow": {
     "slide_type": "subslide"
    }
   },
   "source": [
    "Antes de describir el método, vale la pena notar que esta ecuación la podemos resolver analíticamente. La solución, como se puede comprobar rápidamente es\n",
    "\n",
    "\\begin{equation}\n",
    "x(t) = \\frac{3}{1-3t}.\n",
    "\\end{equation}\n",
    "\n",
    "Esta solución muestra que $x(t)\\to\\infty$ cuando $t\\to 1/3$; esto es un ejemplo de que la solución $x(t)$ **no existe** para $t>1/3$. \n"
   ]
  },
  {
   "cell_type": "markdown",
   "metadata": {
    "slideshow": {
     "slide_type": "fragment"
    }
   },
   "source": [
    "El punto importante de este comentario es que, sin importar el método de integración, si hiciéramos una integración \"larga\" usando un *paso de integración constante* (o sea, a partir de $x(t_k)$ obtenemos $x(t_{k+1})$, con $t_{k+1} = t_0 + (k+1)\\delta t = t_k + \\delta t$), el método continuará la integración más allá de $t=1/3$, que es hasta donde tiene sentido la solución, a menos de que tengamos la buena fortuna de caer exactamente en $t_n=1$. Esto es una *advertencia* de que uno debe ser extremandamente cuidadoso si considera pasos de integración constantes. \n",
    "\n",
    "Sin embargo, si tenemos un método de integración con paso adaptativo, hay esperanza de que este problema no ocurra.\n"
   ]
  },
  {
   "cell_type": "markdown",
   "metadata": {
    "slideshow": {
     "slide_type": "subslide"
    }
   },
   "source": [
    "La idea del método de Taylor es construir una solución (local en $t$) que aproxime muy bien la solución de la ecuación diferencial en alguna vecindad del punto inicial $t_0$. En particular, escribimos el polinomios (en torno a $t_0$), esto es\n",
    "\n",
    "\\begin{equation}\n",
    "x(t) = \\sum_{k=0}^\\infty x_{[k]}(t_0)\\, (t-t_0)^k,\n",
    "\\end{equation}\n",
    "\n",
    "donde $x_{[k]}(t_0)$ es el coeficiente de Taylor de orden $k$. Esta solución cumple la condición inicial imponiendo $x_{[0]}(t_0) = x_0$. \n",
    "Excepto por $x_{[0]}(t_0)$, el resto de los coeficientes del desarrollo son por determinar, cosa que haremos iterativamente. \n",
    "\n",
    "Empezaremos considerando que $p$ es infinito, o sea, construiremos la solución analítica; después entraremos en las sutilezas de tener aproximaciones de orden finito."
   ]
  },
  {
   "cell_type": "markdown",
   "metadata": {
    "slideshow": {
     "slide_type": "subslide"
    }
   },
   "source": [
    "### Solución a primer orden"
   ]
  },
  {
   "cell_type": "markdown",
   "metadata": {
    "slideshow": {
     "slide_type": "-"
    }
   },
   "source": [
    "Escribimos, como aproximación de primer orden a la solución en la forma $x(t) = x_0 + x{[1]}(t_0)\\, (t-t_0) + \\mathcal{O}((t-t_0)^2)$, y queremos obtener el valor de $x_{[1]}(t_0)$. De aquí, tenemos que $\\dot{x} = x{[1]}+ \\mathcal{O}((t-t_0))$, y sustituyendo en ambos lados de la ecuación diferencial obtenemos\n",
    "\n",
    "\\begin{eqnarray}\n",
    "x{[1]} + \\mathcal{O}((t-t_0)) & = & \\big[x_0 + x{[1]}(t_0)\\, (t-t_0) + \\mathcal{O}((t-t_0)^2)\\big]^2 \\\\\n",
    "& = & x_0^2 + \\mathcal{O}((t-t_0)).\n",
    "\\end{eqnarray}\n",
    "\n",
    "De aquí concluimos que $x_{[1]}=x_0^2$.\n",
    "\n",
    "Es importante notar que **no** necesitamos hacer el cálculo explícito del cuadrado de todo el polinomio; *únicamente* calculamos (y usamos) el término de orden cero en el lado derecho de la ecuación."
   ]
  },
  {
   "cell_type": "markdown",
   "metadata": {
    "slideshow": {
     "slide_type": "subslide"
    }
   },
   "source": [
    "### Solución a segundo orden y órdenes mayores"
   ]
  },
  {
   "cell_type": "markdown",
   "metadata": {},
   "source": [
    "Para la aproximación a segundo orden escribimos $x(t) = x_0 + x_0^2 (t-t_0) + x{[2]}(t-t_0)^2+\\mathcal{O}((t-t_0)^3)$, donde queremos obtener $x_{[2]}(t_0)$. En este caso, la derivada es $\\dot{x} = x_0^2 + x_{[2]}(t_0)\\,(t-t_0) + \\mathcal{O}((t-t_0)^2)$, y sustituyendo nuevamente en la ecuación diferencial obtenemos\n",
    "\n",
    "\\begin{eqnarray}\n",
    "x_0^2 + 2 x_{[2]}(t_0)\\,(t-t_0) + \\mathcal{O}((t-t_0)^2) & = & \\big[x_0 + x_0^2 (t-t_0) + x{[2]}(t-t_0)^2+\\mathcal{O}((t-t_0)^3)\\big]^2 \\\\\n",
    "& = & x_0^2 + 2 x_0^3 (t-t_0) + \\mathcal{O}((t-t_0)^2).\n",
    "\\end{eqnarray}\n",
    "\n",
    "De aquí obtenemos $x_{[2]}(t_0) = x_0^3$. Nuevamente, vale la pena enfatizar que el lado derecho de la ecuación sólo se calcula a primer orden."
   ]
  },
  {
   "cell_type": "markdown",
   "metadata": {
    "slideshow": {
     "slide_type": "subslide"
    }
   },
   "source": [
    "Para órdenes más altos, uno continua de igual manera: $x(t) = x_0 + x_0^2 (t-t_0) + x_0^3 (t-t_0)^2+ x{[3]}(t-t_0)^3+\\mathcal{O}((t-t_0)^4)$, y al derivar y substituir $x^2$, se obtiene $x{[3]}(t_0)=x_0^4$. Y así se continua sucesivamente.\n",
    "\n",
    "Finalmente, se obtiene que\n",
    "\n",
    "\\begin{eqnarray}\n",
    "x(t) & = & x_0 + x_0^2 (t-t_0) + x_0^3 (t-t_0)^2 + x_0^4 (t-t_0)^3 + \\dots \\\\\n",
    "     & = & x_0 \\big(1 + x_0 (t-t_0) + x_0^2 (t-t_0)^2 + \\dots\\big) = \\frac{x_0}{1-x_0(t-t_0)},\\\\\n",
    "\\end{eqnarray}\n",
    "\n",
    "donde $t$ está limitado por $t - t_0 = 1/x_0$. Esto coincide con el resultado analítico que se espera.\n",
    "\n",
    "Vale la pena notar que, para que la serie converja absolutamente, se requiere que los términos sucesivos satisfagan ($t>t_0$)\n",
    "\n",
    "\\begin{equation}\n",
    "\\Big | \\frac{ x_{[n]}(t_0)\\, (t-t_0)^n }{x_{[n+1]}(t_0)\\, (t-t_0)^{n+1}}\\Big| = \\frac{1}{|x_0|(t-t_0)} < 1,\n",
    "\\end{equation}\n",
    "\n",
    "lo que define el radio de convergencia en $t$ de la serie."
   ]
  },
  {
   "cell_type": "markdown",
   "metadata": {
    "slideshow": {
     "slide_type": "subslide"
    }
   },
   "source": [
    "## El método de Taylor"
   ]
  },
  {
   "cell_type": "markdown",
   "metadata": {},
   "source": [
    "### Relaciones de recurrencia de los coeficientes de Taylor"
   ]
  },
  {
   "cell_type": "markdown",
   "metadata": {
    "slideshow": {
     "slide_type": "-"
    }
   },
   "source": [
    "En general, para la ecuación diferencial $\\dot{x} = f(x(t))$ con $x_0=x(t_0)$, uno puede demostrar que los coeficientes $x_{[k]}$ están dados por\n",
    "\n",
    "\\begin{equation}\n",
    "x_{[k]} = \\frac{f_{[k-1]}}{k},\n",
    "\\end{equation}\n",
    "\n",
    "donde los coeficientes $f_{[k']}$ son los coeficientes del desarrollo en serie de Taylor en $t-t_0$ de $f(x(t))$. Esta es una relación de recurrencia para $x_{[k]}$. Es claro que, dado que el lado derecho de la ecuación anterior involucra los coeficientes $f_{[k']}$, uno debe implementar funciones que permitan calcular dichos coeficientes."
   ]
  },
  {
   "cell_type": "markdown",
   "metadata": {
    "slideshow": {
     "slide_type": "slide"
    }
   },
   "source": [
    "### Paso de integración"
   ]
  },
  {
   "cell_type": "markdown",
   "metadata": {
    "collapsed": true
   },
   "source": [
    "Claramente, lo descrito más arriba no se puede implementar en la computadora. Es decir, estamos obligados a truncar el polinomio de Taylor en un grado $p$ (finito). Formalmente,  escribimos\n",
    "\n",
    "\\begin{equation}\n",
    "x(t) = \\sum_{k=0}^p x_{[k]}(t_0)\\, (t-t_0)^k + \\mathcal{R}_p ,\n",
    "\\end{equation}\n",
    "\n",
    "donde el *residuo* está dado por\n",
    "\n",
    "\\begin{equation}\n",
    "\\mathcal{R}_p = x_{[p+1]}(\\xi)\\, (t-t_0)^{p+1},\n",
    "\\end{equation}\n",
    " y $\\xi \\in [t_0, t]$."
   ]
  },
  {
   "cell_type": "markdown",
   "metadata": {
    "slideshow": {
     "slide_type": "subslide"
    }
   },
   "source": [
    "Queremos, entonces, truncar la serie en un $p$ finito, pero suficientemente grande de tal manera que el residuo sea pequeño."
   ]
  },
  {
   "cell_type": "markdown",
   "metadata": {
    "slideshow": {
     "slide_type": "fragment"
    }
   },
   "source": [
    "¿Dónde truncamos? En general esto sólo lo podemos contestar si podemos conocer el residuo (en términos de $p$), cosa que no es sencilla. \n",
    "\n",
    "Es por esto que uno *usa* las propiedades de convergencia de la serie de Taylor para $x(t)$, para $p$ *suficientemente* grande. Si $p$ es suficientemente grande, entonces las correcciones sucesivas serán cada vez menores, ya que la serie es convergente. "
   ]
  },
  {
   "cell_type": "markdown",
   "metadata": {
    "slideshow": {
     "slide_type": "subslide"
    }
   },
   "source": [
    "En particular, para $p$ suficientemente grande tendremos\n",
    "\n",
    "\\begin{equation}\n",
    "\\big| \\, x_{[p]}(t_0)\\, (t-t_0)^p \\, \\big| \\leq \\epsilon,\n",
    "\\end{equation}\n",
    "\n",
    "donde $\\epsilon$ es una cota, *suficientemente pequeña*, para *todos* los términos sucesivos.\n",
    "\n",
    "De aquí obtenemos una cota para el paso de integración $h=t-t_0$,\n",
    "\n",
    "\\begin{equation}\n",
    "h = t-t_0 \\leq \\Big(\\frac{\\epsilon}{\\big| x_{[p]}(t_0)\\big|}\\Big)^{1/p}.\n",
    "\\end{equation}\n",
    "\n",
    "Uno elige $\\epsilon$ para que sea mucho menor que el epsilon de la máquina. \n",
    "\n",
    "El paso de integración obtenido depende de $t_0$; por lo tanto, al hacer la evolución temporal, distintos pasos de integración se irán calculando, por lo que el paso de integración en general no será constante."
   ]
  },
  {
   "cell_type": "markdown",
   "metadata": {
    "slideshow": {
     "slide_type": "subslide"
    }
   },
   "source": [
    "Algo importante que vale la pena hacer notar es que, fijando $h$ de tal manera que se garantiza la convergencia de la serie, la serie de Taylor se aplica a todo valor de $t$ tal que $t_0 \\leq t \\leq t_0 + h$."
   ]
  },
  {
   "cell_type": "markdown",
   "metadata": {
    "slideshow": {
     "slide_type": "subslide"
    }
   },
   "source": [
    "En la práctica, y dado que normalmente uno lidia con ecuaciones de segundo orden, uno considera el menor de los pasos de integración obtenidos a partir de los dos últimos términos de la serie de Taylor.\n",
    "\n",
    "Es *importante* enfatizar que este procedimiento sólo funciona cuando el orden $p$ es suficientemente grande, de tal manera que estamos entrados en la cola convergente de la serie. "
   ]
  },
  {
   "cell_type": "markdown",
   "metadata": {
    "slideshow": {
     "slide_type": "slide"
    }
   },
   "source": [
    "### Sumando la serie"
   ]
  },
  {
   "cell_type": "markdown",
   "metadata": {
    "slideshow": {
     "slide_type": "-"
    }
   },
   "source": [
    "Una vez que tenemos el paso de integración $h$, queremos sumar la serie para obtener $x(t_1)$ con $t_1 = t_0+h$. Para esto, simplemente debemos sumar la serie\n",
    "\n",
    "\\begin{equation}\n",
    "x(t_1) = x(t_0+h) = \\sum_{k=0}^p x_{[k]}(t_0)\\, h^k.\n",
    "\\end{equation}\n",
    "\n",
    "Numéricamente, la mejor manera de hacer esto es usando [el método de Horner](https://en.wikipedia.org/wiki/Horner%27s_method). El método de Horner consiste en factorizar de manera apropiada el polinomio, el cual sólo se evalúa a través de productos y sumas (¡sin potencias!). Esto permite, por un lado, minimizar el número de operaciones, y en el caso de series de Taylor de orden suficientemente grande para estar en la cola convergente, considerar correctamente los términos pequeños."
   ]
  },
  {
   "cell_type": "markdown",
   "metadata": {
    "slideshow": {
     "slide_type": "subslide"
    }
   },
   "source": [
    "Reescribiendo la serie tenemos\n",
    "\n",
    "\\begin{eqnarray}\n",
    "x(t_1) & = & x_0 + x_{[1]} \\, h + \\dots + x_{[p-1]} \\,h^{p-1} + x_{[p]} \\, h^p\\\\\n",
    "& = & x_0 + x_{[1]} \\, h + \\dots + h^{p-1} ( x_{[p-1]} + h x_{[p]} )\\\\\n",
    "& = & x_0 + x_{[1]} \\, h + \\dots + h^{p-2} ( x_{[p-2]} + h ( x_{[p-1]} + h x_{[p]} ) )\\\\\n",
    "& = & x_0 + h\\big( x_{[1]} + h(... + h ( x_{[p-1]} + h x_{[p]} )...\\big).\n",
    "\\end{eqnarray}\n",
    "\n",
    "Entonces, consideramos primero (para la suma) el término $x_{[p]}$ y $x_{[p]}$, a partir de los cuales construimos $\\tilde{x}_{p-1} = x_{[p-1]} + h x_{[p]}$, y usando $\\tilde{x}_{p-1}$ obtenemos $\\tilde{x}_{p-2} = x_{[p-2]} + h \\tilde{x}_{p-1}$, y así sucesivamente hasta tener $\\tilde{x}_0=x(t_1)$, que es el resultado buscado.\n",
    "\n",
    "Una vez que hemos obtenido $x(t_1)$, uno utiliza este valor como la nueva condición inicial, y simplemente se iteran los pasos anteriores hasta obtener $x(t_2)$."
   ]
  },
  {
   "cell_type": "markdown",
   "metadata": {
    "slideshow": {
     "slide_type": "slide"
    }
   },
   "source": [
    "## Tarea 7"
   ]
  },
  {
   "cell_type": "markdown",
   "metadata": {
    "slideshow": {
     "slide_type": "-"
    }
   },
   "source": [
    "**NOTA** El contenido de este ejercicio se incluirá en la \"Tarea7.ipynb\". Nuevamente, esta tarea deberá ser elaborada en equipos."
   ]
  },
  {
   "cell_type": "markdown",
   "metadata": {
    "slideshow": {
     "slide_type": "subslide"
    }
   },
   "source": [
    "### Ejercicio"
   ]
  },
  {
   "cell_type": "markdown",
   "metadata": {
    "slideshow": {
     "slide_type": "-"
    }
   },
   "source": [
    "Usando su implementación de polinomios de Taylor, escriban un integrador para la ecuación diferencial que se desarrolló en este ejemplo, esto es, con la condición inicial $x(0) = 3$. \n",
    "\n",
    "El integrador debe hacer las operaciones necesarias para obtener automáticamente los coeficientes $x_{[k]}$, *en cada paso de integración*, a partir de la condición inicial local. Un requisito básico para esto es que tengan una implementación de la función $P_\\alpha(x) = [g(x)]^\\alpha$ con $g(x)$ un polinomio, que obtuvieron en la \"Tarea6\", y que funcione bien en particular para `alpha::Int`."
   ]
  },
  {
   "cell_type": "markdown",
   "metadata": {
    "slideshow": {
     "slide_type": "fragment"
    }
   },
   "source": [
    "La implementación debe consistir de varias funciones: \n",
    "\n",
    "- Una función donde se calculen los coeficientes $x_{[k]}(t_0)$ de la expansión. Esta función deberá llamar a otra donde se implementan las ecuaciones de movimiento.\n",
    "\n",
    "- Una función donde se obtenga el paso de integración $h$.\n",
    "\n",
    "- Otra función donde se haga la suma por el método de Horner.\n",
    "\n",
    "- Finalmente, una función que use las funciones anteriores para hacer la integración desde un tiempo inicial a uno final. En este punto, *fingiremos ignorancia*, en el sentido que el tiempo inicial es cero, y el tiempo final será $0.5$ (que está más allá de donde hay problemas).\n"
   ]
  },
  {
   "cell_type": "code",
   "execution_count": 113,
   "metadata": {
    "collapsed": false
   },
   "outputs": [
    {
     "ename": "LoadError",
     "evalue": "LoadError: invalid redefinition of constant Taylor\nwhile loading In[113], in expression starting on line 442",
     "output_type": "error",
     "traceback": [
      "LoadError: invalid redefinition of constant Taylor\nwhile loading In[113], in expression starting on line 442",
      ""
     ]
    }
   ],
   "source": [
    "\"\"\"Definición de polinomios de Taylor, donde las entradas del tipo son los coeficientes normalizados de Taylor \n",
    "de una función dada alrededor de un mismo punto.\n",
    "...\n",
    "\"\"\"\n",
    "type Taylor{D<:Number}\n",
    "    coef :: Array{D,1}\n",
    "    order :: Int\n",
    "    \n",
    "    #Definimos una función que manipule el orden de un polinomio de taylor\n",
    "    function Taylor(coef :: Array{D,1}, order :: Int)\n",
    "        l = length(coef) #Definimos la longitud del Taylor\n",
    "        order = max(order,l-1) #Vemos que valor es más grande\n",
    "        order == l-1 && return new(coef, order) #si el arreglo era mas grande que el orden dado, genera uno nuevo\n",
    "        resize!(coef, order+1) #cambia la longitud del arreglo a order+1 (empieza a contar en 1 y el orden en 0)\n",
    "        for i = l+1:order+1 #Agrega los ceros necesarios para completar el taylor\n",
    "            coef[i]=zero(D)\n",
    "        end\n",
    "        new(coef, order) #Regresa el nuevo Taylor\n",
    "    end\n",
    "    \n",
    "end\n",
    "\n",
    "Taylor{D<:Number}(x::Taylor{D}, order::Int) = Taylor{D}(x.coef, order) # El taylor de un taylor es si mismo\n",
    "Taylor{D<:Number}(x::Taylor{D}) = x #lo mismo que arriba pero sin especificar el orden\n",
    "Taylor{D<:Number}(coef::Array{D,1}, order::Int) = Taylor{D}(coef, order) # Permite generar taylors a partir de un arreglo y un orden\n",
    "Taylor{D<:Number}(coef::Array{D,1}) = Taylor{D}(coef, length(coef)-1) # Lo mismo pero sin especificar el orden\n",
    "Taylor{D<:Number}(x::D, order::Int) = Taylor{D}([x], order) # Taylor de una constante con orden definido\n",
    "Taylor{D<:Number}(x::D) = Taylor{D}([x], 0) #Taylor de una constante"
   ]
  },
  {
   "cell_type": "code",
   "execution_count": 114,
   "metadata": {
    "collapsed": false
   },
   "outputs": [
    {
     "data": {
      "text/plain": [
       "Taylor{D<:Number}"
      ]
     },
     "execution_count": 114,
     "metadata": {},
     "output_type": "execute_result"
    }
   ],
   "source": [
    "Taylor(a)=Taylor(promote(a)...)"
   ]
  },
  {
   "cell_type": "code",
   "execution_count": 115,
   "metadata": {
    "collapsed": false
   },
   "outputs": [
    {
     "data": {
      "text/plain": [
       "== (generic function with 131 methods)"
      ]
     },
     "execution_count": 115,
     "metadata": {},
     "output_type": "execute_result"
    }
   ],
   "source": [
    "import Base: +, -, *, /, ==\n",
    "# Aqui se implementan los métodos necesarios para cada función\n",
    "\n",
    "#Definimos con el mínimo para no tener que agregar ceros. De por sí por como definimos Taylor manualmente puedes especificar \n",
    "# el orden necesario.\n",
    "function +(a::Taylor,b::Taylor)\n",
    "    m = minimum([a.order,b.order])+1\n",
    "    c = zeros(m)\n",
    "    for k in range(1,m)\n",
    "        c[k]=a.coef[k]+b.coef[k]\n",
    "    end\n",
    "    return Taylor(c)\n",
    "end\n",
    "\n",
    "function -(a::Taylor,b::Taylor)\n",
    "    m = minimum([a.order,b.order])+1\n",
    "    c = zeros(m)\n",
    "    for k in range(1,m)\n",
    "        c[k]=a.coef[k]-b.coef[k]\n",
    "    end\n",
    "    return Taylor(c)\n",
    "end\n",
    "\n",
    "function *(a::Taylor,b::Taylor)\n",
    "    m = minimum([a.order,b.order])+1\n",
    "    c = zeros(m)\n",
    "    for k in range(1,m)\n",
    "        for i in range(1,k)\n",
    "            c[k]+=a.coef[i]*b.coef[k-i+1]\n",
    "        end\n",
    "    end\n",
    "    return Taylor(c)\n",
    "end\n",
    "\n",
    "function /(a::Taylor,b::Taylor)\n",
    "    m = minimum([a.order,b.order])+1\n",
    "    c = zeros(m)\n",
    "    for k in range(1,m)\n",
    "        s = 0\n",
    "        for i in range(1,k-1)\n",
    "            s += c[i]*b.coef[k-i+1]\n",
    "        end\n",
    "        c[k] = (a.coef[k]-s)/b.coef[1]\n",
    "    end\n",
    "    return Taylor(c)\n",
    "end\n",
    "\n",
    "function /(a::Taylor,b::Taylor)\n",
    "    l=0\n",
    "    for k in range(1,b.order+1)\n",
    "        if b.coef[k] != 0\n",
    "            l=k\n",
    "            break\n",
    "        end\n",
    "    end\n",
    "    n = maximum([a.order+1,l])\n",
    "    m = minimum([b.order+1,n])\n",
    "    c = zeros(m)\n",
    "    a = Taylor(a.coef,m)\n",
    "    b = Taylor(b.coef,m)\n",
    "    for k in range(1,m)\n",
    "        s = 0\n",
    "        for i in range(1,k-l)\n",
    "            s += c[i]*b.coef[k-i+1]\n",
    "        end\n",
    "        c[k] = (a.coef[k]-s)/b.coef[l]\n",
    "    end\n",
    "    return Taylor(c)\n",
    "end\n",
    "\n",
    "function ==(a::Taylor,b::Taylor)\n",
    "    m = maximum([a.order,b.order])\n",
    "    #Agregamos ceros\n",
    "    a = Taylor(a.coef,m)\n",
    "    b = Taylor(b.coef,m)\n",
    "    for k in range(1,m+1)\n",
    "        if a.coef[k] != b.coef[k]\n",
    "            return false\n",
    "        end\n",
    "    end\n",
    "    return true\n",
    "end\n"
   ]
  },
  {
   "cell_type": "code",
   "execution_count": 116,
   "metadata": {
    "collapsed": false
   },
   "outputs": [
    {
     "data": {
      "text/plain": [
       "taypot (generic function with 1 method)"
      ]
     },
     "execution_count": 116,
     "metadata": {},
     "output_type": "execute_result"
    }
   ],
   "source": [
    "function taypot(α,a::Taylor)\n",
    "    m = (a.order+1)\n",
    "    P = zeros(m)\n",
    "    d0 = 0\n",
    "    for k in range(1,a.order+1)\n",
    "        if a.coef[k] != 0\n",
    "            d0=k\n",
    "            break\n",
    "        end\n",
    "    end\n",
    "    P[1] = a.coef[1]^α\n",
    "    for r in range(1,m-1)\n",
    "        s1 = 0\n",
    "        for j in range(1,r)\n",
    "            s1 += (r-j+1)*a.coef[r-j+2]*P[j]\n",
    "        end\n",
    "        s2 = 0\n",
    "        for i in range(1,r-d0)\n",
    "            s2 += (i)*P[i+1]*a.coef[r-i+1]\n",
    "        end\n",
    "        P[r+1] = (α*s1-s2)/((r)*a.coef[d0])\n",
    "    end\n",
    "    return Taylor(P)\n",
    "end    "
   ]
  },
  {
   "cell_type": "code",
   "execution_count": 117,
   "metadata": {
    "collapsed": true
   },
   "outputs": [],
   "source": [
    "using PyPlot"
   ]
  },
  {
   "cell_type": "code",
   "execution_count": 118,
   "metadata": {
    "collapsed": false
   },
   "outputs": [
    {
     "data": {
      "text/plain": [
       "0"
      ]
     },
     "execution_count": 118,
     "metadata": {},
     "output_type": "execute_result"
    }
   ],
   "source": [
    "p=20\n",
    "t0=0\n",
    "x0=3\n",
    "x=zeros(p+1)\n",
    "t=zeros(p+1)\n",
    "x[1]=x0\n",
    "t[1]=t0"
   ]
  },
  {
   "cell_type": "code",
   "execution_count": 119,
   "metadata": {
    "collapsed": false
   },
   "outputs": [],
   "source": [
    "f(x) = x^2\n",
    "\n",
    "for i in range(1,p)\n",
    "    Tx=Taylor(x)\n",
    "    Tp=taypot(2,Tx)\n",
    "    x[i+1]=Tp.coef[i]/i\n",
    "end\n",
    "x;\n",
    "\n"
   ]
  },
  {
   "cell_type": "code",
   "execution_count": 120,
   "metadata": {
    "collapsed": false
   },
   "outputs": [
    {
     "data": {
      "text/plain": [
       "h_find (generic function with 1 method)"
      ]
     },
     "execution_count": 120,
     "metadata": {},
     "output_type": "execute_result"
    }
   ],
   "source": [
    "#Encontremos el valor de h\n",
    "function h_find(x::Array,p::Int)\n",
    "    h1 = (1/2)*(eps(1.0)/abs(x[p+1]))^(1/p)\n",
    "    h2 = (1/2)*(eps(1.0)/abs(x[p]))^(1/(p-1))\n",
    "    if h1 - h2 >= 0\n",
    "        return h2\n",
    "    else\n",
    "        return h1\n",
    "    end\n",
    "end"
   ]
  },
  {
   "cell_type": "code",
   "execution_count": 121,
   "metadata": {
    "collapsed": false
   },
   "outputs": [
    {
     "data": {
      "text/plain": [
       "0.023597475157335113"
      ]
     },
     "execution_count": 121,
     "metadata": {},
     "output_type": "execute_result"
    }
   ],
   "source": [
    "h=h_find(x,p)"
   ]
  },
  {
   "cell_type": "code",
   "execution_count": 122,
   "metadata": {
    "collapsed": false
   },
   "outputs": [
    {
     "data": {
      "text/plain": [
       "horner (generic function with 1 method)"
      ]
     },
     "execution_count": 122,
     "metadata": {},
     "output_type": "execute_result"
    }
   ],
   "source": [
    "#Usamos esto para evaluar los taylors en cada punto que pidamos, creo\n",
    "function horner(t, a::Array)\n",
    "    #Recordar que empieza del ultimo al primero entonces revertimos\n",
    "    b=flipdim(a,1)\n",
    "    r = 0\n",
    "    for i in b\n",
    "        r = r * t + i\n",
    "    end\n",
    "    return r\n",
    "end"
   ]
  },
  {
   "cell_type": "code",
   "execution_count": 123,
   "metadata": {
    "collapsed": false
   },
   "outputs": [
    {
     "data": {
      "text/plain": [
       "3.2285574098165273"
      ]
     },
     "execution_count": 123,
     "metadata": {},
     "output_type": "execute_result"
    }
   ],
   "source": [
    "horner(t[1]+h,x)"
   ]
  },
  {
   "cell_type": "code",
   "execution_count": 124,
   "metadata": {
    "collapsed": false
   },
   "outputs": [
    {
     "data": {
      "text/plain": [
       "22"
      ]
     },
     "execution_count": 124,
     "metadata": {},
     "output_type": "execute_result"
    }
   ],
   "source": [
    "horner(3,[10,1,1])\n"
   ]
  },
  {
   "cell_type": "code",
   "execution_count": 125,
   "metadata": {
    "collapsed": false
   },
   "outputs": [
    {
     "data": {
      "text/plain": [
       "integral_taylor (generic function with 1 method)"
      ]
     },
     "execution_count": 125,
     "metadata": {},
     "output_type": "execute_result"
    }
   ],
   "source": [
    "function integral_taylor(t0,tf,x0,p)\n",
    "    t=[]\n",
    "    f=[]\n",
    "    j=1\n",
    "    push!(t,t0)\n",
    "    f=push!(f,x0)\n",
    "    while t0 < tf\n",
    "        x=zeros(p+1)\n",
    "        x[1]=x0\n",
    "        for i in range(1,p)\n",
    "            Tx=Taylor(x)\n",
    "            Tp=taypot(2,Tx)\n",
    "            x[i+1]=Tp.coef[i]/i\n",
    "        end\n",
    "        h=h_find(x,p)\n",
    "        t0=t0+h\n",
    "        push!(t,t0)\n",
    "        x0=horner(h,x)\n",
    "        f=push!(f,x0)\n",
    "        j=j+1\n",
    "    end\n",
    "    return t, f\n",
    "end\n",
    "    "
   ]
  },
  {
   "cell_type": "code",
   "execution_count": 126,
   "metadata": {
    "collapsed": false
   },
   "outputs": [
    {
     "data": {
      "text/plain": [
       "1076-element Array{Any,1}:\n",
       "   0        \n",
       "   0.0235975\n",
       "   0.0454399\n",
       "   0.0656639\n",
       "   0.0843954\n",
       "   0.10175  \n",
       "   0.117833 \n",
       "   0.132742 \n",
       "   0.146568 \n",
       "   0.159393 \n",
       "   0.171292 \n",
       "   0.182336 \n",
       "   0.192589 \n",
       "   ⋮        \n",
       "   0.333333 \n",
       "   0.333333 \n",
       "   0.333333 \n",
       "   0.333333 \n",
       "   0.333333 \n",
       "   0.333333 \n",
       "   0.333333 \n",
       "   0.333333 \n",
       "   0.333333 \n",
       "   0.333333 \n",
       "   0.333333 \n",
       " NaN        "
      ]
     },
     "execution_count": 126,
     "metadata": {},
     "output_type": "execute_result"
    }
   ],
   "source": [
    "g = integral_taylor(0,0.5,3,20)[1]"
   ]
  },
  {
   "cell_type": "code",
   "execution_count": 127,
   "metadata": {
    "collapsed": false
   },
   "outputs": [
    {
     "data": {
      "text/plain": [
       "1076-element Array{Any,1}:\n",
       "   3         \n",
       "   3.22856   \n",
       "   3.47351   \n",
       "   3.73595   \n",
       "   4.01706   \n",
       "   4.31809   \n",
       "   4.64036   \n",
       "   4.98527   \n",
       "   5.35431   \n",
       "   5.74908   \n",
       "   6.17126   \n",
       "   6.62263   \n",
       "   7.10508   \n",
       "   ⋮         \n",
       "   6.28905e13\n",
       "   6.37892e13\n",
       "   6.47e13   \n",
       "   6.56231e13\n",
       "   6.65587e13\n",
       "   6.7507e13 \n",
       "   6.8468e13 \n",
       "   6.94419e13\n",
       "   7.0429e13 \n",
       "   7.14293e13\n",
       "   7.24431e13\n",
       " NaN         "
      ]
     },
     "execution_count": 127,
     "metadata": {},
     "output_type": "execute_result"
    }
   ],
   "source": [
    "solt = integral_taylor(0,0.5,3,20)[2]"
   ]
  },
  {
   "cell_type": "code",
   "execution_count": 128,
   "metadata": {
    "collapsed": false
   },
   "outputs": [
    {
     "name": "stdout",
     "output_type": "stream",
     "text": [
      "search: flipdim flipud\n",
      "\n"
     ]
    },
    {
     "data": {
      "text/latex": [
       "\\begin{verbatim}\n",
       "flipdim(A, d)\n",
       "\\end{verbatim}\n",
       "Reverse \\texttt{A} in dimension \\texttt{d}.\n"
      ],
      "text/markdown": [
       "```\n",
       "flipdim(A, d)\n",
       "```\n",
       "\n",
       "Reverse `A` in dimension `d`.\n"
      ],
      "text/plain": [
       "```\n",
       "flipdim(A, d)\n",
       "```\n",
       "\n",
       "Reverse `A` in dimension `d`.\n"
      ]
     },
     "execution_count": 128,
     "metadata": {},
     "output_type": "execute_result"
    }
   ],
   "source": [
    "?flipdim"
   ]
  },
  {
   "cell_type": "markdown",
   "metadata": {
    "slideshow": {
     "slide_type": "fragment"
    }
   },
   "source": [
    "Dado que conocemos la solución analítica, den como función de $t$ el error relativo de su integrador (respecto al valor del resultado analítico)."
   ]
  },
  {
   "cell_type": "code",
   "execution_count": 129,
   "metadata": {
    "collapsed": false
   },
   "outputs": [
    {
     "data": {
      "text/plain": [
       "f (generic function with 2 methods)"
      ]
     },
     "execution_count": 129,
     "metadata": {},
     "output_type": "execute_result"
    }
   ],
   "source": [
    "f(t)=3/(1-3*t)"
   ]
  },
  {
   "cell_type": "code",
   "execution_count": 130,
   "metadata": {
    "collapsed": false,
    "scrolled": false
   },
   "outputs": [
    {
     "data": {
      "text/plain": [
       "1076-element Array{Any,1}:\n",
       "   3.0       \n",
       "   3.22856   \n",
       "   3.47351   \n",
       "   3.73595   \n",
       "   4.01706   \n",
       "   4.31809   \n",
       "   4.64036   \n",
       "   4.98527   \n",
       "   5.35431   \n",
       "   5.74908   \n",
       "   6.17126   \n",
       "   6.62263   \n",
       "   7.10508   \n",
       "   ⋮         \n",
       "   6.3431e13 \n",
       "   6.43371e13\n",
       "   6.52696e13\n",
       "   6.62294e13\n",
       "   6.72179e13\n",
       "   6.82364e13\n",
       "   6.92861e13\n",
       "   7.03687e13\n",
       "   7.14857e13\n",
       "   7.26387e13\n",
       "   7.38295e13\n",
       " NaN         "
      ]
     },
     "execution_count": 130,
     "metadata": {},
     "output_type": "execute_result"
    }
   ],
   "source": [
    "sa = []\n",
    "for i in g\n",
    "    push!(sa,f(i))\n",
    "end\n",
    "sa\n"
   ]
  },
  {
   "cell_type": "code",
   "execution_count": 131,
   "metadata": {
    "collapsed": false,
    "scrolled": true
   },
   "outputs": [
    {
     "data": {
      "image/png": "[encoded data removed]",
      "text/plain": [
       "PyPlot.Figure(PyObject <matplotlib.figure.Figure object at 0x000000001EC210B8>)"
      ]
     },
     "metadata": {},
     "output_type": "display_data"
    },
    {
     "data": {
      "text/plain": [
       "1-element Array{Any,1}:\n",
       " PyObject <matplotlib.lines.Line2D object at 0x000000001EC11DA0>"
      ]
     },
     "execution_count": 131,
     "metadata": {},
     "output_type": "execute_result"
    }
   ],
   "source": [
    "plot(g,sa)\n",
    "plot(g,solt)"
   ]
  },
  {
   "cell_type": "code",
   "execution_count": 132,
   "metadata": {
    "collapsed": false
   },
   "outputs": [
    {
     "data": {
      "text/plain": [
       "1076-element Array{Any,1}:\n",
       "   0.0        \n",
       "   0.0        \n",
       "   0.0        \n",
       "   4.44089e-16\n",
       "   0.0        \n",
       "   0.0        \n",
       "   8.88178e-16\n",
       "   8.88178e-16\n",
       "   8.88178e-16\n",
       "   0.0        \n",
       "   0.0        \n",
       "   0.0        \n",
       "   8.88178e-16\n",
       "   ⋮          \n",
       "   5.40475e11 \n",
       "   5.47954e11 \n",
       "   5.69547e11 \n",
       "   6.06257e11 \n",
       "   6.59156e11 \n",
       "   7.29387e11 \n",
       "   8.18173e11 \n",
       "   9.26819e11 \n",
       "   1.05672e12 \n",
       "   1.20938e12 \n",
       "   1.3864e12  \n",
       " NaN          "
      ]
     },
     "execution_count": 132,
     "metadata": {},
     "output_type": "execute_result"
    }
   ],
   "source": [
    "err = []\n",
    "for i in range(1,length(g))\n",
    "    push!(err, abs(solt[i]-sa[i]))\n",
    "end\n",
    "err"
   ]
  },
  {
   "cell_type": "code",
   "execution_count": 133,
   "metadata": {
    "collapsed": false,
    "scrolled": true
   },
   "outputs": [
    {
     "data": {
      "image/png": "[encoded data removed]",
      "text/plain": [
       "PyPlot.Figure(PyObject <matplotlib.figure.Figure object at 0x000000001023CB70>)"
      ]
     },
     "metadata": {},
     "output_type": "display_data"
    },
    {
     "data": {
      "text/plain": [
       "1-element Array{Any,1}:\n",
       " PyObject <matplotlib.lines.Line2D object at 0x0000000068E80828>"
      ]
     },
     "execution_count": 133,
     "metadata": {},
     "output_type": "execute_result"
    }
   ],
   "source": [
    "plot(g,err)"
   ]
  },
  {
   "cell_type": "markdown",
   "metadata": {
    "slideshow": {
     "slide_type": "subslide"
    }
   },
   "source": [
    "### Ejercicio"
   ]
  },
  {
   "cell_type": "markdown",
   "metadata": {
    "slideshow": {
     "slide_type": "-"
    }
   },
   "source": [
    "Repitan los cálculos usando el método de Runge-Kutta de 4o orden con paso de integración fijo (que es lo más sofisticado que conocen hasta ahora) y comparen los resultados del error relativo con el método de Taylor. En particular, finjan ignorancia de la misma manera que en el ejercicio anterior."
   ]
  },
  {
   "cell_type": "code",
   "execution_count": 134,
   "metadata": {
    "collapsed": false
   },
   "outputs": [
    {
     "data": {
      "text/plain": [
       "RK4 (generic function with 1 method)"
      ]
     },
     "execution_count": 134,
     "metadata": {},
     "output_type": "execute_result"
    }
   ],
   "source": [
    "function RK4(f::Function, x0::Number, ti::Number, tf::Number, h::Number)\n",
    "\n",
    "t = collect(ti:h:tf);     \n",
    "x = zeros(length(t));                #Arreglos para la respuesta\n",
    "x[1] = x0;           #Condición inicial, osea t=0.\n",
    "\n",
    "    for i = 1 : (length(t)-1)\n",
    "  \n",
    "        k1 = f(t[i], x[i])             \n",
    "        k2 = f(t[i] + h/2, x[i]+h*k1/2)\n",
    "        k3 = f(t[i] + h/2, x[i]+h*k2/2)\n",
    "        k4 = f(t[i] + h, x[i]+h*k3) \n",
    "        x[i+1] = x[i]+h/6*(k1+2*k2+2*k3+k4);\n",
    "        \n",
    "        \n",
    "    end \n",
    "    \n",
    "    return x\n",
    "end "
   ]
  },
  {
   "cell_type": "code",
   "execution_count": 135,
   "metadata": {
    "collapsed": false,
    "scrolled": true
   },
   "outputs": [
    {
     "data": {
      "text/plain": [
       "51-element Array{Float64,1}:\n",
       "   3.0    \n",
       "   3.09278\n",
       "   3.19149\n",
       "   3.2967 \n",
       "   3.40909\n",
       "   3.52941\n",
       "   3.65854\n",
       "   3.79747\n",
       "   3.94737\n",
       "   4.10959\n",
       "   4.28571\n",
       "   4.47761\n",
       "   4.6875 \n",
       "   ⋮      \n",
       " Inf      \n",
       " Inf      \n",
       " Inf      \n",
       " Inf      \n",
       " Inf      \n",
       " Inf      \n",
       " Inf      \n",
       " Inf      \n",
       " Inf      \n",
       " Inf      \n",
       " Inf      \n",
       " Inf      "
      ]
     },
     "execution_count": 135,
     "metadata": {},
     "output_type": "execute_result"
    }
   ],
   "source": [
    "f1(t,x) = x^2\n",
    "x0=3\n",
    "ti=0\n",
    "tf=0.5\n",
    "h=0.01\n",
    "x=RK4(f1,x0,ti,tf,h)"
   ]
  },
  {
   "cell_type": "code",
   "execution_count": 136,
   "metadata": {
    "collapsed": false,
    "scrolled": true
   },
   "outputs": [
    {
     "data": {
      "image/png": "[encoded data removed]",
      "text/plain": [
       "PyPlot.Figure(PyObject <matplotlib.figure.Figure object at 0x000000001EC159B0>)"
      ]
     },
     "metadata": {},
     "output_type": "display_data"
    },
    {
     "data": {
      "text/plain": [
       "1-element Array{Any,1}:\n",
       " PyObject <matplotlib.lines.Line2D object at 0x0000000068EE9DD8>"
      ]
     },
     "execution_count": 136,
     "metadata": {},
     "output_type": "execute_result"
    }
   ],
   "source": [
    "plot(ti:h:tf,x)"
   ]
  },
  {
   "cell_type": "code",
   "execution_count": 137,
   "metadata": {
    "collapsed": false
   },
   "outputs": [
    {
     "data": {
      "text/plain": [
       "51-element Array{Any,1}:\n",
       "   3.0    \n",
       "   3.09278\n",
       "   3.19149\n",
       "   3.2967 \n",
       "   3.40909\n",
       "   3.52941\n",
       "   3.65854\n",
       "   3.79747\n",
       "   3.94737\n",
       "   4.10959\n",
       "   4.28571\n",
       "   4.47761\n",
       "   4.6875 \n",
       "   ⋮      \n",
       " -17.6471 \n",
       " -15.0    \n",
       " -13.0435 \n",
       " -11.5385 \n",
       " -10.3448 \n",
       "  -9.375  \n",
       "  -8.57143\n",
       "  -7.89474\n",
       "  -7.31707\n",
       "  -6.81818\n",
       "  -6.38298\n",
       "  -6.0    "
      ]
     },
     "execution_count": 137,
     "metadata": {},
     "output_type": "execute_result"
    }
   ],
   "source": [
    "rk = []\n",
    "for i in ti:0.01:tf\n",
    "    push!(rk,f(i))\n",
    "end\n",
    "rk"
   ]
  },
  {
   "cell_type": "code",
   "execution_count": 138,
   "metadata": {
    "collapsed": false,
    "scrolled": true
   },
   "outputs": [
    {
     "data": {
      "text/plain": [
       "51-element Array{Any,1}:\n",
       "   0.0       \n",
       "   3.4239e-9 \n",
       "   7.77163e-9\n",
       "   1.32936e-8\n",
       "   2.03166e-8\n",
       "   2.92699e-8\n",
       "   4.07227e-8\n",
       "   5.54363e-8\n",
       "   7.44392e-8\n",
       "   9.91348e-8\n",
       "   1.31462e-7\n",
       "   1.74131e-7\n",
       "   2.30984e-7\n",
       "   ⋮         \n",
       " Inf         \n",
       " Inf         \n",
       " Inf         \n",
       " Inf         \n",
       " Inf         \n",
       " Inf         \n",
       " Inf         \n",
       " Inf         \n",
       " Inf         \n",
       " Inf         \n",
       " Inf         \n",
       " Inf         "
      ]
     },
     "execution_count": 138,
     "metadata": {},
     "output_type": "execute_result"
    }
   ],
   "source": [
    "erk = []\n",
    "for i in range(1,length(rk))\n",
    "    push!(erk,abs(rk[i]-x[i]))\n",
    "end\n",
    "erk"
   ]
  },
  {
   "cell_type": "markdown",
   "metadata": {},
   "source": [
    "Se realiza la comparación entre el error con el método de Runge-Kutta y el error del método de Taylor."
   ]
  },
  {
   "cell_type": "code",
   "execution_count": 139,
   "metadata": {
    "collapsed": false
   },
   "outputs": [
    {
     "data": {
      "image/png": "[encoded data removed]",
      "text/plain": [
       "PyPlot.Figure(PyObject <matplotlib.figure.Figure object at 0x000000006AE68BA8>)"
      ]
     },
     "metadata": {},
     "output_type": "display_data"
    },
    {
     "data": {
      "text/plain": [
       "(0,0.4)"
      ]
     },
     "execution_count": 139,
     "metadata": {},
     "output_type": "execute_result"
    }
   ],
   "source": [
    "plot(0:0.01:0.5,erk)\n",
    "plot(g,err)\n",
    "xlim(0,0.4)"
   ]
  },
  {
   "cell_type": "markdown",
   "metadata": {
    "slideshow": {
     "slide_type": "subslide"
    }
   },
   "source": [
    "### Ejercicio"
   ]
  },
  {
   "cell_type": "markdown",
   "metadata": {},
   "source": [
    "Integra la ecuación de movimiento para el oscilador armónico, $\\ddot{x} = -2x$, con $x(0)=2$, $\\dot{x}(0)=0$, durante 10^4 periodos de oscilación (o sea, hasta $t_f = 10^4 \\cdot 2\\pi/\\sqrt{2}$, usando el método de Taylor y el método de Runge-Kutta de 4o orden con paso de integración constante. Compara cómo cambia la energía (respecto al valor al tiempo cero) en función del tiempo para ambos métodos."
   ]
  },
  {
   "cell_type": "code",
   "execution_count": 140,
   "metadata": {
    "collapsed": false
   },
   "outputs": [
    {
     "data": {
      "text/plain": [
       "RK4v (generic function with 1 method)"
      ]
     },
     "execution_count": 140,
     "metadata": {},
     "output_type": "execute_result"
    }
   ],
   "source": [
    "function RK4v(f::Function, x0::Number, v0::Number, ti::Number, tf::Number, h::Number)\n",
    "\n",
    "t = collect(ti:h:tf);     \n",
    "x = zeros(length(t));\n",
    "vx = zeros(length(t));   \n",
    "                         #Arreglos para la respuesta\n",
    "x[1] = x0 ;           #Condición inicial, osea t=0.\n",
    "vx[1] = v0 ;\n",
    "    \n",
    "\n",
    "    \n",
    "function rk(p0,t,k1,k2,k3,k4)\n",
    "    return p0+h/6.*(k1+2*k2+2*k3+k4)\n",
    "end\n",
    "    \n",
    "\n",
    "\n",
    "for i in 1 :(length(t)-1)\n",
    "    \n",
    "        k1 = f(x[i],t[i])\n",
    "        k2 = f(x[i]+h*k1/2,t[i]+h/2)\n",
    "        k3 = f(x[i]+h*k2/2,t[i]+h/2)\n",
    "        k4 = f(x[i]+h*k3,t[i]+h)\n",
    "    \n",
    "    vx[i+1] = rk(vx[i],t[i],k1,k2,k3,k4)\n",
    "        \n",
    "    n1 = rk(vx[i],t[i],k1,k2,k3,k4)\n",
    "    n2 = rk(vx[i]+h*n1/2,t[i]+h/2,k1,k2,k3,k4)\n",
    "    n3 = rk(vx[i]+h*n2/2,t[i]+h/2,k1,k2,k3,k4)\n",
    "    n4 = rk(vx[i]+h*n3,t[i]+h,k1,k2,k3,k4)\n",
    "    \n",
    "    x[i+1] = rk(x[i],t[i],n1,n2,n3,n4)\n",
    "         end \n",
    "    \n",
    "    return x, vx\n",
    "end "
   ]
  },
  {
   "cell_type": "code",
   "execution_count": 141,
   "metadata": {
    "collapsed": false
   },
   "outputs": [],
   "source": [
    "h=0.1;\n",
    "ti=0.0;\n",
    "tf=(10^4)*(2* π) / sqrt(2);\n",
    "x0 = 2.0 ;\n",
    "v0= 0.0;\n",
    "f(x,t)= -2*x\n",
    "x, vx = RK4v(f, x0,v0,ti,tf,h);"
   ]
  },
  {
   "cell_type": "code",
   "execution_count": 142,
   "metadata": {
    "collapsed": false
   },
   "outputs": [
    {
     "data": {
      "text/plain": [
       "Energy (generic function with 1 method)"
      ]
     },
     "execution_count": 142,
     "metadata": {},
     "output_type": "execute_result"
    }
   ],
   "source": [
    "#Tomando la masa como 1\n",
    "function Energy(x,v)\n",
    "    E = 1/2*v^2+x^2\n",
    "end"
   ]
  },
  {
   "cell_type": "code",
   "execution_count": 143,
   "metadata": {
    "collapsed": false
   },
   "outputs": [
    {
     "data": {
      "image/png": "[encoded data removed]",
      "text/plain": [
       "PyPlot.Figure(PyObject <matplotlib.figure.Figure object at 0x0000000068F01AC8>)"
      ]
     },
     "metadata": {},
     "output_type": "display_data"
    },
    {
     "data": {
      "text/plain": [
       "(0,250)"
      ]
     },
     "execution_count": 143,
     "metadata": {},
     "output_type": "execute_result"
    }
   ],
   "source": [
    "plot(ti:h:tf,x)\n",
    "xlim(0,250) #escogemos el valor para que se aprecie la oscilación"
   ]
  },
  {
   "cell_type": "code",
   "execution_count": 144,
   "metadata": {
    "collapsed": false
   },
   "outputs": [
    {
     "data": {
      "text/plain": [
       "444289"
      ]
     },
     "execution_count": 144,
     "metadata": {},
     "output_type": "execute_result"
    }
   ],
   "source": [
    "E_RK=[]\n",
    "for i in range(1,length(x))\n",
    "    push!(E_RK,Energy(x[i],vx[i]))\n",
    "end\n",
    "\n",
    "length(E_RK)"
   ]
  },
  {
   "cell_type": "code",
   "execution_count": 145,
   "metadata": {
    "collapsed": false,
    "scrolled": true
   },
   "outputs": [
    {
     "data": {
      "image/png": "[encoded data removed]",
      "text/plain": [
       "PyPlot.Figure(PyObject <matplotlib.figure.Figure object at 0x000000006F2D1860>)"
      ]
     },
     "metadata": {},
     "output_type": "display_data"
    },
    {
     "data": {
      "text/plain": [
       "1-element Array{Any,1}:\n",
       " PyObject <matplotlib.lines.Line2D object at 0x000000007AB17C18>"
      ]
     },
     "execution_count": 145,
     "metadata": {},
     "output_type": "execute_result"
    }
   ],
   "source": [
    "plot(ti:h:tf,E_RK)\n",
    "#xlim(0,250)\n",
    "#Debido al número de puntos se ve un gran bloque sólido pero lo importante es que la energía claramente no se conserva si no que \n",
    "#está oscilando entre dos valores."
   ]
  },
  {
   "cell_type": "markdown",
   "metadata": {
    "collapsed": true
   },
   "source": [
    "## Taylor"
   ]
  },
  {
   "cell_type": "code",
   "execution_count": 146,
   "metadata": {
    "collapsed": false
   },
   "outputs": [
    {
     "data": {
      "text/plain": [
       "* (generic function with 144 methods)"
      ]
     },
     "execution_count": 146,
     "metadata": {},
     "output_type": "execute_result"
    }
   ],
   "source": [
    "#Falto considerar el caso de\n",
    "function *(a::Real,b::Taylor)\n",
    "    for i in range(1,b.order+1)\n",
    "        b.coef[i]=a*b.coef[i]\n",
    "    end\n",
    "    return Taylor(b.coef)\n",
    "end"
   ]
  },
  {
   "cell_type": "code",
   "execution_count": 147,
   "metadata": {
    "collapsed": false
   },
   "outputs": [
    {
     "data": {
      "text/plain": [
       "integral_taylor2 (generic function with 2 methods)"
      ]
     },
     "execution_count": 147,
     "metadata": {},
     "output_type": "execute_result"
    }
   ],
   "source": [
    "function integral_taylor2(t0,tf,x0,v0,p)\n",
    "    t=[]\n",
    "    f=[]\n",
    "    f1=[]\n",
    "    t=push!(t,t0)\n",
    "    f=push!(f,x0)\n",
    "    f1=push!(f1,v0)\n",
    "    while t0 < tf\n",
    "        x=zeros(p+1)\n",
    "        v=zeros(p+1)\n",
    "        x[1]=x0\n",
    "        v[1]=v0\n",
    "        for i in range(1,p)\n",
    "            Tx = Taylor(x)\n",
    "            Tv = Taylor(v) \n",
    "            x[i+1] = Tv.coef[i]/i\n",
    "            v[i+1] = -2*Tx.coef[i]/i #ecuación diferencial\n",
    "        end\n",
    "        hx=h_find(x,p)\n",
    "        hv=h_find(v,p)\n",
    "        h=minimum([hx,hv]) #tomamos la minima de ambas para que resulten con la misma cantidad de entradas los arreglos\n",
    "        t0=t0+h\n",
    "        push!(t,t0)\n",
    "        x0=horner(h,x)\n",
    "        v0=horner(h,v)\n",
    "        push!(f,x0)\n",
    "        push!(f1,v0)\n",
    "    end\n",
    "    return t, f, f1\n",
    "end"
   ]
  },
  {
   "cell_type": "code",
   "execution_count": 148,
   "metadata": {
    "collapsed": false
   },
   "outputs": [
    {
     "data": {
      "text/plain": [
       "Taylor{Int64}([-2,-4,-6],2)"
      ]
     },
     "execution_count": 148,
     "metadata": {},
     "output_type": "execute_result"
    }
   ],
   "source": [
    "-2*Taylor([1,2,3])"
   ]
  },
  {
   "cell_type": "code",
   "execution_count": 149,
   "metadata": {
    "collapsed": false
   },
   "outputs": [
    {
     "data": {
      "text/plain": [
       "Taylor{Int64}([-2,-4,-6],2)"
      ]
     },
     "execution_count": 149,
     "metadata": {},
     "output_type": "execute_result"
    }
   ],
   "source": [
    "Taylor(ans)"
   ]
  },
  {
   "cell_type": "code",
   "execution_count": 160,
   "metadata": {
    "collapsed": false
   },
   "outputs": [],
   "source": [
    "t2 = integral_taylor2(0,tf,2,0,20)[1]\n",
    "x2 = integral_taylor2(0,tf,2,0,20)[2]\n",
    "vx2 = integral_taylor2(0,tf,2,0,20)[3];"
   ]
  },
  {
   "cell_type": "code",
   "execution_count": 161,
   "metadata": {
    "collapsed": false,
    "scrolled": false
   },
   "outputs": [
    {
     "data": {
      "text/plain": [
       "110048-element Array{Any,1}:\n",
       "  0        \n",
       " -1.50973  \n",
       " -2.55938  \n",
       " -2.80203  \n",
       " -2.14416  \n",
       " -0.793861 \n",
       "  0.781039 \n",
       "  2.11371  \n",
       "  2.79603  \n",
       "  2.57998  \n",
       "  1.53186  \n",
       "  0.0116285\n",
       " -1.49988  \n",
       "  ⋮        \n",
       " -1.33872  \n",
       " -2.46721  \n",
       " -2.82215  \n",
       " -2.26849  \n",
       " -0.975589 \n",
       "  0.597289 \n",
       "  1.98213  \n",
       "  2.75955  \n",
       "  2.65401  \n",
       "  1.69465  \n",
       "  0.205606 \n",
       " -1.33206  "
      ]
     },
     "execution_count": 161,
     "metadata": {},
     "output_type": "execute_result"
    }
   ],
   "source": [
    "#Pues se ve que diverge, algo está mal.\n",
    "vx2"
   ]
  },
  {
   "cell_type": "code",
   "execution_count": 162,
   "metadata": {
    "collapsed": false
   },
   "outputs": [
    {
     "data": {
      "image/png": "[encoded data removed]",
      "text/plain": [
       "PyPlot.Figure(PyObject <matplotlib.figure.Figure object at 0x000000006F2CE160>)"
      ]
     },
     "metadata": {},
     "output_type": "display_data"
    },
    {
     "data": {
      "text/plain": [
       "1-element Array{Any,1}:\n",
       " PyObject <matplotlib.lines.Line2D object at 0x000000006B01E208>"
      ]
     },
     "execution_count": 162,
     "metadata": {},
     "output_type": "execute_result"
    }
   ],
   "source": [
    "plot(t2,x2)"
   ]
  },
  {
   "cell_type": "code",
   "execution_count": 163,
   "metadata": {
    "collapsed": false
   },
   "outputs": [
    {
     "data": {
      "text/plain": [
       "110048"
      ]
     },
     "execution_count": 163,
     "metadata": {},
     "output_type": "execute_result"
    }
   ],
   "source": [
    "E_tay=[]\n",
    "for i in range(1,length(x2))\n",
    "    push!(E_tay,Energy(x2[i],vx2[i]))\n",
    "end\n",
    "\n",
    "length(E_tay)"
   ]
  },
  {
   "cell_type": "code",
   "execution_count": 164,
   "metadata": {
    "collapsed": false
   },
   "outputs": [
    {
     "data": {
      "image/png": "[encoded data removed]",
      "text/plain": [
       "PyPlot.Figure(PyObject <matplotlib.figure.Figure object at 0x0000000010201D30>)"
      ]
     },
     "metadata": {},
     "output_type": "display_data"
    },
    {
     "data": {
      "text/plain": [
       "1-element Array{Any,1}:\n",
       " PyObject <matplotlib.lines.Line2D object at 0x000000003A107AC8>"
      ]
     },
     "execution_count": 164,
     "metadata": {},
     "output_type": "execute_result"
    }
   ],
   "source": [
    "plot(t2,E_tay)"
   ]
  },
  {
   "cell_type": "code",
   "execution_count": null,
   "metadata": {
    "collapsed": true
   },
   "outputs": [],
   "source": []
  }
 ],
 "metadata": {
  "celltoolbar": "Slideshow",
  "kernelspec": {
   "display_name": "Julia 0.4.5",
   "language": "julia",
   "name": "julia-0.4"
  },
  "language_info": {
   "file_extension": ".jl",
   "mimetype": "application/julia",
   "name": "julia",
   "version": "0.4.5"
  }
 },
 "nbformat": 4,
 "nbformat_minor": 0
}
