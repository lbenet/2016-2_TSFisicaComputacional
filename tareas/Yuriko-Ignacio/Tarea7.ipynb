{
 "cells": [
  {
   "cell_type": "markdown",
   "metadata": {},
   "source": [
    "**Tarea 7 - Integracion Taylor**\n",
    "\n",
    "Estudiantes: Yuriko Yamamoto, Ignacio Vargas"
   ]
  },
  {
   "cell_type": "markdown",
   "metadata": {},
   "source": [
    "**Ejercicio 1:** Usando su implementación de polinomios de Taylor, escriban un integrador para la ecuación diferencial que se desarrolló en este ejemplo, esto es, con la condición inicial x(0)=3.\n",
    "\n",
    "El integrador debe hacer las operaciones necesarias para obtener automáticamente los coeficientes x[k], en cada paso de integración, a partir de la condición inicial local. Un requisito básico para esto es que tengan una implementación de la función Pα(x)=[g(x)]α con g(x) un polinomio, que obtuvieron en la \"Tarea6\", y que funcione bien en particular para alpha::Int."
   ]
  },
  {
   "cell_type": "markdown",
   "metadata": {},
   "source": [
    "La implementación debe consistir de varias funciones: \n",
    "\n",
    "- Una función donde se calculen los coeficientes $x_{[k]}(t_0)$ de la expansión. Esta función deberá llamar a otra donde se implementan las ecuaciones de movimiento.\n",
    "\n",
    "- Una función donde se obtenga el paso de integración $h$.\n",
    "\n",
    "- Otra función donde se haga la suma por el método de Horner.\n",
    "\n",
    "- Finalmente, una función que use las funciones anteriores para hacer la integración desde un tiempo inicial a uno final. En este punto, *fingiremos ignorancia*, en el sentido que el tiempo inicial es cero, y el tiempo final será $0.5$ (que está más allá de donde hay problemas).\n"
   ]
  },
  {
   "cell_type": "markdown",
   "metadata": {},
   "source": [
    "Dado que conocemos la solución analítica, den como función de $t$ el error relativo de su integrador (respecto al valor del resultado analítico)."
   ]
  },
  {
   "cell_type": "code",
   "execution_count": 1,
   "metadata": {
    "collapsed": false
   },
   "outputs": [],
   "source": [
    "#Primer Ejercicio\n",
    "\n",
    "#include(\"TaylorInt.jl\")\n",
    "#import <modulo>\n",
    "\n",
    "include(\"Taylor2.jl\")\n",
    "using Taylor2\n",
    "\n",
    "#Tengo un problema aqui. Si no vuelvo a incluir Taylor de Taylor2.jl explicitamente aqui, me dice que no existe\n",
    "\n",
    "import Base: length, zero, promote_rule, promote, +, -, *, /, ==, ^"
   ]
  },
  {
   "cell_type": "code",
   "execution_count": 2,
   "metadata": {
    "collapsed": false
   },
   "outputs": [
    {
     "data": {
      "text/plain": [
       "sincosHomogcoef (generic function with 1 method)"
      ]
     },
     "execution_count": 2,
     "metadata": {},
     "output_type": "execute_result"
    }
   ],
   "source": [
    "#Tengo un problema aqui. Si no vuelvo a incluir Taylor de Taylor2.jl explicitamente aqui, me dice que no existe\n",
    "\n",
    "type Taylor{T<:Number}\n",
    "    \n",
    "    coeficientes :: Array{T,1}\n",
    "    orden :: Int\n",
    "    \n",
    "    #Constructor interno\n",
    "    function Taylor(coeficientes::Array{T,1}, orden::Int)\n",
    "        \n",
    "        longitud_coeficientes= length(coeficientes)\n",
    "        orden = max(orden, longitud_coeficientes-1)\n",
    "        \n",
    "        vector = zeros(T, orden+1)\n",
    "        \n",
    "        vector[1:longitud_coeficientes] = coeficientes[1:end]\n",
    "        new(vector, orden)\n",
    "        \n",
    "    end\n",
    "end\n",
    "\n",
    "#Constructor externo\n",
    "Taylor{T<:Number}(x::Taylor{T}, orden::Int) = Taylor{T}(x.coeficientes, orden)\n",
    "Taylor{T<:Number}(x::Taylor{T}) = x\n",
    "Taylor{T<:Number}(coeficientes::Array{T,1}, orden::Int) = Taylor{T}(coeficientes, orden)\n",
    "Taylor{T<:Number}(coeficientes::Array{T,1}) = Taylor{T}(coeficientes, length(coeficientes)-1)\n",
    "Taylor{T<:Number}(x::T, orden::Int) = Taylor{T}([x], orden)\n",
    "Taylor{T<:Number}(x::T) = Taylor{T}([x], 0)\n",
    "\n",
    "#Tipo, longitud\n",
    "eltype{T<:Number}(::Taylor{T}) = T\n",
    "length{T<:Number}(a::Taylor{T}) = a.orden\n",
    "\n",
    "#Conversion y reglas promocion\n",
    "convert{T<:Number}(::Type{Taylor{T}}, a::Taylor) = Taylor(convert(Array{T,1}, a.coeficientes), a.orden)\n",
    "convert{T<:Number, S<:Number}(::Type{Taylor{T}}, b::Array{S,1}) = Taylor(convert(Array{T,1},b))\n",
    "convert{T<:Number, S<:Number}(::Type{Taylor{T}}, b::S) = Taylor([convert(T,b)], 0)\n",
    "\n",
    "promote_rule{T<:Number, S<:Number}(::Type{Taylor{T}}, ::Type{Taylor{S}}) = Taylor{promote_type(T, S)}\n",
    "promote_rule{T<:Number, S<:Number}(::Type{Taylor{T}}, ::Type{Array{S,1}}) = Taylor{promote_type(T, S)}\n",
    "promote_rule{T<:Number, S<:Number}(::Type{Array{S,1}}, ::Type{Taylor{T}}) = Taylor{promote_type(T, S)}\n",
    "promote_rule{T<:Number, S<:Number}(::Type{Taylor{T}}, ::Type{S}) = Taylor{promote_type(T, S)}\n",
    "promote_rule{T<:Number, S<:Number}(::Type{S}, ::Type{Taylor{T}}) = Taylor{promote_type(T, S)}\n",
    "\n",
    "#Funcion auxiliar\n",
    "function primer_no_cero{T<:Number}(a::Taylor{T})\n",
    "    no_cero::Int = a.order+1\n",
    "    for i = 1:orden+1\n",
    "        if a.coeficientes[i] != z\n",
    "            no_cero= i-1\n",
    "            break\n",
    "        end\n",
    "    end\n",
    "    no_cero\n",
    "end\n",
    "\n",
    "function arreglar_forma{T<:Number, S<:Number}(a::Taylor{T}, b::Taylor{S})\n",
    "    orden = max(a.orden, b.orden)\n",
    "    a1, b1 = promote(a, b)\n",
    "    return Taylor(a1, orden), Taylor(b1, orden), orden\n",
    "end\n",
    "\n",
    "#Zero y uno\n",
    "zero{T<:Number}(a::Taylor{T}) = Taylor1(zero(T), a.orden)\n",
    "one{T<:Number}(a::Taylor{T}) = Taylor1(one(T), a.orden)\n",
    "\n",
    "#Igualdad\n",
    "function ==(a::Taylor, b::Taylor)\n",
    "    a1, b1, orden = arreglar_forma(a, b)\n",
    "    return a1.coeficientes == b1.coeficientes\n",
    "end\n",
    "==(a::Taylor, b::Number) = ==(a, Taylor(b, a.orden))\n",
    "==(a::Number, b::Taylor) = ==(b, Taylor(a, b.orden))\n",
    "\n",
    "#Suma y resta\n",
    "for f in (:+, :-)\n",
    "    @eval begin\n",
    "        function ($f)(a::Taylor, b::Taylor)\n",
    "            a1, b1, orden = arreglar_forma(a, b)\n",
    "            v = ($f)(a1.coeficientes, b1.coeficientes)\n",
    "            return Taylor(v, orden)\n",
    "        end\n",
    "       ($f)(a::Taylor, b::Number) = ($f)(a, Taylor(b, a.orden))\n",
    "       ($f)(a::Number, b::Taylor) = ($f)(Taylor(a, b.orden), b)\n",
    "       ($f)(a::Taylor) = Taylor(($f)(a.coeficientes), a.orden)\n",
    "    end\n",
    "end\n",
    "\n",
    "#Multiplicacion\n",
    "function *(a::Taylor, b::Taylor)\n",
    "    a1, b1, orden = arreglar_forma(a, b)\n",
    "    T = eltype(a1)\n",
    "    coeficientes = zeros(T,orden+1)\n",
    "    coeficientes[1] = a1.coeficientes[1] * b1.coeficientes[1]\n",
    "    for k = 1:orden\n",
    "        coeficientes[k+1] = mulHomogcoef(k, a1.coeficientes, b1.coeficientes)\n",
    "    end\n",
    "    Taylor(coeficientes, orden)\n",
    "end\n",
    "\n",
    "#Coeficiente homogeneo para multiplicacion\n",
    "function mulHomogcoef{T<:Number}(kcoef::Integer, ac::Array{T,1}, bc::Array{T,1})\n",
    "    coefhomog = zero(T)\n",
    "    for i = 0:kcoef\n",
    "        coefhomog += ac[i+1] * bc[kcoef-i+1]\n",
    "    end\n",
    "    coefhomog\n",
    "end\n",
    "*(a::Taylor, b::Number) = Taylor(b*a.coeficientes, a.orden)\n",
    "*(a::Number, b::Taylor) = Taylor(a*b.coeficientes, b.orden)\n",
    "\n",
    "#Division\n",
    "function /(a::Taylor, b::Taylor)\n",
    "    a1, b1, orden = arreglar_forma(a, b)\n",
    "    ordLHopital, cLHopital = divlhopital(a1, b1) # L'Hôpital orden y coeficiente\n",
    "    T = typeof(cLHopital)\n",
    "    v1 = convert(Array{T,1}, a1.coeficientes)\n",
    "    v2 = convert(Array{T,1}, b1.coeficientes)\n",
    "    coeficientes = zeros(T,orden+1)\n",
    "    coeficientes[1] = cLHopital\n",
    "    for k = ordLHopital+1:orden\n",
    "        coeficientes[k-ordLHopital+1] = divHomogcoef(k, v1, v2, coeficientes, ordLHopital)\n",
    "    end\n",
    "    Taylor(coeficientes, orden)\n",
    "end\n",
    "\n",
    "# Coeficiente Homogeneo para Division\n",
    "function divHomogcoef{T<:Number}(kcoef::Integer, ac::Array{T,1}, bc::Array{T,1}, \n",
    "        coeficientes::Array{T,1}, ordLHopital::Integer)\n",
    "    coefhomog = mulHomogcoef(kcoef, coeficientes, bc)\n",
    "    coefhomog = (ac[kcoef+1]-coefhomog) / bc[ordLHopital+1]\n",
    "    coefhomog\n",
    "end\n",
    "/(a::Taylor,b::Number) = Taylor(a.coeficientes/b, a.orden)\n",
    "/(a::Number,b::Taylor) = Taylor([a], b.orden) / b\n",
    "\n",
    "#Logaritmo\n",
    "function log(a::Taylor)\n",
    "    orden = a.orden\n",
    "    l0nz = primer_no_cero(a)\n",
    "    if primer_no_cero(a)>0\n",
    "        error(\"No es posible expander log alrededor de 0.\\n\")\n",
    "    end\n",
    "    aux = log( a.coeficientes[1] )\n",
    "    T = typeof(aux)\n",
    "    ac = convert(Array{T,1}, a.coeficientes)\n",
    "    coeficientes = zeros(T, orden+1)\n",
    "    coeficientes[1] = aux\n",
    "    for k = 1:orden\n",
    "        coeficientes[k+1] = logHomogcoef(k, ac, coeficientes)\n",
    "    end\n",
    "    Taylor( coeficientes, orden )\n",
    "end\n",
    "\n",
    "#Coeficientes homogeneos para logaritmo\n",
    "function logHomogcoef{T<:Number}(kcoef::Integer, ac::Array{T,1}, coeficientes::Array{T,1})\n",
    "  coefhomog = zero(T)\n",
    "  for i = 1:kcoef-1\n",
    "    coefhomog += (kcoef-i) * ac[i+1] * coeficientes[kcoef-i+1]\n",
    "  end\n",
    "  coefhomog = (ac[kcoef+1] -coefhomog/kcoef) / ac[1]\n",
    "  coefhomog\n",
    "end\n",
    "\n",
    "#Exponente\n",
    "function ^(a::Taylor, x::Integer)\n",
    "    uno = one(a)\n",
    "    if x < 0\n",
    "        return uno / a^(-x)\n",
    "    elseif x == 0\n",
    "        return uno\n",
    "    elseif x%2 == 0 # par\n",
    "        if x == 2\n",
    "            return square(a)\n",
    "        else\n",
    "            pow = div(x, 2)\n",
    "            return square( a^pow )\n",
    "        end\n",
    "    else  # impar\n",
    "        if x == 1\n",
    "            return a\n",
    "        else\n",
    "            expon = div(x-1, 2)\n",
    "            return a*square( a^expon )\n",
    "        end\n",
    "    end\n",
    "end\n",
    "\n",
    "#Sin y Cos\n",
    "sin(a::Taylor) = sincos(a, \"sin\")\n",
    "cos(a::Taylor) = sincos(a, \"cos\")\n",
    "function sincos(a::Taylor, fun::AbstractString)\n",
    "    orden = a.orden\n",
    "    aux = sin( a.coeficientes[1] )\n",
    "    T = typeof(aux)\n",
    "    v = convert(Array{T,1}, a.coeficientes)\n",
    "    sincoeficientes = zeros(T,orden+1)\n",
    "    coscoeficientes = zeros(T,orden+1)\n",
    "    sincoeficientes[1] = aux\n",
    "    coscoeficientes[1] = cos( a.coeficientes[1] )\n",
    "    for k = 1:orden\n",
    "        sincoeficientes[k+1], coscoeficientes[k+1] = sincosHomogcoef(k, v, sincoeficientes, coscoeficientes)\n",
    "    end\n",
    "    if fun == \"sin\"\n",
    "        return Taylor( sincoeficientes, orden )\n",
    "    else\n",
    "        return Taylor( coscoeficientes, orden )\n",
    "    end\n",
    "end\n",
    "\n",
    "#Coeficientes homogeneos para cos y sin\n",
    "function sincosHomogcoef{T<:Number}(kcoef::Integer, ac::Array{T,1}, \n",
    "        sincoeficientes::Array{T,1}, coscoeficientes::Array{T,1})\n",
    "    sincoefhom = zero(T)\n",
    "    coscoefhom = zero(T)\n",
    "    for i = 1:kcoef\n",
    "        number = i * ac[i+1]\n",
    "        sincoefhom += number * coscoeficientes[kcoef-i+1]\n",
    "        coscoefhom -= number * sincoeficientes[kcoef-i+1]\n",
    "    end\n",
    "    sincoefhom = sincoefhom/kcoef\n",
    "    coscoefhom = coscoefhom/kcoef\n",
    "    return sincoefhom, coscoefhom\n",
    "end"
   ]
  },
  {
   "cell_type": "code",
   "execution_count": 3,
   "metadata": {
    "collapsed": false
   },
   "outputs": [
    {
     "name": "stderr",
     "output_type": "stream",
     "text": [
      "WARNING: static parameter T does not occur in signature for coeficientes at In[3]:7.\n",
      "The method will not be callable.\n"
     ]
    },
    {
     "data": {
      "text/plain": [
       "paso_integ (generic function with 1 method)"
      ]
     },
     "execution_count": 3,
     "metadata": {},
     "output_type": "execute_result"
    }
   ],
   "source": [
    "# # # # # # # # # # # # # # # # # # # # # # # # # # # # # # #\n",
    "\n",
    "#YURIKO\n",
    "\n",
    "#Función que calcula los coeficientes x[k]\n",
    "function coeficientes{T<:Number}(f::Function, p::Int, x_0=3)\n",
    "    coeft = Taylor(zeros(a.coeficientes), orden+1)\n",
    "# WARNING: static parameter T does not occur in signature for coeficientes at In[3]:7.\n",
    "# The method will not be callable.\n",
    "    for k in 0:p\n",
    "        x[k+1] = f[k]/k+1\n",
    "    end\n",
    "    coeft.coeficientes[0] = x_0\n",
    "    coeft.coeficientes[k] = x[k+1]\n",
    "end\n",
    "#Función para obtener el paso de integración h\n",
    "\n",
    "function paso_integ(p::Int)\n",
    "    x_p = coeft.coeficientes[p]\n",
    "    h = ((eps/abs(x_p))^(1/p))/2\n",
    "end\n",
    "\n",
    "#f(x)=x^2\n",
    "#x_0 = 3\n",
    "#coeficientes(x^2, 1)\n",
    "\n",
    "# # # # # # # # # # # # # # # # # # # # # # # # # # # # # # #"
   ]
  },
  {
   "cell_type": "code",
   "execution_count": 4,
   "metadata": {
    "collapsed": false
   },
   "outputs": [
    {
     "data": {
      "text/plain": [
       "horner (generic function with 2 methods)"
      ]
     },
     "execution_count": 4,
     "metadata": {},
     "output_type": "execute_result"
    }
   ],
   "source": [
    "# # # # # # # # # # # # # # # # # # # # # # # # # # # # # # #\n",
    "\n",
    "#IGNACIO\n",
    "\n",
    "#Funcion TaylorInt\n",
    "function TaylorInt{T<:Number, S<:Number}(a::Taylor{T}, x::S)\n",
    "    \n",
    "    R = promote_type(T, typeof(a.coeficientes[1] / 1), S)\n",
    "    coeficientes = zeros(R, a.orden+1)\n",
    "    \n",
    "    @inbounds for i = 1:a.orden\n",
    "        coeficientes[i+1] = a.coeficientes[i] / i\n",
    "    end\n",
    "    \n",
    "    @inbounds coeficientes[1] = convert(R, x)\n",
    "    return Taylor(coeficientes, a.orden)\n",
    "\n",
    "end\n",
    "\n",
    "TaylorInt{T<:Number}(a::Taylor{T}) = TaylorInt(a, zero(T))\n",
    "\n",
    "#Funcion Horner\n",
    "\n",
    "function horner{T<:Number,S<:Number}(a::Taylor{T}, dx::S)\n",
    "    \n",
    "    R = promote_type(T,S)\n",
    "    @inbounds suma = convert(R, a.coeficientes[end])\n",
    "    \n",
    "    @inbounds for k = a.orden:-1:1\n",
    "        suma = suma*dx + a.coeficientes[k]\n",
    "    end\n",
    "    suma\n",
    "    \n",
    "end\n",
    "\n",
    "horner{T<:Number}(a::Taylor{T}) = a.coeficientes[1]\n",
    "# # # # # # # # # # # # # # # # # # # # # # # # # # # # # # #"
   ]
  },
  {
   "cell_type": "markdown",
   "metadata": {},
   "source": [
    "**Ejercicio 2:** Repitan los cálculos usando el método de Runge-Kutta de 4o orden con paso de integración fijo (que es lo más sofisticado que conocen hasta ahora) y comparen los resultados del error relativo con el método de Taylor. En particular, finjan ignorancia de la misma manera que en el ejercicio anterior."
   ]
  },
  {
   "cell_type": "code",
   "execution_count": 5,
   "metadata": {
    "collapsed": true
   },
   "outputs": [],
   "source": [
    "#Segundo Ejercicio"
   ]
  },
  {
   "cell_type": "markdown",
   "metadata": {},
   "source": [
    "**Ejercicio 3:** Integra la ecuación de movimiento para el oscilador armónico, $\\ddot{x} = -2x$, con $x(0)=2$, $\\dot{x}(0)=0$, durante 10^4 periodos de oscilación (o sea, hasta $t_f = 10^4 \\cdot 2\\pi/\\sqrt{2}$, usando el método de Taylor y el método de Runge-Kutta de 4o orden con paso de integración constante. Compara cómo cambia la energía (respecto al valor al tiempo cero) en función del tiempo para ambos métodos."
   ]
  },
  {
   "cell_type": "code",
   "execution_count": 6,
   "metadata": {
    "collapsed": true
   },
   "outputs": [],
   "source": [
    "#Tercer Ejercicio"
   ]
  }
 ],
 "metadata": {
  "kernelspec": {
   "display_name": "Julia 0.4.5",
   "language": "julia",
   "name": "julia-0.4"
  },
  "language_info": {
   "file_extension": ".jl",
   "mimetype": "application/julia",
   "name": "julia",
   "version": "0.4.5"
  }
 },
 "nbformat": 4,
 "nbformat_minor": 0
}
