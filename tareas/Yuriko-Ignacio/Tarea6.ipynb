{
 "cells": [
  {
   "cell_type": "markdown",
   "metadata": {
    "collapsed": true
   },
   "source": [
    "# Tarea 6 - Derivadas Superiores\n",
    "\n",
    "### Autores: Yuriko Yamamoto, Ignacio Vargas"
   ]
  },
  {
   "cell_type": "markdown",
   "metadata": {},
   "source": [
    "I. Implementen una nueva estructura paramétrica (`type`) que defina el tipo `Taylor`, donde el parámetro debe ser un subtipo de `Number`. Definan métodos que implementen las operaciones aritméticas básicas (`+`, `-`, `*`, `/`) y la igualdad (`==`). Esto deberá ser incluido en un módulo.\n",
    "\n",
    "Incluyan pruebas (en el archivo \"runtests.jl\") para cada uno de los métodos que implementen."
   ]
  },
  {
   "cell_type": "code",
   "execution_count": 1,
   "metadata": {
    "collapsed": false
   },
   "outputs": [],
   "source": [
    "workspace()"
   ]
  },
  {
   "cell_type": "code",
   "execution_count": 2,
   "metadata": {
    "collapsed": false
   },
   "outputs": [],
   "source": [
    "#Importamos de base lo que vamos a necesitar\n",
    "import Base: length, zero, one, convert, eltype, promote, promote_rule\n",
    "import Base: log, sin, cos\n",
    "import Base: +, -, *, /, ==, ^"
   ]
  },
  {
   "cell_type": "code",
   "execution_count": 3,
   "metadata": {
    "collapsed": false
   },
   "outputs": [
    {
     "data": {
      "text/plain": [
       "Taylor{T<:Number}"
      ]
     },
     "execution_count": 3,
     "metadata": {},
     "output_type": "execute_result"
    }
   ],
   "source": [
    "#Declaramos el type Taylor\n",
    "type Taylor{T<:Number}\n",
    "    coeficientes :: Array{T,1}\n",
    "    orden :: Int\n",
    "    #Constructor interno\n",
    "    function Taylor(coeficientes::Array{T,1}, orden::Int)  \n",
    "        longitud_coeficientes= length(coeficientes)\n",
    "        orden = max(orden, longitud_coeficientes-1)\n",
    "        vector = zeros(T, orden+1)\n",
    "        vector[1:longitud_coeficientes] = coeficientes[1:end]\n",
    "        new(vector, orden)\n",
    "    end\n",
    "end\n",
    "\n",
    "#Constructores externos\n",
    "Taylor{T<:Number}(x::Taylor{T}, orden::Int) = Taylor{T}(x.coeficientes, orden)\n",
    "Taylor{T<:Number}(x::Taylor{T}) = Taylor{T}(x.coeficientes, x.orden)\n",
    "Taylor{T<:Number}(coeficientes::Array{T,1}, orden::Int) = Taylor{T}(coeficientes, orden)\n",
    "Taylor{T<:Number}(coeficientes::Array{T,1}) = Taylor{T}(coeficientes, length(coeficientes)-1)\n",
    "Taylor{T<:Number}(x::T, orden::Int) = Taylor{T}([x], orden)\n",
    "Taylor{T<:Number}(x::T) = Taylor{T}([x], 0)"
   ]
  },
  {
   "cell_type": "code",
   "execution_count": 4,
   "metadata": {
    "collapsed": false,
    "scrolled": true
   },
   "outputs": [
    {
     "data": {
      "text/plain": [
       "one (generic function with 11 methods)"
      ]
     },
     "execution_count": 4,
     "metadata": {},
     "output_type": "execute_result"
    }
   ],
   "source": [
    "#Conversion y reglas de promocion\n",
    "convert{T<:Number}(::Type{Taylor{T}}, a::Taylor) = Taylor(convert(Array{T,1}, a.coeficientes), a.orden)\n",
    "convert{T<:Number, S<:Number}(::Type{Taylor{T}}, b::Array{S,1}) = Taylor(convert(Array{T,1},b))\n",
    "convert{T<:Number, S<:Number}(::Type{Taylor{T}}, b::S) = Taylor([convert(T,b)], 0)\n",
    "promote_rule{T<:Number, S<:Number}(::Type{Taylor{T}}, ::Type{Taylor{S}}) = Taylor{promote_type(T, S)}\n",
    "promote_rule{T<:Number, S<:Number}(::Type{Taylor{T}}, ::Type{Array{S,1}}) = Taylor{promote_type(T, S)}\n",
    "promote_rule{T<:Number, S<:Number}(::Type{Array{S,1}}, ::Type{Taylor{T}}) = Taylor{promote_type(T, S)}\n",
    "promote_rule{T<:Number, S<:Number}(::Type{Taylor{T}}, ::Type{S}) = Taylor{promote_type(T, S)}\n",
    "promote_rule{T<:Number, S<:Number}(::Type{S}, ::Type{Taylor{T}}) = Taylor{promote_type(T, S)}\n",
    "\n",
    "#Funcion auxiliar que nos declara el primer 'no cero'\n",
    "function auxnocero{T<:Number}(a::Taylor{T})\n",
    "    nocero::Int = a.orden+1\n",
    "    for i in eachindex(a.coeficientes)\n",
    "        if a.coeficientes[i] != zero(T)\n",
    "            nocero = i-1\n",
    "            break\n",
    "        end\n",
    "    end\n",
    "    nocero\n",
    "end\n",
    "\n",
    "#Funcion auxiliar que nos arregla la forma de T y S\n",
    "function auxforma{T<:Number, S<:Number}(a::Taylor{T}, b::Taylor{S})\n",
    "    orden = max(a.orden, b.orden)\n",
    "    a1, b1 = promote(a, b)\n",
    "    return Taylor(a1, orden), Taylor(b1, orden), orden\n",
    "end\n",
    "\n",
    "#Tipo, longitud\n",
    "eltype{T<:Number}(::Taylor{T}) = T\n",
    "length{T<:Number}(a::Taylor{T}) = a.orden\n",
    "\n",
    "#Cero y uno\n",
    "zero{T<:Number}(a::Taylor{T}) = Taylor(zero(T), a.orden)\n",
    "one{T<:Number}(a::Taylor{T}) = Taylor(one(T), a.orden)"
   ]
  },
  {
   "cell_type": "code",
   "execution_count": 5,
   "metadata": {
    "collapsed": false
   },
   "outputs": [
    {
     "data": {
      "text/plain": [
       "/ (generic function with 51 methods)"
      ]
     },
     "execution_count": 5,
     "metadata": {},
     "output_type": "execute_result"
    }
   ],
   "source": [
    "#Igualdad\n",
    "function ==(a::Taylor, b::Taylor)\n",
    "    a1, b1, orden = auxforma(a, b)\n",
    "    return a1.coeficientes == b1.coeficientes\n",
    "end\n",
    "==(a::Taylor, b::Number) = ==(a, Taylor(b, a.orden))\n",
    "==(a::Number, b::Taylor) = ==(b, Taylor(a, b.orden))\n",
    "\n",
    "#Suma y resta (con un poco de code generation)\n",
    "for f in (:+, :-)\n",
    "    @eval begin\n",
    "        function ($f)(a::Taylor, b::Taylor)\n",
    "            a1, b1, orden = auxforma(a, b)\n",
    "            v = ($f)(a1.coeficientes, b1.coeficientes)\n",
    "            return Taylor(v, orden)\n",
    "        end\n",
    "       ($f)(a::Taylor, b::Number) = ($f)(a, Taylor(b, a.orden))\n",
    "       ($f)(a::Number, b::Taylor) = ($f)(Taylor(a, b.orden), b)\n",
    "       ($f)(a::Taylor) = Taylor(($f)(a.coeficientes), a.orden)\n",
    "    end\n",
    "end\n",
    "\n",
    "#Multiplicacion\n",
    "function *(a::Taylor, b::Taylor)\n",
    "    a1, b1, orden = auxforma(a, b)\n",
    "    T = eltype(a1)\n",
    "    coeficientes = zeros(T,orden+1)\n",
    "    coeficientes[1] = a1.coeficientes[1] * b1.coeficientes[1]\n",
    "    #Introducimos en el siguiente ciclo for a una \n",
    "    #funcion que declaramos justo despues,\n",
    "    #el coeficiente homogeneo para la multiplicacion\n",
    "    for k = 1:orden\n",
    "        coeficientes[k+1] = mulHomogcoef(k, a1.coeficientes, b1.coeficientes)\n",
    "    end\n",
    "    Taylor(coeficientes, orden)\n",
    "end\n",
    "\n",
    "#Coeficiente homogeneo para multiplicacion\n",
    "function mulHomogcoef{T<:Number}(kcoef::Int, ac::Array{T,1}, bc::Array{T,1})\n",
    "    coefhomog = zero(T)\n",
    "    for i = 0:kcoef\n",
    "        coefhomog += ac[i+1] * bc[kcoef-i+1]\n",
    "    end\n",
    "    coefhomog\n",
    "end\n",
    "*(a::Taylor, b::Number) = Taylor(b*a.coeficientes, a.orden)\n",
    "*(a::Number, b::Taylor) = Taylor(a*b.coeficientes, b.orden)\n",
    "\n",
    "#Division\n",
    "function /(a::Taylor, b::Taylor)\n",
    "    a1, b1, orden = auxforma(a, b)\n",
    "    ordLHopital, cLHopital = divlhopital(a1, b1) # orden y coeficiente L'Hopital\n",
    "    T = typeof(cLHopital)\n",
    "    v1 = convert(Array{T,1}, a1.coeficientes)\n",
    "    v2 = convert(Array{T,1}, b1.coeficientes)\n",
    "    coeficientes = zeros(T,orden+1)\n",
    "    coeficientes[1] = cLHopital\n",
    "    for k = ordLHopital+1:orden\n",
    "        coeficientes[k-ordLHopital+1] = divHomogcoef(k, v1, v2, coeficientes, ordLHopital)\n",
    "    end\n",
    "    Taylor(coeficientes, orden)\n",
    "end\n",
    "\n",
    "#Funcion auxiliar que calcula orden L'Hopital, se asume a1 y b1 son del mismo orden\n",
    "function divlhopital(a1::Taylor, b1::Taylor)\n",
    "    a1nz = auxnocero(a1)\n",
    "    b1nz = auxnocero(b1)\n",
    "    ordLHopital = min(a1nz, b1nz)\n",
    "    if ordLHopital > a1.orden\n",
    "        ordLHopital = a1.orden\n",
    "    end\n",
    "    cLHopital = a1.coeficientes[ordLHopital+1] / b1.coeficientes[ordLHopital+1]\n",
    "    auxsq = abs2(cLHopital)\n",
    "    #Hacemos la prueba para ver si se puede aplicar L'Hopital\n",
    "    if isinf(auxsq)\n",
    "        info(\"Orden k=$(ordLHopital) => coeficientes[$(ordLHopital+1)]=$(cLHopital)\")\n",
    "        error(\"Division no define polinomio Taylor, o su primer coeficiente es infinito.\\n\")\n",
    "    elseif isnan(auxsq)\n",
    "        info(\"Orden k=$(ordLHopital) => coeficientes[$(ordLHopital+1)]=$(cLHopital)\")\n",
    "        error(\"No se puede aplicar L'Hopital.\\n\")\n",
    "    elseif ordLHopital>0\n",
    "        warn(\"Aplicando L'Hopital. Ultimos k=$(ordLHopital) coeficientes Taylor son 0.\\n\")\n",
    "    end\n",
    "    return ordLHopital, cLHopital\n",
    "end\n",
    "\n",
    "#Coeficiente Homogeneo para Division\n",
    "function divHomogcoef{T<:Number}(kcoef::Integer, ac::Array{T,1}, bc::Array{T,1}, \n",
    "        coeficientes::Array{T,1}, ordLHopital::Integer)\n",
    "    coefhomog = mulHomogcoef(kcoef, coeficientes, bc)\n",
    "    coefhomog = (ac[kcoef+1]-coefhomog) / bc[ordLHopital+1]\n",
    "    coefhomog\n",
    "end\n",
    "/(a::Taylor,b::Number) = Taylor(a.coeficientes/b, a.orden)\n",
    "/(a::Number,b::Taylor) = Taylor([a], b.orden) / b"
   ]
  },
  {
   "cell_type": "code",
   "execution_count": 6,
   "metadata": {
    "collapsed": false,
    "scrolled": true
   },
   "outputs": [],
   "source": [
    "using Base.Test\n",
    "\n",
    "@test Taylor([0,5]) + 5 == Taylor([5,5])\n",
    "@test Taylor([6,6,6]) == Taylor([6,6,6,0,0,0,0,0,0,0,0,0,0,0,0,0,0,0,0,0])\n",
    "@test Taylor([7,0]) + Taylor([0,7]) == Taylor([7,7])\n",
    "@test Taylor(ones(8))/Taylor([1,1]) * Taylor([1,1]) == Taylor(ones(8))\n",
    "@test Taylor([1.,2.,1.])/Taylor([1.,1.]) == Taylor([1.,1.])\n",
    "\n",
    "x = Taylor([0,1],15)\n",
    "z = zero(x)\n",
    "u = 1.0*one(x)\n",
    "\n",
    "@test eltype(promote(z,Taylor(u))[1]) == Float64\n",
    "@test eltype(auxforma(z,u)[1]) == Float64\n",
    "@test length(auxforma(Taylor(0,5),z)[1]) == 15\n",
    "@test auxnocero(x) == 1\n",
    "@test auxnocero(z) == z.orden+1\n",
    "\n",
    "@test u == 1\n",
    "@test 0.0 == z\n",
    "@test x.coeficientes[2] == 1\n",
    "@test z+1 == u\n",
    "@test x+x == 2x\n",
    "@test x-x == z\n",
    "\n",
    "x2 = Taylor([0,0,1],15)\n",
    "@test x*x == x2\n",
    "@test (-x)^2 == x2\n",
    "@test 1-x2 == (1+x)-x*(1+x)\n",
    "@test (1-x2)^2 == (1+x)^2 * (1-x)^2"
   ]
  },
  {
   "cell_type": "code",
   "execution_count": 7,
   "metadata": {
    "collapsed": false
   },
   "outputs": [
    {
     "name": "stderr",
     "output_type": "stream",
     "text": [
      "INFO: Orden k=0 => coeficientes[1]=Inf\n"
     ]
    },
    {
     "ename": "LoadError",
     "evalue": "LoadError: Division no define polinomio Taylor, o su primer coeficiente es infinito.\n\nwhile loading In[7], in expression starting on line 1",
     "output_type": "error",
     "traceback": [
      "LoadError: Division no define polinomio Taylor, o su primer coeficiente es infinito.\n\nwhile loading In[7], in expression starting on line 1",
      ""
     ]
    }
   ],
   "source": [
    "Taylor([1,1,1])/Taylor(0)"
   ]
  },
  {
   "cell_type": "code",
   "execution_count": 8,
   "metadata": {
    "collapsed": false
   },
   "outputs": [
    {
     "name": "stderr",
     "output_type": "stream",
     "text": [
      "WARNING: Aplicando L'Hopital. Ultimos k=2 coeficientes Taylor son 0.\n"
     ]
    },
    {
     "data": {
      "text/plain": [
       "Taylor{Float64}([0.0,0.0,1.0,0.0,0.0],4)"
      ]
     },
     "execution_count": 8,
     "metadata": {},
     "output_type": "execute_result"
    }
   ],
   "source": [
    "a = Taylor([0,0,1,0,0]);\n",
    "b = Taylor([0,0,0,0,1]);\n",
    "b/a"
   ]
  },
  {
   "cell_type": "markdown",
   "metadata": {},
   "source": [
    "II. Obtengan las relaciones de recurrencia para las funciones $L(x) = \\log\\big(g(x)\\big)$, $P_\\alpha(x) = \\big(g(x)\\big)^\\alpha$, $S(x) = \\sin\\big(g(x)\\big)$, $C(x) = \\cos\\big(g(x)\\big)$ usando el mismo procedimiento que arriba. Implementen métodos adecuados para estas funciones en el módulo, actuando sobre estructuras `Taylor` e incluyan pruebas."
   ]
  },
  {
   "cell_type": "code",
   "execution_count": 9,
   "metadata": {
    "collapsed": false
   },
   "outputs": [
    {
     "data": {
      "text/plain": [
       "logHomogcoef (generic function with 1 method)"
      ]
     },
     "execution_count": 9,
     "metadata": {},
     "output_type": "execute_result"
    }
   ],
   "source": [
    "#Logaritmo\n",
    "function log(a::Taylor)\n",
    "    orden = a.orden\n",
    "    l0nz = auxnocero(a)\n",
    "    if auxnocero(a)>0\n",
    "        error(\"No es posible expander log alrededor de 0.\\n\")\n",
    "    end\n",
    "    auxlog = log( a.coeficientes[1] )\n",
    "    T = typeof(auxlog)\n",
    "    ac = convert(Array{T,1}, a.coeficientes)\n",
    "    coeficientes = zeros(T, orden+1)\n",
    "    coeficientes[1] = auxlog\n",
    "    for k = 1:orden\n",
    "        coeficientes[k+1] = logHomogcoef(k, ac, coeficientes)\n",
    "    end\n",
    "    Taylor( coeficientes, orden )\n",
    "end\n",
    "\n",
    "#Coeficientes homogeneos para logaritmo\n",
    "function logHomogcoef{T<:Number}(kcoef::Integer, ac::Array{T,1}, coeficientes::Array{T,1})\n",
    "  coefhomog = zero(T)\n",
    "  for i = 1:kcoef-1\n",
    "    coefhomog += (kcoef-i) * ac[i+1] * coeficientes[kcoef-i+1]\n",
    "  end\n",
    "  coefhomog = (ac[kcoef+1] -coefhomog/kcoef) / ac[1]\n",
    "  coefhomog\n",
    "end"
   ]
  },
  {
   "cell_type": "code",
   "execution_count": 10,
   "metadata": {
    "collapsed": false
   },
   "outputs": [
    {
     "data": {
      "text/plain": [
       "^ (generic function with 46 methods)"
      ]
     },
     "execution_count": 10,
     "metadata": {},
     "output_type": "execute_result"
    }
   ],
   "source": [
    "#Elevar al cuadrado\n",
    "function square{T<:Number}(a::Taylor{T})\n",
    "    orden = a.orden\n",
    "    coeficientes = zeros(T,orden+1)\n",
    "    coeficientes[1] = a.coeficientes[1]^2\n",
    "    for k = 1:orden\n",
    "        coeficientes[k+1] = squareHomogcoeff(k, a.coeficientes)\n",
    "    end\n",
    "    Taylor(coeficientes,orden)\n",
    "end\n",
    "#Coeficientes homogeneos para elevar al cuadrado\n",
    "function squareHomogcoeff{T<:Number}(kcoef::Integer, ac::Array{T,1})\n",
    "    coefhomog = zero(T)\n",
    "    kodd = kcoef%2\n",
    "    kend = div(kcoef - 2 + kodd, 2)\n",
    "    for i = 0:kend\n",
    "        coefhomog += ac[i+1]*ac[kcoef-i+1]\n",
    "    end\n",
    "    coefhomog = 2coefhomog\n",
    "    if kodd == 0\n",
    "        coefhomog += ac[div(kcoef,2)+1]^2\n",
    "    end\n",
    "    coefhomog\n",
    "end\n",
    "\n",
    "#Elevar a potencia entera cualquiera\n",
    "function ^(a::Taylor, x::Integer)\n",
    "    uno = one(a)\n",
    "    if x < 0\n",
    "        return uno / a^(-x)\n",
    "    elseif x == 0\n",
    "        return uno\n",
    "    elseif x%2 == 0 # par\n",
    "        if x == 2\n",
    "            return square(a)\n",
    "        else\n",
    "            pow = div(x, 2)\n",
    "            return square( a^pow )\n",
    "        end\n",
    "    else  # impar\n",
    "        if x == 1\n",
    "            return a\n",
    "        else\n",
    "            expon = div(x-1, 2)\n",
    "            return a*square( a^expon )\n",
    "        end\n",
    "    end\n",
    "end"
   ]
  },
  {
   "cell_type": "code",
   "execution_count": 11,
   "metadata": {
    "collapsed": false
   },
   "outputs": [
    {
     "data": {
      "text/plain": [
       "sincosHomogcoef (generic function with 1 method)"
      ]
     },
     "execution_count": 11,
     "metadata": {},
     "output_type": "execute_result"
    }
   ],
   "source": [
    "#Sin y Cos\n",
    "sin(a::Taylor) = sincos(a, \"sin\")\n",
    "cos(a::Taylor) = sincos(a, \"cos\")\n",
    "function sincos(a::Taylor, fun::AbstractString)\n",
    "    orden = a.orden\n",
    "    auxtrigo = sin( a.coeficientes[1] )\n",
    "    T = typeof(auxtrigo)\n",
    "    v = convert(Array{T,1}, a.coeficientes)\n",
    "    sincoeficientes = zeros(T,orden+1)\n",
    "    coscoeficientes = zeros(T,orden+1)\n",
    "    sincoeficientes[1] = auxtrigo\n",
    "    coscoeficientes[1] = cos( a.coeficientes[1] )\n",
    "    for k = 1:orden\n",
    "        sincoeficientes[k+1], coscoeficientes[k+1] = sincosHomogcoef(k, v, sincoeficientes, coscoeficientes)\n",
    "    end\n",
    "    if fun == \"sin\"\n",
    "        return Taylor( sincoeficientes, orden )\n",
    "    else\n",
    "        return Taylor( coscoeficientes, orden )\n",
    "    end\n",
    "end\n",
    "\n",
    "#Coeficientes homogeneos para cos y sin\n",
    "function sincosHomogcoef{T<:Number}(kcoef::Integer, ac::Array{T,1}, \n",
    "        sincoeficientes::Array{T,1}, coscoeficientes::Array{T,1})\n",
    "    sincoefhom = zero(T)\n",
    "    coscoefhom = zero(T)\n",
    "    for i = 1:kcoef\n",
    "        number = i * ac[i+1]\n",
    "        sincoefhom += number * coscoeficientes[kcoef-i+1]\n",
    "        coscoefhom -= number * sincoeficientes[kcoef-i+1]\n",
    "    end\n",
    "    sincoefhom = sincoefhom/kcoef\n",
    "    coscoefhom = coscoefhom/kcoef\n",
    "    return sincoefhom, coscoefhom\n",
    "end"
   ]
  },
  {
   "cell_type": "code",
   "execution_count": 12,
   "metadata": {
    "collapsed": false
   },
   "outputs": [],
   "source": [
    "x = Taylor([0,1],15)\n",
    "@test log((1-x)^2) == 2*log(1-x)\n",
    "\n",
    "@test sin(Taylor([0])) == 0\n",
    "@test cos(Taylor([0])) == 1\n",
    "@test square(Taylor([2])) == 4\n",
    "@test ^(Taylor([2]), 2) == 4\n",
    "@test ^(Taylor([2]), 3) == 8\n",
    "@test ^(Taylor([2]), 4) == 16"
   ]
  }
 ],
 "metadata": {
  "kernelspec": {
   "display_name": "Julia 0.4.5",
   "language": "julia",
   "name": "julia-0.4"
  },
  "language_info": {
   "file_extension": ".jl",
   "mimetype": "application/julia",
   "name": "julia",
   "version": "0.4.5"
  }
 },
 "nbformat": 4,
 "nbformat_minor": 0
}
