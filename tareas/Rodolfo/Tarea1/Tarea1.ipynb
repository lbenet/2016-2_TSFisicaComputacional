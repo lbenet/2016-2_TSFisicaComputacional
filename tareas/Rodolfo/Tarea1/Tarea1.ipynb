{
 "cells": [
  {
   "cell_type": "markdown",
   "metadata": {},
   "source": [
    "# Obtención de Raíces Cuadráticas"
   ]
  },
  {
   "cell_type": "code",
   "execution_count": 1,
   "metadata": {
    "collapsed": false
   },
   "outputs": [
    {
     "data": {
      "text/plain": [
       "cuadratica (generic function with 1 method)"
      ]
     },
     "execution_count": 1,
     "metadata": {},
     "output_type": "execute_result"
    }
   ],
   "source": [
    "\"\"\"\n",
    "Función que regresa las raíces de ecuaciones cuadráticas.\n",
    "Sólo acepta funciones con coeficientes reales, y un input de tipo Real.\n",
    "Existen dos intercepciones, en la primera genera un error si el coeficiente A es cero, y por lo tanto la función no es cuadrática. En la segunda, calcula el determinante y genera un error si es menor a cero, lo cual indica que habrá raíces completas y por lo tanto no se preservará el type-stable.\n",
    "Si no hay errores, regresa una tupla de dos Float64 indicando las raíces de la función.\n",
    "\"\"\"\n",
    "\n",
    "function cuadratica(a::Real, b::Real, c::Real)\n",
    "  if (a==0)\n",
    "    error(\"Esto no es una función cuadrática.\")\n",
    "  elseif (b^2 - 4*a*c<0)\n",
    "    error(\"La función tiene raíces complejas.\")\n",
    "  else\n",
    "    [(-b)/(2a), (b)/(2a)]\n",
    "  end\n",
    "end"
   ]
  },
  {
   "cell_type": "code",
   "execution_count": 2,
   "metadata": {
    "collapsed": false
   },
   "outputs": [
    {
     "name": "stdout",
     "output_type": "stream",
     "text": [
      "search: "
     ]
    },
    {
     "data": {
      "text/latex": [
       "Función que regresa las raíces de ecuaciones cuadráticas. Sólo acepta funciones con coeficientes reales, y un input de tipo Real. Existen dos intercepciones, en la primera genera un error si el coeficiente A es cero, y por lo tanto la función no es cuadrática. En la segunda, calcula el determinante y genera un error si es menor a cero, lo cual indica que habrá raíces completas y por lo tanto no se preservará el type-stable. Si no hay errores, regresa una tupla de dos Float64 indicando las raíces de la función.\n"
      ],
      "text/markdown": [
       "Función que regresa las raíces de ecuaciones cuadráticas. Sólo acepta funciones con coeficientes reales, y un input de tipo Real. Existen dos intercepciones, en la primera genera un error si el coeficiente A es cero, y por lo tanto la función no es cuadrática. En la segunda, calcula el determinante y genera un error si es menor a cero, lo cual indica que habrá raíces completas y por lo tanto no se preservará el type-stable. Si no hay errores, regresa una tupla de dos Float64 indicando las raíces de la función.\n"
      ],
      "text/plain": [
       "Función que regresa las raíces de ecuaciones cuadráticas. Sólo acepta funciones con coeficientes reales, y un input de tipo Real. Existen dos intercepciones, en la primera genera un error si el coeficiente A es cero, y por lo tanto la función no es cuadrática. En la segunda, calcula el determinante y genera un error si es menor a cero, lo cual indica que habrá raíces completas y por lo tanto no se preservará el type-stable. Si no hay errores, regresa una tupla de dos Float64 indicando las raíces de la función.\n"
      ]
     },
     "execution_count": 2,
     "metadata": {},
     "output_type": "execute_result"
    },
    {
     "name": "stdout",
     "output_type": "stream",
     "text": [
      "cuadratica\n",
      "\n"
     ]
    }
   ],
   "source": [
    "?cuadratica"
   ]
  },
  {
   "cell_type": "markdown",
   "metadata": {},
   "source": [
    "## Condiciones de Error"
   ]
  },
  {
   "cell_type": "markdown",
   "metadata": {},
   "source": [
    "### Tipo Incorrecto"
   ]
  },
  {
   "cell_type": "code",
   "execution_count": 3,
   "metadata": {
    "collapsed": false
   },
   "outputs": [
    {
     "ename": "LoadError",
     "evalue": "LoadError: MethodError: `cuadratica` has no method matching cuadratica(::Int64, ::Int64, ::Complex{Int64})\nClosest candidates are:\n  cuadratica(::Real, ::Real, !Matched::Real)\nwhile loading In[3], in expression starting on line 1",
     "output_type": "error",
     "traceback": [
      "LoadError: MethodError: `cuadratica` has no method matching cuadratica(::Int64, ::Int64, ::Complex{Int64})\nClosest candidates are:\n  cuadratica(::Real, ::Real, !Matched::Real)\nwhile loading In[3], in expression starting on line 1",
      ""
     ]
    }
   ],
   "source": [
    "cuadratica(1,2,1im)"
   ]
  },
  {
   "cell_type": "markdown",
   "metadata": {},
   "source": [
    "Genera un error ya que una de las entradas no es de tipo **Real**."
   ]
  },
  {
   "cell_type": "markdown",
   "metadata": {},
   "source": [
    "### Grado Incorrecto"
   ]
  },
  {
   "cell_type": "code",
   "execution_count": 4,
   "metadata": {
    "collapsed": false
   },
   "outputs": [
    {
     "ename": "LoadError",
     "evalue": "LoadError: Esto no es una función cuadrática.\nwhile loading In[4], in expression starting on line 1",
     "output_type": "error",
     "traceback": [
      "LoadError: Esto no es una función cuadrática.\nwhile loading In[4], in expression starting on line 1",
      "",
      " in cuadratica at In[1]:10"
     ]
    }
   ],
   "source": [
    "cuadratica(0,2,1)"
   ]
  },
  {
   "cell_type": "markdown",
   "metadata": {},
   "source": [
    "Genera un error ya que la función no es cuadrática."
   ]
  },
  {
   "cell_type": "markdown",
   "metadata": {},
   "source": [
    "### Raíces Complejas"
   ]
  },
  {
   "cell_type": "code",
   "execution_count": 5,
   "metadata": {
    "collapsed": false
   },
   "outputs": [
    {
     "ename": "LoadError",
     "evalue": "LoadError: La función tiene raíces complejas.\nwhile loading In[5], in expression starting on line 1",
     "output_type": "error",
     "traceback": [
      "LoadError: La función tiene raíces complejas.\nwhile loading In[5], in expression starting on line 1",
      "",
      " in cuadratica at In[1]:12"
     ]
    }
   ],
   "source": [
    "cuadratica(1,1,1)"
   ]
  },
  {
   "cell_type": "markdown",
   "metadata": {},
   "source": [
    "Genera un error ya que la función tiene raíces complejas."
   ]
  },
  {
   "cell_type": "markdown",
   "metadata": {},
   "source": [
    "## Ejemplos"
   ]
  },
  {
   "cell_type": "markdown",
   "metadata": {},
   "source": [
    "$x^2=0$"
   ]
  },
  {
   "cell_type": "code",
   "execution_count": 6,
   "metadata": {
    "collapsed": false
   },
   "outputs": [
    {
     "data": {
      "text/plain": [
       "2-element Array{Float64,1}:\n",
       " 0.0\n",
       " 0.0"
      ]
     },
     "execution_count": 6,
     "metadata": {},
     "output_type": "execute_result"
    }
   ],
   "source": [
    "cuadratica(1,0,0)"
   ]
  },
  {
   "cell_type": "markdown",
   "metadata": {},
   "source": [
    "$(x+1)^2=x^2+2x+1=0$"
   ]
  },
  {
   "cell_type": "code",
   "execution_count": 7,
   "metadata": {
    "collapsed": false
   },
   "outputs": [
    {
     "data": {
      "text/plain": [
       "2-element Array{Float64,1}:\n",
       " -1.0\n",
       "  1.0"
      ]
     },
     "execution_count": 7,
     "metadata": {},
     "output_type": "execute_result"
    }
   ],
   "source": [
    "cuadratica(1,2,1)"
   ]
  },
  {
   "cell_type": "markdown",
   "metadata": {},
   "source": [
    "$15x^2+16x+3=0$"
   ]
  },
  {
   "cell_type": "code",
   "execution_count": 8,
   "metadata": {
    "collapsed": false
   },
   "outputs": [
    {
     "data": {
      "text/plain": [
       "2-element Array{Float64,1}:\n",
       " -0.533333\n",
       "  0.533333"
      ]
     },
     "execution_count": 8,
     "metadata": {},
     "output_type": "execute_result"
    }
   ],
   "source": [
    "cuadratica(15,16,3)"
   ]
  },
  {
   "cell_type": "code",
   "execution_count": null,
   "metadata": {
    "collapsed": true
   },
   "outputs": [],
   "source": []
  }
 ],
 "metadata": {
  "kernelspec": {
   "display_name": "Julia 0.4.3",
   "language": "julia",
   "name": "julia-0.4"
  },
  "language_info": {
   "file_extension": ".jl",
   "mimetype": "application/julia",
   "name": "julia",
   "version": "0.4.3"
  }
 },
 "nbformat": 4,
 "nbformat_minor": 0
}
