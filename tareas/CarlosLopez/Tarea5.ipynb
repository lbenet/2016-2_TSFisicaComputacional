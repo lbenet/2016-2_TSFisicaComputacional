{
 "cells": [
  {
   "cell_type": "markdown",
   "metadata": {
    "slideshow": {
     "slide_type": "slide"
    }
   },
   "source": [
    "# Diferenciación automática: Parte 2"
   ]
  },
  {
   "cell_type": "markdown",
   "metadata": {},
   "source": [
    "### NOTA\n",
    "\n",
    "Este notebook se iniciará en la clase y **debe** hacerse en equipo, con los *mismos miembros* que participaron en la \"Tarea4.ipynb\". La resolución completa de los ejercicios debe ser enviada como \"Tarea5.ipynb\"."
   ]
  },
  {
   "cell_type": "markdown",
   "metadata": {
    "slideshow": {
     "slide_type": "slide"
    }
   },
   "source": [
    "## Funciones elementales"
   ]
  },
  {
   "cell_type": "markdown",
   "metadata": {},
   "source": [
    "Lo que se logró en la clase pasada fue, esencialmente, tener una manera de obtener primeras\n",
    "derivadas para cualquier función racional, esto es, cocientes de polinomios en una variable.\n",
    "\n",
    "El siguiente paso es incluir más funciones a fin de ampliar la aplicabilidad de lo hecho la vez pasada, en particular a las funciones elementales: $\\exp$, $\\log$, etc."
   ]
  },
  {
   "cell_type": "markdown",
   "metadata": {
    "slideshow": {
     "slide_type": "slide"
    }
   },
   "source": [
    "La extensión a estas funciones es elemental, y así por ejemplo tenemos:\n",
    "\n",
    "\\begin{eqnarray}\n",
    "\\exp[\\vec{f}(x_0)] &=& \\big( \\exp(f_0),\\, f'_0\\exp(f_0) \\,\\big),\\\\\n",
    "\\log[\\vec{f}(x_0)] &=& \\big( \\log(f_0),\\, \\frac{f'_0}{f_0} \\,\\big),\\\\\n",
    "\\sin[\\vec{f}(x_0)] &=& \\big( \\sin(f_0),\\, f'_0\\cos(f_0) \\,\\big),\\\\\n",
    "\\cos[\\vec{f}(x_0)] &=& \\big( \\cos(f_0),\\, -f'_0\\sin(f_0) \\,\\big),\\\\\n",
    "\\tan[\\vec{f}(x_0)] &=& \\big( \\tan(f_0),\\, f'_0\\sec^2(f_0) \\,\\big),\\\\\n",
    "\\sinh[\\vec{f}(x_0)] &=& \\big( \\sinh(f_0),\\, f'_0\\cosh(f_0) \\,\\big),\\\\\n",
    "...\\\\\n",
    "\\end{eqnarray}\n",
    "\n",
    "Vale la pena enfatizar que la regla de la cadena se utiliza en la segunda componente del \n",
    "lado derecho de estas ecuaciones."
   ]
  },
  {
   "cell_type": "markdown",
   "metadata": {
    "collapsed": true,
    "slideshow": {
     "slide_type": "slide"
    }
   },
   "source": [
    "## Ejercicio\n",
    "\n",
    "Implementen las funciones relacionadas con potencias, exponenciales, logarítmos, las funciones trigonométricas y las hiperbólicas que tiene Julia definidas (ver la [documentación](http://julia.readthedocs.org/en/release-0.4/manual/mathematical-operations/#trigonometric-and-hyperbolic-functions)). La implementación debe incluir los tests adecuados. La manera en que implementen las cosas debe estar clara en el notebook \"Tarea5.ipynb\", pero toda la funcionalidad debe ser incluida en \"AutomDiff.jl\" al igual que en \"runtests.jl\"\n",
    "\n",
    "**Hint:** Aprovechen las capacidades de Julia en metaprogramming."
   ]
  },
  {
   "cell_type": "code",
   "execution_count": 1,
   "metadata": {
    "collapsed": true
   },
   "outputs": [],
   "source": [
    "include(\"AutomDiff.jl\")\n",
    "using AD"
   ]
  },
  {
   "cell_type": "code",
   "execution_count": null,
   "metadata": {
    "collapsed": false
   },
   "outputs": [],
   "source": [
    "derivadas = (\n",
    "[:exp,:(exp(x.fun))],\n",
    "[:sqrt,:(1/(2*sqrt(x.fun)))],\n",
    "[:log,:(1/x.fun)],\n",
    "[:sin,:(cos(x.fun))],\n",
    "[:cos,:(-sin(x.fun))],\n",
    "[:tan,:(sec(x.fun)^2)],\n",
    "[:cot,:(-csc(x.fun)^2)],\n",
    "[:sec,:(sec(x.fun)*tan(x.fun))],\n",
    "[:csc,:(-csc(x.fun)*cot(x.fun))],\n",
    "[:sinh,:(cosh(x.fun))],\n",
    "[:cosh,:(sinh(x.fun))],\n",
    "[:tanh,:(sec(x.fun)^2)],\n",
    "[:coth,:(-csch(x.fun)^2)],\n",
    "[:sech,:(sech(x.fun)*tanh(x.fun))],\n",
    "[:csch,:(-csch(x.fun)*coth(x.fun))],\n",
    "[:asin,:(1/sqrt(1-(x.fun^2)))],\n",
    "[:acos,:(-1/sqrt(1-(x.fun^2)))],\n",
    "[:atan,:(1/sqrt(1+(x.fun^2)))],\n",
    "[:acot,:(-1/(1+(x.fun^2)))],\n",
    "[:asec,:(1/(abs(x.fun)*sqrt((x.fun^2)-1)))],\n",
    "[:acsc,:(-1/(abs(x.fun)*sqrt((x.fun^2)-1)))],\n",
    "[:asinh,:(1/sqrt((x.fun^2)+1))],\n",
    "[:acosh,:(1/sqrt((x.fun^2)-1))],\n",
    "[:atanh,:(1/sqrt(1-(x.fun^2)))],\n",
    "[:acoth,:(1/sqrt(1-(x.fun^2)))],\n",
    "[:asech,:(1/(1-(x.fun^2)))],\n",
    "[:acsch,:(-1/(abs(x.fun)*sqrt((x.fun^2)+1)))],\n",
    "[:sinc,:(cosc(x.fun))],\n",
    ")"
   ]
  },
  {
   "cell_type": "code",
   "execution_count": null,
   "metadata": {
    "collapsed": false
   },
   "outputs": [],
   "source": [
    "for op in derivadas\n",
    "  eval(quote\n",
    "        import Base:$(op[1])\n",
    "        ($(op[1]))(x::Dual) = Dual( $(op[1])(x.fun) , x.der*$(op[2]) ) \n",
    "  end)\n",
    "end"
   ]
  },
  {
   "cell_type": "code",
   "execution_count": 7,
   "metadata": {
    "collapsed": false
   },
   "outputs": [],
   "source": [
    "#test\n",
    "# vamos a probar por ejemplo sin(Dual(a,b))==Dual(sin(a),b*cos(a)), ya tenemos una lista de\n",
    "# derivadas definida, así que podemos hacerlo automáticamente, y vamos a probar para diferentes\n",
    "# tipos de números.\n",
    "using Base.Test\n",
    "A=(1,7,0.0,1.0,7.0,pi,-1,-7)\n",
    "for (a in A)\n",
    "    for(b in A)\n",
    "        x=Dual(a,b)\n",
    "        for op in derivadas\n",
    "            da=false;\n",
    "            db=false;\n",
    "            try # el try es para descartar divisiones entre 0 y sqrt de números negativos\n",
    "                da=eval(quote$(op[1])end)(x)\n",
    "            end\n",
    "            try\n",
    "                db=Dual(eval(quote$(op[1])end)(a) , b*(eval(quote$(op[2])end)))\n",
    "            end\n",
    "            if(da!=false && db!=false && !isnan(db.fun) && !isnan(db.der))\n",
    "                print (\"tested: \",op[1],\"(\",x,\") = \",da,\"\\n\",)\n",
    "                @test da==db\n",
    "            end\n",
    "            \n",
    "        end\n",
    "    end\n",
    "end"
   ]
  },
  {
   "cell_type": "markdown",
   "metadata": {
    "slideshow": {
     "slide_type": "slide"
    }
   },
   "source": [
    "## Ejercicio\n",
    "\n",
    "Prueben su implementación calculando la derivada de $f(x) = \\sin\\Big(x^3 - \\frac{2}{x^6}\\Big)$\n",
    "en $x_0 = 2$.\n",
    "\n",
    "Dibujen, para $x_0 \\in [1,5]$ la función $f'(x)$."
   ]
  },
  {
   "cell_type": "code",
   "execution_count": 2,
   "metadata": {
    "collapsed": false
   },
   "outputs": [
    {
     "data": {
      "text/plain": [
       "0.9934213368955197 + -1.384934905523464ε"
      ]
     },
     "execution_count": 2,
     "metadata": {},
     "output_type": "execute_result"
    }
   ],
   "source": [
    "f(x)=sin(x^3-(2/(x^6)))\n",
    "f(xdual(2))"
   ]
  },
  {
   "cell_type": "code",
   "execution_count": 8,
   "metadata": {
    "collapsed": true
   },
   "outputs": [],
   "source": [
    "f(x)=sin(x^3-(2/(x^6)))\n",
    "A = linspace(1,5,1000)\n",
    "B=Float64[]\n",
    "\n",
    "for a in A\n",
    "    push!(B,f(xdual(a)).der)\n",
    "end\n",
    "#Talvez seria útil implementar Duales con Arrays"
   ]
  },
  {
   "cell_type": "code",
   "execution_count": null,
   "metadata": {
    "collapsed": true
   },
   "outputs": [],
   "source": [
    "Pkg.add(\"UnicodePlots\")\n",
    "Pkg.add(\"PyPlot\")"
   ]
  },
  {
   "cell_type": "code",
   "execution_count": 10,
   "metadata": {
    "collapsed": false
   },
   "outputs": [
    {
     "data": {
      "image/png": "[encoded data removed]",
      "text/plain": [
       "PyPlot.Figure(PyObject <matplotlib.figure.Figure object at 0x0000000017D73940>)"
      ]
     },
     "metadata": {},
     "output_type": "display_data"
    },
    {
     "data": {
      "text/plain": [
       "1-element Array{Any,1}:\n",
       " PyObject <matplotlib.lines.Line2D object at 0x0000000017DE5F28>"
      ]
     },
     "execution_count": 10,
     "metadata": {},
     "output_type": "execute_result"
    }
   ],
   "source": [
    "using PyPlot\n",
    "plot(A,B)"
   ]
  },
  {
   "cell_type": "markdown",
   "metadata": {},
   "source": [
    "# Ejercicio\n",
    "\n",
    "Implementen el método de Newton para una función arbitraria $f(x)$ en una variable (la función `newton1D` debe tener un argumento que es una función) a fin de encontrar un cero de la función, i.e., $f(x^*)=0$. El método de Newton requiere la derivada evaluada en diversos puntos, cosa que obtendrán usando el módulo de derivación automática.\n",
    "\n",
    "- Obtengan, usando su función del método de Newton, las raices del polinomio de Wilkinson $W_{6}(x)$, usando como iterados iniciales $x_0=2.2$ y $x_0=2.45$.\n",
    "    \n",
    "- Hagan lo mismo que en el inciso anterior para $g(x) = x \\sin(2x)$, con $x_0=0.7$."
   ]
  },
  {
   "cell_type": "code",
   "execution_count": null,
   "metadata": {
    "collapsed": false
   },
   "outputs": [],
   "source": [
    "function newton(f,x0=0,n=10)\n",
    "    xn=x0\n",
    "    for i = 1:n\n",
    "        d=f(xdual(xn))\n",
    "        xn-=d.fun/d.der\n",
    "    end\n",
    "    xn\n",
    "end"
   ]
  },
  {
   "cell_type": "code",
   "execution_count": 13,
   "metadata": {
    "collapsed": false
   },
   "outputs": [
    {
     "name": "stdout",
     "output_type": "stream",
     "text": [
      "f(2.2)\t-> 2.0\n",
      "f(2.45)\t-> 6.0\n",
      "g(0.7)\t-> 0.0002615203939528769"
     ]
    }
   ],
   "source": [
    "f(x)=(x-1)*(x-2)*(x-3)*(x-4)*(x-5)*(x-6)\n",
    "g(x)=x*sin(2x)\n",
    "print(\"f(2.2)\\t-> \",newton(f,2.2))\n",
    "print(\"\\nf(2.45)\\t-> \",newton(f,2.45))\n",
    "print(\"\\ng(0.7)\\t-> \",newton(g,0.7))"
   ]
  },
  {
   "cell_type": "markdown",
   "metadata": {},
   "source": [
    "# Pregunta\n",
    "\n",
    "¿Qué hacer si se requieren derivadas de orden superior, es decir, la segunda, tercera, etc, derivada? Argumenten.\n",
    "\n",
    "**NOTA:** Esta pregunta debe ser contestada pero **no** será considerada para aceptar la tarea; la idea es empezar a pensar en esto."
   ]
  },
  {
   "cell_type": "markdown",
   "metadata": {
    "collapsed": true
   },
   "source": [
    "Talvez se podría usar el mismo método muchas veces? aunque eso introduciría un error cada vez mas y mas grande, o podríamos hacer une versión de los duales pero de segunda derivada, y luego de tercera, etc. ? o talvez se pueda hacer algo así pero automáticamente"
   ]
  }
 ],
 "metadata": {
  "celltoolbar": "Slideshow",
  "kernelspec": {
   "display_name": "Julia 0.4.3",
   "language": "julia",
   "name": "julia-0.4"
  },
  "language_info": {
   "file_extension": ".jl",
   "mimetype": "application/julia",
   "name": "julia",
   "version": "0.4.3"
  }
 },
 "nbformat": 4,
 "nbformat_minor": 0
}
