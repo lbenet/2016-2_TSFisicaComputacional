{
 "cells": [
  {
   "cell_type": "code",
   "execution_count": 1,
   "metadata": {
    "collapsed": false
   },
   "outputs": [
    {
     "data": {
      "text/plain": [
       "qroot (generic function with 1 method)"
      ]
     },
     "execution_count": 1,
     "metadata": {},
     "output_type": "execute_result"
    }
   ],
   "source": [
    "\"\"\"\n",
    "function qroot(y:Real, x:Real, x:Real):Number\n",
    "\n",
    "Computes and returns the roots of the quadratic equation Ax^2+Bx+C y/x in a tuple (root 1, root 2), onley for equiation with real roots.\n",
    "\n",
    "\n",
    "Parameters\n",
    "\n",
    "A:Number — The quadratic coefficient, the linear coefficient and the constant.\n",
    "\n",
    "B:Number — The linear coefficient.\n",
    "\n",
    "C:Number — The constant coefficient.\n",
    "    \n",
    "    \n",
    "Returns\n",
    "        \n",
    "(Number,Number) — The roots of the quadratic equation.\n",
    "\"\"\"\n",
    "function qroot(a::Real,b::Real,c::Real)\n",
    "    if a == 0\n",
    "        error(\"Not a quadratic equation\")\n",
    "    end\n",
    "    discr = b^2 - 4*a*c\n",
    "    discr >= 0 ?   ( (-b + sqrt(discr))/(2a), (-b - sqrt(discr))/(2a) ) : error(\"Only complex roots\")\n",
    "end"
   ]
  },
  {
   "cell_type": "code",
   "execution_count": 26,
   "metadata": {
    "collapsed": false
   },
   "outputs": [
    {
     "data": {
      "text/plain": [
       "(0.7320508075688772,-2.732050807568877)"
      ]
     },
     "execution_count": 26,
     "metadata": {},
     "output_type": "execute_result"
    }
   ],
   "source": [
    "#Test\n",
    "qroot(1,2,-2)"
   ]
  },
  {
   "cell_type": "code",
   "execution_count": 3,
   "metadata": {
    "collapsed": false
   },
   "outputs": [
    {
     "ename": "LoadError",
     "evalue": "LoadError: Only complex roots\nwhile loading In[3], in expression starting on line 1",
     "output_type": "error",
     "traceback": [
      "LoadError: Only complex roots\nwhile loading In[3], in expression starting on line 1",
      "",
      " in qroot at In[1]:25"
     ]
    }
   ],
   "source": [
    "#Compleja\n",
    "qroot(3,3,4)"
   ]
  },
  {
   "cell_type": "code",
   "execution_count": 2,
   "metadata": {
    "collapsed": false
   },
   "outputs": [
    {
     "ename": "LoadError",
     "evalue": "LoadError: Not a quadratic equation\nwhile loading In[2], in expression starting on line 1",
     "output_type": "error",
     "traceback": [
      "LoadError: Not a quadratic equation\nwhile loading In[2], in expression starting on line 1",
      "",
      " in qroot at In[1]:22"
     ]
    }
   ],
   "source": [
    "#ecuacion de primer orden\n",
    "qroot(0,3,4)"
   ]
  },
  {
   "cell_type": "code",
   "execution_count": 14,
   "metadata": {
    "collapsed": false
   },
   "outputs": [
    {
     "ename": "LoadError",
     "evalue": "LoadError: MethodError: `qroot` has no method matching qroot(::Char, ::Int64, ::Int64)\nClosest candidates are:\n  qroot(!Matched::Real, ::Real, ::Real)\nwhile loading In[14], in expression starting on line 1",
     "output_type": "error",
     "traceback": [
      "LoadError: MethodError: `qroot` has no method matching qroot(::Char, ::Int64, ::Int64)\nClosest candidates are:\n  qroot(!Matched::Real, ::Real, ::Real)\nwhile loading In[14], in expression starting on line 1",
      ""
     ]
    }
   ],
   "source": [
    "#Nonsense\n",
    "qroot('a',3,4)"
   ]
  }
 ],
 "metadata": {
  "kernelspec": {
   "display_name": "Julia 0.4.3",
   "language": "julia",
   "name": "julia-0.4"
  },
  "language_info": {
   "file_extension": ".jl",
   "mimetype": "application/julia",
   "name": "julia",
   "version": "0.4.3"
  }
 },
 "nbformat": 4,
 "nbformat_minor": 0
}
