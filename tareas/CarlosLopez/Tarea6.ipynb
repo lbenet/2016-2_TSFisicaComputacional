{
 "cells": [
  {
   "cell_type": "markdown",
   "metadata": {
    "slideshow": {
     "slide_type": "slide"
    }
   },
   "source": [
    "# Derivadas superiores"
   ]
  },
  {
   "cell_type": "markdown",
   "metadata": {},
   "source": [
    "Hasta ahora hemos visto que, usando diferenciación automática, podemos calcular la derivada de funciones de una variable esencialmente con un error del orden del epsilon de la máquina.\n",
    "\n",
    "La pregunta que abordaremos ahora, es cómo hacer para calcular la segunda derivada, y derivadas de orden superior."
   ]
  },
  {
   "cell_type": "markdown",
   "metadata": {
    "slideshow": {
     "slide_type": "subslide"
    }
   },
   "source": [
    "Una posibilidad, específica para el caso de la segunda derivada, es proceder como en el caso anterior, es decir, definir una *terna ordenada* donde la primer componente es el valor de la función en $x_0$, i.e., $f(x_0)$, el de la segunda es el valor de la primer derivada $f'(x_0)$, y la tercer componente tiene el valor de la segunda derivada, $f^{(2)}(x_0) = f''(x_0)$. \n"
   ]
  },
  {
   "cell_type": "markdown",
   "metadata": {
    "slideshow": {
     "slide_type": "subslide"
    }
   },
   "source": [
    "Con esta definición, las operaciones aritméticas vienen dadas por:\n",
    "\n",
    "\\begin{eqnarray}\n",
    "\\vec{u} + \\vec{v} & = & (u + v, \\quad u'+ v', \\quad u''+v''),\\\\\n",
    "\\vec{u} - \\vec{v} & = & (u - v, \\quad u'- v', \\quad u''-v''),\\\\\n",
    "\\vec{u} \\times \\vec{v} & = & (u v, \\quad u v' + u' v, \\quad u v'' + 2 u' v' + u'' v),\\\\\n",
    "\\frac{\\vec{u}}{\\vec{v}} & = & \\Big( \\frac{u}{v}, \\quad \\frac{u'-( u/v) v'}{v}, \\quad \n",
    "\\frac{u'' - 2 (u/v)' v' - (u/v)v'' }{v}\\Big).\\\\\n",
    "\\end{eqnarray}\n",
    "\n",
    "Claramente, este proceso es muy ineficiente para derivadas de orden aún más alto, dado que las expresiones se complican y es fácil cometer errores."
   ]
  },
  {
   "cell_type": "markdown",
   "metadata": {
    "slideshow": {
     "slide_type": "slide"
    }
   },
   "source": [
    "# Series de Taylor"
   ]
  },
  {
   "cell_type": "markdown",
   "metadata": {
    "slideshow": {
     "slide_type": "-"
    }
   },
   "source": [
    "El punto importante a recordar, es que las derivadas de orden superior de una función $f(x)$ en un punto $x_0$ están contenidas en el desarrollo de Taylor de la función entorno a ese punto. La suposición importante en esto es que $f(x)$ es suficientemente suave; por simplicidad supondremos que $f(x)$ es ${\\cal C}^\\infty$ y que estamos suficientemente cerca del punto $x_0$, i.e., $|x-x_0|\\ll 1$. \n"
   ]
  },
  {
   "cell_type": "markdown",
   "metadata": {
    "slideshow": {
     "slide_type": "subslide"
    }
   },
   "source": [
    "La serie de Taylor de $f(x)$ viene dada por\n",
    "\n",
    "\\begin{eqnarray}\n",
    "f(x) & = & f(x_0) + f^{(1)}(x_0) (x-x_0) + \\frac{f^{(2)}(x_0)}{2!} (x-x_0)^2 + \\dots + \\frac{f^{(k)}(x_0)}{k!} (x-x_0)^k + \\dots,\\\\\n",
    "& = & f_{[0]} + f_{[1]} (x-x_0) + f_{[2]} (x-x_0)^2 + \\dots + f_{[k]} (x-x_0)^k + \\dots,\\\\\n",
    "\\end{eqnarray}\n",
    "\n",
    "donde los coeficientes *normalizados* de Taylor $f_{[k]}$ que aparecen en la segunda línea de la ecuación anterior se definen como\n",
    "\n",
    "\\begin{equation}\n",
    "f_{[k]} = \\frac{f^{(k)}(x_0)}{k!} = \\frac{1}{k!}\\frac{{\\rm d}^k f}{{\\rm d}x^k}(x_0).\n",
    "\\end{equation}\n",
    "\n"
   ]
  },
  {
   "cell_type": "markdown",
   "metadata": {
    "slideshow": {
     "slide_type": "fragment"
    }
   },
   "source": [
    "Vale la pena **enfatizar** que la expresión anterior es exacta en tanto que la serie **no** sea truncada. En el caso de que la serie truncada a orden k, el [teorema de Taylor](https://en.wikipedia.org/wiki/Taylor%27s_theorem) asegura que el residuo (error del truncamiento) se puede escribir como:\n",
    "\n",
    "\\begin{equation}\n",
    "{\\cal R_{k}} = \\frac{f^{(k+1)}\\,(\\xi)}{(k+1)!} (x-x_0)^{k+1},\n",
    "\\end{equation}\n",
    "\n",
    "donde $\\xi$ es un punto que pertenece al interval $[x_0,x]$.\n"
   ]
  },
  {
   "cell_type": "markdown",
   "metadata": {
    "slideshow": {
     "slide_type": "subslide"
    }
   },
   "source": [
    "Si la serie es truncada, la aproximación es un polinomio de orden $k$ (grado máximo es $k$) en $x$. Dado que los polinomios en una variable están definidos por $k+1$ coeficientes, entonces pueden ser mapeados a vectores en $\\mathbb{R}^{k+1}$. \n",
    "\n",
    "Las operaciones aritméticas, en este caso, vienen dadas por:\n",
    "\n",
    "\\begin{eqnarray}\n",
    "(f+g)_{[k]} & = & f_{[k]} + g_{[k]} ,\\\\\n",
    "(f-g)_{[k]} & = & f_{[k]} - g_{[k]} ,\\\\\n",
    "(f \\cdot g)_{[k]} & = & \\sum_{i=0}^k f_{[i]} \\,g_{[k-i]} \\, ,\\\\\n",
    "\\Big(\\frac{f}{g}\\Big)_{[k]} & = & \\frac{1}{g_{[0]}}\n",
    "\\Big( f_{[k]} - \\sum_{i=0}^{k-1} \\big(\\frac{f}{g}\\big)_{[i]} \\, g_{[k-i]} \\Big) . \\\\\n",
    "\\end{eqnarray}"
   ]
  },
  {
   "cell_type": "markdown",
   "metadata": {
    "slideshow": {
     "slide_type": "slide"
    }
   },
   "source": [
    "### Ejercicio\n",
    "\n",
    "Implementen una nueva estructura paramétrica (`type`) que defina el tipo `Taylor`, donde el parámetro debe ser un subtipo de `Number`. Definan métodos que implementen las operaciones aritméticas básicas (`+`, `-`, `*`, `/`) y la igualdad (`==`). Esto deberá ser incluido en un módulo.\n",
    "\n",
    "Incluyan pruebas (en el archivo \"runtests.jl\") para cada uno de los métodos que implementen.\n"
   ]
  },
  {
   "cell_type": "code",
   "execution_count": 1,
   "metadata": {
    "collapsed": true
   },
   "outputs": [],
   "source": [
    "\"\"\"Definición de polinomios de Taylor, donde\n",
    "...\n",
    "\"\"\"\n",
    "type Taylor{T<:Number} <: Number\n",
    "    coffs :: Array{T,1}\n",
    "    order :: Int\n",
    "    \n",
    "    function Taylor(coffs::Array{T,1}, order::Int)\n",
    "        lencoef = length(coffs)\n",
    "        order = max(order, lencoef-1)\n",
    "        order == lencoef-1 && return new(coffs, order)\n",
    "        resize!(coffs, order+1)\n",
    "        for i = lencoef+1:order+1\n",
    "            coffs[i] = zero(T)\n",
    "        end\n",
    "        new(coffs, order)\n",
    "    end\n",
    "end"
   ]
  },
  {
   "cell_type": "code",
   "execution_count": 2,
   "metadata": {
    "collapsed": false
   },
   "outputs": [
    {
     "data": {
      "text/plain": [
       "Taylor{T<:Number}"
      ]
     },
     "execution_count": 2,
     "metadata": {},
     "output_type": "execute_result"
    }
   ],
   "source": [
    "Taylor{T<:Number}(x::Taylor{T}, order::Int) = Taylor{T}(x.coffs, order)\n",
    "Taylor{T<:Number}(x::Taylor{T}) = x\n",
    "Taylor{T<:Number}(coffs::Array{T,1}, order::Int) = Taylor{T}(coffs, order)\n",
    "Taylor{T<:Number}(coffs::Array{T,1}) = Taylor{T}(coffs, length(coffs)-1)\n",
    "Taylor{T<:Number}(x::T, order::Int) = Taylor{T}([x], order)\n",
    "Taylor{T<:Number}(x::T) = Taylor{T}([x], 0)\n",
    "Taylor{T<:Irrational}(coffs::Array{T,1}) =  Taylor(convert(Array{Float64,1}, coffs))\n",
    "Taylor{T<:Irrational}(x::T) = Taylor(Array{Float64}([x]), 0)"
   ]
  },
  {
   "cell_type": "code",
   "execution_count": 3,
   "metadata": {
    "collapsed": false
   },
   "outputs": [
    {
     "data": {
      "text/plain": [
       "print (generic function with 19 methods)"
      ]
     },
     "execution_count": 3,
     "metadata": {},
     "output_type": "execute_result"
    }
   ],
   "source": [
    "import Base: print,show\n",
    "function show(io::IO,x::Taylor)\n",
    "    \n",
    "    const simb = [c for c in \"₀₁₂₃₄₅₆₇₈₉\"]\n",
    "    function sup(n::Int)\n",
    "        dig = reverse(digits(n))\n",
    "        join([simb[i+1] for i in dig])\n",
    "    end\n",
    "    \n",
    "    n=length(x.coffs)-1\n",
    "    \n",
    "    for i = 1:n\n",
    "        print(io,x.coffs[i],\"ₜ\",sup(i-1),\" + \")\n",
    "    end\n",
    "    print(io,x.coffs[n+1],\"ₜ\",sup(n))\n",
    "end\n",
    "print(io::IO,x::Taylor)=show(io,x)"
   ]
  },
  {
   "cell_type": "code",
   "execution_count": 4,
   "metadata": {
    "collapsed": false
   },
   "outputs": [
    {
     "data": {
      "text/plain": [
       "1ₜ₀ + 2ₜ₁ + 3ₜ₂ + 4ₜ₃ + 5ₜ₄ + 62ₜ₅"
      ]
     },
     "execution_count": 4,
     "metadata": {},
     "output_type": "execute_result"
    }
   ],
   "source": [
    "Taylor([1,2,3,4,5,62])"
   ]
  },
  {
   "cell_type": "code",
   "execution_count": 5,
   "metadata": {
    "collapsed": false
   },
   "outputs": [
    {
     "data": {
      "text/plain": [
       "== (generic function with 110 methods)"
      ]
     },
     "execution_count": 5,
     "metadata": {},
     "output_type": "execute_result"
    }
   ],
   "source": [
    "import Base: +, -, *, /, ^, == \n",
    "for f in (:+, :-)\n",
    "    @eval begin\n",
    "        function $f(A::Taylor,B::Taylor)\n",
    "            a=zeros(Number,max(length(A.coffs),length(B.coffs)))\n",
    "            for i=1:length(A.coffs)\n",
    "                a[i]=A.coffs[i]\n",
    "            end\n",
    "            for i=1:length(B.coffs)\n",
    "                a[i]=$f(a[i],B.coffs[i])\n",
    "            end\n",
    "            Taylor(a)\n",
    "        end\n",
    "        $f(x::Taylor,y::Number)=$f(x,Taylor(y))\n",
    "        $f(y::Number,x::Taylor)=$f(x,Taylor(y))\n",
    "    end\n",
    "end\n",
    "function *(A::Taylor,B::Taylor)\n",
    "    a=zeros(Number,length(A.coffs)+length(B.coffs)-1)\n",
    "    for k=1:length(a)\n",
    "        for i=1:k\n",
    "            if(i<=length(A.coffs) && k-i+1<=length(B.coffs))\n",
    "                a[k]+=A.coffs[i]*B.coffs[k-i+1]\n",
    "            end\n",
    "        end\n",
    "    end\n",
    "    Taylor(a)\n",
    "end\n",
    "*(x::Taylor,y::Number)=x*Taylor(y)\n",
    "*(y::Bool,x::Taylor)=x*Taylor(y)\n",
    "*(y::Number,x::Taylor)=x*Taylor(y)\n",
    "\n",
    "function degree(A::Taylor)\n",
    "    l=length(A.coffs)\n",
    "    for i=0:l-1\n",
    "        if(A.coffs[l]!=0)\n",
    "            break\n",
    "        end\n",
    "        l-=1\n",
    "    end\n",
    "    l-1\n",
    "end\n",
    "\n",
    "function shift(A::Taylor,d=1)\n",
    "    if(d>0)\n",
    "        a=zeros(Number,length(A.coffs)+d)\n",
    "        for i=1:length(A.coffs)\n",
    "            a[i+d]=A.coffs[i]\n",
    "        end\n",
    "        Taylor(a) \n",
    "    elseif(d<0 && length(A.coffs)+d>0)\n",
    "        a=zeros(Number,length(A.coffs)+d)\n",
    "        for i=1:length(a)\n",
    "            a[i]=A.coffs[i-d]\n",
    "        end\n",
    "        Taylor(a)\n",
    "    elseif(length(A.coffs)+d<1)\n",
    "        Taylor(0)\n",
    "    elseif(d==0)\n",
    "        A\n",
    "    end\n",
    "end\n",
    "    \n",
    "function /(A::Taylor,B::Taylor)\n",
    "    if(degree(B)==-1)\n",
    "        error(\"division by zero\")\n",
    "    end\n",
    "    if(degree(A)<degree(B))\n",
    "        Taylor(0)\n",
    "    else\n",
    "        q=Taylor(zeros(Number,degree(A)-degree(B)+1))\n",
    "        while(degree(A)>=degree(B))\n",
    "            b=shift(B,degree(A)-degree(B))\n",
    "            q.coffs[degree(A)-degree(B)+1]=A.coffs[degree(A)+1]/b.coffs[degree(b)+1]\n",
    "            b=b*q.coffs[degree(A)-degree(B)+1]\n",
    "            A=A-b\n",
    "        end\n",
    "        q\n",
    "    end\n",
    "end\n",
    "/(x::Taylor,y::Number)=x/Taylor(y)\n",
    "/(y::Number,x::Taylor)=x/Taylor(y)\n",
    "\n",
    "function ==(A::Taylor,B::Taylor)\n",
    "    R=true;\n",
    "    if(length(A.coffs)!=length(B.coffs))\n",
    "        a=zeros(Number,max(length(A.coffs),length(B.coffs)))\n",
    "        b=zeros(Number,max(length(A.coffs),length(B.coffs)))\n",
    "        for i=1:length(A.coffs)\n",
    "            a[i]=A.coffs[i]\n",
    "        end\n",
    "        for i=1:length(B.coffs)\n",
    "            b[i]=B.coffs[i]\n",
    "        end\n",
    "        for i=1:length(a)\n",
    "            if(a[i]!=b[i])\n",
    "                    R=false\n",
    "            end\n",
    "        end\n",
    "    else\n",
    "        for i=1:length(A.coffs)\n",
    "            if(A.coffs[i]!=B.coffs[i])\n",
    "                    R=false\n",
    "            end\n",
    "        end\n",
    "    end\n",
    "    R\n",
    "end"
   ]
  },
  {
   "cell_type": "code",
   "execution_count": 6,
   "metadata": {
    "collapsed": false
   },
   "outputs": [
    {
     "name": "stdout",
     "output_type": "stream",
     "text": [
      "a:\t15ₜ₀ + 3ₜ₁\n",
      "b:\t4ₜ₀ + 5ₜ₁\n",
      "c:\t2\n",
      "\n",
      "a+b:\t19ₜ₀ + 8ₜ₁\n",
      "a+c:\t17ₜ₀ + 3ₜ₁\n",
      "a-b:\t11ₜ₀ + -2ₜ₁\n",
      "a-c:\t13ₜ₀ + 3ₜ₁\n",
      "a*b:\t60ₜ₀ + 87ₜ₁ + 15ₜ₂\n",
      "a*c:\t30ₜ₀ + 6ₜ₁\n",
      "a/b:\t0.6ₜ₀\n",
      "a/c:\t7.5ₜ₀ + 1.5ₜ₁\n",
      "a==b:\tfalse\n",
      "a==a:\ttrue\n"
     ]
    }
   ],
   "source": [
    "a=Taylor([15,3])\n",
    "b=Taylor([4,5])\n",
    "c=2\n",
    "print(\"a:\\t\",a,\"\\n\")\n",
    "print(\"b:\\t\",b,\"\\n\")\n",
    "print(\"c:\\t\",c,\"\\n\\n\")\n",
    "\n",
    "print(\"a+b:\\t\",a+b,\"\\n\")\n",
    "print(\"a+c:\\t\",a+c,\"\\n\")\n",
    "\n",
    "print(\"a-b:\\t\",a-b,\"\\n\")\n",
    "print(\"a-c:\\t\",a-c,\"\\n\")\n",
    "\n",
    "print(\"a*b:\\t\",a*b,\"\\n\")\n",
    "print(\"a*c:\\t\",a*c,\"\\n\")\n",
    "\n",
    "print(\"a/b:\\t\",a/b,\"\\n\")\n",
    "print(\"a/c:\\t\",a/c,\"\\n\")\n",
    "\n",
    "print(\"a==b:\\t\",a==b,\"\\n\")\n",
    "print(\"a==a:\\t\",a==a,\"\\n\")"
   ]
  },
  {
   "cell_type": "code",
   "execution_count": 7,
   "metadata": {
    "collapsed": false,
    "slideshow": {
     "slide_type": "-"
    }
   },
   "outputs": [],
   "source": [
    "# Muestren que su código funciona con tests adecuados; para los detalles ver \n",
    "# http://julia.readthedocs.org/en/release-0.4/stdlib/test/\n",
    "using Base.Test\n",
    "A=(0,1,7,0.0,1.0,7.0,pi,-1,-7)\n",
    "for (a in A)\n",
    "    for(b in A)\n",
    "        d=Taylor([a,b]);\n",
    "        c=a\n",
    "        if(a!=0)\n",
    "            @test (d+d-d*d/d)==d\n",
    "            @test (d+a-a*a/a)==d\n",
    "            @test (c+d-d*d/d)==Taylor(c)\n",
    "        else\n",
    "            @test ((d+d-d)*d)==d*d\n",
    "            @test ((d+a-a)*a)==d*a\n",
    "            @test ((c+d-d)*d)==Taylor(c*d)\n",
    "        end\n",
    "    end\n",
    "end"
   ]
  },
  {
   "cell_type": "markdown",
   "metadata": {
    "slideshow": {
     "slide_type": "slide"
    }
   },
   "source": [
    "# Funciones de polinomios"
   ]
  },
  {
   "cell_type": "markdown",
   "metadata": {},
   "source": [
    "El siguiente punto, es cómo definir funciones de polinomios. \n",
    "\n",
    "Como veremos aquí, esto se basará en plantear una ecuación diferencial apropiada, cuya solución es, precisamente, la expresión que estamos buscando. Este punto es *importante*, y muestra que hay una conexión importante con la solución de ecuaciones diferenciales."
   ]
  },
  {
   "cell_type": "markdown",
   "metadata": {
    "slideshow": {
     "slide_type": "subslide"
    }
   },
   "source": [
    "Como ejemplo consideraremos la función\n",
    "\n",
    "\\begin{equation}\n",
    "E(x) = \\exp\\big(g(x)\\big),\n",
    "\\end{equation}\n",
    "\n",
    "donde \n",
    "\n",
    "\\begin{equation}\n",
    "g(x) = \\sum_{k=0}^\\infty g_{[k]} (x-x_0)^k\n",
    "\\end{equation}\n",
    "\n",
    "está escrita como una serie de Taylor (¡exacta!) alrededor de $x_0$. \n"
   ]
  },
  {
   "cell_type": "markdown",
   "metadata": {},
   "source": [
    "El primer punto, es que escribiremos a $E(x)$ como una serie de Taylor alrededor de $x_0$, es decir,\n",
    "\n",
    "\\begin{equation}\n",
    "E(x) = \\sum_{k=0}^\\infty E_{[k]} (x-x_0)^k.\n",
    "\\end{equation}\n",
    "\n",
    "El objetivo es determinar $E_{[k]}$ para *toda* $k$.\n",
    "\n",
    "Dado que $E(x)$ esun polinomio en $x$, su derivada viene dada por\n",
    "\n",
    "\\begin{equation}\n",
    "\\frac{{\\rm d} E(x)}{{\\rm d}x} = \\sum_{k=1}^\\infty k E_{[k]}\\, (x-x_0)^{k-1} .\n",
    "\\end{equation}"
   ]
  },
  {
   "cell_type": "markdown",
   "metadata": {},
   "source": [
    "Por otra parte, la derivada de $E(x)$ en términos de $g(x)$ está dada por\n",
    "\n",
    "\\begin{equation}\n",
    "\\frac{{\\rm d} E(x)}{{\\rm d}x} = \\exp\\big(g(x)\\big) \\frac{{\\rm d} g(x)}{{\\rm d}x} = E(x) \\frac{{\\rm d} g(x)}{{\\rm d}x},\n",
    "\\end{equation}\n",
    "\n",
    "donde del lado derecho aparece la derivada de $g(x)$. Ya que $g(x)$ *también* está escrita en forma polinomial, su derivada es\n",
    "\n",
    "\\begin{equation}\n",
    "\\frac{{\\rm d} g(x)}{{\\rm d}x} = \\sum_{k=1}^\\infty k g_{[k]}\\, (x-x_0)^{k-1} .\n",
    "\\end{equation}\n"
   ]
  },
  {
   "cell_type": "markdown",
   "metadata": {
    "slideshow": {
     "slide_type": "subslide"
    }
   },
   "source": [
    "Tenemos, entonces, todo lo que requerimos para escribir el lado derecho de la ecuación diferencial y explotar la aritmética de polinomios. \n",
    "\n",
    "\\begin{eqnarray}\n",
    "E(x) \\frac{{\\rm d} g(x)}{{\\rm d}x}& = & \n",
    "\\Big[ \\sum_{k=0}^\\infty E_{[k]} (x-x_0)^k \\Big]\n",
    "\\Big[ \\sum_{j=1}^\\infty j g_{[j]} (x-x_0)^{j-1}\\Big] \\\\\n",
    " & = & \\sum_{k=1}^\\infty \\Big[ \\sum_{j=0}^k j g_{[j]} E_{[k-j]} \\; \\Big] (x-x_0)^{k-1} .\\\\\n",
    "\\end{eqnarray}\n",
    "\n",
    "La segunda línea se obtiene reordenando los términos al fijar la potencia de $(x-x_0)$, esto es, $k+j$ se toma como un nuevo índice ($k$), y el nuevo índice $j$ describe el índice del producto de los polinomios. (La potencia se deja de la forma $k-1$ ya que el lado izquierdo de la ecuación aparece así.)"
   ]
  },
  {
   "cell_type": "markdown",
   "metadata": {},
   "source": [
    "Igualando con el lado izquierdo de la ecuación diferencial, que sólo involucra a la derivada de $E(x)$, tenemos que se debe cumplir\n",
    "\n",
    "\\begin{equation}\n",
    "E_{[k]} = \\frac{1}{k} \\sum_{j=0}^k j g_{[j]} \\, E_{[k-j]} = \n",
    "\\frac{1}{k} \\sum_{j=0}^{k} (k-j) g_{[k-j]} \\, E_{[j]}, \\qquad k=1,2,\\dots,\n",
    "\\end{equation}\n",
    "\n",
    "incluyendo *la condición inicial*\n",
    "\n",
    "\\begin{equation}\n",
    "E_{[0]} = \\exp\\big(g(x_0)\\big).\n",
    "\\end{equation}\n",
    "\n",
    "Estas relaciones *de recurrencia* permiten calcular $\\exp\\big(g(x)\\big)$, para cualquier polinomio $g(x)$."
   ]
  },
  {
   "cell_type": "markdown",
   "metadata": {},
   "source": [
    "Para el caso concreto $g(x) = x$ alrededor de $x_0=0$, donde tenemos $g_{[j]} = \\delta_{j,1}$, obtenemos\n",
    "\n",
    "\\begin{eqnarray}\n",
    "E_{[0]} & = & 1,\\\\\n",
    "E_{[k]} & = & \\frac{1}{k} E_{[k-1]} = \\frac{1}{k(k-1)} E_{[k-2]} = \\dots = \\frac{1}{k!} E_{[0]} = \\frac{1}{k!}\\ ,\n",
    "\\end{eqnarray}\n",
    "\n",
    "que es el resultado bien conocido."
   ]
  },
  {
   "cell_type": "markdown",
   "metadata": {
    "slideshow": {
     "slide_type": "subslide"
    }
   },
   "source": [
    "### Ejercicio\n",
    "\n",
    "Obtengan las relaciones de recurrencia para las funciones $L(x) = \\log\\big(g(x)\\big)$, $P_\\alpha(x) = \\big(g(x)\\big)^\\alpha$, $S(x) = \\sin\\big(g(x)\\big)$, $C(x) = \\cos\\big(g(x)\\big)$ usando el mismo procedimiento que arriba. Implementen métodos adecuados para estas funciones en el módulo, actuando sobre estructuras `Taylor` e incluyan pruebas."
   ]
  },
  {
   "cell_type": "code",
   "execution_count": 8,
   "metadata": {
    "collapsed": false
   },
   "outputs": [
    {
     "data": {
      "text/plain": [
       "cos (generic function with 12 methods)"
      ]
     },
     "execution_count": 8,
     "metadata": {},
     "output_type": "execute_result"
    }
   ],
   "source": [
    "import Base: exp,log,^,sin,cos\n",
    "function exp(A::Taylor)\n",
    "    a=zeros(Number,length(A.coffs))\n",
    "    a[1]=exp(A.coffs[1])\n",
    "    for k=2:length(a)\n",
    "        for j=1:k-1\n",
    "            a[k]+=(k-j)*A.coffs[k-j+1]*a[j]\n",
    "        end\n",
    "        a[k]=a[k]/(k-1)\n",
    "    end\n",
    "    Taylor(a)\n",
    "end\n",
    "function log(A::Taylor)\n",
    "    d=zeros(Number,length(A.coffs)-1)\n",
    "    for k=1:length(d)\n",
    "        d[k]=A.coffs[k+1]*(k)\n",
    "    end\n",
    "    a=Taylor(d)/A\n",
    "    r=zeros(Number,length(A.coffs))\n",
    "    for i=2:length(a.coffs-1)\n",
    "        r[i]=a.coffs[i-1]/(i-1)\n",
    "    end\n",
    "    r[1]=log(A.coffs[1])\n",
    "    Taylor(r)\n",
    "end\n",
    "function ^(A::Taylor,x::Integer)\n",
    "    if(x==0)\n",
    "        Taylor(1)\n",
    "    elseif(x>0)\n",
    "        shift(A,x-1)\n",
    "    else\n",
    "        shift(A,x)\n",
    "    end\n",
    "end\n",
    "^(A::Taylor,x::Rational)=exp(x*log(A))\n",
    "^(A::Taylor,x::Real)=exp(x*log(A))\n",
    "\n",
    "function sin(A::Taylor)\n",
    "    a=zeros(Number,length(A.coffs))\n",
    "    r=Taylor(a)\n",
    "    for n=0:length(a)+1\n",
    "        r+=(((-1)^n)/(factorial((2*n)+1)))*(A^((2*n)+1))\n",
    "    end\n",
    "    r\n",
    "end\n",
    "function cos(A::Taylor)\n",
    "    a=zeros(Number,length(A.coffs))\n",
    "    r=Taylor(a)\n",
    "    for n=0:length(a)+1\n",
    "        r+=(((-1)^n)/(factorial(2*n)))*(A^(2*n))\n",
    "    end\n",
    "    r\n",
    "end"
   ]
  },
  {
   "cell_type": "code",
   "execution_count": 9,
   "metadata": {
    "collapsed": false
   },
   "outputs": [
    {
     "name": "stdout",
     "output_type": "stream",
     "text": [
      "a:\t15ₜ₀ + 3ₜ₁\n",
      "exp(a):\t3.2690173724721107e6ₜ₀ + 9.807052117416332e6ₜ₁\n",
      "log(a):\t2.70805020110221ₜ₀ + 0ₜ₁\n",
      "a^2:\t0ₜ₀ + 15ₜ₁ + 3ₜ₂\n",
      "sin(a):\t15.0ₜ₀ + 3.0ₜ₁ + -2.5ₜ₂ + -0.5ₜ₃ + 0.125ₜ₄ + 0.025ₜ₅ + -0.002976190476190476ₜ₆ + -0.0005952380952380953ₜ₇\n",
      "cos(a):\t1.0ₜ₀ + -7.5ₜ₁ + -1.5ₜ₂ + 0.625ₜ₃ + 0.125ₜ₄ + -0.020833333333333336ₜ₅ + -0.004166666666666667ₜ₆\n"
     ]
    }
   ],
   "source": [
    "a=Taylor([15,3])\n",
    "\n",
    "exp,log,^,sin,cos\n",
    "print(\"a:\\t\",a,\"\\n\")\n",
    "\n",
    "print(\"exp(a):\\t\",exp(a),\"\\n\")\n",
    "print(\"log(a):\\t\",log(a),\"\\n\")\n",
    "print(\"a^2:\\t\",a^2,\"\\n\")\n",
    "print(\"sin(a):\\t\",sin(a),\"\\n\")\n",
    "print(\"cos(a):\\t\",cos(a),\"\\n\")"
   ]
  },
  {
   "cell_type": "markdown",
   "metadata": {},
   "source": [
    "**NOTA** Los ejercicios de este notebook constituyen el contenido de la Tarea6."
   ]
  }
 ],
 "metadata": {
  "celltoolbar": "Slideshow",
  "kernelspec": {
   "display_name": "Julia 0.4.3",
   "language": "julia",
   "name": "julia-0.4"
  },
  "language_info": {
   "file_extension": ".jl",
   "mimetype": "application/julia",
   "name": "julia",
   "version": "0.4.3"
  }
 },
 "nbformat": 4,
 "nbformat_minor": 0
}
