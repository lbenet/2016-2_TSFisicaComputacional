{
 "cells": [
  {
   "cell_type": "markdown",
   "metadata": {},
   "source": [
    "He aquí la respectiva."
   ]
  },
  {
   "cell_type": "code",
   "execution_count": 21,
   "metadata": {
    "collapsed": false
   },
   "outputs": [
    {
     "data": {
      "text/plain": [
       "chi (generic function with 1 method)"
      ]
     },
     "execution_count": 21,
     "metadata": {},
     "output_type": "execute_result"
    }
   ],
   "source": [
    "## \"Chicharronera\" ax^2 + bx + c\n",
    "\"\"\"\n",
    "Básicamente se come cualquier trio de coeficientes (números específicamente...) de un polinomio de segundo grado y escupe\n",
    "sus raices en forma de números complejos, esto lo hace a través de definir el discriminante del polinomio de 2do orden con los\n",
    "coeficientes que le proporcionen, de esta manera, si el discriminante es mayor que cero, lo deja tal cual, mientras que si es menor\n",
    "que cero, al sumarle 0im lo transforma en Complex{Float64}, ya que se le sacará raiz cuadrada a dicho determinante.\n",
    "Esto hace que el type del output pueda variar dependiendo del si el discriminante es >0 o no, por lo que después de haber operado con él,\n",
    "al sumarle 0im a las raices encontradas hace que todos los resultados que arroje sean únicamente Complex{Float64}, por lo que al final,\n",
    "independientemente del type de entrada, el de salida será Complex{64}\n",
    "\"\"\"\n",
    "function chi(a::Number, b::Number, c::Number) \n",
    "    discr = b^2 - 4*a*c \n",
    "    ra = (discr > 0) ? sqrt(discr) : sqrt(discr + 0im)  \n",
    " \n",
    "    q=[(-b - ra)/(2a); p=(-b + ra)/(2a)]\n",
    "   g=q + 0im ; l=p + 0im ;\n",
    "     g\n",
    "end\n"
   ]
  },
  {
   "cell_type": "code",
   "execution_count": 22,
   "metadata": {
    "collapsed": false
   },
   "outputs": [
    {
     "name": "stdout",
     "output_type": "stream",
     "text": [
      "search: "
     ]
    },
    {
     "data": {
      "text/latex": [
       "Básicamente se come cualquier trio de coeficientes (números específicamente...) de un polinomio de segundo grado y escupe sus raices en forma de números complejos, esto lo hace a través de definir el discriminante del polinomio de 2do orden con los coeficientes que le proporcionen, de esta manera, si el discriminante es mayor que cero, lo deja tal cual, mientras que si es menor que cero, al sumarle 0im lo transforma en Complex\\{Float64\\}, ya que se le sacará raiz cuadrada a dicho determinante. Esto hace que el type del output pueda variar dependiendo del si el discriminante es >0 o no, por lo que después de haber operado con él, al sumarle 0im a las raices encontradas hace que todos los resultados que arroje sean únicamente Complex\\{Float64\\}, por lo que al final, independientemente del type de entrada, el de salida será Complex\\{64\\}\n"
      ],
      "text/markdown": [
       "Básicamente se come cualquier trio de coeficientes (números específicamente...) de un polinomio de segundo grado y escupe sus raices en forma de números complejos, esto lo hace a través de definir el discriminante del polinomio de 2do orden con los coeficientes que le proporcionen, de esta manera, si el discriminante es mayor que cero, lo deja tal cual, mientras que si es menor que cero, al sumarle 0im lo transforma en Complex{Float64}, ya que se le sacará raiz cuadrada a dicho determinante. Esto hace que el type del output pueda variar dependiendo del si el discriminante es >0 o no, por lo que después de haber operado con él, al sumarle 0im a las raices encontradas hace que todos los resultados que arroje sean únicamente Complex{Float64}, por lo que al final, independientemente del type de entrada, el de salida será Complex{64}\n"
      ],
      "text/plain": [
       "Básicamente se come cualquier trio de coeficientes (números específicamente...) de un polinomio de segundo grado y escupe sus raices en forma de números complejos, esto lo hace a través de definir el discriminante del polinomio de 2do orden con los coeficientes que le proporcionen, de esta manera, si el discriminante es mayor que cero, lo deja tal cual, mientras que si es menor que cero, al sumarle 0im lo transforma en Complex{Float64}, ya que se le sacará raiz cuadrada a dicho determinante. Esto hace que el type del output pueda variar dependiendo del si el discriminante es >0 o no, por lo que después de haber operado con él, al sumarle 0im a las raices encontradas hace que todos los resultados que arroje sean únicamente Complex{Float64}, por lo que al final, independientemente del type de entrada, el de salida será Complex{64}\n"
      ]
     },
     "execution_count": 22,
     "metadata": {},
     "output_type": "execute_result"
    },
    {
     "name": "stdout",
     "output_type": "stream",
     "text": [
      "chi eachindex searchindex rsearchindex eachline EachLine chr2ind\n",
      "\n"
     ]
    }
   ],
   "source": [
    "? chi"
   ]
  },
  {
   "cell_type": "markdown",
   "metadata": {},
   "source": [
    "Para raices reales..."
   ]
  },
  {
   "cell_type": "code",
   "execution_count": 23,
   "metadata": {
    "collapsed": false
   },
   "outputs": [
    {
     "data": {
      "text/plain": [
       "2-element Array{Complex{Float64},1}:\n",
       " -1.61803+0.0im\n",
       " 0.618034+0.0im"
      ]
     },
     "execution_count": 23,
     "metadata": {},
     "output_type": "execute_result"
    }
   ],
   "source": [
    "chi(1,1,-1)"
   ]
  },
  {
   "cell_type": "markdown",
   "metadata": {},
   "source": [
    "Y raices imaginarias..."
   ]
  },
  {
   "cell_type": "code",
   "execution_count": 24,
   "metadata": {
    "collapsed": false
   },
   "outputs": [
    {
     "data": {
      "text/plain": [
       "2-element Array{Complex{Float64},1}:\n",
       " -0.5-0.866025im\n",
       " -0.5+0.866025im"
      ]
     },
     "execution_count": 24,
     "metadata": {},
     "output_type": "execute_result"
    }
   ],
   "source": [
    "chi(1,1,1)"
   ]
  },
  {
   "cell_type": "markdown",
   "metadata": {},
   "source": [
    "Ahora con irracionales..."
   ]
  },
  {
   "cell_type": "code",
   "execution_count": 25,
   "metadata": {
    "collapsed": false
   },
   "outputs": [
    {
     "data": {
      "text/plain": [
       "2-element Array{Complex{Float64},1}:\n",
       " -0.225079-0.517348im\n",
       " -0.225079+0.517348im"
      ]
     },
     "execution_count": 25,
     "metadata": {},
     "output_type": "execute_result"
    }
   ],
   "source": [
    "chi(π,sqrt(2),1)"
   ]
  },
  {
   "cell_type": "markdown",
   "metadata": {},
   "source": [
    "y con cosas indefinidas..."
   ]
  },
  {
   "cell_type": "code",
   "execution_count": 26,
   "metadata": {
    "collapsed": false
   },
   "outputs": [
    {
     "ename": "LoadError",
     "evalue": "LoadError: UndefVarError: α not defined\nwhile loading In[26], in expression starting on line 1",
     "output_type": "error",
     "traceback": [
      "LoadError: UndefVarError: α not defined\nwhile loading In[26], in expression starting on line 1",
      ""
     ]
    }
   ],
   "source": [
    "chi(α,3,w)"
   ]
  },
  {
   "cell_type": "markdown",
   "metadata": {},
   "source": [
    "me ayudé con: http://docs.julialang.org/en/release-0.4/manual/types/"
   ]
  },
  {
   "cell_type": "markdown",
   "metadata": {},
   "source": [
    "Y con: http://docs.julialang.org/en/release-0.4/manual/documentation/#documentation"
   ]
  }
 ],
 "metadata": {
  "kernelspec": {
   "display_name": "Julia 0.4.2",
   "language": "julia",
   "name": "julia-0.4"
  },
  "language_info": {
   "file_extension": ".jl",
   "mimetype": "application/julia",
   "name": "julia",
   "version": "0.4.2"
  }
 },
 "nbformat": 4,
 "nbformat_minor": 0
}
