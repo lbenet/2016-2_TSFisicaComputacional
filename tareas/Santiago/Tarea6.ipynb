{
 "cells": [
  {
   "cell_type": "markdown",
   "metadata": {
    "slideshow": {
     "slide_type": "slide"
    }
   },
   "source": [
    "# Derivadas superiores"
   ]
  },
  {
   "cell_type": "markdown",
   "metadata": {},
   "source": [
    "Hasta ahora hemos visto que, usando diferenciación automática, podemos calcular la derivada de funciones de una variable esencialmente con un error del orden del epsilon de la máquina.\n",
    "\n",
    "La pregunta que abordaremos ahora, es cómo hacer para calcular la segunda derivada, y derivadas de orden superior."
   ]
  },
  {
   "cell_type": "markdown",
   "metadata": {
    "slideshow": {
     "slide_type": "subslide"
    }
   },
   "source": [
    "Una posibilidad, específica para el caso de la segunda derivada, es proceder como en el caso anterior, es decir, definir una *terna ordenada* donde la primer componente es el valor de la función en $x_0$, i.e., $f(x_0)$, el de la segunda es el valor de la primer derivada $f'(x_0)$, y la tercer componente tiene el valor de la segunda derivada, $f^{(2)}(x_0) = f''(x_0)$. \n"
   ]
  },
  {
   "cell_type": "markdown",
   "metadata": {
    "slideshow": {
     "slide_type": "subslide"
    }
   },
   "source": [
    "Con esta definición, las operaciones aritméticas vienen dadas por:\n",
    "\n",
    "\\begin{eqnarray}\n",
    "\\vec{u} + \\vec{v} & = & (u + v, \\quad u'+ v', \\quad u''+v''),\\\\\n",
    "\\vec{u} - \\vec{v} & = & (u - v, \\quad u'- v', \\quad u''-v''),\\\\\n",
    "\\vec{u} \\times \\vec{v} & = & (u v, \\quad u v' + u' v, \\quad u v'' + 2 u' v' + u'' v),\\\\\n",
    "\\frac{\\vec{u}}{\\vec{v}} & = & \\Big( \\frac{u}{v}, \\quad \\frac{u'-( u/v) v'}{v}, \\quad \n",
    "\\frac{u'' - 2 (u/v)' v' - (u/v)v'' }{v}\\Big).\\\\\n",
    "\\end{eqnarray}\n",
    "\n",
    "Claramente, este proceso es muy ineficiente para derivadas de orden aún más alto, dado que las expresiones se complican y es fácil cometer errores."
   ]
  },
  {
   "cell_type": "markdown",
   "metadata": {
    "slideshow": {
     "slide_type": "slide"
    }
   },
   "source": [
    "# Series de Taylor"
   ]
  },
  {
   "cell_type": "markdown",
   "metadata": {
    "slideshow": {
     "slide_type": "-"
    }
   },
   "source": [
    "El punto importante a recordar, es que las derivadas de orden superior de una función $f(x)$ en un punto $x_0$ están contenidas en el desarrollo de Taylor de la función entorno a ese punto. La suposición importante en esto es que $f(x)$ es suficientemente suave; por simplicidad supondremos que $f(x)$ es ${\\cal C}^\\infty$ y que estamos suficientemente cerca del punto $x_0$, i.e., $|x-x_0|\\ll 1$. \n"
   ]
  },
  {
   "cell_type": "markdown",
   "metadata": {
    "slideshow": {
     "slide_type": "subslide"
    }
   },
   "source": [
    "La serie de Taylor de $f(x)$ viene dada por\n",
    "\n",
    "\\begin{eqnarray}\n",
    "f(x) & = & f(x_0) + f^{(1)}(x_0) (x-x_0) + \\frac{f^{(2)}(x_0)}{2!} (x-x_0)^2 + \\dots + \\frac{f^{(k)}(x_0)}{k!} (x-x_0)^k + \\dots,\\\\\n",
    "& = & f_{[0]} + f_{[1]} (x-x_0) + f_{[2]} (x-x_0)^2 + \\dots + f_{[k]} (x-x_0)^k + \\dots,\\\\\n",
    "\\end{eqnarray}\n",
    "\n",
    "donde los coeficientes *normalizados* de Taylor $f_{[k]}$ que aparecen en la segunda línea de la ecuación anterior se definen como\n",
    "\n",
    "\\begin{equation}\n",
    "f_{[k]} = \\frac{f^{(k)}(x_0)}{k!} = \\frac{1}{k!}\\frac{{\\rm d}^k f}{{\\rm d}x^k}(x_0).\n",
    "\\end{equation}\n",
    "\n"
   ]
  },
  {
   "cell_type": "markdown",
   "metadata": {
    "slideshow": {
     "slide_type": "fragment"
    }
   },
   "source": [
    "Vale la pena **enfatizar** que la expresión anterior es exacta en tanto que la serie **no** sea truncada. En el caso de que la serie truncada a orden k, el [teorema de Taylor](https://en.wikipedia.org/wiki/Taylor%27s_theorem) asegura que el residuo (error del truncamiento) se puede escribir como:\n",
    "\n",
    "\\begin{equation}\n",
    "{\\cal R_{k}} = \\frac{f^{(k+1)}\\,(\\xi)}{(k+1)!} (x-x_0)^{k+1},\n",
    "\\end{equation}\n",
    "\n",
    "donde $\\xi$ es un punto que pertenece al interval $[x_0,x]$.\n"
   ]
  },
  {
   "cell_type": "markdown",
   "metadata": {
    "slideshow": {
     "slide_type": "subslide"
    }
   },
   "source": [
    "Si la serie es truncada, la aproximación es un polinomio de orden $k$ (grado máximo es $k$) en $x$. Dado que los polinomios en una variable están definidos por $k+1$ coeficientes, entonces pueden ser mapeados a vectores en $\\mathbb{R}^{k+1}$. \n",
    "\n",
    "Las operaciones aritméticas, en este caso, vienen dadas por:\n",
    "\n",
    "\\begin{eqnarray}\n",
    "(f+g)_{[k]} & = & f_{[k]} + g_{[k]} ,\\\\\n",
    "(f-g)_{[k]} & = & f_{[k]} - g_{[k]} ,\\\\\n",
    "(f \\cdot g)_{[k]} & = & \\sum_{i=0}^k f_{[i]} \\,g_{[k-i]} \\, ,\\\\\n",
    "\\Big(\\frac{f}{g}\\Big)_{[k]} & = & \\frac{1}{g_{[0]}}\n",
    "\\Big( f_{[k]} - \\sum_{i=0}^{k-1} \\big(\\frac{f}{g}\\big)_{[i]} \\, g_{[k-i]} \\Big) . \\\\\n",
    "\\end{eqnarray}"
   ]
  },
  {
   "cell_type": "markdown",
   "metadata": {
    "slideshow": {
     "slide_type": "slide"
    }
   },
   "source": [
    "### Ejercicio\n",
    "\n",
    "Implementen una nueva estructura paramétrica (`type`) que defina el tipo `Taylor`, donde el parámetro debe ser un subtipo de `Number`. Definan métodos que implementen las operaciones aritméticas básicas (`+`, `-`, `*`, `/`) y la igualdad (`==`). Esto deberá ser incluido en un módulo.\n",
    "\n",
    "Incluyan pruebas (en el archivo \"runtests.jl\") para cada uno de los métodos que implementen.\n"
   ]
  },
  {
   "cell_type": "code",
   "execution_count": 220,
   "metadata": {
    "collapsed": true
   },
   "outputs": [],
   "source": [
    "workspace()"
   ]
  },
  {
   "cell_type": "code",
   "execution_count": 47,
   "metadata": {
    "collapsed": false
   },
   "outputs": [],
   "source": [
    "include(\"Taylor.jl\")\n",
    "include(\"Taylor_test.jl\")"
   ]
  },
  {
   "cell_type": "code",
   "execution_count": 221,
   "metadata": {
    "collapsed": false
   },
   "outputs": [
    {
     "data": {
      "text/plain": [
       "Taylor{T<:Number}"
      ]
     },
     "execution_count": 221,
     "metadata": {},
     "output_type": "execute_result"
    }
   ],
   "source": [
    "\"\"\"\n",
    "Definición de polinomios de Taylor, consta de dos partes: 'taylor_vec' es un Array{T<:Number} que contiene los \n",
    "coeficientes ordenados NO NULOS del polinomio y 'gr' es el grado del polinomio de tal forma que \n",
    "Taylor{Number}([a₀,a₁,a₂,..,a_n],m) representa el polinomio a₀ + a₁x + a₂x² + ··· + aⁿxⁿ + ... + 0xᵐ\n",
    "...\n",
    "\"\"\"\n",
    "type Taylor{T<:Number}\n",
    "    # Aquí se declara taylor_vec que es un Array unidimensional de tipo T.\n",
    "    taylor_vec::Array{T, 1}\n",
    "    # gr es un entero que corresponde al grado máximo de la serie.\n",
    "    gr :: Int\n",
    "    \n",
    "    # Aquí hay un constructor interno que lo que va a hacer es tomar el\n",
    "    # arreglo taylor_vec y ver si tiene un tamaño mayor o menor que gr\n",
    "    # que es donde se trunca la serie.\n",
    "    function Taylor(taylor_vec::Array{T, 1},gr::Int)\n",
    "        if length(taylor_vec) < gr + 1\n",
    "            # Si hay menos de gr entradas, se utiliza vcat para meter ceros \n",
    "            # restantes en taylor_vec y luego se reconstruye.\n",
    "            taylor_vec = vcat(taylor_vec, zeros(T, gr + 1 - length(taylor_vec)))\n",
    "            new(taylor_vec,gr)\n",
    "            else\n",
    "            # En caso contrario se seleccionan las primeras gr + 1 entradas.\n",
    "            taylor_vec = taylor_vec[1:gr+1]\n",
    "            new(taylor_vec,gr)\n",
    "        end\n",
    "    end\n",
    "end\n",
    "\n",
    "# Para no tener que especificar el tipo de los coeficientes:\n",
    "Taylor{T<:Number}(taylor_vec::Array{T, 1},gr::Int) = Taylor{T}(taylor_vec,gr)\n",
    "\n",
    "# Si no queremos especificar el grado de los Taylor:\n",
    "Taylor{T<:Number}(a::Array{T,1}) = Taylor(a, length(a)-1)\n",
    "\n",
    "# Adicionalmente se declara un método para tener Taylor para un escalar.\n",
    "Taylor{T<:Number}(a::T) = Taylor([a])\n",
    "Taylor{T<:Number}(a::T, gr::Int) = Taylor([a],gr)"
   ]
  },
  {
   "cell_type": "markdown",
   "metadata": {},
   "source": [
    "Por ejemplo, si ponemos la serie con 15 entradas se ve que es de orden 14:"
   ]
  },
  {
   "cell_type": "code",
   "execution_count": 222,
   "metadata": {
    "collapsed": false
   },
   "outputs": [
    {
     "data": {
      "text/plain": [
       "Taylor{Int64}([1,1,1,1,1,1,1,1,1,1,1,1,1,1,1],14)"
      ]
     },
     "execution_count": 222,
     "metadata": {},
     "output_type": "execute_result"
    }
   ],
   "source": [
    "Taylor(ones(Int, 15))"
   ]
  },
  {
   "cell_type": "markdown",
   "metadata": {},
   "source": [
    "Pero este misma serie la podemos cortar a un orden:"
   ]
  },
  {
   "cell_type": "code",
   "execution_count": 223,
   "metadata": {
    "collapsed": false
   },
   "outputs": [
    {
     "data": {
      "text/plain": [
       "Taylor{Int64}([1,1,1,1,1,1],5)"
      ]
     },
     "execution_count": 223,
     "metadata": {},
     "output_type": "execute_result"
    }
   ],
   "source": [
    "Taylor(ones(Int, 15), 5)"
   ]
  },
  {
   "cell_type": "markdown",
   "metadata": {},
   "source": [
    "O la podemos extender con ceros:"
   ]
  },
  {
   "cell_type": "code",
   "execution_count": 224,
   "metadata": {
    "collapsed": false
   },
   "outputs": [
    {
     "data": {
      "text/plain": [
       "Taylor{Int64}([1,1,1,1,1,1,1,1,1,1  …  0,0,0,0,0,0,0,0,0,0],20)"
      ]
     },
     "execution_count": 224,
     "metadata": {},
     "output_type": "execute_result"
    }
   ],
   "source": [
    "Taylor(ones(Int, 10), 20)"
   ]
  },
  {
   "cell_type": "markdown",
   "metadata": {},
   "source": [
    "Se pueden meter de distintos subtipos:"
   ]
  },
  {
   "cell_type": "code",
   "execution_count": 225,
   "metadata": {
    "collapsed": false
   },
   "outputs": [
    {
     "data": {
      "text/plain": [
       "Taylor{Float64}([1.0,1.0,1.0,1.0],3)"
      ]
     },
     "execution_count": 225,
     "metadata": {},
     "output_type": "execute_result"
    }
   ],
   "source": [
    "Taylor(ones(Float64, 4))"
   ]
  },
  {
   "cell_type": "markdown",
   "metadata": {},
   "source": [
    "Finalmente, la implementación escalar funciona adecuandamente:"
   ]
  },
  {
   "cell_type": "code",
   "execution_count": 226,
   "metadata": {
    "collapsed": false
   },
   "outputs": [
    {
     "data": {
      "text/plain": [
       "Taylor{Int64}([2],0)"
      ]
     },
     "execution_count": 226,
     "metadata": {},
     "output_type": "execute_result"
    }
   ],
   "source": [
    "Taylor(2)"
   ]
  },
  {
   "cell_type": "markdown",
   "metadata": {},
   "source": [
    "A continuación vamos a emplementar las estructuras algebraicas y aritméticas. Antes debemos implementar un método de promoción para cuando operemos con dos series de distinto orden:"
   ]
  },
  {
   "cell_type": "code",
   "execution_count": 227,
   "metadata": {
    "collapsed": false
   },
   "outputs": [
    {
     "data": {
      "text/plain": [
       "promote (generic function with 11 methods)"
      ]
     },
     "execution_count": 227,
     "metadata": {},
     "output_type": "execute_result"
    }
   ],
   "source": [
    "import Base.promote\n",
    "\n",
    "function promote(a::Taylor, b::Taylor)\n",
    "    gr = maximum([a.gr, b.gr])\n",
    "    return Taylor(a.taylor_vec,gr), Taylor(b.taylor_vec, gr)\n",
    "end"
   ]
  },
  {
   "cell_type": "markdown",
   "metadata": {},
   "source": [
    "Por ejemplo, la promoción entre dos series, una de orden 5 y otra de orden 15 deben ser dos series de orden 15:"
   ]
  },
  {
   "cell_type": "code",
   "execution_count": 228,
   "metadata": {
    "collapsed": false
   },
   "outputs": [
    {
     "data": {
      "text/plain": [
       "(Taylor{Int64}([2,0,0,0,0,0,0,0,0,0,0,0,0,0,0,0],15),Taylor{Float64}([1.0,1.0,1.0,1.0,1.0,1.0,1.0,1.0,0.0,0.0,0.0,0.0,0.0,0.0,0.0,0.0],15))"
      ]
     },
     "execution_count": 228,
     "metadata": {},
     "output_type": "execute_result"
    }
   ],
   "source": [
    "promote(Taylor(2,5), Taylor(ones(8),15))"
   ]
  },
  {
   "cell_type": "code",
   "execution_count": 229,
   "metadata": {
    "collapsed": false
   },
   "outputs": [
    {
     "data": {
      "text/plain": [
       "/ (generic function with 66 methods)"
      ]
     },
     "execution_count": 229,
     "metadata": {},
     "output_type": "execute_result"
    }
   ],
   "source": [
    "import Base: +, -, *, /, ==\n",
    "\n",
    "# La suma entre los dos Taylors y entre un escalar.\n",
    "function +(a::Taylor, b::Taylor)\n",
    "    a, b = promote(a,b)\n",
    "    return Taylor(a.taylor_vec + b.taylor_vec, a.gr)\n",
    "end\n",
    "+(a::Taylor, b::Number) = a + Taylor(b)\n",
    "+(a::Number, b::Taylor) = Taylor(a) + b\n",
    "\n",
    "# La resta se implementa igualmente.\n",
    "function -(a::Taylor, b::Taylor)\n",
    "    a, b = promote(a,b)\n",
    "    return Taylor(a.taylor_vec - b.taylor_vec, a.gr)\n",
    "end\n",
    "-(a::Taylor, b::Number) = a - Taylor(b)\n",
    "-(a::Number, b::Taylor) = Taylor(a) - b\n",
    "\n",
    "# Los operadores unitarios y la comparación.\n",
    "+(a::Taylor) = a\n",
    "-(a::Taylor) = Taylor(-a.taylor_vec,a.gr)\n",
    "function ==(a::Taylor, b::Taylor)\n",
    "    a, b = promote(a,b)\n",
    "    return a.taylor_vec == b.taylor_vec\n",
    "end\n",
    "\n",
    "# La mutiplicación se implementa usando dos for's. Primero se extienden\n",
    "# Los arreglos porque la mutiplicación de un polinomio de grado a.gr por\n",
    "# uno de grado b.gr es un polinomio de grado a.gr + b.gr\n",
    "# Una vez hecha la extensión, el primero for que va\n",
    "# desde 1, length(a.taylor_vec) construye el arreglo entero de  \n",
    "# elementos. El segundo for anidado es la suma que se da en la teoría\n",
    "# de arriba. Sólo hay que tener cuidado porque los índices empiezan en\n",
    "# uno y no en cero como en la teoría.\n",
    "function *(a::Taylor, b::Taylor)\n",
    "    a, b = Taylor(a.taylor_vec,a.gr + b.gr), Taylor(b.taylor_vec, a.gr + b.gr)\n",
    "    return Taylor([sum([a.taylor_vec[i]*b.taylor_vec[k-i+1] \n",
    "            for i in range(1,k)]) for k in range(1,a.gr+1)],a.gr)\n",
    "end\n",
    "*(a::Taylor, b::Number) = a*Taylor(b)\n",
    "*(a::Number, b::Taylor) = Taylor(a)*b\n",
    "\n",
    "# La división resulta ser un poco más complicada:\n",
    "function /(a::Taylor, b::Taylor)\n",
    "    # Lo primero que se hace es ver el orden de la división:\n",
    "    m = a.gr - b.gr\n",
    "    # Si m es negativo se avienta un error.\n",
    "    if m < 0\n",
    "        return error(\"Se está dividiendo un polinomio de orden k entre otro con orden mayor a k.\")\n",
    "    end\n",
    "    # Ahora vamos a promover los Taylor a un mismo tamaño:\n",
    "    a, b = promote(a,b)\n",
    "    # Se inicializa un arreglo lleno de ceros enteros. Este arreglo después se\n",
    "    # va a cortar al tamaño m +1.\n",
    "    div_vec = zeros(Int, a.gr+1)\n",
    "    # Si el primer elemento de b es cero, nuestro algoritmo, tal cual como\n",
    "    # está escrito no funciona. Debe empezar con el primer par a.taylor_vec[i]\n",
    "    # b.taylor_vec[i] con b.taylor_vec[i] distinto de cero. Esto se hace con\n",
    "    # un loop sobre los elementos de b. j va a ser un contador que nos diga \n",
    "    # dónde es el coeficiente distinto de cero.\n",
    "    j = 1\n",
    "    for i in range(1,length(b.taylor_vec))\n",
    "        if b.taylor_vec[i] != 0\n",
    "            div_vec[1] = a.taylor_vec[i]/b.taylor_vec[i]\n",
    "            j = i\n",
    "            break\n",
    "        # Si llegamos al final del arreglo sin encontrar un coeficiente de b\n",
    "        #distinto de cero, regresamos un error.\n",
    "        elseif (i==length(b.taylor_vec)) & (b.taylor_vec[i] == 0)\n",
    "            return error(\"El polinomio divisor es igual a cero\")\n",
    "        end\n",
    "    end\n",
    "    # Habiendo obtenido la j que es donde el divisor empieza a ser distinto de cero,\n",
    "    #debemos comprobar que todos los coeficientes de a anteriores a j sean cero. De \n",
    "    # otra manera tendríamos una división de un término x^k/x^j con k<j, lo cual no\n",
    "    # tiene una expansión en Taylor.\n",
    "    for i in range(1,j-1)\n",
    "        if a.taylor_vec[i] != 0\n",
    "            return error(\"Polinomio con polo en la expansión de Taylor.\")\n",
    "        end\n",
    "    end\n",
    "    # Ahora podemos llenar los elementos que falta. Nuestro rango empieza\n",
    "    # en 2 pero no necesariamente termina en el índice correspondiente al tamaño\n",
    "    # por la parte anterior que vimos que el primer elemento no necesariamente\n",
    "        # se calculó con índices 1,1. Para eso usamos el contador j\n",
    "    for k in range(j+1, length(div_vec)-j)\n",
    "        # sd será la suma que aparece en la ecuación, inicializada como cero.\n",
    "        sd = 0\n",
    "        # Con el siguiente for se ejecuta la suma utilizando los coeficientes\n",
    "        # de div_vec que ya se generaron.\n",
    "        for i in range(1,k-j)\n",
    "            sd = sd + (div_vec[i])*b.taylor_vec[k-i+1]\n",
    "        end\n",
    "        div_vec[1+k-j] = (1/b.taylor_vec[j])*(a.taylor_vec[k]-sd)\n",
    "    end\n",
    "    # Se implementa el orden correcto m\n",
    "    return Taylor(div_vec,m)\n",
    "end       \n",
    "/(a::Taylor, b::Number) = a/Taylor(b)\n",
    "/(a::Number, b::Taylor) = Taylor(a)/b"
   ]
  },
  {
   "cell_type": "markdown",
   "metadata": {},
   "source": [
    "Obsérvese que gracias a la promoción podemos sumar series de distinto orden:"
   ]
  },
  {
   "cell_type": "code",
   "execution_count": 230,
   "metadata": {
    "collapsed": false
   },
   "outputs": [
    {
     "data": {
      "text/plain": [
       "Taylor{Int64}([3,1,0,0,0,0],5)"
      ]
     },
     "execution_count": 230,
     "metadata": {},
     "output_type": "execute_result"
    }
   ],
   "source": [
    "Taylor([1,1]) + Taylor(2,5)"
   ]
  },
  {
   "cell_type": "code",
   "execution_count": 231,
   "metadata": {
    "collapsed": false
   },
   "outputs": [
    {
     "data": {
      "text/plain": [
       "Taylor{Int64}([2,2,1,0,0,0,0],6)"
      ]
     },
     "execution_count": 231,
     "metadata": {},
     "output_type": "execute_result"
    }
   ],
   "source": [
    "1 + Taylor([1,2,1], 6)"
   ]
  },
  {
   "cell_type": "markdown",
   "metadata": {},
   "source": [
    "La multiplicación de tres polinomios de grado 1 debe ser uno de grado 3:"
   ]
  },
  {
   "cell_type": "code",
   "execution_count": 232,
   "metadata": {
    "collapsed": false
   },
   "outputs": [
    {
     "data": {
      "text/plain": [
       "Taylor{Int64}([1,3,3,1],3)"
      ]
     },
     "execution_count": 232,
     "metadata": {},
     "output_type": "execute_result"
    }
   ],
   "source": [
    "Taylor([1,1]) * Taylor([1,1]) * Taylor([1,1])"
   ]
  },
  {
   "cell_type": "markdown",
   "metadata": {},
   "source": [
    "Probemos con un par de ejemplos si $a(x) = 1 + x + x^2 + x^3$ y $b(x) = 1+x$ esperamos que la división sea $1+x^2$, un polinomio de orden 2:"
   ]
  },
  {
   "cell_type": "code",
   "execution_count": 233,
   "metadata": {
    "collapsed": false
   },
   "outputs": [
    {
     "data": {
      "text/plain": [
       "Taylor{Int64}([1,0,1],2)"
      ]
     },
     "execution_count": 233,
     "metadata": {},
     "output_type": "execute_result"
    }
   ],
   "source": [
    "a = Taylor([1,1,1,1])\n",
    "b = Taylor([1,1])\n",
    "a/b"
   ]
  },
  {
   "cell_type": "markdown",
   "metadata": {},
   "source": [
    "También, si ponemos un ejemplo donde el coeficiente constante del divisor es cero funciona. Por ejemplo, $a(x) = x+x^2$, $b(x) = x$: $a(x)/b(x) = 1+x$."
   ]
  },
  {
   "cell_type": "code",
   "execution_count": 234,
   "metadata": {
    "collapsed": false
   },
   "outputs": [
    {
     "data": {
      "text/plain": [
       "Taylor{Int64}([1,1],1)"
      ]
     },
     "execution_count": 234,
     "metadata": {},
     "output_type": "execute_result"
    }
   ],
   "source": [
    "a = Taylor([0,1,1])\n",
    "b = Taylor([0,1])\n",
    "a/b"
   ]
  },
  {
   "cell_type": "markdown",
   "metadata": {},
   "source": [
    "Está implementado el método para no dividir entre cero:"
   ]
  },
  {
   "cell_type": "code",
   "execution_count": 235,
   "metadata": {
    "collapsed": false
   },
   "outputs": [
    {
     "ename": "LoadError",
     "evalue": "LoadError: El polinomio divisor es igual a cero\nwhile loading In[235], in expression starting on line 1",
     "output_type": "error",
     "traceback": [
      "LoadError: El polinomio divisor es igual a cero\nwhile loading In[235], in expression starting on line 1",
      "",
      " in / at In[229]:70"
     ]
    }
   ],
   "source": [
    "Taylor([1,1,1])/Taylor(0)"
   ]
  },
  {
   "cell_type": "markdown",
   "metadata": {},
   "source": [
    "Por último, nos falta ver que no podemos hacer cosas como $1/x$ porque estas series no tienen expansión en $x=0$:"
   ]
  },
  {
   "cell_type": "code",
   "execution_count": 236,
   "metadata": {
    "collapsed": false
   },
   "outputs": [
    {
     "ename": "LoadError",
     "evalue": "LoadError: Se está dividiendo un polinomio de orden k entre otro con orden mayor a k.\nwhile loading In[236], in expression starting on line 1",
     "output_type": "error",
     "traceback": [
      "LoadError: Se está dividiendo un polinomio de orden k entre otro con orden mayor a k.\nwhile loading In[236], in expression starting on line 1",
      "",
      " in / at In[229]:49"
     ]
    }
   ],
   "source": [
    "Taylor([1])/Taylor([0,1])"
   ]
  },
  {
   "cell_type": "code",
   "execution_count": 89,
   "metadata": {
    "collapsed": false,
    "slideshow": {
     "slide_type": "-"
    }
   },
   "outputs": [],
   "source": [
    "# Muestren que su código funciona con tests adecuados; para los detalles ver \n",
    "# http://julia.readthedocs.org/en/release-0.4/stdlib/test/\n",
    "using Base.Test\n",
    "# Las pruebas exhaustivas están en el archivo Taylor_test.jl que se corrió arriba.\n",
    "@test Taylor([0,1]) + 1 == Taylor([1,1])\n",
    "@test Taylor([1,1,1]) == Taylor([1,1,1,0,0,0,0,0,0,0,0,0,0,0,0,0,0,3,2,1])\n",
    "@test Taylor([1,0]) + Taylor([0,1]) == Taylor([1,1])\n",
    "@test Taylor(ones(8))/Taylor([1,1]) * Taylor([1,1]) == Taylor(ones(8))\n",
    "@test Taylor([1.,2.,1.])/Taylor([1.,1.]) == Taylor([1.,1.])"
   ]
  },
  {
   "cell_type": "markdown",
   "metadata": {
    "slideshow": {
     "slide_type": "slide"
    }
   },
   "source": [
    "# Funciones de polinomios"
   ]
  },
  {
   "cell_type": "markdown",
   "metadata": {},
   "source": [
    "El siguiente punto, es cómo definir funciones de polinomios. \n",
    "\n",
    "Como veremos aquí, esto se basará en plantear una ecuación diferencial apropiada, cuya solución es, precisamente, la expresión que estamos buscando. Este punto es *importante*, y muestra que hay una conexión importante con la solución de ecuaciones diferenciales."
   ]
  },
  {
   "cell_type": "markdown",
   "metadata": {
    "slideshow": {
     "slide_type": "subslide"
    }
   },
   "source": [
    "Como ejemplo consideraremos la función\n",
    "\n",
    "\\begin{equation}\n",
    "E(x) = \\exp\\big(g(x)\\big),\n",
    "\\end{equation}\n",
    "\n",
    "donde \n",
    "\n",
    "\\begin{equation}\n",
    "g(x) = \\sum_{k=0}^\\infty g_{[k]} (x-x_0)^k\n",
    "\\end{equation}\n",
    "\n",
    "está escrita como una serie de Taylor (¡exacta!) alrededor de $x_0$. \n"
   ]
  },
  {
   "cell_type": "markdown",
   "metadata": {},
   "source": [
    "El primer punto, es que escribiremos a $E(x)$ como una serie de Taylor alrededor de $x_0$, es decir,\n",
    "\n",
    "\\begin{equation}\n",
    "E(x) = \\sum_{k=0}^\\infty E_{[k]} (x-x_0)^k.\n",
    "\\end{equation}\n",
    "\n",
    "El objetivo es determinar $E_{[k]}$ para *toda* $k$.\n",
    "\n",
    "Dado que $E(x)$ esun polinomio en $x$, su derivada viene dada por\n",
    "\n",
    "\\begin{equation}\n",
    "\\frac{{\\rm d} E(x)}{{\\rm d}x} = \\sum_{k=1}^\\infty k E_{[k]}\\, (x-x_0)^{k-1} .\n",
    "\\end{equation}"
   ]
  },
  {
   "cell_type": "markdown",
   "metadata": {},
   "source": [
    "Por otra parte, la derivada de $E(x)$ en términos de $g(x)$ está dada por\n",
    "\n",
    "\\begin{equation}\n",
    "\\frac{{\\rm d} E(x)}{{\\rm d}x} = \\exp\\big(g(x)\\big) \\frac{{\\rm d} g(x)}{{\\rm d}x} = E(x) \\frac{{\\rm d} g(x)}{{\\rm d}x},\n",
    "\\end{equation}\n",
    "\n",
    "donde del lado derecho aparece la derivada de $g(x)$. Ya que $g(x)$ *también* está escrita en forma polinomial, su derivada es\n",
    "\n",
    "\\begin{equation}\n",
    "\\frac{{\\rm d} g(x)}{{\\rm d}x} = \\sum_{k=1}^\\infty k g_{[k]}\\, (x-x_0)^{k-1} .\n",
    "\\end{equation}\n"
   ]
  },
  {
   "cell_type": "markdown",
   "metadata": {
    "slideshow": {
     "slide_type": "subslide"
    }
   },
   "source": [
    "Tenemos, entonces, todo lo que requerimos para escribir el lado derecho de la ecuación diferencial y explotar la aritmética de polinomios. \n",
    "\n",
    "\\begin{eqnarray}\n",
    "E(x) \\frac{{\\rm d} g(x)}{{\\rm d}x}& = & \n",
    "\\Big[ \\sum_{k=0}^\\infty E_{[k]} (x-x_0)^k \\Big]\n",
    "\\Big[ \\sum_{j=1}^\\infty j g_{[j]} (x-x_0)^{j-1}\\Big] \\\\\n",
    " & = & \\sum_{k=1}^\\infty \\Big[ \\sum_{j=0}^k j g_{[j]} E_{[k-j]} \\; \\Big] (x-x_0)^{k-1} .\\\\\n",
    "\\end{eqnarray}\n",
    "\n",
    "La segunda línea se obtiene reordenando los términos al fijar la potencia de $(x-x_0)$, esto es, $k+j$ se toma como un nuevo índice ($k$), y el nuevo índice $j$ describe el índice del producto de los polinomios. (La potencia se deja de la forma $k-1$ ya que el lado izquierdo de la ecuación aparece así.)"
   ]
  },
  {
   "cell_type": "markdown",
   "metadata": {},
   "source": [
    "Igualando con el lado izquierdo de la ecuación diferencial, que sólo involucra a la derivada de $E(x)$, tenemos que se debe cumplir\n",
    "\n",
    "\\begin{equation}\n",
    "E_{[k]} = \\frac{1}{k} \\sum_{j=0}^k j g_{[j]} \\, E_{[k-j]} = \n",
    "\\frac{1}{k} \\sum_{j=0}^{k} (k-j) g_{[k-j]} \\, E_{[j]}, \\qquad k=1,2,\\dots,\n",
    "\\end{equation}\n",
    "\n",
    "incluyendo *la condición inicial*\n",
    "\n",
    "\\begin{equation}\n",
    "E_{[0]} = \\exp\\big(g(x_0)\\big).\n",
    "\\end{equation}\n",
    "\n",
    "Estas relaciones *de recurrencia* permiten calcular $\\exp\\big(g(x)\\big)$, para cualquier polinomio $g(x)$."
   ]
  },
  {
   "cell_type": "markdown",
   "metadata": {},
   "source": [
    "Para el caso concreto $g(x) = x$ alrededor de $x_0=0$, donde tenemos $g_{[j]} = \\delta_{j,1}$, obtenemos\n",
    "\n",
    "\\begin{eqnarray}\n",
    "E_{[0]} & = & 1,\\\\\n",
    "E_{[k]} & = & \\frac{1}{k} E_{[k-1]} = \\frac{1}{k(k-1)} E_{[k-2]} = \\dots = \\frac{1}{k!} E_{[0]} = \\frac{1}{k!}\\ ,\n",
    "\\end{eqnarray}\n",
    "\n",
    "que es el resultado bien conocido."
   ]
  },
  {
   "cell_type": "markdown",
   "metadata": {
    "slideshow": {
     "slide_type": "subslide"
    }
   },
   "source": [
    "### Ejercicio\n",
    "\n",
    "Obtengan las relaciones de recurrencia para las funciones $L(x) = \\log\\big(g(x)\\big)$, $P_\\alpha(x) = \\big(g(x)\\big)^\\alpha$, $S(x) = \\sin\\big(g(x)\\big)$, $C(x) = \\cos\\big(g(x)\\big)$ usando el mismo procedimiento que arriba. Implementen métodos adecuados para estas funciones en el módulo, actuando sobre estructuras `Taylor` e incluyan pruebas."
   ]
  },
  {
   "cell_type": "markdown",
   "metadata": {},
   "source": [
    "**NOTA** Los ejercicios de este notebook constituyen el contenido de la Tarea6."
   ]
  },
  {
   "cell_type": "markdown",
   "metadata": {},
   "source": [
    "Primero empezaremos implementando la exponencial como se vio arriba:"
   ]
  },
  {
   "cell_type": "code",
   "execution_count": 90,
   "metadata": {
    "collapsed": false
   },
   "outputs": [
    {
     "data": {
      "text/plain": [
       "exp (generic function with 14 methods)"
      ]
     },
     "execution_count": 90,
     "metadata": {},
     "output_type": "execute_result"
    }
   ],
   "source": [
    "import Base: exp\n",
    "# Esta es la función exponencial aplicada a estructuras Taylor.\n",
    "function exp(a::Taylor)\n",
    "    # Este primer if está armado para que no se regrese un error de\n",
    "    # inexactitud de meter un entero a una exponencial que trabaja \n",
    "    # mínimo con números flotantes.\n",
    "    if eltype(a.taylor_vec) <: Integer\n",
    "        a = Taylor(convert(Array{Float64,1}, a.taylor_vec))\n",
    "    end\n",
    "    # Inicializamos el arreglo e_vec que será quien llene la \n",
    "    # estructura Taylor asociada a la exponencial:\n",
    "    e_vec = 0.*a.taylor_vec\n",
    "    # Ahora la condición inicial sobre el arreglo.\n",
    "    e_vec[1] = exp(a.taylor_vec[1])\n",
    "    # El siguiente for es la relación de recurrencia hallada que\n",
    "    # usa los valores E_k previamente obtenidos.\n",
    "    for k in range(2,size(e_vec,1)-1)\n",
    "        e_vec[k] = (1/(k-1))*sum([(k-j)*e_vec[j]*a.taylor_vec[k-j+1] for j in range(1,k)])\n",
    "    end\n",
    "    # Se regresa la estructura de Taylor con coeficientes calculados.\n",
    "    return Taylor(e_vec)\n",
    "end"
   ]
  },
  {
   "cell_type": "markdown",
   "metadata": {},
   "source": [
    "Probemos con $g(x) = (1+x)^2$:"
   ]
  },
  {
   "cell_type": "code",
   "execution_count": 91,
   "metadata": {
    "collapsed": false
   },
   "outputs": [
    {
     "data": {
      "text/plain": [
       "Taylor{Int64}([1,2,1,0,0,0,0,0,0,0,0],10)"
      ]
     },
     "execution_count": 91,
     "metadata": {},
     "output_type": "execute_result"
    }
   ],
   "source": [
    "a = Taylor([1,1])*Taylor([1,1])"
   ]
  },
  {
   "cell_type": "code",
   "execution_count": 92,
   "metadata": {
    "collapsed": false
   },
   "outputs": [
    {
     "data": {
      "text/plain": [
       "Taylor{Float64}([2.718281828459045,5.43656365691809,8.154845485377136,9.060939428196818,8.607892456786978,7.067532753993518,5.225141736926831,3.512192711691528,2.1843336121545898,1.2658947386324706,0.6900456701574121],10)"
      ]
     },
     "execution_count": 92,
     "metadata": {},
     "output_type": "execute_result"
    }
   ],
   "source": [
    "exp(a)"
   ]
  },
  {
   "cell_type": "code",
   "execution_count": 93,
   "metadata": {
    "collapsed": false
   },
   "outputs": [],
   "source": [
    "@test exp(a).taylor_vec[2] == 2e\n",
    "@test exp(a).taylor_vec[3] == 3e"
   ]
  },
  {
   "cell_type": "markdown",
   "metadata": {},
   "source": [
    "Se ve muy claro que la derivada en $x=0$ es $2e$ como debería ser. La segunda derivada es según [Wolfram](http://www.wolframalpha.com/input/?i=Exp%28%281%2Bx%29^2%29+second+derivative+at+x+%3D0]) $6e\\approx 16.31$. Nuestro coeficiente es la mitad, también como se espera."
   ]
  },
  {
   "cell_type": "markdown",
   "metadata": {},
   "source": [
    "Ahora que pudimos implementar la exponencial debemos implementar las otras funciones. Esto será muy sencillo una vez que obtengamos las relaciones de recurrencia. Para el logaritmo tenemos (puesta con índices que empiezan en 1 por convenienza):\n",
    "\n",
    "$$L(x) = \\log(g(x)) = \\sum_{k=1}^\\infty L_k (x-x_0))^{k-1}$$\n",
    "\n",
    "$$\\frac{dL(x)}{dx} = \\sum_{k=1}^\\infty k L_{k+1}(x-x_0)^{k-1} = \\frac{1}{g(x)}\\,\\frac{dg(x)}{dx} = \\frac{\\sum_{j=1}^\\infty j g_{j+1} (x-x_0)^{j-1}}{g(x)}$$\n",
    "\n",
    "Por lo tanto se ve que para sacar los $L_k$ debemos dividir las series de Taylor de $g'$ y $g$, sacar el coeficiente de orden $k$ y dividir entre $k$ finalmente. La condición inicial es obviamente\n",
    "\n",
    "$$L_1 = \\log(g_1)$$\n",
    "\n",
    "Vale la pena hacer *hincapié* que las relaciones de recurrencia del logaritmo son finalmente las relaciones de recurrencia que vienen de la división."
   ]
  },
  {
   "cell_type": "code",
   "execution_count": 46,
   "metadata": {
    "collapsed": false
   },
   "outputs": [
    {
     "data": {
      "text/plain": [
       "log (generic function with 20 methods)"
      ]
     },
     "execution_count": 46,
     "metadata": {},
     "output_type": "execute_result"
    }
   ],
   "source": [
    "import Base: log\n",
    "# Esta es la función logaritmo aplicada a estructuras Taylor.\n",
    "function log(a::Taylor)\n",
    "    # Este primer if está armado para que no se regrese un error de\n",
    "    # inexactitud de meter un entero a un logaritmo que trabaja \n",
    "    # mínimo con números flotantes.\n",
    "    if eltype(a.taylor_vec) <: Integer\n",
    "        a = Taylor(convert(Array{Float64,1}, a.taylor_vec))\n",
    "    end\n",
    "    # Debemos revisar que no se calcule el logaritmo de cero.\n",
    "    if a.taylor_vec[1] == 0\n",
    "        return error(\"No se puede calcular el logaritmo de cero.\")\n",
    "    end\n",
    "    # Es posible calcular el logaritmo de números negativos pero tendríamos\n",
    "    # que convertir el arreglo a números complejos:\n",
    "    if (eltype(a.taylor_vec[1]) <: Real) && (a.taylor_vec[1] < 0)\n",
    "        a = Taylor(convert(Array{Complex128,1}, a.taylor_vec))\n",
    "    end\n",
    "    # Inicializamos el arreglo l_vec que será quien llene la \n",
    "    # estructura Taylor asociada al logaritmo:\n",
    "    l_vec = 0*a.taylor_vec\n",
    "    # Ahora la condición inicial sobre el arreglo.\n",
    "    l_vec[1] = log(a.taylor_vec[1])\n",
    "    # Ahora vamos a crear el arreglo de la derivada de a.\n",
    "    b = Taylor(convert(Array{eltype(l_vec),1},[i*a.taylor_vec[i+1] for i in range(1,size(a.taylor_vec,1)-1)]))\n",
    "    # El siguiente for es la relación de recurrencia hallada que\n",
    "    # es básicamente el de la división de dos series de Taylor.\n",
    "    for k in range(1,size(l_vec,1)-1)\n",
    "        l_vec[k+1] = (1/k)*(b/a).taylor_vec[k]\n",
    "    end\n",
    "    # Se regresa la estructura de Taylor con coeficientes calculados.\n",
    "    return Taylor(l_vec)\n",
    "end"
   ]
  },
  {
   "cell_type": "code",
   "execution_count": 58,
   "metadata": {
    "collapsed": false
   },
   "outputs": [],
   "source": [
    "@test log(Taylor([1])) == Taylor([0])"
   ]
  },
  {
   "cell_type": "code",
   "execution_count": 48,
   "metadata": {
    "collapsed": false
   },
   "outputs": [
    {
     "data": {
      "text/plain": [
       "Taylor{Int64}([1,2,1,0,0,0,0,0,0,0])"
      ]
     },
     "execution_count": 48,
     "metadata": {},
     "output_type": "execute_result"
    }
   ],
   "source": [
    "a = Taylor([1,1]) * Taylor([1,1])"
   ]
  },
  {
   "cell_type": "markdown",
   "metadata": {},
   "source": [
    "No podemos calcular el logaritmo de cero:"
   ]
  },
  {
   "cell_type": "code",
   "execution_count": 34,
   "metadata": {
    "collapsed": false
   },
   "outputs": [
    {
     "ename": "LoadError",
     "evalue": "LoadError: No se puede calcular el logaritmo de cero.\nwhile loading In[34], in expression starting on line 1",
     "output_type": "error",
     "traceback": [
      "LoadError: No se puede calcular el logaritmo de cero.\nwhile loading In[34], in expression starting on line 1",
      "",
      " in log at In[31]:12"
     ]
    }
   ],
   "source": [
    "log(Taylor(0))"
   ]
  },
  {
   "cell_type": "markdown",
   "metadata": {},
   "source": [
    "Pero sí podemos calcular números negativos promoviéndolos a números complejos:"
   ]
  },
  {
   "cell_type": "code",
   "execution_count": 35,
   "metadata": {
    "collapsed": false
   },
   "outputs": [
    {
     "data": {
      "text/plain": [
       "Taylor{Complex{Float64}}(Complex{Float64}[0.0 + 3.141592653589793im,2.0 - 0.0im,-2.0 - 0.0im,2.6666666666666665 + 0.0im,-4.0 - 0.0im,6.4 + 0.0im,-10.666666666666666 - 0.0im,18.285714285714285 + 0.0im,-32.0 - 0.0im,56.888888888888886 + 0.0im])"
      ]
     },
     "execution_count": 35,
     "metadata": {},
     "output_type": "execute_result"
    }
   ],
   "source": [
    "log(Taylor([-1,-2]))"
   ]
  },
  {
   "cell_type": "markdown",
   "metadata": {},
   "source": [
    "Otro ejemplo sería:"
   ]
  },
  {
   "cell_type": "code",
   "execution_count": 49,
   "metadata": {
    "collapsed": false
   },
   "outputs": [
    {
     "data": {
      "text/plain": [
       "Taylor{Float64}([0.0,2.0,-1.0,0.6666666666666666,-0.5,0.4,-0.3333333333333333,0.2857142857142857,-0.25,0.2222222222222222])"
      ]
     },
     "execution_count": 49,
     "metadata": {},
     "output_type": "execute_result"
    }
   ],
   "source": [
    "log(a)"
   ]
  },
  {
   "cell_type": "markdown",
   "metadata": {},
   "source": [
    "Wolfram nos dice que la serie es:\n",
    "\n",
    "\n",
    "$$\\log((1+x)^2) = 2x-x^2+2x^3/3-x^4/2 +2x^5/5 +\\ldots$$\n",
    "\n",
    "Así que vemos que está bien implementado todo.\n",
    "\n",
    "Para completar el logaritmo y la exponencial, esperamos que sean inversas:"
   ]
  },
  {
   "cell_type": "code",
   "execution_count": 52,
   "metadata": {
    "collapsed": false
   },
   "outputs": [
    {
     "data": {
      "text/plain": [
       "Taylor{Float64}([1.0,2.0,1.0000000000000002,0.0,0.0,0.0,-4.356567742664224e-16,3.734200922283621e-16,1.6337129034990842e-16,-2.904378495109483e-16])"
      ]
     },
     "execution_count": 52,
     "metadata": {},
     "output_type": "execute_result"
    }
   ],
   "source": [
    "log(exp(a))"
   ]
  },
  {
   "cell_type": "markdown",
   "metadata": {},
   "source": [
    "Se ve que esto es cierto, ya que la serie tiene errores despreciables de orden $10^{-16}$."
   ]
  },
  {
   "cell_type": "code",
   "execution_count": 51,
   "metadata": {
    "collapsed": false
   },
   "outputs": [
    {
     "data": {
      "text/plain": [
       "Taylor{Float64}([1.0,2.0,1.0,0.0,0.0,0.0,0.0,0.0,0.0,0.0])"
      ]
     },
     "execution_count": 51,
     "metadata": {},
     "output_type": "execute_result"
    }
   ],
   "source": [
    "exp(log(a))"
   ]
  },
  {
   "cell_type": "code",
   "execution_count": 45,
   "metadata": {
    "collapsed": false
   },
   "outputs": [
    {
     "data": {
      "text/plain": [
       "0.0 + 3.141592653589793im"
      ]
     },
     "execution_count": 45,
     "metadata": {},
     "output_type": "execute_result"
    }
   ],
   "source": [
    "log(-1+0im)"
   ]
  },
  {
   "cell_type": "markdown",
   "metadata": {},
   "source": [
    "Teniendo el logaritmo y la exponencial es muy sencillo implementar la potencia pues\n",
    "\n",
    "$$P_a(x) = \\exp(a\\log(g(x))$$\n",
    "\n",
    "$$\\frac{dP_a(x)}{dx} = a(g(x))^{a-1} = a\\,\\exp((a-1)\\,\\log(g(x)))\\cdot\\frac{dg(x)}{dx}$$"
   ]
  },
  {
   "cell_type": "code",
   "execution_count": 74,
   "metadata": {
    "collapsed": false
   },
   "outputs": [
    {
     "data": {
      "text/plain": [
       "^ (generic function with 59 methods)"
      ]
     },
     "execution_count": 74,
     "metadata": {},
     "output_type": "execute_result"
    }
   ],
   "source": [
    "import Base: ^\n",
    "# Recuérdese que Julia pide primero declararla para exponente entero.\n",
    "function ^(a::Taylor,b::Integer)\n",
    "    c = Taylor(1)\n",
    "    for i in range(1,b)\n",
    "        c = c*a\n",
    "    end\n",
    "    return c\n",
    "end\n",
    "# La implementación no entera se hace con la exponencial-logaritmo.\n",
    "\n",
    "function ^(a::Taylor,b::Number)\n",
    "    if eltype(a.taylor_vec) <: Integer\n",
    "        a = Taylor(convert(Array{Float64,1}, a.taylor_vec))\n",
    "    end\n",
    "    p_vec = 0*a.taylor_vec\n",
    "    d_vec = 0*a.taylor_vec\n",
    "    # Ahora la condición inicial sobre el arreglo.\n",
    "    p_vec[1] = ^(a.taylor_vec[1],b)\n",
    "    d_vec[1] = p_vec[1]/a.taylor_vec[1] \n",
    "    # El siguiente for es la relación de recurrencia hallada que\n",
    "    # usa los valores E_k previamente obtenidos.\n",
    "    for k in range(1,size(p_vec,1)-1)\n",
    "        p_vec[k+1] = (b/k)*sum([ (1/a.taylor_vec[i])*(p_vec[i]-sum([d_vec[j]*a.taylor_vec[i-j+1] for j in range(1,i-2)]))*(k-i+1)*a.taylor_vec[k-i+1] for i in range(1,k)])\n",
    "        d_vec[k+1] = (1/a.taylor_vec[1])*(p_vec[k+1]-sum([d_vec[i]*a.taylor_vec[k-i+1] for i in range(1,k-2)]))\n",
    "    end        \n",
    "    # Se regresa la estructura de Taylor con coeficientes calculados.\n",
    "    return Taylor(p_vec)\n",
    "end"
   ]
  },
  {
   "cell_type": "markdown",
   "metadata": {},
   "source": [
    "Así salen cosas muy evidentes como:"
   ]
  },
  {
   "cell_type": "code",
   "execution_count": 75,
   "metadata": {
    "collapsed": false
   },
   "outputs": [
    {
     "data": {
      "text/plain": [
       "TS.Taylor{Int64}([1,2,1,0,0,0,0,0,0,0])"
      ]
     },
     "execution_count": 75,
     "metadata": {},
     "output_type": "execute_result"
    }
   ],
   "source": [
    "a"
   ]
  },
  {
   "cell_type": "markdown",
   "metadata": {},
   "source": [
    "Pero también cosas más sorprendetes:"
   ]
  },
  {
   "cell_type": "code",
   "execution_count": 76,
   "metadata": {
    "collapsed": false
   },
   "outputs": [
    {
     "data": {
      "text/plain": [
       "TS.Taylor{Float64}([1.0,0.5,1.0625,0.6770833333333333,Inf,Inf,Inf,NaN,NaN,NaN])"
      ]
     },
     "execution_count": 76,
     "metadata": {},
     "output_type": "execute_result"
    }
   ],
   "source": [
    "a^(1/2)"
   ]
  },
  {
   "cell_type": "code",
   "execution_count": 21,
   "metadata": {
    "collapsed": false
   },
   "outputs": [
    {
     "ename": "LoadError",
     "evalue": "LoadError: División entre cero\nwhile loading In[21], in expression starting on line 1",
     "output_type": "error",
     "traceback": [
      "LoadError: División entre cero\nwhile loading In[21], in expression starting on line 1",
      "",
      " in / at In[6]:36",
      " in log at In[13]:24",
      " in ^ at In[18]:11"
     ]
    }
   ],
   "source": [
    "(a^(2im)).taylor_vec"
   ]
  },
  {
   "cell_type": "markdown",
   "metadata": {},
   "source": [
    "Nuevamente Wolfram nos dice que esta serie es \n",
    "\n",
    "$$1 + 4ix-(8+2i)x^2 + (8-28i/3)x^3 +\\ldots$$"
   ]
  },
  {
   "cell_type": "markdown",
   "metadata": {
    "collapsed": true
   },
   "source": [
    "Para finalizar, queda claro que con la potencia podemos construir casi de manera inmediata el coseno y seno utilizando que \n",
    "\n",
    "$$\\cos(g(x)) =\\sum_{k=0}^\\infty \\frac{(-1)^{k}}{(2k)!}\\,(g(x))^{2k}$$\n",
    "\n",
    "$$\\sin(g(x)) = \\sum_{k=0}^\\infty \\frac{(-1)^{k}}{(2k+1)!}\\,(g(x))^{2k+1}$$"
   ]
  },
  {
   "cell_type": "code",
   "execution_count": 22,
   "metadata": {
    "collapsed": false
   },
   "outputs": [
    {
     "data": {
      "text/plain": [
       "sin (generic function with 13 methods)"
      ]
     },
     "execution_count": 22,
     "metadata": {},
     "output_type": "execute_result"
    }
   ],
   "source": [
    "import Base: sin, cos\n",
    "# Teniendo la potencia a nuestra disposición es casi trivial escribir\n",
    "# las funciones coseno y seno en términos de su serie de pontecias.\n",
    "cos(a::Taylor) = sum([((-1)^(k)/(factorial(2*k)))*a^(2*k) for k in range(0,size(a.taylor_vec,1)-1)])\n",
    "sin(a::Taylor) = sum([((-1)^(k)/(factorial(2*k+1)))*a^(2*k+1) for k in range(0,size(a.taylor_vec,1)-1)])"
   ]
  },
  {
   "cell_type": "code",
   "execution_count": 23,
   "metadata": {
    "collapsed": false
   },
   "outputs": [
    {
     "data": {
      "text/plain": [
       "Taylor{Float64}([0.0,0.0,0.0,0.0,0.0,0.0,0.0,0.0,0.0,0.0])"
      ]
     },
     "execution_count": 23,
     "metadata": {},
     "output_type": "execute_result"
    }
   ],
   "source": [
    "sin(Taylor([0]))"
   ]
  },
  {
   "cell_type": "code",
   "execution_count": 24,
   "metadata": {
    "collapsed": false
   },
   "outputs": [
    {
     "data": {
      "text/plain": [
       "Taylor{Float64}([1.0,0.0,0.0,0.0,0.0,0.0,0.0,0.0,0.0,0.0])"
      ]
     },
     "execution_count": 24,
     "metadata": {},
     "output_type": "execute_result"
    }
   ],
   "source": [
    "cos(Taylor([0]))"
   ]
  },
  {
   "cell_type": "code",
   "execution_count": 25,
   "metadata": {
    "collapsed": false
   },
   "outputs": [
    {
     "data": {
      "text/plain": [
       "Taylor{Float64}([0.5403023058681398,-1.6829419696157875,-1.9220755965440781,0.04135670134202675,1.7729923539363124,1.3374817967419237,0.0715399421341259,-0.503589809840182,-0.35985058441647916,-0.06545891257386795])"
      ]
     },
     "execution_count": 25,
     "metadata": {},
     "output_type": "execute_result"
    }
   ],
   "source": [
    "cos(a)"
   ]
  },
  {
   "cell_type": "code",
   "execution_count": 26,
   "metadata": {
    "collapsed": false
   },
   "outputs": [
    {
     "data": {
      "text/plain": [
       "Taylor{Float64}([0.8414709848078965,1.0806046117362795,-1.1426396637476477,-2.4033450441065765,-0.9403594476010254,0.7257396221113361,1.0368247168927456,0.4025776396788715,-0.10801246692651392,-0.1918756431681469])"
      ]
     },
     "execution_count": 26,
     "metadata": {},
     "output_type": "execute_result"
    }
   ],
   "source": [
    "sin(a)"
   ]
  },
  {
   "cell_type": "code",
   "execution_count": 27,
   "metadata": {
    "collapsed": false
   },
   "outputs": [],
   "source": [
    "@test ((cos(a))^2 + (sin(a))^2).taylor_vec[1] == 1.0"
   ]
  }
 ],
 "metadata": {
  "kernelspec": {
   "display_name": "Julia 0.4.5",
   "language": "julia",
   "name": "julia-0.4"
  },
  "language_info": {
   "file_extension": ".jl",
   "mimetype": "application/julia",
   "name": "julia",
   "version": "0.4.5"
  }
 },
 "nbformat": 4,
 "nbformat_minor": 0
}
