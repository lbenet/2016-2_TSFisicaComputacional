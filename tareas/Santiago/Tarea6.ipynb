{
 "cells": [
  {
   "cell_type": "markdown",
   "metadata": {
    "slideshow": {
     "slide_type": "slide"
    }
   },
   "source": [
    "# Derivadas superiores"
   ]
  },
  {
   "cell_type": "markdown",
   "metadata": {},
   "source": [
    "Hasta ahora hemos visto que, usando diferenciación automática, podemos calcular la derivada de funciones de una variable esencialmente con un error del orden del epsilon de la máquina.\n",
    "\n",
    "La pregunta que abordaremos ahora, es cómo hacer para calcular la segunda derivada, y derivadas de orden superior."
   ]
  },
  {
   "cell_type": "markdown",
   "metadata": {
    "slideshow": {
     "slide_type": "subslide"
    }
   },
   "source": [
    "Una posibilidad, específica para el caso de la segunda derivada, es proceder como en el caso anterior, es decir, definir una *terna ordenada* donde la primer componente es el valor de la función en $x_0$, i.e., $f(x_0)$, el de la segunda es el valor de la primer derivada $f'(x_0)$, y la tercer componente tiene el valor de la segunda derivada, $f^{(2)}(x_0) = f''(x_0)$. \n"
   ]
  },
  {
   "cell_type": "markdown",
   "metadata": {
    "slideshow": {
     "slide_type": "subslide"
    }
   },
   "source": [
    "Con esta definición, las operaciones aritméticas vienen dadas por:\n",
    "\n",
    "\\begin{eqnarray}\n",
    "\\vec{u} + \\vec{v} & = & (u + v, \\quad u'+ v', \\quad u''+v''),\\\\\n",
    "\\vec{u} - \\vec{v} & = & (u - v, \\quad u'- v', \\quad u''-v''),\\\\\n",
    "\\vec{u} \\times \\vec{v} & = & (u v, \\quad u v' + u' v, \\quad u v'' + 2 u' v' + u'' v),\\\\\n",
    "\\frac{\\vec{u}}{\\vec{v}} & = & \\Big( \\frac{u}{v}, \\quad \\frac{u'-( u/v) v'}{v}, \\quad \n",
    "\\frac{u'' - 2 (u/v)' v' - (u/v)v'' }{v}\\Big).\\\\\n",
    "\\end{eqnarray}\n",
    "\n",
    "Claramente, este proceso es muy ineficiente para derivadas de orden aún más alto, dado que las expresiones se complican y es fácil cometer errores."
   ]
  },
  {
   "cell_type": "markdown",
   "metadata": {
    "slideshow": {
     "slide_type": "slide"
    }
   },
   "source": [
    "# Series de Taylor"
   ]
  },
  {
   "cell_type": "markdown",
   "metadata": {
    "slideshow": {
     "slide_type": "-"
    }
   },
   "source": [
    "El punto importante a recordar, es que las derivadas de orden superior de una función $f(x)$ en un punto $x_0$ están contenidas en el desarrollo de Taylor de la función entorno a ese punto. La suposición importante en esto es que $f(x)$ es suficientemente suave; por simplicidad supondremos que $f(x)$ es ${\\cal C}^\\infty$ y que estamos suficientemente cerca del punto $x_0$, i.e., $|x-x_0|\\ll 1$. \n"
   ]
  },
  {
   "cell_type": "markdown",
   "metadata": {
    "slideshow": {
     "slide_type": "subslide"
    }
   },
   "source": [
    "La serie de Taylor de $f(x)$ viene dada por\n",
    "\n",
    "\\begin{eqnarray}\n",
    "f(x) & = & f(x_0) + f^{(1)}(x_0) (x-x_0) + \\frac{f^{(2)}(x_0)}{2!} (x-x_0)^2 + \\dots + \\frac{f^{(k)}(x_0)}{k!} (x-x_0)^k + \\dots,\\\\\n",
    "& = & f_{[0]} + f_{[1]} (x-x_0) + f_{[2]} (x-x_0)^2 + \\dots + f_{[k]} (x-x_0)^k + \\dots,\\\\\n",
    "\\end{eqnarray}\n",
    "\n",
    "donde los coeficientes *normalizados* de Taylor $f_{[k]}$ que aparecen en la segunda línea de la ecuación anterior se definen como\n",
    "\n",
    "\\begin{equation}\n",
    "f_{[k]} = \\frac{f^{(k)}(x_0)}{k!} = \\frac{1}{k!}\\frac{{\\rm d}^k f}{{\\rm d}x^k}(x_0).\n",
    "\\end{equation}\n",
    "\n"
   ]
  },
  {
   "cell_type": "markdown",
   "metadata": {
    "slideshow": {
     "slide_type": "fragment"
    }
   },
   "source": [
    "Vale la pena **enfatizar** que la expresión anterior es exacta en tanto que la serie **no** sea truncada. En el caso de que la serie truncada a orden k, el [teorema de Taylor](https://en.wikipedia.org/wiki/Taylor%27s_theorem) asegura que el residuo (error del truncamiento) se puede escribir como:\n",
    "\n",
    "\\begin{equation}\n",
    "{\\cal R_{k}} = \\frac{f^{(k+1)}\\,(\\xi)}{(k+1)!} (x-x_0)^{k+1},\n",
    "\\end{equation}\n",
    "\n",
    "donde $\\xi$ es un punto que pertenece al interval $[x_0,x]$.\n"
   ]
  },
  {
   "cell_type": "markdown",
   "metadata": {
    "slideshow": {
     "slide_type": "subslide"
    }
   },
   "source": [
    "Si la serie es truncada, la aproximación es un polinomio de orden $k$ (grado máximo es $k$) en $x$. Dado que los polinomios en una variable están definidos por $k+1$ coeficientes, entonces pueden ser mapeados a vectores en $\\mathbb{R}^{k+1}$. \n",
    "\n",
    "Las operaciones aritméticas, en este caso, vienen dadas por:\n",
    "\n",
    "\\begin{eqnarray}\n",
    "(f+g)_{[k]} & = & f_{[k]} + g_{[k]} ,\\\\\n",
    "(f-g)_{[k]} & = & f_{[k]} - g_{[k]} ,\\\\\n",
    "(f \\cdot g)_{[k]} & = & \\sum_{i=0}^k f_{[i]} \\,g_{[k-i]} \\, ,\\\\\n",
    "\\Big(\\frac{f}{g}\\Big)_{[k]} & = & \\frac{1}{g_{[0]}}\n",
    "\\Big( f_{[k]} - \\sum_{i=0}^{k-1} \\big(\\frac{f}{g}\\big)_{[i]} \\, g_{[k-i]} \\Big) . \\\\\n",
    "\\end{eqnarray}"
   ]
  },
  {
   "cell_type": "markdown",
   "metadata": {
    "slideshow": {
     "slide_type": "slide"
    }
   },
   "source": [
    "### Ejercicio\n",
    "\n",
    "Implementen una nueva estructura paramétrica (`type`) que defina el tipo `Taylor`, donde el parámetro debe ser un subtipo de `Number`. Definan métodos que implementen las operaciones aritméticas básicas (`+`, `-`, `*`, `/`) y la igualdad (`==`). Esto deberá ser incluido en un módulo.\n",
    "\n",
    "Incluyan pruebas (en el archivo \"runtests.jl\") para cada uno de los métodos que implementen.\n"
   ]
  },
  {
   "cell_type": "code",
   "execution_count": 1,
   "metadata": {
    "collapsed": false
   },
   "outputs": [
    {
     "data": {
      "text/plain": [
       "Taylor{T<:Number}"
      ]
     },
     "execution_count": 1,
     "metadata": {},
     "output_type": "execute_result"
    }
   ],
   "source": [
    "\"\"\"\n",
    "Taylor\n",
    "\n",
    "Es un tipo parametrizado por subtipos de Number. Consiste en una entrada\n",
    "vecotrial Taylor.taylor_vec donde se mapean los primeros k coeficientes\n",
    "de Taylor. La k escogida en esta estructura en particular es 10 y está\n",
    "implementada para que si se mete un arreglo con menos de 10 entradas se\n",
    "complemente con ceros restantes y si se mete un arreglo con más de 10 \n",
    "entradas se tomen sólo las primeras 10.\n",
    "\"\"\"\n",
    "type Taylor{T<:Number}\n",
    "    # Aquí se declara taylor_vec que es un Array unidimensional de tipo T.\n",
    "    taylor_vec::Array{T, 1}\n",
    "    \n",
    "    # Aquí hay un constructor interno que lo que va a hacer es tomar el\n",
    "    # arreglo taylor_vec y ver si tiene un tamaño mayor o menor que la\n",
    "    # k que es donde se trunca la serie (en este caso k = 10).\n",
    "    function Taylor(taylor_vec::Array{T, 1})\n",
    "        if size(taylor_vec, 1) < 10\n",
    "            # Si hay menos de k entradas, se utiliza vcat para meter ceros \n",
    "            # restantes en taylor_vec y luego se reconstruye.\n",
    "            taylor_vec = vcat(taylor_vec, zeros(T, 10 - size(taylor_vec,1)))\n",
    "            new(taylor_vec)\n",
    "            else\n",
    "            # En caso contrario se seleccionan las primeras k entradas.\n",
    "            taylor_vec = taylor_vec[1:10]\n",
    "            new(taylor_vec)\n",
    "        end\n",
    "    end\n",
    "end\n",
    "\n",
    "# Este es un constructor externo para evitar problemas de conversión. Véase:\n",
    "# http://docs.julialang.org/en/release-0.4/manual/constructors/\n",
    "# Específicamente la sección de Parametric Constructors.\n",
    "Taylor{T<:Number}(taylor_vec::Array{T, 1}) = Taylor{T}(taylor_vec)\n",
    "\n",
    "# Adicionalmente se declara un método para tener Taylor para un escalar.\n",
    "Taylor{T<:Number}(a::T) = Taylor(a*ones(T,1))"
   ]
  },
  {
   "cell_type": "markdown",
   "metadata": {},
   "source": [
    "Por ejemplo, si ponemos la serie con 15 entradas se ve que se corta hasta 10 coeficientes:"
   ]
  },
  {
   "cell_type": "code",
   "execution_count": 2,
   "metadata": {
    "collapsed": false
   },
   "outputs": [
    {
     "data": {
      "text/plain": [
       "Taylor{Int64}([1,1,1,1,1,1,1,1,1,1])"
      ]
     },
     "execution_count": 2,
     "metadata": {},
     "output_type": "execute_result"
    }
   ],
   "source": [
    "Taylor(ones(Int, 15))"
   ]
  },
  {
   "cell_type": "markdown",
   "metadata": {},
   "source": [
    "En cambio, si metemos un número insuficiente también se arregla:"
   ]
  },
  {
   "cell_type": "code",
   "execution_count": 4,
   "metadata": {
    "collapsed": false
   },
   "outputs": [
    {
     "data": {
      "text/plain": [
       "Taylor{Float64}([1.0,1.0,1.0,1.0,0.0,0.0,0.0,0.0,0.0,0.0])"
      ]
     },
     "execution_count": 4,
     "metadata": {},
     "output_type": "execute_result"
    }
   ],
   "source": [
    "Taylor(ones(Float64, 4))"
   ]
  },
  {
   "cell_type": "markdown",
   "metadata": {},
   "source": [
    "Finalmente, la implementación escalar funciona adecuandamente:"
   ]
  },
  {
   "cell_type": "code",
   "execution_count": 3,
   "metadata": {
    "collapsed": false
   },
   "outputs": [
    {
     "data": {
      "text/plain": [
       "Taylor{Int64}([2,0,0,0,0,0,0,0,0,0])"
      ]
     },
     "execution_count": 3,
     "metadata": {},
     "output_type": "execute_result"
    }
   ],
   "source": [
    "Taylor(2)"
   ]
  },
  {
   "cell_type": "code",
   "execution_count": 29,
   "metadata": {
    "collapsed": false
   },
   "outputs": [
    {
     "data": {
      "text/plain": [
       "\"# La división resulta ser un poco más complicada así que se opta por\\n# definirla en una función explícita y luego meterla en el método de /.\\nfunction taylor_division(a::Taylor, b::Taylor)\\n    # Lo primero que se hace es construir el arreglo de la división que\\n    # sea del mismo tamaño de k elementos y lleno de ceros enteros.\\n    # Enteros para que se puedan promover en el caso de que los arreglos\\n    # sean de tipo Float, Complex, etc.\\n    div_vec = 0*a.taylor_vec\\n    # El primer elemento es sencillamente:\\n    div_vec[1] = a.taylor_vec[1]/b.taylor_vec[1]\\n    # De esta manera nos evitamos problemas con la suma que iría sobre un\\n    # rango 1 a 0.\\n    # Ahora podemos llenar los elementos que falta. Nuestro rango empieza\\n    # en 2 pero es de longitud(div_vec,1) -1:\\n    for k in range(2, size(div_vec,1)-1)\\n        # sd será la suma que aparece en la ecuación, inicializada como cero.\\n        sd = 0\\n        # Con el siguiente for se ejecuta la suma.\\n        for i in range(1,k-1)\\n            # Esta es la parte delicada de la división. La fórmula que \\n            # tenemos cosidera el elemento (f_i/g_i)*g_{k-i}. Bien puede suceder\\n            # que g_i = 0 pero si \\n            if b.taylor_vec[i] == 0 & b.taylor_vec[i+1] == 0\\n                continue\\n            else\\n                sd = sd + (a.taylor_vec[i]/b.taylor_vec[i])*b.taylor_vec[k-i+1]\\n            end\\n        end\\n        div_vec[k] = (1/b.taylor_vec[1])*(a.taylor_vec[k]-sd)\\n    end\\n    return Taylor(div_vec)\\nend\\n        \\n/(a::Taylor, b::Taylor) = taylor_division(a,b)\\n\""
      ]
     },
     "execution_count": 29,
     "metadata": {},
     "output_type": "execute_result"
    }
   ],
   "source": [
    "import Base: +, -, *, /, ==\n",
    "\n",
    "# La suma entre los dos Taylors y entre un escalar.\n",
    "+(a::Taylor, b::Taylor) = Taylor(a.taylor_vec + b.taylor_vec)\n",
    "+(a::Taylor, b::Number) = a + Taylor(b)\n",
    "+(a::Number, b::Taylor) = Taylor(a) + b\n",
    "# La resta se implementa igualmente.\n",
    "-(a::Taylor, b::Taylor) = Taylor(a.taylor_vec - b.taylor_vec)\n",
    "-(a::Taylor, b::Number) = a - Taylor(b)\n",
    "-(a::Number, b::Taylor) = Taylor(a) - b\n",
    "# Los operadores unitarios y la comparación.\n",
    "+(a::Taylor) = a\n",
    "-(a::Taylor) = Taylor(-a.taylor_vec)\n",
    "==(a::Taylor, b::Taylor) = a.taylor_vec == b.taylor_vec\n",
    "# La mutiplicación se implementa usando dos for's. El primero que va\n",
    "# desde 1, size(a.taylor_vec, 1) construye el arreglo entero de k \n",
    "# elementos. El segundo for anidado es la suma que se da en la teoría\n",
    "# de arriba. Sólo hay que tener cuidado porque los índices empiezan en\n",
    "# uno y no en cero como en la teoría.\n",
    "*(a::Taylor, b::Taylor) = Taylor([sum([a.taylor_vec[i]*b.taylor_vec[k-i+1] \n",
    "        for i in range(1,k)]) for k in range(1,size(a.taylor_vec,1))])\n",
    "/(a::Taylor, b::Taylor) = Taylor((1/b.taylor_vec[1])[(a.taylor_vec[k]-sum([for i in range(1,k)]))for k in range(1, size(a.taylor_vec,1))])\n",
    "\"\"\"\n",
    "# La división resulta ser un poco más complicada así que se opta por\n",
    "# definirla en una función explícita y luego meterla en el método de /.\n",
    "function taylor_division(a::Taylor, b::Taylor)\n",
    "    # Lo primero que se hace es construir el arreglo de la división que\n",
    "    # sea del mismo tamaño de k elementos y lleno de ceros enteros.\n",
    "    # Enteros para que se puedan promover en el caso de que los arreglos\n",
    "    # sean de tipo Float, Complex, etc.\n",
    "    div_vec = 0*a.taylor_vec\n",
    "    # El primer elemento es sencillamente:\n",
    "    div_vec[1] = a.taylor_vec[1]/b.taylor_vec[1]\n",
    "    # De esta manera nos evitamos problemas con la suma que iría sobre un\n",
    "    # rango 1 a 0.\n",
    "    # Ahora podemos llenar los elementos que falta. Nuestro rango empieza\n",
    "    # en 2 pero es de longitud(div_vec,1) -1:\n",
    "    for k in range(2, size(div_vec,1)-1)\n",
    "        # sd será la suma que aparece en la ecuación, inicializada como cero.\n",
    "        sd = 0\n",
    "        # Con el siguiente for se ejecuta la suma.\n",
    "        for i in range(1,k-1)\n",
    "            # Esta es la parte delicada de la división. La fórmula que \n",
    "            # tenemos cosidera el elemento (f_i/g_i)*g_{k-i}. Bien puede suceder\n",
    "            # que g_i = 0 pero si \n",
    "            if b.taylor_vec[i] == 0 & b.taylor_vec[i+1] == 0\n",
    "                continue\n",
    "            else\n",
    "                sd = sd + (a.taylor_vec[i]/b.taylor_vec[i])*b.taylor_vec[k-i+1]\n",
    "            end\n",
    "        end\n",
    "        div_vec[k] = (1/b.taylor_vec[1])*(a.taylor_vec[k]-sd)\n",
    "    end\n",
    "    return Taylor(div_vec)\n",
    "end\n",
    "        \n",
    "/(a::Taylor, b::Taylor) = taylor_division(a,b)\n",
    "\"\"\"\n"
   ]
  },
  {
   "cell_type": "markdown",
   "metadata": {},
   "source": [
    "$2 + 2x$\n",
    "\n",
    "$1 + x + x^2 + x^3 + x^4 + x^5 + x^6 + x^7$"
   ]
  },
  {
   "cell_type": "code",
   "execution_count": 32,
   "metadata": {
    "collapsed": false
   },
   "outputs": [
    {
     "ename": "LoadError",
     "evalue": "LoadError: MethodError: `*` has no method matching *(::Taylor{Float64}, ::Float64)\nClosest candidates are:\n  *(::Any, ::Any, !Matched::Any, !Matched::Any...)\n  *{T<:Number}(!Matched::Bool, ::T<:Number)\n  *(!Matched::Float64, ::Float64)\n  ...\nwhile loading In[32], in expression starting on line 4",
     "output_type": "error",
     "traceback": [
      "LoadError: MethodError: `*` has no method matching *(::Taylor{Float64}, ::Float64)\nClosest candidates are:\n  *(::Any, ::Any, !Matched::Any, !Matched::Any...)\n  *{T<:Number}(!Matched::Bool, ::T<:Number)\n  *(!Matched::Float64, ::Float64)\n  ...\nwhile loading In[32], in expression starting on line 4",
      "",
      " in * at operators.jl:103"
     ]
    }
   ],
   "source": [
    "a = Taylor([2,2])\n",
    "b = Taylor(ones(8))\n",
    "c = Taylor(2)\n",
    "b*c"
   ]
  },
  {
   "cell_type": "code",
   "execution_count": 12,
   "metadata": {
    "collapsed": false
   },
   "outputs": [
    {
     "name": "stdout",
     "output_type": "stream",
     "text": [
      "search: "
     ]
    },
    {
     "data": {
      "text/latex": [
       "\\begin{verbatim}\n",
       "range(start, [step], length)\n",
       "\\end{verbatim}\n",
       "Construct a range by length, given a starting value and optional step (defaults to 1).\n"
      ],
      "text/markdown": [
       "```\n",
       "range(start, [step], length)\n",
       "```\n",
       "\n",
       "Construct a range by length, given a starting value and optional step (defaults to 1).\n"
      ],
      "text/plain": [
       "```\n",
       "range(start, [step], length)\n",
       "```\n",
       "\n",
       "Construct a range by length, given a starting value and optional step (defaults to 1).\n"
      ]
     },
     "execution_count": 12,
     "metadata": {},
     "output_type": "execute_result"
    },
    {
     "name": "stdout",
     "output_type": "stream",
     "text": [
      "range Range RangeIndex nzrange linrange histrange UnitRange StepRange\n",
      "\n"
     ]
    }
   ],
   "source": [
    "?range"
   ]
  },
  {
   "cell_type": "code",
   "execution_count": null,
   "metadata": {
    "collapsed": true,
    "slideshow": {
     "slide_type": "-"
    }
   },
   "outputs": [],
   "source": [
    "# Muestren que su código funciona con tests adecuados; para los detalles ver \n",
    "# http://julia.readthedocs.org/en/release-0.4/stdlib/test/\n",
    "using Base.Test\n"
   ]
  },
  {
   "cell_type": "markdown",
   "metadata": {
    "slideshow": {
     "slide_type": "slide"
    }
   },
   "source": [
    "# Funciones de polinomios"
   ]
  },
  {
   "cell_type": "markdown",
   "metadata": {},
   "source": [
    "El siguiente punto, es cómo definir funciones de polinomios. \n",
    "\n",
    "Como veremos aquí, esto se basará en plantear una ecuación diferencial apropiada, cuya solución es, precisamente, la expresión que estamos buscando. Este punto es *importante*, y muestra que hay una conexión importante con la solución de ecuaciones diferenciales."
   ]
  },
  {
   "cell_type": "markdown",
   "metadata": {
    "slideshow": {
     "slide_type": "subslide"
    }
   },
   "source": [
    "Como ejemplo consideraremos la función\n",
    "\n",
    "\\begin{equation}\n",
    "E(x) = \\exp\\big(g(x)\\big),\n",
    "\\end{equation}\n",
    "\n",
    "donde \n",
    "\n",
    "\\begin{equation}\n",
    "g(x) = \\sum_{k=0}^\\infty g_{[k]} (x-x_0)^k\n",
    "\\end{equation}\n",
    "\n",
    "está escrita como una serie de Taylor (¡exacta!) alrededor de $x_0$. \n"
   ]
  },
  {
   "cell_type": "markdown",
   "metadata": {},
   "source": [
    "El primer punto, es que escribiremos a $E(x)$ como una serie de Taylor alrededor de $x_0$, es decir,\n",
    "\n",
    "\\begin{equation}\n",
    "E(x) = \\sum_{k=0}^\\infty E_{[k]} (x-x_0)^k.\n",
    "\\end{equation}\n",
    "\n",
    "El objetivo es determinar $E_{[k]}$ para *toda* $k$.\n",
    "\n",
    "Dado que $E(x)$ esun polinomio en $x$, su derivada viene dada por\n",
    "\n",
    "\\begin{equation}\n",
    "\\frac{{\\rm d} E(x)}{{\\rm d}x} = \\sum_{k=1}^\\infty k E_{[k]}\\, (x-x_0)^{k-1} .\n",
    "\\end{equation}"
   ]
  },
  {
   "cell_type": "markdown",
   "metadata": {},
   "source": [
    "Por otra parte, la derivada de $E(x)$ en términos de $g(x)$ está dada por\n",
    "\n",
    "\\begin{equation}\n",
    "\\frac{{\\rm d} E(x)}{{\\rm d}x} = \\exp\\big(g(x)\\big) \\frac{{\\rm d} g(x)}{{\\rm d}x} = E(x) \\frac{{\\rm d} g(x)}{{\\rm d}x},\n",
    "\\end{equation}\n",
    "\n",
    "donde del lado derecho aparece la derivada de $g(x)$. Ya que $g(x)$ *también* está escrita en forma polinomial, su derivada es\n",
    "\n",
    "\\begin{equation}\n",
    "\\frac{{\\rm d} g(x)}{{\\rm d}x} = \\sum_{k=1}^\\infty k g_{[k]}\\, (x-x_0)^{k-1} .\n",
    "\\end{equation}\n"
   ]
  },
  {
   "cell_type": "markdown",
   "metadata": {
    "slideshow": {
     "slide_type": "subslide"
    }
   },
   "source": [
    "Tenemos, entonces, todo lo que requerimos para escribir el lado derecho de la ecuación diferencial y explotar la aritmética de polinomios. \n",
    "\n",
    "\\begin{eqnarray}\n",
    "E(x) \\frac{{\\rm d} g(x)}{{\\rm d}x}& = & \n",
    "\\Big[ \\sum_{k=0}^\\infty E_{[k]} (x-x_0)^k \\Big]\n",
    "\\Big[ \\sum_{j=1}^\\infty j g_{[j]} (x-x_0)^{j-1}\\Big] \\\\\n",
    " & = & \\sum_{k=1}^\\infty \\Big[ \\sum_{j=0}^k j g_{[j]} E_{[k-j]} \\; \\Big] (x-x_0)^{k-1} .\\\\\n",
    "\\end{eqnarray}\n",
    "\n",
    "La segunda línea se obtiene reordenando los términos al fijar la potencia de $(x-x_0)$, esto es, $k+j$ se toma como un nuevo índice ($k$), y el nuevo índice $j$ describe el índice del producto de los polinomios. (La potencia se deja de la forma $k-1$ ya que el lado izquierdo de la ecuación aparece así.)"
   ]
  },
  {
   "cell_type": "markdown",
   "metadata": {},
   "source": [
    "Igualando con el lado izquierdo de la ecuación diferencial, que sólo involucra a la derivada de $E(x)$, tenemos que se debe cumplir\n",
    "\n",
    "\\begin{equation}\n",
    "E_{[k]} = \\frac{1}{k} \\sum_{j=0}^k j g_{[j]} \\, E_{[k-j]} = \n",
    "\\frac{1}{k} \\sum_{j=0}^{k} (k-j) g_{[k-j]} \\, E_{[j]}, \\qquad k=1,2,\\dots,\n",
    "\\end{equation}\n",
    "\n",
    "incluyendo *la condición inicial*\n",
    "\n",
    "\\begin{equation}\n",
    "E_{[0]} = \\exp\\big(g(x_0)\\big).\n",
    "\\end{equation}\n",
    "\n",
    "Estas relaciones *de recurrencia* permiten calcular $\\exp\\big(g(x)\\big)$, para cualquier polinomio $g(x)$."
   ]
  },
  {
   "cell_type": "markdown",
   "metadata": {},
   "source": [
    "Para el caso concreto $g(x) = x$ alrededor de $x_0=0$, donde tenemos $g_{[j]} = \\delta_{j,1}$, obtenemos\n",
    "\n",
    "\\begin{eqnarray}\n",
    "E_{[0]} & = & 1,\\\\\n",
    "E_{[k]} & = & \\frac{1}{k} E_{[k-1]} = \\frac{1}{k(k-1)} E_{[k-2]} = \\dots = \\frac{1}{k!} E_{[0]} = \\frac{1}{k!}\\ ,\n",
    "\\end{eqnarray}\n",
    "\n",
    "que es el resultado bien conocido."
   ]
  },
  {
   "cell_type": "markdown",
   "metadata": {
    "slideshow": {
     "slide_type": "subslide"
    }
   },
   "source": [
    "### Ejercicio\n",
    "\n",
    "Obtengan las relaciones de recurrencia para las funciones $L(x) = \\log\\big(g(x)\\big)$, $P_\\alpha(x) = \\big(g(x)\\big)^\\alpha$, $S(x) = \\sin\\big(g(x)\\big)$, $C(x) = \\cos\\big(g(x)\\big)$ usando el mismo procedimiento que arriba. Implementen métodos adecuados para estas funciones en el módulo, actuando sobre estructuras `Taylor` e incluyan pruebas."
   ]
  },
  {
   "cell_type": "markdown",
   "metadata": {},
   "source": [
    "**NOTA** Los ejercicios de este notebook constituyen el contenido de la Tarea6."
   ]
  }
 ],
 "metadata": {
  "kernelspec": {
   "display_name": "Julia 0.4.2",
   "language": "julia",
   "name": "julia-0.4"
  },
  "language_info": {
   "file_extension": ".jl",
   "mimetype": "application/julia",
   "name": "julia",
   "version": "0.4.5"
  }
 },
 "nbformat": 4,
 "nbformat_minor": 0
}
