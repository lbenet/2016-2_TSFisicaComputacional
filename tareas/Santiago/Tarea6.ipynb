{
 "cells": [
  {
   "cell_type": "markdown",
   "metadata": {
    "slideshow": {
     "slide_type": "slide"
    }
   },
   "source": [
    "# Derivadas superiores"
   ]
  },
  {
   "cell_type": "markdown",
   "metadata": {},
   "source": [
    "Hasta ahora hemos visto que, usando diferenciación automática, podemos calcular la derivada de funciones de una variable esencialmente con un error del orden del epsilon de la máquina.\n",
    "\n",
    "La pregunta que abordaremos ahora, es cómo hacer para calcular la segunda derivada, y derivadas de orden superior."
   ]
  },
  {
   "cell_type": "markdown",
   "metadata": {
    "slideshow": {
     "slide_type": "subslide"
    }
   },
   "source": [
    "Una posibilidad, específica para el caso de la segunda derivada, es proceder como en el caso anterior, es decir, definir una *terna ordenada* donde la primer componente es el valor de la función en $x_0$, i.e., $f(x_0)$, el de la segunda es el valor de la primer derivada $f'(x_0)$, y la tercer componente tiene el valor de la segunda derivada, $f^{(2)}(x_0) = f''(x_0)$. \n"
   ]
  },
  {
   "cell_type": "markdown",
   "metadata": {
    "slideshow": {
     "slide_type": "subslide"
    }
   },
   "source": [
    "Con esta definición, las operaciones aritméticas vienen dadas por:\n",
    "\n",
    "\\begin{eqnarray}\n",
    "\\vec{u} + \\vec{v} & = & (u + v, \\quad u'+ v', \\quad u''+v''),\\\\\n",
    "\\vec{u} - \\vec{v} & = & (u - v, \\quad u'- v', \\quad u''-v''),\\\\\n",
    "\\vec{u} \\times \\vec{v} & = & (u v, \\quad u v' + u' v, \\quad u v'' + 2 u' v' + u'' v),\\\\\n",
    "\\frac{\\vec{u}}{\\vec{v}} & = & \\Big( \\frac{u}{v}, \\quad \\frac{u'-( u/v) v'}{v}, \\quad \n",
    "\\frac{u'' - 2 (u/v)' v' - (u/v)v'' }{v}\\Big).\\\\\n",
    "\\end{eqnarray}\n",
    "\n",
    "Claramente, este proceso es muy ineficiente para derivadas de orden aún más alto, dado que las expresiones se complican y es fácil cometer errores."
   ]
  },
  {
   "cell_type": "markdown",
   "metadata": {
    "slideshow": {
     "slide_type": "slide"
    }
   },
   "source": [
    "# Series de Taylor"
   ]
  },
  {
   "cell_type": "markdown",
   "metadata": {
    "slideshow": {
     "slide_type": "-"
    }
   },
   "source": [
    "El punto importante a recordar, es que las derivadas de orden superior de una función $f(x)$ en un punto $x_0$ están contenidas en el desarrollo de Taylor de la función entorno a ese punto. La suposición importante en esto es que $f(x)$ es suficientemente suave; por simplicidad supondremos que $f(x)$ es ${\\cal C}^\\infty$ y que estamos suficientemente cerca del punto $x_0$, i.e., $|x-x_0|\\ll 1$. \n"
   ]
  },
  {
   "cell_type": "markdown",
   "metadata": {
    "slideshow": {
     "slide_type": "subslide"
    }
   },
   "source": [
    "La serie de Taylor de $f(x)$ viene dada por\n",
    "\n",
    "\\begin{eqnarray}\n",
    "f(x) & = & f(x_0) + f^{(1)}(x_0) (x-x_0) + \\frac{f^{(2)}(x_0)}{2!} (x-x_0)^2 + \\dots + \\frac{f^{(k)}(x_0)}{k!} (x-x_0)^k + \\dots,\\\\\n",
    "& = & f_{[0]} + f_{[1]} (x-x_0) + f_{[2]} (x-x_0)^2 + \\dots + f_{[k]} (x-x_0)^k + \\dots,\\\\\n",
    "\\end{eqnarray}\n",
    "\n",
    "donde los coeficientes *normalizados* de Taylor $f_{[k]}$ que aparecen en la segunda línea de la ecuación anterior se definen como\n",
    "\n",
    "\\begin{equation}\n",
    "f_{[k]} = \\frac{f^{(k)}(x_0)}{k!} = \\frac{1}{k!}\\frac{{\\rm d}^k f}{{\\rm d}x^k}(x_0).\n",
    "\\end{equation}\n",
    "\n"
   ]
  },
  {
   "cell_type": "markdown",
   "metadata": {
    "slideshow": {
     "slide_type": "fragment"
    }
   },
   "source": [
    "Vale la pena **enfatizar** que la expresión anterior es exacta en tanto que la serie **no** sea truncada. En el caso de que la serie truncada a orden k, el [teorema de Taylor](https://en.wikipedia.org/wiki/Taylor%27s_theorem) asegura que el residuo (error del truncamiento) se puede escribir como:\n",
    "\n",
    "\\begin{equation}\n",
    "{\\cal R_{k}} = \\frac{f^{(k+1)}\\,(\\xi)}{(k+1)!} (x-x_0)^{k+1},\n",
    "\\end{equation}\n",
    "\n",
    "donde $\\xi$ es un punto que pertenece al interval $[x_0,x]$.\n"
   ]
  },
  {
   "cell_type": "markdown",
   "metadata": {
    "slideshow": {
     "slide_type": "subslide"
    }
   },
   "source": [
    "Si la serie es truncada, la aproximación es un polinomio de orden $k$ (grado máximo es $k$) en $x$. Dado que los polinomios en una variable están definidos por $k+1$ coeficientes, entonces pueden ser mapeados a vectores en $\\mathbb{R}^{k+1}$. \n",
    "\n",
    "Las operaciones aritméticas, en este caso, vienen dadas por:\n",
    "\n",
    "\\begin{eqnarray}\n",
    "(f+g)_{[k]} & = & f_{[k]} + g_{[k]} ,\\\\\n",
    "(f-g)_{[k]} & = & f_{[k]} - g_{[k]} ,\\\\\n",
    "(f \\cdot g)_{[k]} & = & \\sum_{i=0}^k f_{[i]} \\,g_{[k-i]} \\, ,\\\\\n",
    "\\Big(\\frac{f}{g}\\Big)_{[k]} & = & \\frac{1}{g_{[0]}}\n",
    "\\Big( f_{[k]} - \\sum_{i=0}^{k-1} \\big(\\frac{f}{g}\\big)_{[i]} \\, g_{[k-i]} \\Big) . \\\\\n",
    "\\end{eqnarray}"
   ]
  },
  {
   "cell_type": "markdown",
   "metadata": {
    "slideshow": {
     "slide_type": "slide"
    }
   },
   "source": [
    "### Ejercicio\n",
    "\n",
    "Implementen una nueva estructura paramétrica (`type`) que defina el tipo `Taylor`, donde el parámetro debe ser un subtipo de `Number`. Definan métodos que implementen las operaciones aritméticas básicas (`+`, `-`, `*`, `/`) y la igualdad (`==`). Esto deberá ser incluido en un módulo.\n",
    "\n",
    "Incluyan pruebas (en el archivo \"runtests.jl\") para cada uno de los métodos que implementen.\n"
   ]
  },
  {
   "cell_type": "code",
   "execution_count": 2,
   "metadata": {
    "collapsed": true
   },
   "outputs": [],
   "source": [
    "workspace()"
   ]
  },
  {
   "cell_type": "code",
   "execution_count": 3,
   "metadata": {
    "collapsed": false
   },
   "outputs": [
    {
     "data": {
      "text/plain": [
       "TS"
      ]
     },
     "execution_count": 3,
     "metadata": {},
     "output_type": "execute_result"
    }
   ],
   "source": [
    "include(\"Taylor.jl\")"
   ]
  },
  {
   "cell_type": "code",
   "execution_count": 4,
   "metadata": {
    "collapsed": false
   },
   "outputs": [],
   "source": [
    "include(\"Taylor_test.jl\")"
   ]
  },
  {
   "cell_type": "code",
   "execution_count": null,
   "metadata": {
    "collapsed": false
   },
   "outputs": [],
   "source": [
    "\"\"\"\n",
    "Definición de polinomios de Taylor, consta de dos partes: 'taylor_vec' es un Array{T<:Number} que contiene los \n",
    "coeficientes ordenados del polinomio y 'gr' es el grado del polinomio de tal forma que \n",
    "Taylor{Number}([a₀,a₁,a₂,..,a_n],m) representa el polinomio a₀ + a₁x + a₂x² + ··· + aⁿxⁿ + ... + 0xᵐ\n",
    "...\n",
    "\"\"\"\n",
    "type Taylor{T<:Number}\n",
    "    # Aquí se declara taylor_vec que es un Array unidimensional de tipo T.\n",
    "    taylor_vec::Array{T, 1}\n",
    "    # gr es un entero que corresponde al grado máximo de la serie.\n",
    "    gr :: Int\n",
    "    \n",
    "    # Aquí hay un constructor interno que lo que va a hacer es tomar el\n",
    "    # arreglo taylor_vec y ver si tiene un tamaño mayor o menor que gr\n",
    "    # que es donde se trunca la serie.\n",
    "    function Taylor(taylor_vec::Array{T, 1},gr::Int)\n",
    "        if length(taylor_vec) < gr + 1\n",
    "            # Si hay menos de gr entradas, se utiliza vcat para meter ceros \n",
    "            # restantes en taylor_vec y luego se reconstruye.\n",
    "            taylor_vec = vcat(taylor_vec, zeros(T, gr + 1 - length(taylor_vec)))\n",
    "            new(taylor_vec,gr)\n",
    "        else\n",
    "            # En caso contrario se seleccionan las primeras gr + 1 entradas.\n",
    "            taylor_vec = taylor_vec[1:gr+1]\n",
    "            new(taylor_vec,gr)\n",
    "        end\n",
    "    end\n",
    "end\n",
    "\n",
    "# Para no tener que especificar el tipo de los coeficientes:\n",
    "Taylor{T<:Number}(taylor_vec::Array{T, 1},gr::Int) = Taylor{T}(taylor_vec,gr)\n",
    "\n",
    "# Si no queremos especificar el grado de los Taylor:\n",
    "Taylor{T<:Number}(a::Array{T,1}) = Taylor(a, length(a)-1)\n",
    "\n",
    "# Adicionalmente se declara un método para tener Taylor para un escalar.\n",
    "Taylor{T<:Number}(a::T) = Taylor([a])\n",
    "Taylor{T<:Number}(a::T, gr::Int) = Taylor([a],gr)"
   ]
  },
  {
   "cell_type": "markdown",
   "metadata": {},
   "source": [
    "Por ejemplo, si ponemos la serie con 15 entradas se ve que es de orden 14:"
   ]
  },
  {
   "cell_type": "code",
   "execution_count": null,
   "metadata": {
    "collapsed": false
   },
   "outputs": [],
   "source": [
    "Taylor(ones(Int, 15))"
   ]
  },
  {
   "cell_type": "markdown",
   "metadata": {},
   "source": [
    "Pero este misma serie la podemos cortar a un orden:"
   ]
  },
  {
   "cell_type": "code",
   "execution_count": null,
   "metadata": {
    "collapsed": false
   },
   "outputs": [],
   "source": [
    "Taylor(ones(Int, 15), 5)"
   ]
  },
  {
   "cell_type": "markdown",
   "metadata": {},
   "source": [
    "O la podemos extender con ceros:"
   ]
  },
  {
   "cell_type": "code",
   "execution_count": null,
   "metadata": {
    "collapsed": false
   },
   "outputs": [],
   "source": [
    "Taylor(ones(Int, 10), 20)"
   ]
  },
  {
   "cell_type": "markdown",
   "metadata": {},
   "source": [
    "Se pueden meter de distintos subtipos:"
   ]
  },
  {
   "cell_type": "code",
   "execution_count": null,
   "metadata": {
    "collapsed": false
   },
   "outputs": [],
   "source": [
    "Taylor(ones(Float64, 4))"
   ]
  },
  {
   "cell_type": "markdown",
   "metadata": {},
   "source": [
    "Finalmente, la implementación escalar funciona adecuadamente:"
   ]
  },
  {
   "cell_type": "code",
   "execution_count": null,
   "metadata": {
    "collapsed": false
   },
   "outputs": [],
   "source": [
    "Taylor(2)"
   ]
  },
  {
   "cell_type": "markdown",
   "metadata": {},
   "source": [
    "A continuación vamos a emplementar las estructuras algebraicas y aritméticas. Antes debemos implementar un método de promoción para cuando operemos con dos series de distinto orden:"
   ]
  },
  {
   "cell_type": "code",
   "execution_count": null,
   "metadata": {
    "collapsed": false
   },
   "outputs": [],
   "source": [
    "import Base.promote\n",
    "\n",
    "function promote(a::Taylor, b::Taylor)\n",
    "    gr = maximum([a.gr, b.gr])\n",
    "    return Taylor(a.taylor_vec,gr), Taylor(b.taylor_vec, gr)\n",
    "end"
   ]
  },
  {
   "cell_type": "markdown",
   "metadata": {},
   "source": [
    "Por ejemplo, la promoción entre dos series, una de orden 5 y otra de orden 15 deben ser dos series de orden 15:"
   ]
  },
  {
   "cell_type": "code",
   "execution_count": null,
   "metadata": {
    "collapsed": false
   },
   "outputs": [],
   "source": [
    "promote(Taylor(2,5), Taylor(ones(8),15))"
   ]
  },
  {
   "cell_type": "code",
   "execution_count": null,
   "metadata": {
    "collapsed": false
   },
   "outputs": [],
   "source": [
    "import Base: +, -, *, /, ==\n",
    "\n",
    "# La suma entre los dos Taylors y entre un escalar.\n",
    "function +(a::Taylor, b::Taylor)\n",
    "    a, b = promote(a,b)\n",
    "    return Taylor(a.taylor_vec + b.taylor_vec, a.gr)\n",
    "end\n",
    "+(a::Taylor, b::Number) = a + Taylor(b)\n",
    "+(a::Number, b::Taylor) = Taylor(a) + b\n",
    "\n",
    "# La resta se implementa igualmente.\n",
    "function -(a::Taylor, b::Taylor)\n",
    "    a, b = promote(a,b)\n",
    "    return Taylor(a.taylor_vec - b.taylor_vec, a.gr)\n",
    "end\n",
    "-(a::Taylor, b::Number) = a - Taylor(b)\n",
    "-(a::Number, b::Taylor) = Taylor(a) - b\n",
    "\n",
    "# Los operadores unitarios y la comparación.\n",
    "+(a::Taylor) = a\n",
    "-(a::Taylor) = Taylor(-a.taylor_vec,a.gr)\n",
    "function ==(a::Taylor, b::Taylor)\n",
    "    a, b = promote(a,b)\n",
    "    return a.taylor_vec == b.taylor_vec\n",
    "end\n",
    "\n",
    "# La mutiplicación se implementa usando dos for's. Primero se extienden\n",
    "# Los arreglos porque la mutiplicación de un polinomio de grado a.gr por\n",
    "# uno de grado b.gr es un polinomio de grado a.gr + b.gr\n",
    "# Una vez hecha la extensión, el primero for que va\n",
    "# desde 1, length(a.taylor_vec) construye el arreglo entero de  \n",
    "# elementos. El segundo for anidado es la suma que se da en la teoría\n",
    "# de arriba. Sólo hay que tener cuidado porque los índices empiezan en\n",
    "# uno y no en cero como en la teoría.\n",
    "function *(a::Taylor, b::Taylor)\n",
    "    a, b = Taylor(a.taylor_vec,a.gr + b.gr), Taylor(b.taylor_vec, a.gr + b.gr)\n",
    "    return Taylor([sum([a.taylor_vec[i]*b.taylor_vec[k-i+1] \n",
    "            for i in range(1,k)]) for k in range(1,a.gr+1)],a.gr)\n",
    "end\n",
    "*(a::Taylor, b::Number) = a*Taylor(b)\n",
    "*(a::Number, b::Taylor) = Taylor(a)*b\n",
    "\n",
    "# La división resulta ser un poco más complicada:\n",
    "function /(a::Taylor, b::Taylor)\n",
    "    # Lo primero que se hace es ver el orden de la división:\n",
    "    m = a.gr - b.gr\n",
    "    # Si m es negativo se avienta un error.\n",
    "    if m < 0\n",
    "        return error(\"Se está dividiendo un polinomio de orden k entre otro con orden mayor a k.\")\n",
    "    end\n",
    "    # Ahora vamos a promover los Taylor a un mismo tamaño:\n",
    "    a, b = promote(a,b)\n",
    "    # Se inicializa un arreglo lleno de ceros enteros. Este arreglo después se\n",
    "    # va a cortar al tamaño m +1.\n",
    "    div_vec = zeros(Int, a.gr+1)\n",
    "    # Si el primer elemento de b es cero, nuestro algoritmo, tal cual como\n",
    "    # está escrito no funciona. Debe empezar con el primer par a.taylor_vec[i]\n",
    "    # b.taylor_vec[i] con b.taylor_vec[i] distinto de cero. Esto se hace con\n",
    "    # un loop sobre los elementos de b. j va a ser un contador que nos diga \n",
    "    # dónde es el coeficiente distinto de cero.\n",
    "    j = 1\n",
    "    for i in range(1,length(b.taylor_vec))\n",
    "        if b.taylor_vec[i] != 0\n",
    "            div_vec[1] = a.taylor_vec[i]/b.taylor_vec[i]\n",
    "            j = i\n",
    "            break\n",
    "        # Si llegamos al final del arreglo sin encontrar un coeficiente de b\n",
    "        # distinto de cero, regresamos un error.\n",
    "        elseif (i==length(b.taylor_vec)) & (b.taylor_vec[i] == 0)\n",
    "            return error(\"El polinomio divisor es igual a cero\")\n",
    "        end\n",
    "    end\n",
    "    # Habiendo obtenido la j que es donde el divisor empieza a ser distinto de cero,\n",
    "    # debemos comprobar que todos los coeficientes de a anteriores a j sean cero. De \n",
    "    # otra manera tendríamos una división de un término x^k/x^j con k<j, lo cual no\n",
    "    # tiene una expansión en Taylor.\n",
    "    for i in range(1,j-1)\n",
    "        if a.taylor_vec[i] != 0\n",
    "            return error(\"Polinomio con polo en la expansión de Taylor.\")\n",
    "        end\n",
    "    end\n",
    "    # Ahora podemos llenar los elementos que falta. Nuestro rango empieza\n",
    "    # en 2 pero no necesariamente termina en el índice correspondiente al tamaño\n",
    "    # por la parte anterior que vimos que el primer elemento no necesariamente\n",
    "    # se calculó con índices 1,1. Para eso usamos el contador j\n",
    "    for k in range(j+1, length(div_vec)-j)\n",
    "        # sd será la suma que aparece en la ecuación, inicializada como cero.\n",
    "        sd = 0\n",
    "        # Con el siguiente for se ejecuta la suma utilizando los coeficientes\n",
    "        # de div_vec que ya se generaron.\n",
    "        for i in range(1,k-j)\n",
    "            sd = sd + (div_vec[i])*b.taylor_vec[k-i+1]\n",
    "        end\n",
    "        div_vec[1+k-j] = (1/b.taylor_vec[j])*(a.taylor_vec[k]-sd)\n",
    "    end\n",
    "    # Se implementa el orden correcto m\n",
    "    return Taylor(div_vec,m)\n",
    "end       \n",
    "/(a::Taylor, b::Number) = a/Taylor(b)\n",
    "/(a::Number, b::Taylor) = Taylor(a)/b"
   ]
  },
  {
   "cell_type": "markdown",
   "metadata": {},
   "source": [
    "Obsérvese que gracias a la promoción podemos sumar series de distinto orden:"
   ]
  },
  {
   "cell_type": "code",
   "execution_count": null,
   "metadata": {
    "collapsed": false
   },
   "outputs": [],
   "source": [
    "Taylor([1,1]) + Taylor(2,5)"
   ]
  },
  {
   "cell_type": "code",
   "execution_count": null,
   "metadata": {
    "collapsed": false
   },
   "outputs": [],
   "source": [
    "1 + Taylor([1,2,1], 6)"
   ]
  },
  {
   "cell_type": "markdown",
   "metadata": {},
   "source": [
    "La multiplicación de tres polinomios de grado 1 debe ser uno de grado 3:"
   ]
  },
  {
   "cell_type": "code",
   "execution_count": null,
   "metadata": {
    "collapsed": false
   },
   "outputs": [],
   "source": [
    "Taylor([1,1]) * Taylor([1,1]) * Taylor([1,1])"
   ]
  },
  {
   "cell_type": "code",
   "execution_count": null,
   "metadata": {
    "collapsed": false
   },
   "outputs": [],
   "source": [
    "(1//2)*Taylor([2,2])"
   ]
  },
  {
   "cell_type": "markdown",
   "metadata": {},
   "source": [
    "Probemos con un par de ejemplos si $a(x) = 1 + x + x^2 + x^3$ y $b(x) = 1+x$ esperamos que la división sea $1+x^2$, un polinomio de orden 2:"
   ]
  },
  {
   "cell_type": "code",
   "execution_count": null,
   "metadata": {
    "collapsed": false
   },
   "outputs": [],
   "source": [
    "a = Taylor([1,1,1,1])\n",
    "b = Taylor([1,1])\n",
    "a/b"
   ]
  },
  {
   "cell_type": "markdown",
   "metadata": {},
   "source": [
    "También, si ponemos un ejemplo donde el coeficiente constante del divisor es cero funciona. Por ejemplo, $a(x) = x+x^2$, $b(x) = x$: $a(x)/b(x) = 1+x$."
   ]
  },
  {
   "cell_type": "code",
   "execution_count": null,
   "metadata": {
    "collapsed": false
   },
   "outputs": [],
   "source": [
    "a = Taylor([0,1,1])\n",
    "b = Taylor([0,1])\n",
    "a/b"
   ]
  },
  {
   "cell_type": "markdown",
   "metadata": {},
   "source": [
    "Está implementado el método para no dividir entre cero:"
   ]
  },
  {
   "cell_type": "code",
   "execution_count": null,
   "metadata": {
    "collapsed": false
   },
   "outputs": [],
   "source": [
    "Taylor([1,1,1])/Taylor(0)"
   ]
  },
  {
   "cell_type": "markdown",
   "metadata": {},
   "source": [
    "Por último, nos falta ver que no podemos hacer cosas como $1/x$ o $(1+x+x^2)/x$ porque estas series no tienen expansión en $x=0$:"
   ]
  },
  {
   "cell_type": "code",
   "execution_count": null,
   "metadata": {
    "collapsed": false
   },
   "outputs": [],
   "source": [
    "Taylor(1)/Taylor([1,1])"
   ]
  },
  {
   "cell_type": "code",
   "execution_count": null,
   "metadata": {
    "collapsed": false
   },
   "outputs": [],
   "source": [
    "Taylor([1,1,1])/Taylor([0,1])"
   ]
  },
  {
   "cell_type": "code",
   "execution_count": null,
   "metadata": {
    "collapsed": false,
    "slideshow": {
     "slide_type": "-"
    }
   },
   "outputs": [],
   "source": [
    "# Muestren que su código funciona con tests adecuados; para los detalles ver \n",
    "# http://julia.readthedocs.org/en/release-0.4/stdlib/test/\n",
    "using Base.Test\n",
    "# Las pruebas exhaustivas están en el archivo Taylor_test.jl que se corrió arriba.\n",
    "@test Taylor([0,1]) + 1 == Taylor([1,1])\n",
    "@test Taylor([1,1,1]) == Taylor([1,1,1,0,0,0,0,0,0,0,0,0,0,0,0,0,0,0,0,0])\n",
    "@test Taylor([1,0]) + Taylor([0,1]) == Taylor([1,1])\n",
    "@test Taylor(ones(8))/Taylor([1,1]) * Taylor([1,1]) == Taylor(ones(8))\n",
    "@test Taylor([1.,2.,1.])/Taylor([1.,1.]) == Taylor([1.,1.])"
   ]
  },
  {
   "cell_type": "markdown",
   "metadata": {
    "slideshow": {
     "slide_type": "slide"
    }
   },
   "source": [
    "# Funciones de polinomios"
   ]
  },
  {
   "cell_type": "markdown",
   "metadata": {},
   "source": [
    "El siguiente punto, es cómo definir funciones de polinomios. \n",
    "\n",
    "Como veremos aquí, esto se basará en plantear una ecuación diferencial apropiada, cuya solución es, precisamente, la expresión que estamos buscando. Este punto es *importante*, y muestra que hay una conexión importante con la solución de ecuaciones diferenciales."
   ]
  },
  {
   "cell_type": "markdown",
   "metadata": {
    "slideshow": {
     "slide_type": "subslide"
    }
   },
   "source": [
    "Como ejemplo consideraremos la función\n",
    "\n",
    "\\begin{equation}\n",
    "E(x) = \\exp\\big(g(x)\\big),\n",
    "\\end{equation}\n",
    "\n",
    "donde \n",
    "\n",
    "\\begin{equation}\n",
    "g(x) = \\sum_{k=0}^\\infty g_{[k]} (x-x_0)^k\n",
    "\\end{equation}\n",
    "\n",
    "está escrita como una serie de Taylor (¡exacta!) alrededor de $x_0$. \n"
   ]
  },
  {
   "cell_type": "markdown",
   "metadata": {},
   "source": [
    "El primer punto, es que escribiremos a $E(x)$ como una serie de Taylor alrededor de $x_0$, es decir,\n",
    "\n",
    "\\begin{equation}\n",
    "E(x) = \\sum_{k=0}^\\infty E_{[k]} (x-x_0)^k.\n",
    "\\end{equation}\n",
    "\n",
    "El objetivo es determinar $E_{[k]}$ para *toda* $k$.\n",
    "\n",
    "Dado que $E(x)$ esun polinomio en $x$, su derivada viene dada por\n",
    "\n",
    "\\begin{equation}\n",
    "\\frac{{\\rm d} E(x)}{{\\rm d}x} = \\sum_{k=1}^\\infty k E_{[k]}\\, (x-x_0)^{k-1} .\n",
    "\\end{equation}"
   ]
  },
  {
   "cell_type": "markdown",
   "metadata": {},
   "source": [
    "Por otra parte, la derivada de $E(x)$ en términos de $g(x)$ está dada por\n",
    "\n",
    "\\begin{equation}\n",
    "\\frac{{\\rm d} E(x)}{{\\rm d}x} = \\exp\\big(g(x)\\big) \\frac{{\\rm d} g(x)}{{\\rm d}x} = E(x) \\frac{{\\rm d} g(x)}{{\\rm d}x},\n",
    "\\end{equation}\n",
    "\n",
    "donde del lado derecho aparece la derivada de $g(x)$. Ya que $g(x)$ *también* está escrita en forma polinomial, su derivada es\n",
    "\n",
    "\\begin{equation}\n",
    "\\frac{{\\rm d} g(x)}{{\\rm d}x} = \\sum_{k=1}^\\infty k g_{[k]}\\, (x-x_0)^{k-1} .\n",
    "\\end{equation}\n"
   ]
  },
  {
   "cell_type": "markdown",
   "metadata": {
    "slideshow": {
     "slide_type": "subslide"
    }
   },
   "source": [
    "Tenemos, entonces, todo lo que requerimos para escribir el lado derecho de la ecuación diferencial y explotar la aritmética de polinomios. \n",
    "\n",
    "\\begin{eqnarray}\n",
    "E(x) \\frac{{\\rm d} g(x)}{{\\rm d}x}& = & \n",
    "\\Big[ \\sum_{k=0}^\\infty E_{[k]} (x-x_0)^k \\Big]\n",
    "\\Big[ \\sum_{j=1}^\\infty j g_{[j]} (x-x_0)^{j-1}\\Big] \\\\\n",
    " & = & \\sum_{k=1}^\\infty \\Big[ \\sum_{j=0}^k j g_{[j]} E_{[k-j]} \\; \\Big] (x-x_0)^{k-1} .\\\\\n",
    "\\end{eqnarray}\n",
    "\n",
    "La segunda línea se obtiene reordenando los términos al fijar la potencia de $(x-x_0)$, esto es, $k+j$ se toma como un nuevo índice ($k$), y el nuevo índice $j$ describe el índice del producto de los polinomios. (La potencia se deja de la forma $k-1$ ya que el lado izquierdo de la ecuación aparece así.)"
   ]
  },
  {
   "cell_type": "markdown",
   "metadata": {},
   "source": [
    "Igualando con el lado izquierdo de la ecuación diferencial, que sólo involucra a la derivada de $E(x)$, tenemos que se debe cumplir\n",
    "\n",
    "\\begin{equation}\n",
    "E_{[k]} = \\frac{1}{k} \\sum_{j=0}^k j g_{[j]} \\, E_{[k-j]} = \n",
    "\\frac{1}{k} \\sum_{j=0}^{k} (k-j) g_{[k-j]} \\, E_{[j]}, \\qquad k=1,2,\\dots,\n",
    "\\end{equation}\n",
    "\n",
    "incluyendo *la condición inicial*\n",
    "\n",
    "\\begin{equation}\n",
    "E_{[0]} = \\exp\\big(g(x_0)\\big).\n",
    "\\end{equation}\n",
    "\n",
    "Estas relaciones *de recurrencia* permiten calcular $\\exp\\big(g(x)\\big)$, para cualquier polinomio $g(x)$."
   ]
  },
  {
   "cell_type": "markdown",
   "metadata": {},
   "source": [
    "Para el caso concreto $g(x) = x$ alrededor de $x_0=0$, donde tenemos $g_{[j]} = \\delta_{j,1}$, obtenemos\n",
    "\n",
    "\\begin{eqnarray}\n",
    "E_{[0]} & = & 1,\\\\\n",
    "E_{[k]} & = & \\frac{1}{k} E_{[k-1]} = \\frac{1}{k(k-1)} E_{[k-2]} = \\dots = \\frac{1}{k!} E_{[0]} = \\frac{1}{k!}\\ ,\n",
    "\\end{eqnarray}\n",
    "\n",
    "que es el resultado bien conocido."
   ]
  },
  {
   "cell_type": "markdown",
   "metadata": {
    "slideshow": {
     "slide_type": "subslide"
    }
   },
   "source": [
    "### Ejercicio\n",
    "\n",
    "Obtengan las relaciones de recurrencia para las funciones $L(x) = \\log\\big(g(x)\\big)$, $P_\\alpha(x) = \\big(g(x)\\big)^\\alpha$, $S(x) = \\sin\\big(g(x)\\big)$, $C(x) = \\cos\\big(g(x)\\big)$ usando el mismo procedimiento que arriba. Implementen métodos adecuados para estas funciones en el módulo, actuando sobre estructuras `Taylor` e incluyan pruebas."
   ]
  },
  {
   "cell_type": "markdown",
   "metadata": {},
   "source": [
    "**NOTA** Los ejercicios de este notebook constituyen el contenido de la Tarea6."
   ]
  },
  {
   "cell_type": "markdown",
   "metadata": {},
   "source": [
    "Primero empezaremos implementando la exponencial como se vio arriba:"
   ]
  },
  {
   "cell_type": "code",
   "execution_count": null,
   "metadata": {
    "collapsed": false
   },
   "outputs": [],
   "source": [
    "import Base: exp\n",
    "# Esta es la función exponencial aplicada a estructuras Taylor.\n",
    "function exp(a::Taylor,gr::Int)\n",
    "    # Este primer if está armado para que no se regrese un error de\n",
    "    # inexactitud de meter un entero a una exponencial que trabaja \n",
    "    # mínimo con números flotantes.\n",
    "    if eltype(a.taylor_vec) <: Integer\n",
    "        a = Taylor(convert(Array{Float64,1}, a.taylor_vec))\n",
    "    end\n",
    "    # Inicializamos el Taylor e de grado gr.\n",
    "    e = Taylor(0.,gr)\n",
    "    # Promovemos los arreglos a y e.\n",
    "    a, e = promote(a,e)\n",
    "    # Ahora la condición inicial sobre el arreglo.\n",
    "    e.taylor_vec[1] = exp(a.taylor_vec[1])\n",
    "    # El siguiente for es la relación de recurrencia hallada que\n",
    "    # usa los valores E_k previamente obtenidos.\n",
    "    for k in range(2,gr)\n",
    "        e.taylor_vec[k] = (1/(k-1))*sum([(k-j)*e.taylor_vec[j]*a.taylor_vec[k-j+1] for j in range(1,k)])\n",
    "    end\n",
    "    # Se regresa la estructura de Taylor con coeficientes calculados.\n",
    "    return e\n",
    "end\n",
    "\n",
    "# Implementamos la función sin poner el orden explícito.\n",
    "exp(a::Taylor) = exp(a,a.gr)"
   ]
  },
  {
   "cell_type": "markdown",
   "metadata": {},
   "source": [
    "Probemos con $g(x) = (1+x)^2$:"
   ]
  },
  {
   "cell_type": "code",
   "execution_count": null,
   "metadata": {
    "collapsed": false
   },
   "outputs": [],
   "source": [
    "a = Taylor([1,1])*Taylor([1,1])"
   ]
  },
  {
   "cell_type": "markdown",
   "metadata": {},
   "source": [
    "Por sí sola, `exp(a)` sólo nos dará un Taylor del mismo orden que `a`:"
   ]
  },
  {
   "cell_type": "code",
   "execution_count": null,
   "metadata": {
    "collapsed": false
   },
   "outputs": [],
   "source": [
    "exp(a)"
   ]
  },
  {
   "cell_type": "markdown",
   "metadata": {},
   "source": [
    "Pero podemos especificar el orden:"
   ]
  },
  {
   "cell_type": "code",
   "execution_count": null,
   "metadata": {
    "collapsed": false
   },
   "outputs": [],
   "source": [
    "exp(a,15)"
   ]
  },
  {
   "cell_type": "code",
   "execution_count": null,
   "metadata": {
    "collapsed": false
   },
   "outputs": [],
   "source": [
    "@test exp(a,10).taylor_vec[2] == 2e\n",
    "@test exp(a,10).taylor_vec[3] == 3e"
   ]
  },
  {
   "cell_type": "markdown",
   "metadata": {},
   "source": [
    "Se ve muy claro que la derivada en $x=0$ es $2e$ como debería ser. La segunda derivada es según [Wolfram](http://www.wolframalpha.com/input/?i=Exp%28%281%2Bx%29^2%29+second+derivative+at+x+%3D0]) $6e\\approx 16.31$. Nuestro coeficiente es la mitad, también como se espera."
   ]
  },
  {
   "cell_type": "markdown",
   "metadata": {},
   "source": [
    "Ahora que pudimos implementar la exponencial debemos implementar las otras funciones. Esto será muy sencillo una vez que obtengamos las relaciones de recurrencia. Para el logaritmo tenemos:\n",
    "\n",
    "$$L(x) = \\log(g(x)) = \\sum_{k=0}^\\infty L_k (x-x_0))^{k}$$\n",
    "\n",
    "$$\\frac{dL(x)}{dx} = \\sum_{k=0}^\\infty (k+1) L_{k+1}(x-x_0)^{k} = \\frac{1}{g(x)}\\,\\frac{dg(x)}{dx} = \\frac{\\sum_{j=0}^\\infty (j+1) g_{j+1} (x-x_0)^{j}}{g(x)} = \\sum_{k = 0}^\\infty \\frac{1}{g[0]}\\left( (k+1)g_{k+1} -\\sum_{i=0}^{k-1}\\left(\\frac{g'}{g}\\right)_{i} g_{k-i} \\right)(x-x_0)^k$$\n",
    "\n",
    "Ahora,\n",
    "\n",
    "$$L_{k+1} = \\frac{1}{k+1}\\,\\left(\\frac{g'}{g}\\right)_k$$\n",
    "\n",
    "Entonces la relación de recurrencia es\n",
    "\n",
    "$$L_{k+1} = \\frac{1}{g_0}\\left( g_{k+1}-\\frac{1}{k+1}\\,\\sum_{i=0}^{k-1} (i+1) L_{i+1}g_{k-1} \\right)$$\n",
    "\n",
    "Ahora  hay dos condiciones iniciales:\n",
    "\n",
    "$$L_0 = \\log(g_0), \\qquad L_{1} = g_1 / g_0$$\n",
    "\n",
    "Nótese que a diferencia de la división, en este caso necesariamente $g_0\\neq 0$."
   ]
  },
  {
   "cell_type": "markdown",
   "metadata": {},
   "source": [
    "Es muy práctico declarar la función derivada que actúa sobre un Taylor. Esta función regresa un Taylor de un orden menor correspondiente a la serie de la derivada:"
   ]
  },
  {
   "cell_type": "code",
   "execution_count": null,
   "metadata": {
    "collapsed": false
   },
   "outputs": [],
   "source": [
    "function derivada(a::Taylor)\n",
    "    d = Taylor(0,a.gr)\n",
    "    # Si a.gr es cero debemos regresar 0.\n",
    "    d.taylor_vec = a.gr > 0 ? [i*a.taylor_vec[i+1] for i in range(1,a.gr)] : [0]\n",
    "    return d\n",
    "end"
   ]
  },
  {
   "cell_type": "markdown",
   "metadata": {},
   "source": [
    "Por ejemplo, las derivadas de $1, \\quad (1+x+x^2+x^3),\\quad (1+x)^2$:"
   ]
  },
  {
   "cell_type": "code",
   "execution_count": null,
   "metadata": {
    "collapsed": false
   },
   "outputs": [],
   "source": [
    "derivada(Taylor(1))"
   ]
  },
  {
   "cell_type": "code",
   "execution_count": null,
   "metadata": {
    "collapsed": false
   },
   "outputs": [],
   "source": [
    "derivada(Taylor([1,1,1,1]))"
   ]
  },
  {
   "cell_type": "code",
   "execution_count": null,
   "metadata": {
    "collapsed": false
   },
   "outputs": [],
   "source": [
    "derivada((Taylor([1,1])*Taylor([1,1])))"
   ]
  },
  {
   "cell_type": "markdown",
   "metadata": {},
   "source": [
    "Regresando al logaritmo:"
   ]
  },
  {
   "cell_type": "code",
   "execution_count": null,
   "metadata": {
    "collapsed": false
   },
   "outputs": [],
   "source": [
    "import Base: log\n",
    "# Esta es la función logaritmo aplicada a estructuras Taylor.\n",
    "function log(a::Taylor,gr::Int)\n",
    "    # Este primer if está armado para que no se regrese un error de\n",
    "    # inexactitud de meter un entero a un logaritmo que trabaja \n",
    "    # mínimo con números flotantes.\n",
    "    if eltype(a.taylor_vec) <: Integer\n",
    "        a = Taylor(convert(Array{Float64,1}, a.taylor_vec))\n",
    "    end\n",
    "    # Debemos revisar que no se calcule el logaritmo de cero.\n",
    "    if a.taylor_vec[1] == 0\n",
    "        return error(\"No se puede calcular el logaritmo de cero.\")\n",
    "    end\n",
    "    # Es posible calcular el logaritmo de números negativos pero tendríamos\n",
    "    # que convertir el arreglo a números complejos:\n",
    "    if (eltype(a.taylor_vec[1]) <: Real) & (a.taylor_vec[1] < 0)\n",
    "        a = Taylor(convert(Array{Complex{Float64},1}, a.taylor_vec))\n",
    "    end\n",
    "    # Inicializamos el Taylor l con la condición inicial:\n",
    "    l = Taylor(log(a.taylor_vec[1]),gr)\n",
    "    if a.gr == 0\n",
    "        return l\n",
    "    end\n",
    "    l.taylor_vec[2] = a.taylor_vec[2]/a.taylor_vec[1]\n",
    "    a, l = promote(a,l)\n",
    "    # El siguiente for es la relación de recurrencia hallada que\n",
    "    # es básicamente el de la división de dos series de Taylor.\n",
    "    for k in range(2,gr-1)\n",
    "        l.taylor_vec[k+1] = (1/a.taylor_vec[1])*(a.taylor_vec[k+1]-(1/k)*sum([i*l.taylor_vec[i+1]*a.taylor_vec[k-i+1] for i in range(1,k-1)]))\n",
    "    end\n",
    "    # Se regresa la estructura de Taylor con coeficientes calculados.\n",
    "    return l\n",
    "end\n",
    "\n",
    "log(a::Taylor) = log(a,a.gr)"
   ]
  },
  {
   "cell_type": "code",
   "execution_count": null,
   "metadata": {
    "collapsed": false
   },
   "outputs": [],
   "source": [
    "log(Taylor([1,1]),10)"
   ]
  },
  {
   "cell_type": "code",
   "execution_count": null,
   "metadata": {
    "collapsed": false
   },
   "outputs": [],
   "source": [
    "log(Taylor(1))"
   ]
  },
  {
   "cell_type": "code",
   "execution_count": null,
   "metadata": {
    "collapsed": false
   },
   "outputs": [],
   "source": [
    "@test log(Taylor([1])) == Taylor([0])"
   ]
  },
  {
   "cell_type": "code",
   "execution_count": null,
   "metadata": {
    "collapsed": false
   },
   "outputs": [],
   "source": [
    "a = Taylor([1,1]) * Taylor([1,1])"
   ]
  },
  {
   "cell_type": "markdown",
   "metadata": {},
   "source": [
    "No podemos calcular el logaritmo de cero:"
   ]
  },
  {
   "cell_type": "code",
   "execution_count": null,
   "metadata": {
    "collapsed": false
   },
   "outputs": [],
   "source": [
    "log(Taylor(0))"
   ]
  },
  {
   "cell_type": "markdown",
   "metadata": {},
   "source": [
    "Pero sí podemos calcular números negativos promoviéndolos a números complejos:"
   ]
  },
  {
   "cell_type": "code",
   "execution_count": null,
   "metadata": {
    "collapsed": false
   },
   "outputs": [],
   "source": [
    "log(Taylor([-1,-2]),10)"
   ]
  },
  {
   "cell_type": "markdown",
   "metadata": {},
   "source": [
    "Otro ejemplo sería:"
   ]
  },
  {
   "cell_type": "code",
   "execution_count": null,
   "metadata": {
    "collapsed": false
   },
   "outputs": [],
   "source": [
    "log(a,10)"
   ]
  },
  {
   "cell_type": "markdown",
   "metadata": {},
   "source": [
    "Wolfram nos dice que la serie es:\n",
    "\n",
    "\n",
    "$$\\log((1+x)^2) = 2x-x^2+2x^3/3-x^4/2 +2x^5/5 +\\ldots$$\n",
    "\n",
    "Así que vemos que está bien implementado todo.\n",
    "\n",
    "Para completar el logaritmo y la exponencial, esperamos que sean inversas:"
   ]
  },
  {
   "cell_type": "code",
   "execution_count": null,
   "metadata": {
    "collapsed": false
   },
   "outputs": [],
   "source": [
    "log(exp(a))"
   ]
  },
  {
   "cell_type": "markdown",
   "metadata": {},
   "source": [
    "Se ve que esto es cierto, ya que la serie tiene errores despreciables de orden $10^{-16}$."
   ]
  },
  {
   "cell_type": "code",
   "execution_count": null,
   "metadata": {
    "collapsed": false
   },
   "outputs": [],
   "source": [
    "exp(log(a))"
   ]
  },
  {
   "cell_type": "markdown",
   "metadata": {},
   "source": [
    "Continuamos con la potencia:\n",
    "\n",
    "$$P^a(x) =\\sum_{k = 0}^\\infty P^a_{k}(x-x_0)^k$$\n",
    "\n",
    "$$\\frac{dP^a(x)}{dx} = a(g(x))^{a-1} \\cdot g'(x)= a\\frac{P^a(x)}{g(x)}\\,g'(x)$$\n",
    "\n",
    "Entonces\n",
    "\n",
    "$$\\sum_{k =0}^\\infty (k+1) P^a_{k+1} (x-x_0)^k = \\frac{a}{g(x)} \\cdot\\sum_{k = 0}^\\infty\\,\\left(\\sum_{i = 0}^k P^a_i g'_{k-i}\\right)\\,(x-x_0)^k$$\n",
    "\n",
    "De donde\n",
    "\n",
    "$$P^a_{k+1} = \\frac{a}{k+1}\\,\\frac{1}{g_j}\\left( \\left(\\sum_{i = 0}^{k+j} P^a_i g_{k+j-i+1}(k+j-i+1)\\right)  -\\sum_{i=0}^{k-1} \\left( \\frac{P^a g'}{g} \\right)_{i} g_{k+j-i} \\right)  $$\n",
    "\n",
    "Donde $j$ es el índice para el cual $g$ empieza a ser distinto de cero (si se pone $j=0$ es la fórmula de división que ya teníamos). Para que quede como relación de recurrencia final identificamos que\n",
    "\n",
    "$$P^{a}_{k+1} = \\frac{a}{k+1}\\,\\left(  \\frac{P^a g'}{g} \\right)_{k}$$\n",
    "\n",
    "Por lo que la relación de recurrencia es\n",
    "\n",
    "$$P^a_{k+1} = \\frac{a}{k+1}\\,\\frac{1}{g_j}\\left( \\left(\\sum_{i = 0}^{k+j} P^a_i g_{k+j-i+1}(k+j-i+1)\\right)  -\\sum_{i=0}^{k-1} \\frac{(i+1)}{a} P^a_{i+1} g_{k+j-i} \\right)  $$\n",
    "\n",
    "Con la condición inicial que \n",
    "\n",
    "$$P^a_0 = g_0^a$$."
   ]
  },
  {
   "cell_type": "code",
   "execution_count": null,
   "metadata": {
    "collapsed": false
   },
   "outputs": [],
   "source": [
    "import Base: ^\n",
    "# Esta es la función potencia aplicada a Taylors\n",
    "# Primero Julia nos pide que definamos para un exponente entero\n",
    "# Por defautlt, si ex es entero se regresa un Taylor de orden ex veces\n",
    "# el Taylor original.\n",
    "function ^(a::Taylor,ex::Integer)\n",
    "    if ex < 0\n",
    "        return error(\"No se puede exponenciar la serie negativamente\")\n",
    "    end\n",
    "    if a.gr == 0\n",
    "        return Taylor(a.taylor_vec[1]^ex)\n",
    "    end\n",
    "    # Ahora encontramos donde empieza el arreglo que se está exponenciando,\n",
    "    # análogo a la división.\n",
    "    j = 1\n",
    "    for k in range(1,a.gr+1)\n",
    "        if a.taylor_vec[k] != 0\n",
    "            j = k\n",
    "            break\n",
    "        elseif k==a.gr+1\n",
    "            # Si el arreglo es un cero se regresa un cero.\n",
    "            return Taylor(0*a.taylor_vec[1])\n",
    "        end\n",
    "    end\n",
    "    # Factorizamos el arreglo:\n",
    "    a = Taylor(a.taylor_vec[j:a.gr+1])\n",
    "    p = Taylor(a.taylor_vec[1]^ex,a.gr*ex)\n",
    "    a,p = promote(a,p)\n",
    "    # El siguiente for es la relación de recurrencia hallada que\n",
    "    # es básicamente el de la división de dos series de Taylor.\n",
    "    for k in range(1,p.gr)\n",
    "        p.taylor_vec[k+1] = (ex/k)*(1/a.taylor_vec[1])*(sum([p.taylor_vec[i]*(k+1-i)*a.taylor_vec[k-i+2] for i in range(1,k)])\n",
    "        -sum([(i/ex)*p.taylor_vec[i+1]*a.taylor_vec[k-i+1] for i in range(1,k-1)]))\n",
    "    end\n",
    "    return Taylor(vcat(zeros(eltype(p.taylor_vec),(j-1)*ex),p.taylor_vec))\n",
    "end\n",
    "\n",
    "function ^(a::Taylor,ex::Number)\n",
    "    if a.gr == 0\n",
    "        return Taylor(0*a.taylor_vec[1])\n",
    "    end\n",
    "    # Ahora encontramos donde empieza el arreglo que se está exponenciando,\n",
    "    # análogo a la división.\n",
    "    if a.taylor_vec[1] ==0\n",
    "        return error(\"No se puede exponenciar a una pontenica no-entera si el término constante es cero.\")\n",
    "    end\n",
    "    p = Taylor(a.taylor_vec[1]^ex,a.gr)\n",
    "    # El siguiente for es la relación de recurrencia hallada que\n",
    "    # es básicamente el de la división de dos series de Taylor.\n",
    "    for k in range(1,p.gr)\n",
    "        p.taylor_vec[k+1] = (ex/k)*(1/a.taylor_vec[1])*(sum([p.taylor_vec[i]*(k+1-i)*a.taylor_vec[k-i+2] for i in range(1,k)])\n",
    "        -sum([(i/ex)*p.taylor_vec[i+1]*a.taylor_vec[k-i+1] for i in range(1,k-1)]))\n",
    "    end\n",
    "    return p\n",
    "end\n",
    "\n",
    "^(a::Taylor,b::Number,c::Int) = ^(Taylor(a.taylor_vec,c),b)"
   ]
  },
  {
   "cell_type": "markdown",
   "metadata": {},
   "source": [
    "Así salen cosas muy evidentes como:"
   ]
  },
  {
   "cell_type": "code",
   "execution_count": 4,
   "metadata": {
    "collapsed": false
   },
   "outputs": [
    {
     "data": {
      "text/plain": [
       "TS.Taylor{Int64}([1,1],1)"
      ]
     },
     "execution_count": 4,
     "metadata": {},
     "output_type": "execute_result"
    }
   ],
   "source": [
    "a = Taylor([1,1])"
   ]
  },
  {
   "cell_type": "code",
   "execution_count": 5,
   "metadata": {
    "collapsed": false
   },
   "outputs": [
    {
     "data": {
      "text/plain": [
       "TS.Taylor{Int64}([1,5,10,10,5,1],5)"
      ]
     },
     "execution_count": 5,
     "metadata": {},
     "output_type": "execute_result"
    }
   ],
   "source": [
    "a^5"
   ]
  },
  {
   "cell_type": "markdown",
   "metadata": {},
   "source": [
    "Pero también cosas más sorprendetes:"
   ]
  },
  {
   "cell_type": "code",
   "execution_count": 6,
   "metadata": {
    "collapsed": false
   },
   "outputs": [
    {
     "data": {
      "text/plain": [
       "TS.Taylor{Int64}([0,0,1,1],3)"
      ]
     },
     "execution_count": 6,
     "metadata": {},
     "output_type": "execute_result"
    }
   ],
   "source": [
    "a = Taylor([0,0,1,1])"
   ]
  },
  {
   "cell_type": "code",
   "execution_count": 7,
   "metadata": {
    "collapsed": false
   },
   "outputs": [
    {
     "data": {
      "text/plain": [
       "TS.Taylor{Int64}([0,0,0,0,0,0,0,0,0,0,0,0,1,6,15,20,15,6,1],18)"
      ]
     },
     "execution_count": 7,
     "metadata": {},
     "output_type": "execute_result"
    }
   ],
   "source": [
    "a^6"
   ]
  },
  {
   "cell_type": "markdown",
   "metadata": {},
   "source": [
    "La raíz cuadrada de un cuadrado perfecto:"
   ]
  },
  {
   "cell_type": "code",
   "execution_count": 8,
   "metadata": {
    "collapsed": false
   },
   "outputs": [
    {
     "data": {
      "text/plain": [
       "TS.Taylor{Float64}([1.0,1.0,0.0],2)"
      ]
     },
     "execution_count": 8,
     "metadata": {},
     "output_type": "execute_result"
    }
   ],
   "source": [
    "a = Taylor([1,1])\n",
    "(a^2)^(1//2)"
   ]
  },
  {
   "cell_type": "markdown",
   "metadata": {},
   "source": [
    "La expansión de $\\sqrt{1+x}$:"
   ]
  },
  {
   "cell_type": "code",
   "execution_count": 9,
   "metadata": {
    "collapsed": false
   },
   "outputs": [
    {
     "data": {
      "text/plain": [
       "TS.Taylor{Float64}([1.0,0.5,-0.125,0.0625,-0.0390625,0.02734375,-0.0205078125,0.01611328125,-0.013092041015625,0.0109100341796875,-0.009273529052734375],10)"
      ]
     },
     "execution_count": 9,
     "metadata": {},
     "output_type": "execute_result"
    }
   ],
   "source": [
    "^(Taylor([1,1]),1/2,10)"
   ]
  },
  {
   "cell_type": "markdown",
   "metadata": {},
   "source": [
    "E incluso potencias imaginarias:"
   ]
  },
  {
   "cell_type": "code",
   "execution_count": 10,
   "metadata": {
    "collapsed": false
   },
   "outputs": [
    {
     "data": {
      "text/plain": [
       "11-element Array{Complex{Float64},1}:\n",
       "      1.0+0.0im    \n",
       "      0.0+4.0im    \n",
       "     -8.0-2.0im    \n",
       "      8.0-9.33333im\n",
       "  3.33333+15.0im   \n",
       " -14.6667-9.33333im\n",
       "  18.4444-2.0im    \n",
       " -14.6667+12.254im \n",
       "  6.70635-18.0556im\n",
       "  2.06349+19.03im  \n",
       " -9.46914-16.3016im"
      ]
     },
     "execution_count": 10,
     "metadata": {},
     "output_type": "execute_result"
    }
   ],
   "source": [
    "(^(a^2,2im,10)).taylor_vec"
   ]
  },
  {
   "cell_type": "markdown",
   "metadata": {},
   "source": [
    "Nuevamente Wolfram nos dice que esta serie es \n",
    "\n",
    "$$1 + 4ix-(8+2i)x^2 + (8-28i/3)x^3 +\\ldots$$"
   ]
  },
  {
   "cell_type": "markdown",
   "metadata": {
    "collapsed": true
   },
   "source": [
    "Para finalizar, para el seno y coseno tenemos dos relaciones de recurrencia acopladas\n",
    "\n",
    "$$ S_{k+1} = \\frac{1}{k+1}\\,\\sum_{i=0}^k C_i g_{k-i+1} (k-i +1),\\qquad  C_{k+1} = \\frac{-1}{k+1}\\,\\sum_{i=0}^k S_i g_{k-i+1} (k-i +1)$$\n",
    "\n",
    "Con las condiciones iniciales \n",
    "\n",
    "$$S_0 = \\sin(g_0),\\qquad C_0 = \\cos(g_0)$$"
   ]
  },
  {
   "cell_type": "code",
   "execution_count": null,
   "metadata": {
    "collapsed": false
   },
   "outputs": [],
   "source": [
    "import Base: sin, cos\n",
    "\n",
    "function sin(a::Taylor,gr::Int)\n",
    "    # Este primer if está armado para que no se regrese un error de\n",
    "    # inexactitud de meter un entero a una exponencial que trabaja \n",
    "    # mínimo con números flotantes.\n",
    "    if eltype(a.taylor_vec) <: Integer\n",
    "        a = Taylor(convert(Array{Float64,1}, a.taylor_vec))\n",
    "    end\n",
    "    # Inicializamos los Taylor s,c de grado gr.\n",
    "    s = Taylor(sin(a.taylor_vec[1]),gr)\n",
    "    c = Taylor(cos(a.taylor_vec[1]),gr)\n",
    "    # Promovemos los arreglos a y s,c.\n",
    "    a, s = promote(a,s)\n",
    "    a, c = promote(a,c)\n",
    "    # El siguiente for es la relación de recurrencia hallada que\n",
    "    # usa los valores S_k,C_k previamente obtenidos.\n",
    "    for k in range(1,gr)\n",
    "        s.taylor_vec[k+1] = (1/k)*sum([c.taylor_vec[i]*(k-i+1)*a.taylor_vec[k+2-i] for i in range(1,k)])\n",
    "        c.taylor_vec[k+1] = (-1/k)*sum([s.taylor_vec[i]*(k-i+1)*a.taylor_vec[k+2-i] for i in range(1,k)])\n",
    "    end\n",
    "    # Se regresa la estructura de Taylor con coeficientes calculados.\n",
    "    return s\n",
    "end\n",
    "\n",
    "function cos(a::Taylor,gr::Int)\n",
    "    # Este primer if está armado para que no se regrese un error de\n",
    "    # inexactitud de meter un entero a una exponencial que trabaja \n",
    "    # mínimo con números flotantes.\n",
    "    if eltype(a.taylor_vec) <: Integer\n",
    "        a = Taylor(convert(Array{Float64,1}, a.taylor_vec))\n",
    "    end\n",
    "    # Inicializamos los Taylors s,cde grado gr.\n",
    "    s = Taylor(sin(a.taylor_vec[1]),gr)\n",
    "    c = Taylor(cos(a.taylor_vec[1]),gr)\n",
    "    # Promovemos los arreglos a y s,c.\n",
    "    a, s = promote(a,s)\n",
    "    a, c = promote(a,c)\n",
    "    # El siguiente for es la relación de recurrencia hallada que\n",
    "    # usa los valores S_k,C_k previamente obtenidos.\n",
    "    for k in range(1,gr)\n",
    "        s.taylor_vec[k+1] = (1/k)*sum([c.taylor_vec[i]*(k-i+1)*a.taylor_vec[k+2-i] for i in range(1,k)])\n",
    "        c.taylor_vec[k+1] = (-1/k)*sum([s.taylor_vec[i]*(k-i+1)*a.taylor_vec[k+2-i] for i in range(1,k)])\n",
    "    end\n",
    "    # Se regresa la estructura de Taylor con coeficientes calculados.\n",
    "    return c\n",
    "end\n",
    "\n",
    "# Implementamos la función sin poner el orden explícito.\n",
    "sin(a::Taylor) = sin(a,a.gr)\n",
    "cos(a::Taylor) = cos(a,a.gr)"
   ]
  },
  {
   "cell_type": "code",
   "execution_count": 11,
   "metadata": {
    "collapsed": false
   },
   "outputs": [
    {
     "data": {
      "text/plain": [
       "TS.Taylor{Float64}([0.0],0)"
      ]
     },
     "execution_count": 11,
     "metadata": {},
     "output_type": "execute_result"
    }
   ],
   "source": [
    "sin(Taylor([0]))"
   ]
  },
  {
   "cell_type": "code",
   "execution_count": 12,
   "metadata": {
    "collapsed": false
   },
   "outputs": [
    {
     "data": {
      "text/plain": [
       "TS.Taylor{Float64}([1.0],0)"
      ]
     },
     "execution_count": 12,
     "metadata": {},
     "output_type": "execute_result"
    }
   ],
   "source": [
    "cos(Taylor([0]))"
   ]
  },
  {
   "cell_type": "code",
   "execution_count": 13,
   "metadata": {
    "collapsed": false
   },
   "outputs": [
    {
     "data": {
      "text/plain": [
       "TS.Taylor{Float64}([1.0,-0.0,-0.5,-0.0,0.041666666666666664,-0.0,-0.0013888888888888887,-0.0,2.4801587301587298e-5,-0.0,-2.7557319223985883e-7],10)"
      ]
     },
     "execution_count": 13,
     "metadata": {},
     "output_type": "execute_result"
    }
   ],
   "source": [
    "cos(Taylor([0,1]),10)"
   ]
  },
  {
   "cell_type": "code",
   "execution_count": 14,
   "metadata": {
    "collapsed": false
   },
   "outputs": [
    {
     "data": {
      "text/plain": [
       "TS.Taylor{Float64}([0.0,1.0,0.0,-0.16666666666666666,0.0,0.008333333333333333,0.0,-0.00019841269841269839,0.0,2.7557319223985884e-6,0.0],10)"
      ]
     },
     "execution_count": 14,
     "metadata": {},
     "output_type": "execute_result"
    }
   ],
   "source": [
    "sin(Taylor([0,1]),10)"
   ]
  },
  {
   "cell_type": "code",
   "execution_count": null,
   "metadata": {
    "collapsed": false
   },
   "outputs": [],
   "source": [
    "@test ((cos(a))^2 + (sin(a))^2).taylor_vec[1] == 1.0"
   ]
  }
 ],
 "metadata": {
  "kernelspec": {
   "display_name": "Julia 0.4.5",
   "language": "julia",
   "name": "julia-0.4"
  },
  "language_info": {
   "file_extension": ".jl",
   "mimetype": "application/julia",
   "name": "julia",
   "version": "0.4.5"
  }
 },
 "nbformat": 4,
 "nbformat_minor": 0
}
