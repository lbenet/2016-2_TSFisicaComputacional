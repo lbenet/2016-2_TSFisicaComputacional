{
 "cells": [
  {
   "cell_type": "markdown",
   "metadata": {},
   "source": [
    "# Tarea 2: Santiago Ontañón Sánchez"
   ]
  },
  {
   "cell_type": "markdown",
   "metadata": {},
   "source": [
    "## 1. Histogramas"
   ]
  },
  {
   "cell_type": "markdown",
   "metadata": {},
   "source": [
    "Lo primero que vemos es la documentaci\\'on de la funci\\'on `randn`:"
   ]
  },
  {
   "cell_type": "code",
   "execution_count": 1,
   "metadata": {
    "collapsed": false
   },
   "outputs": [
    {
     "name": "stdout",
     "output_type": "stream",
     "text": [
      "search: "
     ]
    },
    {
     "data": {
      "text/latex": [
       "\\begin{verbatim}\n",
       "randn([rng], [dims...])\n",
       "\\end{verbatim}\n",
       "Generate a normally-distributed random number with mean 0 and standard deviation 1. Optionally generate an array of normally-distributed random numbers.\n"
      ],
      "text/markdown": [
       "```\n",
       "randn([rng], [dims...])\n",
       "```\n",
       "\n",
       "Generate a normally-distributed random number with mean 0 and standard deviation 1. Optionally generate an array of normally-distributed random numbers.\n"
      ],
      "text/plain": [
       "```\n",
       "randn([rng], [dims...])\n",
       "```\n",
       "\n",
       "Generate a normally-distributed random number with mean 0 and standard deviation 1. Optionally generate an array of normally-distributed random numbers.\n"
      ]
     },
     "execution_count": 1,
     "metadata": {},
     "output_type": "execute_result"
    }
   ],
   "source": [
    "?randn"
   ]
  },
  {
   "cell_type": "markdown",
   "metadata": {},
   "source": [
    "Un ejemplo:"
   ]
  },
  {
   "cell_type": "code",
   "execution_count": 2,
   "metadata": {
    "collapsed": false
   },
   "outputs": [
    {
     "name": "stdout",
     "output_type": "stream",
     "text": [
      "randn randn! sprandn randstring rand! rand randexp randperm randjump\n",
      "\n"
     ]
    },
    {
     "data": {
      "text/plain": [
       "-0.8879199747091013"
      ]
     },
     "execution_count": 2,
     "metadata": {},
     "output_type": "execute_result"
    }
   ],
   "source": [
    "randn()"
   ]
  },
  {
   "cell_type": "markdown",
   "metadata": {},
   "source": [
    "El ejercicio pide expl\\'icitamente que se generen n\\'umeros de tipo `Float64`, pero esto es por default:"
   ]
  },
  {
   "cell_type": "code",
   "execution_count": 3,
   "metadata": {
    "collapsed": false
   },
   "outputs": [
    {
     "data": {
      "text/plain": [
       "Float64"
      ]
     },
     "execution_count": 3,
     "metadata": {},
     "output_type": "execute_result"
    }
   ],
   "source": [
    "typeof(ans)"
   ]
  },
  {
   "cell_type": "markdown",
   "metadata": {},
   "source": [
    "Ahora, crear $N$ valores es trivial utilizando un ciclo `while`. Primero especificamos el valor $N$ a usarse:"
   ]
  },
  {
   "cell_type": "code",
   "execution_count": 4,
   "metadata": {
    "collapsed": false
   },
   "outputs": [
    {
     "data": {
      "text/plain": [
       "10000"
      ]
     },
     "execution_count": 4,
     "metadata": {},
     "output_type": "execute_result"
    }
   ],
   "source": [
    "N = 10000"
   ]
  },
  {
   "cell_type": "markdown",
   "metadata": {},
   "source": [
    "Luego inicializamos el arreglo `data` de tal manera que sea una lista vac\\'ia."
   ]
  },
  {
   "cell_type": "code",
   "execution_count": 5,
   "metadata": {
    "collapsed": false
   },
   "outputs": [],
   "source": [
    "data = [];"
   ]
  },
  {
   "cell_type": "code",
   "execution_count": 6,
   "metadata": {
    "collapsed": false
   },
   "outputs": [
    {
     "data": {
      "text/plain": [
       "Array{Any,1}"
      ]
     },
     "execution_count": 6,
     "metadata": {},
     "output_type": "execute_result"
    }
   ],
   "source": [
    "typeof(data)"
   ]
  },
  {
   "cell_type": "markdown",
   "metadata": {},
   "source": [
    "La parte clave es simplemente iterar sobre los comoponentes de `data` y cada entrada hacerla un n\\'umero aleatorio con `randn` con un ciclo `while` y un contador `i`."
   ]
  },
  {
   "cell_type": "code",
   "execution_count": 7,
   "metadata": {
    "collapsed": false
   },
   "outputs": [],
   "source": [
    "i = 1\n",
    "while i <= N\n",
    "    push!(data, randn())\n",
    "    i = i + 1\n",
    "end"
   ]
  },
  {
   "cell_type": "code",
   "execution_count": 8,
   "metadata": {
    "collapsed": false
   },
   "outputs": [
    {
     "data": {
      "text/plain": [
       "10000-element Array{Any,1}:\n",
       " -1.70648  \n",
       " -1.50641  \n",
       " -0.224537 \n",
       " -1.40496  \n",
       " -0.0969046\n",
       " -1.54203  \n",
       "  1.89791  \n",
       " -0.360985 \n",
       "  1.24355  \n",
       " -1.09158  \n",
       "  0.935885 \n",
       " -0.335029 \n",
       "  0.0441857\n",
       "  ⋮        \n",
       "  0.0131589\n",
       "  1.3191   \n",
       "  0.209572 \n",
       " -0.43477  \n",
       " -0.961238 \n",
       " -1.59692  \n",
       " -0.809105 \n",
       " -1.66946  \n",
       " -0.628866 \n",
       "  1.3003   \n",
       "  0.233226 \n",
       "  2.1037   "
      ]
     },
     "execution_count": 8,
     "metadata": {},
     "output_type": "execute_result"
    }
   ],
   "source": [
    "data"
   ]
  },
  {
   "cell_type": "markdown",
   "metadata": {},
   "source": [
    "Ahora quisi\\'eramos inicializar el arreglo $n_{hist}$ pero para hacer esto necesitamos el m\\'aximo y m\\'inimos del arreglo `data` y el n\\'umero de `bins` que vamos a hacer. Este es el argumento de la funci\\'on que vamos a implementar, pero para empezar, un buen n\\'umero corresponde a tener $N/100$ `bins`. "
   ]
  },
  {
   "cell_type": "code",
   "execution_count": 9,
   "metadata": {
    "collapsed": false
   },
   "outputs": [
    {
     "data": {
      "text/plain": [
       "100"
      ]
     },
     "execution_count": 9,
     "metadata": {},
     "output_type": "execute_result"
    }
   ],
   "source": [
    "n_bins = 100"
   ]
  },
  {
   "cell_type": "markdown",
   "metadata": {},
   "source": [
    "Ahora utilizamos las funciones `maximum` y `minimum` para obtener la separaci\\'on entre `bins`."
   ]
  },
  {
   "cell_type": "code",
   "execution_count": 10,
   "metadata": {
    "collapsed": false
   },
   "outputs": [
    {
     "data": {
      "text/plain": [
       "3.7111174367610316"
      ]
     },
     "execution_count": 10,
     "metadata": {},
     "output_type": "execute_result"
    }
   ],
   "source": [
    "sup = maximum(data)"
   ]
  },
  {
   "cell_type": "code",
   "execution_count": 11,
   "metadata": {
    "collapsed": false
   },
   "outputs": [
    {
     "data": {
      "text/plain": [
       "-3.552044738175339"
      ]
     },
     "execution_count": 11,
     "metadata": {},
     "output_type": "execute_result"
    }
   ],
   "source": [
    "inf = minimum(data)"
   ]
  },
  {
   "cell_type": "code",
   "execution_count": 12,
   "metadata": {
    "collapsed": false
   },
   "outputs": [
    {
     "data": {
      "text/plain": [
       "0.0726316217493637"
      ]
     },
     "execution_count": 12,
     "metadata": {},
     "output_type": "execute_result"
    }
   ],
   "source": [
    "len_bin = (sup - inf)/n_bins"
   ]
  },
  {
   "cell_type": "markdown",
   "metadata": {},
   "source": [
    "Ahora podemos inicializar el arreglo $n_{hist}$ como uno con puros zeros(de tipo `Int64`) y de dimensi\\'on $n_{bins}$:"
   ]
  },
  {
   "cell_type": "code",
   "execution_count": 13,
   "metadata": {
    "collapsed": false
   },
   "outputs": [
    {
     "data": {
      "text/plain": [
       "100-element Array{Int64,1}:\n",
       " 0\n",
       " 0\n",
       " 0\n",
       " 0\n",
       " 0\n",
       " 0\n",
       " 0\n",
       " 0\n",
       " 0\n",
       " 0\n",
       " 0\n",
       " 0\n",
       " 0\n",
       " ⋮\n",
       " 0\n",
       " 0\n",
       " 0\n",
       " 0\n",
       " 0\n",
       " 0\n",
       " 0\n",
       " 0\n",
       " 0\n",
       " 0\n",
       " 0\n",
       " 0"
      ]
     },
     "execution_count": 13,
     "metadata": {},
     "output_type": "execute_result"
    }
   ],
   "source": [
    "n_hist = zeros(Int64, n_bins)"
   ]
  },
  {
   "cell_type": "markdown",
   "metadata": {},
   "source": [
    "Ahora viene la parte clave del ejercicio, leer los datos y organizarlos en cada `bin`. Queremos leer un dato s\\'olo una vez, es decir, no queremos recorrer los `bins` y adentro de cada `bin` recorrer todos los datos para ver si cada uno est\\'a en dicho `bin` porque as\\'i se leer\\'ian los datos $n_{bin}$ veces. Lo que se hace es sacar para cada dato su \\'indice que le corresponde. Esto se hace contanto desde el \\'infimo y dividiendo entre la longitud del `bin`. Por ejemplo, para el m\\'inimo:"
   ]
  },
  {
   "cell_type": "code",
   "execution_count": 14,
   "metadata": {
    "collapsed": false
   },
   "outputs": [
    {
     "data": {
      "text/plain": [
       "0"
      ]
     },
     "execution_count": 14,
     "metadata": {},
     "output_type": "execute_result"
    }
   ],
   "source": [
    "floor(Int64,(minimum(data)-inf)/len_bin)"
   ]
  },
  {
   "cell_type": "markdown",
   "metadata": {},
   "source": [
    "Lo que significa que est\\'a en el \\'indice 0 + 1 del arreglo $n_{hist}$, cosa que tiene sentido. Sin embargo, hay un problema para los valores para los cuales se tiene un dato igual a `maximum(data)`:"
   ]
  },
  {
   "cell_type": "code",
   "execution_count": 15,
   "metadata": {
    "collapsed": false
   },
   "outputs": [
    {
     "data": {
      "text/plain": [
       "100"
      ]
     },
     "execution_count": 15,
     "metadata": {},
     "output_type": "execute_result"
    }
   ],
   "source": [
    "floor(Int64, (maximum(data)-inf)/len_bin)"
   ]
  },
  {
   "cell_type": "markdown",
   "metadata": {},
   "source": [
    "I.e. est\\'a en el \\'indice 100 + 1 = 101, que est\\'a fuera de rango para nuestro arreglo de longitud $n_{bins}$. Lo que hacemos es meter estos valores en el bin anterior. Ahora es muy claro c\\'omo obtenemos cada \\'indice para cada dato `d` con un ciclo `for`."
   ]
  },
  {
   "cell_type": "code",
   "execution_count": 16,
   "metadata": {
    "collapsed": false
   },
   "outputs": [],
   "source": [
    "for d in data\n",
    "    i = floor(Int64, (d-inf)/len_bin) + 1\n",
    "    i = (i > n_bins) ? n_bins : i\n",
    "    n_hist[i] = n_hist[i] + 1\n",
    "end"
   ]
  },
  {
   "cell_type": "code",
   "execution_count": 17,
   "metadata": {
    "collapsed": false
   },
   "outputs": [
    {
     "data": {
      "text/plain": [
       "100-element Array{Int64,1}:\n",
       " 2\n",
       " 3\n",
       " 2\n",
       " 0\n",
       " 4\n",
       " 2\n",
       " 3\n",
       " 1\n",
       " 3\n",
       " 6\n",
       " 4\n",
       " 4\n",
       " 7\n",
       " ⋮\n",
       " 3\n",
       " 6\n",
       " 2\n",
       " 3\n",
       " 3\n",
       " 1\n",
       " 3\n",
       " 1\n",
       " 0\n",
       " 0\n",
       " 1\n",
       " 1"
      ]
     },
     "execution_count": 17,
     "metadata": {},
     "output_type": "execute_result"
    }
   ],
   "source": [
    "n_hist"
   ]
  },
  {
   "cell_type": "markdown",
   "metadata": {},
   "source": [
    "Ahora simplemente graficamos nuestro histograma:"
   ]
  },
  {
   "cell_type": "code",
   "execution_count": 18,
   "metadata": {
    "collapsed": true
   },
   "outputs": [],
   "source": [
    "using PyPlot"
   ]
  },
  {
   "cell_type": "code",
   "execution_count": 19,
   "metadata": {
    "collapsed": false
   },
   "outputs": [
    {
     "data": {
      "image/png": "[encoded data removed]",
      "text/plain": [
       "PyPlot.Figure(PyObject <matplotlib.figure.Figure object at 0x7f654881b590>)"
      ]
     },
     "metadata": {},
     "output_type": "display_data"
    },
    {
     "data": {
      "text/plain": [
       "1-element Array{Any,1}:\n",
       " PyObject <matplotlib.lines.Line2D object at 0x7f65462ee0d0>"
      ]
     },
     "execution_count": 19,
     "metadata": {},
     "output_type": "execute_result"
    }
   ],
   "source": [
    "figure(figsize = (6, 4))\n",
    "plot(n_hist)"
   ]
  },
  {
   "cell_type": "markdown",
   "metadata": {},
   "source": [
    "Con todo lo anterior que muestra c\\'omo funciona el proceso de obtener el resultado ahora s\\'i lo implementamos en una sola funci\\'on:"
   ]
  },
  {
   "cell_type": "code",
   "execution_count": 20,
   "metadata": {
    "collapsed": false
   },
   "outputs": [
    {
     "data": {
      "text/plain": [
       "histogram_randn (generic function with 1 method)"
      ]
     },
     "execution_count": 20,
     "metadata": {},
     "output_type": "execute_result"
    }
   ],
   "source": [
    "\"\"\" \n",
    "histogram_randn(n_bins)\n",
    "\n",
    "Esta funci\\'on toma como entrada un entero n_bins (y solamente un entero, de otro\n",
    "modo es inv\\'alida). Primero se calcula un arreglo de datos con n\\'umeros aleatorios.\n",
    "Dicho arreglo abarca un intervalo [minimum(data), maximum(data)] que se parte en\n",
    "n_bins subintervalos del mismo tama\\~no. Se regresa un n_hist tipo Array{Int64,1} \n",
    "de dimensi\\'on n_bins que trae en la entrada n_hist[i] el n\\'umero de datos que\n",
    "entraron en dicho intervalo.\n",
    "\"\"\"\n",
    "function histogram_randn{T <: Int64}(n_bins::T)\n",
    "    # Lo primero que se hace es verificar que efectivamente n_bin es un n\\'umero\n",
    "    # entero, de otro modo la funci\\'on no corre.\n",
    "    # Despu\\'es tenemos que generar nuestros datos. El n\\'umero es arbitrario\n",
    "    # y lo elegimos como dice el inciso, N = 10000.\n",
    "    N = 10000\n",
    "    # Inicializamos el arreglo vac\\'io data que ser\\'a llenado con n\\'umeros\n",
    "    # aleatorios.\n",
    "    data = []\n",
    "    # Con un sencillo contador i y un ciclo while se llena el arreglo.\n",
    "    i = 1\n",
    "    while i <= N\n",
    "        push!(data, randn()) # La funci\\'on !push equivale a python list.append()\n",
    "        i = i + 1\n",
    "    end\n",
    "    # Con el arreglo lleno de datos, procedemos a encontrar los supremos e\n",
    "    # \\'infimos.\n",
    "    sup = maximum(data)\n",
    "    inf = minimum(data)\n",
    "    # Con estos valores se puede calcular len_bin\n",
    "    len_bin = (sup - inf)/n_bins\n",
    "    # Ahora se inicializa el arreglo de tama\\~no n_bins que tiene las frecuencias\n",
    "    # no normalizadas. Se inicializa naturalmente, lleno de ceros.\n",
    "    n_hist = zeros(Int64, n_bins)\n",
    "    # Despu\\'es, con un ciclo for, se le asigna a cada dato un \\'indice que es su\n",
    "    # n\\'umero de bin y dicho bin se incrementa en uno.\n",
    "    for d in data\n",
    "        i = floor(Int64, (d-inf)/len_bin) + 1 # Como se ve, se est\\'a calculando el\n",
    "        # n\\'umero de longitudes len_bin que se encuentra un dato desde el m\\'inimo\n",
    "        # este n\\'umero de longitudes m\\'as uno (pues el m\\'inimo est\\'a en el bin\n",
    "        # 1 no el bin 0) es el \\'indice. Excepto si...\n",
    "        i = (i > n_bins) ? n_bins : i # Esta sutileza viene de la convenci\\'on de que\n",
    "        # n_hist[1] es el primer bin y debe contener a minimum(data), pero del mismo\n",
    "        # modo n_hist[n_bins] contiene al \\'ultimo bin y dentro se considera a \n",
    "        # maximum(data), s\\'olo que nuestro indexado de la l\\'inea anterior lo\n",
    "        # meter\\'ia en el siguiente bin y estar\\'ia fuera de rango. Lo que se hace es\n",
    "        # meter este valor en el \\'ultimo bin con un sencillo if.\n",
    "        n_hist[i] = n_hist[i] + 1\n",
    "    end\n",
    "    # Finalmente se regresa el arreglo de frecuencias.\n",
    "    return n_hist\n",
    "end"
   ]
  },
  {
   "cell_type": "markdown",
   "metadata": {},
   "source": [
    "Ahora se dan unos ejemplos. Para diez puntos:"
   ]
  },
  {
   "cell_type": "code",
   "execution_count": 21,
   "metadata": {
    "collapsed": false
   },
   "outputs": [
    {
     "data": {
      "text/plain": [
       "10-element Array{Int64,1}:\n",
       "   27\n",
       "  175\n",
       "  838\n",
       " 2164\n",
       " 3007\n",
       " 2451\n",
       " 1052\n",
       "  238\n",
       "   44\n",
       "    4"
      ]
     },
     "execution_count": 21,
     "metadata": {},
     "output_type": "execute_result"
    }
   ],
   "source": [
    "histogram_randn(10)"
   ]
  },
  {
   "cell_type": "code",
   "execution_count": 22,
   "metadata": {
    "collapsed": false
   },
   "outputs": [
    {
     "data": {
      "image/png": "[encoded data removed]",
      "text/plain": [
       "PyPlot.Figure(PyObject <matplotlib.figure.Figure object at 0x7f6546307090>)"
      ]
     },
     "metadata": {},
     "output_type": "display_data"
    },
    {
     "data": {
      "text/plain": [
       "1-element Array{Any,1}:\n",
       " PyObject <matplotlib.lines.Line2D object at 0x7f6545fe9790>"
      ]
     },
     "execution_count": 22,
     "metadata": {},
     "output_type": "execute_result"
    }
   ],
   "source": [
    "plot(ans)"
   ]
  },
  {
   "cell_type": "markdown",
   "metadata": {},
   "source": [
    "Con 1000 puntos se aprecia muy bien la forma de la gaussiana:"
   ]
  },
  {
   "cell_type": "code",
   "execution_count": 23,
   "metadata": {
    "collapsed": false
   },
   "outputs": [
    {
     "data": {
      "text/plain": [
       "1000-element Array{Int64,1}:\n",
       " 1\n",
       " 0\n",
       " 0\n",
       " 0\n",
       " 0\n",
       " 0\n",
       " 0\n",
       " 0\n",
       " 0\n",
       " 0\n",
       " 0\n",
       " 0\n",
       " 0\n",
       " ⋮\n",
       " 0\n",
       " 0\n",
       " 0\n",
       " 0\n",
       " 0\n",
       " 0\n",
       " 0\n",
       " 0\n",
       " 0\n",
       " 0\n",
       " 0\n",
       " 1"
      ]
     },
     "execution_count": 23,
     "metadata": {},
     "output_type": "execute_result"
    }
   ],
   "source": [
    "histogram_randn(1000)"
   ]
  },
  {
   "cell_type": "code",
   "execution_count": 24,
   "metadata": {
    "collapsed": false
   },
   "outputs": [
    {
     "data": {
      "image/png": "[encoded data removed]",
      "text/plain": [
       "PyPlot.Figure(PyObject <matplotlib.figure.Figure object at 0x7f6546322750>)"
      ]
     },
     "metadata": {},
     "output_type": "display_data"
    },
    {
     "data": {
      "text/plain": [
       "1-element Array{Any,1}:\n",
       " PyObject <matplotlib.lines.Line2D object at 0x7f6545f2f190>"
      ]
     },
     "execution_count": 24,
     "metadata": {},
     "output_type": "execute_result"
    }
   ],
   "source": [
    "plot(ans)"
   ]
  },
  {
   "cell_type": "markdown",
   "metadata": {},
   "source": [
    "Sin embargo, si se hace un n\\'umero de divisiones del orden o mayor al n\\'umero de datos se pierde por completo la forma porque ahora en cada `bin` s\\'olo hay a veces un s\\'olo dato aunque se est\\'e en la regi\\'on del m\\'aximo de la gaussiana:"
   ]
  },
  {
   "cell_type": "code",
   "execution_count": 25,
   "metadata": {
    "collapsed": false
   },
   "outputs": [
    {
     "data": {
      "text/plain": [
       "10000-element Array{Int64,1}:\n",
       " 1\n",
       " 0\n",
       " 0\n",
       " 0\n",
       " 0\n",
       " 0\n",
       " 0\n",
       " 0\n",
       " 0\n",
       " 0\n",
       " 0\n",
       " 0\n",
       " 0\n",
       " ⋮\n",
       " 0\n",
       " 0\n",
       " 0\n",
       " 0\n",
       " 0\n",
       " 0\n",
       " 0\n",
       " 0\n",
       " 0\n",
       " 0\n",
       " 0\n",
       " 1"
      ]
     },
     "execution_count": 25,
     "metadata": {},
     "output_type": "execute_result"
    }
   ],
   "source": [
    "histogram_randn(10000)"
   ]
  },
  {
   "cell_type": "code",
   "execution_count": 26,
   "metadata": {
    "collapsed": false
   },
   "outputs": [
    {
     "data": {
      "image/png": "[encoded data removed]",
      "text/plain": [
       "PyPlot.Figure(PyObject <matplotlib.figure.Figure object at 0x7f6545ec4890>)"
      ]
     },
     "metadata": {},
     "output_type": "display_data"
    },
    {
     "data": {
      "text/plain": [
       "1-element Array{Any,1}:\n",
       " PyObject <matplotlib.lines.Line2D object at 0x7f6545e56c90>"
      ]
     },
     "execution_count": 26,
     "metadata": {},
     "output_type": "execute_result"
    }
   ],
   "source": [
    "plot(ans)"
   ]
  },
  {
   "cell_type": "markdown",
   "metadata": {},
   "source": [
    "En efecto, con m\\'as bins que datos se vuelve rid\\'iculo:"
   ]
  },
  {
   "cell_type": "code",
   "execution_count": 27,
   "metadata": {
    "collapsed": false
   },
   "outputs": [
    {
     "data": {
      "text/plain": [
       "100000-element Array{Int64,1}:\n",
       " 1\n",
       " 0\n",
       " 0\n",
       " 0\n",
       " 0\n",
       " 0\n",
       " 0\n",
       " 0\n",
       " 0\n",
       " 0\n",
       " 0\n",
       " 0\n",
       " 0\n",
       " ⋮\n",
       " 0\n",
       " 0\n",
       " 0\n",
       " 0\n",
       " 0\n",
       " 0\n",
       " 0\n",
       " 0\n",
       " 0\n",
       " 0\n",
       " 0\n",
       " 1"
      ]
     },
     "execution_count": 27,
     "metadata": {},
     "output_type": "execute_result"
    }
   ],
   "source": [
    "histogram_randn(100000)"
   ]
  },
  {
   "cell_type": "code",
   "execution_count": 28,
   "metadata": {
    "collapsed": false
   },
   "outputs": [
    {
     "data": {
      "image/png": "[encoded data removed]",
      "text/plain": [
       "PyPlot.Figure(PyObject <matplotlib.figure.Figure object at 0x7f6545e56d10>)"
      ]
     },
     "metadata": {},
     "output_type": "display_data"
    },
    {
     "data": {
      "text/plain": [
       "1-element Array{Any,1}:\n",
       " PyObject <matplotlib.lines.Line2D object at 0x7f6545d8ff90>"
      ]
     },
     "execution_count": 28,
     "metadata": {},
     "output_type": "execute_result"
    }
   ],
   "source": [
    "plot(ans)"
   ]
  },
  {
   "cell_type": "markdown",
   "metadata": {},
   "source": [
    "Con esto en mente, modificamos la funci\\'on para que no nos deje hacer estas cosas:"
   ]
  },
  {
   "cell_type": "code",
   "execution_count": 29,
   "metadata": {
    "collapsed": false
   },
   "outputs": [
    {
     "data": {
      "text/plain": [
       "histogram_randn_pretty (generic function with 1 method)"
      ]
     },
     "execution_count": 29,
     "metadata": {},
     "output_type": "execute_result"
    }
   ],
   "source": [
    "\"\"\" \n",
    "histogram_randn_pretty(n_bins)\n",
    "\n",
    "Esta funci\\'on toma como entrada un entero n_bins (y solamente un entero, de otro\n",
    "modo es inv\\'alida). Primero se calcula un arreglo de datos con n\\'umeros aleatorios.\n",
    "Dicho arreglo abarca un intervalo [minimum(data), maximum(data)] que se parte en\n",
    "n_bins subintervalos del mismo tama\\~no. Se regresa un n_hist tipo Array{Int64,1} \n",
    "de dimensi\\'on n_bins que trae en la entrada n_hist[i] el n\\'umero de datos que\n",
    "entraron en dicho intervalo.\n",
    "\n",
    "Si n_bins es mayor que el n\\'umero de datos N = 10000 se toma por default\n",
    "n_bins = floor(N/10).\n",
    "\"\"\"\n",
    "function histogram_randn_pretty{T <: Int64}(n_bins::T)\n",
    "    # Lo primero que se hace es verificar que efectivamente n_bin es un n\\'umero\n",
    "    # entero, de otro modo la funci\\'on no corre.\n",
    "    # Despu\\'es tenemos que generar nuestros datos. El n\\'umero es arbitrario\n",
    "    # y lo elegimos como dice el inciso, N = 10000.\n",
    "    N = 10000\n",
    "    # Ahora la condici\\'on de que nbins no sea mayor que floor(N/10)\n",
    "    n_bins = (n_bins < floor(Int64,N/10)) ? n_bins : floor(Int64,N/10)\n",
    "    # Inicializamos el arreglo vac\\'io data que ser\\'a llenado con n\\'umeros\n",
    "    # aleatorios.\n",
    "    data = []\n",
    "    # Con un sencillo contador i y un ciclo while se llena el arreglo.\n",
    "    i = 1\n",
    "    while i <= N\n",
    "        push!(data, randn()) # La funci\\'on !push equivale a python list.append()\n",
    "        i = i + 1\n",
    "    end\n",
    "    # Con el arreglo lleno de datos, procedemos a encontrar los supremos e\n",
    "    # \\'infimos.\n",
    "    sup = maximum(data)\n",
    "    inf = minimum(data)\n",
    "    # Con estos valores se puede calcular len_bin\n",
    "    len_bin = (sup - inf)/n_bins\n",
    "    # Ahora se inicializa el arreglo de tama\\~no n_bins que tiene las frecuencias\n",
    "    # no normalizadas. Se inicializa naturalmente, lleno de ceros.\n",
    "    n_hist = zeros(Int64, n_bins)\n",
    "    # Despu\\'es, con un ciclo for, se le asigna a cada dato un \\'indice que es su\n",
    "    # n\\'umero de bin y dicho bin se incrementa en uno.\n",
    "    for d in data\n",
    "        i = floor(Int64, (d-inf)/len_bin) + 1 # Como se ve, se est\\'a calculando el\n",
    "        # n\\'umero de longitudes len_bin que se encuentra un dato desde el m\\'inimo\n",
    "        # este n\\'umero de longitudes m\\'as uno (pues el m\\'inimo est\\'a en el bin\n",
    "        # 1 no el bin 0) es el \\'indice. Excepto si...\n",
    "        i = (i > n_bins) ? n_bins : i # Esta sutileza viene de la convenci\\'on de que\n",
    "        # n_hist[1] es el primer bin y debe contener a minimum(data), pero del mismo\n",
    "        # modo n_hist[n_bins] contiene al \\'ultimo bin y dentro se considera a \n",
    "        # maximum(data), s\\'olo que nuestro indexado de la l\\'inea anterior lo\n",
    "        # meter\\'ia en el siguiente bin y estar\\'ia fuera de rango. Lo que se hace es\n",
    "        # meter este valor en el \\'ultimo bin con un sencillo if.\n",
    "        n_hist[i] = n_hist[i] + 1\n",
    "    end\n",
    "    # Finalmente se regresa el arreglo de frecuencias.\n",
    "    return n_hist\n",
    "end"
   ]
  },
  {
   "cell_type": "code",
   "execution_count": 30,
   "metadata": {
    "collapsed": false
   },
   "outputs": [
    {
     "data": {
      "text/plain": [
       "1000-element Array{Int64,1}:\n",
       " 1\n",
       " 0\n",
       " 0\n",
       " 0\n",
       " 0\n",
       " 0\n",
       " 0\n",
       " 0\n",
       " 0\n",
       " 0\n",
       " 0\n",
       " 0\n",
       " 0\n",
       " ⋮\n",
       " 0\n",
       " 0\n",
       " 0\n",
       " 0\n",
       " 0\n",
       " 0\n",
       " 0\n",
       " 0\n",
       " 0\n",
       " 0\n",
       " 0\n",
       " 1"
      ]
     },
     "execution_count": 30,
     "metadata": {},
     "output_type": "execute_result"
    }
   ],
   "source": [
    "histogram_randn_pretty(100000)"
   ]
  },
  {
   "cell_type": "code",
   "execution_count": 31,
   "metadata": {
    "collapsed": false
   },
   "outputs": [
    {
     "data": {
      "image/png": "[encoded data removed]",
      "text/plain": [
       "PyPlot.Figure(PyObject <matplotlib.figure.Figure object at 0x7f6545d45310>)"
      ]
     },
     "metadata": {},
     "output_type": "display_data"
    },
    {
     "data": {
      "text/plain": [
       "1-element Array{Any,1}:\n",
       " PyObject <matplotlib.lines.Line2D object at 0x7f6545ccbad0>"
      ]
     },
     "execution_count": 31,
     "metadata": {},
     "output_type": "execute_result"
    }
   ],
   "source": [
    "plot(ans)"
   ]
  },
  {
   "cell_type": "markdown",
   "metadata": {},
   "source": [
    "Lo \\'ultimo que procede a este ejercicio es implementar la funci\\'on de PyPlot para histogramas. La referencia es https://gist.github.com/gizmaa/7214002#histogram"
   ]
  },
  {
   "cell_type": "markdown",
   "metadata": {},
   "source": [
    "B\\'asciamente el uso es `PyPlot.plt.hist(x,nbins)` donde `x` es el arreglo de datos y `nbins` es obviamente el n\\'umero de `bins` en que se van a partir los datos. La manera de referenciar `PyPlot.plt.hist` es algo distinta en `Julia`."
   ]
  },
  {
   "cell_type": "code",
   "execution_count": 32,
   "metadata": {
    "collapsed": false
   },
   "outputs": [
    {
     "data": {
      "image/png": "[encoded data removed]",
      "text/plain": [
       "PyPlot.Figure(PyObject <matplotlib.figure.Figure object at 0x7f6545dbdf50>)"
      ]
     },
     "metadata": {},
     "output_type": "display_data"
    },
    {
     "data": {
      "text/plain": [
       "([2.0,3.0,2.0,0.0,4.0,2.0,3.0,1.0,3.0,6.0  …  2.0,3.0,3.0,1.0,3.0,1.0,0.0,0.0,1.0,1.0],[-3.55204,-3.47941,-3.40678,-3.33415,-3.26152,-3.18889,-3.11626,-3.04362,-2.97099,-2.89836  …  3.05743,3.13006,3.2027,3.27533,3.34796,3.42059,3.49322,3.56585,3.63849,3.71112],Any[PyObject <matplotlib.patches.Rectangle object at 0x7f6545e26650>,PyObject <matplotlib.patches.Rectangle object at 0x7f6545c21ed0>,PyObject <matplotlib.patches.Rectangle object at 0x7f6545c29250>,PyObject <matplotlib.patches.Rectangle object at 0x7f6545c02d50>,PyObject <matplotlib.patches.Rectangle object at 0x7f6545c02ed0>,PyObject <matplotlib.patches.Rectangle object at 0x7f6545c32210>,PyObject <matplotlib.patches.Rectangle object at 0x7f6545bbf910>,PyObject <matplotlib.patches.Rectangle object at 0x7f6545bbf5d0>,PyObject <matplotlib.patches.Rectangle object at 0x7f6545c02910>,PyObject <matplotlib.patches.Rectangle object at 0x7f6545c0dbd0>  …  PyObject <matplotlib.patches.Rectangle object at 0x7f6545a4f510>,PyObject <matplotlib.patches.Rectangle object at 0x7f6545a6a410>,PyObject <matplotlib.patches.Rectangle object at 0x7f6545a410d0>,PyObject <matplotlib.patches.Rectangle object at 0x7f6545a5bf50>,PyObject <matplotlib.patches.Rectangle object at 0x7f6545a5bf90>,PyObject <matplotlib.patches.Rectangle object at 0x7f6545a8bc50>,PyObject <matplotlib.patches.Rectangle object at 0x7f6545a5b8d0>,PyObject <matplotlib.patches.Rectangle object at 0x7f6545a79950>,PyObject <matplotlib.patches.Rectangle object at 0x7f6545a6ac10>,PyObject <matplotlib.patches.Rectangle object at 0x7f6545a14250>])"
      ]
     },
     "execution_count": 32,
     "metadata": {},
     "output_type": "execute_result"
    }
   ],
   "source": [
    "plt[:hist](data,n_bins)"
   ]
  },
  {
   "cell_type": "markdown",
   "metadata": {},
   "source": [
    "## 2. Promedio y varianza"
   ]
  },
  {
   "cell_type": "markdown",
   "metadata": {},
   "source": [
    "(a). Implementamos r\\'apidamente una funci\\'on que nos d\\'e los datos aleatorios:"
   ]
  },
  {
   "cell_type": "code",
   "execution_count": 33,
   "metadata": {
    "collapsed": false
   },
   "outputs": [
    {
     "data": {
      "text/plain": [
       "get_data (generic function with 2 methods)"
      ]
     },
     "execution_count": 33,
     "metadata": {},
     "output_type": "execute_result"
    }
   ],
   "source": [
    "function get_data()\n",
    "    n = 10000\n",
    "    # Inicializamos el arreglo vac\\'io data que ser\\'a llenado con n\\'umeros\n",
    "    # aleatorios.\n",
    "    data = []\n",
    "    # Con un sencillo contador i y un ciclo while se llena el arreglo.\n",
    "    i = 1\n",
    "    while i <= n\n",
    "        push!(data, randn()) # La funci\\'on !push equivale a python list.append()\n",
    "        i = i + 1\n",
    "    end\n",
    "    return collect(Float64, data) # Se regresa un Array{Float64,1}.\n",
    "end\n",
    "\n",
    "function get_data{T <: Int64}(n::T)\n",
    "    # En el caso de que queramos un n\\'umero de datos definidos.\n",
    "    # Inicializamos el arreglo vac\\'io data que ser\\'a llenado con n\\'umeros\n",
    "    # aleatorios.\n",
    "    data = []\n",
    "    # Con un sencillo contador i y un ciclo while se llena el arreglo.\n",
    "    i = 1\n",
    "    while i <= n\n",
    "        push!(data, randn()) # La funci\\'on !push equivale a python list.append()\n",
    "        i = i + 1\n",
    "    end\n",
    "    return collect(Float64, data)\n",
    "end"
   ]
  },
  {
   "cell_type": "markdown",
   "metadata": {},
   "source": [
    "Queremos calcular el promedio de estos datos. Sencillamete debemos sumarlos todos y dividirlos entre la longitud de ellos."
   ]
  },
  {
   "cell_type": "code",
   "execution_count": 34,
   "metadata": {
    "collapsed": false
   },
   "outputs": [
    {
     "data": {
      "text/plain": [
       "10000-element Array{Float64,1}:\n",
       " -1.07174 \n",
       " -0.47837 \n",
       "  0.130953\n",
       " -0.164728\n",
       " -1.12727 \n",
       "  1.77281 \n",
       "  0.153405\n",
       "  0.777622\n",
       " -0.707984\n",
       " -0.876467\n",
       " -0.708854\n",
       " -0.474847\n",
       "  0.385033\n",
       "  ⋮       \n",
       " -2.06596 \n",
       "  1.13854 \n",
       "  1.74422 \n",
       "  0.764855\n",
       "  1.98539 \n",
       " -1.64364 \n",
       " -0.421386\n",
       " -0.830376\n",
       " -0.15307 \n",
       "  0.3511  \n",
       "  0.635889\n",
       " -0.604486"
      ]
     },
     "execution_count": 34,
     "metadata": {},
     "output_type": "execute_result"
    }
   ],
   "source": [
    "data = get_data()    "
   ]
  },
  {
   "cell_type": "code",
   "execution_count": 35,
   "metadata": {
    "collapsed": false
   },
   "outputs": [
    {
     "data": {
      "text/plain": [
       "get_avg (generic function with 1 method)"
      ]
     },
     "execution_count": 35,
     "metadata": {},
     "output_type": "execute_result"
    }
   ],
   "source": [
    "\"\"\"\n",
    "get_avg(data)\n",
    "\n",
    "Toma como entrada un arreglo unidmensional de tipo Float64 y regresa su\n",
    "promedio.\n",
    "\"\"\"\n",
    "function get_avg{T <: Array{Float64,1}}(data::T)\n",
    "    # Especificamos el tipo del arreglo.\n",
    "    # Se calcula el promedio de manera usual.\n",
    "    s = 0.0\n",
    "    for d in data\n",
    "        s = s + d\n",
    "    end\n",
    "    return s/length(data)\n",
    "end"
   ]
  },
  {
   "cell_type": "markdown",
   "metadata": {},
   "source": [
    "Para nuestro archivo, el promedio ser\\'ia:"
   ]
  },
  {
   "cell_type": "code",
   "execution_count": 36,
   "metadata": {
    "collapsed": false
   },
   "outputs": [
    {
     "data": {
      "text/plain": [
       "-0.025934342781644613"
      ]
     },
     "execution_count": 36,
     "metadata": {},
     "output_type": "execute_result"
    }
   ],
   "source": [
    "get_avg(data)"
   ]
  },
  {
   "cell_type": "markdown",
   "metadata": {},
   "source": [
    "La varianza se calcula de la manera habitual tambi\\'en:"
   ]
  },
  {
   "cell_type": "code",
   "execution_count": 37,
   "metadata": {
    "collapsed": false
   },
   "outputs": [
    {
     "data": {
      "text/plain": [
       "get_var (generic function with 1 method)"
      ]
     },
     "execution_count": 37,
     "metadata": {},
     "output_type": "execute_result"
    }
   ],
   "source": [
    "\"\"\"\n",
    "get_var(data)\n",
    "\n",
    "Toma como entrada un arreglo unidmensional de tipo Float64 y regresa su\n",
    "varianza.\n",
    "\"\"\"\n",
    "function get_var{T <: Array{Float64,1}}(data::T)\n",
    "    # Especificamos el tipo del arreglo.\n",
    "    # No queremos arreglos de longitud uno o menos pues son triviales.\n",
    "    if length(data) <= 1\n",
    "        return Void\n",
    "    end\n",
    "    # Se calcula la varianza de manera usual.\n",
    "    s = 0.0\n",
    "    av = get_avg(data) # Obtenemos el promedio con la funci\\'on anterior.\n",
    "    for d in data\n",
    "        s = s + (d-av)^2\n",
    "    end\n",
    "    return s/(length(data)-1) # Este length(data) -1 es una cuesti\\'on de\n",
    "    # convenci\\'on , coincide con la convenci\\'on que utiliza Julia en su\n",
    "    # funci\\'on var(data).\n",
    "end"
   ]
  },
  {
   "cell_type": "markdown",
   "metadata": {},
   "source": [
    "La varianza $s^2$ para estos datos es"
   ]
  },
  {
   "cell_type": "code",
   "execution_count": 38,
   "metadata": {
    "collapsed": false
   },
   "outputs": [
    {
     "data": {
      "text/plain": [
       "0.9967664634345114"
      ]
     },
     "execution_count": 38,
     "metadata": {},
     "output_type": "execute_result"
    }
   ],
   "source": [
    "get_var(data)"
   ]
  },
  {
   "cell_type": "markdown",
   "metadata": {},
   "source": [
    "Ahora comprobamos con las funciones de `Julia`:"
   ]
  },
  {
   "cell_type": "code",
   "execution_count": 39,
   "metadata": {
    "collapsed": false
   },
   "outputs": [
    {
     "data": {
      "text/plain": [
       "-0.025934342781644592"
      ]
     },
     "execution_count": 39,
     "metadata": {},
     "output_type": "execute_result"
    }
   ],
   "source": [
    "mean(data)"
   ]
  },
  {
   "cell_type": "code",
   "execution_count": 40,
   "metadata": {
    "collapsed": false
   },
   "outputs": [
    {
     "data": {
      "text/plain": [
       "0.9967664634345049"
      ]
     },
     "execution_count": 40,
     "metadata": {},
     "output_type": "execute_result"
    }
   ],
   "source": [
    "var(data)"
   ]
  },
  {
   "cell_type": "markdown",
   "metadata": {},
   "source": [
    "Es claro que coinciden muy bien, la diferencia viene a partir de la cifra 14 decimal. En cuanto a su tiempo de c\\'omputo para cada una:"
   ]
  },
  {
   "cell_type": "code",
   "execution_count": 41,
   "metadata": {
    "collapsed": false
   },
   "outputs": [
    {
     "name": "stdout",
     "output_type": "stream",
     "text": [
      "  "
     ]
    },
    {
     "data": {
      "text/plain": [
       "-0.025934342781644613"
      ]
     },
     "execution_count": 41,
     "metadata": {},
     "output_type": "execute_result"
    }
   ],
   "source": [
    "@time get_avg(data); @time get_avg(data)"
   ]
  },
  {
   "cell_type": "code",
   "execution_count": 42,
   "metadata": {
    "collapsed": false
   },
   "outputs": [
    {
     "data": {
      "text/plain": [
       "-0.025934342781644592"
      ]
     },
     "execution_count": 42,
     "metadata": {},
     "output_type": "execute_result"
    }
   ],
   "source": [
    "@time mean(data); @time mean(data)"
   ]
  },
  {
   "cell_type": "code",
   "execution_count": 43,
   "metadata": {
    "collapsed": false
   },
   "outputs": [
    {
     "data": {
      "text/plain": [
       "0.9967664634345114"
      ]
     },
     "execution_count": 43,
     "metadata": {},
     "output_type": "execute_result"
    }
   ],
   "source": [
    "@time get_var(data); @time get_var(data)"
   ]
  },
  {
   "cell_type": "code",
   "execution_count": 44,
   "metadata": {
    "collapsed": false
   },
   "outputs": [
    {
     "data": {
      "text/plain": [
       "0.9967664634345049"
      ]
     },
     "execution_count": 44,
     "metadata": {},
     "output_type": "execute_result"
    }
   ],
   "source": [
    "@time var(data); @time var(data)"
   ]
  },
  {
   "cell_type": "markdown",
   "metadata": {},
   "source": [
    "Se ve que las funciones propias de Julia son m\\'as r\\'apidas hasta ahora pero n\\'otese que nuestra funci\\'on `get_var` ocupa casi la mitad de memoria que la funci\\'on `var`, seguramente porque el c\\'alculo del promedio se hace afuera. Continuaremos esta discusi\\'on en el inciso (c)."
   ]
  },
  {
   "cell_type": "markdown",
   "metadata": {},
   "source": [
    "(b). Ahora implementamos el algoritmo recursivo."
   ]
  },
  {
   "cell_type": "markdown",
   "metadata": {},
   "source": [
    "Para la media:\n",
    "    $$\\bar{x}_n = \\bar{x}_{n-1} +\\frac{x_n-\\bar{x}_{n-1}}{n}$$"
   ]
  },
  {
   "cell_type": "code",
   "execution_count": 45,
   "metadata": {
    "collapsed": false
   },
   "outputs": [
    {
     "data": {
      "text/plain": [
       "get_avg_online (generic function with 1 method)"
      ]
     },
     "execution_count": 45,
     "metadata": {},
     "output_type": "execute_result"
    }
   ],
   "source": [
    "\"\"\"\n",
    "get_avg_online(data)\n",
    "\n",
    "Toma como entrada un arreglo unidmensional de tipo Float64 y regresa su\n",
    "promedio de manera recursiva. V\\'ease https://en.wikipedia.org/wiki/Algorithms_for_calculating_variance#Online_algorithm\n",
    "\"\"\"\n",
    "function get_avg_online{T <: Array{Float64,1}}(data::T)\n",
    "    # Especificamos el tipo del arreglo.\n",
    "    # Se calcula recursivamente la media de acuerdo a la referencia.\n",
    "    s = 0.0\n",
    "    for (i, d) in enumerate(data)\n",
    "        s = s + (d-s)/i \n",
    "    end\n",
    "    return s\n",
    "end"
   ]
  },
  {
   "cell_type": "code",
   "execution_count": 46,
   "metadata": {
    "collapsed": false
   },
   "outputs": [
    {
     "data": {
      "text/plain": [
       "-0.02593434278164459"
      ]
     },
     "execution_count": 46,
     "metadata": {},
     "output_type": "execute_result"
    }
   ],
   "source": [
    "get_avg_online(data)"
   ]
  },
  {
   "cell_type": "markdown",
   "metadata": {},
   "source": [
    "Para la varianza volvemos a resaltar que estamos tratando en este caso (para ser consistentes con `Julia`) con la varianza de una muestra. As\\'i el algoritmo que se usa es el que tiene estabilidad num\\'erica segu\\'un la referencia https://en.wikipedia.org/wiki/Algorithms_for_calculating_variance#Online_algorithm\n",
    "\n",
    "$$s^2_n = \\frac{M_{2,n}}{n-1},\\qquad M_{2,n}=M_{2,n-1} + (x_n-\\bar{x}_{n-1})(x_n -\\bar{x}_n)$$"
   ]
  },
  {
   "cell_type": "code",
   "execution_count": 47,
   "metadata": {
    "collapsed": false
   },
   "outputs": [
    {
     "data": {
      "text/plain": [
       "get_var_online (generic function with 1 method)"
      ]
     },
     "execution_count": 47,
     "metadata": {},
     "output_type": "execute_result"
    }
   ],
   "source": [
    "\"\"\"\n",
    "get_var_online(data)\n",
    "\n",
    "Toma como entrada un arreglo unidmensional de tipo Float64 y regresa su\n",
    "varianza de manera recursiva. V\\'ease https://en.wikipedia.org/wiki/Algorithms_for_calculating_variance#Online_algorithm\n",
    "\"\"\"\n",
    "function get_var_online{T <: Array{Float64,1}}(data::T)\n",
    "    # Especificamos el tipo del arreglo.\n",
    "    # No queremos arreglos de longitud uno o menos pues son triviales.\n",
    "    if length(data) <= 1\n",
    "        return Void\n",
    "    end\n",
    "    # Se calcula recursivamente la media de acuerdo a la referencia.\n",
    "    s = 0.0\n",
    "    M = 0.0\n",
    "    p = 0.0\n",
    "    p_new = 0.0\n",
    "    for (i, d) in enumerate(data)\n",
    "        if i == 1 # Para el primer dato no se calcula la varianza pero s\\'i\n",
    "            #las otras cantidades.\n",
    "            p_new = p + (d-p)/i  # El promedio hasta el dato i seg\\'un la manera \n",
    "            # recursiva de la funci\\'on anterior.\n",
    "            M = M + (d-p)*(d-p_new) # La cantidad M_{2,n} seg\\'un la f\\'ormula.\n",
    "            # Se ve que se usan los dos promedios anteriores.\n",
    "            p = p_new # Se reasignan los promedios.\n",
    "            continue\n",
    "        end\n",
    "        p_new = p + (d-p)/i  # El promedio hasta el dato i seg\\'un la manera \n",
    "        # recursiva de la funci\\'on anterior.\n",
    "        M = M + (d-p)*(d-p_new)\n",
    "        p = p_new\n",
    "        s = M/(i-1)\n",
    "    end\n",
    "    return s\n",
    "end"
   ]
  },
  {
   "cell_type": "markdown",
   "metadata": {},
   "source": [
    "La varianza es as\\'i:"
   ]
  },
  {
   "cell_type": "code",
   "execution_count": 48,
   "metadata": {
    "collapsed": false
   },
   "outputs": [
    {
     "data": {
      "text/plain": [
       "0.9967664634345035"
      ]
     },
     "execution_count": 48,
     "metadata": {},
     "output_type": "execute_result"
    }
   ],
   "source": [
    "get_var_online(data)"
   ]
  },
  {
   "cell_type": "markdown",
   "metadata": {},
   "source": [
    "Muy de acuerdo con todos los resultados anteriores hasta la cifra significativa."
   ]
  },
  {
   "cell_type": "markdown",
   "metadata": {},
   "source": [
    "(c). Ahora s\\'i vamos a comparar los tiempos de ejecuci\\'on para distintos datos usando `get_data(n)`. El macro que vamos a utilizar es `@elapsed` porque este devuelve el tiempo de ejecuci\\'on a diferencia de `@time` que s\\'olo lo imprime."
   ]
  },
  {
   "cell_type": "code",
   "execution_count": 49,
   "metadata": {
    "collapsed": false
   },
   "outputs": [
    {
     "data": {
      "text/plain": [
       "0.000158528"
      ]
     },
     "execution_count": 49,
     "metadata": {},
     "output_type": "execute_result"
    }
   ],
   "source": [
    "@elapsed get_var_online(data)"
   ]
  },
  {
   "cell_type": "markdown",
   "metadata": {},
   "source": [
    "Ahora vamos a hacer una funci\\'on sencilla que nos devuelva un arreglo con tres columnas, cada columna con el tiempo de los tres m\\'etodos distintos. Ser\\'an cinco filas correspondiente la fila $i$ a un archvio de $10^{1+i}$ datos."
   ]
  },
  {
   "cell_type": "code",
   "execution_count": 50,
   "metadata": {
    "collapsed": false
   },
   "outputs": [
    {
     "data": {
      "text/plain": [
       "three_methods_avg (generic function with 1 method)"
      ]
     },
     "execution_count": 50,
     "metadata": {},
     "output_type": "execute_result"
    }
   ],
   "source": [
    "function three_methods_avg()\n",
    "    t = Array{Float64}(5,3) # Se inicializa el arreglo.\n",
    "    t1 = 0.0\n",
    "    t2 = 0.0\n",
    "    t3 = 0.0\n",
    "    n = 10\n",
    "    i = 1\n",
    "    while n <= 100000\n",
    "        data = get_data(n) # Se obtienen los n datos.\n",
    "        t1 = @elapsed get_avg(data)\n",
    "        t1 = @elapsed get_avg(data) # Se ejecutan dos veces los tiempos\n",
    "        # de compilaci\\'on.\n",
    "        t2 = @elapsed mean(data)\n",
    "        t2 = @elapsed mean(data)\n",
    "        t3 = @elapsed get_avg_online(data)\n",
    "        t3 = @elapsed get_avg_online(data)\n",
    "        t[i,1] = t1 # Se escriben al arreglo.\n",
    "        t[i,2] = t2\n",
    "        t[i,3] = t3\n",
    "        i = i + 1 # Se aumenta el contador y el orden de magnitud de n.\n",
    "        n = n * 10\n",
    "    end\n",
    "    return t\n",
    "end"
   ]
  },
  {
   "cell_type": "code",
   "execution_count": 51,
   "metadata": {
    "collapsed": false
   },
   "outputs": [
    {
     "data": {
      "text/plain": [
       "5x3 Array{Float64,2}:\n",
       " 7.9e-8     6.6e-8     1.27e-7    \n",
       " 1.35e-7    1.27e-7    9.25e-7    \n",
       " 1.009e-6   3.71e-7    9.058e-6   \n",
       " 9.747e-6   3.817e-6   9.0478e-5  \n",
       " 9.7904e-5  4.0842e-5  0.000904816"
      ]
     },
     "execution_count": 51,
     "metadata": {},
     "output_type": "execute_result"
    },
    {
     "name": "stdout",
     "output_type": "stream",
     "text": [
      "0.000018 seconds (149 allocations: 10.167 KB)\n",
      "  0.000014 seconds (5 allocations: 176 bytes)\n",
      "  0.000008 seconds (5 allocations: 176 bytes)\n",
      "  0.000006 seconds (5 allocations: 176 bytes)\n",
      "  0.000024 seconds (5 allocations: 176 bytes)\n",
      "  0.000022 seconds (5 allocations: 176 bytes)\n",
      "  0.000014 seconds (8 allocations: 288 bytes)\n",
      "  0.000011 seconds (8 allocations: 288 bytes)\n"
     ]
    }
   ],
   "source": [
    "avg_times = three_methods_avg()"
   ]
  },
  {
   "cell_type": "markdown",
   "metadata": {},
   "source": [
    "Una funci\\'on completamente an\\'aloga para la varianza."
   ]
  },
  {
   "cell_type": "code",
   "execution_count": 52,
   "metadata": {
    "collapsed": false
   },
   "outputs": [
    {
     "data": {
      "text/plain": [
       "three_methods_var (generic function with 1 method)"
      ]
     },
     "execution_count": 52,
     "metadata": {},
     "output_type": "execute_result"
    }
   ],
   "source": [
    "function three_methods_var()\n",
    "    t = Array{Float64}(5,3) # Se inicializa el arreglo.\n",
    "    t1 = 0.0\n",
    "    t2 = 0.0\n",
    "    t3 = 0.0\n",
    "    n = 10\n",
    "    i = 1\n",
    "    while n <= 100000\n",
    "        data = get_data(n) # Se obtienen los n datos.\n",
    "        t1 = @elapsed get_var(data)\n",
    "        t1 = @elapsed get_var(data) # Se ejecutan dos veces los tiempos\n",
    "        # de compilaci\\'on.\n",
    "        t2 = @elapsed var(data)\n",
    "        t2 = @elapsed var(data)\n",
    "        t3 = @elapsed get_var_online(data)\n",
    "        t3 = @elapsed get_var_online(data)\n",
    "        t[i,1] = t1 # Se escriben al arreglo.\n",
    "        t[i,2] = t2\n",
    "        t[i,3] = t3\n",
    "        i = i + 1 # Se aumenta el contador y el orden de magnitud de n.\n",
    "        n = n * 10\n",
    "    end\n",
    "    return t\n",
    "end"
   ]
  },
  {
   "cell_type": "code",
   "execution_count": 53,
   "metadata": {
    "collapsed": false
   },
   "outputs": [
    {
     "data": {
      "text/plain": [
       "5x3 Array{Float64,2}:\n",
       " 1.23e-7      3.7e-7     1.75e-7    \n",
       " 2.81e-7      3.21e-7    1.537e-6   \n",
       " 2.16e-6      1.01e-6    1.5476e-5  \n",
       " 2.0975e-5    8.978e-6   0.000155748\n",
       " 0.000204772  8.7966e-5  0.00155357 "
      ]
     },
     "execution_count": 53,
     "metadata": {},
     "output_type": "execute_result"
    }
   ],
   "source": [
    "var_times = three_methods_var()"
   ]
  },
  {
   "cell_type": "markdown",
   "metadata": {},
   "source": [
    "Teniendo los arreglos podemos graficarlos."
   ]
  },
  {
   "cell_type": "code",
   "execution_count": 78,
   "metadata": {
    "collapsed": false
   },
   "outputs": [
    {
     "data": {
      "image/png": "[encoded data removed]",
      "text/plain": [
       "PyPlot.Figure(PyObject <matplotlib.figure.Figure object at 0x7f6544fc4c50>)"
      ]
     },
     "metadata": {},
     "output_type": "display_data"
    },
    {
     "data": {
      "text/plain": [
       "PyObject <matplotlib.legend.Legend object at 0x7f654485da50>"
      ]
     },
     "execution_count": 78,
     "metadata": {},
     "output_type": "execute_result"
    }
   ],
   "source": [
    "a1 = scatter([1,2,3,4,5],log(avg_times[:,1]),c=\"r\",label = \"get_avg\"); \n",
    "a2 = scatter([1,2,3,4,5],log(avg_times[:,2]), c=\"g\", label = \"mean\"); \n",
    "a3 = scatter([1,2,3,4,5],log(avg_times[:,3]), label = \"get_avg_online\");\n",
    "title(\"Execute time for avg functions\")\n",
    "xlabel(L\"Number of data points $10^{i+1}$\"L)\n",
    "ylabel(L\"$log(t)$ (s)\")\n",
    "legend(handles = [a1,a2,a3],bbox_to_anchor=(1.05, 1), loc=2, borderaxespad=0.)"
   ]
  },
  {
   "cell_type": "markdown",
   "metadata": {},
   "source": [
    "En rojo se ve la implementaci\\'on manual `get_avg`, en verde la funci\\'on de `Julia` `mean` y en azul la implementaci\\'on recursiva `get_avg_online`"
   ]
  },
  {
   "cell_type": "markdown",
   "metadata": {},
   "source": [
    "Claramente, la funci\\'on `mean` tiene el mejor tiempo de ejecuci\\'on pero la implementaci\\'on manual no se queda muy atr\\'as, posiblemente porque es tan sencilla. Para el caso de la varianza se ve un efecto completamente igual:"
   ]
  },
  {
   "cell_type": "code",
   "execution_count": 79,
   "metadata": {
    "collapsed": false
   },
   "outputs": [
    {
     "data": {
      "image/png": "[encoded data removed]",
      "text/plain": [
       "PyPlot.Figure(PyObject <matplotlib.figure.Figure object at 0x7f654565d1d0>)"
      ]
     },
     "metadata": {},
     "output_type": "display_data"
    },
    {
     "data": {
      "text/plain": [
       "PyObject <matplotlib.legend.Legend object at 0x7f65455698d0>"
      ]
     },
     "execution_count": 79,
     "metadata": {},
     "output_type": "execute_result"
    }
   ],
   "source": [
    "b1 = scatter([1,2,3,4,5],log(var_times[:,1]),c=\"r\",label = \"get_var\"); \n",
    "b2 = scatter([1,2,3,4,5],log(var_times[:,2]), c=\"g\", label = \"var\"); \n",
    "b3 = scatter([1,2,3,4,5],log(var_times[:,3]), label = \"get_var_online\");\n",
    "title(\"Execute time for var functions\")\n",
    "xlabel(L\"Number of data points $10^{i+1}$\"L)\n",
    "ylabel(L\"$log(t)$ (s)\")\n",
    "legend(handles = [b1,b2,b3],bbox_to_anchor=(1.05, 1), loc=2, borderaxespad=0.)"
   ]
  },
  {
   "cell_type": "markdown",
   "metadata": {},
   "source": [
    "## 3. M\\'etodo de Simpson"
   ]
  },
  {
   "cell_type": "markdown",
   "metadata": {},
   "source": [
    "La regla de [simpson](https://en.wikipedia.org/wiki/Simpson%27s_rule) dice que si un intervalo $[a,b]$ est\\'a dividido en $n$ subintervalos con $n$ un n\\'umero par, la aproximaci\\'on a la integral de una funci\\'on de una variable est\\' dada como\n",
    "\n",
    "$$\\int_a^b f(x)\\,dx = \\frac{h}{3}\\,\\left(f(a)+2\\,\\sum_{j = 1}^{n/2-1}f(x_{2j})+4\\,\\sum_{j = 1}^{n/2}f(x_{2j-1}) + f(b)\\right) $$\n",
    "\n",
    "donde $h= (b-a)$. La implementaci\\'on es muy clara:"
   ]
  },
  {
   "cell_type": "code",
   "execution_count": 56,
   "metadata": {
    "collapsed": false
   },
   "outputs": [
    {
     "data": {
      "text/plain": [
       "simpson (generic function with 1 method)"
      ]
     },
     "execution_count": 56,
     "metadata": {},
     "output_type": "execute_result"
    }
   ],
   "source": [
    "\"\"\"\n",
    "simpson(f,a,b,n)\n",
    "\n",
    "Se implementa el m\\'etodo de Simpson https://en.wikipedia.org/wiki/Simpson%27s_rule,\n",
    "para la funci\\'on f, integr\\'andola entre los valores reales a y b y dividiendo\n",
    "dicho intervalo en n subintervalos. Si n es par se har\\'an n subintervalos pero si\n",
    "es impar se har\\'an n+1 intervalos pues se requiere un n\\'umero par de subintervalos.\n",
    "Se regresa el valor aproximado de la integral.\n",
    "\"\"\"\n",
    "function simpson(f::Function, a::Real, b::Real, n::Int64)\n",
    "    # Lo primero que hacemos despu\\'es de declarar las variables y ver que\n",
    "    # n no sea menor que cero, es ver si n, el n\\'umero de subintervalos es\n",
    "    #par. Si s\\'i lo es queda igual, si no se aumenta en uno para serlo.\n",
    "    if n <= 0\n",
    "        return Void\n",
    "    end\n",
    "    n = (n % 2 == 0) ? n : n + 1\n",
    "    # Ahora se declara h, la subdivisi\\'on.\n",
    "    h = (b-a)/n\n",
    "    # Del mismo modo, el arreglo de x_1 a x_{n-1}\n",
    "    x_range = a+h:h:b-h\n",
    "    # La integral se inicializa con los valores h*(f(a)+f(b))/3.\n",
    "    i = (f(a)+f(b))*h/3\n",
    "    # Se inicializa una bandera que nos dice si el valor x_i tiene i impar\n",
    "    # o par. Empieza en cero, dicendo que es impar con x_1.\n",
    "    j = 0\n",
    "    # Se realizan las sumas:\n",
    "    for x in x_range\n",
    "        # Primero el caso de x_i con i impar que tiene la suma multiplicada\n",
    "        # por cuatro seg\\'un la f\\'ormula.\n",
    "        if j == 0\n",
    "            i = i + 4*h*f(x)/3\n",
    "            # Se cambia la bandera porque la siguiente x_i tendr\\'a i par.\n",
    "            j = 1\n",
    "            # Se continua con el siguiente ciclo.\n",
    "            continue\n",
    "        end\n",
    "        # Lo mismo pero ahora para las pares.\n",
    "        if j ==1\n",
    "            i = i + 2*h*f(x)/3\n",
    "            j = 0\n",
    "            continue\n",
    "        end\n",
    "    end\n",
    "    # Se regresa la integral.\n",
    "    return i\n",
    "end"
   ]
  },
  {
   "cell_type": "markdown",
   "metadata": {},
   "source": [
    "Probemos para la funci\\'on seno:"
   ]
  },
  {
   "cell_type": "code",
   "execution_count": 57,
   "metadata": {
    "collapsed": false
   },
   "outputs": [
    {
     "data": {
      "text/plain": [
       "f (generic function with 1 method)"
      ]
     },
     "execution_count": 57,
     "metadata": {},
     "output_type": "execute_result"
    }
   ],
   "source": [
    "f(x) = sin(x)"
   ]
  },
  {
   "cell_type": "code",
   "execution_count": 58,
   "metadata": {
    "collapsed": false
   },
   "outputs": [
    {
     "data": {
      "text/plain": [
       "2.0000000108245035"
      ]
     },
     "execution_count": 58,
     "metadata": {},
     "output_type": "execute_result"
    }
   ],
   "source": [
    "simpson(f,0.0,pi,100)"
   ]
  },
  {
   "cell_type": "markdown",
   "metadata": {},
   "source": [
    "Se ve con 100 puntos ya se tiene una aproximaci\\'on hasta la octava cifra decimal, recordemos que el error va como\n",
    "\n",
    "$$\\frac{h^4}{180}\\,(b-a)\\,\\text{max}\\left|f^{(4)}(\\xi)\\right|_{\\xi\\in[a,b]}$$"
   ]
  },
  {
   "cell_type": "markdown",
   "metadata": {},
   "source": [
    "Para el caso anterior, `h = pi/100` y la derivada est\\'a acotada por 1, as\\'i que se predice un error de:"
   ]
  },
  {
   "cell_type": "code",
   "execution_count": 80,
   "metadata": {
    "collapsed": false
   },
   "outputs": [
    {
     "data": {
      "text/plain": [
       "1.7001093599182307e-8"
      ]
     },
     "execution_count": 80,
     "metadata": {},
     "output_type": "execute_result"
    }
   ],
   "source": [
    "(pi/100)^4*pi/180"
   ]
  },
  {
   "cell_type": "markdown",
   "metadata": {},
   "source": [
    "Justo en la octava cifra decimal como se dijo."
   ]
  }
 ],
 "metadata": {
  "kernelspec": {
   "display_name": "Julia 0.4.2",
   "language": "julia",
   "name": "julia-0.4"
  },
  "language_info": {
   "file_extension": ".jl",
   "mimetype": "application/julia",
   "name": "julia",
   "version": "0.4.2"
  }
 },
 "nbformat": 4,
 "nbformat_minor": 0
}
