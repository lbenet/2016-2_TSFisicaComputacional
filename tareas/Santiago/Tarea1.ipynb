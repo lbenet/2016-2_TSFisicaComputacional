{
 "cells": [
  {
   "cell_type": "markdown",
   "metadata": {},
   "source": [
    "# Tarea 1: Raíces cuadráticas\n",
    "## Santiago Ontañón Sánchez"
   ]
  },
  {
   "cell_type": "markdown",
   "metadata": {},
   "source": [
    "Lo primero que se hace es escribir la forma general de la función. Esta considera todos los tipos de casos que pueden suceder para los coeficientes reales `a,b,c.`"
   ]
  },
  {
   "cell_type": "code",
   "execution_count": 1,
   "metadata": {
    "collapsed": false
   },
   "outputs": [
    {
     "data": {
      "text/plain": [
       "cuad (generic function with 1 method)"
      ]
     },
     "execution_count": 1,
     "metadata": {},
     "output_type": "execute_result"
    }
   ],
   "source": [
    "function cuad(a,b,c)\n",
    "    #El discriminante se escribe por convenienza.\n",
    "    d = b^2-4*a*c\n",
    "    #El primer caso a considerar es el caso trivial en que el usuario pone 0x^2+0x+0=0.\n",
    "    if (a == 0) & (b == 0) & (c == 0)\n",
    "        println(\"Solucion trivial con coeficientes cero.\")\n",
    "        \n",
    "    #El segundo caso considera el error en que 0x^2+0x+c=0 con c!=0.\n",
    "    elseif (a == 0) & (b == 0)\n",
    "        println(\"Error, $c = 0.\")\n",
    "    #El tercer caso corresponde a que la ecuación sea sólo de primer orden.    \n",
    "    elseif (a == 0)\n",
    "        #La solución se calcula por simple despeje. Nótese que b está garantizada a ser distinta\n",
    "        #de cero en virtud de los if's anteriores.\n",
    "        x1 = -c/b\n",
    "        println(\"Solucion reducible a un grado, x = $x1\")\n",
    "        #Este es el primer caso que amerita que el programa formalmente dé una solución de output.\n",
    "        return x1\n",
    "    #Habiendo agotado los casos de error o triviales, nos queda ahora la ecuación general ax^2+bx+c=0,\n",
    "    #lo que ahora hay que considerar es si el discriminante es mayor, menor o igual a cero.\n",
    "    #El primer caso considerado es si es cero, provocando una solución de doble multiplicidad.\n",
    "    elseif d == 0\n",
    "        x1 = -b/2*a\n",
    "        println(\"La solucion es de doble multiplicidad: x = $x1\")\n",
    "        #En vista de que hay una única solución, sólo se devuelve ésta.\n",
    "        return x1\n",
    "    #Ahora viene el caso en que el discriminante sea mayor que cero, en tal caso las dos soluciones\n",
    "    #están dadas por la fórmula del \"chicharronero\", mismas que se devuelven en forma de tupla.\n",
    "    elseif d > 0\n",
    "        x1 = (-b+sqrt(d))/2*a\n",
    "        x2 = (-b-sqrt(d))/2*a\n",
    "        println(\"Las soluciones reales son $x1, $x2.\")\n",
    "        return x1, x2\n",
    "    #El caso final es que el discriminante sea menor que cero, las soluciones son complejas conjugadas,\n",
    "    #no es difícil ver que la soluciones tienen parte real -b/2a y parte imaginaria +/-sqrt(-d)/2a.\n",
    "    #Las soluciones se devuelven en forma de doble tupla.\n",
    "    elseif d < 0\n",
    "        x1 = -b/2*a\n",
    "        x1i = sqrt(-d)/2*a\n",
    "        x2 = -b/2*a\n",
    "        x2i = -sqrt(-d)/2*a\n",
    "        println(\"Las soluciones son complejas: x1 = ($x1,$x1i i), x2 = ($x2,$x2i)\")\n",
    "        return ((x1,x1i),(x2,x2i))\n",
    "    end\n",
    "end"
   ]
  },
  {
   "cell_type": "markdown",
   "metadata": {},
   "source": [
    "A continuación un ejemplo para cada caso:"
   ]
  },
  {
   "cell_type": "code",
   "execution_count": 2,
   "metadata": {
    "collapsed": false
   },
   "outputs": [
    {
     "name": "stdout",
     "output_type": "stream",
     "text": [
      "Solucion trivial con coeficientes cero.\n"
     ]
    }
   ],
   "source": [
    "cuad(0,0,0)"
   ]
  },
  {
   "cell_type": "code",
   "execution_count": 3,
   "metadata": {
    "collapsed": false
   },
   "outputs": [
    {
     "data": {
      "text/plain": [
       "Void"
      ]
     },
     "execution_count": 3,
     "metadata": {},
     "output_type": "execute_result"
    }
   ],
   "source": [
    "typeof(ans)"
   ]
  },
  {
   "cell_type": "code",
   "execution_count": 4,
   "metadata": {
    "collapsed": false
   },
   "outputs": [
    {
     "name": "stdout",
     "output_type": "stream",
     "text": [
      "Error, 1 = 0.\n"
     ]
    }
   ],
   "source": [
    "cuad(0,0,1)"
   ]
  },
  {
   "cell_type": "code",
   "execution_count": 5,
   "metadata": {
    "collapsed": false
   },
   "outputs": [
    {
     "data": {
      "text/plain": [
       "Void"
      ]
     },
     "execution_count": 5,
     "metadata": {},
     "output_type": "execute_result"
    }
   ],
   "source": [
    "typeof(ans)"
   ]
  },
  {
   "cell_type": "code",
   "execution_count": 6,
   "metadata": {
    "collapsed": false
   },
   "outputs": [
    {
     "name": "stdout",
     "output_type": "stream",
     "text": [
      "Solucion reducible a un grado, x = -2.0\n"
     ]
    },
    {
     "data": {
      "text/plain": [
       "-2.0"
      ]
     },
     "execution_count": 6,
     "metadata": {},
     "output_type": "execute_result"
    }
   ],
   "source": [
    "cuad(0,1,2)"
   ]
  },
  {
   "cell_type": "code",
   "execution_count": 7,
   "metadata": {
    "collapsed": false
   },
   "outputs": [
    {
     "data": {
      "text/plain": [
       "Float64"
      ]
     },
     "execution_count": 7,
     "metadata": {},
     "output_type": "execute_result"
    }
   ],
   "source": [
    "typeof(ans)"
   ]
  },
  {
   "cell_type": "code",
   "execution_count": 8,
   "metadata": {
    "collapsed": false
   },
   "outputs": [
    {
     "name": "stdout",
     "output_type": "stream",
     "text": [
      "La solucion es de doble multiplicidad: x = -1.0\n"
     ]
    },
    {
     "data": {
      "text/plain": [
       "-1.0"
      ]
     },
     "execution_count": 8,
     "metadata": {},
     "output_type": "execute_result"
    }
   ],
   "source": [
    "cuad(1,2,1)"
   ]
  },
  {
   "cell_type": "code",
   "execution_count": 9,
   "metadata": {
    "collapsed": false
   },
   "outputs": [
    {
     "data": {
      "text/plain": [
       "Float64"
      ]
     },
     "execution_count": 9,
     "metadata": {},
     "output_type": "execute_result"
    }
   ],
   "source": [
    "typeof(ans)"
   ]
  },
  {
   "cell_type": "code",
   "execution_count": 10,
   "metadata": {
    "collapsed": false
   },
   "outputs": [
    {
     "name": "stdout",
     "output_type": "stream",
     "text": [
      "Las soluciones reales son -1.0, -4.0.\n"
     ]
    },
    {
     "data": {
      "text/plain": [
       "(-1.0,-4.0)"
      ]
     },
     "execution_count": 10,
     "metadata": {},
     "output_type": "execute_result"
    }
   ],
   "source": [
    "cuad(1,5,4)"
   ]
  },
  {
   "cell_type": "code",
   "execution_count": 11,
   "metadata": {
    "collapsed": false
   },
   "outputs": [
    {
     "data": {
      "text/plain": [
       "Tuple{Float64,Float64}"
      ]
     },
     "execution_count": 11,
     "metadata": {},
     "output_type": "execute_result"
    }
   ],
   "source": [
    "typeof(ans)"
   ]
  },
  {
   "cell_type": "code",
   "execution_count": 12,
   "metadata": {
    "collapsed": false
   },
   "outputs": [
    {
     "name": "stdout",
     "output_type": "stream",
     "text": [
      "Las soluciones son complejas: x1 = (0.0,1.0 i), x2 = (0.0,-1.0)\n"
     ]
    },
    {
     "data": {
      "text/plain": [
       "((0.0,1.0),(0.0,-1.0))"
      ]
     },
     "execution_count": 12,
     "metadata": {},
     "output_type": "execute_result"
    }
   ],
   "source": [
    "cuad(1,0,1)"
   ]
  },
  {
   "cell_type": "code",
   "execution_count": 13,
   "metadata": {
    "collapsed": false
   },
   "outputs": [
    {
     "data": {
      "text/plain": [
       "Tuple{Tuple{Float64,Float64},Tuple{Float64,Float64}}"
      ]
     },
     "execution_count": 13,
     "metadata": {},
     "output_type": "execute_result"
    }
   ],
   "source": [
    "typeof(ans)"
   ]
  },
  {
   "cell_type": "markdown",
   "metadata": {},
   "source": [
    "Como se puede ver, la función da los resultados correctos. Sin embargo, no es de tipo estable pues tuvimos salidas de muchos tipos, desde `Void` hasta un tuple doble de tipo `Float64`. ¿Cómo arreglamos esto? Lo que se hace es ver si hay un tipo de output que podemos generalizar para todos. Lo que se optó fue tomar la doble tupla. En el caso de que sea un error devuelve `(NaN, NaN),(NaN, NaN)`; en caso de que sea una sola solución real se llena sólo la primera parte de la tupla exterior (indicando que se trata de una solución) y luego sólo la primera parte de la segunda tupla (indicando que sólo tienen parte real); así sucesivamente hasta llegar al caso más general. Esta función la llamamos `cuads`."
   ]
  },
  {
   "cell_type": "code",
   "execution_count": 36,
   "metadata": {
    "collapsed": false
   },
   "outputs": [
    {
     "data": {
      "text/plain": [
       "cuads (generic function with 1 method)"
      ]
     },
     "execution_count": 36,
     "metadata": {},
     "output_type": "execute_result"
    }
   ],
   "source": [
    "\"\"\"\n",
    "cuads(a,b,c)\n",
    "\n",
    "Función que recibe entradas reales a,b,c y resuleve la ecuación cuadrática a*x^2+b*x+c=0.\n",
    "**Si las entradas no son de tipo `Float64` no se acepta la entrada**. Es decir, entradas\n",
    "como cuads(1,2,1), cuads(BigFloat(1.0),2.0,1.0) y cuads(\"string\",0.0,1.0) son inválidas.\n",
    "Dependiendo de las combinaciones de entradas pueden existir dos soluciones complejas, dos\n",
    "soluciones reales, una solución real o ninguna.\n",
    "\n",
    "Sin importar los tipos de entrada, la salida es una doble tupla \n",
    "`Tuple{Tuple{Float64,Float64},Tuple{Float64,Float64}}`, de tal manera que en la primera parte\n",
    "`Tuple{Float64,Float64}` se ponga la primera o única solución de la forma `ParteReal, ParteIm`\n",
    "y en la segunda `Tuple{Float64,Float64}` se ponga la otra solución. Si no existe segunda \n",
    "solución o ninguna, se devuelve cada tupla con la forma `NaN, NaN`.\n",
    "\n",
    "Ejemplos:\n",
    "\n",
    "julia> cuads(0,0,0)\n",
    "\n",
    "Solucion trivial con coeficientes cero.\n",
    "\n",
    "((NaN,NaN),(NaN,NaN))\n",
    "\n",
    "julia> cuads(0,1,-1)\n",
    "\n",
    "Solucion reducible a un grado, x = 1.0\n",
    "\n",
    "((1.0,0.0)),(NaN,NaN))\n",
    "\n",
    "julia> cuads(1,0,1)\n",
    "\n",
    "Las soluciones son complejas: x1 = (0.0,1.0 i), x2 = (0.0, -1.0 i)\n",
    "\n",
    "((0.0,1.0),(0.0,-1.0))\n",
    "\n",
    "\"\"\"\n",
    "#Como se puede ver arriba, la función está documentada con ejemplos y especificaciones de tipo.\n",
    "\n",
    "function cuads{T <: Float64}(a::T,b::T,c::T)\n",
    "    #La primera diferencia entre cuads y cuad es que ahora los tipos de a,b,c están expresamente restringidos\n",
    "    #a tipos de Float64. Esto pero prohíbe entradas como cuads(0,1,2), cuads(BigFloat(1.0),0,1.0) o cuads(\"string\",0.0,var_undef).\n",
    "    \n",
    "    #Nótese que ahora el discriminante (y todos los factores numéricos subsecuentes) están escritos de\n",
    "    #forma en que sean operaciones entre Float64's exclusivamente: 2->2.0, etc.\n",
    "    d = b^2.0-4.0*a*c\n",
    "    #La inspección de casos por medio de if's es completamente ig)al al código anterior.\n",
    "    if (a == 0.0) & (b == 0.0) & (c == 0.0)\n",
    "        println(\"Solucion trivial con coeficientes cero.\")\n",
    "        #Véase que ahora se pide explícitamente que aún en el caso de error o solución trivial se devuelva\n",
    "        #algo (cómparse con el código anterior donde no había return en este caso, sólo un mensaje). Lo que\n",
    "        #se devuelve es la doble tupla ((NaN,NaN),(NaN,NaN)). En la documentación se aclara que esto se \n",
    "        #debe interpretar como justo un error. De todas formas, no se ha eliminado el mensaje para que el\n",
    "        #usuario tenga mayor facilidad de interpretación.\n",
    "        return ((NaN,NaN),(NaN,NaN))\n",
    "    elseif (a == 0.0) & (b == 0.0)\n",
    "        println(\"Error, $c = 0.\")\n",
    "        #Análogamente, este caso también se considera un error pero el mensaje de salida puede ayudar a la\n",
    "        #ambigüedad con respecto al caso anterior.\n",
    "        return ((NaN,NaN),(NaN,NaN))\n",
    "    elseif (a == 0.0)\n",
    "        x1 = -c/b\n",
    "        println(\"Solucion reducible a un grado, x = $x1\")\n",
    "        #Como en esta instancia sólo hay una solución, se llena sólo la primera parte de la tupla. La solución\n",
    "        #es puramente real, así que la parte imaginaria se llena con cero.\n",
    "        return ((x1,0.0),(NaN,NaN))\n",
    "    elseif d == 0.0\n",
    "        x1 = -b/2.0*a\n",
    "        println(\"La solucion es de doble multiplicidad: x = $x1\")\n",
    "        #La solución es de doble multiplicidad pero completamente real, la tupla se llena como se espera.\n",
    "        return ((x1,0.0),(x1,0.0))\n",
    "    elseif d > 0.0\n",
    "        x1 = (-b+sqrt(d))/2.0*a\n",
    "        x2 = (-b-sqrt(d))/2.0*a\n",
    "        println(\"Las soluciones reales son $x1, $x2.\")\n",
    "        #Nada mucho por aclarar, lo que se espera.\n",
    "        return ((x1,0.0),(x2,0.0))\n",
    "    elseif d < 0.0\n",
    "        x1 = -b/2.0*a\n",
    "        x1i = sqrt(-d)/2.0*a\n",
    "        x2 = -b/2.0*a\n",
    "        x2i = -sqrt(-d)/2.0*a\n",
    "        #Ídem.\n",
    "        println(\"Las soluciones son complejas: x1 = ($x1,$x1i i), x2 = ($x2,$x2i i)\")\n",
    "        return ((x1,x1i),(x2,x2i))\n",
    "    end\n",
    "end"
   ]
  },
  {
   "cell_type": "markdown",
   "metadata": {},
   "source": [
    "Nótese que aquí se ha añadido otro paso importante: las variables `a,b,c` ahora se exijen ser `Float64` y todas las operaciones, tanto de comparación como de aritmética tienen los factores numéricos de forma `Float64` explícitamente. Así los tipos se mantienen estables y siempre son `Float64` **sin importar el tipo de entrada**.\n",
    "\n",
    "A continuación los mismos ejemplos pero ahora con la función mejorada. Nótese que todas las salidas son del mismo tipo:"
   ]
  },
  {
   "cell_type": "code",
   "execution_count": 19,
   "metadata": {
    "collapsed": false
   },
   "outputs": [
    {
     "name": "stdout",
     "output_type": "stream",
     "text": [
      "Solucion trivial con coeficientes cero.\n"
     ]
    },
    {
     "data": {
      "text/plain": [
       "((NaN,NaN),(NaN,NaN))"
      ]
     },
     "execution_count": 19,
     "metadata": {},
     "output_type": "execute_result"
    }
   ],
   "source": [
    "cuads(0.0,0.0,0.0)"
   ]
  },
  {
   "cell_type": "code",
   "execution_count": 20,
   "metadata": {
    "collapsed": false
   },
   "outputs": [
    {
     "data": {
      "text/plain": [
       "Tuple{Tuple{Float64,Float64},Tuple{Float64,Float64}}"
      ]
     },
     "execution_count": 20,
     "metadata": {},
     "output_type": "execute_result"
    }
   ],
   "source": [
    "typeof(ans)"
   ]
  },
  {
   "cell_type": "code",
   "execution_count": 21,
   "metadata": {
    "collapsed": false
   },
   "outputs": [
    {
     "name": "stdout",
     "output_type": "stream",
     "text": [
      "Error, 1.0 = 0.\n"
     ]
    },
    {
     "data": {
      "text/plain": [
       "((NaN,NaN),(NaN,NaN))"
      ]
     },
     "execution_count": 21,
     "metadata": {},
     "output_type": "execute_result"
    }
   ],
   "source": [
    "cuads(0.0,0.0,1.0)"
   ]
  },
  {
   "cell_type": "code",
   "execution_count": 22,
   "metadata": {
    "collapsed": false
   },
   "outputs": [
    {
     "data": {
      "text/plain": [
       "Tuple{Tuple{Float64,Float64},Tuple{Float64,Float64}}"
      ]
     },
     "execution_count": 22,
     "metadata": {},
     "output_type": "execute_result"
    }
   ],
   "source": [
    "typeof(ans)"
   ]
  },
  {
   "cell_type": "code",
   "execution_count": 23,
   "metadata": {
    "collapsed": false
   },
   "outputs": [
    {
     "name": "stdout",
     "output_type": "stream",
     "text": [
      "Solucion reducible a un grado, x = 1.0\n"
     ]
    },
    {
     "data": {
      "text/plain": [
       "((1.0,0.0),(NaN,NaN))"
      ]
     },
     "execution_count": 23,
     "metadata": {},
     "output_type": "execute_result"
    }
   ],
   "source": [
    "cuads(0.0,1.0,-1.0)"
   ]
  },
  {
   "cell_type": "code",
   "execution_count": 24,
   "metadata": {
    "collapsed": false
   },
   "outputs": [
    {
     "data": {
      "text/plain": [
       "Tuple{Tuple{Float64,Float64},Tuple{Float64,Float64}}"
      ]
     },
     "execution_count": 24,
     "metadata": {},
     "output_type": "execute_result"
    }
   ],
   "source": [
    "typeof(ans)"
   ]
  },
  {
   "cell_type": "code",
   "execution_count": 25,
   "metadata": {
    "collapsed": false
   },
   "outputs": [
    {
     "name": "stdout",
     "output_type": "stream",
     "text": [
      "La solucion es de doble multiplicidad: x = -1.0\n"
     ]
    },
    {
     "data": {
      "text/plain": [
       "((-1.0,0.0),(-1.0,0.0))"
      ]
     },
     "execution_count": 25,
     "metadata": {},
     "output_type": "execute_result"
    }
   ],
   "source": [
    "cuads(1.0,2.0,1.0)"
   ]
  },
  {
   "cell_type": "code",
   "execution_count": 26,
   "metadata": {
    "collapsed": false
   },
   "outputs": [
    {
     "data": {
      "text/plain": [
       "Tuple{Tuple{Float64,Float64},Tuple{Float64,Float64}}"
      ]
     },
     "execution_count": 26,
     "metadata": {},
     "output_type": "execute_result"
    }
   ],
   "source": [
    "typeof(ans)"
   ]
  },
  {
   "cell_type": "code",
   "execution_count": 27,
   "metadata": {
    "collapsed": false
   },
   "outputs": [
    {
     "name": "stdout",
     "output_type": "stream",
     "text": [
      "Las soluciones reales son -1.0, -4.0.\n"
     ]
    },
    {
     "data": {
      "text/plain": [
       "((-1.0,0.0),(-4.0,0.0))"
      ]
     },
     "execution_count": 27,
     "metadata": {},
     "output_type": "execute_result"
    }
   ],
   "source": [
    "cuads(1.0,5.0,4.0)"
   ]
  },
  {
   "cell_type": "code",
   "execution_count": 28,
   "metadata": {
    "collapsed": false
   },
   "outputs": [
    {
     "data": {
      "text/plain": [
       "Tuple{Tuple{Float64,Float64},Tuple{Float64,Float64}}"
      ]
     },
     "execution_count": 28,
     "metadata": {},
     "output_type": "execute_result"
    }
   ],
   "source": [
    "typeof(ans)"
   ]
  },
  {
   "cell_type": "code",
   "execution_count": 29,
   "metadata": {
    "collapsed": false
   },
   "outputs": [
    {
     "name": "stdout",
     "output_type": "stream",
     "text": [
      "Las soluciones son complejas: x1 = (-0.0,1.0 i), x2 = (-0.0,-1.0 i)\n"
     ]
    },
    {
     "data": {
      "text/plain": [
       "((-0.0,1.0),(-0.0,-1.0))"
      ]
     },
     "execution_count": 29,
     "metadata": {},
     "output_type": "execute_result"
    }
   ],
   "source": [
    "cuads(1.0,0.0,1.0)"
   ]
  },
  {
   "cell_type": "code",
   "execution_count": 30,
   "metadata": {
    "collapsed": false
   },
   "outputs": [
    {
     "data": {
      "text/plain": [
       "Tuple{Tuple{Float64,Float64},Tuple{Float64,Float64}}"
      ]
     },
     "execution_count": 30,
     "metadata": {},
     "output_type": "execute_result"
    }
   ],
   "source": [
    "typeof(ans)"
   ]
  },
  {
   "cell_type": "markdown",
   "metadata": {},
   "source": [
    "Como se puede ver en la declaración de la función, tiene su propia documentación que se puede acceder:"
   ]
  },
  {
   "cell_type": "code",
   "execution_count": 37,
   "metadata": {
    "collapsed": false
   },
   "outputs": [
    {
     "name": "stdout",
     "output_type": "stream",
     "text": [
      "search: "
     ]
    },
    {
     "data": {
      "text/latex": [
       "cuads(a,b,c)\n",
       "Función que recibe entradas reales a,b,c y resuleve la ecuación cuadrática a\\emph{x\\^{}2+b}x+c=0. \\textbf{Si las entradas no son de tipo \\texttt{Float64} no se acepta la entrada}. Es decir, entradas como cuads(1,2,1), cuads(BigFloat(1.0),2.0,1.0) y cuads(\"string\",0.0,1.0) son inválidas. Dependiendo de las combinaciones de entradas pueden existir dos soluciones complejas, dos soluciones reales, una solución real o ninguna.\n",
       "Sin importar los tipos de entrada, la salida es una doble tupla  \\texttt{Tuple{Tuple{Float64,Float64},Tuple{Float64,Float64}}}, de tal manera que en la primera parte \\texttt{Tuple{Float64,Float64}} se ponga la primera o única solución de la forma \\texttt{ParteReal, ParteIm} y en la segunda \\texttt{Tuple{Float64,Float64}} se ponga la otra solución. Si no existe segunda  solución o ninguna, se devuelve cada tupla con la forma \\texttt{NaN, NaN}.\n",
       "Ejemplos:\n",
       "julia> cuads(0,0,0)\n",
       "Solucion trivial con coeficientes cero.\n",
       "((NaN,NaN),(NaN,NaN))\n",
       "julia> cuads(0,1,-1)\n",
       "Solucion reducible a un grado, x = 1.0\n",
       "((1.0,0.0)),(NaN,NaN))\n",
       "julia> cuads(1,0,1)\n",
       "Las soluciones son complejas: x1 = (0.0,1.0 i), x2 = (0.0, -1.0 i)\n",
       "((0.0,1.0),(0.0,-1.0))\n"
      ],
      "text/markdown": [
       "cuads(a,b,c)\n",
       "\n",
       "Función que recibe entradas reales a,b,c y resuleve la ecuación cuadrática a*x^2+b*x+c=0. **Si las entradas no son de tipo `Float64` no se acepta la entrada**. Es decir, entradas como cuads(1,2,1), cuads(BigFloat(1.0),2.0,1.0) y cuads(\"string\",0.0,1.0) son inválidas. Dependiendo de las combinaciones de entradas pueden existir dos soluciones complejas, dos soluciones reales, una solución real o ninguna.\n",
       "\n",
       "Sin importar los tipos de entrada, la salida es una doble tupla  `Tuple{Tuple{Float64,Float64},Tuple{Float64,Float64}}`, de tal manera que en la primera parte `Tuple{Float64,Float64}` se ponga la primera o única solución de la forma `ParteReal, ParteIm` y en la segunda `Tuple{Float64,Float64}` se ponga la otra solución. Si no existe segunda  solución o ninguna, se devuelve cada tupla con la forma `NaN, NaN`.\n",
       "\n",
       "Ejemplos:\n",
       "\n",
       "julia> cuads(0,0,0)\n",
       "\n",
       "Solucion trivial con coeficientes cero.\n",
       "\n",
       "((NaN,NaN),(NaN,NaN))\n",
       "\n",
       "julia> cuads(0,1,-1)\n",
       "\n",
       "Solucion reducible a un grado, x = 1.0\n",
       "\n",
       "((1.0,0.0)),(NaN,NaN))\n",
       "\n",
       "julia> cuads(1,0,1)\n",
       "\n",
       "Las soluciones son complejas: x1 = (0.0,1.0 i), x2 = (0.0, -1.0 i)\n",
       "\n",
       "((0.0,1.0),(0.0,-1.0))\n"
      ],
      "text/plain": [
       "cuads(a,b,c)\n",
       "\n",
       "Función que recibe entradas reales a,b,c y resuleve la ecuación cuadrática a*x^2+b*x+c=0. **Si las entradas no son de tipo `Float64` no se acepta la entrada**. Es decir, entradas como cuads(1,2,1), cuads(BigFloat(1.0),2.0,1.0) y cuads(\"string\",0.0,1.0) son inválidas. Dependiendo de las combinaciones de entradas pueden existir dos soluciones complejas, dos soluciones reales, una solución real o ninguna.\n",
       "\n",
       "Sin importar los tipos de entrada, la salida es una doble tupla  `Tuple{Tuple{Float64,Float64},Tuple{Float64,Float64}}`, de tal manera que en la primera parte `Tuple{Float64,Float64}` se ponga la primera o única solución de la forma `ParteReal, ParteIm` y en la segunda `Tuple{Float64,Float64}` se ponga la otra solución. Si no existe segunda  solución o ninguna, se devuelve cada tupla con la forma `NaN, NaN`.\n",
       "\n",
       "Ejemplos:\n",
       "\n",
       "julia> cuads(0,0,0)\n",
       "\n",
       "Solucion trivial con coeficientes cero.\n",
       "\n",
       "((NaN,NaN),(NaN,NaN))\n",
       "\n",
       "julia> cuads(0,1,-1)\n",
       "\n",
       "Solucion reducible a un grado, x = 1.0\n",
       "\n",
       "((1.0,0.0)),(NaN,NaN))\n",
       "\n",
       "julia> cuads(1,0,1)\n",
       "\n",
       "Las soluciones son complejas: x1 = (0.0,1.0 i), x2 = (0.0, -1.0 i)\n",
       "\n",
       "((0.0,1.0),(0.0,-1.0))\n"
      ]
     },
     "execution_count": 37,
     "metadata": {},
     "output_type": "execute_result"
    },
    {
     "name": "stdout",
     "output_type": "stream",
     "text": [
      "cuads cuad\n",
      "\n"
     ]
    }
   ],
   "source": [
    "?cuads"
   ]
  },
  {
   "cell_type": "code",
   "execution_count": null,
   "metadata": {
    "collapsed": true
   },
   "outputs": [],
   "source": []
  }
 ],
 "metadata": {
  "kernelspec": {
   "display_name": "Julia 0.4.2",
   "language": "julia",
   "name": "julia-0.4"
  },
  "language_info": {
   "file_extension": ".jl",
   "mimetype": "application/julia",
   "name": "julia",
   "version": "0.4.2"
  }
 },
 "nbformat": 4,
 "nbformat_minor": 0
}
