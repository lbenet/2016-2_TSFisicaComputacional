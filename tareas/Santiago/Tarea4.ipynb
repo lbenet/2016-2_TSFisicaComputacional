{
 "cells": [
  {
   "cell_type": "markdown",
   "metadata": {},
   "source": [
    "# Tarea 4\n",
    "### Luis Armando Pérez: luisarpere@gmail.com, github:LuisArmandoPerez\n",
    "### Luis Felipe Gomez López: L.Felipe_Gomez@ciencias.com.mx, github:LFelipeGomez\n",
    "### Santiago Ontañón Sánchez: sontanon@gmail.com, github:sontanon"
   ]
  },
  {
   "cell_type": "markdown",
   "metadata": {
    "slideshow": {
     "slide_type": "slide"
    }
   },
   "source": [
    "# Diferenciación automática (o algorítmica): Parte 1"
   ]
  },
  {
   "cell_type": "markdown",
   "metadata": {
    "slideshow": {
     "slide_type": "-"
    }
   },
   "source": [
    "### NOTA\n",
    "\n",
    "Este notebook se iniciará en la clase y **debe** hacerse en equipo de dos personas (máximo tres). La resolución completa de los ejercicios debe ser enviada como \"Tarea4.ipynb\"."
   ]
  },
  {
   "cell_type": "markdown",
   "metadata": {
    "slideshow": {
     "slide_type": "slide"
    }
   },
   "source": [
    "## Motivación"
   ]
  },
  {
   "cell_type": "markdown",
   "metadata": {
    "slideshow": {
     "slide_type": "-"
    }
   },
   "source": [
    "En el [notebook anterior](https://github.com/lbenet/2016-2_TSFisicaComputacional/blob/master/notas_clase/06_Derivacion_numerica.ipynb), vimos que hay diferentes formas de implementar la derivación de una función $f(x)$ en un punto $x_0$ y que éstas dependen de un parámetro $h$, que es la separación entre puntos cercanos. \n",
    "\n",
    "Vimos que el error absoluto en términos de $h$, cuando $h\\to 0$, tiene un comportamiento distinto, y que de hecho puede ser \"contaminado\" por errores de numéricos."
   ]
  },
  {
   "cell_type": "markdown",
   "metadata": {
    "slideshow": {
     "slide_type": "subslide"
    }
   },
   "source": [
    "Se obtuvo que:\n",
    "\n",
    "- La \"derivada derecha\" converge *linealmente* al $h\\to 0$ al valor correcto de la derivada, es decir, el error es proporcional a $\\mathcal{O}(h)$. Sin embargo, para valores *suficientemente* pequeños de $h$, el valor obtenido de la derivada deja de tener sentido ya que pierde exactitud.\n",
    "\n",
    "- La \"derivada simétrica\" converge *cuadráticamente*, es decir, el error escala como $\\mathcal{O}(h^2)$. Al igual que la derivada derecha, para $h$ suficientemente pequeña errores \"de cancelación\" debidos a la diferencia en la definición hacen que el resultado pierda sentido.\n",
    "\n",
    "- La definición de la \"derivada compleja\" también converge *cuadráticamente*; a diferencia de las dos definiciones anteriores *no* exhibe problemas al considerar valores de $h$ muy pequeños."
   ]
  },
  {
   "cell_type": "markdown",
   "metadata": {
    "slideshow": {
     "slide_type": "subslide"
    }
   },
   "source": [
    "Los puntos anteriores muestran que, la manera de implementar un algoritmo (concreto) cualquiera en la computadora es importante respecto a cuestiones de la convergencia y del manejo de errores numéricos. En este sentido, la \"derivada compleja\" da el resultado que más se acerca al exacto, incluso para valores de $h \\sim 10.^{-16}$."
   ]
  },
  {
   "cell_type": "markdown",
   "metadata": {
    "slideshow": {
     "slide_type": "fragment"
    }
   },
   "source": [
    "La pregunta es si podemos ir más allá y obtener el valor exacto, esto es, el que más se acerca al valor obtenido con números reales excepto por cuestiones de redondeo."
   ]
  },
  {
   "cell_type": "markdown",
   "metadata": {
    "slideshow": {
     "slide_type": "slide"
    }
   },
   "source": [
    "## Diferenciación automática (o algorítmica)"
   ]
  },
  {
   "cell_type": "markdown",
   "metadata": {},
   "source": [
    "Citando a [wikipedia](https://en.wikipedia.org/wiki/Automatic_differentiation): ``Automatic differentiation (AD), also called algorithmic differentiation or computational differentiation, is a set of techniques to numerically evaluate the derivative of a function specified by a computer program.''\n",
    "\n",
    "Diferenciación automática **no es** diferenciación numérica. Está basada en cálculos numéricos (evaluación de funciones por la computadora), pero **no** usa ninguna de las definiciones por diferencias finitas, como las que vimos la clase anterior."
   ]
  },
  {
   "cell_type": "markdown",
   "metadata": {
    "slideshow": {
     "slide_type": "subslide"
    }
   },
   "source": [
    "Para ilustrar su funcionamiento, empezaremos recordando cómo funcionan los números complejos: $z = a + \\mathrm{i} b$.\n",
    "\n",
    "Uno puede definir todas las operaciones aritméticas de la manera natural (a partir de los números reales), manteniendo las expresiones con $\\mathrm{i}$ factorizada; en el caso de la multiplicación y división, simplemente recordamos que $\\mathrm{i}^2=-1$."
   ]
  },
  {
   "cell_type": "markdown",
   "metadata": {
    "slideshow": {
     "slide_type": "fragment"
    }
   },
   "source": [
    "Por ejemplo, tenemos que, para $z = a + \\mathrm{i} b$ y $w = c + \\mathrm{i} d$\n",
    "\\begin{eqnarray*}\n",
    "z + w & = & (a + \\mathrm{i} b) + (c + \\mathrm{i} d) = a + c + \\mathrm{i}(b + d),\\\\\n",
    "z \\cdot w & = & (a + \\mathrm{i} b)\\cdot (c + \\mathrm{i} d) \\\\\n",
    "  & = & ac + \\mathrm{i} (ad+bc) + \\mathrm{i}^2 b d\n",
    " = ac - b d + \\mathrm{i} (ad+bc).\n",
    "\\end{eqnarray*}\n",
    "\n",
    "Por último, vale también la pena recordar que, $\\mathbb{C}$ es *isomorfo* a $\\mathbb{R}^2$, esto es, hay un mapeo biyectivo de $ z \\leftrightarrow (a, b)$."
   ]
  },
  {
   "cell_type": "markdown",
   "metadata": {
    "slideshow": {
     "slide_type": "subslide"
    }
   },
   "source": [
    "Volviendo a la cuestión de la diferenciación automática, la idea es introducir un par ordenado donde la primer\n",
    "componente es el valor de una función $f(x)$ evaluada en $x_0$, y la segunda es el valor de su derivada evaluada\n",
    "en el mismo punto. Esto es, definimos a los *duales* como:\n",
    "\n",
    "\\begin{equation}\n",
    "\\vec{f}(x_0) = \\big( f_0, f'_0\\big) = f_0 + \\hat{\\mathbf{x}}\\, f'_0,\n",
    "\\end{equation}\n",
    "\n",
    "donde $f_0 = f(x_0)$ y $f'_0=\\frac{d f}{d x}(x_0)$ y, en la segunda igualdad, $\\hat{\\mathbf{x}}$ sirve para indicar la segunda componente del par ordenado. (En un sentido que se precisará más adelante, $\\hat{\\mathbf{x}}$ se comporta de una manera semejante a $\\mathrm{i}$ para los números complejos, distinguiéndose en $\\hat{\\mathbf{x}}^2$.)"
   ]
  },
  {
   "cell_type": "markdown",
   "metadata": {
    "slideshow": {
     "slide_type": "subslide"
    }
   },
   "source": [
    "En particular, para la función constante $f(x)=c$ se cumple que el dual asociado es $\\vec{c}(x_0)=(c,0)$, y para la función identidad $f(x)=x$ obtenemos $\\vec{x}(x_0)=(x_0,1)$. Vale la pena aquí enfatizar que la función identidad es precisamente la variable independiente, respecto a la que se está derivando."
   ]
  },
  {
   "cell_type": "markdown",
   "metadata": {
    "slideshow": {
     "slide_type": "slide"
    }
   },
   "source": [
    "### Ejercicio\n",
    "\n",
    "Implementen una nueva estructura paramétrica (`type`) que defina los duales, donde el parámetro debe ser un subtipo de `Real` (ver la siguiente celda). La parte que identifica a $f_0$ será llamada `fun`, y la correspondiente a $f'_0$ será `der`.\n",
    "\n",
    "La definición debe incluir métodos que sean compatibles con las dos propiedades arriba mencionadas, es decir, que el dual de una constante (cualquier número real) sea $(c,0)$, y que el de la variable independiente sea $(x_0,1)$. Para lo segundo definiremos una función `xdual` con la propiedad mencionada."
   ]
  },
  {
   "cell_type": "code",
   "execution_count": 1,
   "metadata": {
    "collapsed": true
   },
   "outputs": [],
   "source": [
    "workspace()"
   ]
  },
  {
   "cell_type": "code",
   "execution_count": 2,
   "metadata": {
    "collapsed": false
   },
   "outputs": [],
   "source": [
    "\"\"\"\n",
    "Dual\n",
    "\n",
    "Es un tipo parametrizado por subtipos Reales. Posee entradas fun y der.\n",
    "\"\"\"\n",
    "type Dual{T<:Real}\n",
    "    # Se declara el parámetro y las entradas fun y der.\n",
    "    fun::T\n",
    "    der::T\n",
    "end"
   ]
  },
  {
   "cell_type": "markdown",
   "metadata": {},
   "source": [
    "Como se puede ver, no podemos meter cualquier cosa en nuestra `Dual`:"
   ]
  },
  {
   "cell_type": "code",
   "execution_count": 3,
   "metadata": {
    "collapsed": false
   },
   "outputs": [
    {
     "ename": "LoadError",
     "evalue": "LoadError: MethodError: `convert` has no method matching convert(::Type{Dual{T<:Real}}, ::ASCIIString, ::Float64)\nThis may have arisen from a call to the constructor Dual{T<:Real}(...),\nsince type constructors fall back to convert methods.\nClosest candidates are:\n  Dual{T<:Real}(!Matched::T<:Real, ::T<:Real)\n  call{T}(::Type{T}, ::Any)\n  convert{T}(::Type{T}, !Matched::T)\nwhile loading In[3], in expression starting on line 1",
     "output_type": "error",
     "traceback": [
      "LoadError: MethodError: `convert` has no method matching convert(::Type{Dual{T<:Real}}, ::ASCIIString, ::Float64)\nThis may have arisen from a call to the constructor Dual{T<:Real}(...),\nsince type constructors fall back to convert methods.\nClosest candidates are:\n  Dual{T<:Real}(!Matched::T<:Real, ::T<:Real)\n  call{T}(::Type{T}, ::Any)\n  convert{T}(::Type{T}, !Matched::T)\nwhile loading In[3], in expression starting on line 1",
      "",
      " in call at essentials.jl:57"
     ]
    }
   ],
   "source": [
    "typeof(Dual(\"Santiago\",1.0...))"
   ]
  },
  {
   "cell_type": "code",
   "execution_count": 4,
   "metadata": {
    "collapsed": false
   },
   "outputs": [
    {
     "data": {
      "text/plain": [
       "Dual{T<:Real}"
      ]
     },
     "execution_count": 4,
     "metadata": {},
     "output_type": "execute_result"
    }
   ],
   "source": [
    "# Con este método se promueven fun y der para ser del mismo tipo usando\n",
    "# promote y luego usando un splat dentro del tipo Dual\n",
    "Dual(fun,der) = Dual(promote(fun, der)...)"
   ]
  },
  {
   "cell_type": "markdown",
   "metadata": {},
   "source": [
    "Por ejemplo, si metemos pi que es de tipo irracional y 1 de tipo entero:"
   ]
  },
  {
   "cell_type": "code",
   "execution_count": 5,
   "metadata": {
    "collapsed": false
   },
   "outputs": [
    {
     "data": {
      "text/plain": [
       "Dual{Float64}(3.141592653589793,1.0)"
      ]
     },
     "execution_count": 5,
     "metadata": {},
     "output_type": "execute_result"
    }
   ],
   "source": [
    "Dual(pi, 1)"
   ]
  },
  {
   "cell_type": "markdown",
   "metadata": {},
   "source": [
    "Se ve que el Dual ya tiene los mismos subtipos `Float64`."
   ]
  },
  {
   "cell_type": "code",
   "execution_count": 6,
   "metadata": {
    "collapsed": false
   },
   "outputs": [
    {
     "data": {
      "text/plain": [
       "Dual{T<:Real}"
      ]
     },
     "execution_count": 6,
     "metadata": {},
     "output_type": "execute_result"
    }
   ],
   "source": [
    "# Aqui se define un método que garantiza que el dual de un número cumple lo requerido\n",
    "Dual(a::Real) = Dual(a,0...)"
   ]
  },
  {
   "cell_type": "markdown",
   "metadata": {},
   "source": [
    "Por ejemplo:"
   ]
  },
  {
   "cell_type": "code",
   "execution_count": 7,
   "metadata": {
    "collapsed": false
   },
   "outputs": [
    {
     "data": {
      "text/plain": [
       "Dual{Float64}(3.141592653589793,0.0)"
      ]
     },
     "execution_count": 7,
     "metadata": {},
     "output_type": "execute_result"
    }
   ],
   "source": [
    "Dual(pi)"
   ]
  },
  {
   "cell_type": "code",
   "execution_count": 8,
   "metadata": {
    "collapsed": false
   },
   "outputs": [
    {
     "data": {
      "text/plain": [
       "xdual (generic function with 1 method)"
      ]
     },
     "execution_count": 8,
     "metadata": {},
     "output_type": "execute_result"
    }
   ],
   "source": [
    "# Aqui se define la función `xdual`, que se usará para identificar la variable independiente\n",
    "function xdual(x)\n",
    "    return Dual(x, 1...) # Como consiste en la variable independiente, es la identidad.\n",
    "end"
   ]
  },
  {
   "cell_type": "markdown",
   "metadata": {},
   "source": [
    "Una prueba sencilla:"
   ]
  },
  {
   "cell_type": "code",
   "execution_count": 9,
   "metadata": {
    "collapsed": false
   },
   "outputs": [
    {
     "data": {
      "text/plain": [
       "Dual{Float64}(2.0,1.0)"
      ]
     },
     "execution_count": 9,
     "metadata": {},
     "output_type": "execute_result"
    }
   ],
   "source": [
    "xdual(2.0)"
   ]
  },
  {
   "cell_type": "code",
   "execution_count": 10,
   "metadata": {
    "collapsed": false,
    "slideshow": {
     "slide_type": "subslide"
    }
   },
   "outputs": [],
   "source": [
    "# Muestren que su código funciona con tests adecuados; para los detalles ver \n",
    "# http://julia.readthedocs.org/en/release-0.4/stdlib/test/\n",
    "using Base.Test\n",
    "x2 = xdual(2.0)\n",
    "# Aqui vienen varios tests de cada una de las funciones que implementaron. \n",
    "# Para ver más pruebas consulte el archivo anexo runtest.jl\n",
    "@test x2.fun == 2.0\n",
    "@test x2.der == 1.0\n",
    "\n",
    "x3 = xdual(2.0+pi)\n",
    "@test x3.fun == (2.0 + pi)\n",
    "@test x3.der == 1.0\n",
    "\n",
    "x4 = Dual(7.9)\n",
    "@test x4.fun == 7.9\n",
    "@test x4.der == 0.0"
   ]
  },
  {
   "cell_type": "markdown",
   "metadata": {
    "slideshow": {
     "slide_type": "slide"
    }
   },
   "source": [
    "## Aritmética de duales"
   ]
  },
  {
   "cell_type": "markdown",
   "metadata": {},
   "source": [
    "De la definición, y recordando el significado de cada una de las componentes del par doble, tenemos que las operaciones aritméticas quedan definidas por:\n",
    "\n",
    "\\begin{eqnarray}\n",
    "    \\vec{u} \\pm \\vec{w} &=& \\big( u_0 \\pm w_0,\\, u'_0\\pm w'_0 \\big),\\\\\n",
    "    \\vec{u} \\times \\vec{w} &=& \\big( u_0 \\cdot w_0,\\, u_0 w'_0 +  w_0 u'_0 \\big),\\\\\n",
    "    \\frac{\\vec{u}}{\\vec{w}} &=& \\big( \\frac{u_0}{w_0},\\, \\frac{ u'_0 - (u_0/w_0)w'_0}{w_0}\\big),\\\\\n",
    "    {\\vec{u}}^\\alpha &=& \\big( u_0^\\alpha,\\, \\alpha u_0^{\\alpha-1} u'_0 \\big).\\\\\n",
    "\\end{eqnarray}    \n",
    "\n",
    "Además, están los operadores unitarios, que satisfacen:\n",
    "\\begin{equation}\n",
    "    \\pm \\vec{u} = \\big(\\pm u_0, \\pm u'_0 \\big).\n",
    "\\end{equation}    \n"
   ]
  },
  {
   "cell_type": "markdown",
   "metadata": {
    "slideshow": {
     "slide_type": "slide"
    }
   },
   "source": [
    "### Ejercicio\n",
    "\n",
    "Implementen *todas* las operaciones aritméticas. Incluyan tests que muestren que cada una de ellas está bien definida, y que sus resultados dan valores consistentes."
   ]
  },
  {
   "cell_type": "code",
   "execution_count": 20,
   "metadata": {
    "collapsed": false
   },
   "outputs": [
    {
     "data": {
      "text/plain": [
       "== (generic function with 110 methods)"
      ]
     },
     "execution_count": 20,
     "metadata": {},
     "output_type": "execute_result"
    }
   ],
   "source": [
    "import Base: +, -, *, /, ^, ==\n",
    "\n",
    "# Aqui se implementan los métodos necesarios para cada función\n",
    "# Las operaciones de suma y resta incluyen el caso de sumar/restar duales \n",
    "# a números reales.\n",
    "+(a::Dual, b::Dual) = Dual((a.fun + b.fun),(a.der + b.der)...)\n",
    "+(a::Real, b::Dual) = Dual(a) + b\n",
    "+(a::Dual, b::Real) = b + a\n",
    "-(a::Dual, b::Dual) = Dual((a.fun - b.fun),(a.der - b.der)...)\n",
    "-(a::Real, b::Dual) = Dual(a)-b\n",
    "-(a::Dual, b::Real) = a - Dual(b)\n",
    "# Del mismo modo, la operación de multiplicación incluye multiplicar por un\n",
    "# número real, convirtiéndolo a su dual y luego multiplicando por el método\n",
    "# definido de multiplicación entre duales.\n",
    "*(a::Dual, b::Dual) = Dual((a.fun * b.fun),(a.fun * b.der + b.fun * a.der)...)\n",
    "*(a::Real, b::Dual) = Dual(a) *b\n",
    "*(a::Dual, b::Real) = b*a\n",
    "/(a::Dual, b::Dual) = Dual((a.fun / b.fun),((a.der-(a.fun / b.fun)*b.der)/b.fun)...)\n",
    "# Para la exponenciación, Julia nos pide que definamos primero la exponenciación\n",
    "# con un entero y luego con un número real.\n",
    "^(a::Dual,ex::Integer) = Dual((a.fun^ex), (ex*a.fun^(ex-1)*a.der)...)\n",
    "^(a::Dual,ex::Real) = Dual((a.fun^ex), (ex*a.fun^(ex-1)*a.der)...)\n",
    "# Las operaciones unitarias son sencillas de ver.\n",
    "+(a::Dual) = a\n",
    "-(a::Dual) = Dual(-a.fun, -a.der...)\n",
    "# Finalmente se agrega un método para comparar dos duales que nos servirá en los tests.\n",
    "==(a::Dual, b::Dual) = (a.fun == b.fun && a.der == b.der) ? true : false"
   ]
  },
  {
   "cell_type": "code",
   "execution_count": 21,
   "metadata": {
    "collapsed": false,
    "slideshow": {
     "slide_type": "subslide"
    }
   },
   "outputs": [],
   "source": [
    "# Aqui se incluyen algunas pruebas, nuevamente, hay más preubas comentadas\n",
    "# en el archivo runtests.jl\n",
    "@test -xdual(2.0) == Dual(-2.0,-1.0...)\n",
    "@test xdual(2.0) + Dual(pi) == Dual(2.0 + pi, 1.0)\n",
    "@test xdual(2.0)^1.0 == xdual(2.0)"
   ]
  },
  {
   "cell_type": "markdown",
   "metadata": {
    "slideshow": {
     "slide_type": "slide"
    }
   },
   "source": [
    "Ahora probaremos la infraestructura que han desarrollado hasta ahora. En particular, usaremos la misma función que se\n",
    "utilizón en la clase anterior:\n",
    "\n",
    "\\begin{equation}\n",
    "    f_\\textrm{test}(x) = 3x^3 - 2,\n",
    "\\end{equation}\n",
    "\n",
    "y la idea es calcular la derivada en $x_0=1$."
   ]
  },
  {
   "cell_type": "code",
   "execution_count": 22,
   "metadata": {
    "collapsed": false
   },
   "outputs": [
    {
     "data": {
      "text/plain": [
       "f_test (generic function with 1 method)"
      ]
     },
     "execution_count": 22,
     "metadata": {},
     "output_type": "execute_result"
    }
   ],
   "source": [
    "f_test(x) = 3*x^3 - 2"
   ]
  },
  {
   "cell_type": "code",
   "execution_count": 24,
   "metadata": {
    "collapsed": false
   },
   "outputs": [
    {
     "data": {
      "text/plain": [
       "Dual{Float64}(1.0,1.0)"
      ]
     },
     "execution_count": 24,
     "metadata": {},
     "output_type": "execute_result"
    }
   ],
   "source": [
    "# Nuestra variable independiente está evaluada en 1.0\n",
    "xdual(1.0)"
   ]
  },
  {
   "cell_type": "code",
   "execution_count": 16,
   "metadata": {
    "collapsed": true
   },
   "outputs": [],
   "source": [
    "# Del resultado anterior, obtengan el valor de la derivada"
   ]
  },
  {
   "cell_type": "code",
   "execution_count": 27,
   "metadata": {
    "collapsed": false
   },
   "outputs": [
    {
     "data": {
      "text/plain": [
       "Dual{Float64}(1.0,9.0)"
      ]
     },
     "execution_count": 27,
     "metadata": {},
     "output_type": "execute_result"
    }
   ],
   "source": [
    "# Es claro que simplemente tenemos que evaluar f_test(xdual(1.)) y la\n",
    "# derivada será la segunda parte de la dual.\n",
    "f_test(xdual(1.0))"
   ]
  },
  {
   "cell_type": "code",
   "execution_count": 29,
   "metadata": {
    "collapsed": false
   },
   "outputs": [
    {
     "data": {
      "text/plain": [
       "9.0"
      ]
     },
     "execution_count": 29,
     "metadata": {},
     "output_type": "execute_result"
    }
   ],
   "source": [
    "f_test(xdual(1.0)).der"
   ]
  },
  {
   "cell_type": "markdown",
   "metadata": {},
   "source": [
    "La derivada es claramente 9, como se puede verificar de manera analítica\n",
    "\n",
    "$$f'_{\\text{test}}(x) = 9x^2$$"
   ]
  },
  {
   "cell_type": "markdown",
   "metadata": {
    "slideshow": {
     "slide_type": "slide"
    }
   },
   "source": [
    "Consideremos otra función racional:\n",
    "\n",
    "$$\n",
    "g_\\textrm{test}(x) = (3x^2-8x+5)/(7x^3-1)\n",
    "$$\n",
    "\n",
    "cuya derivada queremos calcular en $x_0=1$. Según [WolframAlpha](http://www.wolframalpha.com/input/?i=D%5B+%283x%5E2-8x%2B5%29%2F%287x%5E3-1%29+%2C+x+%5D+%2F.+x-%3E+1), el resultado exacto es $-1/3$.\n"
   ]
  },
  {
   "cell_type": "code",
   "execution_count": 30,
   "metadata": {
    "collapsed": false
   },
   "outputs": [
    {
     "data": {
      "text/plain": [
       "gtest (generic function with 1 method)"
      ]
     },
     "execution_count": 30,
     "metadata": {},
     "output_type": "execute_result"
    }
   ],
   "source": [
    "gtest(x) = (3x^2-8x+5)/(7x^3-1)"
   ]
  },
  {
   "cell_type": "code",
   "execution_count": 31,
   "metadata": {
    "collapsed": false
   },
   "outputs": [
    {
     "data": {
      "text/plain": [
       "Dual{Float64}(0.0,-0.3333333333333333)"
      ]
     },
     "execution_count": 31,
     "metadata": {},
     "output_type": "execute_result"
    }
   ],
   "source": [
    "gtest( xdual(1) )"
   ]
  },
  {
   "cell_type": "markdown",
   "metadata": {
    "slideshow": {
     "slide_type": "subslide"
    }
   },
   "source": [
    "El resultado anterior es la representación en números de punto flotante de $-1/3$. La pregunta es si podemos obtener\n",
    "el resultado exacto."
   ]
  },
  {
   "cell_type": "code",
   "execution_count": 34,
   "metadata": {
    "collapsed": false
   },
   "outputs": [
    {
     "data": {
      "text/plain": [
       "-1//3"
      ]
     },
     "execution_count": 34,
     "metadata": {},
     "output_type": "execute_result"
    }
   ],
   "source": [
    "# Evalúen `gtest` de manera que el resultado sea el exacto\n",
    "# Si hacemos las operaciones con números reacionales, el resultado debe ser\n",
    "# racional porque la función gtest está definida con enteros y la promoción\n",
    "# debe aventar el subtipo mayor que son los números racionales. De esta manera:\n",
    "gtest(xdual(1//1)).der"
   ]
  },
  {
   "cell_type": "markdown",
   "metadata": {
    "slideshow": {
     "slide_type": "slide"
    }
   },
   "source": [
    "Para entender cómo funciona esto, evaluaremos explícitamente y paso a paso $g_\\textrm{test}(x)$ en $\\vec{x_0} = (1,1)$:"
   ]
  },
  {
   "cell_type": "markdown",
   "metadata": {
    "slideshow": {
     "slide_type": "subslide"
    }
   },
   "source": [
    "\\begin{equation}\n",
    "\\vec{g_\\textrm{test}}(\\vec{x}) = \\frac{\\vec{3}\\cdot{\\vec{x}}^2-\\vec{8}\\cdot\\vec{x}+\\vec{5}}{\\vec{7}\\cdot{\\vec{x}}^3-\\vec{1}}\n",
    "\\end{equation}\n"
   ]
  },
  {
   "cell_type": "markdown",
   "metadata": {
    "slideshow": {
     "slide_type": "subslide"
    }
   },
   "source": [
    "\\begin{eqnarray}\n",
    "\\vec{g_\\textrm{test}}(\\vec{x}) & = & \n",
    "\\frac{(3,0)\\cdot{(1,1)}^2-(8,0)\\cdot(1,1)+(5,0)}{(7,0)\\cdot{(1,1)}^3-(1,0)}\\\\\n",
    "& = & \\frac{(3,0)\\cdot(1,2)-(8,0)\\cdot(1,1)+(5,0)}{(7,0)\\cdot(1,3)-(1,0)}\n",
    "\\end{eqnarray}\n"
   ]
  },
  {
   "cell_type": "markdown",
   "metadata": {
    "slideshow": {
     "slide_type": "subslide"
    }
   },
   "source": [
    "\\begin{equation}\n",
    "\\vec{g_\\textrm{test}}(\\vec{x}) = \n",
    "\\frac{ (3,6)-(8,1)+(5,0)}{(7,21)-(1,0)} = \\frac{ \\Big(3-8+5, 6-8\\Big)}{\\Big( 7-1,21\\Big)} = \n",
    "\\frac{ \\Big(0, -2\\Big)}{\\Big( 6,21\\Big)} \n",
    "\\end{equation}"
   ]
  },
  {
   "cell_type": "markdown",
   "metadata": {
    "slideshow": {
     "slide_type": "subslide"
    }
   },
   "source": [
    "\\begin{equation}\n",
    "\\vec{g_\\textrm{test}}(\\vec{x}) = \\Big(\\frac{0}{6}, \\frac{(-2)-21\\cdot(0/6)}{6} \\Big) = \n",
    "\\Big(0, -\\frac{1}{3}\\Big). \\Box\n",
    "\\end{equation}\n"
   ]
  },
  {
   "cell_type": "markdown",
   "metadata": {
    "slideshow": {
     "slide_type": "slide"
    }
   },
   "source": [
    "## Modulos y \"runtests.jl\" en julia"
   ]
  },
  {
   "cell_type": "markdown",
   "metadata": {},
   "source": [
    "### Ejercicio\n",
    "\n",
    "Para reutilizar el código que han hecho en este notebook, y de hecho seguirlo desarrollando, conviene ponerlo dentro de un módulo. Para hacer esto, deberán copiar todo el código necesario (y que aparece en la resolución de los ejercicios anteriores) en un archivo coyo nombre será \"AutomDiff.jl\" y cuya estructura es:\n",
    "\n",
    "```julia\n",
    "# Aqui viene una explicación de lo que se hace en el módulo, los autores y la fecha\n",
    "\n",
    "# La siguiente instrucción sirve para *precompilar* el módulo\n",
    "__precompile__(true)\n",
    "\n",
    "module AD\n",
    "    import Base: +, -, *, /, ^\n",
    "    \n",
    "    export Dual, xdual\n",
    "    \n",
    "    # Aqui viene TODO el código que implementaron\n",
    "\n",
    "end\n",
    "```\n",
    "\n",
    "Todas las pruebas deberán ser incluídas en un archivo llamado \"runtest.jl\", y su estructura es:\n",
    "\n",
    "```julia\n",
    "# Este archivo incluye los tests del módulo AD\n",
    "\n",
    "using Base.test\n",
    "using AD\n",
    "\n",
    "# A continuación vienen los tests que implementaron y que deben ser suficientemente exhaustivos\n",
    "\n",
    "\n",
    "```\n",
    "\n",
    "Estos dos archivos deben incluirlos en el envío de su tarea."
   ]
  },
  {
   "cell_type": "markdown",
   "metadata": {},
   "source": [
    "**Nota** Los archivos se importan usando:\n",
    "\n",
    "```\n",
    "    julia> include(\"AutomDiff.jl\")\n",
    "    AD\n",
    "    \n",
    "    julia> include(\"runtest.jl\")\n",
    "```\n",
    "\n",
    "Como se puede ver, después de importar AutomDiff.jl, Julia nos dice que está disponible el módulo AD. Para el archivo de tests, el hecho de que la salida sale en blanco nos dice que todos los tests corrieron de manera exitosa. Después, ya teniendo el módulo AD podemos correr:\n",
    "```\n",
    "    julia> f(x) = x^2 - 2x + 1; f(xdual(1.0)).der\n",
    "    0.0\n",
    "    \n",
    "    julia> g(x) = (3x^2 - 4x + 1)/(6x^2 - 9x - 8); g(xdual(1//1)).der\n",
    "    -2//11\n",
    "```"
   ]
  },
  {
   "cell_type": "markdown",
   "metadata": {},
   "source": [
    "Para demostrarlo vamos a meterlo  este notebook y vamos a limpiar el `workspace`:"
   ]
  },
  {
   "cell_type": "code",
   "execution_count": 6,
   "metadata": {
    "collapsed": true
   },
   "outputs": [],
   "source": [
    "workspace()"
   ]
  },
  {
   "cell_type": "code",
   "execution_count": 7,
   "metadata": {
    "collapsed": false
   },
   "outputs": [
    {
     "data": {
      "text/plain": [
       "AD"
      ]
     },
     "execution_count": 7,
     "metadata": {},
     "output_type": "execute_result"
    }
   ],
   "source": [
    "include(\"AutomDiff.jl\")"
   ]
  },
  {
   "cell_type": "code",
   "execution_count": 8,
   "metadata": {
    "collapsed": true
   },
   "outputs": [],
   "source": [
    "include(\"runtest.jl\")"
   ]
  },
  {
   "cell_type": "code",
   "execution_count": 9,
   "metadata": {
    "collapsed": false
   },
   "outputs": [
    {
     "data": {
      "text/plain": [
       "0.0"
      ]
     },
     "execution_count": 9,
     "metadata": {},
     "output_type": "execute_result"
    }
   ],
   "source": [
    "f(x) = x^2 - 2x + 1; f(xdual(1.0)).der"
   ]
  },
  {
   "cell_type": "code",
   "execution_count": 10,
   "metadata": {
    "collapsed": false
   },
   "outputs": [
    {
     "data": {
      "text/plain": [
       "-2//11"
      ]
     },
     "execution_count": 10,
     "metadata": {},
     "output_type": "execute_result"
    }
   ],
   "source": [
    "g(x) = (3x^2 - 4x + 1)/(6x^2 - 9x - 8); g(xdual(1//1)).der"
   ]
  }
 ],
 "metadata": {
  "kernelspec": {
   "display_name": "Julia 0.4.2",
   "language": "julia",
   "name": "julia-0.4"
  },
  "language_info": {
   "file_extension": ".jl",
   "mimetype": "application/julia",
   "name": "julia",
   "version": "0.4.2"
  }
 },
 "nbformat": 4,
 "nbformat_minor": 0
}
