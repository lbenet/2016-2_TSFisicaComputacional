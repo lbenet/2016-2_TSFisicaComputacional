{
 "cells": [
  {
   "cell_type": "markdown",
   "metadata": {},
   "source": [
    "# Tarea 1\n",
    "\n",
    "### Luis Armando Pérez Rey\n"
   ]
  },
  {
   "cell_type": "markdown",
   "metadata": {},
   "source": [
    "### Raíces de polinomio de segundo orden\n",
    "Para obtener las raíces de un polinomio $P(x)=ax^2+bx+c$ de segundo orden con coeficientes reales se utiliza la fórmula: \n",
    "\n",
    "$\n",
    " r_{1,2}=\\frac{-b\\pm\\sqrt{b^2-4ac}}{2a}\n",
    "$\n",
    "\n",
    "Donde $r_{1,2}$ son las raíces del polinomio.\n",
    "\n",
    "En algunos casos las raíces son imaginarias. Por ejemplo para $P(x)=2x^2+2x+1$ se tienen las raíces $r_{1,2}=\\frac{-1\\pm i}{2}$. \n",
    "\n",
    "Para tomar todos los casos posibles. Lo más sencillo es hacer que la salida sea siempre un número complejo de tipo `Float64`. Para comprobar que la función es de tipo estable se harán pruebas con coeficientes:\n",
    "\n",
    "1.  Coeficientes de tipo `Int` y `Float`.\n",
    "2.  Coeficientes que den raíces reales.\n",
    "3.  Coeficientes que den raíces complejas.\n",
    "\n",
    "Se verificará que el tipo de salida de cada uno de estos resultados sea el adecuado, es decir, de tipo complejo para que no dependa de la entrada.\n"
   ]
  },
  {
   "cell_type": "markdown",
   "metadata": {},
   "source": [
    "Se escribirá una función que sólo acepte reales y que además la salida sea siempre compleja. A continuación en la [documentación](http://docs.julialang.org/en/release-0.4/manual/documentation/#documentation) se describirá más a fondo la función."
   ]
  },
  {
   "cell_type": "code",
   "execution_count": 22,
   "metadata": {
    "collapsed": false
   },
   "outputs": [
    {
     "data": {
      "text/plain": [
       "raiz_polinomio2 (generic function with 1 method)"
      ]
     },
     "execution_count": 22,
     "metadata": {},
     "output_type": "execute_result"
    }
   ],
   "source": [
    "\"\"\"\n",
    "### raiz_polinomio2(a::Real,b::Real,c::Real)\n",
    "La función entrega las dos raíces de un polinomio de segundo orden con coeficientes reales de la forma **ax²+bx+c**.\n",
    "La salida de esta función es una tupla de números complejos de tipo `Float64`.\n",
    "Ésta función primero convierte los argumentos en números complejos y luego utiliza la fórmula:\n",
    "\n",
    "`raiz1=-b+sqrt(b^2-4*a*c))/(2*a)\n",
    "\n",
    "raiz2=(-b-sqrt(b^2-4*a*c))/(2*a)\n",
    "`\n",
    "\n",
    "Para obtener la `raiz1` y la `raiz2`. \n",
    "\n",
    "\"\"\"\n",
    "function raiz_polinomio2(a::Real,b::Real,c::Real)\n",
    "    #Conversión de todos los coeficientes en complejos\n",
    "        a=complex(a);\n",
    "        b=complex(b);\n",
    "        c=complex(c);\n",
    "    #Obtención de las raíces\n",
    "    \n",
    "        raiz1=(-b+sqrt(b^2-4*a*c))/(2*a)\n",
    "        raiz2=(-b-sqrt(b^2-4*a*c))/(2*a)\n",
    "    #Salida de las raíces en una tupla\n",
    "        return raiz1,raiz2\n",
    "end"
   ]
  },
  {
   "cell_type": "code",
   "execution_count": 23,
   "metadata": {
    "collapsed": false
   },
   "outputs": [
    {
     "name": "stdout",
     "output_type": "stream",
     "text": [
      "search: "
     ]
    },
    {
     "data": {
      "text/latex": [
       "\\subsubsection{raiz\\_polinomio2(a::Real,b::Real,c::Real)}\n",
       "La función entrega las dos raíces de un polinomio de segundo orden con coeficientes reales de la forma \\textbf{ax²+bx+c}. La salida de esta función es una tupla de números complejos de tipo \\texttt{Float64}. Ésta función primero convierte los argumentos en números complejos y luego utiliza la fórmula:\n",
       "`raiz1=-b+sqrt(b\\^{}2-4\\emph{a}c))/(2*a)\n",
       "raiz2=(-b-sqrt(b\\^{}2-4\\emph{a}c))/(2*a) `\n",
       "Para obtener la \\texttt{raiz1} y la \\texttt{raiz2}. \n"
      ],
      "text/markdown": [
       "### raiz_polinomio2(a::Real,b::Real,c::Real)\n",
       "\n",
       "La función entrega las dos raíces de un polinomio de segundo orden con coeficientes reales de la forma **ax²+bx+c**. La salida de esta función es una tupla de números complejos de tipo `Float64`. Ésta función primero convierte los argumentos en números complejos y luego utiliza la fórmula:\n",
       "\n",
       "`raiz1=-b+sqrt(b^2-4*a*c))/(2*a)\n",
       "\n",
       "raiz2=(-b-sqrt(b^2-4*a*c))/(2*a) `\n",
       "\n",
       "Para obtener la `raiz1` y la `raiz2`. \n"
      ],
      "text/plain": [
       "### raiz_polinomio2(a::Real,b::Real,c::Real)\n",
       "\n",
       "La función entrega las dos raíces de un polinomio de segundo orden con coeficientes reales de la forma **ax²+bx+c**. La salida de esta función es una tupla de números complejos de tipo `Float64`. Ésta función primero convierte los argumentos en números complejos y luego utiliza la fórmula:\n",
       "\n",
       "`raiz1=-b+sqrt(b^2-4*a*c))/(2*a)\n",
       "\n",
       "raiz2=(-b-sqrt(b^2-4*a*c))/(2*a) `\n",
       "\n",
       "Para obtener la `raiz1` y la `raiz2`. \n"
      ]
     },
     "execution_count": 23,
     "metadata": {},
     "output_type": "execute_result"
    },
    {
     "name": "stdout",
     "output_type": "stream",
     "text": [
      "raiz_polinomio2\n",
      "\n"
     ]
    }
   ],
   "source": [
    "? raiz_polinomio2"
   ]
  },
  {
   "cell_type": "markdown",
   "metadata": {},
   "source": [
    "### Prueba 1\n",
    "\n",
    "**Coeficientes de tipo entero con raíces reales**\n",
    "\n",
    "Sea $a=1$, $b=2$, $c=1$\n",
    "\n",
    "Cuyas raíces deberían ser $r_{1,2}=-1$"
   ]
  },
  {
   "cell_type": "code",
   "execution_count": 24,
   "metadata": {
    "collapsed": false
   },
   "outputs": [
    {
     "data": {
      "text/plain": [
       "(-1.0 + 0.0im,-1.0 + 0.0im)"
      ]
     },
     "execution_count": 24,
     "metadata": {},
     "output_type": "execute_result"
    }
   ],
   "source": [
    "raiz_polinomio2(1,2,1)"
   ]
  },
  {
   "cell_type": "code",
   "execution_count": 25,
   "metadata": {
    "collapsed": false
   },
   "outputs": [
    {
     "data": {
      "text/plain": [
       "Tuple{Complex{Float64},Complex{Float64}}"
      ]
     },
     "execution_count": 25,
     "metadata": {},
     "output_type": "execute_result"
    }
   ],
   "source": [
    "typeof(ans)"
   ]
  },
  {
   "cell_type": "markdown",
   "metadata": {},
   "source": [
    "**Sí se cumple la salida de complejos de tipo `Float64`**"
   ]
  },
  {
   "cell_type": "markdown",
   "metadata": {},
   "source": [
    "### Prueba 2\n",
    "\n",
    "**Coeficientes de tipo flotante con raíces reales**\n",
    "\n",
    "Sea $a=1.0$, $b=2.0$, $c=1.0$\n",
    "\n",
    "Cuyas raíces deberían ser $r_{1,2}=-1$"
   ]
  },
  {
   "cell_type": "code",
   "execution_count": 26,
   "metadata": {
    "collapsed": false
   },
   "outputs": [
    {
     "data": {
      "text/plain": [
       "(-1.0 + 0.0im,-1.0 + 0.0im)"
      ]
     },
     "execution_count": 26,
     "metadata": {},
     "output_type": "execute_result"
    }
   ],
   "source": [
    "raiz_polinomio2(1.0,2.0,1.0)"
   ]
  },
  {
   "cell_type": "markdown",
   "metadata": {},
   "source": [
    "**Sí se cumple la salida de complejos de tipo `Float64`**"
   ]
  },
  {
   "cell_type": "markdown",
   "metadata": {},
   "source": [
    "### Prueba 3\n",
    "\n",
    "**Coeficientes de tipo entero y flotante con raíces imaginarias**\n",
    "\n",
    "Sea\n",
    "\n",
    "$a=2$, $b=2$, $c=1$\n",
    "\n",
    "y\n",
    "\n",
    "$a=2.0$, $b=2.0$, $c=1.0$\n",
    "\n",
    "Cuyas raíces deberían ser $r_{1,2}=\\frac{-1\\pm i}{2}$\n"
   ]
  },
  {
   "cell_type": "code",
   "execution_count": 27,
   "metadata": {
    "collapsed": false
   },
   "outputs": [
    {
     "data": {
      "text/plain": [
       "(-0.5 + 0.5im,-0.5 - 0.5im)"
      ]
     },
     "execution_count": 27,
     "metadata": {},
     "output_type": "execute_result"
    }
   ],
   "source": [
    "raiz_polinomio2(2,2,1)"
   ]
  },
  {
   "cell_type": "code",
   "execution_count": 28,
   "metadata": {
    "collapsed": false
   },
   "outputs": [
    {
     "data": {
      "text/plain": [
       "Tuple{Complex{Float64},Complex{Float64}}"
      ]
     },
     "execution_count": 28,
     "metadata": {},
     "output_type": "execute_result"
    }
   ],
   "source": [
    "typeof(ans)"
   ]
  },
  {
   "cell_type": "code",
   "execution_count": 29,
   "metadata": {
    "collapsed": false
   },
   "outputs": [
    {
     "data": {
      "text/plain": [
       "(-0.5 + 0.5im,-0.5 - 0.5im)"
      ]
     },
     "execution_count": 29,
     "metadata": {},
     "output_type": "execute_result"
    }
   ],
   "source": [
    "raiz_polinomio2(2.0,2.0,1.0)"
   ]
  },
  {
   "cell_type": "code",
   "execution_count": 30,
   "metadata": {
    "collapsed": false
   },
   "outputs": [
    {
     "data": {
      "text/plain": [
       "Tuple{Complex{Float64},Complex{Float64}}"
      ]
     },
     "execution_count": 30,
     "metadata": {},
     "output_type": "execute_result"
    }
   ],
   "source": [
    "typeof(ans)"
   ]
  },
  {
   "cell_type": "markdown",
   "metadata": {},
   "source": [
    "**Sí se cumple la salida de complejos de tipo `Float64`**"
   ]
  },
  {
   "cell_type": "markdown",
   "metadata": {},
   "source": [
    "### Ejemplos extra\n",
    "\n"
   ]
  },
  {
   "cell_type": "code",
   "execution_count": 32,
   "metadata": {
    "collapsed": false
   },
   "outputs": [
    {
     "data": {
      "text/plain": [
       "(-0.3819660112501051 + 0.0im,-2.618033988749895 + 0.0im)"
      ]
     },
     "execution_count": 32,
     "metadata": {},
     "output_type": "execute_result"
    }
   ],
   "source": [
    "raiz_polinomio2(1,3,1)"
   ]
  },
  {
   "cell_type": "code",
   "execution_count": 33,
   "metadata": {
    "collapsed": false
   },
   "outputs": [
    {
     "data": {
      "text/plain": [
       "Tuple{Complex{Float64},Complex{Float64}}"
      ]
     },
     "execution_count": 33,
     "metadata": {},
     "output_type": "execute_result"
    }
   ],
   "source": [
    "typeof(ans)"
   ]
  },
  {
   "cell_type": "code",
   "execution_count": 34,
   "metadata": {
    "collapsed": false
   },
   "outputs": [
    {
     "data": {
      "text/plain": [
       "(-0.16666666666666666 + 0.37267799624996495im,-0.16666666666666666 - 0.37267799624996495im)"
      ]
     },
     "execution_count": 34,
     "metadata": {},
     "output_type": "execute_result"
    }
   ],
   "source": [
    "raiz_polinomio2(6,2,1)"
   ]
  },
  {
   "cell_type": "code",
   "execution_count": 35,
   "metadata": {
    "collapsed": false
   },
   "outputs": [
    {
     "data": {
      "text/plain": [
       "Tuple{Complex{Float64},Complex{Float64}}"
      ]
     },
     "execution_count": 35,
     "metadata": {},
     "output_type": "execute_result"
    }
   ],
   "source": [
    "typeof(ans)"
   ]
  },
  {
   "cell_type": "code",
   "execution_count": 37,
   "metadata": {
    "collapsed": false
   },
   "outputs": [
    {
     "data": {
      "text/plain": [
       "(NaN + NaN*im,NaN + NaN*im)"
      ]
     },
     "execution_count": 37,
     "metadata": {},
     "output_type": "execute_result"
    }
   ],
   "source": [
    "raiz_polinomio2(0,2,1)"
   ]
  },
  {
   "cell_type": "code",
   "execution_count": 38,
   "metadata": {
    "collapsed": false
   },
   "outputs": [
    {
     "data": {
      "text/plain": [
       "Tuple{Complex{Float64},Complex{Float64}}"
      ]
     },
     "execution_count": 38,
     "metadata": {},
     "output_type": "execute_result"
    }
   ],
   "source": [
    "typeof(ans)"
   ]
  },
  {
   "cell_type": "markdown",
   "metadata": {},
   "source": [
    "Incluso aún cuando el polinomio no es de segundo orden el resultado sigue siendo de tipo complejo, pero no definido. Se podría añadir código extra para \"cachar\" este tipo de errores."
   ]
  },
  {
   "cell_type": "code",
   "execution_count": null,
   "metadata": {
    "collapsed": true
   },
   "outputs": [],
   "source": []
  }
 ],
 "metadata": {
  "kernelspec": {
   "display_name": "Julia 0.4.2",
   "language": "julia",
   "name": "julia-0.4"
  },
  "language_info": {
   "file_extension": ".jl",
   "mimetype": "application/julia",
   "name": "julia",
   "version": "0.4.5"
  }
 },
 "nbformat": 4,
 "nbformat_minor": 0
}
