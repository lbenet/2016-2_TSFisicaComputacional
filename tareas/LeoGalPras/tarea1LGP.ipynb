{
 "cells": [
  {
   "cell_type": "markdown",
   "metadata": {},
   "source": [
    "# Tarea 1\n",
    "## David Leonardo Galicia Praskauer\n",
    "Implementar en julia una función que devuelva las raíces de una ecuación de segundo grado general con coeficientes reales. La función debe ser estable según el tipo. La función debe estar propiamente documentada."
   ]
  },
  {
   "cell_type": "code",
   "execution_count": 234,
   "metadata": {
    "collapsed": false
   },
   "outputs": [
    {
     "data": {
      "text/plain": [
       "raices (generic function with 1 method)"
      ]
     },
     "execution_count": 234,
     "metadata": {},
     "output_type": "execute_result"
    }
   ],
   "source": [
    "\"\"\"\n",
    "raices (a,b,c)\n",
    "La función raices(a,b,c) busca las raices de un polinomio de segundo grado\n",
    "de la forma ax^2 + bx + c = 0. Esta función sólo acepta entradas tipo Real,\n",
    "para evitar aceptar strings, complejos, etc. . Esta función regresa siempre\n",
    "dos números complejos (Complex(Float64,Float64),Complex(Float64,Float64)),\n",
    "que son las raíces de la ecuación, en caso de que no exista una o las dos raíces\n",
    "la raíz inexistente se regresa como Complex(NaN,NaN), esta también es la salida\n",
    "cuando hay un error.\n",
    "\"\"\"\n",
    "\n",
    "function raices(a::Real,b::Real,c::Real)\n",
    "    #esto es con la intención de que reciba entradas de tipo Real\n",
    "    #decidí hacerlo así para que la función pueda aceptar enteros y racionales\n",
    "    #también, sin necesidad de expresarlos en notación decimal\n",
    "    dis = b^2 - 4*a*c #definimos el discriminante porque la función sqrt() no \n",
    "    #puede considerar por sí sola el caso complejo\n",
    "    \n",
    "    if (a == 0) & (c == 0) #empecemos con lo sencillo\n",
    "        println(\"Polinomio idénticamente cero.\")\n",
    "        x1 = Complex(0,0) #la salida es cero ya que podría decirse que sí tiene raíces\n",
    "        x2 = Complex(0,0)\n",
    "        return x1,x2\n",
    "    elseif (a == 0) & (b == 0) & (c !== 0) #caso falso\n",
    "        println(\"¡Eso es falso, c debe ser cero!\")\n",
    "        x1 = Complex(NaN,NaN) #esto representa un error\n",
    "        x2 = Complex(NaN,NaN)\n",
    "        return x1,x2\n",
    "        elseif (a == 0) & (b !== 0) & (c !== 0) #siguiente caso más complejo, una línea\n",
    "        println(\"Tu polinomio es una línea recta, sólo tiene una raíz que es x1.\")\n",
    "        x1 = Complex(-c/b,0) #ya que a es cero no nos sirve la chicharronera, pero despejar es más fácil\n",
    "        x2 = Complex(NaN,NaN)\n",
    "        return x1,x2\n",
    "        elseif (dis > 0) #si el discriminante es positivo la parte im es cero\n",
    "        println(\"Las raices de la ecuación son reales, x1 y x2.\")\n",
    "        x1 = Complex((-b + sqrt(b^2 - 4*a*c)/2*a),0)\n",
    "        x2 = Complex((-b - sqrt(b^2 - 4*a*c)/2*a),0)\n",
    "        return x1,x2\n",
    "        elseif (dis < 0) #la parte im no es cero\n",
    "        println(\"Las raices de la ecuación son complejas, x1 y x2.\")\n",
    "        x1 = Complex((-b/2*a),sqrt(-dis)) #tomamos la raiz de -dis para la parte imaginaria\n",
    "        x2 = Complex((-b/2*a),-sqrt(-dis)) #aquí tomamos el conjugado de x1\n",
    "        return x1,x2\n",
    "    elseif (dis == 0) #casi se me escapa este caso, una sola raiz real\n",
    "        println(\"La ecuación tiene una sola raíz real, x1, de multiplicidad 2.\")\n",
    "        x1 = Complex(-b/2*a,0)\n",
    "        x2 = Complex(NaN,NaN)\n",
    "        return x1,x2\n",
    "        #añadimos la sig. excepción\n",
    "        #tratando de ser lo más generales posibles para tener estabilidad de tipo\n",
    "        #pues con las entradas sguintes nos arroja Nothing que no es del mismo tipo\n",
    "    elseif (a == Inf || -Inf || NaN) || (b == Inf || -Inf || NaN) || (c == Inf || -Inf || NaN)\n",
    "        println(\"ERROR. Esos no son coeficientes válidos para una ecuación de segundo grado.\")\n",
    "        x1 = Complex(NaN,NaN)\n",
    "        x2 = Complex(NaN,NaN)\n",
    "        return x1,x2\n",
    "    end\n",
    "end        "
   ]
  },
  {
   "cell_type": "markdown",
   "metadata": {},
   "source": [
    "Ahora hagamos algunas pruebas para ver la estabilidad de tipo y el tipo de salidas que nos da la función."
   ]
  },
  {
   "cell_type": "code",
   "execution_count": 222,
   "metadata": {
    "collapsed": false
   },
   "outputs": [
    {
     "name": "stdout",
     "output_type": "stream",
     "text": [
      "Las raices de la ecuación son complejas, x1 y x2.\n"
     ]
    },
    {
     "data": {
      "text/plain": [
       "(-18.0 + 9.327379053088816im,-18.0 - 9.327379053088816im)"
      ]
     },
     "execution_count": 222,
     "metadata": {},
     "output_type": "execute_result"
    }
   ],
   "source": [
    "raices(12,3,2)"
   ]
  },
  {
   "cell_type": "code",
   "execution_count": 224,
   "metadata": {
    "collapsed": false
   },
   "outputs": [
    {
     "name": "stdout",
     "output_type": "stream",
     "text": [
      "Tu polinomio es una línea recta, sólo tiene una raíz que es x1.\n"
     ]
    },
    {
     "data": {
      "text/plain": [
       "(-1.0 + 0.0im,NaN + NaN*im)"
      ]
     },
     "execution_count": 224,
     "metadata": {},
     "output_type": "execute_result"
    }
   ],
   "source": [
    "raices(0,1,1)"
   ]
  },
  {
   "cell_type": "code",
   "execution_count": 226,
   "metadata": {
    "collapsed": false
   },
   "outputs": [
    {
     "name": "stdout",
     "output_type": "stream",
     "text": [
      "Polinomio idénticamente cero.\n"
     ]
    },
    {
     "data": {
      "text/plain": [
       "(0 + 0im,0 + 0im)"
      ]
     },
     "execution_count": 226,
     "metadata": {},
     "output_type": "execute_result"
    }
   ],
   "source": [
    "raices(0,0,0)"
   ]
  },
  {
   "cell_type": "code",
   "execution_count": 227,
   "metadata": {
    "collapsed": false
   },
   "outputs": [
    {
     "name": "stdout",
     "output_type": "stream",
     "text": [
      "La ecuación tiene una sola raíz real, x1, de multiplicidad 2.\n"
     ]
    },
    {
     "data": {
      "text/plain": [
       "(0.0 + 0.0im,NaN + NaN*im)"
      ]
     },
     "execution_count": 227,
     "metadata": {},
     "output_type": "execute_result"
    }
   ],
   "source": [
    "raices(1,0,0)"
   ]
  },
  {
   "cell_type": "code",
   "execution_count": 228,
   "metadata": {
    "collapsed": false
   },
   "outputs": [
    {
     "name": "stdout",
     "output_type": "stream",
     "text": [
      "Polinomio idénticamente cero.\n"
     ]
    },
    {
     "data": {
      "text/plain": [
       "(0 + 0im,0 + 0im)"
      ]
     },
     "execution_count": 228,
     "metadata": {},
     "output_type": "execute_result"
    }
   ],
   "source": [
    "raices(0,2,0)"
   ]
  },
  {
   "cell_type": "code",
   "execution_count": 230,
   "metadata": {
    "collapsed": false
   },
   "outputs": [
    {
     "name": "stdout",
     "output_type": "stream",
     "text": [
      "Las raices de la ecuación son reales, x1 y x2.\n"
     ]
    },
    {
     "data": {
      "text/plain": [
       "(4.0 + 0.0im,-8.0 + 0.0im)"
      ]
     },
     "execution_count": 230,
     "metadata": {},
     "output_type": "execute_result"
    }
   ],
   "source": [
    "raices(2,2,-4)"
   ]
  },
  {
   "cell_type": "code",
   "execution_count": 233,
   "metadata": {
    "collapsed": false
   },
   "outputs": [
    {
     "name": "stdout",
     "output_type": "stream",
     "text": [
      "ERROR. Esos no son coeficientes válidos para una ecuación de segundo grado.\n"
     ]
    },
    {
     "data": {
      "text/plain": [
       "(NaN + NaN*im,NaN + NaN*im)"
      ]
     },
     "execution_count": 233,
     "metadata": {},
     "output_type": "execute_result"
    }
   ],
   "source": [
    "raices(Inf,-Inf,NaN)"
   ]
  },
  {
   "cell_type": "markdown",
   "metadata": {},
   "source": [
    "Aquí podemos ver como la salida siempre son dos números complejos, independientemente de los valores de entrada (aún tengo un problema con entradas hexadecimales y con Inf,Nan, ó -Inf en la segunda o tercera entradas pero no la primera)."
   ]
  },
  {
   "cell_type": "code",
   "execution_count": null,
   "metadata": {
    "collapsed": true
   },
   "outputs": [],
   "source": []
  }
 ],
 "metadata": {
  "kernelspec": {
   "display_name": "Julia 0.3.2",
   "language": "julia",
   "name": "julia-0.3"
  },
  "language_info": {
   "file_extension": ".jl",
   "mimetype": "application/julia",
   "name": "julia",
   "version": "0.3.2"
  }
 },
 "nbformat": 4,
 "nbformat_minor": 0
}
