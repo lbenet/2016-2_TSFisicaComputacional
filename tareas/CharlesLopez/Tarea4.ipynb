{
 "cells": [
  {
   "cell_type": "code",
   "execution_count": null,
   "metadata": {
    "collapsed": true
   },
   "outputs": [],
   "source": [
    "##(Falta arreglar cosas)"
   ]
  },
  {
   "cell_type": "code",
   "execution_count": 1,
   "metadata": {
    "collapsed": false
   },
   "outputs": [],
   "source": [
    "type Dual\n",
    "    fun::Real\n",
    "    der::Real\n",
    "end"
   ]
  },
  {
   "cell_type": "code",
   "execution_count": null,
   "metadata": {
    "collapsed": false
   },
   "outputs": [],
   "source": [
    "d=Dual(15.1,3)\n",
    "f(x)=x\n",
    "f(d)"
   ]
  },
  {
   "cell_type": "code",
   "execution_count": 9,
   "metadata": {
    "collapsed": false
   },
   "outputs": [
    {
     "data": {
      "text/plain": [
       "promote_rule (generic function with 126 methods)"
      ]
     },
     "execution_count": 9,
     "metadata": {},
     "output_type": "execute_result"
    }
   ],
   "source": [
    "import Base: convert, promote_rule\n",
    "convert(::Type{Dual},x::Real) = Dual(x,0)\n",
    "promote_rule(::Type{Dual}, ::Type{Int} ) = Dual\n",
    "promote_rule(::Type{Dual}, ::Type{Float64} ) = Dual"
   ]
  },
  {
   "cell_type": "code",
   "execution_count": null,
   "metadata": {
    "collapsed": false
   },
   "outputs": [],
   "source": [
    "convert(Dual,1)"
   ]
  },
  {
   "cell_type": "code",
   "execution_count": null,
   "metadata": {
    "collapsed": false
   },
   "outputs": [],
   "source": [
    "promote(d,1)"
   ]
  },
  {
   "cell_type": "code",
   "execution_count": 2,
   "metadata": {
    "collapsed": false
   },
   "outputs": [
    {
     "data": {
      "text/plain": [
       "xdual (generic function with 1 method)"
      ]
     },
     "execution_count": 2,
     "metadata": {},
     "output_type": "execute_result"
    }
   ],
   "source": [
    "xdual(x0)=Dual(x0,0) #como esto"
   ]
  },
  {
   "cell_type": "code",
   "execution_count": 15,
   "metadata": {
    "collapsed": false
   },
   "outputs": [
    {
     "data": {
      "text/plain": [
       "print (generic function with 19 methods)"
      ]
     },
     "execution_count": 15,
     "metadata": {},
     "output_type": "execute_result"
    }
   ],
   "source": [
    "import Base: +, -, *, /, ^, == \n",
    "+(x::Dual,y::Dual) =Dual( x.fun+y.fun , x.der+y.der )\n",
    "-(x::Dual,y::Dual) =Dual( x.fun-y.fun , x.der-y.der )\n",
    "*(x::Dual,y::Dual) =Dual( x.fun*y.fun , (x.fun*y.der)+(y.fun*x.der) )\n",
    "/(x::Dual,y::Dual) =Dual( x.fun/y.fun , (x.der-((x.fun/y.fun)*y.der))/y.fun )\n",
    "\n",
    "+(x::Dual,y::Real) =Dual( x.fun+y , x.der )\n",
    "-(x::Dual,y::Real) =Dual( x.fun-y , x.der )\n",
    "*(x::Dual,y::Real) =x*convert(Dual,y)\n",
    "/(x::Dual,y::Real) =x/convert(Dual,y)\n",
    "\n",
    "+(y::Real,x::Dual) =Dual( x.fun+y , x.der )\n",
    "-(y::Real,x::Dual) =Dual( x.fun-y , x.der )\n",
    "*(y::Real,x::Dual) =x*convert(Dual,y)\n",
    "/(y::Real,x::Dual) =x/convert(Dual,y)\n",
    "\n",
    "^(x::Dual,a::Integer) =Dual( x.fun^a , a*(x.fun^(a-1))*x.der )\n",
    "^(x::Dual,a::Real) =Dual( x.fun^a , a*(x.fun^(a-1))*x.der )\n",
    "\n",
    "+(x::Dual) =Dual( +x.fun , +x.der )\n",
    "-(x::Dual) =Dual( -x.fun , -x.der )\n",
    "\n",
    "==(x::Dual,y::Dual)=(x.fun,x.der)==(y.fun,y.der)\n",
    "\n",
    "import Base: print\n",
    "show(io::IO,x::Dual)=print(io, x.fun,\" + \",x.der,\"ε\")\n",
    "print(io::IO,x::Dual)=show(io,x)"
   ]
  },
  {
   "cell_type": "code",
   "execution_count": null,
   "metadata": {
    "collapsed": false
   },
   "outputs": [],
   "source": [
    "a=Dual(15,3)\n",
    "b=Dual(2,5)\n",
    "c=2\n",
    "print(\"a: \",a,\"\\n\")\n",
    "print(\"b: \",b,\"\\n\")\n",
    "print(\"a+b: \",a+b,\"\\n\")\n",
    "print(\"a-b: \",a-b,\"\\n\")\n",
    "print(\"a*b: \",a*b,\"\\n\")\n",
    "print(\"a/b: \",a/b,\"\\n\")\n",
    "print(\"a^2: \",a^2,\"\\n\")\n",
    "print(\"a^.5: \",a^.5,\"\\n\")\n",
    "print(\"a==b: \",a==b,\"\\n\")\n",
    "print(\"a==a: \",a==a,\"\\n\")"
   ]
  },
  {
   "cell_type": "code",
   "execution_count": 16,
   "metadata": {
    "collapsed": false
   },
   "outputs": [
    {
     "name": "stdout",
     "output_type": "stream",
     "text": [
      "a: 3 + 1ε\n",
      "b: 1 + 0ε\n",
      "f(x)=x\n",
      "g(x)=x*x\n",
      "h(x)=3x^3-2\n",
      "\n",
      "f(a): 3 + 1ε\n",
      "g(a): 9 + 6ε\n",
      "h(a): 79 + 81ε\n",
      "\n",
      "f(b): 1 + 0ε\n",
      "g(b): 1 + 0ε\n",
      "h(b): 1 + 0ε\n",
      "\n"
     ]
    }
   ],
   "source": [
    "f(x)=x\n",
    "g(x)=x*x\n",
    "h(x)=3x^3-2\n",
    "a=Dual(3,1)\n",
    "b=xdual(1)\n",
    "\n",
    "print(\"a: \",a,\"\\n\")\n",
    "print(\"b: \",b,\"\\n\")\n",
    "print(\"f(x)=x\",\"\\n\")\n",
    "print(\"g(x)=x*x\",\"\\n\")\n",
    "print(\"h(x)=3x^3-2\",\"\\n\\n\")\n",
    "\n",
    "print(\"f(a): \",f(a),\"\\n\")\n",
    "print(\"g(a): \",g(a),\"\\n\")\n",
    "print(\"h(a): \",h(a),\"\\n\\n\")\n",
    "\n",
    "print(\"f(b): \",f(b),\"\\n\")\n",
    "print(\"g(b): \",g(b),\"\\n\")\n",
    "print(\"h(b): \",h(b),\"\\n\\n\")"
   ]
  }
 ],
 "metadata": {
  "kernelspec": {
   "display_name": "Julia 0.4.3",
   "language": "julia",
   "name": "julia-0.4"
  },
  "language_info": {
   "file_extension": ".jl",
   "mimetype": "application/julia",
   "name": "julia",
   "version": "0.4.3"
  }
 },
 "nbformat": 4,
 "nbformat_minor": 0
}
