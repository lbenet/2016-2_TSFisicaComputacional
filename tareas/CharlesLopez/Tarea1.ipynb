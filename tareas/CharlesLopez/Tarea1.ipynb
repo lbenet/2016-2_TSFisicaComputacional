{
 "cells": [
  {
   "cell_type": "code",
   "execution_count": null,
   "metadata": {
    "collapsed": true
   },
   "outputs": [],
   "source": [
    "\"\"\"\n",
    "function qroot(y:Real, x:Real):Number\n",
    "\n",
    "Computes and returns the roots of the quadratic equation Ax^2+Bx+C y/x in a tuple (root 1, root 2), onley for equiation with real roots.\n",
    "\n",
    "\n",
    "Parameters\n",
    "\n",
    "A:Number — The quadratic coefficient, the linear coefficient and the constant.\n",
    "\n",
    "B:Number — The linear coefficient.\n",
    "\n",
    "C:Number — The constant coefficient.\n",
    "    \n",
    "    \n",
    "Returns\n",
    "        \n",
    "(Number,Number) — The roots of the quadratic equation.\n",
    "\"\"\"\n",
    "function qroot(a::Real,b::Real,c::Real)\n",
    "    if a == 0\n",
    "        error(\"Not a quadratic equation\")\n",
    "    end\n",
    "    discr = b^2 - 4*a*c\n",
    "    discr >= 0 ?   ( (-b + sqrt(discr))/(2a), (-b - sqrt(discr))/(2a) ) : error(\"Only complex roots\")\n",
    "end"
   ]
  },
  {
   "cell_type": "code",
   "execution_count": 15,
   "metadata": {
    "collapsed": false
   },
   "outputs": [
    {
     "data": {
      "text/plain": [
       "(-0.327447723952651,-9.77255227604735)"
      ]
     },
     "execution_count": 15,
     "metadata": {},
     "output_type": "execute_result"
    }
   ],
   "source": [
    "qroot(1,10.1,3.2)"
   ]
  },
  {
   "cell_type": "markdown",
   "metadata": {},
   "source": [
    "Reference:\n",
    "\n",
    "http://docs.julialang.org/en/release-0.4/manual/functions/#the-return-keyword\n",
    "http://docs.julialang.org/en/release-0.4/manual/control-flow/#errors\n",
    "http://docs.julialang.org/en/release-0.4/manual/documentation/\n",
    "http://docs.julialang.org/en/release-0.4/manual/types/#abstract-types\n"
   ]
  }
 ],
 "metadata": {
  "kernelspec": {
   "display_name": "Julia 0.3.2",
   "language": "julia",
   "name": "julia-0.3"
  },
  "language_info": {
   "file_extension": ".jl",
   "mimetype": "application/julia",
   "name": "julia",
   "version": "0.3.2"
  }
 },
 "nbformat": 4,
 "nbformat_minor": 0
}
