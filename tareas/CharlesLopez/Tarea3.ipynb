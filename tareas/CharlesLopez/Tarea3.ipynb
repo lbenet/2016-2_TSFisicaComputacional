{
 "cells": [
  {
   "cell_type": "code",
   "execution_count": 74,
   "metadata": {
    "collapsed": false
   },
   "outputs": [
    {
     "data": {
      "text/plain": [
       "derivadaD (generic function with 3 methods)"
      ]
     },
     "execution_count": 74,
     "metadata": {},
     "output_type": "execute_result"
    }
   ],
   "source": [
    "#Derivada derecha\n",
    "derivadaD(f,xo=0,h=eps(1.0)*2)=(f(xo+h)-f(xo))/h"
   ]
  },
  {
   "cell_type": "code",
   "execution_count": 97,
   "metadata": {
    "collapsed": false
   },
   "outputs": [
    {
     "data": {
      "text/plain": [
       "9.0"
      ]
     },
     "execution_count": 97,
     "metadata": {},
     "output_type": "execute_result"
    }
   ],
   "source": [
    "#Test con una funcion\n",
    "f(x)=3x^3-2\n",
    "derivadaD(f,1)"
   ]
  },
  {
   "cell_type": "code",
   "execution_count": 206,
   "metadata": {
    "collapsed": false
   },
   "outputs": [
    {
     "data": {
      "text/plain": [
       "15-element Array{Any,1}:\n",
       " -0.93       \n",
       " -0.0903     \n",
       " -0.009003   \n",
       " -0.00090003 \n",
       " -9.00003e-5 \n",
       " -8.99939e-6 \n",
       " -9.04535e-7 \n",
       " -3.41206e-8 \n",
       " -7.44663e-7 \n",
       " -7.44663e-7 \n",
       " -7.44663e-7 \n",
       " -0.000800105\n",
       "  0.0071935  \n",
       "  0.029398   \n",
       " -0.769963   "
      ]
     },
     "execution_count": 206,
     "metadata": {},
     "output_type": "execute_result"
    }
   ],
   "source": [
    "#Error con diferentes valores de h\n",
    "A=[]\n",
    "Bd=[]\n",
    "for i=1:15\n",
    "    h=1/(10.0^i)\n",
    "    d=derivadaD(f,1,h)\n",
    "    push!(A,h)\n",
    "    push!(Bd,9-d)\n",
    "end\n",
    "Bd"
   ]
  },
  {
   "cell_type": "code",
   "execution_count": 207,
   "metadata": {
    "collapsed": false
   },
   "outputs": [
    {
     "data": {
      "image/png": "[encoded data removed]",
      "text/plain": [
       "PyPlot.Figure(PyObject <matplotlib.figure.Figure object at 0x0000000020FDE358>)"
      ]
     },
     "metadata": {},
     "output_type": "display_data"
    },
    {
     "data": {
      "text/plain": [
       "1-element Array{Any,1}:\n",
       " PyObject <matplotlib.lines.Line2D object at 0x0000000021A60978>"
      ]
     },
     "execution_count": 207,
     "metadata": {},
     "output_type": "execute_result"
    }
   ],
   "source": [
    "using PyPlot\n",
    "plot(A,Bd)"
   ]
  },
  {
   "cell_type": "markdown",
   "metadata": {},
   "source": [
    "Q. A partir de eso, ¿qué conclusión podemos sacar sobre la convergencia del cálculo numérico de la derivada?\n",
    "\n",
    "Que conforme h se vuelve mas pequeña el calculu numerico se acerca a error 0"
   ]
  },
  {
   "cell_type": "code",
   "execution_count": 203,
   "metadata": {
    "collapsed": false
   },
   "outputs": [
    {
     "data": {
      "text/plain": [
       "derivadaS (generic function with 3 methods)"
      ]
     },
     "execution_count": 203,
     "metadata": {},
     "output_type": "execute_result"
    }
   ],
   "source": [
    "#Derivada simetrica\n",
    "derivadaS(f,xo=0,h=eps(1.0)*2)=(f(xo+h)-f(xo-h))/2h"
   ]
  },
  {
   "cell_type": "code",
   "execution_count": 204,
   "metadata": {
    "collapsed": false
   },
   "outputs": [
    {
     "data": {
      "text/plain": [
       "9.0"
      ]
     },
     "execution_count": 204,
     "metadata": {},
     "output_type": "execute_result"
    }
   ],
   "source": [
    "#Test con una funcion\n",
    "f(x)=3x^3-2\n",
    "derivadaS(f,1)"
   ]
  },
  {
   "cell_type": "code",
   "execution_count": 221,
   "metadata": {
    "collapsed": false
   },
   "outputs": [
    {
     "data": {
      "text/plain": [
       "15-element Array{Any,1}:\n",
       " -0.03       \n",
       " -0.0003     \n",
       " -3.0e-6     \n",
       " -2.9995e-8  \n",
       " -3.0321e-10 \n",
       "  7.42659e-11\n",
       " -8.13912e-10\n",
       "  1.02883e-8 \n",
       " -3.00574e-7 \n",
       " -7.44663e-7 \n",
       " -7.44663e-7 \n",
       " -0.000356016\n",
       "  0.00275261 \n",
       "  0.029398   \n",
       " -0.325873   "
      ]
     },
     "execution_count": 221,
     "metadata": {},
     "output_type": "execute_result"
    }
   ],
   "source": [
    "#Error con diferentes valores de h\n",
    "Bs=[]\n",
    "for i=1:15\n",
    "    h=1/(10.0^i)\n",
    "    d=derivadaS(f,1,h)\n",
    "    push!(Bs,9-d)\n",
    "end\n",
    "Bs"
   ]
  },
  {
   "cell_type": "markdown",
   "metadata": {},
   "source": [
    "Parecen ser mas chicos el error"
   ]
  },
  {
   "cell_type": "code",
   "execution_count": 233,
   "metadata": {
    "collapsed": false,
    "scrolled": true
   },
   "outputs": [
    {
     "data": {
      "text/plain": [
       "derivadaC (generic function with 3 methods)"
      ]
     },
     "execution_count": 233,
     "metadata": {},
     "output_type": "execute_result"
    }
   ],
   "source": [
    "#Derivada compleja\n",
    "derivadaC(f,xo=0,h=eps(1.0)*2)=imag(f(xo+(h*im))/h)"
   ]
  },
  {
   "cell_type": "code",
   "execution_count": 234,
   "metadata": {
    "collapsed": false
   },
   "outputs": [
    {
     "data": {
      "text/plain": [
       "9.0"
      ]
     },
     "execution_count": 234,
     "metadata": {},
     "output_type": "execute_result"
    }
   ],
   "source": [
    "#Test con una funcion\n",
    "f(x)=3x^3-2\n",
    "derivadaC(f,1)"
   ]
  },
  {
   "cell_type": "code",
   "execution_count": 235,
   "metadata": {
    "collapsed": false
   },
   "outputs": [
    {
     "data": {
      "text/plain": [
       "15-element Array{Any,1}:\n",
       "  0.03       \n",
       "  0.0003     \n",
       "  3.0e-6     \n",
       "  3.0e-8     \n",
       "  3.0e-10    \n",
       "  3.00027e-12\n",
       "  3.01981e-14\n",
       "  1.77636e-15\n",
       "  0.0        \n",
       "  0.0        \n",
       "  0.0        \n",
       " -1.77636e-15\n",
       "  0.0        \n",
       "  0.0        \n",
       "  0.0        "
      ]
     },
     "execution_count": 235,
     "metadata": {},
     "output_type": "execute_result"
    }
   ],
   "source": [
    "#Error con diferentes valores de h\n",
    "Bc=[]\n",
    "for i=1:15\n",
    "    h=1/(10.0^i)\n",
    "    d=derivadaC(f,1,h)\n",
    "    push!(Bc,9-d)\n",
    "end\n",
    "Bc"
   ]
  },
  {
   "cell_type": "markdown",
   "metadata": {},
   "source": [
    "Q. ¿Cuál de las definiciones anteriores es mejor en términos de dar el valor más exacto de la derivada?"
   ]
  },
  {
   "cell_type": "code",
   "execution_count": 250,
   "metadata": {
    "collapsed": false
   },
   "outputs": [
    {
     "name": "stdout",
     "output_type": "stream",
     "text": [
      "\t Derecha \t\t Simetrica \t\t Compleja \n",
      "-0.9300000000000122\t-0.03000000000000469\t*0.02999999999999936\n",
      "-0.0902999999999956\t-0.0003000000000046299\t*0.0002999999999993008\n",
      "-0.00900299999829457\t*-2.9999992570139966e-6\t3.0000000013075123e-6\n",
      "-0.0009000299939856404\t*-2.9995014472206094e-8\t2.999999892949745e-8\n",
      "-9.000033286099551e-5\t-3.0320990163090755e-10\t*3.000000248221113e-10\n",
      "-8.999393571684777e-6\t7.426592674164567e-11\t*3.000266701747023e-12\n",
      "-9.045354545378359e-7\t-8.139124929584796e-10\t*3.019806626980426e-14\n",
      "-3.4120603231713176e-8\t1.0288317753293086e-8\t*1.7763568394002505e-15\n",
      "-7.446633389918134e-7\t-3.0057412914175075e-7\t*0.0\n",
      "-7.446633389918134e-7\t-7.446633389918134e-7\t*0.0\n",
      "-7.446633389918134e-7\t-7.446633389918134e-7\t*0.0\n",
      "-0.0008001052410691045\t-0.0003560160312190419\t*-1.7763568394002505e-15\n",
      "0.007193500536232023\t0.0027526084377313964\t*0.0\n",
      "0.029397961028735153\t0.029397961028735153\t*0.0\n",
      "-0.7699626167013776\t-0.32587340685131494\t*0.0\n"
     ]
    }
   ],
   "source": [
    "print(\"\\t Derecha \\t\\t Simetrica \\t\\t Compleja \\n\")\n",
    "for i=1:15    \n",
    "    if(abs(Bd[i])<abs(Bs[i]) && abs(Bd[i])<abs(Bc[i]))\n",
    "        print(\"*\")\n",
    "    end\n",
    "    print(Bd[i],\"\\t\")\n",
    "    if(abs(Bs[i])<abs(Bd[i]) && abs(Bs[i])<abs(Bc[i]))\n",
    "        print(\"*\")\n",
    "    end\n",
    "    print(Bs[i],\"\\t\")\n",
    "    if(abs(Bc[i])<abs(Bs[i]) && abs(Bc[i])<abs(Bd[i]))\n",
    "        print(\"*\")\n",
    "    end\n",
    "    print(Bc[i],\"\\n\")\n",
    "end"
   ]
  },
  {
   "cell_type": "markdown",
   "metadata": {},
   "source": [
    "La compleja tiene menos error"
   ]
  }
 ],
 "metadata": {
  "kernelspec": {
   "display_name": "Julia 0.4.3",
   "language": "julia",
   "name": "julia-0.4"
  },
  "language_info": {
   "file_extension": ".jl",
   "mimetype": "application/julia",
   "name": "julia",
   "version": "0.4.3"
  }
 },
 "nbformat": 4,
 "nbformat_minor": 0
}
