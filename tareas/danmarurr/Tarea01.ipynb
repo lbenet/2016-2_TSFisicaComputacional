{
 "cells": [
  {
   "cell_type": "markdown",
   "metadata": {},
   "source": [
    "# Tarea 1\n",
    "\n",
    "### Daniel Martínez Urrieta\n",
    "\n",
    "Un polinomio de segundo grado está dado en general por la ecuación:\n",
    "\\begin{equation}\n",
    "    ax^2 + bx + c   \\ \\ \\ a, b, c \\in \\mathbb{C}\n",
    "\\end{equation}\n",
    "\n",
    "Para hallar los ceros de ésta ecuación se puede emplear la fórmula general dada por:\n",
    "\\begin{equation}\n",
    "    x = \\frac{-b \\pm \\sqrt{b^2-4ac}}{2a}\n",
    "\\end{equation}\n",
    "\n",
    "Ésta fórmula es válida para coeficientes complejos en general, sin embargo, debe considerarse que si $a, b, c \\in \\mathbb{R}$ y el discriminante $b^2-4ac<0$ entonces las raíces del polinomio serán complejas. Para lograr que la función sea `type-stable` debemos verificar el valor del discrimante pues es el único caso en el cual podemos tomar valores reales (de punto flotante) y regresar valores de otro tipo. Tambien es importante verificar si alguno de los argumentos es complejo, para esto usaremos la función `isa`, ya que en el proceso hay una comparación de orden y podría causar conflictos si se usan valores de este tipo.\n",
    "\n",
    "Se implementará la función `quadratic` para encontrar los ceros de un polinomio de segundo grado dados sus coeficientes `a, b, c`."
   ]
  },
  {
   "cell_type": "code",
   "execution_count": 72,
   "metadata": {
    "collapsed": false
   },
   "outputs": [
    {
     "data": {
      "text/plain": [
       "resuelve_cuad (generic function with 1 method)"
      ]
     },
     "execution_count": 72,
     "metadata": {},
     "output_type": "execute_result"
    }
   ],
   "source": [
    "function quadratic(a, b, c)\n",
    "    disc = b^2 - 4*a*c #Calculamos el valor del discriminante\n",
    "    if isa(a, Complex) | isa(b, Complex) | isa(c, Complex) \n",
    "        resuelve_cuad(a, b, c, disc)\n",
    "    elseif disc < 0     \n",
    "        println(\"DOMAIN ERROR. Verifica el tipo de tus variables.\")\n",
    "    else\n",
    "        resuelve_cuad(a, b, c, disc)\n",
    "    end\n",
    "end\n",
    "\n",
    "function resuelve_cuad(a, b, c, disc) #El algoritmo para encontrar las raíces\n",
    "    sq = sqrt(disc)\n",
    "    x1 = (-b+sq)/(2a)\n",
    "    x2 = (-b-sq)/(2a)\n",
    "    if x1 == x2\n",
    "        x1\n",
    "    else\n",
    "        raices = typeof(x1)[x1,x2]\n",
    "    end\n",
    "end"
   ]
  },
  {
   "cell_type": "markdown",
   "metadata": {},
   "source": [
    "### Nota Importante\n",
    "\n",
    "La idea en la línea 4 de la celda anterior es reconocer si alguno de los argumentos es complejo, si esto es verdadero, la variable `disc` será compleja, por lo que la función `sqrt` de `Julia` podrá regresar valores complejos."
   ]
  },
  {
   "cell_type": "markdown",
   "metadata": {},
   "source": [
    "### Comprobando el funcionamiento\n",
    "\n",
    "Resolveremos algunas ecuaciones de segundo grado para comprobar el funcionamiento de la función `quadratic`, el primer ejemplo será resolver la ecuación:\n",
    "$$ x^2 + 2x+-8=0$$\n",
    "cuyas raíces son $x_1 = -4$ y $x_2 = 2$:"
   ]
  },
  {
   "cell_type": "code",
   "execution_count": 74,
   "metadata": {
    "collapsed": false
   },
   "outputs": [
    {
     "data": {
      "text/plain": [
       "2-element Array{Float64,1}:\n",
       "  2.0\n",
       " -4.0"
      ]
     },
     "execution_count": 74,
     "metadata": {},
     "output_type": "execute_result"
    }
   ],
   "source": [
    "quadratic(1,2,-8)"
   ]
  },
  {
   "cell_type": "markdown",
   "metadata": {},
   "source": [
    "La segunda ecuación que emplearemos será:\n",
    "$$x^2+1=0$$\n",
    "cuyas raíces son $x = \\pm i$, primero usaremos argumentos reales, esto deberá regresar un error. Posteriormente se introducirá un argumento complejo, lo cual permitirá calcular las raíces de la ecuación"
   ]
  },
  {
   "cell_type": "code",
   "execution_count": 75,
   "metadata": {
    "collapsed": false
   },
   "outputs": [
    {
     "name": "stdout",
     "output_type": "stream",
     "text": [
      "DOMAIN ERROR. Verifica el tipo de tus variables.\n"
     ]
    }
   ],
   "source": [
    "quadratic(1,0,1)"
   ]
  },
  {
   "cell_type": "code",
   "execution_count": 76,
   "metadata": {
    "collapsed": false
   },
   "outputs": [
    {
     "data": {
      "text/plain": [
       "2-element Array{Complex{Float64},1}:\n",
       " 0.0+1.0im\n",
       " 0.0-1.0im"
      ]
     },
     "execution_count": 76,
     "metadata": {},
     "output_type": "execute_result"
    }
   ],
   "source": [
    "quadratic(1+0im,0,1)"
   ]
  }
 ],
 "metadata": {
  "kernelspec": {
   "display_name": "Julia 0.4.2",
   "language": "julia",
   "name": "julia-0.4"
  },
  "language_info": {
   "file_extension": ".jl",
   "mimetype": "application/julia",
   "name": "julia",
   "version": "0.4.2"
  }
 },
 "nbformat": 4,
 "nbformat_minor": 0
}
