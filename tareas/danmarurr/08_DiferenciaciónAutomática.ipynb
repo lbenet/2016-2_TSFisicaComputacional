{
 "cells": [
  {
   "cell_type": "markdown",
   "metadata": {
    "slideshow": {
     "slide_type": "slide"
    }
   },
   "source": [
    "# Diferenciación automática: Parte 2"
   ]
  },
  {
   "cell_type": "markdown",
   "metadata": {},
   "source": [
    "### NOTA\n",
    "\n",
    "Este notebook se iniciará en la clase y **debe** hacerse en equipo, con los *mismos miembros* que participaron en la \"Tarea4.ipynb\". La resolución completa de los ejercicios debe ser enviada como \"Tarea5.ipynb\"."
   ]
  },
  {
   "cell_type": "markdown",
   "metadata": {
    "slideshow": {
     "slide_type": "slide"
    }
   },
   "source": [
    "## Funciones elementales"
   ]
  },
  {
   "cell_type": "markdown",
   "metadata": {},
   "source": [
    "Lo que se logró en la clase pasada fue, esencialmente, tener una manera de obtener primeras\n",
    "derivadas para cualquier función racional, esto es, cocientes de polinomios en una variable.\n",
    "\n",
    "El siguiente paso es incluir más funciones a fin de ampliar la aplicabilidad de lo hecho la vez pasada, en particular a las funciones elementales: $\\exp$, $\\log$, etc."
   ]
  },
  {
   "cell_type": "markdown",
   "metadata": {
    "slideshow": {
     "slide_type": "slide"
    }
   },
   "source": [
    "La extensión a estas funciones es elemental, y así por ejemplo tenemos:\n",
    "\n",
    "\\begin{eqnarray}\n",
    "\\exp[\\vec{f}(x_0)] &=& \\big( \\exp(f_0),\\, f'_0\\exp(f_0) \\,\\big),\\\\\n",
    "\\log[\\vec{f}(x_0)] &=& \\big( \\log(f_0),\\, \\frac{f'_0}{f_0} \\,\\big),\\\\\n",
    "\\sin[\\vec{f}(x_0)] &=& \\big( \\sin(f_0),\\, f'_0\\cos(f_0) \\,\\big),\\\\\n",
    "\\cos[\\vec{f}(x_0)] &=& \\big( \\cos(f_0),\\, -f'_0\\sin(f_0) \\,\\big),\\\\\n",
    "\\tan[\\vec{f}(x_0)] &=& \\big( \\tan(f_0),\\, f'_0\\sec^2(f_0) \\,\\big),\\\\\n",
    "\\sinh[\\vec{f}(x_0)] &=& \\big( \\sinh(f_0),\\, f'_0\\cosh(f_0) \\,\\big),\\\\\n",
    "...\\\\\n",
    "\\end{eqnarray}\n",
    "\n",
    "Vale la pena enfatizar que la regla de la cadena se utiliza en la segunda componente del \n",
    "lado derecho de estas ecuaciones."
   ]
  },
  {
   "cell_type": "markdown",
   "metadata": {
    "collapsed": true,
    "slideshow": {
     "slide_type": "slide"
    }
   },
   "source": [
    "## Ejercicio\n",
    "\n",
    "Implementen las funciones relacionadas con potencias, exponenciales, logarítmos, las funciones trigonométricas y las hiperbólicas que tiene Julia definidas (ver la [documentación](http://julia.readthedocs.org/en/release-0.4/manual/mathematical-operations/#trigonometric-and-hyperbolic-functions)). La implementación debe incluir los tests adecuados. La manera en que implementen las cosas debe estar clara en el notebook \"Tarea5.ipynb\", pero toda la funcionalidad debe ser incluida en \"AutomDiff.jl\" al igual que en \"runtests.jl\"\n",
    "\n",
    "**Hint:** Aprovechen las capacidades de Julia en metaprogramming."
   ]
  },
  {
   "cell_type": "code",
   "execution_count": 1,
   "metadata": {
    "collapsed": false
   },
   "outputs": [],
   "source": [
    "include(\"AutomDiff.jl\")\n",
    "using AD.Dual, AD.xdual"
   ]
  },
  {
   "cell_type": "code",
   "execution_count": 2,
   "metadata": {
    "collapsed": false
   },
   "outputs": [
    {
     "data": {
      "text/plain": [
       "exp (generic function with 13 methods)"
      ]
     },
     "execution_count": 2,
     "metadata": {},
     "output_type": "execute_result"
    }
   ],
   "source": [
    "import Base: exp, sin, cos, tan, cot, sec, csc, sinh, cosh, tanh, coth, sech, csch,\n",
    "asin,   acos,   atan,   acot,   asec,   acsc,\n",
    "asinh,  acosh,  atanh,  acoth,  asech,  acsch\n",
    "\n",
    "exp(a::Dual) = Dual(exp(a.fun), a.der*exp(a.fun))\n",
    "sin(a::Dual) = Dual(sin(a.fun), a.der*cos(a.fun))\n",
    "cos(a::Dual) = Dual(cos(a.fun), -a.der*sin(a.fun))\n",
    "\n",
    "\n",
    "function derivada_Dual(exp::Symbol, der::Expr)\n",
    "    e = :($exp(a:Dual))\n",
    "    "
   ]
  },
  {
   "cell_type": "code",
   "execution_count": 15,
   "metadata": {
    "collapsed": false
   },
   "outputs": [
    {
     "name": "stdout",
     "output_type": "stream",
     "text": [
      "+\n",
      "begin "
     ]
    },
    {
     "ename": "LoadError",
     "evalue": "LoadError: UndefVarError: Vector2D not defined\nwhile loading In[15], in expression starting on line 3",
     "output_type": "error",
     "traceback": [
      "LoadError: UndefVarError: Vector2D not defined\nwhile loading In[15], in expression starting on line 3",
      "",
      " [inlined code] from In[15]:13",
      " in anonymous at no file:0"
     ]
    },
    {
     "name": "stdout",
     "output_type": "stream",
     "text": [
      " # In[15], line 6:\n",
      "    function +(a::Vector2D,b::Vector2D) # In[15], line 7:\n",
      "        xx = a.x + b.x # In[15], line 8:\n",
      "        yy = a.y + b.y # In[15], line 9:\n",
      "        return Vector2D(xx,yy)\n",
      "    end\n",
      "end\n"
     ]
    }
   ],
   "source": [
    "import Base: +, -\n",
    "\n",
    "for fn = (:+, :-)\n",
    "    println(fn)\n",
    "    ex = quote\n",
    "        function ($fn)(a::Vector2D, b::Vector2D)\n",
    "            xx = ($fn)(a.x, b.x)\n",
    "            yy = ($fn)(a.y, b.y)\n",
    "            return Vector2D(xx, yy)\n",
    "        end\n",
    "    end\n",
    "    println(ex)\n",
    "    @eval $ex\n",
    "end"
   ]
  },
  {
   "cell_type": "markdown",
   "metadata": {
    "slideshow": {
     "slide_type": "slide"
    }
   },
   "source": [
    "## Ejercicio\n",
    "\n",
    "Prueben su implementación calculando la derivada de $f(x) = \\sin\\Big(x^3 - \\frac{2}{x^6}\\Big)$\n",
    "en $x_0 = 2$.\n",
    "\n",
    "Dibujen, para $x_0 \\in [1,5]$ la función $f'(x)$."
   ]
  },
  {
   "cell_type": "markdown",
   "metadata": {},
   "source": [
    "# Ejercicio\n",
    "\n",
    "Implementen el método de Newton para una función arbitraria $f(x)$ en una variable (la función `newton1D` debe tener un argumento que es una función) a fin de encontrar un cero de la función, i.e., $f(x^*)=0$. El método de Newton requiere la derivada evaluada en diversos puntos, cosa que obtendrán usando el módulo de derivación automática.\n",
    "\n",
    "- Obtengan, usando su función del método de Newton, las raices del polinomio de Wilkinson $W_{6}(x)$, usando como iterados iniciales $x_0=2.2$ y $x_0=2.45$.\n",
    "    \n",
    "- Hagan lo mismo que en el inciso anterior para $g(x) = x \\sin(2x)$, con $x_0=0.7$."
   ]
  },
  {
   "cell_type": "code",
   "execution_count": null,
   "metadata": {
    "collapsed": true
   },
   "outputs": [],
   "source": []
  },
  {
   "cell_type": "markdown",
   "metadata": {},
   "source": [
    "# Pregunta\n",
    "\n",
    "¿Qué hacer si se requieren derivadas de orden superior, es decir, la segunda, tercera, etc, derivada? Argumenten.\n",
    "\n",
    "**NOTA:** Esta pregunta debe ser contestada pero **no** será considerada para aceptar la tarea; la idea es empezar a pensar en esto."
   ]
  },
  {
   "cell_type": "code",
   "execution_count": null,
   "metadata": {
    "collapsed": true
   },
   "outputs": [],
   "source": []
  }
 ],
 "metadata": {
  "celltoolbar": "Slideshow",
  "kernelspec": {
   "display_name": "Julia 0.4.2",
   "language": "julia",
   "name": "julia-0.4"
  },
  "language_info": {
   "file_extension": ".jl",
   "mimetype": "application/julia",
   "name": "julia",
   "version": "0.4.2"
  }
 },
 "nbformat": 4,
 "nbformat_minor": 0
}
