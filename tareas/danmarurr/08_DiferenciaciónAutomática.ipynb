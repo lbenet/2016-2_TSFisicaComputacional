{
 "cells": [
  {
   "cell_type": "markdown",
   "metadata": {
    "slideshow": {
     "slide_type": "slide"
    }
   },
   "source": [
    "# Diferenciación automática: Parte 2"
   ]
  },
  {
   "cell_type": "markdown",
   "metadata": {},
   "source": [
    "### NOTA\n",
    "\n",
    "Este notebook se iniciará en la clase y **debe** hacerse en equipo, con los *mismos miembros* que participaron en la \"Tarea4.ipynb\". La resolución completa de los ejercicios debe ser enviada como \"Tarea5.ipynb\"."
   ]
  },
  {
   "cell_type": "markdown",
   "metadata": {
    "slideshow": {
     "slide_type": "slide"
    }
   },
   "source": [
    "## Funciones elementales"
   ]
  },
  {
   "cell_type": "markdown",
   "metadata": {},
   "source": [
    "Lo que se logró en la clase pasada fue, esencialmente, tener una manera de obtener primeras\n",
    "derivadas para cualquier función racional, esto es, cocientes de polinomios en una variable.\n",
    "\n",
    "El siguiente paso es incluir más funciones a fin de ampliar la aplicabilidad de lo hecho la vez pasada, en particular a las funciones elementales: $\\exp$, $\\log$, etc."
   ]
  },
  {
   "cell_type": "markdown",
   "metadata": {
    "slideshow": {
     "slide_type": "slide"
    }
   },
   "source": [
    "La extensión a estas funciones es elemental, y así por ejemplo tenemos:\n",
    "\n",
    "\\begin{eqnarray}\n",
    "\\exp[\\vec{f}(x_0)] &=& \\big( \\exp(f_0),\\, f'_0\\exp(f_0) \\,\\big),\\\\\n",
    "\\log[\\vec{f}(x_0)] &=& \\big( \\log(f_0),\\, \\frac{f'_0}{f_0} \\,\\big),\\\\\n",
    "\\sin[\\vec{f}(x_0)] &=& \\big( \\sin(f_0),\\, f'_0\\cos(f_0) \\,\\big),\\\\\n",
    "\\cos[\\vec{f}(x_0)] &=& \\big( \\cos(f_0),\\, -f'_0\\sin(f_0) \\,\\big),\\\\\n",
    "\\tan[\\vec{f}(x_0)] &=& \\big( \\tan(f_0),\\, f'_0\\sec^2(f_0) \\,\\big),\\\\\n",
    "\\sinh[\\vec{f}(x_0)] &=& \\big( \\sinh(f_0),\\, f'_0\\cosh(f_0) \\,\\big),\\\\\n",
    "...\\\\\n",
    "\\end{eqnarray}\n",
    "\n",
    "Vale la pena enfatizar que la regla de la cadena se utiliza en la segunda componente del \n",
    "lado derecho de estas ecuaciones."
   ]
  },
  {
   "cell_type": "markdown",
   "metadata": {
    "collapsed": true,
    "slideshow": {
     "slide_type": "slide"
    }
   },
   "source": [
    "## Ejercicio\n",
    "\n",
    "Implementen las funciones relacionadas con potencias, exponenciales, logarítmos, las funciones trigonométricas y las hiperbólicas que tiene Julia definidas (ver la [documentación](http://julia.readthedocs.org/en/release-0.4/manual/mathematical-operations/#trigonometric-and-hyperbolic-functions)). La implementación debe incluir los tests adecuados. La manera en que implementen las cosas debe estar clara en el notebook \"Tarea5.ipynb\", pero toda la funcionalidad debe ser incluida en \"AutomDiff.jl\" al igual que en \"runtests.jl\"\n",
    "\n",
    "**Hint:** Aprovechen las capacidades de Julia en metaprogramming."
   ]
  },
  {
   "cell_type": "code",
   "execution_count": 1,
   "metadata": {
    "collapsed": false
   },
   "outputs": [],
   "source": [
    "#Importamos lo que ya hicimos sobre los duales\n",
    "include(\"AutomDiff.jl\")\n",
    "#using AD.Dual, AD.xdual\n",
    "import AD: Dual, xdual"
   ]
  },
  {
   "cell_type": "code",
   "execution_count": 3,
   "metadata": {
    "collapsed": false
   },
   "outputs": [],
   "source": [
    "# OJO! Estas definiciones ya fueron incluidas en el modulo de AutomDiff.jl\n",
    "#Importamos todas las funciones para las cuales queremos definir su operacion \n",
    "import Base: ^, exp, sqrt, cbrt, sin, cos, tan, cot, sec, csc, sinh, cosh, tanh, coth, sech, csch,\n",
    "asin,   acos,   atan,   acot,   asec,   acsc,\n",
    "asinh,  acosh,  atanh,  acoth,  asech,  acsch\n",
    "\n",
    "#Vector con todos los símbolos asociados a las funciones trigométricas, exponenciales, etc. y sus respectivas\n",
    "#derivadas\n",
    "Vec_Func = [(:sin, :cos), (:cos, :(x -> -sin(x))), (:tan, :(x -> (sec(x))^2)), (:cot, :(x -> -(csc(x))^2)), \n",
    "    (:sec, :(x -> sec(x)*tan(x))), (:csc, :(x -> -csc(x)*cot(x))), (:sinh, :cosh), (:cosh, :sinh), \n",
    "    (:tanh, :(x -> (sech(x))^2)), (:coth, :(x -> -(csch(x))^2)), (:asin, :(x -> 1/sqrt(1-x^2))), \n",
    "    (:acos, :(x -> -1/sqrt(1-x^2))), (:atan, :(x -> 1/(1+x^2))), (:acot, :(x -> -1/(1+x^2))),\n",
    "    (:asec, :(x -> 1/(sqrt(1-x^-2)*x^2))), (:acsc, :(x -> -1/(sqrt(1-x^-2)*x^2))), (:asinh, :(x -> 1/sqrt(1+x^2))),\n",
    "    (:acosh, :(x -> 1/sqrt(x^2-1))), (:atanh, :(x -> 1/(1-x^2))), (:acoth, :(x -> 1/(1-x^2))),\n",
    "    (:asech, :(x -> 1/(x*sqrt(1-x^2)))), (:acsch, :(x -> 1/(x*sqrt(1-x^2)))), (:acsch, :(x -> -1/(x*sqrt(1+x^2)))),\n",
    "    (:sqrt, :(x -> 1/(2*sqrt(x)))), (:exp, :exp), (:cbrt, :(x -> 1/(3*x^(2/3))))]\n",
    "\n",
    "#Casos especiales: los logarítmos y a^x\n",
    "log(a::Dual) = Dual(log(a.fun), a.der/a.fun)\n",
    "log{T<:Real}(b::T, a::Dual) = Dual(log(b,a.fun), a.der/(log(b)*a.fun))\n",
    "^{T<:Real}(b::T, a::Dual) = Dual(b^a.fun, a.der*log(b)*b^a.fun)\n",
    "\n",
    "#Loop para crear los nuevos métodos a partir de los símbolos\n",
    "for r in 1:length(Vec_Func)\n",
    "    fn = Vec_Func[r][1] #El primer símbolo está asociado a la función\n",
    "    der = Vec_Func[r][2] #El segundo símbolo está asociado a la derivada de la función\n",
    "    ex = quote #Creamos una nueva expresión\n",
    "        function ($fn)(a::Dual) #Definimos fn(a::Dual)\n",
    "            fun = ($fn)(a.fun)\n",
    "            derv = ($der)(a.fun)\n",
    "            return Dual(fun, derv*a.der) #Aplicamos la regla de la cadena\n",
    "        end\n",
    "    end\n",
    "    @eval $ex #Evaluamos la expresión para crear el método\n",
    "end"
   ]
  },
  {
   "cell_type": "code",
   "execution_count": 44,
   "metadata": {
    "collapsed": false
   },
   "outputs": [],
   "source": [
    "using Base.Test\n",
    "\n",
    "#Aquí están las cosas para ver las cosas chequen como debe ser\n",
    "d1 = xdual(π/2)\n",
    "\n",
    "@test sin(d1) == Dual(sin(d1.fun), cos(d1.fun)*d1.der)\n",
    "@test cos(d1) == Dual(cos(d1.fun), - sin(d1.fun)*d1.der)\n"
   ]
  },
  {
   "cell_type": "markdown",
   "metadata": {},
   "source": [
    "Ok... las cosas están funcionando como queremos... vamos a tratar de hacer un ciclo que lo defina de manera automatica, con metaprogramming."
   ]
  },
  {
   "cell_type": "code",
   "execution_count": 45,
   "metadata": {
    "collapsed": false
   },
   "outputs": [
    {
     "data": {
      "text/plain": [
       "probar_en_dual (generic function with 1 method)"
      ]
     },
     "execution_count": 45,
     "metadata": {},
     "output_type": "execute_result"
    }
   ],
   "source": [
    "function probar_en_dual(d::Dual)  \n",
    "    for exp in Vec_Func\n",
    "        fun = exp[1]\n",
    "        der = exp[2]\n",
    "\n",
    "        e = quote\n",
    "            p = ($fun)($d) == Dual(($fun)($d.fun), (($der)($d.fun))*$d.der) \n",
    "        end\n",
    "        \n",
    "        @eval $e\n",
    "        #println(p)\n",
    "        @test p\n",
    "    end            \n",
    "end"
   ]
  },
  {
   "cell_type": "code",
   "execution_count": 46,
   "metadata": {
    "collapsed": false
   },
   "outputs": [
    {
     "ename": "LoadError",
     "evalue": "LoadError: DomainError:\nwhile loading In[46], in expression starting on line 1",
     "output_type": "error",
     "traceback": [
      "LoadError: DomainError:\nwhile loading In[46], in expression starting on line 1",
      "",
      " in asin at In[3]:28",
      " in probar_en_dual at In[45]:10"
     ]
    }
   ],
   "source": [
    "probar_en_dual(d1)"
   ]
  },
  {
   "cell_type": "markdown",
   "metadata": {},
   "source": [
    "Oh, no... tenemos un DomainError... ahh, pero es por el dual que probamos.\n",
    "Si hacemos:"
   ]
  },
  {
   "cell_type": "code",
   "execution_count": 53,
   "metadata": {
    "collapsed": false
   },
   "outputs": [],
   "source": [
    "d2 = xdual(0.5)\n",
    "@test asin(d2) == Dual(asin(d2.fun), (1/sqrt(1-(d2.fun)^2))*d2.der)"
   ]
  },
  {
   "cell_type": "markdown",
   "metadata": {},
   "source": [
    "Jala... chido."
   ]
  },
  {
   "cell_type": "markdown",
   "metadata": {
    "slideshow": {
     "slide_type": "slide"
    }
   },
   "source": [
    "## Ejercicio\n",
    "\n",
    "Prueben su implementación calculando la derivada de $f(x) = \\sin\\Big(x^3 - \\frac{2}{x^6}\\Big)$\n",
    "en $x_0 = 2$.\n",
    "\n",
    "Dibujen, para $x_0 \\in [1,5]$ la función $f'(x)$."
   ]
  },
  {
   "cell_type": "code",
   "execution_count": null,
   "metadata": {
    "collapsed": false
   },
   "outputs": [],
   "source": [
    "#Definamos la funcion fea:\n",
    "f(x) = sin(x^3 - 2/x^6)"
   ]
  },
  {
   "cell_type": "code",
   "execution_count": null,
   "metadata": {
    "collapsed": false
   },
   "outputs": [],
   "source": [
    "#Ésto debería regresarnos la evaluación de f(2) y f'(2)\n",
    "x_0 = xdual(2)\n",
    "r = f(x_0)"
   ]
  },
  {
   "cell_type": "markdown",
   "metadata": {},
   "source": [
    "Según Wolfram Alpha, la derivada de esa función en ese punto está dada por:\n",
    "![diagrama](Imagenes_Tarea5/derivada.png \"Imagen1\")\n",
    "\n",
    "Y según Julia, $f'(2) \\approx -1.384934$, por lo que podemos concluir que el cálculo es correcto"
   ]
  },
  {
   "cell_type": "code",
   "execution_count": null,
   "metadata": {
    "collapsed": true
   },
   "outputs": [],
   "source": [
    "using PyPlot"
   ]
  },
  {
   "cell_type": "code",
   "execution_count": null,
   "metadata": {
    "collapsed": false
   },
   "outputs": [],
   "source": [
    "# Para crear la gráfica de la derivada en el punto, primero crearemos un vector de duales que corran en el intervalo\n",
    "# [1, 5], posteriormente evaluaremos la función en cada Dual y de ese arreglo, extraeremos el valor de la segunda\n",
    "# entrada para obtener el valor de la derivada en cada punto\n",
    "arr1 = [xdual(r) for r in 1:0.01:5]\n",
    "arr2 = [f(x) for x in arr1]\n",
    "dom = collect(1:0.01:5)\n",
    "ran = Float64[x.der for x in arr2];"
   ]
  },
  {
   "cell_type": "code",
   "execution_count": null,
   "metadata": {
    "collapsed": false
   },
   "outputs": [],
   "source": [
    "figure(figsize=(5,4))\n",
    "plot(dom, ran)\n",
    "xlabel(\"x\")\n",
    "ylabel(\"f'(x)\")\n",
    "title(\"Derivada de f(x) en [1,5]\")"
   ]
  },
  {
   "cell_type": "markdown",
   "metadata": {},
   "source": [
    "# Ejercicio\n",
    "\n",
    "Implementen el método de Newton para una función arbitraria $f(x)$ en una variable (la función `newton1D` debe tener un argumento que es una función) a fin de encontrar un cero de la función, i.e., $f(x^*)=0$. El método de Newton requiere la derivada evaluada en diversos puntos, cosa que obtendrán usando el módulo de derivación automática.\n",
    "\n",
    "- Obtengan, usando su función del método de Newton, las raices del polinomio de Wilkinson $W_{6}(x)$, usando como iterados iniciales $x_0=2.2$ y $x_0=2.45$.\n",
    "    \n",
    "- Hagan lo mismo que en el inciso anterior para $g(x) = x \\sin(2x)$, con $x_0=0.7$."
   ]
  },
  {
   "cell_type": "code",
   "execution_count": null,
   "metadata": {
    "collapsed": false
   },
   "outputs": [],
   "source": [
    "#Implementaremos el método de Newton, para hallar un cero de una función arbitraria, según nosotros, se necesita\n",
    "#por lo menos una adivinanza para iterar a partir de ella. Así que la función newton1D tendrá dos argumentos, la\n",
    "#función y la adivinanza, que por defecto tendrá valor del dual (1,1)\n",
    "function newton1D{T<:Real}(f::Function, x::T)\n",
    "    x_0 = xdual(x)\n",
    "    approx = f(x_0)\n",
    "    approx_c = x_0.fun - approx.fun/approx.der\n",
    "    if abs(f(approx_c)⋅f(approx_c)) > 1e-20\n",
    "        newton1D(f, approx_c)\n",
    "    else \n",
    "        return approx_c\n",
    "    end\n",
    "end   \n",
    "\n",
    "#Ahora, nos robaremos el código de Luis para crear los polinomios de Wilkinson\n",
    "nombre(n::Int) = symbol( string(\"W_\", n) )\n",
    "function wilkinson(n::Int)\n",
    "    # Checo que `n` sea >= 1\n",
    "    @assert n >= 1\n",
    "    \n",
    "    ex = :(x-1)\n",
    "    for i = 2:n\n",
    "        ex = :( ($ex) * ( x-$i) )\n",
    "    end\n",
    "    ex_ret = :( $(nombre(n))(x) = $ex )\n",
    "    ex_ret\n",
    "end\n",
    "\n",
    "#Creamos el polinomio W_6\n",
    "eval(wilkinson(6))"
   ]
  },
  {
   "cell_type": "code",
   "execution_count": null,
   "metadata": {
    "collapsed": false
   },
   "outputs": [],
   "source": [
    "#Ahora buscaremos un cero W_6 usando las adivinanzas iniciales solicitadas, primero con x_0 = 2.2\n",
    "newton1D(W_6, 2.2)"
   ]
  },
  {
   "cell_type": "code",
   "execution_count": null,
   "metadata": {
    "collapsed": false
   },
   "outputs": [],
   "source": [
    "#Ahora con x_0 = 2.45\n",
    "newton1D(W_6, 2.45)"
   ]
  },
  {
   "cell_type": "markdown",
   "metadata": {},
   "source": [
    "**Nota:**\n",
    "\n",
    "En ambos casos se obtuvo una raíz de la función de Wilkinson (que sabemos que son 1, 2, 3, 4, 5 y 6), extraña un poco que para 2.45 se obtuviera como raíz a 6, adicionalmente, graficaremos el cero que encuentra la función `newton1D` a partir de una adivinanza dada."
   ]
  },
  {
   "cell_type": "code",
   "execution_count": null,
   "metadata": {
    "collapsed": false
   },
   "outputs": [],
   "source": [
    "adiv = collect(0:0.01:7)\n",
    "ran2 = Float64[newton1D(W_6, x) for x in adiv];\n",
    "\n",
    "\n",
    "figure(figsize=(5,4))\n",
    "plot(adiv, ran2, linestyle=\"\", marker =\".\")\n",
    "xlabel(\"x_0\")\n",
    "ylabel(\"cero\")\n",
    "title(\"Ceros a partir de adivinanza inicial\")"
   ]
  },
  {
   "cell_type": "code",
   "execution_count": null,
   "metadata": {
    "collapsed": false
   },
   "outputs": [],
   "source": [
    "#Ahora para la función g(x)\n",
    "g(x) = x*sin(2x)\n",
    "newton1D(g, 0.7) #Tenemos que con este valor, calcula al cero como x = 0"
   ]
  },
  {
   "cell_type": "code",
   "execution_count": null,
   "metadata": {
    "collapsed": false
   },
   "outputs": [],
   "source": [
    "adiv2 = collect(0:0.1:7)\n",
    "ran3 = Float64[newton1D(g, x) for x in adiv2];\n",
    "\n",
    "\n",
    "figure(figsize=(5,4))\n",
    "plot(adiv2, ran3, linestyle=\"\", marker =\".\")\n",
    "xlabel(\"x_0\")\n",
    "ylabel(\"cero\")\n",
    "title(\"Ceros a partir de adivinanza inicial\")"
   ]
  },
  {
   "cell_type": "markdown",
   "metadata": {},
   "source": [
    "# Pregunta\n",
    "\n",
    "¿Qué hacer si se requieren derivadas de orden superior, es decir, la segunda, tercera, etc, derivada? Argumenten.\n",
    "\n",
    "**NOTA:** Esta pregunta debe ser contestada pero **no** será considerada para aceptar la tarea; la idea es empezar a pensar en esto."
   ]
  },
  {
   "cell_type": "markdown",
   "metadata": {
    "collapsed": true
   },
   "source": [
    "#### Una posible salida: \n",
    "\n",
    "Tal vez lo más ingenuo es hacer que aparezca la $n-$ésima derivada y las anteriores a ella agregando más entradas a nuestro vector $\\vec{v}$ de la siguiente forma:\n",
    "\n",
    "$$ \\vec{f} = f + \\displaystyle \\sum_{j=1}^{n}f^{(j)}\\hat{\\mathbf{h}}_j$$\n",
    "\n",
    "Claro, imponiendo condiciones sobre la multiplicación que más o menos pueden intuirse como:\n",
    "\n",
    "$\\hat{\\mathbf{h}}_i \\cdot \\hat{\\mathbf{h}}_j = 0$ si $i+j>n$\n",
    "\n",
    "$\\hat{\\mathbf{h}}_i \\cdot \\hat{\\mathbf{h}}_j = c(i,j)\\hat{\\mathbf{h}}_{i+j}$ si $i+j \\leq n$\n",
    "\n",
    "Además podríamos decir que los coeficientes $c(i,j)$ deben estar en terminos de $C_i^j$ (combinaciones de $j$ en $k$) porque queremos que la multiplicación de dos duales $\\vec{u}$ y $\\vec{v}$ ($\\vec{u}\\times\\vec{v}$) cumplan con la regla generalizada de Leibniz dada por:\n",
    "\n",
    "$$(fg)^{(n)} = \\displaystyle \\sum_{j=0}^n \\binom{n}{j}f^{(j)}g^{(n-j)}$$"
   ]
  },
  {
   "cell_type": "markdown",
   "metadata": {},
   "source": [
    "#### Una salida hipotética y más rebuscada:\n",
    "\n",
    "Tomarnos más tiempo para redefinir el concepto de \"Dual\". Si consiguiéramos que esta función nos dejase poner las derivadas y las funciones en términos de símbolos, podríamos redefinir las operaciones para que funcionaran de manera \"simbólica\". Es decir... si ```xdual()``` --> ```(:x, 1)```, definir operaciones apropiadas para ```*, +, -, ^```, etc. Esto para que el hecho de *derivar* con duales sea recursivo y obtener algo del tipo...\n",
    "```julia\n",
    "r = xdual()\n",
    "f'(x) = f(r).der\n",
    "f''(x) = f'(r).der\n",
    "\n",
    "```\n",
    "\n",
    "...o algo así.\n",
    "\n",
    "También podríamos optimizar la definión del vector de pares función-derivada utilizando metraprogramming."
   ]
  },
  {
   "cell_type": "code",
   "execution_count": null,
   "metadata": {
    "collapsed": true
   },
   "outputs": [],
   "source": []
  }
 ],
 "metadata": {
  "kernelspec": {
   "display_name": "Julia 0.4.3",
   "language": "julia",
   "name": "julia-0.4"
  },
  "language_info": {
   "file_extension": ".jl",
   "mimetype": "application/julia",
   "name": "julia",
   "version": "0.4.3"
  }
 },
 "nbformat": 4,
 "nbformat_minor": 0
}
