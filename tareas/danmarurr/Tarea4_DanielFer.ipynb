{
 "cells": [
  {
   "cell_type": "markdown",
   "metadata": {
    "slideshow": {
     "slide_type": "slide"
    }
   },
   "source": [
    "# Diferenciación automática (o algorítmica): Parte 1\n",
    "___\n",
    "## Tarea 4\n",
    "### Daniel Martínez (danmarurr, Ma. Fernanda Pérez (FernandaPerez).\n",
    "___"
   ]
  },
  {
   "cell_type": "markdown",
   "metadata": {
    "slideshow": {
     "slide_type": "-"
    }
   },
   "source": [
    "### NOTA\n",
    "\n",
    "Este notebook se iniciará en la clase y **debe** hacerse en equipo de dos personas (máximo tres). La resolución completa de los ejercicios debe ser enviada como \"Tarea4.ipynb\"."
   ]
  },
  {
   "cell_type": "markdown",
   "metadata": {
    "slideshow": {
     "slide_type": "slide"
    }
   },
   "source": [
    "## Motivación"
   ]
  },
  {
   "cell_type": "markdown",
   "metadata": {
    "slideshow": {
     "slide_type": "-"
    }
   },
   "source": [
    "En el [notebook anterior](https://github.com/lbenet/2016-2_TSFisicaComputacional/blob/master/notas_clase/06_Derivacion_numerica.ipynb), vimos que hay diferentes formas de implementar la derivación de una función $f(x)$ en un punto $x_0$ y que éstas dependen de un parámetro $h$, que es la separación entre puntos cercanos. \n",
    "\n",
    "Vimos que el error absoluto en términos de $h$, cuando $h\\to 0$, tiene un comportamiento distinto, y que de hecho puede ser \"contaminado\" por errores de numéricos."
   ]
  },
  {
   "cell_type": "markdown",
   "metadata": {
    "slideshow": {
     "slide_type": "subslide"
    }
   },
   "source": [
    "Se obtuvo que:\n",
    "\n",
    "- La \"derivada derecha\" converge *linealmente* al $h\\to 0$ al valor correcto de la derivada, es decir, el error es proporcional a $\\mathcal{O}(h)$. Sin embargo, para valores *suficientemente* pequeños de $h$, el valor obtenido de la derivada deja de tener sentido ya que pierde exactitud.\n",
    "\n",
    "- La \"derivada simétrica\" converge *cuadráticamente*, es decir, el error escala como $\\mathcal{O}(h^2)$. Al igual que la derivada derecha, para $h$ suficientemente pequeña errores \"de cancelación\" debidos a la diferencia en la definición hacen que el resultado pierda sentido.\n",
    "\n",
    "- La definición de la \"derivada compleja\" también converge *cuadráticamente*; a diferencia de las dos definiciones anteriores *no* exhibe problemas al considerar valores de $h$ muy pequeños."
   ]
  },
  {
   "cell_type": "markdown",
   "metadata": {
    "slideshow": {
     "slide_type": "subslide"
    }
   },
   "source": [
    "Los puntos anteriores muestran que, la manera de implementar un algoritmo (concreto) cualquiera en la computadora es importante respecto a cuestiones de la convergencia y del manejo de errores numéricos. En este sentido, la \"derivada compleja\" da el resultado que más se acerca al exacto, incluso para valores de $h \\sim 10.^{-16}$."
   ]
  },
  {
   "cell_type": "markdown",
   "metadata": {
    "slideshow": {
     "slide_type": "fragment"
    }
   },
   "source": [
    "La pregunta es si podemos ir más allá y obtener el valor exacto, esto es, el que más se acerca al valor obtenido con números reales excepto por cuestiones de redondeo."
   ]
  },
  {
   "cell_type": "markdown",
   "metadata": {
    "slideshow": {
     "slide_type": "slide"
    }
   },
   "source": [
    "## Diferenciación automática (o algorítmica)"
   ]
  },
  {
   "cell_type": "markdown",
   "metadata": {},
   "source": [
    "Citando a [wikipedia](https://en.wikipedia.org/wiki/Automatic_differentiation): ``Automatic differentiation (AD), also called algorithmic differentiation or computational differentiation, is a set of techniques to numerically evaluate the derivative of a function specified by a computer program.''\n",
    "\n",
    "Diferenciación automática **no es** diferenciación numérica. Está basada en cálculos numéricos (evaluación de funciones por la computadora), pero **no** usa ninguna de las definiciones por diferencias finitas, como las que vimos la clase anterior."
   ]
  },
  {
   "cell_type": "markdown",
   "metadata": {
    "slideshow": {
     "slide_type": "subslide"
    }
   },
   "source": [
    "Para ilustrar su funcionamiento, empezaremos recordando cómo funcionan los números complejos: $z = a + \\mathrm{i} b$.\n",
    "\n",
    "Uno puede definir todas las operaciones aritméticas de la manera natural (a partir de los números reales), manteniendo las expresiones con $\\mathrm{i}$ factorizada; en el caso de la multiplicación y división, simplemente recordamos que $\\mathrm{i}^2=-1$."
   ]
  },
  {
   "cell_type": "markdown",
   "metadata": {
    "slideshow": {
     "slide_type": "fragment"
    }
   },
   "source": [
    "Por ejemplo, tenemos que, para $z = a + \\mathrm{i} b$ y $w = c + \\mathrm{i} d$\n",
    "\\begin{eqnarray*}\n",
    "z + w & = & (a + \\mathrm{i} b) + (c + \\mathrm{i} d) = a + c + \\mathrm{i}(b + d),\\\\\n",
    "z \\cdot w & = & (a + \\mathrm{i} b)\\cdot (c + \\mathrm{i} d) \\\\\n",
    "  & = & ac + \\mathrm{i} (ad+bc) + \\mathrm{i}^2 b d\n",
    " = ac - b d + \\mathrm{i} (ad+bc).\n",
    "\\end{eqnarray*}\n",
    "\n",
    "Por último, vale también la pena recordar que, $\\mathbb{C}$ es *isomorfo* a $\\mathbb{R}^2$, esto es, hay un mapeo biyectivo de $ z \\leftrightarrow (a, b)$."
   ]
  },
  {
   "cell_type": "markdown",
   "metadata": {
    "slideshow": {
     "slide_type": "subslide"
    }
   },
   "source": [
    "Volviendo a la cuestión de la diferenciación automática, la idea es introducir un par ordenado donde la primer\n",
    "componente es el valor de una función $f(x)$ evaluada en $x_0$, y la segunda es el valor de su derivada evaluada\n",
    "en el mismo punto. Esto es, definimos a los *duales* como:\n",
    "\n",
    "\\begin{equation}\n",
    "\\vec{f}(x_0) = \\big( f_0, f'_0\\big) = f_0 + \\hat{\\mathbf{h}}\\, f'_0,\n",
    "\\end{equation}\n",
    "\n",
    "donde $f_0 = f(x_0)$ y $f'_0=\\frac{d f}{d x}(x_0)$ y, en la segunda igualdad, $\\hat{\\mathbf{h}}$ sirve para indicar la segunda componente del par ordenado. (En un sentido que se precisará más adelante, $\\hat{\\mathbf{h}}$ se comporta de una manera semejante a $\\mathrm{i}$ para los números complejos, distinguiéndose en $\\hat{\\mathbf{h}}^2$.)"
   ]
  },
  {
   "cell_type": "markdown",
   "metadata": {
    "slideshow": {
     "slide_type": "subslide"
    }
   },
   "source": [
    "En particular, para la función constante $f(x)=c$ se cumple que el dual asociado es $\\vec{c}(x_0)=(c,0)$, y para la función identidad $f(x)=x$ obtenemos $\\vec{x}(x_0)=(x_0,1)$. Vale la pena aquí enfatizar que la función identidad es precisamente la variable independiente, respecto a la que se está derivando."
   ]
  },
  {
   "cell_type": "markdown",
   "metadata": {
    "slideshow": {
     "slide_type": "slide"
    }
   },
   "source": [
    "### Ejercicio\n",
    "\n",
    "Implementen una nueva estructura paramétrica (`type`) que defina los duales, donde el parámetro debe ser un subtipo de `Real` (ver la siguiente celda). La parte que identifica a $f_0$ será llamada `fun`, y la correspondiente a $f'_0$ será `der`.\n",
    "\n",
    "La definición debe incluir métodos que sean compatibles con las dos propiedades arriba mencionadas, es decir, que el dual de una constante (cualquier número real) sea $(c,0)$, y que el de la variable independiente sea $(x_0,1)$. Para lo segundo definiremos una función `xdual` con la propiedad mencionada."
   ]
  },
  {
   "cell_type": "code",
   "execution_count": 1,
   "metadata": {
    "collapsed": false
   },
   "outputs": [],
   "source": [
    "\"\"\"\n",
    "Definición de los duales, donde `func` es `f(x_0)` y `der` `f'(x_0)`, ambos deben ser de un subtipo de `Real`\n",
    "\"\"\"\n",
    "type Dual{T<:Real}\n",
    "    # código: \n",
    "    fun :: T\n",
    "    der :: T\n",
    "end"
   ]
  },
  {
   "cell_type": "code",
   "execution_count": 2,
   "metadata": {
    "collapsed": false
   },
   "outputs": [
    {
     "data": {
      "text/plain": [
       "Dual{T<:Real}"
      ]
     },
     "execution_count": 2,
     "metadata": {},
     "output_type": "execute_result"
    }
   ],
   "source": [
    "# Definan un método que permita la promoción automática cuando no son del mismo tipo\n",
    "Dual(a, b) = Dual(promote(a, b) ...)"
   ]
  },
  {
   "cell_type": "code",
   "execution_count": 3,
   "metadata": {
    "collapsed": false
   },
   "outputs": [
    {
     "data": {
      "text/plain": [
       "Dual{T<:Real}"
      ]
     },
     "execution_count": 3,
     "metadata": {},
     "output_type": "execute_result"
    }
   ],
   "source": [
    "# Aqui se define un método que garantiza que el dual de un número cumple lo requerido\n",
    "Dual(a) = Dual(a, 0)"
   ]
  },
  {
   "cell_type": "code",
   "execution_count": 4,
   "metadata": {
    "collapsed": false
   },
   "outputs": [
    {
     "data": {
      "text/plain": [
       "Dual{Float64}(2.5,0.0)"
      ]
     },
     "execution_count": 4,
     "metadata": {},
     "output_type": "execute_result"
    }
   ],
   "source": [
    "Dual(2.5)"
   ]
  },
  {
   "cell_type": "code",
   "execution_count": 5,
   "metadata": {
    "collapsed": false
   },
   "outputs": [
    {
     "data": {
      "text/plain": [
       "xdual (generic function with 1 method)"
      ]
     },
     "execution_count": 5,
     "metadata": {},
     "output_type": "execute_result"
    }
   ],
   "source": [
    "# Aqui se define la función `xdual`, que se usará para identificar la variable independiente\n",
    "# La función dpende de x_0, y debe regresar el Dual apropiado a la variable independiente\n",
    "function xdual(x0)\n",
    "    Dual(x0, 1)\n",
    "end"
   ]
  },
  {
   "cell_type": "code",
   "execution_count": 6,
   "metadata": {
    "collapsed": false,
    "slideshow": {
     "slide_type": "subslide"
    }
   },
   "outputs": [],
   "source": [
    "# Muestren que su código funciona con tests adecuados; para los detalles ver \n",
    "# http://julia.readthedocs.org/en/release-0.4/stdlib/test/\n",
    "using Base.Test\n",
    "\n",
    "# Aqui vienen varios tests de cada una de las funciones que implementaron\n",
    "# Para checar la construcción de duales, hagánlo verificando cada uno de los campos internos\n",
    "\n",
    "a = Dual(1)\n",
    "b = Dual(1.0,0.0)\n",
    "\n",
    "@test a.der == 0\n",
    "@test xdual(1.2).der == 1\n",
    "@test xdual(1.2).fun == 1.2\n",
    "@test xdual(3).der == 1.0\n",
    "@test xdual(3.0).fun == 3"
   ]
  },
  {
   "cell_type": "markdown",
   "metadata": {
    "slideshow": {
     "slide_type": "slide"
    }
   },
   "source": [
    "## Aritmética de duales"
   ]
  },
  {
   "cell_type": "markdown",
   "metadata": {},
   "source": [
    "De la definición, y recordando el significado de cada una de las componentes del par doble, tenemos que las operaciones aritméticas quedan definidas por:\n",
    "\n",
    "\\begin{eqnarray}\n",
    "    \\vec{u} \\pm \\vec{w} &=& \\big( u_0 \\pm w_0,\\, u'_0\\pm w'_0 \\big),\\\\\n",
    "    \\vec{u} \\times \\vec{w} &=& \\big( u_0 \\cdot w_0,\\, u_0 w'_0 +  w_0 u'_0 \\big),\\\\\n",
    "    \\frac{\\vec{u}}{\\vec{w}} &=& \\big( \\frac{u_0}{w_0},\\, \\frac{ u'_0 - (u_0/w_0)w'_0}{w_0}\\big),\\\\\n",
    "    {\\vec{u}}^\\alpha &=& \\big( u_0^\\alpha,\\, \\alpha u_0^{\\alpha-1} u'_0 \\big).\\\\\n",
    "\\end{eqnarray}    \n",
    "\n",
    "Además, están los operadores unitarios, que satisfacen:\n",
    "\\begin{equation}\n",
    "    \\pm \\vec{u} = \\big(\\pm u_0, \\pm u'_0 \\big).\n",
    "\\end{equation}    \n",
    "\n",
    "Noten que las dos relaciones anteriores son compatibles con $\\hat{\\mathbf{h}}^2=0$."
   ]
  },
  {
   "cell_type": "markdown",
   "metadata": {
    "slideshow": {
     "slide_type": "slide"
    }
   },
   "source": [
    "### Ejercicio\n",
    "\n",
    "Implementen *todas* las operaciones aritméticas. Estas operaciones deben incluir las operaciones aritméticas que involucran un número cualquiera (`a :: Real`) y un dual (`b::Dual`). Esto se puede hacer implementando los métodos específicos para estos casos (¡y que sirven en cualquier órden!). Implementen también la comparación entre duales (`==`). Incluyan tests que muestren que cada una de ellas está bien definida, y que sus resultados dan valores consistentes."
   ]
  },
  {
   "cell_type": "code",
   "execution_count": 22,
   "metadata": {
    "collapsed": false
   },
   "outputs": [
    {
     "data": {
      "text/plain": [
       "/ (generic function with 51 methods)"
      ]
     },
     "execution_count": 22,
     "metadata": {},
     "output_type": "execute_result"
    }
   ],
   "source": [
    "import Base: +, -, *, /, ^, ==\n",
    "\n",
    "# Aqui se implementan los métodos necesarios para cada función\n",
    "# Definiendo operaciones cuando los argumentos son Duales\n",
    "+(a::Dual, b::Dual) = Dual(a.fun + b.fun, a.der + b.der)\n",
    "-(a::Dual, b::Dual) = Dual(a.fun - b.fun, a.der - b.der)\n",
    "*(a::Dual, b::Dual) = Dual(a.fun * b.fun, a.der*b.fun + b.der*a.fun)\n",
    "/(a::Dual, b::Dual) = Dual(a.fun / b.fun, (a.der - b.der*(a.fun/b.fun))/b.fun)\n",
    "^{T<:Int}(a::Dual, α::T) = Dual(a.fun^α, α*a.fun^(α - 1)*a.der)\n",
    "^{T<:Float64}(a::Dual, α::T) = Dual(a.fun^α, α*a.fun^(α - 1)*a.der)\n",
    "^{T<:Rational}(a::Dual, α::T) = Dual(a.fun^α, α*a.fun^(α - 1)*a.der)\n",
    "^{T<:Irrational}(a::Dual, α::T) = Dual(a.fun^α, α*a.fun^(α - 1)*a.der)\n",
    "==(a::Dual, b::Dual) = (a.fun == b.fun && a.der == b.der)\n",
    "\n",
    "\n",
    "# Definiendo operaciones cuando el argumento de la derecha es un número\n",
    "*{T<:Real}(β :: T, a :: Dual) = Dual(a.fun*β, a.der*β    )\n",
    "+{T<:Real}(a::Dual, γ::T)= +(a::Dual, Dual(γ))\n",
    "-{T<:Real}(a::Dual, γ::T)= -(a::Dual, Dual(γ))\n",
    "*{T<:Real}(a::Dual, γ::T)= *(a::Dual, Dual(γ))\n",
    "/{T<:Real}(a::Dual, γ::T)= /(a::Dual, Dual(γ))\n",
    "\n",
    "# Definiendo operaciones cuando el argumento de la izquierda es un número\n",
    "\n",
    "+{T<:Real}(γ::T, a::Dual)= +(Dual(γ), a)\n",
    "-{T<:Real}(γ::T, a::Dual)= -(Dual(γ), a)\n",
    "*{T<:Real}(γ::T, a::Dual)= *(Dual(γ), a)\n",
    "/{T<:Real}(γ::T, a::Dual)= /(Dual(γ), a)"
   ]
  },
  {
   "cell_type": "code",
   "execution_count": 23,
   "metadata": {
    "collapsed": false
   },
   "outputs": [
    {
     "data": {
      "text/plain": [
       "Dual{Float64}(2.5,-1.25)"
      ]
     },
     "execution_count": 23,
     "metadata": {},
     "output_type": "execute_result"
    }
   ],
   "source": [
    "5/b"
   ]
  },
  {
   "cell_type": "code",
   "execution_count": 24,
   "metadata": {
    "collapsed": false
   },
   "outputs": [
    {
     "data": {
      "text/plain": [
       "Dual{Float64}(8.824977827076287,13.86224275481784)"
      ]
     },
     "execution_count": 24,
     "metadata": {},
     "output_type": "execute_result"
    }
   ],
   "source": [
    "b^pi"
   ]
  },
  {
   "cell_type": "code",
   "execution_count": 29,
   "metadata": {
    "collapsed": false,
    "slideshow": {
     "slide_type": "subslide"
    }
   },
   "outputs": [],
   "source": [
    "# Aqui se incluyen las pruebas necesarias\n",
    "a = Dual(1)\n",
    "b = xdual(2)\n",
    "\n",
    "@test a+b == Dual(3, 1)\n",
    "@test a-b == Dual(-1, -1)\n",
    "@test a*b == Dual(2, 1)\n",
    "@test a/b == Dual(1//2, -1//4)\n",
    "@test b/a == Dual(2, 1)\n",
    "@test 2*a == Dual(2.0,0.0)\n",
    "@test a + 1 == Dual(2,0)\n",
    "@test a^3 == Dual(1,0)\n",
    "@test a/5 == Dual(1/5, 0)\n",
    "@test 5/b == Dual(5/2, -5/4)\n",
    "@test 1 + b == Dual(3,1)\n",
    "\n",
    "@test b^2 == Dual(4, 4)\n",
    "@test b^(0.5) == Dual(sqrt(2), 0.5/(sqrt(2)))\n",
    "@test b^(1//2) == Dual(sqrt(2), 0.5/(sqrt(2)))\n",
    "@test b^pi == Dual(b.fun^pi, pi*b.fun^(pi - 1.0)*b.der)\n",
    "\n",
    "@test a^2 == Dual(1, 0)\n",
    "@test a^(0.5) == Dual(sqrt(1), 0)\n",
    "@test a^(1//2) == Dual(sqrt(1), 0)\n"
   ]
  },
  {
   "cell_type": "markdown",
   "metadata": {
    "slideshow": {
     "slide_type": "slide"
    }
   },
   "source": [
    "Ahora probaremos la infraestructura que han desarrollado hasta ahora. En particular, usaremos la misma función que se\n",
    "utilizón en la clase anterior:\n",
    "\n",
    "\\begin{equation}\n",
    "    f_\\textrm{test}(x) = 3x^3 - 2,\n",
    "\\end{equation}\n",
    "\n",
    "y la idea es calcular la derivada en $x_0=1$."
   ]
  },
  {
   "cell_type": "code",
   "execution_count": null,
   "metadata": {
    "collapsed": false
   },
   "outputs": [],
   "source": [
    "methods(Dual)"
   ]
  },
  {
   "cell_type": "code",
   "execution_count": null,
   "metadata": {
    "collapsed": false
   },
   "outputs": [],
   "source": [
    "f_test(x) = 3*x^3 - 2"
   ]
  },
  {
   "cell_type": "code",
   "execution_count": null,
   "metadata": {
    "collapsed": false
   },
   "outputs": [],
   "source": [
    "x = f_test( xdual(1) )"
   ]
  },
  {
   "cell_type": "code",
   "execution_count": null,
   "metadata": {
    "collapsed": false
   },
   "outputs": [],
   "source": [
    "# Del resultado anterior, obtengan el valor de la derivada\n",
    "x.der"
   ]
  },
  {
   "cell_type": "markdown",
   "metadata": {
    "slideshow": {
     "slide_type": "slide"
    }
   },
   "source": [
    "Consideremos otra función racional:\n",
    "\n",
    "$$\n",
    "g_\\textrm{test}(x) = (3x^2-8x+5)/(7x^3-1)\n",
    "$$\n",
    "\n",
    "cuya derivada queremos calcular en $x_0=1$. Según [WolframAlpha](http://www.wolframalpha.com/input/?i=D%5B+%283x%5E2-8x%2B5%29%2F%287x%5E3-1%29+%2C+x+%5D+%2F.+x-%3E+1), el resultado exacto es $-1/3$.\n"
   ]
  },
  {
   "cell_type": "code",
   "execution_count": null,
   "metadata": {
    "collapsed": false
   },
   "outputs": [],
   "source": [
    "gtest(x) = (3x^2-8x+5)/(7x^3-1)"
   ]
  },
  {
   "cell_type": "code",
   "execution_count": null,
   "metadata": {
    "collapsed": false
   },
   "outputs": [],
   "source": [
    "gtest( xdual(1) )"
   ]
  },
  {
   "cell_type": "markdown",
   "metadata": {
    "slideshow": {
     "slide_type": "subslide"
    }
   },
   "source": [
    "El resultado anterior es la representación en números de punto flotante de $-1/3$. La pregunta es si podemos obtener\n",
    "el resultado exacto."
   ]
  },
  {
   "cell_type": "code",
   "execution_count": null,
   "metadata": {
    "collapsed": false
   },
   "outputs": [],
   "source": [
    "# Evalúen `gtest` de manera que el resultado sea el exacto\n",
    "gtest(xdual(1//1))"
   ]
  },
  {
   "cell_type": "markdown",
   "metadata": {
    "slideshow": {
     "slide_type": "slide"
    }
   },
   "source": [
    "Para entender cómo funciona esto, evaluaremos explícitamente y paso a paso $g_\\textrm{test}(x)$ en $\\vec{x_0} = (1,1)$:"
   ]
  },
  {
   "cell_type": "markdown",
   "metadata": {
    "slideshow": {
     "slide_type": "subslide"
    }
   },
   "source": [
    "\\begin{equation}\n",
    "\\vec{g}_\\textrm{test}(\\vec{x_0}) = \\frac{\\vec{3}\\cdot{\\vec{x_0}}^2-\\vec{8}\\cdot\\vec{x_0}+\\vec{5}}{\\vec{7}\\cdot{\\vec{x_0}}^3-\\vec{1}}\n",
    "\\end{equation}\n"
   ]
  },
  {
   "cell_type": "markdown",
   "metadata": {
    "slideshow": {
     "slide_type": "subslide"
    }
   },
   "source": [
    "\\begin{eqnarray}\n",
    "\\vec{g}_\\textrm{test}(\\vec{x_0}) & = & \n",
    "\\frac{(3,0)\\cdot{(1,1)}^2-(8,0)\\cdot(1,1)+(5,0)}{(7,0)\\cdot{(1,1)}^3-(1,0)}\\\\\n",
    "& = & \\frac{(3,0)\\cdot(1,2)-(8,0)\\cdot(1,1)+(5,0)}{(7,0)\\cdot(1,3)-(1,0)}\n",
    "\\end{eqnarray}\n"
   ]
  },
  {
   "cell_type": "markdown",
   "metadata": {
    "slideshow": {
     "slide_type": "subslide"
    }
   },
   "source": [
    "\\begin{equation}\n",
    "\\vec{g}_\\textrm{test}(\\vec{x_0}) = \n",
    "\\frac{ (3,6)-(8,1)+(5,0)}{(7,21)-(1,0)} = \\frac{ \\Big(3-8+5, 6-8\\Big)}{\\Big( 7-1,21\\Big)} = \n",
    "\\frac{ \\Big(0, -2\\Big)}{\\Big( 6,21\\Big)} \n",
    "\\end{equation}"
   ]
  },
  {
   "cell_type": "markdown",
   "metadata": {
    "slideshow": {
     "slide_type": "subslide"
    }
   },
   "source": [
    "\\begin{equation}\n",
    "\\vec{g}_\\textrm{test}(\\vec{x_0}) = \\Big(\\frac{0}{6}, \\frac{(-2)-21\\cdot(0/6)}{6} \\Big) = \n",
    "\\Big(0, -\\frac{1}{3}\\Big). \\Box\n",
    "\\end{equation}\n"
   ]
  },
  {
   "cell_type": "markdown",
   "metadata": {
    "slideshow": {
     "slide_type": "slide"
    }
   },
   "source": [
    "## Modulos y \"runtests.jl\" en julia"
   ]
  },
  {
   "cell_type": "markdown",
   "metadata": {},
   "source": [
    "### Ejercicio\n",
    "\n",
    "Para reutilizar el código que han hecho en este notebook, y de hecho seguirlo desarrollando, conviene ponerlo dentro de un módulo. Para hacer esto, deberán copiar todo el código necesario (y que aparece en la resolución de los ejercicios anteriores) en un archivo coyo nombre será \"AutomDiff.jl\" y cuya estructura es:\n",
    "\n",
    "```julia\n",
    "# Aqui viene una explicación de lo que se hace en el módulo, los autores y la fecha\n",
    "\n",
    "# La siguiente instrucción sirve para *precompilar* el módulo\n",
    "__precompile__(true)\n",
    "\n",
    "module AD\n",
    "    import Base: +, -, *, /, ^\n",
    "    \n",
    "    export Dual, xdual\n",
    "    \n",
    "    # Aqui viene TODO el código que implementaron\n",
    "\n",
    "end\n",
    "```\n",
    "\n",
    "Todas las pruebas deberán ser incluídas en un archivo llamado \"runtest.jl\", y su estructura es:\n",
    "\n",
    "```julia\n",
    "# Este archivo incluye los tests del módulo AD\n",
    "include(\"AutomDiff.jl\")\n",
    "using Base.test\n",
    "using AD\n",
    "\n",
    "# A continuación vienen los tests que implementaron y que deben \n",
    "# ser suficientemente exhaustivos\n",
    "\n",
    "\n",
    "```\n",
    "\n",
    "Estos dos archivos deben incluirlos en el envío de su tarea."
   ]
  },
  {
   "cell_type": "markdown",
   "metadata": {},
   "source": [
    "Probamos el archivo `runtest.jl`..."
   ]
  },
  {
   "cell_type": "code",
   "execution_count": 31,
   "metadata": {
    "collapsed": false
   },
   "outputs": [
    {
     "name": "stderr",
     "output_type": "stream",
     "text": [
      "WARNING: using AD.Dual in module Main conflicts with an existing identifier.\n",
      "WARNING: using AD.xdual in module Main conflicts with an existing identifier.\n"
     ]
    }
   ],
   "source": [
    "include(\"runtest.jl\")"
   ]
  },
  {
   "cell_type": "code",
   "execution_count": 15,
   "metadata": {
    "collapsed": false
   },
   "outputs": [
    {
     "data": {
      "text/plain": [
       "2.0"
      ]
     },
     "execution_count": 15,
     "metadata": {},
     "output_type": "execute_result"
    }
   ],
   "source": [
    "4^(1//2)"
   ]
  },
  {
   "cell_type": "code",
   "execution_count": null,
   "metadata": {
    "collapsed": true
   },
   "outputs": [],
   "source": []
  }
 ],
 "metadata": {
  "kernelspec": {
   "display_name": "Julia 0.4.2",
   "language": "julia",
   "name": "julia-0.4"
  },
  "language_info": {
   "file_extension": ".jl",
   "mimetype": "application/julia",
   "name": "julia",
   "version": "0.4.2"
  }
 },
 "nbformat": 4,
 "nbformat_minor": 0
}
