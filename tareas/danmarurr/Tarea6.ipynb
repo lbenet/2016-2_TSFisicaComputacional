{
 "cells": [
  {
   "cell_type": "markdown",
   "metadata": {
    "slideshow": {
     "slide_type": "slide"
    }
   },
   "source": [
    "# Derivadas superiores"
   ]
  },
  {
   "cell_type": "markdown",
   "metadata": {},
   "source": [
    "Hasta ahora hemos visto que, usando diferenciación automática, podemos calcular la derivada de funciones de una variable esencialmente con un error del orden del epsilon de la máquina.\n",
    "\n",
    "La pregunta que abordaremos ahora, es cómo hacer para calcular la segunda derivada, y derivadas de orden superior."
   ]
  },
  {
   "cell_type": "markdown",
   "metadata": {
    "slideshow": {
     "slide_type": "subslide"
    }
   },
   "source": [
    "Una posibilidad, específica para el caso de la segunda derivada, es proceder como en el caso anterior, es decir, definir una *terna ordenada* donde la primer componente es el valor de la función en $x_0$, i.e., $f(x_0)$, el de la segunda es el valor de la primer derivada $f'(x_0)$, y la tercer componente tiene el valor de la segunda derivada, $f^{(2)}(x_0) = f''(x_0)$. \n"
   ]
  },
  {
   "cell_type": "markdown",
   "metadata": {
    "slideshow": {
     "slide_type": "subslide"
    }
   },
   "source": [
    "Con esta definición, las operaciones aritméticas vienen dadas por:\n",
    "\n",
    "\\begin{eqnarray}\n",
    "\\vec{u} + \\vec{v} & = & (u + v, \\quad u'+ v', \\quad u''+v''),\\\\\n",
    "\\vec{u} - \\vec{v} & = & (u - v, \\quad u'- v', \\quad u''-v''),\\\\\n",
    "\\vec{u} \\times \\vec{v} & = & (u v, \\quad u v' + u' v, \\quad u v'' + 2 u' v' + u'' v),\\\\\n",
    "\\frac{\\vec{u}}{\\vec{v}} & = & \\Big( \\frac{u}{v}, \\quad \\frac{u'-( u/v) v'}{v}, \\quad \n",
    "\\frac{u'' - 2 (u/v)' v' - (u/v)v'' }{v}\\Big).\\\\\n",
    "\\end{eqnarray}\n",
    "\n",
    "Claramente, este proceso es muy ineficiente para derivadas de orden aún más alto, dado que las expresiones se complican y es fácil cometer errores."
   ]
  },
  {
   "cell_type": "markdown",
   "metadata": {
    "slideshow": {
     "slide_type": "slide"
    }
   },
   "source": [
    "# Series de Taylor"
   ]
  },
  {
   "cell_type": "markdown",
   "metadata": {
    "slideshow": {
     "slide_type": "-"
    }
   },
   "source": [
    "El punto importante a recordar, es que las derivadas de orden superior de una función $f(x)$ en un punto $x_0$ están contenidas en el desarrollo de Taylor de la función entorno a ese punto. La suposición importante en esto es que $f(x)$ es suficientemente suave; por simplicidad supondremos que $f(x)$ es ${\\cal C}^\\infty$ y que estamos suficientemente cerca del punto $x_0$, i.e., $|x-x_0|\\ll 1$. \n"
   ]
  },
  {
   "cell_type": "markdown",
   "metadata": {
    "slideshow": {
     "slide_type": "subslide"
    }
   },
   "source": [
    "La serie de Taylor de $f(x)$ viene dada por\n",
    "\n",
    "\\begin{eqnarray}\n",
    "f(x) & = & f(x_0) + f^{(1)}(x_0) (x-x_0) + \\frac{f^{(2)}(x_0)}{2!} (x-x_0)^2 + \\dots + \\frac{f^{(k)}(x_0)}{k!} (x-x_0)^k + \\dots,\\\\\n",
    "& = & f_{[0]} + f_{[1]} (x-x_0) + f_{[2]} (x-x_0)^2 + \\dots + f_{[k]} (x-x_0)^k + \\dots,\\\\\n",
    "\\end{eqnarray}\n",
    "\n",
    "donde los coeficientes *normalizados* de Taylor $f_{[k]}$ que aparecen en la segunda línea de la ecuación anterior se definen como\n",
    "\n",
    "\\begin{equation}\n",
    "f_{[k]} = \\frac{f^{(k)}(x_0)}{k!} = \\frac{1}{k!}\\frac{{\\rm d}^k f}{{\\rm d}x^k}(x_0).\n",
    "\\end{equation}\n",
    "\n"
   ]
  },
  {
   "cell_type": "markdown",
   "metadata": {
    "slideshow": {
     "slide_type": "fragment"
    }
   },
   "source": [
    "Vale la pena **enfatizar** que la expresión anterior es exacta en tanto que la serie **no** sea truncada. En el caso de que la serie truncada a orden k, el [teorema de Taylor](https://en.wikipedia.org/wiki/Taylor%27s_theorem) asegura que el residuo (error del truncamiento) se puede escribir como:\n",
    "\n",
    "\\begin{equation}\n",
    "{\\cal R_{k}} = \\frac{f^{(k+1)}\\,(\\xi)}{(k+1)!} (x-x_0)^{k+1},\n",
    "\\end{equation}\n",
    "\n",
    "donde $\\xi$ es un punto que pertenece al interval $[x_0,x]$.\n"
   ]
  },
  {
   "cell_type": "markdown",
   "metadata": {
    "slideshow": {
     "slide_type": "subslide"
    }
   },
   "source": [
    "Si la serie es truncada, la aproximación es un polinomio de orden $k$ (grado máximo es $k$) en $x$. Dado que los polinomios en una variable están definidos por $k+1$ coeficientes, entonces pueden ser mapeados a vectores en $\\mathbb{R}^{k+1}$. \n",
    "\n",
    "Las operaciones aritméticas, en este caso, vienen dadas por:\n",
    "\n",
    "\\begin{eqnarray}\n",
    "(f+g)_{[k]} & = & f_{[k]} + g_{[k]} ,\\\\\n",
    "(f-g)_{[k]} & = & f_{[k]} - g_{[k]} ,\\\\\n",
    "(f \\cdot g)_{[k]} & = & \\sum_{i=0}^k f_{[i]} \\,g_{[k-i]} \\, ,\\\\\n",
    "\\Big(\\frac{f}{g}\\Big)_{[k]} & = & \\frac{1}{g_{[0]}}\n",
    "\\Big( f_{[k]} - \\sum_{i=0}^{k-1} \\big(\\frac{f}{g}\\big)_{[i]} \\, g_{[k-i]} \\Big) . \\\\\n",
    "\\end{eqnarray}"
   ]
  },
  {
   "cell_type": "markdown",
   "metadata": {
    "slideshow": {
     "slide_type": "slide"
    }
   },
   "source": [
    "### Ejercicio\n",
    "\n",
    "Implementen una nueva estructura paramétrica (`type`) que defina el tipo `Taylor`, donde el parámetro debe ser un subtipo de `Number`. Definan métodos que implementen las operaciones aritméticas básicas (`+`, `-`, `*`, `/`) y la igualdad (`==`). Esto deberá ser incluido en un módulo.\n",
    "\n",
    "Incluyan pruebas (en el archivo \"runtests.jl\") para cada uno de los métodos que implementen.\n"
   ]
  },
  {
   "cell_type": "code",
   "execution_count": 1,
   "metadata": {
    "collapsed": false
   },
   "outputs": [],
   "source": [
    "\"\"\"Definición de polinomios de Taylor, donde\n",
    "...\n",
    "\"\"\"\n",
    "type Taylor{T<:Number}\n",
    "    coef :: Array{T,1}     #Arreglo de coeficientes\n",
    "    order :: Int64         # Orden del polinimio\n",
    "end\n"
   ]
  },
  {
   "cell_type": "code",
   "execution_count": 2,
   "metadata": {
    "collapsed": false
   },
   "outputs": [
    {
     "data": {
      "text/plain": [
       "Taylor{T<:Number}"
      ]
     },
     "execution_count": 2,
     "metadata": {},
     "output_type": "execute_result"
    }
   ],
   "source": [
    "#Constructores para el tipo Taylor\n",
    "Taylor{T<:Number}(v::Array{T,1}) = Taylor(v, length(v))   #Recibe un arreglo de coeficientes\n",
    "Taylor(N::Int64) = Taylor(zeros(N), N) #Recibe solo el orden y llena con ceros."
   ]
  },
  {
   "cell_type": "markdown",
   "metadata": {},
   "source": [
    "Como necesitamos una función que permita _igualar_ el grado de dos objetos tipo Taylor. Propones la función __upgrade__."
   ]
  },
  {
   "cell_type": "code",
   "execution_count": 3,
   "metadata": {
    "collapsed": false
   },
   "outputs": [
    {
     "data": {
      "text/plain": [
       "upgrade (generic function with 1 method)"
      ]
     },
     "execution_count": 3,
     "metadata": {},
     "output_type": "execute_result"
    }
   ],
   "source": [
    "function upgrade(a::Taylor, b::Taylor)\n",
    "    order_a = a.order\n",
    "    order_b = b.order\n",
    "    dif = order_a - order_b    #Calcula la diferencia entre los ordenes de dos Taylor\n",
    "    \n",
    "    if dif >= 0     \n",
    "        for i in 1:abs(dif)\n",
    "            push!(b.coef, 0)  #Si el orden de b es menor, agrega tantos ceros como hagan falta para igualar a a.\n",
    "        end\n",
    "        b.order = a.order\n",
    "    else\n",
    "        for i in 1:abs(dif)\n",
    "            push!(a.coef, 0)  # Lo mismo si a es de orden menor.\n",
    "        end\n",
    "        a.order = b.order\n",
    "    end\n",
    "    return a,b\n",
    "        \n",
    "    \n",
    "    \n",
    "end"
   ]
  },
  {
   "cell_type": "markdown",
   "metadata": {},
   "source": [
    "Ahora definimos las operaciones básicas"
   ]
  },
  {
   "cell_type": "code",
   "execution_count": 4,
   "metadata": {
    "collapsed": true
   },
   "outputs": [],
   "source": [
    "import Base: +, -, *, /, =="
   ]
  },
  {
   "cell_type": "code",
   "execution_count": 5,
   "metadata": {
    "collapsed": true
   },
   "outputs": [],
   "source": [
    "# Para la suma y la resta usamos metaprogramming\n",
    "\n",
    "for fn = (:+, :-)\n",
    "    ex = quote\n",
    "        function ($fn)(a::Taylor, b::Taylor)\n",
    "            c,d = upgrade(a,b)     # Hace un upgrade, asi no es tragico si los Taylor tienen orden diferente.\n",
    "            s = Taylor(c.order)\n",
    "            for i in 1:s.order\n",
    "                s.coef[i] = ($fn)(c.coef[i], d.coef[i])\n",
    "            end\n",
    "            return s\n",
    "        end\n",
    "    end\n",
    "        @eval $ex\n",
    "end"
   ]
  },
  {
   "cell_type": "code",
   "execution_count": 6,
   "metadata": {
    "collapsed": false
   },
   "outputs": [
    {
     "data": {
      "text/plain": [
       "/ (generic function with 49 methods)"
      ]
     },
     "execution_count": 6,
     "metadata": {},
     "output_type": "execute_result"
    }
   ],
   "source": [
    "function /(a::Taylor, b::Taylor)\n",
    "    f, g = upgrade(a,b)\n",
    "    k = f.order\n",
    "    l = g.order\n",
    "    r = 0\n",
    "    for j in 1:l\n",
    "        if g.coef[j] != 0 \n",
    "            r = j\n",
    "            break\n",
    "        end\n",
    "    end\n",
    "    @assert r != 0 \"Requerimos que g sea distinto de 0\"\n",
    "    h = Taylor(k)\n",
    "    #@show g\n",
    "    h.coef[1] = f.coef[r] / g.coef[r]\n",
    "    \n",
    "    for j in (r + 1):k\n",
    "        #@show j\n",
    "        f_j = f.coef[j]\n",
    "        suma = 0\n",
    "        for i in 1:(j - r)\n",
    "            #@show i\n",
    "            h_i = h.coef[i]\n",
    "            g_i = g.coef[j - i + 1]\n",
    "            suma += h_i * g_i\n",
    "        end\n",
    "        h.coef[j + 1 - r] = (f_j - suma)/g.coef[r]\n",
    "    end\n",
    "    return h\n",
    "end"
   ]
  },
  {
   "cell_type": "code",
   "execution_count": 7,
   "metadata": {
    "collapsed": false
   },
   "outputs": [
    {
     "data": {
      "text/plain": [
       "* (generic function with 139 methods)"
      ]
     },
     "execution_count": 7,
     "metadata": {},
     "output_type": "execute_result"
    }
   ],
   "source": [
    "function *(a::Taylor, b::Taylor)\n",
    "    f,g = upgrade(a,b)\n",
    "    h = Taylor(f.order)\n",
    "    \n",
    "    for k in 1:f.order\n",
    "        s = 0\n",
    "        for i in 1:k\n",
    "            \n",
    "            h.coef[k] += f.coef[i]*g.coef[(k+1) - i]\n",
    "            #println(k, i, \"  \", s)\n",
    "            \n",
    "        \n",
    "        end\n",
    "        \n",
    "    end\n",
    "    return h\n",
    "            \n",
    "end\n",
    "\n"
   ]
  },
  {
   "cell_type": "code",
   "execution_count": 8,
   "metadata": {
    "collapsed": false
   },
   "outputs": [
    {
     "data": {
      "text/plain": [
       "* (generic function with 141 methods)"
      ]
     },
     "execution_count": 8,
     "metadata": {},
     "output_type": "execute_result"
    }
   ],
   "source": [
    "function *{T<:Number}(f::Taylor, α::T)\n",
    "    h = Taylor(zeros(typeof(promote(α, f.coef[1])[1]), f.order))\n",
    "    \n",
    "    for k in 1:f.order\n",
    "        h.coef[k] = α * f.coef[k]        \n",
    "    end\n",
    "    return h\n",
    "            \n",
    "end\n",
    "*{T<:Number}(α::T, f::Taylor) = *(f, α)"
   ]
  },
  {
   "cell_type": "code",
   "execution_count": 9,
   "metadata": {
    "collapsed": false
   },
   "outputs": [
    {
     "data": {
      "text/plain": [
       "== (generic function with 110 methods)"
      ]
     },
     "execution_count": 9,
     "metadata": {},
     "output_type": "execute_result"
    }
   ],
   "source": [
    "function ==(a::Taylor, b::Taylor)\n",
    "    f,g = upgrade(a,b)\n",
    "    r = true\n",
    "    for k in 1:f.order\n",
    "        if g.coef[k] != f.coef[k]\n",
    "            r = false\n",
    "            break\n",
    "        end\n",
    "    end\n",
    "    return r\n",
    "end\n",
    "            "
   ]
  },
  {
   "cell_type": "code",
   "execution_count": 10,
   "metadata": {
    "collapsed": false,
    "slideshow": {
     "slide_type": "-"
    }
   },
   "outputs": [],
   "source": [
    "using Base.Test\n",
    "# Muestren que su código funciona con tests adecuados; para los detalles ver \n",
    "# http://julia.readthedocs.org/en/release-0.4/stdlib/test/\n",
    "# Antes de los random, usemos algo que sepamos va a funcionar, la funcion f(x) = x^2 - 1 y g(x) = x - 1\n",
    "\n",
    "T1 = Taylor([-1, 0, 1, 0]) # x^2 - 1\n",
    "T2 = Taylor([-1, 1, 0 ,0]) # -1 + x\n",
    "\n",
    "\n",
    "\n",
    "@test (T1+T2) == Taylor([-2, 1, 1, 0])\n",
    "@test (T1-T2) == Taylor([0, -1, 1, 0])\n",
    "@test (T2*T1) == Taylor([1, -1, -1, 1])\n",
    "@test (T1/T2) == Taylor([1, 1, 0, 0])\n",
    "@test 2*T1    == Taylor([-2.0,0.0,2.0,0.0])\n",
    "@test T1*2    == Taylor([-2.0,0.0,2.0,0.0])\n",
    "@test im*T1   == Taylor([0 - 1im,0 + 0im,0 + 1im,0 + 0im])\n",
    "@test im*T1   == T1*im"
   ]
  },
  {
   "cell_type": "markdown",
   "metadata": {
    "slideshow": {
     "slide_type": "slide"
    }
   },
   "source": [
    "# Funciones de polinomios"
   ]
  },
  {
   "cell_type": "markdown",
   "metadata": {},
   "source": [
    "El siguiente punto, es cómo definir funciones de polinomios. \n",
    "\n",
    "Como veremos aquí, esto se basará en plantear una ecuación diferencial apropiada, cuya solución es, precisamente, la expresión que estamos buscando. Este punto es *importante*, y muestra que hay una conexión importante con la solución de ecuaciones diferenciales."
   ]
  },
  {
   "cell_type": "markdown",
   "metadata": {
    "slideshow": {
     "slide_type": "subslide"
    }
   },
   "source": [
    "Como ejemplo consideraremos la función\n",
    "\n",
    "\\begin{equation}\n",
    "E(x) = \\exp\\big(g(x)\\big),\n",
    "\\end{equation}\n",
    "\n",
    "donde \n",
    "\n",
    "\\begin{equation}\n",
    "g(x) = \\sum_{k=0}^\\infty g_{[k]} (x-x_0)^k\n",
    "\\end{equation}\n",
    "\n",
    "está escrita como una serie de Taylor (¡exacta!) alrededor de $x_0$. \n"
   ]
  },
  {
   "cell_type": "markdown",
   "metadata": {},
   "source": [
    "El primer punto, es que escribiremos a $E(x)$ como una serie de Taylor alrededor de $x_0$, es decir,\n",
    "\n",
    "\\begin{equation}\n",
    "E(x) = \\sum_{k=0}^\\infty E_{[k]} (x-x_0)^k.\n",
    "\\end{equation}\n",
    "\n",
    "El objetivo es determinar $E_{[k]}$ para *toda* $k$.\n",
    "\n",
    "Dado que $E(x)$ esun polinomio en $x$, su derivada viene dada por\n",
    "\n",
    "\\begin{equation}\n",
    "\\frac{{\\rm d} E(x)}{{\\rm d}x} = \\sum_{k=1}^\\infty k E_{[k]}\\, (x-x_0)^{k-1} .\n",
    "\\end{equation}"
   ]
  },
  {
   "cell_type": "markdown",
   "metadata": {},
   "source": [
    "Por otra parte, la derivada de $E(x)$ en términos de $g(x)$ está dada por\n",
    "\n",
    "\\begin{equation}\n",
    "\\frac{{\\rm d} E(x)}{{\\rm d}x} = \\exp\\big(g(x)\\big) \\frac{{\\rm d} g(x)}{{\\rm d}x} = E(x) \\frac{{\\rm d} g(x)}{{\\rm d}x},\n",
    "\\end{equation}\n",
    "\n",
    "donde del lado derecho aparece la derivada de $g(x)$. Ya que $g(x)$ *también* está escrita en forma polinomial, su derivada es\n",
    "\n",
    "\\begin{equation}\n",
    "\\frac{{\\rm d} g(x)}{{\\rm d}x} = \\sum_{k=1}^\\infty k g_{[k]}\\, (x-x_0)^{k-1} .\n",
    "\\end{equation}\n"
   ]
  },
  {
   "cell_type": "markdown",
   "metadata": {
    "slideshow": {
     "slide_type": "subslide"
    }
   },
   "source": [
    "Tenemos, entonces, todo lo que requerimos para escribir el lado derecho de la ecuación diferencial y explotar la aritmética de polinomios. \n",
    "\n",
    "\\begin{eqnarray}\n",
    "E(x) \\frac{{\\rm d} g(x)}{{\\rm d}x}& = & \n",
    "\\Big[ \\sum_{k=0}^\\infty E_{[k]} (x-x_0)^k \\Big]\n",
    "\\Big[ \\sum_{j=1}^\\infty j g_{[j]} (x-x_0)^{j-1}\\Big] \\\\\n",
    " & = & \\sum_{k=1}^\\infty \\Big[ \\sum_{j=0}^k j g_{[j]} E_{[k-j]} \\; \\Big] (x-x_0)^{k-1} .\\\\\n",
    "\\end{eqnarray}\n",
    "\n",
    "La segunda línea se obtiene reordenando los términos al fijar la potencia de $(x-x_0)$, esto es, $k+j$ se toma como un nuevo índice ($k$), y el nuevo índice $j$ describe el índice del producto de los polinomios. (La potencia se deja de la forma $k-1$ ya que el lado izquierdo de la ecuación aparece así.)"
   ]
  },
  {
   "cell_type": "markdown",
   "metadata": {},
   "source": [
    "Igualando con el lado izquierdo de la ecuación diferencial, que sólo involucra a la derivada de $E(x)$, tenemos que se debe cumplir\n",
    "\n",
    "\\begin{equation}\n",
    "E_{[k]} = \\frac{1}{k} \\sum_{j=0}^k j g_{[j]} \\, E_{[k-j]} = \n",
    "\\frac{1}{k} \\sum_{j=0}^{k} (k-j) g_{[k-j]} \\, E_{[j]}, \\qquad k=1,2,\\dots,\n",
    "\\end{equation}\n",
    "\n",
    "incluyendo *la condición inicial*\n",
    "\n",
    "\\begin{equation}\n",
    "E_{[0]} = \\exp\\big(g(x_0)\\big).\n",
    "\\end{equation}\n",
    "\n",
    "Estas relaciones *de recurrencia* permiten calcular $\\exp\\big(g(x)\\big)$, para cualquier polinomio $g(x)$."
   ]
  },
  {
   "cell_type": "markdown",
   "metadata": {},
   "source": [
    "Para el caso concreto $g(x) = x$ alrededor de $x_0=0$, donde tenemos $g_{[j]} = \\delta_{j,1}$, obtenemos\n",
    "\n",
    "\\begin{eqnarray}\n",
    "E_{[0]} & = & 1,\\\\\n",
    "E_{[k]} & = & \\frac{1}{k} E_{[k-1]} = \\frac{1}{k(k-1)} E_{[k-2]} = \\dots = \\frac{1}{k!} E_{[0]} = \\frac{1}{k!}\\ ,\n",
    "\\end{eqnarray}\n",
    "\n",
    "que es el resultado bien conocido."
   ]
  },
  {
   "cell_type": "markdown",
   "metadata": {
    "slideshow": {
     "slide_type": "subslide"
    }
   },
   "source": [
    "### Ejercicio\n",
    "\n",
    "Obtengan las relaciones de recurrencia para las funciones $L(x) = \\log\\big(g(x)\\big)$, $P_\\alpha(x) = \\big(g(x)\\big)^\\alpha$, $S(x) = \\sin\\big(g(x)\\big)$, $C(x) = \\cos\\big(g(x)\\big)$ usando el mismo procedimiento que arriba. Implementen métodos adecuados para estas funciones en el módulo, actuando sobre estructuras `Taylor` e incluyan pruebas."
   ]
  },
  {
   "cell_type": "markdown",
   "metadata": {},
   "source": [
    "**NOTA** Los ejercicios de este notebook constituyen el contenido de la Tarea6."
   ]
  },
  {
   "cell_type": "markdown",
   "metadata": {},
   "source": [
    "## Para $E(x)$\n",
    "\n",
    "Tomando $g(x) = \\sum_{k=1}^{\\infty}g_k(x-x_0)^{k-1}$, $E(x) = exp(g(x)) = \\sum_{k=1}^{\\infty}E_k(x-x_0)^{k-1}$:\n",
    "\n",
    "\\begin{align}\n",
    "    \\frac{{\\rm d}E}{{\\rm d}x} &= E(x) g'(x)\\\\\n",
    "    \\Leftrightarrow \\sum_{k = 1}^{\\infty}kE_{k+1}(x-x_0)^{k-1} &= \\left(\\sum_{k = 1}^{\\infty}E_k(x-x_0)^{k-1} \\right)\\left(\\sum_{j = 1}^{\\infty}kg_{k+1}(x-x_0)^{k-1} \\right) \\\\\n",
    "    \\Leftrightarrow \\sum_{k = 1}^{\\infty}kE_{k+1}(x-x_0)^{k-1} &= \\sum_{k = 1}^{\\infty}\\left(\\sum_{j=1}^kE_j(k-j)g_{k-j+1} \\right)(x-x_0)^{k-1} \\\\\n",
    "    \\Leftrightarrow E_{k+1} &= \\frac{1}{k}\\sum_{j=1}^kE_j(k-j)g_{k-j+1} \\\\\n",
    "    \\Leftrightarrow E_{k} &= \\frac{1}{k-1}\\sum_{j=1}^{k-1}E_j(k-j)g_{k-j+1}\n",
    "\\end{align}"
   ]
  },
  {
   "cell_type": "markdown",
   "metadata": {},
   "source": [
    "## Para $L(x)$\n",
    "\n",
    "Hagamos las cuentas para obtener los coeficientes $L_k$. Partamos de $g(x) = \\sum_{k=1}^{\\infty}g_k(x-x_0)^{k-1}$, $L(x) = \\log(g(x)) = \\sum_{k=1}^{\\infty}L_k(x-x_0)^{k-1}$\n",
    "\n",
    "Observemos que:\n",
    "\n",
    "\\begin{align}\n",
    "    \\frac{{\\rm d}L}{{\\rm d}x} &= \\frac{g'(x)}{g(x)}\\\\\n",
    "    \\Leftrightarrow g(x)\\frac{{\\rm d}L}{{\\rm d}x}&= g'(x)\\\\\n",
    "\\end{align}\n",
    "\n",
    "Sustituyendo las ecuaciones con su respectiva representación en series tendremos que:\n",
    "\\begin{align}\n",
    "    \\sum_{k=2}^{\\infty}(k-1)g_j(x-x_0)^{k-2} &= \\left(\\sum_{k=1}^{\\infty}g_k(x-x_0)^{k-1}\\right)\\left(\\sum_{j=2}^{\\infty}(j-1)L_j(x-x_0)^{j-2}\\right) \\\\\n",
    "    \\Leftrightarrow \\sum_{k=1}^{\\infty}kg_{k+1}(x-x_0)^{k-1} &= \\left(\\sum_{k=1}^{\\infty}g_k(x-x_0)^{k-1}\\right)\\left(\\sum_{j=1}^{\\infty}jL_{j+1}(x-x_0)^{j-1}\\right) \\\\\n",
    "    \\Leftrightarrow \\sum_{k=1}^{\\infty}kg_{k+1}(x-x_0)^{j-1} &= \\sum_{k=1}^{\\infty}\\left(\\sum_{j=1}^{k}g_j(k-j)L_{k-j + 1}\\right)(x-x_0)^{k-1}\\\\\n",
    "    \\Leftrightarrow kg_{k+1} &= \\sum_{j=1}^{k}g_j(k-j)L_{k-j+1}\\\\\n",
    "    \\Leftrightarrow g_1(k-1)L_k &= kg_{k+1} - \\sum_{j=2}^{k}g_j(k-j)L_{k-j+1}\\\\\n",
    "    \\Leftrightarrow L_k &= \\frac{1}{g_1(k-1)}\\left(kg_{k+1} - \\sum_{j=2}^{k}g_j(k-j)L_{k-j+1}\\right) \\ \\ \\forall k >1\n",
    "\\end{align}"
   ]
  },
  {
   "cell_type": "code",
   "execution_count": 11,
   "metadata": {
    "collapsed": true
   },
   "outputs": [],
   "source": [
    "#El Logaritmo\n",
    "import Base.log"
   ]
  },
  {
   "cell_type": "code",
   "execution_count": 12,
   "metadata": {
    "collapsed": false
   },
   "outputs": [
    {
     "data": {
      "text/plain": [
       "log (generic function with 20 methods)"
      ]
     },
     "execution_count": 12,
     "metadata": {},
     "output_type": "execute_result"
    }
   ],
   "source": [
    "function log(g::Taylor)\n",
    "    L = Taylor(g.order)\n",
    "    r = 0\n",
    "    \n",
    "    for i in 1:g.order\n",
    "        if g.coef[i] != 0\n",
    "            r = i\n",
    "            \n",
    "            break\n",
    "        end\n",
    "    end\n",
    "    @assert r != 0 \"Necesitamos un polinomio distinto de cero\"\n",
    "    #@show r\n",
    "    g_r = g.coef[r]\n",
    "    L.coef[r] = log(g_r)\n",
    "    \n",
    "    for k in (r + 1):g.order\n",
    "        \n",
    "        k != g.order ? g_k = g.coef[k + 1] : g_k = 0\n",
    "        suma = 0\n",
    "        for j in(r+1):k\n",
    "            g_j = g.coef[j]\n",
    "            L_j = L.coef[k - j + 1]\n",
    "            suma += (k - j)*g_j*L_j\n",
    "        end\n",
    "        L.coef[k - r + 1] = (k*g_k - suma)/(g_r*(k - r))\n",
    "    end\n",
    "    return L\n",
    "end"
   ]
  },
  {
   "cell_type": "markdown",
   "metadata": {},
   "source": [
    "Para las funciones $Cos(x)$ y $Sin(x)$ recordamos la fórmula de Euler:\n",
    "$$\n",
    "e^{i\\theta} = cos \\theta + i sin \\theta\n",
    "$$\n",
    "Así:\n",
    "$$Cos(g(x)) = Re \\{ e^{ig(x)} \\} $$\n",
    "$$Sin(g(x)) = Im \\{ e^{ig(x)} \\} $$\n",
    "\n",
    "Anteriormente hemos obtenido la expresión de los coeficientes de la expresión de Taylor para la exponencial de una función. \n",
    "Con esto, nos aventuramos a proponer que:\n",
    "$$\\{ Cos (g(x)) \\}_{k}  = C_k = Re\\{E_k\\} $$\n",
    "$$\\{ Sin (g(x)) \\}_{k}  = S_k = Im\\{E_k\\} $$"
   ]
  },
  {
   "cell_type": "code",
   "execution_count": 13,
   "metadata": {
    "collapsed": false
   },
   "outputs": [
    {
     "data": {
      "text/plain": [
       "exp (generic function with 13 methods)"
      ]
     },
     "execution_count": 13,
     "metadata": {},
     "output_type": "execute_result"
    }
   ],
   "source": [
    "#Implementamos la función exponencial\n",
    "\n",
    "import Base.exp\n",
    "function exp(a::Taylor)\n",
    "    E = Taylor(zeros(typeof(exp(a.coef[1])),a.order))     #Esta exponencial permite coeficientes complejos\n",
    "    r = 0\n",
    "    for i in 1:a.order #Verificamos que el Taylor proporcionado sea distinto de cero\n",
    "        if a.coef[i] != 0\n",
    "            r = i\n",
    "            break\n",
    "        end\n",
    "    end\n",
    "    @assert r != 0 \"Necesitamos un polinomio distinto de cero\"\n",
    "    E.coef[1] = exp(a.coef[1])\n",
    "    for k in 2:a.order\n",
    "        suma = 0\n",
    "        for j in 1:k-1\n",
    "            suma += E.coef[j] * (k - j) * a.coef[k-j+1]\n",
    "        end\n",
    "        E.coef[k] = suma / (k-1)\n",
    "    end\n",
    "    E\n",
    "end"
   ]
  },
  {
   "cell_type": "code",
   "execution_count": 14,
   "metadata": {
    "collapsed": true
   },
   "outputs": [],
   "source": [
    "# Sera util enseñarle a computadora a separar las componentes real y complejas de los coeficientes de un taylor.\n",
    "import Base: real, imag"
   ]
  },
  {
   "cell_type": "code",
   "execution_count": 15,
   "metadata": {
    "collapsed": false
   },
   "outputs": [
    {
     "data": {
      "text/plain": [
       "imag (generic function with 16 methods)"
      ]
     },
     "execution_count": 15,
     "metadata": {},
     "output_type": "execute_result"
    }
   ],
   "source": [
    "function real(f::Taylor)\n",
    "    h = Taylor(zeros(typeof(real(f.coef[1])),f.order))\n",
    "    \n",
    "    for k in 1:f.order\n",
    "        h.coef[k] = real(f.coef[k])\n",
    "    end\n",
    "    return h\n",
    "end\n",
    "\n",
    "function imag(f::Taylor)\n",
    "    h = Taylor(zeros(typeof(real(f.coef[1])),f.order))\n",
    "    \n",
    "    for k in 1:f.order\n",
    "        h.coef[k] = imag(f.coef[k])\n",
    "    end\n",
    "    return h\n",
    "end"
   ]
  },
  {
   "cell_type": "code",
   "execution_count": 16,
   "metadata": {
    "collapsed": false
   },
   "outputs": [
    {
     "data": {
      "text/plain": [
       "sin (generic function with 12 methods)"
      ]
     },
     "execution_count": 16,
     "metadata": {},
     "output_type": "execute_result"
    }
   ],
   "source": [
    "# Ponemos el Seno y el Coseno como nosotros entendimos\n",
    "\n",
    "import Base: sin, cos\n",
    "\n",
    "function cos(f::Taylor)\n",
    "    t1 = im*f\n",
    "    ex = exp(t1)\n",
    "    return real(ex)\n",
    "end\n",
    "\n",
    "function sin(f::Taylor)\n",
    "    t1 = im*f\n",
    "    ex = exp(t1)\n",
    "    return imag(ex)\n",
    "end\n"
   ]
  },
  {
   "cell_type": "markdown",
   "metadata": {},
   "source": [
    "## Para $P_a(x)$ \n",
    "\n",
    "Íbamos a hacer las cuentas pero nos recomendaron hacer mejor lo siguiente:\n",
    "\n",
    "Como para números $x\\in \\mathbb{R}$ es válido que $x^n = e^{n\\log x}$ entonces, suena a que es válido usar que:\n",
    "\n",
    "$ P_a(x) = (g(x))^a = \\exp(a\\log(g(x)))$"
   ]
  },
  {
   "cell_type": "code",
   "execution_count": 17,
   "metadata": {
    "collapsed": true
   },
   "outputs": [],
   "source": [
    "import Base: ^"
   ]
  },
  {
   "cell_type": "code",
   "execution_count": 18,
   "metadata": {
    "collapsed": false
   },
   "outputs": [
    {
     "name": "stderr",
     "output_type": "stream",
     "text": [
      "WARNING: New definition \n",
      "    ^(Main.Taylor, #T<:Number) at In[18]:1\n",
      "is ambiguous with: \n",
      "    ^(Any, Integer) at intfuncs.jl:108.\n",
      "To fix, define \n",
      "    ^(Main.Taylor, _<:Integer)\n",
      "before the new definition.\n"
     ]
    },
    {
     "data": {
      "text/plain": [
       "^ (generic function with 46 methods)"
      ]
     },
     "execution_count": 18,
     "metadata": {},
     "output_type": "execute_result"
    }
   ],
   "source": [
    "^{T<:Number}(a::Taylor, n::T) = exp(n*log(a))"
   ]
  },
  {
   "cell_type": "code",
   "execution_count": 19,
   "metadata": {
    "collapsed": false
   },
   "outputs": [
    {
     "data": {
      "text/plain": [
       "Taylor{Float64}([0.0,0.0,1.0,0.0,2.0,0.0,1.0],7)"
      ]
     },
     "execution_count": 19,
     "metadata": {},
     "output_type": "execute_result"
    }
   ],
   "source": [
    "t1 = Taylor([0, 1,0,1,0,0,0])\n",
    "t1^2"
   ]
  },
  {
   "cell_type": "markdown",
   "metadata": {},
   "source": [
    "Y los correspondientes Tests:"
   ]
  },
  {
   "cell_type": "code",
   "execution_count": 20,
   "metadata": {
    "collapsed": false
   },
   "outputs": [],
   "source": [
    "g = Taylor([e, e, e])\n",
    "t = Taylor([1, 1, 0]) #Equivalente al polinomio 1 + x \n",
    "t1 = Taylor([pi]) #Taylor de orden cero con término independiente pi\n",
    "t2 = Taylor([pi/2.0])\n",
    "\n",
    "@test log(g) == Taylor([1.0, 2.0, -1.0])\n",
    "@test t^2 == Taylor([1.0,2.0,1.0]) #t^2 = 1 + 2x + x^2\n",
    "@test cos(t1) == Taylor([-1.0])  #cos(pi) = -1\n",
    "@test sin(t2) == Taylor([1.0]) #sin(pi/2) = 1"
   ]
  },
  {
   "cell_type": "markdown",
   "metadata": {},
   "source": [
    "Todo lo pusimos en los archivos __Taylor.jl__ y __runtest_taylor.jl__ ."
   ]
  }
 ],
 "metadata": {
  "kernelspec": {
   "display_name": "Julia 0.4.2",
   "language": "julia",
   "name": "julia-0.4"
  },
  "language_info": {
   "file_extension": ".jl",
   "mimetype": "application/julia",
   "name": "julia",
   "version": "0.4.5"
  }
 },
 "nbformat": 4,
 "nbformat_minor": 0
}
