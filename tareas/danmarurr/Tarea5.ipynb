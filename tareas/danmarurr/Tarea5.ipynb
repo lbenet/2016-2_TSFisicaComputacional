{
 "cells": [
  {
   "cell_type": "markdown",
   "metadata": {
    "slideshow": {
     "slide_type": "slide"
    }
   },
   "source": [
    "# Diferenciación automática: Parte 2\n",
    "\n",
    "* Daniel Martínez (@danmarurr)\n",
    "* Fernanda Pérez (@FernandaPerez)\n",
    "   "
   ]
  },
  {
   "cell_type": "markdown",
   "metadata": {},
   "source": [
    "### NOTA\n",
    "\n",
    "Este notebook se iniciará en la clase y **debe** hacerse en equipo, con los *mismos miembros* que participaron en la \"Tarea4.ipynb\". La resolución completa de los ejercicios debe ser enviada como \"Tarea5.ipynb\"."
   ]
  },
  {
   "cell_type": "markdown",
   "metadata": {
    "slideshow": {
     "slide_type": "slide"
    }
   },
   "source": [
    "## Funciones elementales"
   ]
  },
  {
   "cell_type": "markdown",
   "metadata": {},
   "source": [
    "Lo que se logró en la clase pasada fue, esencialmente, tener una manera de obtener primeras\n",
    "derivadas para cualquier función racional, esto es, cocientes de polinomios en una variable.\n",
    "\n",
    "El siguiente paso es incluir más funciones a fin de ampliar la aplicabilidad de lo hecho la vez pasada, en particular a las funciones elementales: $\\exp$, $\\log$, etc."
   ]
  },
  {
   "cell_type": "markdown",
   "metadata": {
    "slideshow": {
     "slide_type": "slide"
    }
   },
   "source": [
    "La extensión a estas funciones es elemental, y así por ejemplo tenemos:\n",
    "\n",
    "\\begin{eqnarray}\n",
    "\\exp[\\vec{f}(x_0)] &=& \\big( \\exp(f_0),\\, f'_0\\exp(f_0) \\,\\big),\\\\\n",
    "\\log[\\vec{f}(x_0)] &=& \\big( \\log(f_0),\\, \\frac{f'_0}{f_0} \\,\\big),\\\\\n",
    "\\sin[\\vec{f}(x_0)] &=& \\big( \\sin(f_0),\\, f'_0\\cos(f_0) \\,\\big),\\\\\n",
    "\\cos[\\vec{f}(x_0)] &=& \\big( \\cos(f_0),\\, -f'_0\\sin(f_0) \\,\\big),\\\\\n",
    "\\tan[\\vec{f}(x_0)] &=& \\big( \\tan(f_0),\\, f'_0\\sec^2(f_0) \\,\\big),\\\\\n",
    "\\sinh[\\vec{f}(x_0)] &=& \\big( \\sinh(f_0),\\, f'_0\\cosh(f_0) \\,\\big),\\\\\n",
    "...\\\\\n",
    "\\end{eqnarray}\n",
    "\n",
    "Vale la pena enfatizar que la regla de la cadena se utiliza en la segunda componente del \n",
    "lado derecho de estas ecuaciones."
   ]
  },
  {
   "cell_type": "markdown",
   "metadata": {
    "collapsed": true,
    "slideshow": {
     "slide_type": "slide"
    }
   },
   "source": [
    "## Ejercicio\n",
    "\n",
    "Implementen las funciones relacionadas con potencias, exponenciales, logarítmos, las funciones trigonométricas y las hiperbólicas que tiene Julia definidas (ver la [documentación](http://julia.readthedocs.org/en/release-0.4/manual/mathematical-operations/#trigonometric-and-hyperbolic-functions)). La implementación debe incluir los tests adecuados. La manera en que implementen las cosas debe estar clara en el notebook \"Tarea5.ipynb\", pero toda la funcionalidad debe ser incluida en \"AutomDiff.jl\" al igual que en \"runtests.jl\"\n",
    "\n",
    "**Hint:** Aprovechen las capacidades de Julia en metaprogramming."
   ]
  },
  {
   "cell_type": "markdown",
   "metadata": {},
   "source": [
    "Bueno, dado a que todas las funciones ya están en el módulo `AutomDiff.jl` los pondremos aquí con ayuda de Markdown y evitar que haya desastre con las funciones. Usaremos metaprogramming, definiremos un vector con tuplas de símbolos, en la primera entrada estará el símbolo asociado a la función y en la segunda entrada el símbolo de la derivada asociada a la función (usando funciones anónimas). Finalmente, se escribirá un ciclo para que cree expresiones para definir las funciones sobre los duales y se evaluarán para crear dichos métodos.\n",
    "\n",
    "Usamos unas líneas extra para la función `log` pues puede tener dos argumentos (que corresponden al $\\log_b(x)$"
   ]
  },
  {
   "cell_type": "code",
   "execution_count": 1,
   "metadata": {
    "collapsed": false
   },
   "outputs": [],
   "source": [
    "#Importamos lo que ya hicimos sobre los duales\n",
    "include(\"AutomDiff.jl\")\n",
    "#using AD.Dual, AD.xdual\n",
    "import AD: Dual, xdual"
   ]
  },
  {
   "cell_type": "markdown",
   "metadata": {
    "collapsed": false
   },
   "source": [
    "\n",
    "```julia\n",
    "# OJO! Estas definiciones ya fueron incluidas en el modulo de AutomDiff.jl\n",
    "#Importamos todas las funciones para las cuales queremos definir su operacion \n",
    "import Base: ^, exp, sqrt, cbrt, sin, cos, tan, cot, sec, csc, sinh, cosh, tanh, coth, sech, csch,\n",
    "asin,   acos,   atan,   acot,   asec,   acsc,\n",
    "asinh,  acosh,  atanh,  acoth,  asech,  acsch\n",
    "\n",
    "#Vector con todos los símbolos asociados a las funciones trigométricas, exponenciales, etc. y sus respectivas\n",
    "#derivadas\n",
    "Vec_Func = [(:sin, :cos), (:cos, :(x -> -sin(x))), (:tan, :(x -> (sec(x))^2)), (:cot, :(x -> -(csc(x))^2)), \n",
    "    (:sec, :(x -> sec(x)*tan(x))), (:csc, :(x -> -csc(x)*cot(x))), (:sinh, :cosh), (:cosh, :sinh), \n",
    "    (:tanh, :(x -> (sech(x))^2)), (:coth, :(x -> -(csch(x))^2)), (:asin, :(x -> 1/sqrt(1-x^2))), \n",
    "    (:acos, :(x -> -1/sqrt(1-x^2))), (:atan, :(x -> 1/(1+x^2))), (:acot, :(x -> -1/(1+x^2))),\n",
    "    (:asec, :(x -> 1/(sqrt(x^2-1)*x))), (:acsc, :(x -> -1/(sqrt(x^2-1)*x))), (:asinh, :(x -> 1/sqrt(1+x^2))),\n",
    "    (:acosh, :(x -> 1/sqrt(x^2-1))), (:atanh, :(x -> 1/(1-x^2))), (:acoth, :(x -> 1/(1-x^2))),\n",
    "    (:asech, :(x -> 1/(x*sqrt(1-x^2)))), (:acsch, :(x -> -1/(x*sqrt(1+x^2)))),\n",
    "    (:sqrt, :(x -> 1/(2*sqrt(x)))), (:exp, :exp), (:cbrt, :(x -> 1/(3*x^(2/3))))]\n",
    "\n",
    "#Casos especiales: los logarítmos y a^x\n",
    "log(a::Dual) = Dual(log(a.fun), a.der/a.fun)\n",
    "log{T<:Real}(b::T, a::Dual) = Dual(log(b,a.fun), a.der/(log(b)*a.fun))\n",
    "^{T<:Real}(b::T, a::Dual) = Dual(b^a.fun, a.der*log(b)*b^a.fun)\n",
    "\n",
    "#Loop para crear los nuevos métodos a partir de los símbolos\n",
    "for r in 1:length(Vec_Func)\n",
    "    fn = Vec_Func[r][1] #El primer símbolo está asociado a la función\n",
    "    der = Vec_Func[r][2] #El segundo símbolo está asociado a la derivada de la función\n",
    "    ex = quote #Creamos una nueva expresión\n",
    "        function (fn)(a::Dual) #Definimos fn(a::Dual) #Ojo: Antes de fn y der van signos de pesos, Markdown hace\n",
    "            fun = (fn)(a.fun)  #cosas raras si los pongo aquí (en el .jl está bien)\n",
    "            derv = (der)(a.fun)\n",
    "            return Dual(fun, derv*a.der) #Aplicamos la regla de la cadena\n",
    "        end\n",
    "    end\n",
    "    @eval ex #Evaluamos la expresión para crear el método\n",
    "end\n",
    "```"
   ]
  },
  {
   "cell_type": "code",
   "execution_count": 2,
   "metadata": {
    "collapsed": false
   },
   "outputs": [],
   "source": [
    "using Base.Test\n",
    "\n",
    "#Aquí están las cosas para ver las cosas chequen como debe ser\n",
    "d1 = xdual(0.5)\n",
    "d2 = xdual(1.5)\n",
    "\n",
    "@test sin(d1) == Dual(sin(d1.fun), cos(d1.fun)*d1.der)\n",
    "@test cos(d1) == Dual(cos(d1.fun), - sin(d1.fun)*d1.der)\n"
   ]
  },
  {
   "cell_type": "markdown",
   "metadata": {},
   "source": [
    "Ok... las cosas están funcionando como queremos... vamos a tratar de hacer un ciclo que lo defina de manera automatica, con metaprogramming.\n",
    "\n",
    "```julia\n",
    "Vec_Func = [(:sin, :cos), (:cos, :(x -> -sin(x))), (:tan, :(x -> (sec(x))^2)), (:cot, :(x -> -(csc(x))^2)), \n",
    "    (:sec, :(x -> sec(x)*tan(x))), (:csc, :(x -> -csc(x)*cot(x))), (:sinh, :cosh), (:cosh, :sinh), \n",
    "    (:tanh, :(x -> (sech(x))^2)), (:coth, :(x -> -(csch(x))^2)), (:asin, :(x -> 1/sqrt(1-x^2))), \n",
    "    (:acos, :(x -> -1/sqrt(1-x^2))), (:atan, :(x -> 1/(1+x^2))), (:acot, :(x -> -1/(1+x^2))),\n",
    "    (:asec, :(x -> 1/(sqrt(x^2-1)*x))), (:acsc, :(x -> -1/(sqrt(-1+x^2)*x))), (:asinh, :(x -> 1/sqrt(1+x^2))),\n",
    "    (:acosh, :(x -> 1/sqrt(x^2-1))), (:atanh, :(x -> 1/(1-x^2))), (:acoth, :(x -> 1/(1-x^2))),\n",
    "    (:asech, :(x -> 1/(x*sqrt(1-x^2)))), (:acsch, :(x -> -1/(x*sqrt(1+x^2)))),\n",
    "    (:sqrt, :(x -> 1/(2*sqrt(x)))), (:exp, :exp), (:cbrt, :(x -> 1/(3*x^(2/3))))]\n",
    "\n",
    "#Creamos un arreglo para generar las posiciones de las funciones que aceptan valores menores que 1\n",
    "arr1 = Int64[]\n",
    "for r in 1:25\n",
    "    (r == 15) | (r == 18) | (r==16) | (r == 20)? nothing : push!(arr1, r)\n",
    "end\n",
    "#Creamos un arreglo para generar las posiciones de las funciones que aceptan valores mayores que 1\n",
    "arr2 = Int64[]\n",
    "for r in 1:25\n",
    "    (r == 15) | (r == 18) | (r==16) | (r == 20)? push!(arr2, r) : nothing \n",
    "end\n",
    "\n",
    "\n",
    "function probar_en_dual(d::Dual,arr::Array{Int64,1})  \n",
    "    for r in arr\n",
    "        fun = Vec_Func[r][1]\n",
    "        der = Vec_Func[r][2]\n",
    "\n",
    "        e = quote\n",
    "            p = (fun)(d) == Dual((fun)(d.fun), ((der)(d.fun))*d.der) \n",
    "        end\n",
    "        #@show r\n",
    "        @eval e\n",
    "        @test p\n",
    "        #println(p)\n",
    "        \n",
    "    end            \n",
    "end\n",
    "\n",
    "\n",
    "```"
   ]
  },
  {
   "cell_type": "code",
   "execution_count": 18,
   "metadata": {
    "collapsed": false
   },
   "outputs": [
    {
     "name": "stderr",
     "output_type": "stream",
     "text": [
      "WARNING: replacing module AD\n",
      "WARNING: using AD.xdual in module Main conflicts with an existing identifier.\n",
      "WARNING: using AD.Dual in module Main conflicts with an existing identifier.\n"
     ]
    }
   ],
   "source": [
    "include(\"runtest.jl\")"
   ]
  },
  {
   "cell_type": "markdown",
   "metadata": {},
   "source": [
    "Bien, hemos visto que todo funciona"
   ]
  },
  {
   "cell_type": "markdown",
   "metadata": {
    "slideshow": {
     "slide_type": "slide"
    }
   },
   "source": [
    "## Ejercicio\n",
    "\n",
    "Prueben su implementación calculando la derivada de $f(x) = \\sin\\Big(x^3 - \\frac{2}{x^6}\\Big)$\n",
    "en $x_0 = 2$.\n",
    "\n",
    "Dibujen, para $x_0 \\in [1,5]$ la función $f'(x)$."
   ]
  },
  {
   "cell_type": "code",
   "execution_count": 6,
   "metadata": {
    "collapsed": false
   },
   "outputs": [
    {
     "data": {
      "text/plain": [
       "f (generic function with 1 method)"
      ]
     },
     "execution_count": 6,
     "metadata": {},
     "output_type": "execute_result"
    }
   ],
   "source": [
    "#Definamos la funcion fea:\n",
    "f(x) = sin(x^3 - 2/x^6)"
   ]
  },
  {
   "cell_type": "code",
   "execution_count": 7,
   "metadata": {
    "collapsed": false
   },
   "outputs": [
    {
     "data": {
      "text/plain": [
       "AD.Dual{Float64}(0.9934213368955197,-1.384934905523464)"
      ]
     },
     "execution_count": 7,
     "metadata": {},
     "output_type": "execute_result"
    }
   ],
   "source": [
    "#Ésto debería regresarnos la evaluación de f(2) y f'(2)\n",
    "x_0 = xdual(2)\n",
    "r = f(x_0)"
   ]
  },
  {
   "cell_type": "markdown",
   "metadata": {},
   "source": [
    "Según Wolfram Alpha, la derivada de esa función en ese punto está dada por:\n",
    "![diagrama](Imagenes_Tarea5/derivada.png \"Imagen1\")\n",
    "\n",
    "Y según Julia, $f'(2) \\approx -1.384934$, por lo que podemos concluir que el cálculo es correcto"
   ]
  },
  {
   "cell_type": "code",
   "execution_count": 8,
   "metadata": {
    "collapsed": true
   },
   "outputs": [],
   "source": [
    "using PyPlot"
   ]
  },
  {
   "cell_type": "code",
   "execution_count": 9,
   "metadata": {
    "collapsed": false
   },
   "outputs": [],
   "source": [
    "# Para crear la gráfica de la derivada en el punto, primero crearemos un vector de duales que corran en el intervalo\n",
    "# [1, 5], posteriormente evaluaremos la función en cada Dual y de ese arreglo, extraeremos el valor de la segunda\n",
    "# entrada para obtener el valor de la derivada en cada punto\n",
    "arr1 = [xdual(r) for r in 1:0.01:5]\n",
    "arr2 = [f(x) for x in arr1]\n",
    "dom = collect(1:0.01:5)\n",
    "ran = Float64[x.der for x in arr2];"
   ]
  },
  {
   "cell_type": "code",
   "execution_count": 10,
   "metadata": {
    "collapsed": false
   },
   "outputs": [
    {
     "data": {
      "image/png": "[encoded data removed]",
      "text/plain": [
       "PyPlot.Figure(PyObject <matplotlib.figure.Figure object at 0x7fdd49f58f98>)"
      ]
     },
     "metadata": {},
     "output_type": "display_data"
    },
    {
     "data": {
      "text/plain": [
       "PyObject <matplotlib.text.Text object at 0x7fdd49e00438>"
      ]
     },
     "execution_count": 10,
     "metadata": {},
     "output_type": "execute_result"
    }
   ],
   "source": [
    "figure(figsize=(5,4))\n",
    "plot(dom, ran)\n",
    "xlabel(\"x\")\n",
    "ylabel(\"f'(x)\")\n",
    "title(\"Derivada de f(x) en [1,5]\")"
   ]
  },
  {
   "cell_type": "markdown",
   "metadata": {},
   "source": [
    "# Ejercicio\n",
    "\n",
    "Implementen el método de Newton para una función arbitraria $f(x)$ en una variable (la función `newton1D` debe tener un argumento que es una función) a fin de encontrar un cero de la función, i.e., $f(x^*)=0$. El método de Newton requiere la derivada evaluada en diversos puntos, cosa que obtendrán usando el módulo de derivación automática.\n",
    "\n",
    "- Obtengan, usando su función del método de Newton, las raices del polinomio de Wilkinson $W_{6}(x)$, usando como iterados iniciales $x_0=2.2$ y $x_0=2.45$.\n",
    "    \n",
    "- Hagan lo mismo que en el inciso anterior para $g(x) = x \\sin(2x)$, con $x_0=0.7$."
   ]
  },
  {
   "cell_type": "code",
   "execution_count": 11,
   "metadata": {
    "collapsed": false
   },
   "outputs": [
    {
     "data": {
      "text/plain": [
       "W_6 (generic function with 1 method)"
      ]
     },
     "execution_count": 11,
     "metadata": {},
     "output_type": "execute_result"
    }
   ],
   "source": [
    "#Implementaremos el método de Newton, para hallar un cero de una función arbitraria, según nosotros, se necesita\n",
    "#por lo menos una adivinanza para iterar a partir de ella. Así que la función newton1D tendrá dos argumentos, la\n",
    "#función y la adivinanza, que por defecto tendrá valor del dual (1,1)\n",
    "function newton1D{T<:Real}(f::Function, x::T)\n",
    "    x_0 = xdual(x)\n",
    "    approx = f(x_0)\n",
    "    approx_c = x_0.fun - approx.fun/approx.der\n",
    "    if abs(f(approx_c)⋅f(approx_c)) > 1e-20\n",
    "        newton1D(f, approx_c)\n",
    "    else \n",
    "        return approx_c\n",
    "    end\n",
    "end   \n",
    "\n",
    "#Ahora, nos robaremos el código de Luis para crear los polinomios de Wilkinson\n",
    "nombre(n::Int) = symbol( string(\"W_\", n) )\n",
    "function wilkinson(n::Int)\n",
    "    # Checo que `n` sea >= 1\n",
    "    @assert n >= 1\n",
    "    \n",
    "    ex = :(x-1)\n",
    "    for i = 2:n\n",
    "        ex = :( ($ex) * ( x-$i) )\n",
    "    end\n",
    "    ex_ret = :( $(nombre(n))(x) = $ex )\n",
    "    ex_ret\n",
    "end\n",
    "\n",
    "#Creamos el polinomio W_6\n",
    "eval(wilkinson(6))"
   ]
  },
  {
   "cell_type": "code",
   "execution_count": 12,
   "metadata": {
    "collapsed": false
   },
   "outputs": [
    {
     "data": {
      "text/plain": [
       "2.0"
      ]
     },
     "execution_count": 12,
     "metadata": {},
     "output_type": "execute_result"
    }
   ],
   "source": [
    "#Ahora buscaremos un cero W_6 usando las adivinanzas iniciales solicitadas, primero con x_0 = 2.2\n",
    "newton1D(W_6, 2.2)"
   ]
  },
  {
   "cell_type": "code",
   "execution_count": 13,
   "metadata": {
    "collapsed": false
   },
   "outputs": [
    {
     "data": {
      "text/plain": [
       "6.000000000000067"
      ]
     },
     "execution_count": 13,
     "metadata": {},
     "output_type": "execute_result"
    }
   ],
   "source": [
    "#Ahora con x_0 = 2.45\n",
    "newton1D(W_6, 2.45)"
   ]
  },
  {
   "cell_type": "markdown",
   "metadata": {},
   "source": [
    "**Nota:**\n",
    "\n",
    "En ambos casos se obtuvo una raíz de la función de Wilkinson (que sabemos que son 1, 2, 3, 4, 5 y 6), extraña un poco que para 2.45 se obtuviera como raíz a 6, adicionalmente, graficaremos el cero que encuentra la función `newton1D` a partir de una adivinanza dada."
   ]
  },
  {
   "cell_type": "code",
   "execution_count": 14,
   "metadata": {
    "collapsed": false
   },
   "outputs": [
    {
     "data": {
      "image/png": "[encoded data removed]",
      "text/plain": [
       "PyPlot.Figure(PyObject <matplotlib.figure.Figure object at 0x7fdd49eaadd8>)"
      ]
     },
     "metadata": {},
     "output_type": "display_data"
    },
    {
     "data": {
      "text/plain": [
       "PyObject <matplotlib.text.Text object at 0x7fdd477e7f60>"
      ]
     },
     "execution_count": 14,
     "metadata": {},
     "output_type": "execute_result"
    }
   ],
   "source": [
    "adiv = collect(0:0.01:7)\n",
    "ran2 = Float64[newton1D(W_6, x) for x in adiv];\n",
    "\n",
    "\n",
    "figure(figsize=(5,4))\n",
    "plot(adiv, ran2, linestyle=\"\", marker =\".\")\n",
    "xlabel(\"x_0\")\n",
    "ylabel(\"cero\")\n",
    "title(\"Ceros a partir de adivinanza inicial\")"
   ]
  },
  {
   "cell_type": "code",
   "execution_count": 15,
   "metadata": {
    "collapsed": false
   },
   "outputs": [
    {
     "data": {
      "text/plain": [
       "4.086255907155701e-6"
      ]
     },
     "execution_count": 15,
     "metadata": {},
     "output_type": "execute_result"
    }
   ],
   "source": [
    "#Ahora para la función g(x)\n",
    "g(x) = x*sin(2x)\n",
    "newton1D(g, 0.7) #Tenemos que con este valor, calcula al cero como x = 0"
   ]
  },
  {
   "cell_type": "code",
   "execution_count": 16,
   "metadata": {
    "collapsed": false
   },
   "outputs": [
    {
     "data": {
      "image/png": "[encoded data removed]",
      "text/plain": [
       "PyPlot.Figure(PyObject <matplotlib.figure.Figure object at 0x7fdd49df5080>)"
      ]
     },
     "metadata": {},
     "output_type": "display_data"
    },
    {
     "data": {
      "text/plain": [
       "PyObject <matplotlib.text.Text object at 0x7fdd477cfa58>"
      ]
     },
     "execution_count": 16,
     "metadata": {},
     "output_type": "execute_result"
    }
   ],
   "source": [
    "adiv2 = collect(0:0.1:7)\n",
    "ran3 = Float64[newton1D(g, x) for x in adiv2];\n",
    "\n",
    "\n",
    "figure(figsize=(5,4))\n",
    "plot(adiv2, ran3, linestyle=\"\", marker =\".\")\n",
    "xlabel(\"x_0\")\n",
    "ylabel(\"cero\")\n",
    "title(\"Ceros a partir de adivinanza inicial\")"
   ]
  },
  {
   "cell_type": "markdown",
   "metadata": {},
   "source": [
    "# Pregunta\n",
    "\n",
    "¿Qué hacer si se requieren derivadas de orden superior, es decir, la segunda, tercera, etc, derivada? Argumenten.\n",
    "\n",
    "**NOTA:** Esta pregunta debe ser contestada pero **no** será considerada para aceptar la tarea; la idea es empezar a pensar en esto."
   ]
  },
  {
   "cell_type": "markdown",
   "metadata": {
    "collapsed": true
   },
   "source": [
    "#### Una posible salida: \n",
    "\n",
    "Tal vez lo más ingenuo es hacer que aparezca la $n-$ésima derivada y las anteriores a ella agregando más entradas a nuestro vector $\\vec{v}$ de la siguiente forma:\n",
    "\n",
    "$$ \\vec{f} = f + \\displaystyle \\sum_{j=1}^{n}f^{(j)}\\hat{\\mathbf{h}}_j$$\n",
    "\n",
    "Claro, imponiendo condiciones sobre la multiplicación que más o menos pueden intuirse como:\n",
    "\n",
    "$\\hat{\\mathbf{h}}_i \\cdot \\hat{\\mathbf{h}}_j = 0$ si $i+j>n$\n",
    "\n",
    "$\\hat{\\mathbf{h}}_i \\cdot \\hat{\\mathbf{h}}_j = c(i,j)\\hat{\\mathbf{h}}_{i+j}$ si $i+j \\leq n$\n",
    "\n",
    "Además podríamos decir que los coeficientes $c(i,j)$ deben estar en terminos de $C_i^j$ (combinaciones de $j$ en $k$) porque queremos que la multiplicación de dos duales $\\vec{u}$ y $\\vec{v}$ ($\\vec{u}\\times\\vec{v}$) cumplan con la regla generalizada de Leibniz dada por:\n",
    "\n",
    "$$(fg)^{(n)} = \\displaystyle \\sum_{j=0}^n \\binom{n}{j}f^{(j)}g^{(n-j)}$$"
   ]
  },
  {
   "cell_type": "markdown",
   "metadata": {},
   "source": [
    "#### Una salida hipotética y más rebuscada:\n",
    "\n",
    "Tomarnos más tiempo para redefinir el concepto de \"Dual\". Si consiguiéramos que esta función nos dejase poner las derivadas y las funciones en términos de símbolos, podríamos redefinir las operaciones para que funcionaran de manera \"simbólica\". Es decir... si ```xdual()``` --> ```(:x, 1)```, definir operaciones apropiadas para ```*, +, -, ^```, etc. Esto para que el hecho de *derivar* con duales sea recursivo y obtener algo del tipo...\n",
    "```julia\n",
    "r = xdual()\n",
    "f'(x) = f(r).der\n",
    "f''(x) = f'(r).der\n",
    "\n",
    "```\n",
    "\n",
    "...o algo así.\n",
    "\n",
    "También podríamos optimizar la definión del vector de pares función-derivada utilizando metraprogramming."
   ]
  }
 ],
 "metadata": {
  "kernelspec": {
   "display_name": "Julia 0.4.2",
   "language": "julia",
   "name": "julia-0.4"
  },
  "language_info": {
   "file_extension": ".jl",
   "mimetype": "application/julia",
   "name": "julia",
   "version": "0.4.2"
  }
 },
 "nbformat": 4,
 "nbformat_minor": 0
}
