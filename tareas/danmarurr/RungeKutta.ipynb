{
 "cells": [
  {
   "cell_type": "markdown",
   "metadata": {
    "slideshow": {
     "slide_type": "slide"
    }
   },
   "source": [
    "# Integración por Taylor"
   ]
  },
  {
   "cell_type": "markdown",
   "metadata": {
    "slideshow": {
     "slide_type": "-"
    }
   },
   "source": [
    "Aquí veremos un ejemplo sencillo de cómo integrar usando el método de Tayor en un problema de valor inicial, o sea, para una ecuación diferencial ordinaria con una condición inicial."
   ]
  },
  {
   "cell_type": "markdown",
   "metadata": {
    "slideshow": {
     "slide_type": "subslide"
    }
   },
   "source": [
    "El punto de partida, y *absolutamente importante* en todo lo que sigue, es el [Teorema Fundamental de las Ecuaciones Diferenciales Ordinarias](https://en.wikipedia.org/wiki/Picard%E2%80%93Lindel%C3%B6f_theorem), (o teorema de existencia y unicidad de las EDOs):\n",
    "\n",
    "#### Teorema\n",
    "\n",
    "Consideren el problema de valores iniciales $y'(t)=f(t,y(t)),\\ y(t_0)=y_0$. Suponemos que $f(t,y)$ es Lipschitz uniformemente continua en $y$ (lo que significa que hay una constante, independiente de $t$, que acota $f$ para todo intervalo de su dominio) y continua en $t$. Entonces, para algún valor $\\varepsilon > 0$ existe una solución única $y(t)$ al problema de valor inicial en el intervalo $[t_0-\\varepsilon, t_0+\\varepsilon]$.\n",
    "\n",
    "**Importante:** El teorema establece la existencia y unicidad de la solución en un intervalo de $t$ en torno al valor $t_0$ que especifica la condición inicial. Esto, sin embargo, **no** implica que la solución exista para todo tiempo $t>t_0$."
   ]
  },
  {
   "cell_type": "markdown",
   "metadata": {
    "slideshow": {
     "slide_type": "slide"
    }
   },
   "source": [
    "## Un ejemplo sencillo"
   ]
  },
  {
   "cell_type": "markdown",
   "metadata": {
    "slideshow": {
     "slide_type": "-"
    }
   },
   "source": [
    "El método de Taylor lo describiremos a través de un ejemplo. Concretamente, ilustraremos como integrar la ecuación diferencial\n",
    "\n",
    "\\begin{equation}\n",
    "\\dot{x} = f(x) = x^2,\n",
    "\\end{equation}\n",
    "\n",
    "con $x(0) = 3$."
   ]
  },
  {
   "cell_type": "markdown",
   "metadata": {
    "slideshow": {
     "slide_type": "subslide"
    }
   },
   "source": [
    "Antes de describir el método, vale la pena notar que esta ecuación la podemos resolver analíticamente. La solución, como se puede comprobar rápidamente es\n",
    "\n",
    "\\begin{equation}\n",
    "x(t) = \\frac{3}{1-3t}.\n",
    "\\end{equation}\n",
    "\n",
    "Esta solución muestra que $x(t)\\to\\infty$ cuando $t\\to 1/3$; esto es un ejemplo de que la solución $x(t)$ **no existe** para $t>1/3$. \n"
   ]
  },
  {
   "cell_type": "markdown",
   "metadata": {
    "slideshow": {
     "slide_type": "fragment"
    }
   },
   "source": [
    "El punto importante de este comentario es que, sin importar el método de integración, si hiciéramos una integración \"larga\" usando un *paso de integración constante* (o sea, a partir de $x(t_k)$ obtenemos $x(t_{k+1})$, con $t_{k+1} = t_0 + (k+1)\\delta t = t_k + \\delta t$), el método continuará la integración más allá de $t=1/3$, que es hasta donde tiene sentido la solución, a menos de que tengamos la buena fortuna de caer exactamente en $t_n=1$. Esto es una *advertencia* de que uno debe ser extremandamente cuidadoso si considera pasos de integración constantes. \n",
    "\n",
    "Sin embargo, si tenemos un método de integración con paso adaptativo, hay esperanza de que este problema no ocurra.\n"
   ]
  },
  {
   "cell_type": "markdown",
   "metadata": {
    "slideshow": {
     "slide_type": "subslide"
    }
   },
   "source": [
    "La idea del método de Taylor es construir una solución (local en $t$) que aproxime muy bien la solución de la ecuación diferencial en alguna vecindad del punto inicial $t_0$. En particular, escribimos el polinomios (en torno a $t_0$), esto es\n",
    "\n",
    "\\begin{equation}\n",
    "x(t) = \\sum_{k=0}^\\infty x_{[k]}(t_0)\\, (t-t_0)^k,\n",
    "\\end{equation}\n",
    "\n",
    "donde $x_{[k]}(t_0)$ es el coeficiente de Taylor de orden $k$. Esta solución cumple la condición inicial imponiendo $x_{[0]}(t_0) = x_0$. \n",
    "Excepto por $x_{[0]}(t_0)$, el resto de los coeficientes del desarrollo son por determinar, cosa que haremos iterativamente. \n",
    "\n",
    "Empezaremos considerando que $p$ es infinito, o sea, construiremos la solución analítica; después entraremos en las sutilezas de tener aproximaciones de orden finito."
   ]
  },
  {
   "cell_type": "markdown",
   "metadata": {
    "slideshow": {
     "slide_type": "subslide"
    }
   },
   "source": [
    "### Solución a primer orden"
   ]
  },
  {
   "cell_type": "markdown",
   "metadata": {
    "slideshow": {
     "slide_type": "-"
    }
   },
   "source": [
    "Escribimos, como aproximación de primer orden a la solución en la forma $x(t) = x_0 + x{[1]}(t_0)\\, (t-t_0) + \\mathcal{O}((t-t_0)^2)$, y queremos obtener el valor de $x_{[1]}(t_0)$. De aquí, tenemos que $\\dot{x} = x{[1]}+ \\mathcal{O}((t-t_0))$, y sustituyendo en ambos lados de la ecuación diferencial obtenemos\n",
    "\n",
    "\\begin{eqnarray}\n",
    "x{[1]} + \\mathcal{O}((t-t_0)) & = & \\big[x_0 + x{[1]}(t_0)\\, (t-t_0) + \\mathcal{O}((t-t_0)^2)\\big]^2 \\\\\n",
    "& = & x_0^2 + \\mathcal{O}((t-t_0)).\n",
    "\\end{eqnarray}\n",
    "\n",
    "De aquí concluimos que $x_{[1]}=x_0^2$.\n",
    "\n",
    "Es importante notar que **no** necesitamos hacer el cálculo explícito del cuadrado de todo el polinomio; *únicamente* calculamos (y usamos) el término de orden cero en el lado derecho de la ecuación."
   ]
  },
  {
   "cell_type": "markdown",
   "metadata": {
    "slideshow": {
     "slide_type": "subslide"
    }
   },
   "source": [
    "### Solución a segundo orden y órdenes mayores"
   ]
  },
  {
   "cell_type": "markdown",
   "metadata": {},
   "source": [
    "Para la aproximación a segundo orden escribimos $x(t) = x_0 + x_0^2 (t-t_0) + x{[2]}(t-t_0)^2+\\mathcal{O}((t-t_0)^3)$, donde queremos obtener $x_{[2]}(t_0)$. En este caso, la derivada es $\\dot{x} = x_0^2 + x_{[2]}(t_0)\\,(t-t_0) + \\mathcal{O}((t-t_0)^2)$, y sustituyendo nuevamente en la ecuación diferencial obtenemos\n",
    "\n",
    "\\begin{eqnarray}\n",
    "x_0^2 + 2 x_{[2]}(t_0)\\,(t-t_0) + \\mathcal{O}((t-t_0)^2) & = & \\big[x_0 + x_0^2 (t-t_0) + x{[2]}(t-t_0)^2+\\mathcal{O}((t-t_0)^3)\\big]^2 \\\\\n",
    "& = & x_0^2 + 2 x_0^3 (t-t_0) + \\mathcal{O}((t-t_0)^2).\n",
    "\\end{eqnarray}\n",
    "\n",
    "De aquí obtenemos $x_{[2]}(t_0) = x_0^3$. Nuevamente, vale la pena enfatizar que el lado derecho de la ecuación sólo se calcula a primer orden."
   ]
  },
  {
   "cell_type": "markdown",
   "metadata": {
    "slideshow": {
     "slide_type": "subslide"
    }
   },
   "source": [
    "Para órdenes más altos, uno continua de igual manera: $x(t) = x_0 + x_0^2 (t-t_0) + x_0^3 (t-t_0)^2+ x{[3]}(t-t_0)^3+\\mathcal{O}((t-t_0)^4)$, y al derivar y substituir $x^2$, se obtiene $x{[3]}(t_0)=x_0^4$. Y así se continua sucesivamente.\n",
    "\n",
    "Finalmente, se obtiene que\n",
    "\n",
    "\\begin{eqnarray}\n",
    "x(t) & = & x_0 + x_0^2 (t-t_0) + x_0^3 (t-t_0)^2 + x_0^4 (t-t_0)^3 + \\dots \\\\\n",
    "     & = & x_0 \\big(1 + x_0 (t-t_0) + x_0^2 (t-t_0)^2 + \\dots\\big) = \\frac{x_0}{1-x_0(t-t_0)},\\\\\n",
    "\\end{eqnarray}\n",
    "\n",
    "donde $t$ está limitado por $t - t_0 = 1/x_0$. Esto coincide con el resultado analítico que se espera.\n",
    "\n",
    "Vale la pena notar que, para que la serie converja absolutamente, se requiere que los términos sucesivos satisfagan ($t>t_0$)\n",
    "\n",
    "\\begin{equation}\n",
    "\\Big | \\frac{ x_{[n]}(t_0)\\, (t-t_0)^n }{x_{[n+1]}(t_0)\\, (t-t_0)^{n+1}}\\Big| = \\frac{1}{|x_0|(t-t_0)} < 1,\n",
    "\\end{equation}\n",
    "\n",
    "lo que define el radio de convergencia en $t$ de la serie."
   ]
  },
  {
   "cell_type": "markdown",
   "metadata": {
    "slideshow": {
     "slide_type": "subslide"
    }
   },
   "source": [
    "## El método de Taylor"
   ]
  },
  {
   "cell_type": "markdown",
   "metadata": {},
   "source": [
    "### Relaciones de recurrencia de los coeficientes de Taylor"
   ]
  },
  {
   "cell_type": "markdown",
   "metadata": {
    "slideshow": {
     "slide_type": "-"
    }
   },
   "source": [
    "En general, para la ecuación diferencial $\\dot{x} = f(x(t))$ con $x_0=x(t_0)$, uno puede demostrar que los coeficientes $x_{[k]}$ están dados por\n",
    "\n",
    "\\begin{equation}\n",
    "x_{[k]} = \\frac{f_{[k-1]}}{k},\n",
    "\\end{equation}\n",
    "\n",
    "donde los coeficientes $f_{[k']}$ son los coeficientes del desarrollo en serie de Taylor en $t-t_0$ de $f(x(t))$. Esta es una relación de recurrencia para $x_{[k]}$. Es claro que, dado que el lado derecho de la ecuación anterior involucra los coeficientes $f_{[k']}$, uno debe implementar funciones que permitan calcular dichos coeficientes."
   ]
  },
  {
   "cell_type": "markdown",
   "metadata": {
    "slideshow": {
     "slide_type": "slide"
    }
   },
   "source": [
    "### Paso de integración"
   ]
  },
  {
   "cell_type": "markdown",
   "metadata": {
    "collapsed": true
   },
   "source": [
    "Claramente, lo descrito más arriba no se puede implementar en la computadora. Es decir, estamos obligados a truncar el polinomio de Taylor en un grado $p$ (finito). Formalmente,  escribimos\n",
    "\n",
    "\\begin{equation}\n",
    "x(t) = \\sum_{k=0}^p x_{[k]}(t_0)\\, (t-t_0)^k + \\mathcal{R}_p ,\n",
    "\\end{equation}\n",
    "\n",
    "donde el *residuo* está dado por\n",
    "\n",
    "\\begin{equation}\n",
    "\\mathcal{R}_p = x_{[p+1]}(\\xi)\\, (t-t_0)^{p+1},\n",
    "\\end{equation}\n",
    " y $\\xi \\in [t_0, t]$."
   ]
  },
  {
   "cell_type": "markdown",
   "metadata": {
    "slideshow": {
     "slide_type": "subslide"
    }
   },
   "source": [
    "Queremos, entonces, truncar la serie en un $p$ finito, pero suficientemente grande de tal manera que el residuo sea pequeño."
   ]
  },
  {
   "cell_type": "markdown",
   "metadata": {
    "slideshow": {
     "slide_type": "fragment"
    }
   },
   "source": [
    "¿Dónde truncamos? En general esto sólo lo podemos contestar si podemos conocer el residuo (en términos de $p$), cosa que no es sencilla. \n",
    "\n",
    "Es por esto que uno *usa* las propiedades de convergencia de la serie de Taylor para $x(t)$, para $p$ *suficientemente* grande. Si $p$ es suficientemente grande, entonces las correcciones sucesivas serán cada vez menores, ya que la serie es convergente. "
   ]
  },
  {
   "cell_type": "markdown",
   "metadata": {
    "slideshow": {
     "slide_type": "subslide"
    }
   },
   "source": [
    "En particular, para $p$ suficientemente grande tendremos\n",
    "\n",
    "\\begin{equation}\n",
    "\\big| \\, x_{[p]}(t_0)\\, (t-t_0)^p \\, \\big| \\leq \\epsilon,\n",
    "\\end{equation}\n",
    "\n",
    "donde $\\epsilon$ es una cota, *suficientemente pequeña*, para *todos* los términos sucesivos.\n",
    "\n",
    "De aquí obtenemos una cota para el paso de integración $h=t-t_0$,\n",
    "\n",
    "\\begin{equation}\n",
    "h = t-t_0 \\leq \\Big(\\frac{\\epsilon}{\\big| x_{[p]}(t_0)\\big|}\\Big)^{1/p}.\n",
    "\\end{equation}\n",
    "\n",
    "Uno elige $\\epsilon$ para que sea mucho menor que el epsilon de la máquina. \n",
    "\n",
    "El paso de integración obtenido depende de $t_0$; por lo tanto, al hacer la evolución temporal, distintos pasos de integración se irán calculando, por lo que el paso de integración en general no será constante."
   ]
  },
  {
   "cell_type": "markdown",
   "metadata": {
    "slideshow": {
     "slide_type": "subslide"
    }
   },
   "source": [
    "Algo importante que vale la pena hacer notar es que, fijando $h$ de tal manera que se garantiza la convergencia de la serie, la serie de Taylor se aplica a todo valor de $t$ tal que $t_0 \\leq t \\leq t_0 + h$."
   ]
  },
  {
   "cell_type": "markdown",
   "metadata": {
    "slideshow": {
     "slide_type": "subslide"
    }
   },
   "source": [
    "En la práctica, y dado que normalmente uno lidia con ecuaciones de segundo orden, uno considera el menor de los pasos de integración obtenidos a partir de los dos últimos términos de la serie de Taylor.\n",
    "\n",
    "Es *importante* enfatizar que este procedimiento sólo funciona cuando el orden $p$ es suficientemente grande, de tal manera que estamos entrados en la cola convergente de la serie. "
   ]
  },
  {
   "cell_type": "markdown",
   "metadata": {
    "slideshow": {
     "slide_type": "slide"
    }
   },
   "source": [
    "### Sumando la serie"
   ]
  },
  {
   "cell_type": "markdown",
   "metadata": {
    "slideshow": {
     "slide_type": "-"
    }
   },
   "source": [
    "Una vez que tenemos el paso de integración $h$, queremos sumar la serie para obtener $x(t_1)$ con $t_1 = t_0+h$. Para esto, simplemente debemos sumar la serie\n",
    "\n",
    "\\begin{equation}\n",
    "x(t_1) = x(t_0+h) = \\sum_{k=0}^p x_{[k]}(t_0)\\, h^k.\n",
    "\\end{equation}\n",
    "\n",
    "Numéricamente, la mejor manera de hacer esto es usando [el método de Horner](https://en.wikipedia.org/wiki/Horner%27s_method). El método de Horner consiste en factorizar de manera apropiada el polinomio, el cual sólo se evalúa a través de productos y sumas (¡sin potencias!). Esto permite, por un lado, minimizar el número de operaciones, y en el caso de series de Taylor de orden suficientemente grande para estar en la cola convergente, considerar correctamente los términos pequeños."
   ]
  },
  {
   "cell_type": "markdown",
   "metadata": {
    "slideshow": {
     "slide_type": "subslide"
    }
   },
   "source": [
    "Reescribiendo la serie tenemos\n",
    "\n",
    "\\begin{eqnarray}\n",
    "x(t_1) & = & x_0 + x_{[1]} \\, h + \\dots + x_{[p-1]} \\,h^{p-1} + x_{[p]} \\, h^p\\\\\n",
    "& = & x_0 + x_{[1]} \\, h + \\dots + h^{p-1} ( x_{[p-1]} + h x_{[p]} )\\\\\n",
    "& = & x_0 + x_{[1]} \\, h + \\dots + h^{p-2} ( x_{[p-2]} + h ( x_{[p-1]} + h x_{[p]} ) )\\\\\n",
    "& = & x_0 + h\\big( x_{[1]} + h(... + h ( x_{[p-1]} + h x_{[p]} )...\\big).\n",
    "\\end{eqnarray}\n",
    "\n",
    "Entonces, consideramos primero (para la suma) el término $x_{[p]}$ y $x_{[p]}$, a partir de los cuales construimos $\\tilde{x}_{p-1} = x_{[p-1]} + h x_{[p]}$, y usando $\\tilde{x}_{p-1}$ obtenemos $\\tilde{x}_{p-2} = x_{[p-2]} + h \\tilde{x}_{p-1}$, y así sucesivamente hasta tener $\\tilde{x}_0=x(t_1)$, que es el resultado buscado.\n",
    "\n",
    "Una vez que hemos obtenido $x(t_1)$, uno utiliza este valor como la nueva condición inicial, y simplemente se iteran los pasos anteriores hasta obtener $x(t_2)$."
   ]
  },
  {
   "cell_type": "markdown",
   "metadata": {
    "slideshow": {
     "slide_type": "slide"
    }
   },
   "source": [
    "## Tarea 7"
   ]
  },
  {
   "cell_type": "markdown",
   "metadata": {
    "slideshow": {
     "slide_type": "-"
    }
   },
   "source": [
    "**NOTA** El contenido de este ejercicio se incluirá en la \"Tarea7.ipynb\". Nuevamente, esta tarea deberá ser elaborada en equipos."
   ]
  },
  {
   "cell_type": "markdown",
   "metadata": {
    "slideshow": {
     "slide_type": "subslide"
    }
   },
   "source": [
    "### Ejercicio"
   ]
  },
  {
   "cell_type": "markdown",
   "metadata": {
    "slideshow": {
     "slide_type": "-"
    }
   },
   "source": [
    "Usando su implementación de polinomios de Taylor, escriban un integrador para la ecuación diferencial que se desarrolló en este ejemplo, esto es, con la condición inicial $x(0) = 3$. \n",
    "\n",
    "El integrador debe hacer las operaciones necesarias para obtener automáticamente los coeficientes $x_{[k]}$, *en cada paso de integración*, a partir de la condición inicial local. Un requisito básico para esto es que tengan una implementación de la función $P_\\alpha(x) = [g(x)]^\\alpha$ con $g(x)$ un polinomio, que obtuvieron en la \"Tarea6\", y que funcione bien en particular para `alpha::Int`."
   ]
  },
  {
   "cell_type": "markdown",
   "metadata": {
    "slideshow": {
     "slide_type": "fragment"
    }
   },
   "source": [
    "La implementación debe consistir de varias funciones: \n",
    "\n",
    "- Una función donde se calculen los coeficientes $x_{[k]}(t_0)$ de la expansión. Esta función deberá llamar a otra donde se implementan las ecuaciones de movimiento.\n",
    "\n",
    "- Una función donde se obtenga el paso de integración $h$.\n",
    "\n",
    "- Otra función donde se haga la suma por el método de Horner.\n",
    "\n",
    "- Finalmente, una función que use las funciones anteriores para hacer la integración desde un tiempo inicial a uno final. En este punto, *fingiremos ignorancia*, en el sentido que el tiempo inicial es cero, y el tiempo final será $0.5$ (que está más allá de donde hay problemas).\n"
   ]
  },
  {
   "cell_type": "markdown",
   "metadata": {
    "slideshow": {
     "slide_type": "fragment"
    }
   },
   "source": [
    "Dado que conocemos la solución analítica, den como función de $t$ el error relativo de su integrador (respecto al valor del resultado analítico)."
   ]
  },
  {
   "cell_type": "code",
   "execution_count": 4,
   "metadata": {
    "collapsed": false
   },
   "outputs": [
    {
     "name": "stderr",
     "output_type": "stream",
     "text": [
      "WARNING: replacing module AD\n",
      "WARNING: New definition \n",
      "    ^(AD.Taylor, #T<:Number) at /Users/feruchan/2016-2/Sistemas/Daniel/2016-2_TSFisicaComputacional/tareas/danmarurr/Taylor.jl:242\n",
      "is ambiguous with: \n",
      "    ^(Any, Integer) at intfuncs.jl:108.\n",
      "To fix, define \n",
      "    ^(AD.Taylor, _<:Integer)\n",
      "before the new definition.\n"
     ]
    }
   ],
   "source": [
    "include(\"Taylor.jl\")\n",
    "import AD: log, ^"
   ]
  },
  {
   "cell_type": "markdown",
   "metadata": {
    "slideshow": {
     "slide_type": "subslide"
    }
   },
   "source": [
    "### Ejercicio"
   ]
  },
  {
   "cell_type": "markdown",
   "metadata": {
    "slideshow": {
     "slide_type": "-"
    }
   },
   "source": [
    "Repitan los cálculos usando el método de Runge-Kutta de 4o orden con paso de integración fijo (que es lo más sofisticado que conocen hasta ahora) y comparen los resultados del error relativo con el método de Taylor. En particular, finjan ignorancia de la misma manera que en el ejercicio anterior."
   ]
  },
  {
   "cell_type": "markdown",
   "metadata": {},
   "source": [
    "Para Runge-Kutta asumimos que:\n",
    "\\begin{equation}\n",
    "\\dot{x}(t) = f(t, x)\n",
    "\\end{equation}\n",
    "Definimos como $h$ una cantidad pequeñita y detenemos el ciclo hasta que $t \\geq 1/3$."
   ]
  },
  {
   "cell_type": "code",
   "execution_count": 87,
   "metadata": {
    "collapsed": false
   },
   "outputs": [
    {
     "data": {
      "text/plain": [
       "runge_kutta (generic function with 1 method)"
      ]
     },
     "execution_count": 87,
     "metadata": {},
     "output_type": "execute_result"
    }
   ],
   "source": [
    "function runge_kutta(f, t0, x0)\n",
    "    t = t0\n",
    "    x = x0\n",
    "    h = 1e-6\n",
    "    i = 0\n",
    "    \n",
    "    X = Float64[]\n",
    "    Y = Float64[]\n",
    "    while (t < 1/3)\n",
    "        #@show x\n",
    "        #@show t\n",
    "        \n",
    "        push!(X,t)\n",
    "        push!(Y,x)\n",
    "        \n",
    "        k1 = f(t,x)\n",
    "        #@show k1\n",
    "        k2 = f(t+(h/2), x+((h/2)*k1))\n",
    "        #@show k2\n",
    "        k3 = f(t+(h/2), x+((h/2)*k2))\n",
    "        #@show k3\n",
    "        k4 = f(t+h, x+(h*k3))\n",
    "        #@show k4\n",
    "        \n",
    "        x += (h/6)*(k1 + 2*k2 + 2*k3 + k4)\n",
    "    \n",
    "        t += h\n",
    "        i += 1\n",
    "        \n",
    "    end\n",
    "    return X,Y\n",
    "end"
   ]
  },
  {
   "cell_type": "code",
   "execution_count": 88,
   "metadata": {
    "collapsed": false,
    "scrolled": true
   },
   "outputs": [
    {
     "data": {
      "text/plain": [
       "333334-element Array{Float64,1}:\n",
       "      3.0      \n",
       "      3.00001  \n",
       "      3.00002  \n",
       "      3.00003  \n",
       "      3.00004  \n",
       "      3.00005  \n",
       "      3.00005  \n",
       "      3.00006  \n",
       "      3.00007  \n",
       "      3.00008  \n",
       "      3.00009  \n",
       "      3.0001   \n",
       "      3.00011  \n",
       "      ⋮        \n",
       "  88235.2      \n",
       "  96774.1      \n",
       "      1.07143e5\n",
       "      1.2e5    \n",
       " 136363.0      \n",
       "      1.57893e5\n",
       "      1.87497e5\n",
       "      2.30761e5\n",
       "      2.9997e5 \n",
       "      4.28405e5\n",
       "      7.47895e5\n",
       "      2.67631e6"
      ]
     },
     "execution_count": 88,
     "metadata": {},
     "output_type": "execute_result"
    }
   ],
   "source": [
    "#Definimos nuestra x' = f(t,x) = x^2\n",
    "g(t,x) = x^2\n",
    "\n",
    "#Probamos el Runge-Kutta en t0 = 0 y x0 = 3\n",
    "T = runge_kutta(g, 0, 3)[1]\n",
    "X = runge_kutta(g, 0, 3)[2]"
   ]
  },
  {
   "cell_type": "code",
   "execution_count": 89,
   "metadata": {
    "collapsed": false
   },
   "outputs": [
    {
     "data": {
      "text/plain": [
       "teo (generic function with 1 method)"
      ]
     },
     "execution_count": 89,
     "metadata": {},
     "output_type": "execute_result"
    }
   ],
   "source": [
    "#Ponemos aqui la solucion analitica de la ecuacion diferencial (esta barroca porque ya devuelve un arreglo)\n",
    "function teo(T)\n",
    "    Y = Float64[]\n",
    "    for x in T\n",
    "        t = 3 / (1-(3*x))\n",
    "        push!(Y,t)\n",
    "    end\n",
    "    return Y\n",
    "end"
   ]
  },
  {
   "cell_type": "code",
   "execution_count": 90,
   "metadata": {
    "collapsed": true
   },
   "outputs": [],
   "source": [
    "# Graficamos\n",
    "using PyPlot"
   ]
  },
  {
   "cell_type": "code",
   "execution_count": 105,
   "metadata": {
    "collapsed": false
   },
   "outputs": [
    {
     "data": {
      "image/png": "[encoded data removed]",
      "text/plain": [
       "PyPlot.Figure(PyObject <matplotlib.figure.Figure object at 0x3237dc8d0>)"
      ]
     },
     "metadata": {},
     "output_type": "display_data"
    },
    {
     "data": {
      "text/plain": [
       "PyObject <matplotlib.legend.Legend object at 0x349cc0190>"
      ]
     },
     "execution_count": 105,
     "metadata": {},
     "output_type": "execute_result"
    }
   ],
   "source": [
    "loglog(T,X,\".\", label=L\"Runge-Kutta (RK4)\")\n",
    "loglog(T, teo(T), \"x\", label = L\"$x(t) = \\frac{3}{1 - 3t}$\")\n",
    "xlabel(L\"$t$\")\n",
    "ylabel(L\"$x(t)$\")\n",
    "title(L\"Gráfico del RK4 y la solución analítica de $\\dot{x}(t) = x^2$\")\n",
    "legend()"
   ]
  },
  {
   "cell_type": "code",
   "execution_count": 111,
   "metadata": {
    "collapsed": false
   },
   "outputs": [
    {
     "data": {
      "image/png": "[encoded data removed]",
      "text/plain": [
       "PyPlot.Figure(PyObject <matplotlib.figure.Figure object at 0x353c5bc50>)"
      ]
     },
     "metadata": {},
     "output_type": "display_data"
    },
    {
     "data": {
      "text/plain": [
       "PyObject <matplotlib.text.Text object at 0x32d824a90>"
      ]
     },
     "execution_count": 111,
     "metadata": {},
     "output_type": "execute_result"
    }
   ],
   "source": [
    "#Calculamos el error relativo entre la solucion que obtuvimos con RK4 y la solucion analitica\n",
    "Error = abs(X - teo(T))\n",
    "loglog(T, Error, \".\")\n",
    "title(\"Gráfico del Error relativo entre ambas soluciones (RK4 y la solución analítica)\")\n",
    "xlabel(L\"t\")\n",
    "ylabel(L\"x(t)\")"
   ]
  },
  {
   "cell_type": "markdown",
   "metadata": {},
   "source": [
    "El error es raro e inestable. Para valores de $t$ muy pequeños, del orden de $10^{-6}$, el error es CERO. Sin embargo, conforme los valores de $t$ crecen, aproximándose al valor de $t = 1/3$, donde el la función $x(t)$ explota, se vuelve inestable hasta que finalmente alcanza valores de $10^6$."
   ]
  },
  {
   "cell_type": "markdown",
   "metadata": {
    "slideshow": {
     "slide_type": "subslide"
    }
   },
   "source": [
    "### Ejercicio"
   ]
  },
  {
   "cell_type": "markdown",
   "metadata": {},
   "source": [
    "Integra la ecuación de movimiento para el oscilador armónico, $\\ddot{x} = -2x$, con $x(0)=2$, $\\dot{x}(0)=0$, durante 10^4 periodos de oscilación (o sea, hasta $t_f = 10^4 \\cdot 2\\pi/\\sqrt{2}$, usando el método de Taylor y el método de Runge-Kutta de 4o orden con paso de integración constante. Compara cómo cambia la energía (respecto al valor al tiempo cero) en función del tiempo para ambos métodos."
   ]
  },
  {
   "cell_type": "code",
   "execution_count": null,
   "metadata": {
    "collapsed": true
   },
   "outputs": [],
   "source": []
  }
 ],
 "metadata": {
  "celltoolbar": "Slideshow",
  "kernelspec": {
   "display_name": "Julia 0.4.3",
   "language": "julia",
   "name": "julia-0.4"
  },
  "language_info": {
   "file_extension": ".jl",
   "mimetype": "application/julia",
   "name": "julia",
   "version": "0.4.3"
  }
 },
 "nbformat": 4,
 "nbformat_minor": 0
}
