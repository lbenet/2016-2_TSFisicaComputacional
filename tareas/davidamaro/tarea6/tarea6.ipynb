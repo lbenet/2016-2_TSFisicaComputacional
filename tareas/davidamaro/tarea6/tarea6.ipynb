{
 "cells": [
  {
   "cell_type": "markdown",
   "metadata": {
    "slideshow": {
     "slide_type": "slide"
    }
   },
   "source": [
    "# Derivadas superiores"
   ]
  },
  {
   "cell_type": "markdown",
   "metadata": {},
   "source": [
    "Hasta ahora hemos visto que, usando diferenciación automática, podemos calcular la derivada de funciones de una variable esencialmente con un error del orden del epsilon de la máquina.\n",
    "\n",
    "La pregunta que abordaremos ahora, es cómo hacer para calcular la segunda derivada, y derivadas de orden superior."
   ]
  },
  {
   "cell_type": "markdown",
   "metadata": {
    "slideshow": {
     "slide_type": "subslide"
    }
   },
   "source": [
    "Una posibilidad, específica para el caso de la segunda derivada, es proceder como en el caso anterior, es decir, definir una *terna ordenada* donde la primer componente es el valor de la función en $x_0$, i.e., $f(x_0)$, el de la segunda es el valor de la primer derivada $f'(x_0)$, y la tercer componente tiene el valor de la segunda derivada, $f^{(2)}(x_0) = f''(x_0)$. \n"
   ]
  },
  {
   "cell_type": "markdown",
   "metadata": {
    "slideshow": {
     "slide_type": "fragment"
    }
   },
   "source": [
    "Con esta definición, las operaciones aritméticas vienen dadas por:\n",
    "\n",
    "\\begin{eqnarray}\n",
    "\\vec{u} + \\vec{v} & = & (u + v, \\quad u'+ v', \\quad u''+v''),\\\\\n",
    "\\vec{u} - \\vec{v} & = & (u - v, \\quad u'- v', \\quad u''-v''),\\\\\n",
    "\\vec{u} \\times \\vec{v} & = & (u v, \\quad u v' + u' v, \\quad u v'' + 2 u' v' + u'' v),\\\\\n",
    "\\frac{\\vec{u}}{\\vec{v}} & = & \\Big( \\frac{u}{v}, \\quad \\frac{u'-( u/v) v'}{v}, \\quad \n",
    "\\frac{u'' - 2 (u/v)' v' - (u/v)v'' }{v}\\Big).\\\\\n",
    "\\end{eqnarray}\n",
    "\n",
    "Claramente, este proceso es muy ineficiente para derivadas de orden aún más alto, dado que las expresiones se complican y es fácil cometer errores."
   ]
  },
  {
   "cell_type": "markdown",
   "metadata": {
    "slideshow": {
     "slide_type": "subslide"
    }
   },
   "source": [
    "# Series de Taylor"
   ]
  },
  {
   "cell_type": "markdown",
   "metadata": {
    "slideshow": {
     "slide_type": "-"
    }
   },
   "source": [
    "El punto importante a recordar, es que las derivadas de orden superior de una función $f(x)$ en un punto $x_0$ están contenidas en el desarrollo de Taylor de la función entorno a ese punto. La suposición importante en esto es que $f(x)$ es suficientemente suave; por simplicidad supondremos que $f(x)$ es ${\\cal C}^\\infty$ y que estamos suficientemente cerca del punto $x_0$, i.e., $|x-x_0|\\ll 1$. \n"
   ]
  },
  {
   "cell_type": "markdown",
   "metadata": {
    "slideshow": {
     "slide_type": "fragment"
    }
   },
   "source": [
    "La serie de Taylor de $f(x)$ viene dada por\n",
    "\n",
    "\\begin{eqnarray}\n",
    "f(x) & = & f(x_0) + f^{(1)}(x_0) (x-x_0) + \\frac{f^{(2)}(x_0)}{2!} (x-x_0)^2 + \\dots + \\frac{f^{(k)}(x_0)}{k!} (x-x_0)^k + \\dots,\\\\\n",
    "& = & f_{[0]} + f_{[1]} (x-x_0) + f_{[2]} (x-x_0)^2 + \\dots + f_{[k]} (x-x_0)^k + \\dots,\\\\\n",
    "\\end{eqnarray}\n",
    "\n",
    "donde los coeficientes *normalizados* de Taylor $f_{[k]}$ que aparecen en la segunda línea de la ecuación anterior se definen como\n",
    "\n",
    "\\begin{equation}\n",
    "f_{[k]} = \\frac{f^{(k)}(x_0)}{k!} = \\frac{1}{k!}\\frac{{\\rm d}^k f}{{\\rm d}x^k}(x_0).\n",
    "\\end{equation}\n",
    "\n"
   ]
  },
  {
   "cell_type": "markdown",
   "metadata": {
    "slideshow": {
     "slide_type": "fragment"
    }
   },
   "source": [
    "Vale la pena **enfatizar** que la expresión anterior es exacta en tanto que la serie **no** sea truncada. En el caso de que la serie truncada a orden k, el [teorema de Taylor](https://en.wikipedia.org/wiki/Taylor%27s_theorem) asegura que el residuo (error del truncamiento) se puede escribir como:\n",
    "\n",
    "\\begin{equation}\n",
    "{\\cal R_{k}} = \\frac{f^{(k+1)}\\,(\\xi)}{(k+1)!} (x-x_0)^{k+1},\n",
    "\\end{equation}\n",
    "\n",
    "donde $\\xi$ es un punto que pertenece al interval $[x_0,x]$.\n"
   ]
  },
  {
   "cell_type": "markdown",
   "metadata": {
    "slideshow": {
     "slide_type": "subslide"
    }
   },
   "source": [
    "Si la serie es truncada, la aproximación es un polinomio de orden $k$ (grado máximo es $k$) en $x$. Dado que los polinomios en una variable están definidos por $k+1$ coeficientes, entonces pueden ser mapeados a vectores en $\\mathbb{R}^{k+1}$. \n",
    "\n",
    "Las operaciones aritméticas, en este caso, vienen dadas por:\n",
    "\n",
    "\\begin{eqnarray}\n",
    "(f+g)_{[k]} & = & f_{[k]} + g_{[k]} ,\\\\\n",
    "(f-g)_{[k]} & = & f_{[k]} - g_{[k]} ,\\\\\n",
    "(f \\cdot g)_{[k]} & = & \\sum_{i=0}^k f_{[i]} \\,g_{[k-i]} \\, ,\\\\\n",
    "\\Big(\\frac{f}{g}\\Big)_{[k]} & = & \\frac{1}{g_{[0]}}\n",
    "\\Big( f_{[k]} - \\sum_{i=0}^{k-1} \\big(\\frac{f}{g}\\big)_{[i]} \\, g_{[k-i]} \\Big) . \\\\\n",
    "\\end{eqnarray}"
   ]
  },
  {
   "cell_type": "markdown",
   "metadata": {
    "slideshow": {
     "slide_type": "slide"
    }
   },
   "source": [
    "### Ejercicio\n",
    "\n",
    "Implementen una nueva estructura paramétrica (`type`) que defina el tipo `Taylor`, donde el parámetro debe ser un subtipo de `Number`. Definan métodos que implementen las operaciones aritméticas básicas (`+`, `-`, `*`, `/`) y la igualdad (`==`). Esto deberá ser incluido en un módulo.\n",
    "\n",
    "Incluyan pruebas (en el archivo \"runtests.jl\") para cada uno de los métodos que implementen."
   ]
  },
  {
   "cell_type": "code",
   "execution_count": 1,
   "metadata": {
    "collapsed": false
   },
   "outputs": [
    {
     "data": {
      "text/plain": [
       "Taylor{T<:Number,S<:Number}"
      ]
     },
     "execution_count": 1,
     "metadata": {},
     "output_type": "execute_result"
    }
   ],
   "source": [
    "\"\"\"Definición de polinomios de Taylor, donde\n",
    "...\n",
    "\"\"\"\n",
    "type Taylor{T<:Number,S<:Number}\n",
    "    ini :: T # Valor en el que se calcula la serie\n",
    "    coef :: Array{S,1} # coeficiente normalizado de Taylor\n",
    "end\n",
    "Taylor(x0,a) = Taylor(promote(x0,a)...)"
   ]
  },
  {
   "cell_type": "code",
   "execution_count": 2,
   "metadata": {
    "collapsed": false
   },
   "outputs": [
    {
     "data": {
      "text/plain": [
       "Taylor{Int64,Float64}(0,[0.5,0.2])"
      ]
     },
     "execution_count": 2,
     "metadata": {},
     "output_type": "execute_result"
    }
   ],
   "source": [
    "Taylor(0,[1//2,.2])"
   ]
  },
  {
   "cell_type": "code",
   "execution_count": 3,
   "metadata": {
    "collapsed": false
   },
   "outputs": [
    {
     "data": {
      "text/plain": [
       "paso2 (generic function with 1 method)"
      ]
     },
     "execution_count": 3,
     "metadata": {},
     "output_type": "execute_result"
    }
   ],
   "source": [
    "function paso2(f,g)\n",
    "    nocero = 1\n",
    "    orden = length(f)\n",
    "    h = zeros(f)\n",
    "    total = 0\n",
    "    while g[nocero] == 0\n",
    "        nocero += 1\n",
    "    end\n",
    "    h[1] = f[nocero]/g[nocero]\n",
    "    for k in nocero+1:orden\n",
    "        for i in 1:k-nocero\n",
    "            if length(h) < i || length(g) < k-i+1\n",
    "                continue\n",
    "            else\n",
    "                total += h[i]*g[k-i+1]\n",
    "            end\n",
    "        end\n",
    "        h[k-nocero+1] = (f[k] - total)/g[nocero]\n",
    "    end\n",
    "    h\n",
    "end"
   ]
  },
  {
   "cell_type": "code",
   "execution_count": 4,
   "metadata": {
    "collapsed": false
   },
   "outputs": [
    {
     "data": {
      "text/plain": [
       "paso1 (generic function with 1 method)"
      ]
     },
     "execution_count": 4,
     "metadata": {},
     "output_type": "execute_result"
    }
   ],
   "source": [
    "function paso1(a,b)\n",
    "    order=length(a)+length(b)\n",
    "    c = zeros(order)\n",
    "    total = 0\n",
    "    i = 0\n",
    "    for k in 1:order\n",
    "        for i in 1:k\n",
    "            if i >length(a) || k-i+1 > length(b)\n",
    "                continue\n",
    "            else\n",
    "                total += a[i]*b[k-i+1]\n",
    "            end\n",
    "        end\n",
    "        c[k] = total\n",
    "        total = 0\n",
    "    end\n",
    "    c\n",
    "end"
   ]
  },
  {
   "cell_type": "code",
   "execution_count": 5,
   "metadata": {
    "collapsed": false
   },
   "outputs": [
    {
     "data": {
      "text/plain": [
       "igualdad (generic function with 1 method)"
      ]
     },
     "execution_count": 5,
     "metadata": {},
     "output_type": "execute_result"
    }
   ],
   "source": [
    "function igualdad(a,b)\n",
    "    orden = min([length(a),length(b)]...)\n",
    "    i = 1\n",
    "    while i <= orden\n",
    "        if a[i] != b[i]\n",
    "            return false\n",
    "        end\n",
    "        i+=1\n",
    "    end\n",
    "    return true\n",
    "end"
   ]
  },
  {
   "cell_type": "code",
   "execution_count": 6,
   "metadata": {
    "collapsed": false
   },
   "outputs": [
    {
     "data": {
      "text/plain": [
       "== (generic function with 110 methods)"
      ]
     },
     "execution_count": 6,
     "metadata": {},
     "output_type": "execute_result"
    }
   ],
   "source": [
    "import Base: +, -, *, /, ==\n",
    "\n",
    "# Aqui se implementan los métodos necesarios para cada función\n",
    "\n",
    "+(a::Taylor, b::Taylor) = Taylor(a.ini,a.coef.+b.coef)\n",
    "-(a::Taylor, b::Taylor) = Taylor(a.ini,a.coef.-b.coef)\n",
    "*(a::Taylor, b::Taylor) = Taylor(a.ini,paso1(a.coef,b.coef))\n",
    "/(a::Taylor, b::Taylor) = Taylor(a.ini,paso2(a.coef,b.coef))\n",
    "==(a::Taylor, b::Taylor) = igualdad(a.coef,b.coef)"
   ]
  },
  {
   "cell_type": "code",
   "execution_count": 7,
   "metadata": {
    "collapsed": false,
    "slideshow": {
     "slide_type": "-"
    }
   },
   "outputs": [],
   "source": [
    "# Muestren que su código funciona con tests adecuados; para los detalles ver \n",
    "# http://julia.readthedocs.org/en/release-0.4/stdlib/test/\n",
    "using Base.Test\n",
    "\n",
    "@test Taylor(0,[1,2,3])+Taylor(0,[2,3,4]) == Taylor(0,[3,5,7])\n",
    "@test Taylor(0,[1,2,3])-Taylor(0,[2,3,4]) == Taylor(0,[-1,-1,-1])\n",
    "@test Taylor(0,[0,0,1])/Taylor(0,[0,1]) == Taylor(0,[0,1,0])\n",
    "@test Taylor(0,[0,0,1,0])/Taylor(0,[0,0,1]) == Taylor(0,[1,0,0,0])\n",
    "@test Taylor(0,[0,1,1])*Taylor(0,[0,1]) == Taylor(0,[0,0,1,1])"
   ]
  },
  {
   "cell_type": "markdown",
   "metadata": {
    "slideshow": {
     "slide_type": "slide"
    }
   },
   "source": [
    "# Funciones de polinomios"
   ]
  },
  {
   "cell_type": "markdown",
   "metadata": {},
   "source": [
    "El siguiente punto, es cómo definir funciones de polinomios. \n",
    "\n",
    "Como veremos aquí, esto se basará en plantear una ecuación diferencial apropiada, cuya solución es, precisamente, la expresión que estamos buscando. Este punto es *importante*, y muestra que hay una conexión importante con la solución de ecuaciones diferenciales."
   ]
  },
  {
   "cell_type": "markdown",
   "metadata": {
    "slideshow": {
     "slide_type": "subslide"
    }
   },
   "source": [
    "Como ejemplo consideraremos la función\n",
    "\n",
    "\\begin{equation}\n",
    "E(x) = \\exp\\big(g(x)\\big),\n",
    "\\end{equation}\n",
    "\n",
    "donde \n",
    "\n",
    "\\begin{equation}\n",
    "g(x) = \\sum_{k=0}^\\infty g_{[k]} (x-x_0)^k\n",
    "\\end{equation}\n",
    "\n",
    "está escrita como una serie de Taylor (¡exacta!) alrededor de $x_0$. \n"
   ]
  },
  {
   "cell_type": "markdown",
   "metadata": {},
   "source": [
    "El primer punto, es que escribiremos a $E(x)$ como una serie de Taylor alrededor de $x_0$, es decir,\n",
    "\n",
    "\\begin{equation}\n",
    "E(x) = \\sum_{k=0}^\\infty E_{[k]} (x-x_0)^k.\n",
    "\\end{equation}\n",
    "\n",
    "El objetivo es determinar $E_{[k]}$ para *toda* $k$.\n",
    "\n",
    "Dado que $E(x)$ esun polinomio en $x$, su derivada viene dada por\n",
    "\n",
    "\\begin{equation}\n",
    "\\frac{{\\rm d} E(x)}{{\\rm d}x} = \\sum_{k=1}^\\infty k E_{[k]}\\, (x-x_0)^{k-1} .\n",
    "\\end{equation}"
   ]
  },
  {
   "cell_type": "markdown",
   "metadata": {},
   "source": [
    "Por otra parte, la derivada de $E(x)$ en términos de $g(x)$ está dada por\n",
    "\n",
    "\\begin{equation}\n",
    "\\frac{{\\rm d} E(x)}{{\\rm d}x} = \\exp\\big(g(x)\\big) \\frac{{\\rm d} g(x)}{{\\rm d}x} = E(x) \\frac{{\\rm d} g(x)}{{\\rm d}x},\n",
    "\\end{equation}\n",
    "\n",
    "donde del lado derecho aparece la derivada de $g(x)$. Ya que $g(x)$ *también* está escrita en forma polinomial, su derivada es\n",
    "\n",
    "\\begin{equation}\n",
    "\\frac{{\\rm d} g(x)}{{\\rm d}x} = \\sum_{k=1}^\\infty k g_{[k]}\\, (x-x_0)^{k-1} .\n",
    "\\end{equation}\n"
   ]
  },
  {
   "cell_type": "markdown",
   "metadata": {
    "slideshow": {
     "slide_type": "subslide"
    }
   },
   "source": [
    "Tenemos, entonces, todo lo que requerimos para escribir el lado derecho de la ecuación diferencial y explotar la aritmética de polinomios. \n",
    "\n",
    "\\begin{eqnarray}\n",
    "E(x) \\frac{{\\rm d} g(x)}{{\\rm d}x}& = & \n",
    "\\Big[ \\sum_{k=0}^\\infty E_{[k]} (x-x_0)^k \\Big]\n",
    "\\Big[ \\sum_{j=1}^\\infty j g_{[j]} (x-x_0)^{j-1}\\Big] \\\\\n",
    " & = & \\sum_{k=1}^\\infty \\Big[ \\sum_{j=0}^k j g_{[j]} E_{[k-j]} \\; \\Big] (x-x_0)^{k-1} .\\\\\n",
    "\\end{eqnarray}\n",
    "\n",
    "La segunda línea se obtiene reordenando los términos al fijar la potencia de $(x-x_0)$, esto es, $k+j$ se toma como un nuevo índice ($k$), y el nuevo índice $j$ describe el índice del producto de los polinomios. (La potencia se deja de la forma $k-1$ ya que el lado izquierdo de la ecuación aparece así.)"
   ]
  },
  {
   "cell_type": "markdown",
   "metadata": {},
   "source": [
    "Igualando con el lado izquierdo de la ecuación diferencial, que sólo involucra a la derivada de $E(x)$, tenemos que se debe cumplir\n",
    "\n",
    "\\begin{equation}\n",
    "E_{[k]} = \\frac{1}{k} \\sum_{j=0}^k j g_{[j]} \\, E_{[k-j]} = \n",
    "\\frac{1}{k} \\sum_{j=0}^{k} (k-j) g_{[k-j]} \\, E_{[j]}, \\qquad k=1,2,\\dots,\n",
    "\\end{equation}\n",
    "\n",
    "incluyendo *la condición inicial*\n",
    "\n",
    "\\begin{equation}\n",
    "E_{[0]} = \\exp\\big(g(x_0)\\big).\n",
    "\\end{equation}\n",
    "\n",
    "Estas relaciones *de recurrencia* permiten calcular $\\exp\\big(g(x)\\big)$, para cualquier polinomio $g(x)$."
   ]
  },
  {
   "cell_type": "markdown",
   "metadata": {},
   "source": [
    "Para el caso concreto $g(x) = x$ alrededor de $x_0=0$, donde tenemos $g_{[j]} = \\delta_{j,1}$, obtenemos\n",
    "\n",
    "\\begin{eqnarray}\n",
    "E_{[0]} & = & 1,\\\\\n",
    "E_{[k]} & = & \\frac{1}{k} E_{[k-1]} = \\frac{1}{k(k-1)} E_{[k-2]} = \\dots = \\frac{1}{k!} E_{[0]} = \\frac{1}{k!}\\ ,\n",
    "\\end{eqnarray}\n",
    "\n",
    "que es el resultado bien conocido."
   ]
  },
  {
   "cell_type": "markdown",
   "metadata": {
    "slideshow": {
     "slide_type": "subslide"
    }
   },
   "source": [
    "### Ejercicio\n",
    "\n",
    "Obtengan las relaciones de recurrencia para las funciones $L(x) = \\log\\big(g(x)\\big)$, $P_\\alpha(x) = \\big(g(x)\\big)^\\alpha$, $S(x) = \\sin\\big(g(x)\\big)$, $C(x) = \\cos\\big(g(x)\\big)$ usando el mismo procedimiento que arriba. Implementen métodos adecuados para estas funciones en el módulo, actuando sobre estructuras `Taylor` e incluyan pruebas."
   ]
  },
  {
   "cell_type": "markdown",
   "metadata": {},
   "source": [
    "$$\n",
    "L_{[k+1]} = \\Bigl[(k+1)g_{[k+1]}-\\sum_{l=1}^{\\infty}g_{[l]} L_{[k-l+1]}(k-l+1)\\Bigr]/g_{[0]}(k+1),\n",
    "$$\n",
    "con $L_{[0]} = 0$."
   ]
  },
  {
   "cell_type": "markdown",
   "metadata": {},
   "source": [
    "Para el caso $g(x) = x$ alrededor de $x_0 = 1$, $g[j] = \\delta_{j,0}+\\delta_{j,1}$, tenemos\n",
    "\n",
    "\\begin{eqnarray}\n",
    "L_{[1]} & = & 1,\\\\\n",
    "L_{[k+1]} & = & -\\frac{1}{k+1} L_{[k]} k = \\frac{(-1)^2L_{[k-1]}k(k-1)}{(k+1)k} = \\dots = (-1)^k \\frac{1}{k+1}\\ ,\n",
    "\\end{eqnarray}\n",
    "\n",
    "que es el resultado de [wolfram](http://www.wolframalpha.com/input/?i=taylor+log%28x%29+x+%3D+1)"
   ]
  },
  {
   "cell_type": "code",
   "execution_count": 8,
   "metadata": {
    "collapsed": false
   },
   "outputs": [
    {
     "data": {
      "text/plain": [
       "logo (generic function with 1 method)"
      ]
     },
     "execution_count": 8,
     "metadata": {},
     "output_type": "execute_result"
    }
   ],
   "source": [
    "function logo(g,x0)\n",
    "    L = zeros(g)\n",
    "    L[1] = log(x0+1)\n",
    "    total = 0\n",
    "    for k in 0:length(g)-2\n",
    "        total = 0\n",
    "        for l in 0:k-1\n",
    "            total += (l+1)*L[l+2]*g[k-l+1]\n",
    "        end\n",
    "        L[k+2] = ((k+1)*g[k+2]-total)/((k+1)*g[1])\n",
    "    end\n",
    "    Taylor(x0,L)\n",
    "end"
   ]
  },
  {
   "cell_type": "code",
   "execution_count": 9,
   "metadata": {
    "collapsed": false
   },
   "outputs": [
    {
     "data": {
      "text/plain": [
       "Taylor{Int64,Rational{Int64}}(0,Rational{Int64}[0//1,1//1,-1//2,1//3,-1//4])"
      ]
     },
     "execution_count": 9,
     "metadata": {},
     "output_type": "execute_result"
    }
   ],
   "source": [
    "logo([1//1,1//1,0,0,0],0)"
   ]
  },
  {
   "cell_type": "markdown",
   "metadata": {
    "collapsed": true
   },
   "source": [
    "Utilizamos la expresión\n",
    "$$\n",
    "\\begin{eqnarray}\n",
    "(P_{\\alpha})_{[0]} & = & x_0^{\\alpha},\\\\\n",
    "(P_{\\alpha})_{[k]} & = & \\frac{1}{(k+1)g_{[0]}} \\Bigl[\\alpha\\sum_{l=0}^k (k-l+1)P_{\\alpha [l]}g_{[k-l+1]}-\\sum_{l=0}^{k-1}(l+1)P_{\\alpha [l+1]}g_{[k-l]}\\Bigr],\n",
    "\\end{eqnarray}\n",
    "$$"
   ]
  },
  {
   "cell_type": "markdown",
   "metadata": {},
   "source": [
    "Elegimos $g=x$,\n",
    "\\begin{eqnarray}\n",
    "P_{[0]} & = & 1,\\\\\n",
    "P_{[k]} & = & \\frac{1}{(k+1)g_{[0]}} \\Bigl[\\alpha(P_{[k]}-kP_{[k]}\\Bigr] = \\frac{(\\alpha-k)(\\alpha-(k-1))}{(k+1)k} P_{[k-1]} = \\dots = \\frac{\\prod_{i=0}^{k-1}(\\alpha - i)}{(k+1)!} P_{[0]} = \\frac{1}{k!}\\ ,\n",
    "\\end{eqnarray}"
   ]
  },
  {
   "cell_type": "code",
   "execution_count": 10,
   "metadata": {
    "collapsed": false
   },
   "outputs": [
    {
     "data": {
      "text/plain": [
       "expo (generic function with 1 method)"
      ]
     },
     "execution_count": 10,
     "metadata": {},
     "output_type": "execute_result"
    }
   ],
   "source": [
    "function expo(g,α,x0)\n",
    "    P = zeros(g)\n",
    "    P[1] = x0^(α)\n",
    "    total = 0\n",
    "    for k in 0:length(g)-2\n",
    "        total = 0\n",
    "        for l in 0:k-1\n",
    "            total += α*((k-l+1)*P[l+1]*g[k-l+2])\n",
    "            total -= (l+1)*P[l+2]*g[k-l+1]\n",
    "        end\n",
    "        total += α*P[k+1]*g[2]\n",
    "        P[k+2] = total/((k+1)*g[1])\n",
    "    end\n",
    "    Taylor(x0,P)\n",
    "end"
   ]
  },
  {
   "cell_type": "code",
   "execution_count": 11,
   "metadata": {
    "collapsed": false
   },
   "outputs": [
    {
     "data": {
      "text/plain": [
       "Taylor{Rational{Int64},Rational{Int64}}(1//1,Rational{Int64}[1//1,1//2,-1//8,1//16,-5//128])"
      ]
     },
     "execution_count": 11,
     "metadata": {},
     "output_type": "execute_result"
    }
   ],
   "source": [
    "expo([1//1,1//1,0,0,0],1//2,1//1)"
   ]
  },
  {
   "cell_type": "markdown",
   "metadata": {},
   "source": [
    "[Inspiración divina](https://www.sintef.no/globalassets/project/evitameeting/2010/ad2010.pdf) ya que al derivar dos veces obtenía un término con ${\\rm d}g/{\\rm d} x$ al cubo que era difícil de manejar."
   ]
  },
  {
   "cell_type": "markdown",
   "metadata": {},
   "source": [
    "La serie es\n",
    "\n",
    "$$\n",
    "S_{[k]} = \\frac{1}{k} \\sum_{l=0}^k l g_{[l]} C_{[k-l]},\n",
    "$$\n",
    "y\n",
    "$$\n",
    "C_{[k]} = -\\frac{1}{k} \\sum_{l=0}^k l g_{[l]} S_{[k-l]}.\n",
    "$$\n",
    "\n",
    "Al sustituir una en términos de la otra obtenemos, para el $\\sin$:\n",
    "\n",
    "$$\n",
    "S_{[k]} = -\\frac{1}{k} \\sum_{l=0}^k l g_{[l]} \\frac{1}{k-l}\n",
    "\\biggl(\n",
    " \\sum_{l'=0}^{k-l} l' g_{[l']} S_{[k-l'-l]}\n",
    "\\biggr),\n",
    "$$\n",
    "mientras que para el $\\cos$\n",
    "\n",
    "$$\n",
    "C_{[k]} = -\\frac{1}{k} \\sum_{l=0}^k l g_{[l]} \\frac{1}{k-l}\n",
    "\\biggl(\n",
    " \\sum_{l'=0}^{k-l} l' g_{[l']} C_{[k-l'-l]}\n",
    "\\biggr),\n",
    "$$\n",
    "con $C_{[0]} = \\cos(x_0)$ y $S_{[0]} = \\sin(x_0)$."
   ]
  },
  {
   "cell_type": "markdown",
   "metadata": {},
   "source": [
    "Por ejemplo, para $g(x) = x$ y $x_0 = 0$ tenemos que $g_{[l]} = \\delta_{l,1}$ y $S_{[0]} = 0$ obtenemos\n",
    "\n",
    "\\begin{eqnarray}\n",
    "S_{[0]} & = & 0,\\\\\n",
    "E_{[k]} & = & -\\frac{1}{k} \\frac{1}{k-1}S_{[k-2]} = (-1)^2\\frac{1}{k} \\frac{1}{k-1}\\frac{1}{k-2} \\frac{1}{k-3}S_{[k-4]} = \\dots \\ ,\n",
    "\\end{eqnarray}\n",
    "para $k=3$ y $k=5$ obtenemos los [términos correctos](http://www.wolframalpha.com/input/?i=taylor+sin(x) de la serie."
   ]
  },
  {
   "cell_type": "code",
   "execution_count": 12,
   "metadata": {
    "collapsed": false
   },
   "outputs": [
    {
     "data": {
      "text/plain": [
       "seno (generic function with 1 method)"
      ]
     },
     "execution_count": 12,
     "metadata": {},
     "output_type": "execute_result"
    }
   ],
   "source": [
    "function seno(g,x0)\n",
    "    S = zeros(g)\n",
    "    S[2] = cos(x0)\n",
    "    total = 0\n",
    "    totalidad = 0\n",
    "    for k in 2:length(g)-1 # el término de inicio es truculento ya que si ponemos 1 sobreescribe S[2] = 1.\n",
    "        total = 0\n",
    "        totalidad = 0\n",
    "        for l in 1:k-1\n",
    "            for lp in 1:k-l\n",
    "                total += lp*g[lp+1]*S[k-lp-l+1]\n",
    "            end\n",
    "            totalidad += l*g[l+1]*total/(k-l)\n",
    "        end\n",
    "        S[k+1] = -totalidad/k\n",
    "    end\n",
    "    Taylor(x0,S)\n",
    "end"
   ]
  },
  {
   "cell_type": "code",
   "execution_count": 13,
   "metadata": {
    "collapsed": false
   },
   "outputs": [
    {
     "data": {
      "text/plain": [
       "Taylor{Int64,Rational{Int64}}(0,Rational{Int64}[0//1,1//1,0//1,-1//6,0//1,1//120])"
      ]
     },
     "execution_count": 13,
     "metadata": {},
     "output_type": "execute_result"
    }
   ],
   "source": [
    "seno([0,1//1,0,0,0,0],0)"
   ]
  },
  {
   "cell_type": "code",
   "execution_count": 14,
   "metadata": {
    "collapsed": false
   },
   "outputs": [
    {
     "data": {
      "text/plain": [
       "coseno (generic function with 1 method)"
      ]
     },
     "execution_count": 14,
     "metadata": {},
     "output_type": "execute_result"
    }
   ],
   "source": [
    "function coseno(g,x0)\n",
    "    C = zeros(g)\n",
    "    C[1] = cos(x0)\n",
    "    total = 0\n",
    "    totalidad = 0\n",
    "    for k in 1:length(g)-1\n",
    "        total = 0\n",
    "        totalidad = 0\n",
    "        for l in 1:k-1\n",
    "            for lp in 1:k-l\n",
    "                total += lp*g[lp+1]*C[k-lp-l+1]\n",
    "            end\n",
    "            totalidad += l*g[l+1]*total/(k-l)\n",
    "        end\n",
    "        C[k+1] = -totalidad/k\n",
    "    end\n",
    "    Taylor(x0,C)\n",
    "end"
   ]
  },
  {
   "cell_type": "code",
   "execution_count": 15,
   "metadata": {
    "collapsed": false
   },
   "outputs": [
    {
     "data": {
      "text/plain": [
       "Taylor{Int64,Rational{Int64}}(0,Rational{Int64}[1//1,0//1,-1//2,0//1,1//24])"
      ]
     },
     "execution_count": 15,
     "metadata": {},
     "output_type": "execute_result"
    }
   ],
   "source": [
    "coseno([0,1//1,0,0,0],0)"
   ]
  },
  {
   "cell_type": "code",
   "execution_count": 16,
   "metadata": {
    "collapsed": false
   },
   "outputs": [
    {
     "name": "stderr",
     "output_type": "stream",
     "text": [
      "WARNING: New definition \n",
      "    ^(Main.Taylor, Number) at In[16]:6\n",
      "is ambiguous with: \n",
      "    ^(Any, Integer) at intfuncs.jl:108.\n",
      "To fix, define \n",
      "    ^(Main.Taylor, Integer)\n",
      "before the new definition.\n"
     ]
    },
    {
     "data": {
      "text/plain": [
       "^ (generic function with 46 methods)"
      ]
     },
     "execution_count": 16,
     "metadata": {},
     "output_type": "execute_result"
    }
   ],
   "source": [
    "import Base: log, cos, sin, ^\n",
    "\n",
    "cos(a::Taylor) = coseno(a.coef,a.ini)\n",
    "sin(a::Taylor) = seno(a.coef,a.ini)\n",
    "log(a::Taylor) = logo(a.coef,a.ini)\n",
    "^(a::Taylor, α::Number) = expo(a.coef,α,a.ini)"
   ]
  },
  {
   "cell_type": "code",
   "execution_count": 17,
   "metadata": {
    "collapsed": false
   },
   "outputs": [
    {
     "data": {
      "text/plain": [
       "true"
      ]
     },
     "execution_count": 17,
     "metadata": {},
     "output_type": "execute_result"
    }
   ],
   "source": [
    "juas = Taylor(0,[0,1//1,0,0,0])\n",
    "cos(juas) == Taylor(0,[1//1,0//1,-1//2,0//1,1//24])"
   ]
  },
  {
   "cell_type": "code",
   "execution_count": 18,
   "metadata": {
    "collapsed": false
   },
   "outputs": [
    {
     "data": {
      "text/plain": [
       "true"
      ]
     },
     "execution_count": 18,
     "metadata": {},
     "output_type": "execute_result"
    }
   ],
   "source": [
    "juas = Taylor(0,[0,1//1,0,0,0])\n",
    "sin(juas) == Taylor(0,[0//1,1//1,0//1,-1//6,0//1])"
   ]
  },
  {
   "cell_type": "code",
   "execution_count": 19,
   "metadata": {
    "collapsed": false
   },
   "outputs": [
    {
     "data": {
      "text/plain": [
       "true"
      ]
     },
     "execution_count": 19,
     "metadata": {},
     "output_type": "execute_result"
    }
   ],
   "source": [
    "juas = Taylor(0,[1//1,1//1,0,0,0,0])\n",
    "log(juas) == Taylor(0,[0//1,1//1,-1//2,1//3,-1//4,1//5])"
   ]
  },
  {
   "cell_type": "code",
   "execution_count": 20,
   "metadata": {
    "collapsed": false
   },
   "outputs": [
    {
     "data": {
      "text/plain": [
       "true"
      ]
     },
     "execution_count": 20,
     "metadata": {},
     "output_type": "execute_result"
    }
   ],
   "source": [
    "juas = Taylor(1//1,[1//1,1//1,0,0,0])\n",
    "juas^(1//2) == Taylor(1//1,[1//1,1//2,-1//8,1//16,-5//128])"
   ]
  },
  {
   "cell_type": "code",
   "execution_count": null,
   "metadata": {
    "collapsed": true
   },
   "outputs": [],
   "source": []
  }
 ],
 "metadata": {
  "celltoolbar": "Slideshow",
  "kernelspec": {
   "display_name": "Julia 0.4.0",
   "language": "julia",
   "name": "julia-0.4"
  },
  "language_info": {
   "file_extension": ".jl",
   "mimetype": "application/julia",
   "name": "julia",
   "version": "0.4.3"
  }
 },
 "nbformat": 4,
 "nbformat_minor": 0
}
