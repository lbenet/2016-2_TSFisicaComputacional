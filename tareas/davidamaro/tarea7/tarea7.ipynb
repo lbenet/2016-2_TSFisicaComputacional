{
 "cells": [
  {
   "cell_type": "markdown",
   "metadata": {
    "slideshow": {
     "slide_type": "slide"
    }
   },
   "source": [
    "# Integración por Taylor"
   ]
  },
  {
   "cell_type": "markdown",
   "metadata": {
    "slideshow": {
     "slide_type": "-"
    }
   },
   "source": [
    "Aquí veremos un ejemplo sencillo de cómo integrar usando el método de Tayor en un problema de valor inicial, o sea, para una ecuación diferencial ordinaria con una condición inicial."
   ]
  },
  {
   "cell_type": "markdown",
   "metadata": {
    "slideshow": {
     "slide_type": "subslide"
    }
   },
   "source": [
    "El punto de partida, y *absolutamente importante* en todo lo que sigue, es el [Teorema Fundamental de las Ecuaciones Diferenciales Ordinarias](https://en.wikipedia.org/wiki/Picard%E2%80%93Lindel%C3%B6f_theorem), (o teorema de existencia y unicidad de las EDOs):\n",
    "\n",
    "#### Teorema\n",
    "\n",
    "Consideren el problema de valores iniciales $y'(t)=f(t,y(t)),\\ y(t_0)=y_0$. Suponemos que $f(t,y)$ es Lipschitz uniformemente continua en $y$ (lo que significa que hay una constante, independiente de $t$, que acota $f$ para todo intervalo de su dominio) y continua en $t$. Entonces, para algún valor $\\varepsilon > 0$ existe una solución única $y(t)$ al problema de valor inicial en el intervalo $[t_0-\\varepsilon, t_0+\\varepsilon]$.\n",
    "\n",
    "**Importante:** El teorema establece la existencia y unicidad de la solución en un intervalo de $t$ en torno al valor $t_0$ que especifica la condición inicial. Esto, sin embargo, **no** implica que la solución exista para todo tiempo $t>t_0$."
   ]
  },
  {
   "cell_type": "markdown",
   "metadata": {
    "slideshow": {
     "slide_type": "slide"
    }
   },
   "source": [
    "## Un ejemplo sencillo"
   ]
  },
  {
   "cell_type": "markdown",
   "metadata": {
    "slideshow": {
     "slide_type": "-"
    }
   },
   "source": [
    "El método de Taylor lo describiremos a través de un ejemplo. Concretamente, ilustraremos como integrar la ecuación diferencial\n",
    "\n",
    "\\begin{equation}\n",
    "\\dot{x} = f(x) = x^2,\n",
    "\\end{equation}\n",
    "\n",
    "con $x(0) = 3$."
   ]
  },
  {
   "cell_type": "markdown",
   "metadata": {
    "slideshow": {
     "slide_type": "subslide"
    }
   },
   "source": [
    "Antes de describir el método, vale la pena notar que esta ecuación la podemos resolver analíticamente. La solución, como se puede comprobar rápidamente es\n",
    "\n",
    "\\begin{equation}\n",
    "x(t) = \\frac{3}{1-3t}.\n",
    "\\end{equation}\n",
    "\n",
    "Esta solución muestra que $x(t)\\to\\infty$ cuando $t\\to 1/3$; esto es un ejemplo de que la solución $x(t)$ **no existe** para $t>1/3$. \n"
   ]
  },
  {
   "cell_type": "markdown",
   "metadata": {
    "slideshow": {
     "slide_type": "fragment"
    }
   },
   "source": [
    "El punto importante de este comentario es que, sin importar el método de integración, si hiciéramos una integración \"larga\" usando un *paso de integración constante* (o sea, a partir de $x(t_k)$ obtenemos $x(t_{k+1})$, con $t_{k+1} = t_0 + (k+1)\\delta t = t_k + \\delta t$), el método continuará la integración más allá de $t=1/3$, que es hasta donde tiene sentido la solución, a menos de que tengamos la buena fortuna de caer exactamente en $t_n=1$. Esto es una *advertencia* de que uno debe ser extremandamente cuidadoso si considera pasos de integración constantes. \n",
    "\n",
    "Sin embargo, si tenemos un método de integración con paso adaptativo, hay esperanza de que este problema no ocurra.\n"
   ]
  },
  {
   "cell_type": "markdown",
   "metadata": {
    "slideshow": {
     "slide_type": "subslide"
    }
   },
   "source": [
    "La idea del método de Taylor es construir una solución (local en $t$) que aproxime muy bien la solución de la ecuación diferencial en alguna vecindad del punto inicial $t_0$. En particular, escribimos el polinomios (en torno a $t_0$), esto es\n",
    "\n",
    "\\begin{equation}\n",
    "x(t) = \\sum_{k=0}^\\infty x_{[k]}(t_0)\\, (t-t_0)^k,\n",
    "\\end{equation}\n",
    "\n",
    "donde $x_{[k]}(t_0)$ es el coeficiente de Taylor de orden $k$. Esta solución cumple la condición inicial imponiendo $x_{[0]}(t_0) = x_0$. \n",
    "Excepto por $x_{[0]}(t_0)$, el resto de los coeficientes del desarrollo son por determinar, cosa que haremos iterativamente. \n",
    "\n",
    "Empezaremos considerando que $p$ es infinito, o sea, construiremos la solución analítica; después entraremos en las sutilezas de tener aproximaciones de orden finito."
   ]
  },
  {
   "cell_type": "markdown",
   "metadata": {
    "slideshow": {
     "slide_type": "subslide"
    }
   },
   "source": [
    "### Solución a primer orden"
   ]
  },
  {
   "cell_type": "markdown",
   "metadata": {
    "slideshow": {
     "slide_type": "-"
    }
   },
   "source": [
    "Escribimos, como aproximación de primer orden a la solución en la forma $x(t) = x_0 + x{[1]}(t_0)\\, (t-t_0) + \\mathcal{O}((t-t_0)^2)$, y queremos obtener el valor de $x_{[1]}(t_0)$. De aquí, tenemos que $\\dot{x} = x{[1]}+ \\mathcal{O}((t-t_0))$, y sustituyendo en ambos lados de la ecuación diferencial obtenemos\n",
    "\n",
    "\\begin{eqnarray}\n",
    "x{[1]} + \\mathcal{O}((t-t_0)) & = & \\big[x_0 + x{[1]}(t_0)\\, (t-t_0) + \\mathcal{O}((t-t_0)^2)\\big]^2 \\\\\n",
    "& = & x_0^2 + \\mathcal{O}((t-t_0)).\n",
    "\\end{eqnarray}\n",
    "\n",
    "De aquí concluimos que $x_{[1]}=x_0^2$.\n",
    "\n",
    "Es importante notar que **no** necesitamos hacer el cálculo explícito del cuadrado de todo el polinomio; *únicamente* calculamos (y usamos) el término de orden cero en el lado derecho de la ecuación."
   ]
  },
  {
   "cell_type": "markdown",
   "metadata": {
    "slideshow": {
     "slide_type": "subslide"
    }
   },
   "source": [
    "### Solución a segundo orden y órdenes mayores"
   ]
  },
  {
   "cell_type": "markdown",
   "metadata": {},
   "source": [
    "Para la aproximación a segundo orden escribimos $x(t) = x_0 + x_0^2 (t-t_0) + x{[2]}(t-t_0)^2+\\mathcal{O}((t-t_0)^3)$, donde queremos obtener $x_{[2]}(t_0)$. En este caso, la derivada es $\\dot{x} = x_0^2 + x_{[2]}(t_0)\\,(t-t_0) + \\mathcal{O}((t-t_0)^2)$, y sustituyendo nuevamente en la ecuación diferencial obtenemos\n",
    "\n",
    "\\begin{eqnarray}\n",
    "x_0^2 + 2 x_{[2]}(t_0)\\,(t-t_0) + \\mathcal{O}((t-t_0)^2) & = & \\big[x_0 + x_0^2 (t-t_0) + x{[2]}(t-t_0)^2+\\mathcal{O}((t-t_0)^3)\\big]^2 \\\\\n",
    "& = & x_0^2 + 2 x_0^3 (t-t_0) + \\mathcal{O}((t-t_0)^2).\n",
    "\\end{eqnarray}\n",
    "\n",
    "De aquí obtenemos $x_{[2]}(t_0) = x_0^3$. Nuevamente, vale la pena enfatizar que el lado derecho de la ecuación sólo se calcula a primer orden."
   ]
  },
  {
   "cell_type": "markdown",
   "metadata": {
    "slideshow": {
     "slide_type": "subslide"
    }
   },
   "source": [
    "Para órdenes más altos, uno continua de igual manera: $x(t) = x_0 + x_0^2 (t-t_0) + x_0^3 (t-t_0)^2+ x{[3]}(t-t_0)^3+\\mathcal{O}((t-t_0)^4)$, y al derivar y substituir $x^2$, se obtiene $x{[3]}(t_0)=x_0^4$. Y así se continua sucesivamente.\n",
    "\n",
    "Finalmente, se obtiene que\n",
    "\n",
    "\\begin{eqnarray}\n",
    "x(t) & = & x_0 + x_0^2 (t-t_0) + x_0^3 (t-t_0)^2 + x_0^4 (t-t_0)^3 + \\dots \\\\\n",
    "     & = & x_0 \\big(1 + x_0 (t-t_0) + x_0^2 (t-t_0)^2 + \\dots\\big) = \\frac{x_0}{1-x_0(t-t_0)},\\\\\n",
    "\\end{eqnarray}\n",
    "\n",
    "donde $t$ está limitado por $t - t_0 = 1/x_0$. Esto coincide con el resultado analítico que se espera.\n",
    "\n",
    "Vale la pena notar que, para que la serie converja absolutamente, se requiere que los términos sucesivos satisfagan ($t>t_0$)\n",
    "\n",
    "\\begin{equation}\n",
    "\\Big | \\frac{ x_{[n]}(t_0)\\, (t-t_0)^n }{x_{[n+1]}(t_0)\\, (t-t_0)^{n+1}}\\Big| = \\frac{1}{|x_0|(t-t_0)} < 1,\n",
    "\\end{equation}\n",
    "\n",
    "lo que define el radio de convergencia en $t$ de la serie."
   ]
  },
  {
   "cell_type": "markdown",
   "metadata": {
    "slideshow": {
     "slide_type": "subslide"
    }
   },
   "source": [
    "## El método de Taylor"
   ]
  },
  {
   "cell_type": "markdown",
   "metadata": {},
   "source": [
    "### Relaciones de recurrencia de los coeficientes de Taylor"
   ]
  },
  {
   "cell_type": "markdown",
   "metadata": {
    "slideshow": {
     "slide_type": "-"
    }
   },
   "source": [
    "En general, para la ecuación diferencial $\\dot{x} = f(x(t))$ con $x_0=x(t_0)$, uno puede demostrar que los coeficientes $x_{[k]}$ están dados por\n",
    "\n",
    "\\begin{equation}\n",
    "x_{[k]} = \\frac{f_{[k-1]}}{k},\n",
    "\\end{equation}\n",
    "\n",
    "donde los coeficientes $f_{[k']}$ son los coeficientes del desarrollo en serie de Taylor en $t-t_0$ de $f(x(t))$. Esta es una relación de recurrencia para $x_{[k]}$. Es claro que, dado que el lado derecho de la ecuación anterior involucra los coeficientes $f_{[k']}$, uno debe implementar funciones que permitan calcular dichos coeficientes."
   ]
  },
  {
   "cell_type": "markdown",
   "metadata": {
    "slideshow": {
     "slide_type": "slide"
    }
   },
   "source": [
    "### Paso de integración"
   ]
  },
  {
   "cell_type": "markdown",
   "metadata": {
    "collapsed": true
   },
   "source": [
    "Claramente, lo descrito más arriba no se puede implementar en la computadora. Es decir, estamos obligados a truncar el polinomio de Taylor en un grado $p$ (finito). Formalmente,  escribimos\n",
    "\n",
    "\\begin{equation}\n",
    "x(t) = \\sum_{k=0}^p x_{[k]}(t_0)\\, (t-t_0)^k + \\mathcal{R}_p ,\n",
    "\\end{equation}\n",
    "\n",
    "donde el *residuo* está dado por\n",
    "\n",
    "\\begin{equation}\n",
    "\\mathcal{R}_p = x_{[p+1]}(\\xi)\\, (t-t_0)^{p+1},\n",
    "\\end{equation}\n",
    " y $\\xi \\in [t_0, t]$."
   ]
  },
  {
   "cell_type": "markdown",
   "metadata": {
    "slideshow": {
     "slide_type": "subslide"
    }
   },
   "source": [
    "Queremos, entonces, truncar la serie en un $p$ finito, pero suficientemente grande de tal manera que el residuo sea pequeño."
   ]
  },
  {
   "cell_type": "markdown",
   "metadata": {
    "slideshow": {
     "slide_type": "fragment"
    }
   },
   "source": [
    "¿Dónde truncamos? En general esto sólo lo podemos contestar si podemos conocer el residuo (en términos de $p$), cosa que no es sencilla. \n",
    "\n",
    "Es por esto que uno *usa* las propiedades de convergencia de la serie de Taylor para $x(t)$, para $p$ *suficientemente* grande. Si $p$ es suficientemente grande, entonces las correcciones sucesivas serán cada vez menores, ya que la serie es convergente. "
   ]
  },
  {
   "cell_type": "markdown",
   "metadata": {
    "slideshow": {
     "slide_type": "subslide"
    }
   },
   "source": [
    "En particular, para $p$ suficientemente grande tendremos\n",
    "\n",
    "\\begin{equation}\n",
    "\\big| \\, x_{[p]}(t_0)\\, (t-t_0)^p \\, \\big| \\leq \\epsilon,\n",
    "\\end{equation}\n",
    "\n",
    "donde $\\epsilon$ es una cota, *suficientemente pequeña*, para *todos* los términos sucesivos.\n",
    "\n",
    "De aquí obtenemos una cota para el paso de integración $h=t-t_0$,\n",
    "\n",
    "\\begin{equation}\n",
    "h = t-t_0 \\leq \\Big(\\frac{\\epsilon}{\\big| x_{[p]}(t_0)\\big|}\\Big)^{1/p}.\n",
    "\\end{equation}\n",
    "\n",
    "Uno elige $\\epsilon$ para que sea mucho menor que el epsilon de la máquina. \n",
    "\n",
    "El paso de integración obtenido depende de $t_0$; por lo tanto, al hacer la evolución temporal, distintos pasos de integración se irán calculando, por lo que el paso de integración en general no será constante."
   ]
  },
  {
   "cell_type": "markdown",
   "metadata": {
    "slideshow": {
     "slide_type": "subslide"
    }
   },
   "source": [
    "Algo importante que vale la pena hacer notar es que, fijando $h$ de tal manera que se garantiza la convergencia de la serie, la serie de Taylor se aplica a todo valor de $t$ tal que $t_0 \\leq t \\leq t_0 + h$."
   ]
  },
  {
   "cell_type": "markdown",
   "metadata": {
    "slideshow": {
     "slide_type": "subslide"
    }
   },
   "source": [
    "En la práctica, y dado que normalmente uno lidia con ecuaciones de segundo orden, uno considera el menor de los pasos de integración obtenidos a partir de los dos últimos términos de la serie de Taylor.\n",
    "\n",
    "Es *importante* enfatizar que este procedimiento sólo funciona cuando el orden $p$ es suficientemente grande, de tal manera que estamos entrados en la cola convergente de la serie. "
   ]
  },
  {
   "cell_type": "markdown",
   "metadata": {
    "slideshow": {
     "slide_type": "slide"
    }
   },
   "source": [
    "### Sumando la serie"
   ]
  },
  {
   "cell_type": "markdown",
   "metadata": {
    "slideshow": {
     "slide_type": "-"
    }
   },
   "source": [
    "Una vez que tenemos el paso de integración $h$, queremos sumar la serie para obtener $x(t_1)$ con $t_1 = t_0+h$. Para esto, simplemente debemos sumar la serie\n",
    "\n",
    "\\begin{equation}\n",
    "x(t_1) = x(t_0+h) = \\sum_{k=0}^p x_{[k]}(t_0)\\, h^k.\n",
    "\\end{equation}\n",
    "\n",
    "Numéricamente, la mejor manera de hacer esto es usando [el método de Horner](https://en.wikipedia.org/wiki/Horner%27s_method). El método de Horner consiste en factorizar de manera apropiada el polinomio, el cual sólo se evalúa a través de productos y sumas (¡sin potencias!). Esto permite, por un lado, minimizar el número de operaciones, y en el caso de series de Taylor de orden suficientemente grande para estar en la cola convergente, considerar correctamente los términos pequeños."
   ]
  },
  {
   "cell_type": "markdown",
   "metadata": {
    "slideshow": {
     "slide_type": "subslide"
    }
   },
   "source": [
    "Reescribiendo la serie tenemos\n",
    "\n",
    "\\begin{eqnarray}\n",
    "x(t_1) & = & x_0 + x_{[1]} \\, h + \\dots + x_{[p-1]} \\,h^{p-1} + x_{[p]} \\, h^p\\\\\n",
    "& = & x_0 + x_{[1]} \\, h + \\dots + h^{p-1} ( x_{[p-1]} + h x_{[p]} )\\\\\n",
    "& = & x_0 + x_{[1]} \\, h + \\dots + h^{p-2} ( x_{[p-2]} + h ( x_{[p-1]} + h x_{[p]} ) )\\\\\n",
    "& = & x_0 + h\\big( x_{[1]} + h(... + h ( x_{[p-1]} + h x_{[p]} )...\\big).\n",
    "\\end{eqnarray}\n",
    "\n",
    "Entonces, consideramos primero (para la suma) el término $x_{[p]}$ y $x_{[p]}$, a partir de los cuales construimos $\\tilde{x}_{p-1} = x_{[p-1]} + h x_{[p]}$, y usando $\\tilde{x}_{p-1}$ obtenemos $\\tilde{x}_{p-2} = x_{[p-2]} + h \\tilde{x}_{p-1}$, y así sucesivamente hasta tener $\\tilde{x}_0=x(t_1)$, que es el resultado buscado.\n",
    "\n",
    "Una vez que hemos obtenido $x(t_1)$, uno utiliza este valor como la nueva condición inicial, y simplemente se iteran los pasos anteriores hasta obtener $x(t_2)$."
   ]
  },
  {
   "cell_type": "markdown",
   "metadata": {
    "slideshow": {
     "slide_type": "slide"
    }
   },
   "source": [
    "## Tarea 7"
   ]
  },
  {
   "cell_type": "markdown",
   "metadata": {
    "slideshow": {
     "slide_type": "-"
    }
   },
   "source": [
    "**NOTA** El contenido de este ejercicio se incluirá en la \"Tarea7.ipynb\". Nuevamente, esta tarea deberá ser elaborada en equipos."
   ]
  },
  {
   "cell_type": "markdown",
   "metadata": {
    "slideshow": {
     "slide_type": "subslide"
    }
   },
   "source": [
    "### Ejercicio"
   ]
  },
  {
   "cell_type": "markdown",
   "metadata": {
    "slideshow": {
     "slide_type": "-"
    }
   },
   "source": [
    "Usando su implementación de polinomios de Taylor, escriban un integrador para la ecuación diferencial que se desarrolló en este ejemplo, esto es, con la condición inicial $x(0) = 3$. \n",
    "\n",
    "El integrador debe hacer las operaciones necesarias para obtener automáticamente los coeficientes $x_{[k]}$, *en cada paso de integración*, a partir de la condición inicial local. Un requisito básico para esto es que tengan una implementación de la función $P_\\alpha(x) = [g(x)]^\\alpha$ con $g(x)$ un polinomio, que obtuvieron en la \"Tarea6\", y que funcione bien en particular para `alpha::Int`."
   ]
  },
  {
   "cell_type": "markdown",
   "metadata": {
    "slideshow": {
     "slide_type": "fragment"
    }
   },
   "source": [
    "La implementación debe consistir de varias funciones: \n",
    "\n",
    "- Una función donde se calculen los coeficientes $x_{[k]}(t_0)$ de la expansión. Esta función deberá llamar a otra donde se implementan las ecuaciones de movimiento.\n",
    "\n",
    "- Una función donde se obtenga el paso de integración $h$.\n",
    "\n",
    "- Otra función donde se haga la suma por el método de Horner.\n",
    "\n",
    "- Finalmente, una función que use las funciones anteriores para hacer la integración desde un tiempo inicial a uno final. En este punto, *fingiremos ignorancia*, en el sentido que el tiempo inicial es cero, y el tiempo final será $0.5$ (que está más allá de donde hay problemas).\n"
   ]
  },
  {
   "cell_type": "markdown",
   "metadata": {
    "slideshow": {
     "slide_type": "fragment"
    }
   },
   "source": [
    "Dado que conocemos la solución analítica, den como función de $t$ el error relativo de su integrador (respecto al valor del resultado analítico)."
   ]
  },
  {
   "cell_type": "code",
   "execution_count": 1,
   "metadata": {
    "collapsed": false
   },
   "outputs": [
    {
     "name": "stderr",
     "output_type": "stream",
     "text": [
      "WARNING: New definition \n",
      "    ^(AD.Taylor, Number) at /home/estudiante/ggg/2016-2_TSFisicaComputacional/tareas/davidamaro/tarea7/Automata.jl:152\n",
      "is ambiguous with: \n",
      "    ^(Any, Integer) at intfuncs.jl:108.\n",
      "To fix, define \n",
      "    ^(AD.Taylor, Integer)\n",
      "before the new definition.\n"
     ]
    }
   ],
   "source": [
    "include(\"Automata.jl\")\n",
    "\n",
    "using AD\n",
    "\n",
    "using PyPlot"
   ]
  },
  {
   "cell_type": "code",
   "execution_count": 2,
   "metadata": {
    "collapsed": false
   },
   "outputs": [
    {
     "data": {
      "text/plain": [
       "integrar (generic function with 1 method)"
      ]
     },
     "execution_count": 2,
     "metadata": {},
     "output_type": "execute_result"
    }
   ],
   "source": [
    "function RK2_paso(f, x, t, dt)\n",
    "    k = x + f(x, t) * dt/2 #Se calcula el punto medio\n",
    "    return x + f(k, t+ dt/2) * dt\n",
    "end\n",
    "\n",
    "function RK4_paso(f, x, t, dt)\n",
    "    k_1 = f(x, t)\n",
    "    k_2 = f(x + k_1 * dt/2, t + dt/2)\n",
    "    k_3 = f(x + k_2 * dt/2, t + dt/2)\n",
    "    k_4 = f(x + k_3 * dt, t + dt)\n",
    "    return x + dt * (k_1 +2 * (k_2 + k_3) + k_4 ) / 6\n",
    "end\n",
    "function RK4_paso(f, x, t, dt, β) #PFunción con arámetro auxiliar\n",
    "    k_1 = f(x, t, β)\n",
    "    k_2 = f(x + k_1 * dt/2, t + dt/2, β)\n",
    "    k_3 = f(x + k_2 * dt/2, t + dt/2, β)\n",
    "    k_4 = f(x + k_3 * dt, t + dt, β)\n",
    "    return x + dt * (k_1 +2 * (k_2 + k_3) + k_4 ) / 6\n",
    "end\n",
    "\n",
    "\n",
    "function integrar(f, x_0, t_0, t_f, dt, met) #met=1: Euler, met=2: RK2, met=3 RK3\n",
    "    x_vec = typeof(x_0)[]\n",
    "    t_vec = typeof(dt)[]\n",
    "    push!(x_vec, x_0)\n",
    "    push!(t_vec, t_0)\n",
    "    i = 1\n",
    "    for t in (t_0+dt):dt:t_f\n",
    "        if met == 1\n",
    "            x_nuevo = Euler_paso(f, x_vec[i], t, dt)\n",
    "        elseif met == 2\n",
    "            x_nuevo = RK2_paso(f, x_vec[i], t, dt)\n",
    "        elseif met == 3\n",
    "            x_nuevo = RK4_paso(f, x_vec[i], t, dt)\n",
    "        else println(\"Opción no válida. Por favor ingrese 1, 2 o 3.\")\n",
    "        end\n",
    "        push!(x_vec, x_nuevo)\n",
    "        push!(t_vec, t)\n",
    "        i += 1\n",
    "    end\n",
    "    return t_vec, x_vec\n",
    "end"
   ]
  },
  {
   "cell_type": "code",
   "execution_count": 3,
   "metadata": {
    "collapsed": false
   },
   "outputs": [
    {
     "data": {
      "text/plain": [
       "coef (generic function with 1 method)"
      ]
     },
     "execution_count": 3,
     "metadata": {},
     "output_type": "execute_result"
    }
   ],
   "source": [
    "function recibir(x0,f)\n",
    "    lista = f(AD.Taylor(x0,[x0]))\n",
    "end\n",
    "function generar(a)\n",
    "    x = Float64[]\n",
    "    push!(x,a.ini)\n",
    "    lista = a.coef\n",
    "    for i in 1:length(lista)\n",
    "        push!(x,lista[i]/i)\n",
    "    end\n",
    "    x\n",
    "end\n",
    "\n",
    "\n",
    "function suma(x,h=1e-3)\n",
    "    p = length(x)\n",
    "    #@show p\n",
    "    xt = zeros(x)\n",
    "    xt[p-1] = x[p-1] + h*x[p]\n",
    "    for i in 3:p\n",
    "        xt[p-i+1] = x[p-i+1] + h*xt[p-i+1+1]\n",
    "    end\n",
    "    xt[1],h\n",
    "    #@show xt\n",
    "end\n",
    "\n",
    "function integrador(x0,tf,f,pasos=40)\n",
    "    a = recibir(x0,f)\n",
    "    @show a\n",
    "    a = generar(a)\n",
    "    @show a\n",
    "    cof = coef(a)\n",
    "    a,t = suma(a,cof)\n",
    "    a = Float64[a]\n",
    "    t = Float64[cof]\n",
    "    while t[end] < tf\n",
    "        x,y = suma(generar(recibir(a[end],f)))\n",
    "        push!(a,x)\n",
    "        push!(t,y+t[end])\n",
    "    end\n",
    "    a,t\n",
    "end\n",
    "\n",
    "function coef(lista)\n",
    "    a = length(lista)\n",
    "    h = lista[end]\n",
    "    while (lista[a] == 0)\n",
    "        a-=1\n",
    "        h=lista[a]\n",
    "    end\n",
    "    @show h\n",
    "    ϵ = 1e-3\n",
    "    (ϵ/h)^(1/a)\n",
    "end"
   ]
  },
  {
   "cell_type": "code",
   "execution_count": 4,
   "metadata": {
    "collapsed": false
   },
   "outputs": [
    {
     "name": "stdout",
     "output_type": "stream",
     "text": [
      "a = AD.Taylor{Float64,Float64}(3.0,[9.0,0.0])"
     ]
    }
   ],
   "source": [
    "x,t =integrador(3.,0.5,x->x^2,100);"
   ]
  },
  {
   "cell_type": "code",
   "execution_count": 5,
   "metadata": {
    "collapsed": false
   },
   "outputs": [
    {
     "data": {
      "text/plain": [
       "491-element Array{Float64,1}:\n",
       "  3.09797\n",
       "  3.10759\n",
       "  3.11728\n",
       "  3.12703\n",
       "  3.13684\n",
       "  3.14671\n",
       "  3.15664\n",
       "  3.16664\n",
       "  3.1767 \n",
       "  3.18682\n",
       "  3.19701\n",
       "  3.20726\n",
       "  3.21758\n",
       "  ⋮      \n",
       " -6.40174\n",
       " -6.36102\n",
       " -6.32081\n",
       " -6.28111\n",
       " -6.2419 \n",
       " -6.20318\n",
       " -6.16494\n",
       " -6.12717\n",
       " -6.08985\n",
       " -6.05299\n",
       " -6.01657\n",
       " -5.98059"
      ]
     },
     "execution_count": 5,
     "metadata": {},
     "output_type": "execute_result"
    }
   ],
   "source": [
    "y = Float64[3/(1-3u) for u in t]"
   ]
  },
  {
   "cell_type": "code",
   "execution_count": 6,
   "metadata": {
    "collapsed": false
   },
   "outputs": [
    {
     "name": "stdout",
     "output_type": "stream",
     "text": [
      "\n",
      "a = [3.0,9.0,0.0]\n",
      "h = 9.0\n"
     ]
    },
    {
     "data": {
      "image/png": "[encoded data removed]",
      "text/plain": [
       "PyPlot.Figure(PyObject <matplotlib.figure.Figure object at 0x7f1cb51f9250>)"
      ]
     },
     "metadata": {},
     "output_type": "display_data"
    },
    {
     "data": {
      "text/plain": [
       "PyObject <matplotlib.text.Text object at 0x7f1cb52353d0>"
      ]
     },
     "execution_count": 6,
     "metadata": {},
     "output_type": "execute_result"
    },
    {
     "name": "stderr",
     "output_type": "stream",
     "text": [
      "/usr/lib/python2.7/dist-packages/matplotlib/ticker.py:1505: RuntimeWarning: overflow encountered in power\n",
      "  ticklocs = b ** decades\n"
     ]
    }
   ],
   "source": [
    "coc = abs(x.-y)\n",
    "title(\"Diferencia entre solución analítica y numérica.\")\n",
    "loglog(t, coc, \"r.-\")\n",
    "xlabel(\"Tiempo\")\n",
    "ylabel(\"Diferencia\")"
   ]
  },
  {
   "cell_type": "markdown",
   "metadata": {
    "slideshow": {
     "slide_type": "subslide"
    }
   },
   "source": [
    "### Ejercicio"
   ]
  },
  {
   "cell_type": "markdown",
   "metadata": {
    "slideshow": {
     "slide_type": "-"
    }
   },
   "source": [
    "Repitan los cálculos usando el método de Runge-Kutta de 4o orden con paso de integración fijo (que es lo más sofisticado que conocen hasta ahora) y comparen los resultados del error relativo con el método de Taylor. En particular, finjan ignorancia de la misma manera que en el ejercicio anterior."
   ]
  },
  {
   "cell_type": "code",
   "execution_count": 7,
   "metadata": {
    "collapsed": false
   },
   "outputs": [
    {
     "data": {
      "text/plain": [
       "f_tonta (generic function with 1 method)"
      ]
     },
     "execution_count": 7,
     "metadata": {},
     "output_type": "execute_result"
    }
   ],
   "source": [
    "function f_tonta(x,t)\n",
    "    a = x[1]\n",
    "    return [a^2]\n",
    "end"
   ]
  },
  {
   "cell_type": "code",
   "execution_count": 8,
   "metadata": {
    "collapsed": false
   },
   "outputs": [
    {
     "data": {
      "text/plain": [
       "flat (generic function with 1 method)"
      ]
     },
     "execution_count": 8,
     "metadata": {},
     "output_type": "execute_result"
    }
   ],
   "source": [
    "function flat(A)\n",
    "   result = Any[]\n",
    "   grep(a) = for x in a \n",
    "               isa(x,Array) ? grep(x) : push!(result,x)\n",
    "             end\n",
    "   grep(A)\n",
    "   result\n",
    " end"
   ]
  },
  {
   "cell_type": "code",
   "execution_count": 9,
   "metadata": {
    "collapsed": false
   },
   "outputs": [
    {
     "data": {
      "text/plain": [
       "([0.0,0.001,0.002,0.003,0.004,0.005,0.006,0.007,0.008,0.009  …  0.291,0.292,0.293,0.294,0.295,0.296,0.297,0.298,0.299,0.3],[[3.0],[3.0090270812437003],[3.0181086519114064],[3.0272452068616613],[3.0364372469634353],[3.045685279187656],[3.054989816700415],[3.064351378957889],[3.073770491803011],[3.0832476875639294]  …  [23.622047142239683],[24.193548272298592],[24.79338829998765],[25.423728666427333],[26.086956354376625],[26.78571409469248],[27.522935561009326],[28.30188654087004],[29.126213301807145],[29.99999966331225]])"
      ]
     },
     "execution_count": 9,
     "metadata": {},
     "output_type": "execute_result"
    }
   ],
   "source": [
    "x_0 = [3.]\n",
    "t_0 = 0.0\n",
    "t_f = 0.3\n",
    "dt= 1e-3\n",
    "t, x = integrar(f_tonta, x_0, t_0, t_f, dt, 3)"
   ]
  },
  {
   "cell_type": "code",
   "execution_count": 10,
   "metadata": {
    "collapsed": false
   },
   "outputs": [
    {
     "data": {
      "image/png": "[encoded data removed]",
      "text/plain": [
       "PyPlot.Figure(PyObject <matplotlib.figure.Figure object at 0x7f1cb4f2ad90>)"
      ]
     },
     "metadata": {},
     "output_type": "display_data"
    },
    {
     "data": {
      "text/plain": [
       "PyObject <matplotlib.text.Text object at 0x7f1cb4d1bd10>"
      ]
     },
     "execution_count": 10,
     "metadata": {},
     "output_type": "execute_result"
    }
   ],
   "source": [
    "y = Float64[3/(1-3*u) for u in t];\n",
    "x = flat(x)\n",
    "x =convert(Array{Float64,1},x)\n",
    "dif = abs(x.-y)\n",
    "title(\"Diferencia entre solución analítica y numérica.\")\n",
    "plot(t,dif,\".\")\n",
    "xlabel(\"Tiempo\")\n",
    "ylabel(\"Diferencia\")"
   ]
  },
  {
   "cell_type": "markdown",
   "metadata": {},
   "source": [
    "Se observa lo siguiente:\n",
    "\n",
    "+ Debido al paso dinámico de Taylor, no falla para valores cercanos a .5\n",
    "+ RK4 sí falla cerca de .3\n",
    "+ Taylor es igual de preciso que RK4 mientras el último no falla ya que después Taylor sigue siendo efectivo."
   ]
  },
  {
   "cell_type": "markdown",
   "metadata": {
    "slideshow": {
     "slide_type": "subslide"
    }
   },
   "source": [
    "### Ejercicio"
   ]
  },
  {
   "cell_type": "markdown",
   "metadata": {},
   "source": [
    "Integra la ecuación de movimiento para el oscilador armónico, $\\ddot{x} = -2x$, con $x(0)=2$, $\\dot{x}(0)=0$, durante 10^4 periodos de oscilación (o sea, hasta $t_f = 10^4 \\cdot 2\\pi/\\sqrt{2}$, usando el método de Taylor y el método de Runge-Kutta de 4o orden con paso de integración constante. Compara cómo cambia la energía (respecto al valor al tiempo cero) en función del tiempo para ambos métodos."
   ]
  },
  {
   "cell_type": "code",
   "execution_count": 11,
   "metadata": {
    "collapsed": false
   },
   "outputs": [
    {
     "data": {
      "text/plain": [
       "f_osc (generic function with 1 method)"
      ]
     },
     "execution_count": 11,
     "metadata": {},
     "output_type": "execute_result"
    }
   ],
   "source": [
    "function f_osc(x,t)\n",
    "    a = x[1]\n",
    "    b = x[2]\n",
    "    return [b, -2a]\n",
    "end"
   ]
  },
  {
   "cell_type": "code",
   "execution_count": 12,
   "metadata": {
    "collapsed": false
   },
   "outputs": [
    {
     "data": {
      "text/plain": [
       "([0.0,0.001,0.002,0.003,0.004,0.005,0.006,0.007,0.008,0.009  …  4.991,4.992,4.993,4.994,4.995,4.996,4.997,4.998,4.999,5.0],[[2.0,0.0],[1.9999980000003332,-0.003999998666666667],[1.9999920000053333,-0.007999989333337332],[1.9999820000269999,-0.011999964000032],[1.999968000085333,-0.015999914666802666],[1.9999500002083328,-0.019999833333749332],[1.9999280004319988,-0.023999712001035997],[1.9999020008003305,-0.02799954266890666],[1.9998720013653273,-0.03199931733770132],[1.999838002186988,-0.03599902800787197]  …  [1.4286257231466852,-1.9794082667118345],[1.4266448869142911,-1.9822635377977738],[1.4246611973925987,-1.9851148443572983],[1.4226746585489864,-1.9879621806877958],[1.4206852743565312,-1.9908055410945946],[1.4186930487940008,-1.993644919890975],[1.4166979858458457,-1.99648031139818],[1.4147000895021913,-1.9993117099454276],[1.4126993637588294,-2.0021391098699217],[1.4106958126172109,-2.004962505516864]])"
      ]
     },
     "execution_count": 12,
     "metadata": {},
     "output_type": "execute_result"
    }
   ],
   "source": [
    "x_0 = [2.,0.]\n",
    "t_0 = 0.0\n",
    "t_f = 5.\n",
    "dt= 1e-3\n",
    "t, x = integrar(f_osc, x_0, t_0, t_f, dt, 3)"
   ]
  },
  {
   "cell_type": "code",
   "execution_count": 13,
   "metadata": {
    "collapsed": false
   },
   "outputs": [
    {
     "data": {
      "text/plain": [
       "osc (generic function with 1 method)"
      ]
     },
     "execution_count": 13,
     "metadata": {},
     "output_type": "execute_result"
    }
   ],
   "source": [
    "function osc(x0)\n",
    "    x = AD.Taylor(x0[1],[x0[2]])\n",
    "    y = AD.Taylor(x0[2],[-2])*AD.Taylor(x0[2],[x0[1]])\n",
    "    x,y\n",
    "end"
   ]
  },
  {
   "cell_type": "code",
   "execution_count": 14,
   "metadata": {
    "collapsed": false
   },
   "outputs": [
    {
     "data": {
      "text/plain": [
       "integrador2 (generic function with 2 methods)"
      ]
     },
     "execution_count": 14,
     "metadata": {},
     "output_type": "execute_result"
    }
   ],
   "source": [
    "function recibir2(x0,f)\n",
    "    lista = f(x0)\n",
    "end\n",
    "function generar2(a)\n",
    "    x = Float64[]\n",
    "    y = Float64[]\n",
    "    r,s = a\n",
    "    push!(x,r.ini)\n",
    "    push!(y,s.ini)\n",
    "    lista = r.coef\n",
    "    for i in 1:length(lista)\n",
    "        push!(x,lista[i]/i)\n",
    "    end\n",
    "    lista = s.coef\n",
    "    for i in 1:length(lista)\n",
    "        push!(y,lista[i]/i)\n",
    "    end\n",
    "    x,y\n",
    "end\n",
    "\n",
    "function integrador2(x0,tf,f,pasos=40)\n",
    "    r,s = generar2(recibir2(x0,f))\n",
    "    cof = (1e-3,1e-3)\n",
    "    a1,t1 = suma(r,cof[1])\n",
    "    a2,t2 = suma(s,cof[2])\n",
    "    a1 = Float64[a1]\n",
    "    a2 = Float64[a2]\n",
    "    t1 = Float64[cof[1]]\n",
    "    t2 = Float64[cof[2]]\n",
    "    while t1[end] < tf || t2[end] < tf\n",
    "        lista1 = [a1[end],a2[end]]\n",
    "        d,c = generar2(recibir2(lista1,osc))\n",
    "        x,k = suma(d,cof[1])\n",
    "        y,l = suma(c,cof[2])\n",
    "        push!(a1,x)\n",
    "        push!(a2,y)\n",
    "        push!(t1,k+t1[end])\n",
    "        push!(t2,l+t2[end])\n",
    "    end\n",
    "    a1,t1,a2,t2\n",
    "end"
   ]
  },
  {
   "cell_type": "code",
   "execution_count": 15,
   "metadata": {
    "collapsed": false
   },
   "outputs": [
    {
     "data": {
      "text/plain": [
       "([2.0,2.0,1.99999,1.99998,1.99996,1.99994,1.99992,1.99989,1.99986,1.99982  …  1.43578,1.43379,1.4318,1.4298,1.42781,1.42581,1.4238,1.4218,1.41979,1.41777],[0.001,0.002,0.003,0.004,0.005,0.006,0.007,0.008,0.009,0.01  …  4.991,4.992,4.993,4.994,4.995,4.996,4.997,4.998,4.999,5.0],[-0.004,-0.008,-0.012,-0.016,-0.0199999,-0.0239998,-0.0279997,-0.0319996,-0.0359993,-0.039999  …  -1.9893,-1.99217,-1.99504,-1.99791,-2.00076,-2.00362,-2.00647,-2.00932,-2.01216,-2.015],[0.001,0.002,0.003,0.004,0.005,0.006,0.007,0.008,0.009,0.01  …  4.991,4.992,4.993,4.994,4.995,4.996,4.997,4.998,4.999,5.0])"
      ]
     },
     "execution_count": 15,
     "metadata": {},
     "output_type": "execute_result"
    }
   ],
   "source": [
    "x1,t1,x2,t2=integrador2([2.,0.],5.,osc,10000)"
   ]
  },
  {
   "cell_type": "code",
   "execution_count": 16,
   "metadata": {
    "collapsed": false
   },
   "outputs": [
    {
     "data": {
      "text/plain": [
       "5001-element Array{Any,1}:\n",
       "  0.0       \n",
       " -0.004     \n",
       " -0.00799999\n",
       " -0.012     \n",
       " -0.0159999 \n",
       " -0.0199998 \n",
       " -0.0239997 \n",
       " -0.0279995 \n",
       " -0.0319993 \n",
       " -0.035999  \n",
       " -0.0399987 \n",
       " -0.0439982 \n",
       " -0.0479977 \n",
       "  ⋮         \n",
       " -1.97369   \n",
       " -1.97655   \n",
       " -1.97941   \n",
       " -1.98226   \n",
       " -1.98511   \n",
       " -1.98796   \n",
       " -1.99081   \n",
       " -1.99364   \n",
       " -1.99648   \n",
       " -1.99931   \n",
       " -2.00214   \n",
       " -2.00496   "
      ]
     },
     "execution_count": 16,
     "metadata": {},
     "output_type": "execute_result"
    }
   ],
   "source": [
    "pos = [u[1] for u in x]\n",
    "vel = [u[2] for u in x]"
   ]
  },
  {
   "cell_type": "code",
   "execution_count": 17,
   "metadata": {
    "collapsed": false
   },
   "outputs": [
    {
     "data": {
      "image/png": "[encoded data removed]",
      "text/plain": [
       "PyPlot.Figure(PyObject <matplotlib.figure.Figure object at 0x7f1cb4f33e50>)"
      ]
     },
     "metadata": {},
     "output_type": "display_data"
    },
    {
     "data": {
      "text/plain": [
       "PyObject <matplotlib.legend.Legend object at 0x7f1cb4ba0590>"
      ]
     },
     "execution_count": 17,
     "metadata": {},
     "output_type": "execute_result"
    }
   ],
   "source": [
    "title(\"Posición contra tiempo.\")\n",
    "plot(t,pos,\"g.\",label=\"RK4\")\n",
    "plot(t1,x1,\"r.-\",label=\"Taylor\")\n",
    "xlabel(\"Tiempo\")\n",
    "ylabel(\"Posición\")\n",
    "legend()"
   ]
  },
  {
   "cell_type": "markdown",
   "metadata": {},
   "source": [
    "###  Análisis de energía."
   ]
  },
  {
   "cell_type": "code",
   "execution_count": 18,
   "metadata": {
    "collapsed": false
   },
   "outputs": [
    {
     "data": {
      "image/png": "[encoded data removed]",
      "text/plain": [
       "PyPlot.Figure(PyObject <matplotlib.figure.Figure object at 0x7f1cb4e04dd0>)"
      ]
     },
     "metadata": {},
     "output_type": "display_data"
    },
    {
     "data": {
      "text/plain": [
       "PyObject <matplotlib.text.Text object at 0x7f1cb4b757d0>"
      ]
     },
     "execution_count": 18,
     "metadata": {},
     "output_type": "execute_result"
    }
   ],
   "source": [
    "plot(t2,x2.^2/2,\".\")\n",
    "title(\"Taylor (energía cinética)\")"
   ]
  },
  {
   "cell_type": "code",
   "execution_count": 19,
   "metadata": {
    "collapsed": false
   },
   "outputs": [
    {
     "data": {
      "image/png": "[encoded data removed]",
      "text/plain": [
       "PyPlot.Figure(PyObject <matplotlib.figure.Figure object at 0x7f1cb4e10350>)"
      ]
     },
     "metadata": {},
     "output_type": "display_data"
    },
    {
     "data": {
      "text/plain": [
       "PyObject <matplotlib.text.Text object at 0x7f1cb4b03310>"
      ]
     },
     "execution_count": 19,
     "metadata": {},
     "output_type": "execute_result"
    }
   ],
   "source": [
    "plot(t2,x1.^2,\".\")\n",
    "title(\"Taylor (energía potencial)\")"
   ]
  },
  {
   "cell_type": "markdown",
   "metadata": {},
   "source": [
    "Se puede observar que la energía es constante ya que si sumamos las dos gráficas podemos ver que siempre es **cuatro**.\n",
    "\n",
    "Para RK4 observamos que obtenemos también **cuatro** todo el tiempo."
   ]
  },
  {
   "cell_type": "code",
   "execution_count": 20,
   "metadata": {
    "collapsed": false
   },
   "outputs": [
    {
     "data": {
      "image/png": "[encoded data removed]",
      "text/plain": [
       "PyPlot.Figure(PyObject <matplotlib.figure.Figure object at 0x7f1cb4c1dcd0>)"
      ]
     },
     "metadata": {},
     "output_type": "display_data"
    },
    {
     "data": {
      "text/plain": [
       "PyObject <matplotlib.text.Text object at 0x7f1cb4a46cd0>"
      ]
     },
     "execution_count": 20,
     "metadata": {},
     "output_type": "execute_result"
    }
   ],
   "source": [
    "plot(t,vel.^2/2+pos.^2,\".\")\n",
    "title(\"RK4\")\n",
    "xlabel(\"Tiempo t\")\n",
    "ylabel(\"Energìa E\")"
   ]
  },
  {
   "cell_type": "markdown",
   "metadata": {},
   "source": [
    "Notamos que la energía se conserva en ambos sistemas. Es difícil verlo para el caso de Taylor porque tendríamos dos intervalos temporales. En esta tarea se usó un intervalo fijo ya que\n",
    "1. No hay problemas de divergencia.\n",
    "2. Sólo tenemos un tiempo."
   ]
  }
 ],
 "metadata": {
  "celltoolbar": "Slideshow",
  "kernelspec": {
   "display_name": "Julia 0.4.2",
   "language": "julia",
   "name": "julia-0.4"
  },
  "language_info": {
   "file_extension": ".jl",
   "mimetype": "application/julia",
   "name": "julia",
   "version": "0.4.2"
  }
 },
 "nbformat": 4,
 "nbformat_minor": 0
}
