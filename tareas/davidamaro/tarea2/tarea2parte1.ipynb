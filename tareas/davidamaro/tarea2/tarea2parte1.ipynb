{
 "cells": [
  {
   "cell_type": "markdown",
   "metadata": {},
   "source": [
    "#  Tarea 2 | Amaro-Alcalá David"
   ]
  },
  {
   "cell_type": "markdown",
   "metadata": {},
   "source": [
    "##  Ejercicio 1"
   ]
  },
  {
   "cell_type": "markdown",
   "metadata": {},
   "source": [
    "Creamos diez datos aleatorios."
   ]
  },
  {
   "cell_type": "code",
   "execution_count": 5,
   "metadata": {
    "collapsed": false
   },
   "outputs": [
    {
     "data": {
      "text/plain": [
       "10-element Array{Float64,1}:\n",
       "  1.46118  \n",
       " -0.408202 \n",
       "  1.85224  \n",
       "  0.0149698\n",
       "  0.834022 \n",
       " -1.06282  \n",
       "  0.593184 \n",
       " -1.05842  \n",
       "  0.201673 \n",
       " -0.0780028"
      ]
     },
     "execution_count": 5,
     "metadata": {},
     "output_type": "execute_result"
    }
   ],
   "source": [
    "aleas = randn(10)"
   ]
  },
  {
   "cell_type": "code",
   "execution_count": 6,
   "metadata": {
    "collapsed": false
   },
   "outputs": [
    {
     "data": {
      "text/plain": [
       "histograma (generic function with 1 method)"
      ]
     },
     "execution_count": 6,
     "metadata": {},
     "output_type": "execute_result"
    }
   ],
   "source": [
    "function histograma(nhist)\n",
    "    # código\n",
    "end"
   ]
  },
  {
   "cell_type": "code",
   "execution_count": 7,
   "metadata": {
    "collapsed": false
   },
   "outputs": [
    {
     "data": {
      "text/plain": [
       "3"
      ]
     },
     "execution_count": 7,
     "metadata": {},
     "output_type": "execute_result"
    }
   ],
   "source": [
    "nhis = 3"
   ]
  },
  {
   "cell_type": "markdown",
   "metadata": {},
   "source": [
    "Se juega con las funciones `max` y `min`."
   ]
  },
  {
   "cell_type": "code",
   "execution_count": 8,
   "metadata": {
    "collapsed": false
   },
   "outputs": [
    {
     "data": {
      "text/plain": [
       "1.8522360954131813"
      ]
     },
     "execution_count": 8,
     "metadata": {},
     "output_type": "execute_result"
    }
   ],
   "source": [
    "max(aleas...)"
   ]
  },
  {
   "cell_type": "code",
   "execution_count": 9,
   "metadata": {
    "collapsed": false
   },
   "outputs": [
    {
     "data": {
      "text/plain": [
       "-1.0628249959445573"
      ]
     },
     "execution_count": 9,
     "metadata": {},
     "output_type": "execute_result"
    }
   ],
   "source": [
    "min(aleas...)"
   ]
  },
  {
   "cell_type": "markdown",
   "metadata": {},
   "source": [
    "Definimos una cantidad que se usa después."
   ]
  },
  {
   "cell_type": "code",
   "execution_count": 10,
   "metadata": {
    "collapsed": false
   },
   "outputs": [
    {
     "data": {
      "text/plain": [
       "0.9716870304525796"
      ]
     },
     "execution_count": 10,
     "metadata": {},
     "output_type": "execute_result"
    }
   ],
   "source": [
    "Δx = (max(aleas...) - min(aleas...))/nhis"
   ]
  },
  {
   "cell_type": "markdown",
   "metadata": {},
   "source": [
    "Quiero ver los intervalos."
   ]
  },
  {
   "cell_type": "code",
   "execution_count": 11,
   "metadata": {
    "collapsed": false
   },
   "outputs": [
    {
     "name": "stdout",
     "output_type": "stream",
     "text": [
      "-1"
     ]
    }
   ],
   "source": [
    "a = min(aleas...)\n",
    "\n",
    "for i in 1:nhis+1\n",
    "    println(a)\n",
    "    a += Δx\n",
    "end"
   ]
  },
  {
   "cell_type": "markdown",
   "metadata": {},
   "source": [
    "Haciendo caso de la advertencia, tenemos que pensar la forma en la que poder tener que leer sólo una vez los datos. Esto es leemos un valor y aumentamos un \"vector\" en la entrada que corresponde al intervalo donde cae el valor."
   ]
  },
  {
   "cell_type": "code",
   "execution_count": 12,
   "metadata": {
    "collapsed": false
   },
   "outputs": [],
   "source": [
    "a = min(aleas...)\n",
    "res = zeros(nhis+1)\n",
    "for i in 1:nhis+1\n",
    "    if aleas[2] < a + Δx && aleas[2] >= a\n",
    "        res[i] += 1\n",
    "    end\n",
    "    a += Δx\n",
    "end"
   ]
  },
  {
   "cell_type": "code",
   "execution_count": 13,
   "metadata": {
    "collapsed": false
   },
   "outputs": [
    {
     "data": {
      "text/plain": [
       "4-element Array{Float64,1}:\n",
       " 1.0\n",
       " 0.0\n",
       " 0.0\n",
       " 0.0"
      ]
     },
     "execution_count": 13,
     "metadata": {},
     "output_type": "execute_result"
    }
   ],
   "source": [
    "res"
   ]
  },
  {
   "cell_type": "markdown",
   "metadata": {},
   "source": [
    "Definimos la función `paso` que para un único valor, nos devuelve el vector con el valor que corresponde al intervalo en el que cae el valor, aumentado. En matemáticas: Si $\\mathrm{valor} \\in R_n$ entonces, $\\mathrm{Vector}[R_n]++$."
   ]
  },
  {
   "cell_type": "code",
   "execution_count": 14,
   "metadata": {
    "collapsed": false
   },
   "outputs": [
    {
     "data": {
      "text/plain": [
       "paso (generic function with 1 method)"
      ]
     },
     "execution_count": 14,
     "metadata": {},
     "output_type": "execute_result"
    }
   ],
   "source": [
    "\"\"\"\n",
    "Función `paso`. Recibe __dos__ argumentos:\n",
    "\n",
    "1. `valor`: Valor numérico que se va a buscar su lugar en algún intervalo.\n",
    "2. `res`: Vector resultado de aumentar el valor que corresponde al intervalo en el que cae  `valor`.\n",
    "\"\"\"\n",
    "\n",
    "function paso(valor, res)\n",
    "    a = min(aleas...)\n",
    "    for i in 1:nhis+1\n",
    "        if valor < a + Δx && valor >= a\n",
    "            res[i] += 1\n",
    "        end\n",
    "        a += Δx\n",
    "    end\n",
    "    res\n",
    "end"
   ]
  },
  {
   "cell_type": "code",
   "execution_count": 15,
   "metadata": {
    "collapsed": false
   },
   "outputs": [
    {
     "data": {
      "text/latex": [
       "Función \\texttt{paso}. Recibe \\_\\_dos\\_\\_ argumentos:\n",
       "\\begin{enumerate}\n",
       "\\item \\texttt{valor}: Valor numérico que se va a buscar su lugar en algún intervalo.\n",
       "\\item \\texttt{res}: Vector resultado de aumentar el valor que corresponde al intervalo en el que cae  \\texttt{valor}.\n",
       "\\end{enumerate}\n"
      ],
      "text/markdown": [
       "Función `paso`. Recibe __dos__ argumentos:\n",
       "\n",
       "1. `valor`: Valor numérico que se va a buscar su lugar en algún intervalo.\n",
       "2. `res`: Vector resultado de aumentar el valor que corresponde al intervalo en el que cae  `valor`.\n"
      ],
      "text/plain": [
       "Función `paso`. Recibe __dos__ argumentos:\n",
       "\n",
       "1. `valor`: Valor numérico que se va a buscar su lugar en algún intervalo.\n",
       "2. `res`: Vector resultado de aumentar el valor que corresponde al intervalo en el que cae  `valor`.\n"
      ]
     },
     "execution_count": 15,
     "metadata": {},
     "output_type": "execute_result"
    }
   ],
   "source": [
    "?paso"
   ]
  },
  {
   "cell_type": "code",
   "execution_count": 16,
   "metadata": {
    "collapsed": false
   },
   "outputs": [
    {
     "data": {
      "text/plain": [
       "4-element Array{Float64,1}:\n",
       " 1.0\n",
       " 0.0\n",
       " 0.0\n",
       " 0.0"
      ]
     },
     "execution_count": 16,
     "metadata": {},
     "output_type": "execute_result"
    }
   ],
   "source": [
    "paso(aleas[2],zeros(nhis+1))"
   ]
  },
  {
   "cell_type": "code",
   "execution_count": 17,
   "metadata": {
    "collapsed": false
   },
   "outputs": [
    {
     "data": {
      "text/plain": [
       "completo (generic function with 1 method)"
      ]
     },
     "execution_count": 17,
     "metadata": {},
     "output_type": "execute_result"
    }
   ],
   "source": [
    "\"\"\"\n",
    "Función `completa` evalúa `paso` para cada uno de los valores en `listaValores`.\n",
    "\"\"\"\n",
    "\n",
    "function completo(listaValores)\n",
    "    res = zeros(nhis + 1)\n",
    "    for i in 1:length(listaValores)\n",
    "        res = paso(listaValores[i], res)\n",
    "    end\n",
    "    res\n",
    "end"
   ]
  },
  {
   "cell_type": "code",
   "execution_count": 18,
   "metadata": {
    "collapsed": false
   },
   "outputs": [
    {
     "data": {
      "text/plain": [
       "4-element Array{Float64,1}:\n",
       " 3.0\n",
       " 5.0\n",
       " 2.0\n",
       " 0.0"
      ]
     },
     "execution_count": 18,
     "metadata": {},
     "output_type": "execute_result"
    }
   ],
   "source": [
    "juas = completo(aleas)"
   ]
  },
  {
   "cell_type": "code",
   "execution_count": 19,
   "metadata": {
    "collapsed": false
   },
   "outputs": [
    {
     "data": {
      "text/plain": [
       "-0.09113796549197761"
      ]
     },
     "execution_count": 19,
     "metadata": {},
     "output_type": "execute_result"
    }
   ],
   "source": [
    "min(aleas...) + Δx"
   ]
  },
  {
   "cell_type": "code",
   "execution_count": 20,
   "metadata": {
    "collapsed": false
   },
   "outputs": [
    {
     "data": {
      "text/plain": [
       "0.880549064960602"
      ]
     },
     "execution_count": 20,
     "metadata": {},
     "output_type": "execute_result"
    }
   ],
   "source": [
    "min(aleas...) + 2Δx"
   ]
  },
  {
   "cell_type": "code",
   "execution_count": 21,
   "metadata": {
    "collapsed": false
   },
   "outputs": [
    {
     "data": {
      "text/plain": [
       "1.8522360954131816"
      ]
     },
     "execution_count": 21,
     "metadata": {},
     "output_type": "execute_result"
    }
   ],
   "source": [
    "min(aleas...) + 3Δx"
   ]
  },
  {
   "cell_type": "code",
   "execution_count": 22,
   "metadata": {
    "collapsed": false
   },
   "outputs": [
    {
     "data": {
      "text/plain": [
       "10-element Array{Float64,1}:\n",
       "  1.46118  \n",
       " -0.408202 \n",
       "  1.85224  \n",
       "  0.0149698\n",
       "  0.834022 \n",
       " -1.06282  \n",
       "  0.593184 \n",
       " -1.05842  \n",
       "  0.201673 \n",
       " -0.0780028"
      ]
     },
     "execution_count": 22,
     "metadata": {},
     "output_type": "execute_result"
    }
   ],
   "source": [
    "aleas"
   ]
  },
  {
   "cell_type": "markdown",
   "metadata": {},
   "source": [
    "Vemos que sí funciona. Vamos a poner todo en una función."
   ]
  },
  {
   "cell_type": "markdown",
   "metadata": {},
   "source": [
    "Implementamos las funciones de arriba con mejores nombres y las usamos para generar el histograma."
   ]
  },
  {
   "cell_type": "code",
   "execution_count": 23,
   "metadata": {
    "collapsed": false
   },
   "outputs": [
    {
     "data": {
      "text/plain": [
       "paso (generic function with 2 methods)"
      ]
     },
     "execution_count": 23,
     "metadata": {},
     "output_type": "execute_result"
    }
   ],
   "source": [
    "function paso(valor, res, Δx,nhist,minimo)\n",
    "    a = minimo\n",
    "    for i in 1:nhist+1\n",
    "        if valor <= a + Δx && valor >= a\n",
    "            res[i] += 1\n",
    "        end\n",
    "        a += Δx\n",
    "    end\n",
    "    res\n",
    "end"
   ]
  },
  {
   "cell_type": "code",
   "execution_count": 24,
   "metadata": {
    "collapsed": false
   },
   "outputs": [
    {
     "data": {
      "text/plain": [
       "completo (generic function with 2 methods)"
      ]
     },
     "execution_count": 24,
     "metadata": {},
     "output_type": "execute_result"
    }
   ],
   "source": [
    "function completo(listaValores,nhist,Δx)\n",
    "    res = zeros(nhist + 1)\n",
    "    minimo = min(listaValores...)\n",
    "    for i in 1:length(listaValores)\n",
    "        res = paso(listaValores[i], res, Δx,nhist,minimo)\n",
    "    end\n",
    "    res\n",
    "end"
   ]
  },
  {
   "cell_type": "code",
   "execution_count": 25,
   "metadata": {
    "collapsed": false
   },
   "outputs": [
    {
     "data": {
      "text/plain": [
       "hiper (generic function with 1 method)"
      ]
     },
     "execution_count": 25,
     "metadata": {},
     "output_type": "execute_result"
    },
    {
     "name": "stdout",
     "output_type": "stream",
     "text": [
      ".0628249959445573\n",
      "-0.09113796549197761\n",
      "0.880549064960602\n",
      "1.8522360954131818\n",
      "search: paso parsefloat ParseError AbstractSparseVector PartialQuickSort parse\n",
      "\n"
     ]
    }
   ],
   "source": [
    "\"\"\"\n",
    "`hiper` es la función que recibe el número de intervalos que deseamos tener.\n",
    "Calcula `Δx` y se lo pasa a `completo`. \n",
    "\"\"\"\n",
    "\n",
    "function hiper(nhist)\n",
    "    aleas = randn(100)\n",
    "    Δx = (max(aleas...) - min(aleas...))/nhist\n",
    "    completo(aleas,nhist,Δx)\n",
    "end"
   ]
  },
  {
   "cell_type": "code",
   "execution_count": 26,
   "metadata": {
    "collapsed": false
   },
   "outputs": [
    {
     "name": "stdout",
     "output_type": "stream",
     "text": [
      "search: "
     ]
    },
    {
     "data": {
      "text/latex": [
       "\\texttt{hiper} es la función que recibe el número de intervalos que deseamos tener. Calcula \\texttt{Δx} y se lo pasa a \\texttt{completo}. \n"
      ],
      "text/markdown": [
       "`hiper` es la función que recibe el número de intervalos que deseamos tener. Calcula `Δx` y se lo pasa a `completo`. \n"
      ],
      "text/plain": [
       "`hiper` es la función que recibe el número de intervalos que deseamos tener. Calcula `Δx` y se lo pasa a `completo`. \n"
      ]
     },
     "execution_count": 26,
     "metadata": {},
     "output_type": "execute_result"
    }
   ],
   "source": [
    "?hiper"
   ]
  },
  {
   "cell_type": "code",
   "execution_count": 27,
   "metadata": {
    "collapsed": false
   },
   "outputs": [
    {
     "data": {
      "text/plain": [
       "histograma (generic function with 1 method)"
      ]
     },
     "execution_count": 27,
     "metadata": {},
     "output_type": "execute_result"
    }
   ],
   "source": [
    "\"\"\"\n",
    "`histograma` Recibe el número de intervalos. Utilizando a `hiper` recibe\n",
    "el vector que tiene el histograma. Utiliza un ciclo `for` para generar\n",
    "\"visualmente\" el histograma en su versión horizontal.\n",
    "\"\"\"\n",
    "\n",
    "function histograma(n)\n",
    "    valores = hiper(n)\n",
    "    for i in 1:length(valores)\n",
    "        print(\": \")\n",
    "        for j in 1:valores[i]\n",
    "            print(\"|\")\n",
    "        end\n",
    "        println(\"\")\n",
    "    end\n",
    "end"
   ]
  },
  {
   "cell_type": "code",
   "execution_count": 28,
   "metadata": {
    "collapsed": false
   },
   "outputs": [
    {
     "name": "stderr",
     "output_type": "stream",
     "text": [
      "INFO: Recompiling stale cache file /home/david/.julia/lib/v0.4/PyPlot.ji for module PyPlot.\n"
     ]
    },
    {
     "name": "stdout",
     "output_type": "stream",
     "text": [
      "hiper with_bigfloat_precision\n",
      "\n"
     ]
    },
    {
     "name": "stderr",
     "output_type": "stream",
     "text": [
      "INFO: Recompiling stale cache file /home/david/.julia/lib/v0.4/PyCall.ji for module PyCall.\n",
      "INFO: Recompiling stale cache file /home/david/.julia/lib/v0.4/Conda.ji for module Conda.\n",
      "INFO: Recompiling stale cache file /home/david/.julia/lib/v0.4/BinDeps.ji for module BinDeps.\n",
      "INFO: Recompiling stale cache file /home/david/.julia/lib/v0.4/URIParser.ji for module URIParser.\n",
      "INFO: Recompiling stale cache file /home/david/.julia/lib/v0.4/SHA.ji for module SHA.\n",
      "INFO: Recompiling stale cache file /home/david/.julia/lib/v0.4/Colors.ji for module Colors.\n",
      "INFO: Recompiling stale cache file /home/david/.julia/lib/v0.4/FixedPointNumbers.ji for module FixedPointNumbers.\n",
      "INFO: Recompiling stale cache file /home/david/.julia/lib/v0.4/ColorTypes.ji for module ColorTypes.\n",
      "INFO: Recompiling stale cache file /home/david/.julia/lib/v0.4/Reexport.ji for module Reexport.\n",
      "INFO: Recompiling stale cache file /home/david/.julia/lib/v0.4/LaTeXStrings.ji for module LaTeXStrings.\n"
     ]
    },
    {
     "ename": "LoadError",
     "evalue": "LoadError: InitError: Failed to pyimport(\"matplotlib\"): PyPlot will not work until you have a functioning matplotlib module.\n\nFor automated Matplotlib installation, try configuring PyCall to use the Conda Python distribution within Julia.  Relaunch Julia and run:\n      ENV[\"PYTHON\"]=\"\"\n      Pkg.build(\"PyCall\")\n      using PyPlot\n\npyimport exception was: PyError (:PyImport_ImportModule) <class 'ImportError'>\nImportError(\"No module named 'six'\",)\n  File \"/usr/lib/python3.5/site-packages/matplotlib/__init__.py\", line 124, in <module>\n    from matplotlib.rcsetup import (defaultParams,\n  File \"/usr/lib/python3.5/site-packages/matplotlib/rcsetup.py\", line 34, in <module>\n    from cycler import Cycler, cycler as ccycler\n  File \"/usr/lib/python3.5/site-packages/cycler.py\", line 4, in <module>\n    import six\n\nduring initialization of module PyPlot\nwhile loading In[28], in expression starting on line 1",
     "output_type": "error",
     "traceback": [
      "LoadError: InitError: Failed to pyimport(\"matplotlib\"): PyPlot will not work until you have a functioning matplotlib module.\n\nFor automated Matplotlib installation, try configuring PyCall to use the Conda Python distribution within Julia.  Relaunch Julia and run:\n      ENV[\"PYTHON\"]=\"\"\n      Pkg.build(\"PyCall\")\n      using PyPlot\n\npyimport exception was: PyError (:PyImport_ImportModule) <class 'ImportError'>\nImportError(\"No module named 'six'\",)\n  File \"/usr/lib/python3.5/site-packages/matplotlib/__init__.py\", line 124, in <module>\n    from matplotlib.rcsetup import (defaultParams,\n  File \"/usr/lib/python3.5/site-packages/matplotlib/rcsetup.py\", line 34, in <module>\n    from cycler import Cycler, cycler as ccycler\n  File \"/usr/lib/python3.5/site-packages/cycler.py\", line 4, in <module>\n    import six\n\nduring initialization of module PyPlot\nwhile loading In[28], in expression starting on line 1",
      "",
      " in __init__ at /home/david/.julia/v0.4/PyPlot/src/PyPlot.jl:229",
      " in _require_from_serialized at loading.jl:84"
     ]
    }
   ],
   "source": [
    "using PyPlot"
   ]
  },
  {
   "cell_type": "code",
   "execution_count": 29,
   "metadata": {
    "collapsed": true
   },
   "outputs": [],
   "source": [
    "#writedlm(\"adf.txt\", histograma(50))"
   ]
  },
  {
   "cell_type": "markdown",
   "metadata": {},
   "source": [
    "###  Algunos ejemplitos"
   ]
  },
  {
   "cell_type": "code",
   "execution_count": 30,
   "metadata": {
    "collapsed": false
   },
   "outputs": [
    {
     "ename": "LoadError",
     "evalue": "LoadError: UndefVarError: plt not defined\nwhile loading In[30], in expression starting on line 1",
     "output_type": "error",
     "traceback": [
      "LoadError: UndefVarError: plt not defined\nwhile loading In[30], in expression starting on line 1",
      ""
     ]
    }
   ],
   "source": [
    "plt[:hist](randn(1000),50)"
   ]
  },
  {
   "cell_type": "code",
   "execution_count": 33,
   "metadata": {
    "collapsed": false
   },
   "outputs": [
    {
     "name": "stdout",
     "output_type": "stream",
     "text": [
      ": |\n",
      ": ||\n",
      ": |||||\n",
      ": |||||||||||||||||||||||||\n",
      ": |||||||||||||||||||||||||||||||\n",
      ": ||||||||||||||||||\n",
      ": ||||||||||||\n",
      ": |||||\n",
      ": |\n"
     ]
    }
   ],
   "source": [
    "histograma(8)"
   ]
  },
  {
   "cell_type": "code",
   "execution_count": 32,
   "metadata": {
    "collapsed": false
   },
   "outputs": [
    {
     "ename": "LoadError",
     "evalue": "LoadError: UndefVarError: plt not defined\nwhile loading In[32], in expression starting on line 1",
     "output_type": "error",
     "traceback": [
      "LoadError: UndefVarError: plt not defined\nwhile loading In[32], in expression starting on line 1",
      ""
     ]
    },
    {
     "name": "stdout",
     "output_type": "stream",
     "text": [
      "|||||\n",
      ": ||||||||||||\n",
      ": ||||||||||||||||||||\n",
      ": |||||||||||||||||||||||||\n",
      ": ||||||||||||||||||||||||\n",
      ": ||||||||||\n",
      ": ||\n",
      ": \n",
      ": |\n"
     ]
    }
   ],
   "source": [
    "plt[:hist](randn(100),8)"
   ]
  }
 ],
 "metadata": {
  "kernelspec": {
   "display_name": "Julia 0.4.0",
   "language": "julia",
   "name": "julia-0.4"
  },
  "language_info": {
   "file_extension": ".jl",
   "mimetype": "application/julia",
   "name": "julia",
   "version": "0.4.3"
  }
 },
 "nbformat": 4,
 "nbformat_minor": 0
}
