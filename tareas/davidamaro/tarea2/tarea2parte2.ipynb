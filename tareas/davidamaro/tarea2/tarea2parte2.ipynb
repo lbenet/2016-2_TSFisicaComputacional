{
 "cells": [
  {
   "cell_type": "markdown",
   "metadata": {},
   "source": [
    "##  Segundo ejercicio"
   ]
  },
  {
   "cell_type": "markdown",
   "metadata": {},
   "source": [
    "###  Promedio y varianza «a mano»"
   ]
  },
  {
   "cell_type": "code",
   "execution_count": 1,
   "metadata": {
    "collapsed": false
   },
   "outputs": [
    {
     "data": {
      "text/plain": [
       "pMomento (generic function with 1 method)"
      ]
     },
     "execution_count": 1,
     "metadata": {},
     "output_type": "execute_result"
    }
   ],
   "source": [
    "function pMomento(valores)\n",
    "    probabilidad = 1/length(valores)\n",
    "    sum(valores.*probabilidad)\n",
    "end"
   ]
  },
  {
   "cell_type": "code",
   "execution_count": 2,
   "metadata": {
    "collapsed": true
   },
   "outputs": [],
   "source": [
    "valores = randn(10);"
   ]
  },
  {
   "cell_type": "code",
   "execution_count": 3,
   "metadata": {
    "collapsed": false
   },
   "outputs": [
    {
     "data": {
      "text/plain": [
       "-0.21230059011203228"
      ]
     },
     "execution_count": 3,
     "metadata": {},
     "output_type": "execute_result"
    }
   ],
   "source": [
    "pMomento(valores)"
   ]
  },
  {
   "cell_type": "code",
   "execution_count": 4,
   "metadata": {
    "collapsed": false
   },
   "outputs": [
    {
     "data": {
      "text/plain": [
       "-0.21230059011203234"
      ]
     },
     "execution_count": 4,
     "metadata": {},
     "output_type": "execute_result"
    }
   ],
   "source": [
    "mean(valores)"
   ]
  },
  {
   "cell_type": "markdown",
   "metadata": {},
   "source": [
    "Utilizando la definición con momentos no obtenía el valor que deseaba. Observando la ayuda encontré la expresión que se utiliza para calcular la varianza."
   ]
  },
  {
   "cell_type": "code",
   "execution_count": 5,
   "metadata": {
    "collapsed": false
   },
   "outputs": [
    {
     "name": "stdout",
     "output_type": "stream",
     "text": [
      "search: "
     ]
    },
    {
     "data": {
      "text/latex": [
       "\\begin{verbatim}\n",
       "var(v[, region])\n",
       "\\end{verbatim}\n",
       "Compute the sample variance of a vector or array \\texttt{v}, optionally along dimensions in \\texttt{region}. The algorithm will return an estimator of the generative distribution's variance under the assumption that each entry of \\texttt{v} is an IID drawn from that generative distribution. This computation is equivalent to calculating \\texttt{sumabs2(v - mean(v)) / (length(v) - 1)}. Note: Julia does not ignore \\texttt{NaN} values in the computation. For applications requiring the handling of missing data, the \\texttt{DataArray} package is recommended.\n"
      ],
      "text/markdown": [
       "```\n",
       "var(v[, region])\n",
       "```\n",
       "\n",
       "Compute the sample variance of a vector or array `v`, optionally along dimensions in `region`. The algorithm will return an estimator of the generative distribution's variance under the assumption that each entry of `v` is an IID drawn from that generative distribution. This computation is equivalent to calculating `sumabs2(v - mean(v)) / (length(v) - 1)`. Note: Julia does not ignore `NaN` values in the computation. For applications requiring the handling of missing data, the `DataArray` package is recommended.\n"
      ],
      "text/plain": [
       "```\n",
       "var(v[, region])\n",
       "```\n",
       "\n",
       "Compute the sample variance of a vector or array `v`, optionally along dimensions in `region`. The algorithm will return an estimator of the generative distribution's variance under the assumption that each entry of `v` is an IID drawn from that generative distribution. This computation is equivalent to calculating `sumabs2(v - mean(v)) / (length(v) - 1)`. Note: Julia does not ignore `NaN` values in the computation. For applications requiring the handling of missing data, the `DataArray` package is recommended.\n"
      ]
     },
     "execution_count": 5,
     "metadata": {},
     "output_type": "execute_result"
    }
   ],
   "source": [
    "?var "
   ]
  },
  {
   "cell_type": "code",
   "execution_count": 6,
   "metadata": {
    "collapsed": false
   },
   "outputs": [
    {
     "name": "stdout",
     "output_type": "stream",
     "text": [
      "var varm Vararg NewvarNode TypeVar UndefVarError valores is_valid_char\n",
      "\n"
     ]
    },
    {
     "data": {
      "text/plain": [
       "varianza (generic function with 1 method)"
      ]
     },
     "execution_count": 6,
     "metadata": {},
     "output_type": "execute_result"
    }
   ],
   "source": [
    "function varianza(valores)\n",
    "    sumabs2(valores-mean(valores))/(length(valores)-1)\n",
    "end"
   ]
  },
  {
   "cell_type": "code",
   "execution_count": 7,
   "metadata": {
    "collapsed": false
   },
   "outputs": [],
   "source": [
    "fal = randn(100);"
   ]
  },
  {
   "cell_type": "code",
   "execution_count": 8,
   "metadata": {
    "collapsed": false
   },
   "outputs": [
    {
     "data": {
      "text/plain": [
       "0.7215011441940758"
      ]
     },
     "execution_count": 8,
     "metadata": {},
     "output_type": "execute_result"
    }
   ],
   "source": [
    "varianza(fal)"
   ]
  },
  {
   "cell_type": "code",
   "execution_count": 9,
   "metadata": {
    "collapsed": false
   },
   "outputs": [
    {
     "data": {
      "text/plain": [
       "0.7215011441940757"
      ]
     },
     "execution_count": 9,
     "metadata": {},
     "output_type": "execute_result"
    }
   ],
   "source": [
    "var(fal)"
   ]
  },
  {
   "cell_type": "markdown",
   "metadata": {},
   "source": [
    "###  Algoritmo recursivo"
   ]
  },
  {
   "cell_type": "markdown",
   "metadata": {},
   "source": [
    "Como se trata de un método recursivo, utilizamos funciones recursivas!"
   ]
  },
  {
   "cell_type": "code",
   "execution_count": 10,
   "metadata": {
    "collapsed": false
   },
   "outputs": [
    {
     "data": {
      "text/plain": [
       "mediarecursiva (generic function with 4 methods)"
      ]
     },
     "execution_count": 10,
     "metadata": {},
     "output_type": "execute_result"
    }
   ],
   "source": [
    "\"\"\"\n",
    "La función `mediarecursiva` tiene cuatro parámetros: \n",
    "\n",
    "1. `valores`: Los datos sobre los que se calcula el promedio.\n",
    "2. `termina`: Cota para el número de pasos.\n",
    "3. `actual`: El valor que se le va pasando a la función recursiva \n",
    "para el cálculo. Es el mismo cálculo cuando se termina la evaluación.\n",
    "4. `i`: Variable índice utilizada para mantener el control del programa.\n",
    "\n",
    "\"\"\"\n",
    "\n",
    "function mediarecursiva(valores, termina = length(valores), actual = 0, i = 1)\n",
    "    if i == termina\n",
    "        return ((i-1)*actual + valores[i])/i\n",
    "    end\n",
    "    mediarecursiva(valores, termina,((i-1)*actual + valores[i])/i,i+1)\n",
    "end"
   ]
  },
  {
   "cell_type": "code",
   "execution_count": 11,
   "metadata": {
    "collapsed": false
   },
   "outputs": [
    {
     "name": "stdout",
     "output_type": "stream",
     "text": [
      "search: "
     ]
    },
    {
     "data": {
      "text/latex": [
       "La función \\texttt{mediarecursiva} tiene cuatro parámetros: \n",
       "\\begin{enumerate}\n",
       "\\item \\texttt{valores}: Los datos sobre los que se calcula el promedio.\n",
       "\\item \\texttt{termina}: Cota para el número de pasos.\n",
       "\\item \\texttt{actual}: El valor que se le va pasando a la función recursiva  para el cálculo. Es el mismo cálculo cuando se termina la evaluación.\n",
       "\\item \\texttt{i}: Variable índice utilizada para mantener el control del programa.\n",
       "\\end{enumerate}\n"
      ],
      "text/markdown": [
       "La función `mediarecursiva` tiene cuatro parámetros: \n",
       "\n",
       "1. `valores`: Los datos sobre los que se calcula el promedio.\n",
       "2. `termina`: Cota para el número de pasos.\n",
       "3. `actual`: El valor que se le va pasando a la función recursiva  para el cálculo. Es el mismo cálculo cuando se termina la evaluación.\n",
       "4. `i`: Variable índice utilizada para mantener el control del programa.\n"
      ],
      "text/plain": [
       "La función `mediarecursiva` tiene cuatro parámetros: \n",
       "\n",
       "1. `valores`: Los datos sobre los que se calcula el promedio.\n",
       "2. `termina`: Cota para el número de pasos.\n",
       "3. `actual`: El valor que se le va pasando a la función recursiva  para el cálculo. Es el mismo cálculo cuando se termina la evaluación.\n",
       "4. `i`: Variable índice utilizada para mantener el control del programa.\n"
      ]
     },
     "execution_count": 11,
     "metadata": {},
     "output_type": "execute_result"
    }
   ],
   "source": [
    "?mediarecursiva"
   ]
  },
  {
   "cell_type": "code",
   "execution_count": 12,
   "metadata": {
    "collapsed": false
   },
   "outputs": [
    {
     "name": "stdout",
     "output_type": "stream",
     "text": [
      "mediarecursiva\n",
      "\n",
      "  "
     ]
    }
   ],
   "source": [
    "val = randn(100);\n",
    "println(@time mediarecursiva(val))\n",
    "println(@time mean(val))"
   ]
  },
  {
   "cell_type": "code",
   "execution_count": 13,
   "metadata": {
    "collapsed": false
   },
   "outputs": [],
   "source": [
    "val = randn(1000);\n",
    "println(@time mediarecursiva(val))\n",
    "println(@time mean(val))"
   ]
  },
  {
   "cell_type": "code",
   "execution_count": 14,
   "metadata": {
    "collapsed": false
   },
   "outputs": [],
   "source": [
    "val = randn(10000);\n",
    "println(@time mediarecursiva(val))\n",
    "println(@time mean(val))"
   ]
  },
  {
   "cell_type": "code",
   "execution_count": 15,
   "metadata": {
    "collapsed": false
   },
   "outputs": [
    {
     "data": {
      "text/plain": [
       "danI (generic function with 5 methods)"
      ]
     },
     "execution_count": 15,
     "metadata": {},
     "output_type": "execute_result"
    },
    {
     "name": "stdout",
     "output_type": "stream",
     "text": [
      "0.007836 seconds (6.51 k allocations: 311.806 KB)\n",
      "-0.028966900199203945\n",
      "  0.000003 seconds (5 allocations: 176 bytes)\n",
      "-0.028966900199203973\n",
      "  0.000014 seconds (5 allocations: 176 bytes)\n",
      "0.020443123625844002\n",
      "  0.000002 seconds (5 allocations: 176 bytes)\n",
      "0.020443123625844037\n",
      "  0.000140 seconds (5 allocations: 176 bytes)\n",
      "0.0013472026596948886\n",
      "  0.000006 seconds (5 allocations: 176 bytes)\n",
      "0.0013472026596948736\n"
     ]
    }
   ],
   "source": [
    "\"\"\"\n",
    "La función `danI` calcula la _varianza_. Recibe __cinco__ parámetros:\n",
    "\n",
    "1. `val`: Valores a calcular la varianza.\n",
    "2. `pop`: Paso intermedio del cálculo de la varianza.\n",
    "3. `med`: Paso intermedio del cálculo de la media.\n",
    "4. `i`:   Variable índice.\n",
    "5. `fin`: Controla el último paso del algoritmo.\n",
    "\n",
    "\"\"\"\n",
    "\n",
    "function danI(val, pop=0, med=val[1], i=2, fin=length(val))\n",
    "    if i == fin\n",
    "        return (i-2)*pop/(i-1)+(val[i]-med)^2/i\n",
    "    end\n",
    "    danI(val, (i-2)*pop/(i-1)+(val[i]-med)^2/i, ((i-1)*med + val[i])/i, i+1, fin)\n",
    "end"
   ]
  },
  {
   "cell_type": "code",
   "execution_count": 16,
   "metadata": {
    "collapsed": false
   },
   "outputs": [
    {
     "name": "stdout",
     "output_type": "stream",
     "text": [
      "search: "
     ]
    },
    {
     "data": {
      "text/latex": [
       "La función \\texttt{danI} calcula la \\_varianza\\_. Recibe \\_\\_cinco\\_\\_ parámetros:\n",
       "\\begin{enumerate}\n",
       "\\item \\texttt{val}: Valores a calcular la varianza.\n",
       "\\item \\texttt{pop}: Paso intermedio del cálculo de la varianza.\n",
       "\\item \\texttt{med}: Paso intermedio del cálculo de la media.\n",
       "\\item \\texttt{i}:   Variable índice.\n",
       "\\item \\texttt{fin}: Controla el último paso del algoritmo.\n",
       "\\end{enumerate}\n"
      ],
      "text/markdown": [
       "La función `danI` calcula la _varianza_. Recibe __cinco__ parámetros:\n",
       "\n",
       "1. `val`: Valores a calcular la varianza.\n",
       "2. `pop`: Paso intermedio del cálculo de la varianza.\n",
       "3. `med`: Paso intermedio del cálculo de la media.\n",
       "4. `i`:   Variable índice.\n",
       "5. `fin`: Controla el último paso del algoritmo.\n"
      ],
      "text/plain": [
       "La función `danI` calcula la _varianza_. Recibe __cinco__ parámetros:\n",
       "\n",
       "1. `val`: Valores a calcular la varianza.\n",
       "2. `pop`: Paso intermedio del cálculo de la varianza.\n",
       "3. `med`: Paso intermedio del cálculo de la media.\n",
       "4. `i`:   Variable índice.\n",
       "5. `fin`: Controla el último paso del algoritmo.\n"
      ]
     },
     "execution_count": 16,
     "metadata": {},
     "output_type": "execute_result"
    }
   ],
   "source": [
    "?danI"
   ]
  },
  {
   "cell_type": "code",
   "execution_count": 17,
   "metadata": {
    "collapsed": false
   },
   "outputs": [],
   "source": [
    "val = randn(100);\n",
    "println(@time danI(val))\n",
    "println(@time var(val))\n",
    "println(@time varianza(val))"
   ]
  },
  {
   "cell_type": "code",
   "execution_count": 18,
   "metadata": {
    "collapsed": false
   },
   "outputs": [],
   "source": [
    "val = randn(1000);\n",
    "println(@time danI(val,0,val[1],2,length(val)))\n",
    "println(@time var(val))\n",
    "println(@time varianza(val))"
   ]
  },
  {
   "cell_type": "code",
   "execution_count": 19,
   "metadata": {
    "collapsed": false
   },
   "outputs": [],
   "source": [
    "val = randn(10000);\n",
    "println(@time danI(val,0,val[1],2,length(val)))\n",
    "println(@time var(val))\n",
    "println(@time varianza(val))"
   ]
  },
  {
   "cell_type": "code",
   "execution_count": 20,
   "metadata": {
    "collapsed": false
   },
   "outputs": [],
   "source": [
    "val = randn(100000);\n",
    "println(@time danI(val,0,val[1],2,length(val)))\n",
    "println(@time var(val))"
   ]
  },
  {
   "cell_type": "code",
   "execution_count": 21,
   "metadata": {
    "collapsed": false
   },
   "outputs": [],
   "source": [
    "val = randn(200000);\n",
    "println(@time danI(val,0,val[1],2,length(val)))\n",
    "println(@time var(val))\n",
    "println(@time varianza(val))"
   ]
  },
  {
   "cell_type": "markdown",
   "metadata": {},
   "source": [
    "##  Tercer ejercicio"
   ]
  },
  {
   "cell_type": "markdown",
   "metadata": {},
   "source": [
    "Simplemente sustituimos la expresión que viene [aquí](https://en.wikipedia.org/wiki/Simpson%27s_rule).\n",
    "\n",
    "Aunque [aquí](https://mitpress.mit.edu/sicp/full-text/book/book-Z-H-12.html#%_idx_1006) viene información más interesante."
   ]
  },
  {
   "cell_type": "code",
   "execution_count": 22,
   "metadata": {
    "collapsed": false
   },
   "outputs": [
    {
     "data": {
      "text/plain": [
       "simpson (generic function with 1 method)"
      ]
     },
     "execution_count": 22,
     "metadata": {},
     "output_type": "execute_result"
    }
   ],
   "source": [
    "function simpson(f,a,b)\n",
    "    (b-a)*(f(a)+4*f((a+b)/2)+f(b))/6\n",
    "end"
   ]
  },
  {
   "cell_type": "code",
   "execution_count": 23,
   "metadata": {
    "collapsed": false
   },
   "outputs": [
    {
     "data": {
      "text/plain": [
       "1.4757305825350018"
      ]
     },
     "execution_count": 23,
     "metadata": {},
     "output_type": "execute_result"
    }
   ],
   "source": [
    "simpson(x->exp(x^2),0,1)"
   ]
  },
  {
   "cell_type": "markdown",
   "metadata": {},
   "source": [
    "Y comparamos con la función que tiene `Julia` para integrar:"
   ]
  },
  {
   "cell_type": "code",
   "execution_count": 24,
   "metadata": {
    "collapsed": false
   },
   "outputs": [
    {
     "data": {
      "text/plain": [
       "(1.4626517459071815,1.088573675644966e-11)"
      ]
     },
     "execution_count": 24,
     "metadata": {},
     "output_type": "execute_result"
    },
    {
     "name": "stdout",
     "output_type": "stream",
     "text": [
      "danI readandwrite broadcast_function broadcast!_function median! median\n",
      "\n",
      "  0.010617 seconds (12.49 k allocations: 547.176 KB)\n",
      "1.336543182284313\n",
      "  0.000004 seconds (8 allocations: 288 bytes)\n",
      "1.3365431822843121\n",
      "  0.000005 seconds (6 allocations: 1.047 KB)\n",
      "1.3365431822843123\n",
      "  0.002488 seconds (66 allocations: 3.734 KB)\n",
      "0.9605641924805944\n",
      "  0.000004 seconds (8 allocations: 288 bytes)\n",
      "0.9605641924805942\n",
      "  0.000009 seconds (6 allocations: 8.063 KB)\n",
      "0.9605641924805947\n",
      "  0.000163 seconds (7 allocations: 208 bytes)\n",
      "1.0131378566443336\n",
      "  0.000013 seconds (8 allocations: 288 bytes)\n",
      "1.013137856644327\n",
      "  0.000022 seconds (7 allocations: 78.359 KB)\n",
      "1.013137856644327\n",
      "  0.002421 seconds (7 allocations: 208 bytes)\n",
      "0.9973342330074587\n",
      "  0.000095 seconds (8 allocations: 288 bytes)\n",
      "0.9973342330074507\n",
      "  0.003913 seconds (7 allocations: 208 bytes)\n",
      "0.99756984146417\n",
      "  0.000187 seconds (8 allocations: 288 bytes)\n",
      "0.9975698414641695\n",
      "  0.000907 seconds (7 allocations: 1.526 MB)\n",
      "0.9975698414641695\n"
     ]
    }
   ],
   "source": [
    "quadgk(x->exp(x^2),0,1)"
   ]
  }
 ],
 "metadata": {
  "kernelspec": {
   "display_name": "Julia 0.4.3",
   "language": "julia",
   "name": "julia-0.4"
  },
  "language_info": {
   "file_extension": ".jl",
   "mimetype": "application/julia",
   "name": "julia",
   "version": "0.4.3"
  }
 },
 "nbformat": 4,
 "nbformat_minor": 0
}
