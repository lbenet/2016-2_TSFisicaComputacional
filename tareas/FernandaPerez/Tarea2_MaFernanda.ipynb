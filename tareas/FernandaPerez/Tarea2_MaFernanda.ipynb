{
 "cells": [
  {
   "cell_type": "markdown",
   "metadata": {},
   "source": [
    "> ## 1. Histogramas\n",
    "\n",
    "> Usando la función `randn`, generen $N$ valores tipo `Float64` al azar ($N\\sim 10000$, o mayor, es razonable). Construyan la función `histograma`, que regresa un vector de tamaño $n_{hist}$ (que es un argumento de la función) y que contiene el histograma de frecuencias *sin normalizar*. Esto es, la primer componente del vector corresponde al número de valores generados al azar que caen en el intervalo (llamado *bin* en inglés) $[x_0, x_1)$, los de la segunda componente caen en el intervalo $[x_1, x_2)$, etc, hasta $[x_{n_{hist}-1}, x{n_{hist}})$, donde el tamaño de los intervalos es el mismo y corresponde a $\\Delta x = (\\textrm{sup}(x)-\\textrm{inf}(x))/n_{hist}$. (No escatimen en estética.)\n",
    "> \n",
    "> Dibujen el histograma a partir de sus datos.\n",
    "> \n",
    "> PyPlot (matplotlib) de hecho tiene [una función]() útil para dibujar histogramas a partir de los datos directamente. Utilizando esa función, muestren el histograma de sus datos. Debería ser muy parecida a la que ya obtuvieron antes.\n",
    "\n",
    "> NOTA: Hay esencialmente dos formas de hacerlo, que se distinguen por el número de veces que uno lee los datos. Traten de hacer su implementación usando *una* lectura de los datos. (Si no pueden, llevarán sobre sus hombros esa carga toda su vida.)"
   ]
  },
  {
   "cell_type": "markdown",
   "metadata": {
    "collapsed": false
   },
   "source": [
    "Definimos la función histograma que ya hace magia de implementar un sólo ciclo.\n",
    "Calcula el parámetro:\n",
    "$$ \\delta = d_k - b_{min}$$\n",
    "Si $h$ es el tamaño del bin definido como: \n",
    "$$ h = \\frac{b_{max} - b_{min}}{N_{bins}} $$\n",
    "Y $d_k \\in H$, siendo $H$ el conjunto de datos a utilizar.\n",
    "Tendremos entonces, dividiendo por $h$ en la primera expresión:\n",
    "$$ \\frac{\\delta}{h} = N_{bins} \\left( \\frac{d_k - b_{min}}{b_{max} - b_{min}}    \\right) $$\n",
    "Donde hemos asumido que hemos hecho $N_{bins}$ subintervalos regulares $\\{ N_j \\}$.\n",
    "\n",
    "Como $\\frac{\\delta}{h}$ nos dice _cuántos_ subintervalos de longitud $h$ caben en la distancia $\\delta$:\n",
    "$$ \\frac{\\delta}{h} \\approx j$$\n",
    "Tomando el ___entero mayor más próximo___ (yo hice esto solo por comodidad, por cómo comienza a contar mi función el índice de los histogramas, tomando el límite superior como referencia.) Tendremos: \n",
    "\n",
    "$$ j = \\lfloor \\frac{\\delta}{h}     \\rfloor $$\n",
    "$$ j = \\lfloor N_{bins} \\left( \\frac{d_k - b_{min}}{b_{max} - b_{min}}    \\right)     \\rfloor $$"
   ]
  },
  {
   "cell_type": "code",
   "execution_count": 1,
   "metadata": {
    "collapsed": false
   },
   "outputs": [],
   "source": [
    "using PyPlot"
   ]
  },
  {
   "cell_type": "code",
   "execution_count": 2,
   "metadata": {
    "collapsed": false
   },
   "outputs": [
    {
     "data": {
      "text/plain": [
       "histograma (generic function with 2 methods)"
      ]
     },
     "execution_count": 2,
     "metadata": {},
     "output_type": "execute_result"
    }
   ],
   "source": [
    "\"\"\"\n",
    "```\n",
    "histograma(data::Array{T<:Real, 1}, N::Int64, graficar::Bool)\n",
    "``` \\n\n",
    "\n",
    "Calcula el tamaño del bin tomando en cuenta el valor minimo y maximo del arreglo y devuelve un arreglo de `Int64`\n",
    "con la misma longitud de `N`.\n",
    "\n",
    "- `data`: Datos de entrada en forma de un arreglo.\n",
    "- `N`: Numero deseado de bins.\n",
    "- `graficar`: la posición en True hace que histograma haga la grafica.\n",
    "\"\"\"\n",
    "function histograma{T<:Real}(data::Array{T, 1}, N::Int64, graficar::Bool=false)\n",
    "    b_max =maximum(data)\n",
    "    b_min = minimum(data)\n",
    "    b_size = (b_max - b_min)/N\n",
    "    \n",
    "    Interval = linspace(b_min, b_max, N+1)      # generado para poder graficar.\n",
    "    c = zeros(Int64, N+1)                       # El arreglo guarda N+1 elementos previniendo que necesitamos \n",
    "                                                # un indice extra para generar N subintervalos.\n",
    "      \n",
    "    for dat in data                             # el primer elemento es un problema, no se por que.\n",
    "        δ= (N*(dat - b_min)/(b_max - b_min))    #Sumo este uno por comodidad, los indices comienzan todos en uno.\n",
    "        index = convert(Int64, floor(δ))+1\n",
    "        #println(dat, \" \",δ, \" \", index)\n",
    "        c[index] += 1\n",
    "        \n",
    "        \n",
    "    end\n",
    "    \n",
    "    graficar && bar(Interval, c, b_size, color=\"hotpink\")\n",
    "    \n",
    "\n",
    "    return c[1:N-1]                             # yo ingore el ultimo bin para devolver algo de longitud b.\n",
    "end"
   ]
  },
  {
   "cell_type": "markdown",
   "metadata": {},
   "source": [
    "Comprobamos que nuestra documentacion funcnione:"
   ]
  },
  {
   "cell_type": "code",
   "execution_count": 3,
   "metadata": {
    "collapsed": false
   },
   "outputs": [
    {
     "name": "stdout",
     "output_type": "stream",
     "text": [
      "search: "
     ]
    },
    {
     "data": {
      "text/latex": [
       "\\begin{verbatim}\n",
       "histograma(data::Array{T<:Real, 1}, N::Int64, graficar::Bool)\n",
       "\\end{verbatim}\n",
       "Calcula el tamaño del bin tomando en cuenta el valor minimo y maximo del arreglo y devuelve un arreglo de \\texttt{Int64} con la misma longitud de \\texttt{N}.\n",
       "\\begin{itemize}\n",
       "\\item \\texttt{data}: Datos de entrada en forma de un arreglo.\n",
       "\\item \\texttt{N}: Numero deseado de bins.\n",
       "\\item \\texttt{graficar}: la posición en True hace que histograma haga la grafica.\n",
       "\\end{itemize}\n"
      ],
      "text/markdown": [
       "```\n",
       "histograma(data::Array{T<:Real, 1}, N::Int64, graficar::Bool)\n",
       "```\n",
       "\n",
       "Calcula el tamaño del bin tomando en cuenta el valor minimo y maximo del arreglo y devuelve un arreglo de `Int64` con la misma longitud de `N`.\n",
       "\n",
       "  * `data`: Datos de entrada en forma de un arreglo.\n",
       "  * `N`: Numero deseado de bins.\n",
       "  * `graficar`: la posición en True hace que histograma haga la grafica.\n"
      ],
      "text/plain": [
       "```\n",
       "histograma(data::Array{T<:Real, 1}, N::Int64, graficar::Bool)\n",
       "```\n",
       "\n",
       "Calcula el tamaño del bin tomando en cuenta el valor minimo y maximo del arreglo y devuelve un arreglo de `Int64` con la misma longitud de `N`.\n",
       "\n",
       "  * `data`: Datos de entrada en forma de un arreglo.\n",
       "  * `N`: Numero deseado de bins.\n",
       "  * `graficar`: la posición en True hace que histograma haga la grafica.\n"
      ]
     },
     "execution_count": 3,
     "metadata": {},
     "output_type": "execute_result"
    },
    {
     "name": "stdout",
     "output_type": "stream",
     "text": [
      "histograma\n",
      "\n"
     ]
    }
   ],
   "source": [
    "? histograma"
   ]
  },
  {
   "cell_type": "markdown",
   "metadata": {},
   "source": [
    "Definimos nuestro conjunto de valores aleatorios y nuestro numero de bins... yo voy a poner 100, nada más."
   ]
  },
  {
   "cell_type": "code",
   "execution_count": 4,
   "metadata": {
    "collapsed": false
   },
   "outputs": [
    {
     "data": {
      "text/plain": [
       "100"
      ]
     },
     "execution_count": 4,
     "metadata": {},
     "output_type": "execute_result"
    }
   ],
   "source": [
    "R = randn(100000)   #Este tiene 100 000\n",
    "N = 100"
   ]
  },
  {
   "cell_type": "markdown",
   "metadata": {},
   "source": [
    "Finalmente probamos..."
   ]
  },
  {
   "cell_type": "code",
   "execution_count": 5,
   "metadata": {
    "collapsed": false
   },
   "outputs": [
    {
     "data": {
      "image/png": "[encoded data removed]",
      "text/plain": [
       "PyPlot.Figure(PyObject <matplotlib.figure.Figure object at 0x31d389d50>)"
      ]
     },
     "metadata": {},
     "output_type": "display_data"
    },
    {
     "data": {
      "text/plain": [
       "99-element Array{Int64,1}:\n",
       "  2\n",
       "  0\n",
       "  2\n",
       "  0\n",
       "  2\n",
       "  4\n",
       "  3\n",
       "  4\n",
       "  9\n",
       "  6\n",
       "  6\n",
       " 13\n",
       " 16\n",
       "  ⋮\n",
       " 15\n",
       " 16\n",
       "  8\n",
       "  3\n",
       "  4\n",
       "  1\n",
       "  0\n",
       "  0\n",
       "  2\n",
       "  2\n",
       "  0\n",
       "  0"
      ]
     },
     "execution_count": 5,
     "metadata": {},
     "output_type": "execute_result"
    }
   ],
   "source": [
    "H = histograma(R,N, true)"
   ]
  },
  {
   "cell_type": "markdown",
   "metadata": {},
   "source": [
    "Lo intentamos ahora con la funcion de pyplot, que está bien rara."
   ]
  },
  {
   "cell_type": "code",
   "execution_count": 6,
   "metadata": {
    "collapsed": false
   },
   "outputs": [
    {
     "data": {
      "image/png": "[encoded data removed]",
      "text/plain": [
       "PyPlot.Figure(PyObject <matplotlib.figure.Figure object at 0x31ef18190>)"
      ]
     },
     "metadata": {},
     "output_type": "display_data"
    },
    {
     "data": {
      "text/plain": [
       "([2.0,0.0,2.0,0.0,2.0,4.0,3.0,4.0,9.0,6.0  …  3.0,4.0,1.0,0.0,0.0,2.0,2.0,0.0,0.0,1.0],[-4.36097,-4.27322,-4.18548,-4.09774,-4.00999,-3.92225,-3.83451,-3.74676,-3.65902,-3.57128  …  3.62367,3.71141,3.79915,3.88689,3.97464,4.06238,4.15012,4.23787,4.32561,4.41335],Any[PyObject <matplotlib.patches.Rectangle object at 0x31efc36d0>,PyObject <matplotlib.patches.Rectangle object at 0x31efc3dd0>,PyObject <matplotlib.patches.Rectangle object at 0x31efc9990>,PyObject <matplotlib.patches.Rectangle object at 0x31efcc350>,PyObject <matplotlib.patches.Rectangle object at 0x31efccd10>,PyObject <matplotlib.patches.Rectangle object at 0x31f593690>,PyObject <matplotlib.patches.Rectangle object at 0x31f593e50>,PyObject <matplotlib.patches.Rectangle object at 0x31f598a10>,PyObject <matplotlib.patches.Rectangle object at 0x31f59e390>,PyObject <matplotlib.patches.Rectangle object at 0x31f59ed50>  …  PyObject <matplotlib.patches.Rectangle object at 0x31f67b490>,PyObject <matplotlib.patches.Rectangle object at 0x31f67be50>,PyObject <matplotlib.patches.Rectangle object at 0x31f6807d0>,PyObject <matplotlib.patches.Rectangle object at 0x31f680f90>,PyObject <matplotlib.patches.Rectangle object at 0x31f687b50>,PyObject <matplotlib.patches.Rectangle object at 0x31f68b4d0>,PyObject <matplotlib.patches.Rectangle object at 0x31f68be90>,PyObject <matplotlib.patches.Rectangle object at 0x31f693810>,PyObject <matplotlib.patches.Rectangle object at 0x31f693fd0>,PyObject <matplotlib.patches.Rectangle object at 0x31f697b90>])"
      ]
     },
     "execution_count": 6,
     "metadata": {},
     "output_type": "execute_result"
    }
   ],
   "source": [
    "p = plt[:hist](R, N, color=\"pink\") #No se que es toda esa basura en la salida."
   ]
  },
  {
   "cell_type": "markdown",
   "metadata": {},
   "source": [
    "Por curiosidad podemos ejecutar el macro `@time`para ver que onda con ambas funciones:\n",
    "\n",
    "\n"
   ]
  },
  {
   "cell_type": "code",
   "execution_count": 7,
   "metadata": {
    "collapsed": false
   },
   "outputs": [
    {
     "name": "stdout",
     "output_type": "stream",
     "text": [
      "  "
     ]
    },
    {
     "data": {
      "image/png": "[encoded data removed]",
      "text/plain": [
       "PyPlot.Figure(PyObject <matplotlib.figure.Figure object at 0x31efc9190>)"
      ]
     },
     "metadata": {},
     "output_type": "display_data"
    },
    {
     "data": {
      "text/plain": [
       "99-element Array{Int64,1}:\n",
       "  2\n",
       "  0\n",
       "  2\n",
       "  0\n",
       "  2\n",
       "  4\n",
       "  3\n",
       "  4\n",
       "  9\n",
       "  6\n",
       "  6\n",
       " 13\n",
       " 16\n",
       "  ⋮\n",
       " 15\n",
       " 16\n",
       "  8\n",
       "  3\n",
       "  4\n",
       "  1\n",
       "  0\n",
       "  0\n",
       "  2\n",
       "  2\n",
       "  0\n",
       "  0"
      ]
     },
     "execution_count": 7,
     "metadata": {},
     "output_type": "execute_result"
    },
    {
     "name": "stdout",
     "output_type": "stream",
     "text": [
      "0.134698 seconds (1.47 k allocations: 47.261 KB)\n"
     ]
    }
   ],
   "source": [
    "@time histograma(R,N, true)"
   ]
  },
  {
   "cell_type": "code",
   "execution_count": 8,
   "metadata": {
    "collapsed": false
   },
   "outputs": [
    {
     "name": "stdout",
     "output_type": "stream",
     "text": [
      "  "
     ]
    },
    {
     "data": {
      "image/png": "[encoded data removed]",
      "text/plain": [
       "PyPlot.Figure(PyObject <matplotlib.figure.Figure object at 0x31fc23410>)"
      ]
     },
     "metadata": {},
     "output_type": "display_data"
    },
    {
     "data": {
      "text/plain": [
       "([2.0,0.0,2.0,0.0,2.0,4.0,3.0,4.0,9.0,6.0  …  3.0,4.0,1.0,0.0,0.0,2.0,2.0,0.0,0.0,1.0],[-4.36097,-4.27322,-4.18548,-4.09774,-4.00999,-3.92225,-3.83451,-3.74676,-3.65902,-3.57128  …  3.62367,3.71141,3.79915,3.88689,3.97464,4.06238,4.15012,4.23787,4.32561,4.41335],Any[PyObject <matplotlib.patches.Rectangle object at 0x31fdf0350>,PyObject <matplotlib.patches.Rectangle object at 0x31fdf0c90>,PyObject <matplotlib.patches.Rectangle object at 0x31fdf7610>,PyObject <matplotlib.patches.Rectangle object at 0x31fdf7fd0>,PyObject <matplotlib.patches.Rectangle object at 0x31fdfd950>,PyObject <matplotlib.patches.Rectangle object at 0x31fe03310>,PyObject <matplotlib.patches.Rectangle object at 0x31fe03cd0>,PyObject <matplotlib.patches.Rectangle object at 0x31fe07650>,PyObject <matplotlib.patches.Rectangle object at 0x31fe07dd0>,PyObject <matplotlib.patches.Rectangle object at 0x31fe0d990>  …  PyObject <matplotlib.patches.Rectangle object at 0x31ff22e50>,PyObject <matplotlib.patches.Rectangle object at 0x31ff2a7d0>,PyObject <matplotlib.patches.Rectangle object at 0x31ff2af90>,PyObject <matplotlib.patches.Rectangle object at 0x31ff2fb50>,PyObject <matplotlib.patches.Rectangle object at 0x31ff364d0>,PyObject <matplotlib.patches.Rectangle object at 0x31ff36e90>,PyObject <matplotlib.patches.Rectangle object at 0x31ff3c810>,PyObject <matplotlib.patches.Rectangle object at 0x31ff3cfd0>,PyObject <matplotlib.patches.Rectangle object at 0x31ff42b90>,PyObject <matplotlib.patches.Rectangle object at 0x31ff48510>])"
      ]
     },
     "execution_count": 8,
     "metadata": {},
     "output_type": "execute_result"
    },
    {
     "name": "stdout",
     "output_type": "stream",
     "text": [
      "0.131998 seconds (816 allocations: 20.922 KB)\n"
     ]
    }
   ],
   "source": [
    "@time plt[:hist](R, N, color=\"pink\")\n"
   ]
  },
  {
   "cell_type": "markdown",
   "metadata": {},
   "source": [
    "Y bueno, para nuestra función da `0.136718 seconds (1.33 k allocations: 37.266 KB)` y para la de pyplot `0.132239 seconds (816 allocations: 20.922 KB)`. Vemos que ahí se andan dando."
   ]
  },
  {
   "cell_type": "markdown",
   "metadata": {},
   "source": [
    ">## 2. Promedio y varianza\n",
    "\n",
    ">(a) Siguiendo con la generación de datos del ejercicio anterior, hagan una subrutina que calcule el promedio y la varianza de los datos generados anteriormente. Comparen su resultado con lo que se obtiene al utilizar `mean` y `var` (que son las funciones nativas de julia que hacen eso).\n",
    "    \n",
    ">(b) Existe un [algoritmo recursivo](https://en.wikipedia.org/wiki/Algorithms_for_calculating_variance#Online_algorithm), ampliamente desconocido, que permite calcular el promedio y la varianza con una sóla lectura de los datos. Impleméntenlo. La *misma* función debería de darles *ambos* valores.\n",
    "    \n",
    ">(c) ¿Cuál de todos los algoritmos es el más rápido? Consideren esto para datos de distinta longitud, cubriendo varios órdenes de magnitud."
   ]
  },
  {
   "cell_type": "markdown",
   "metadata": {},
   "source": [
    "### (A) \n",
    "construimos las dos funciones que necesitamos."
   ]
  },
  {
   "cell_type": "code",
   "execution_count": 9,
   "metadata": {
    "collapsed": false
   },
   "outputs": [
    {
     "data": {
      "text/plain": [
       "varianza_a (generic function with 1 method)"
      ]
     },
     "execution_count": 9,
     "metadata": {},
     "output_type": "execute_result"
    }
   ],
   "source": [
    "function promedio(data)\n",
    "    n = length(data)\n",
    "    p = 0.0\n",
    "    \n",
    "    for dat in data\n",
    "        p += dat\n",
    "    end\n",
    "    return p/n\n",
    "end\n",
    "\n",
    "function varianza_a(data)\n",
    "    n = length(data)\n",
    "    s = 0.0\n",
    "    P = promedio(data)\n",
    "    \n",
    "    for dat in data\n",
    "        s += (dat - P)^2\n",
    "    end\n",
    "    return (s /(n-1))\n",
    "end\n",
    "    "
   ]
  },
  {
   "cell_type": "markdown",
   "metadata": {},
   "source": [
    "Las probamos:"
   ]
  },
  {
   "cell_type": "code",
   "execution_count": 10,
   "metadata": {
    "collapsed": false
   },
   "outputs": [
    {
     "data": {
      "text/plain": [
       "10-element Array{Float64,1}:\n",
       " 0.380989  \n",
       " 0.780772  \n",
       " 0.750345  \n",
       " 0.856408  \n",
       " 0.309983  \n",
       " 0.300069  \n",
       " 0.384364  \n",
       " 0.99901   \n",
       " 0.464991  \n",
       " 0.00720696"
      ]
     },
     "execution_count": 10,
     "metadata": {},
     "output_type": "execute_result"
    }
   ],
   "source": [
    "Prueba = rand(10)"
   ]
  },
  {
   "cell_type": "code",
   "execution_count": 11,
   "metadata": {
    "collapsed": false
   },
   "outputs": [
    {
     "data": {
      "text/plain": [
       "0.5234137383599766"
      ]
     },
     "execution_count": 11,
     "metadata": {},
     "output_type": "execute_result"
    }
   ],
   "source": [
    "prom = promedio(Prueba)"
   ]
  },
  {
   "cell_type": "code",
   "execution_count": 12,
   "metadata": {
    "collapsed": false
   },
   "outputs": [
    {
     "data": {
      "text/plain": [
       "0.09552742993182814"
      ]
     },
     "execution_count": 12,
     "metadata": {},
     "output_type": "execute_result"
    }
   ],
   "source": [
    "vari = varianza_a(Prueba)"
   ]
  },
  {
   "cell_type": "markdown",
   "metadata": {},
   "source": [
    "Veamos que dan las funciones internas:"
   ]
  },
  {
   "cell_type": "code",
   "execution_count": 13,
   "metadata": {
    "collapsed": false
   },
   "outputs": [
    {
     "data": {
      "text/plain": [
       "true"
      ]
     },
     "execution_count": 13,
     "metadata": {},
     "output_type": "execute_result"
    }
   ],
   "source": [
    "prom == mean(Prueba)"
   ]
  },
  {
   "cell_type": "code",
   "execution_count": 14,
   "metadata": {
    "collapsed": false
   },
   "outputs": [
    {
     "data": {
      "text/plain": [
       "true"
      ]
     },
     "execution_count": 14,
     "metadata": {},
     "output_type": "execute_result"
    }
   ],
   "source": [
    "vari == var(Prueba)"
   ]
  },
  {
   "cell_type": "markdown",
   "metadata": {},
   "source": [
    "Vaya! da lo mismo..."
   ]
  },
  {
   "cell_type": "markdown",
   "metadata": {},
   "source": [
    "### (B)\n",
    "\n",
    "Buscando por ahí, hallé una entrada de Wikipedia que podía servir. La dejo aquí [Aquí](https://en.wikipedia.org/wiki/Algorithms_for_calculating_variance \"Wikipedia: algoritmos para la varianza\").\n",
    "\n",
    "Llaman al método *Online Method*, citando el libro de Donald E. Knuth, _The Art of Computer Programming_ , de 1998."
   ]
  },
  {
   "cell_type": "code",
   "execution_count": 15,
   "metadata": {
    "collapsed": false
   },
   "outputs": [
    {
     "data": {
      "text/plain": [
       "varianza_b (generic function with 1 method)"
      ]
     },
     "execution_count": 15,
     "metadata": {},
     "output_type": "execute_result"
    }
   ],
   "source": [
    "\"\"\"\n",
    "Recibe un arreglo y devuelve una tupla:\n",
    "```\n",
    "(varianza, promedio)\n",
    "\n",
    "```\n",
    "\n",
    "\"\"\"\n",
    "function varianza_b(data)\n",
    "    n = 0\n",
    "    promedio = 0.0\n",
    "    M2 = 0.0\n",
    "    \n",
    "    for x in data                   #solo hacemos un ciclo y es recursivo!\n",
    "        n += 1\n",
    "        delta = x - promedio\n",
    "        promedio += delta/n\n",
    "        M2 += delta*(x - promedio)\n",
    "        #println(M2 / (n - 1), \" \", promedio)\n",
    "    end\n",
    "    \n",
    "    if (n < 2)                     #verificamos que almenos haya dos datos... si eso no pasa... tendremos problemas.\n",
    "        return (NaN, promedio)     #no corto con un error porque el promedio no tiene broncas aqui\n",
    "    else\n",
    "        return ((M2 / (n - 1)), promedio)\n",
    "    end\n",
    "    \n",
    "end\n",
    "    \n",
    "    "
   ]
  },
  {
   "cell_type": "markdown",
   "metadata": {},
   "source": [
    "Ahora vamos a probar con algunos conjuntos de diferentes órdenes de magnitud:"
   ]
  },
  {
   "cell_type": "code",
   "execution_count": 19,
   "metadata": {
    "collapsed": false
   },
   "outputs": [
    {
     "data": {
      "text/plain": [
       "1000000-element Array{Float64,1}:\n",
       "  1.75716  \n",
       "  1.39127  \n",
       "  0.190933 \n",
       "  0.533354 \n",
       " -0.952193 \n",
       "  1.83314  \n",
       " -0.253076 \n",
       "  1.13761  \n",
       "  0.0794612\n",
       "  1.46602  \n",
       " -0.0371629\n",
       "  0.506018 \n",
       " -0.927742 \n",
       "  ⋮        \n",
       "  1.02084  \n",
       "  0.548091 \n",
       " -0.989412 \n",
       "  2.12924  \n",
       " -0.742463 \n",
       " -0.0535275\n",
       "  0.407328 \n",
       "  1.28466  \n",
       "  0.343304 \n",
       " -0.639048 \n",
       " -0.209275 \n",
       "  1.17788  "
      ]
     },
     "execution_count": 19,
     "metadata": {},
     "output_type": "execute_result"
    }
   ],
   "source": [
    "Grande = randn(1000)\n",
    "MuyGrande = randn(10000)\n",
    "SuperGrande = randn(100000)\n",
    "Inmenso = randn(1000000)"
   ]
  },
  {
   "cell_type": "code",
   "execution_count": 20,
   "metadata": {
    "collapsed": false
   },
   "outputs": [
    {
     "data": {
      "text/plain": [
       "(0.9993486413117161,-2.5672170605741635e-5)"
      ]
     },
     "execution_count": 20,
     "metadata": {},
     "output_type": "execute_result"
    }
   ],
   "source": [
    "v1 = varianza_b(Grande)\n",
    "v2 = varianza_b(MuyGrande)\n",
    "v3 = varianza_b(SuperGrande)\n",
    "v4 = varianza_b(Inmenso)"
   ]
  },
  {
   "cell_type": "markdown",
   "metadata": {},
   "source": [
    "Y checamos qué onda con los errores relativos de los valores que calcula nuestra función con los que da la máquina."
   ]
  },
  {
   "cell_type": "code",
   "execution_count": 21,
   "metadata": {
    "collapsed": false
   },
   "outputs": [
    {
     "name": "stdout",
     "output_type": "stream",
     "text": [
      "Error varianza_b vs. La maquina de Grande     = 1.1102230246251565e-15\n",
      "Error varianza_b vs. La maquina de MuyGrande  = 1.9984014443252818e-15\n",
      "Error varianza_b vs. La maquina de SuperGrande= 4.107825191113079e-15\n",
      "Error varianza_b vs. La maquina de Inmenso    = 2.653433028854124e-14\n"
     ]
    }
   ],
   "source": [
    "println(\"Error varianza_b vs. La maquina de Grande     = \", abs(v1[1] - var(Grande)))\n",
    "println(\"Error varianza_b vs. La maquina de MuyGrande  = \", abs(v2[1] - var(MuyGrande)))\n",
    "println(\"Error varianza_b vs. La maquina de SuperGrande= \", abs(v3[1] - var(SuperGrande)))\n",
    "println(\"Error varianza_b vs. La maquina de Inmenso    = \", abs(v4[1] - var(Inmenso)))"
   ]
  },
  {
   "cell_type": "markdown",
   "metadata": {},
   "source": [
    "Parece que pasa algo interesante... veamos con atención:"
   ]
  },
  {
   "cell_type": "code",
   "execution_count": 22,
   "metadata": {
    "collapsed": false
   },
   "outputs": [],
   "source": [
    "X = Float64[]\n",
    "Pr = Float64[]\n",
    "Vr = Float64[]\n",
    "for i in 1:8\n",
    "    e = 10^i\n",
    "    n = convert(Int64, e)\n",
    "    R = rand(n)\n",
    "    V = var(R)\n",
    "    P = mean(R)\n",
    "    v = varianza_b(R)\n",
    "    push!(X, e)\n",
    "    E1 = abs(v[1] - V)\n",
    "    E2 = abs(v[2] - V)\n",
    "    push!(Vr, E1)\n",
    "    push!(Pr, E2)\n",
    "    \n",
    "end"
   ]
  },
  {
   "cell_type": "code",
   "execution_count": 23,
   "metadata": {
    "collapsed": false
   },
   "outputs": [
    {
     "data": {
      "image/png": "[encoded data removed]",
      "text/plain": [
       "PyPlot.Figure(PyObject <matplotlib.figure.Figure object at 0x31f8e5850>)"
      ]
     },
     "metadata": {},
     "output_type": "display_data"
    },
    {
     "data": {
      "text/plain": [
       "PyObject <matplotlib.legend.Legend object at 0x3560e59d0>"
      ]
     },
     "execution_count": 23,
     "metadata": {},
     "output_type": "execute_result"
    }
   ],
   "source": [
    "loglog(X, Pr, \".\", label=\"promedio\")\n",
    "loglog(X, Vr, \".\", label=\"varianza\")\n",
    "legend()\n",
    "\n",
    "\n"
   ]
  },
  {
   "cell_type": "markdown",
   "metadata": {},
   "source": [
    "Al parecer, según crece el orden de magnitud de la muestra, el cálculo de la varianza hecho por 'varianza_b' se aleja del obtenido por la funcinón interna. Pero si comparamos el tiempo con `varianza_a`:\n",
    "\n",
    "___"
   ]
  },
  {
   "cell_type": "code",
   "execution_count": 24,
   "metadata": {
    "collapsed": false
   },
   "outputs": [
    {
     "name": "stdout",
     "output_type": "stream",
     "text": [
      "  0.000012 seconds (6 allocations: 208 bytes)\n",
      "  0.000346 seconds (364 allocations: 16.625 KB)\n",
      "(0.9617477543458977,\" <--- (A) vs. (B) --->\",0.961747754345897)\n"
     ]
    }
   ],
   "source": [
    "println(@time varianza_a(Grande), \" <--- (A) vs. (B) --->\", @time varianza_b(Grande)[1])"
   ]
  },
  {
   "cell_type": "code",
   "execution_count": 25,
   "metadata": {
    "collapsed": false
   },
   "outputs": [
    {
     "name": "stdout",
     "output_type": "stream",
     "text": [
      "  0.000100 seconds (6 allocations: 208 bytes)\n",
      "  0.000511 seconds (358 allocations: 16.031 KB)\n",
      "(1.0154324358483033,\" <--- (A) vs. (B) --->\",1.0154324358483005)\n"
     ]
    }
   ],
   "source": [
    "println(@time varianza_a(MuyGrande), \" <--- (A) vs. (B) --->\", @time varianza_b(MuyGrande)[1])"
   ]
  },
  {
   "cell_type": "code",
   "execution_count": 26,
   "metadata": {
    "collapsed": false
   },
   "outputs": [
    {
     "name": "stdout",
     "output_type": "stream",
     "text": [
      "  0.000904 seconds (6 allocations: 208 bytes)\n",
      "  0.001459 seconds (352 allocations: 15.813 KB)\n",
      "(0.9976388578845627,\" <--- (A) vs. (B) --->\",0.9976388578845636)\n"
     ]
    }
   ],
   "source": [
    "println(@time varianza_a(SuperGrande), \" <--- (A) vs. (B) --->\", @time varianza_b(SuperGrande)[1])"
   ]
  },
  {
   "cell_type": "code",
   "execution_count": 27,
   "metadata": {
    "collapsed": false
   },
   "outputs": [
    {
     "name": "stdout",
     "output_type": "stream",
     "text": [
      "  0.009073 seconds (6 allocations: 208 bytes)\n",
      "  0.011845 seconds (356 allocations: 16.250 KB)\n",
      "(0.9993486413116319,\" <--- (A) vs. (B) --->\",0.9993486413117161)\n"
     ]
    }
   ],
   "source": [
    "println(@time varianza_a(Inmenso), \" <--- (A) vs. (B) --->\", @time varianza_b(Inmenso)[1])"
   ]
  },
  {
   "cell_type": "markdown",
   "metadata": {},
   "source": [
    "___\n",
    "Vaya... el calculo de la funcion `varianza_b` es considerablemente más lento...\n",
    "En un principio consideré estar haciendo algo mal... pero los valores entre ambos son bastante congruentes.\n",
    "Nos quedamos _definitivamente_ con la función __varianza_a__. Quizá tuvimos que hacer dos pasos, pero funcionó.\n"
   ]
  },
  {
   "cell_type": "markdown",
   "metadata": {},
   "source": [
    "Yo usé la __Regla de Simpson Compuesta__ y la tomé de [aquí](https://es.wikipedia.org/wiki/Regla_de_Simpson#Regla_de_Simpson_compuesta \"si... Wikipedia\").\n",
    "Propuse una función muy fácil, la constante:\n",
    "$$f(x) = 3$$\n",
    "Y la integré en el intervalo $[0,1]$.\n",
    "\n",
    "Sabemos cuánto da esto:\n",
    "$$\\int_0^1 f(x) dx = \\int_0^1 3 dx = 3  $$\n",
    "Implementamos:"
   ]
  },
  {
   "cell_type": "code",
   "execution_count": 28,
   "metadata": {
    "collapsed": false
   },
   "outputs": [
    {
     "data": {
      "text/plain": [
       "f1 (generic function with 1 method)"
      ]
     },
     "execution_count": 28,
     "metadata": {},
     "output_type": "execute_result"
    }
   ],
   "source": [
    "function f1(x)\n",
    "    y = 3\n",
    "    return y\n",
    "end"
   ]
  },
  {
   "cell_type": "code",
   "execution_count": 29,
   "metadata": {
    "collapsed": false
   },
   "outputs": [
    {
     "data": {
      "text/plain": [
       "simpson_de_f (generic function with 1 method)"
      ]
     },
     "execution_count": 29,
     "metadata": {},
     "output_type": "execute_result"
    }
   ],
   "source": [
    "\"\"\"\n",
    "Regla de simpson Compuesta. \n",
    "Recibe los limites de integracion y la cantidad de pasos deseados.\n",
    "\"\"\"\n",
    "function simpson_de_f{T<:Real}(f, a::T,b::T,n::Int64)\n",
    "    (n%2)!= 0 && error(\"Recibido n = \",n, \". Introduce un n par, porfavor\") #solo funciona para n par.\n",
    "    h = (b - a)/n\n",
    "    x = collect(a:h:b)\n",
    "    \n",
    "    index = convert(Int64, n/2)\n",
    "    #println(\"index: \", index)\n",
    "    s_par = 0.0\n",
    "    s_impar = 0.0\n",
    "    \n",
    "    for i in 1:index-1\n",
    "        s_par += f(x[2*i])\n",
    "        s_impar += f(x[(2*i)-1])\n",
    "    end\n",
    "    s_impar += f(x[n-1])\n",
    "    simpson = (h/3)*(f(a) + 2*s_par + 4*s_impar + f(b))\n",
    "        \n",
    "    \n",
    "    #println(\"Funciona.\") \n",
    "        \n",
    "    \n",
    "    \n",
    "    return simpson\n",
    "    \n",
    "    \n",
    "    \n",
    "end"
   ]
  },
  {
   "cell_type": "markdown",
   "metadata": {},
   "source": [
    "Llegada la onda de la verdad..."
   ]
  },
  {
   "cell_type": "code",
   "execution_count": 30,
   "metadata": {
    "collapsed": false
   },
   "outputs": [
    {
     "data": {
      "text/plain": [
       "3.0"
      ]
     },
     "execution_count": 30,
     "metadata": {},
     "output_type": "execute_result"
    }
   ],
   "source": [
    "pasos = 1000\n",
    "Integral = simpson_de_f(f1, 0.0,1.0,10000)"
   ]
  },
  {
   "cell_type": "markdown",
   "metadata": {},
   "source": [
    "¡Vaya!... sí da lo que queremos... algo un poco más complicado.\n",
    "\n",
    "$$\\int_0^1 2x dx = x^2 | _0 ^1 = 1$$"
   ]
  },
  {
   "cell_type": "code",
   "execution_count": 31,
   "metadata": {
    "collapsed": false
   },
   "outputs": [
    {
     "data": {
      "text/plain": [
       "f2 (generic function with 1 method)"
      ]
     },
     "execution_count": 31,
     "metadata": {},
     "output_type": "execute_result"
    }
   ],
   "source": [
    "function f2(x)\n",
    "    y = 2*x\n",
    "    return y\n",
    "end"
   ]
  },
  {
   "cell_type": "code",
   "execution_count": 32,
   "metadata": {
    "collapsed": false
   },
   "outputs": [
    {
     "data": {
      "text/plain": [
       "0.9980013333333334"
      ]
     },
     "execution_count": 32,
     "metadata": {},
     "output_type": "execute_result"
    }
   ],
   "source": [
    "simpson_de_f(f2, 0.0,1.0, pasos)"
   ]
  },
  {
   "cell_type": "markdown",
   "metadata": {
    "collapsed": true
   },
   "source": [
    "Rayos... no nos aproximamos tan bien como nos hubiera gustado... ¿Mas pasos?\n"
   ]
  },
  {
   "cell_type": "code",
   "execution_count": 33,
   "metadata": {
    "collapsed": false
   },
   "outputs": [
    {
     "data": {
      "text/plain": [
       "0.9999998000000144"
      ]
     },
     "execution_count": 33,
     "metadata": {},
     "output_type": "execute_result"
    }
   ],
   "source": [
    "simpson_de_f(f2, 0.0,1.0, 10000000)"
   ]
  },
  {
   "cell_type": "markdown",
   "metadata": {},
   "source": [
    "Casi... pero igual no."
   ]
  }
 ],
 "metadata": {
  "kernelspec": {
   "display_name": "Julia 0.4.3",
   "language": "julia",
   "name": "julia-0.4"
  },
  "language_info": {
   "file_extension": ".jl",
   "mimetype": "application/julia",
   "name": "julia",
   "version": "0.4.3"
  }
 },
 "nbformat": 4,
 "nbformat_minor": 0
}
