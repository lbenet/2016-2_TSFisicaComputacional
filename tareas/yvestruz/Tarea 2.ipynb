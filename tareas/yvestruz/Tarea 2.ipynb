{
 "cells": [
  {
   "cell_type": "markdown",
   "metadata": {
    "collapsed": true
   },
   "source": [
    "# 1. Histogramas"
   ]
  },
  {
   "cell_type": "code",
   "execution_count": 18,
   "metadata": {
    "collapsed": false,
    "scrolled": true
   },
   "outputs": [
    {
     "data": {
      "text/plain": [
       "super_histograma (generic function with 2 methods)"
      ]
     },
     "execution_count": 18,
     "metadata": {},
     "output_type": "execute_result"
    }
   ],
   "source": [
    "\"\"\"This function takes a data array <vec> and a number of bins n_hist and returns an array with length = n_hist with the distribution of data.\n",
    "If n_hist is not provided the default value is 100.\"\"\"\n",
    "function super_histograma(vec::Array,n_hist=100)\n",
    "    N_ord = sort(vec)\n",
    "    \n",
    "    dx = (N_ord[end]-N_ord[1])/n_hist\n",
    "    x_1 = N_ord[1]\n",
    "\n",
    "    histo = zeros(n_hist)\n",
    "      \n",
    "    for k = 1 : length(N_ord)\n",
    "        \n",
    "        x_1 = N_ord[1]\n",
    "        \n",
    "        for j = 1 : length(histo)\n",
    "            \n",
    "            x_2 = x_1 + dx\n",
    "            \n",
    "            if N_ord[k] >= x_1 && N_ord[k] <= x_2\n",
    "                \n",
    "                histo[j] += 1\n",
    "                break\n",
    "                \n",
    "            else\n",
    "                x_1 += dx\n",
    "            \n",
    "            end\n",
    "        end\n",
    "    end\n",
    "    return histo\n",
    "end"
   ]
  },
  {
   "cell_type": "markdown",
   "metadata": {},
   "source": [
    "Nuestra función está bien documentada. Veamos esto:"
   ]
  },
  {
   "cell_type": "code",
   "execution_count": 19,
   "metadata": {
    "collapsed": false
   },
   "outputs": [
    {
     "name": "stdout",
     "output_type": "stream",
     "text": [
      "search: super_histograma\n",
      "\n"
     ]
    },
    {
     "data": {
      "text/latex": [
       "This function takes a data array <vec> and a number of bins n\\_hist and returns an array with length = n\\_hist with the distribution of data. If n\\_hist is not provided the default value is 100.\n"
      ],
      "text/markdown": [
       "This function takes a data array <vec> and a number of bins n_hist and returns an array with length = n_hist with the distribution of data. If n_hist is not provided the default value is 100.\n"
      ],
      "text/plain": [
       "This function takes a data array <vec> and a number of bins n_hist and returns an array with length = n_hist with the distribution of data. If n_hist is not provided the default value is 100.\n"
      ]
     },
     "execution_count": 19,
     "metadata": {},
     "output_type": "execute_result"
    }
   ],
   "source": [
    "?super_histograma"
   ]
  },
  {
   "cell_type": "markdown",
   "metadata": {},
   "source": [
    "Probemos ahora con un vector `M` de ~ 10,000 entradas."
   ]
  },
  {
   "cell_type": "code",
   "execution_count": 20,
   "metadata": {
    "collapsed": false,
    "scrolled": true
   },
   "outputs": [],
   "source": [
    "M = randn(10000);"
   ]
  },
  {
   "cell_type": "markdown",
   "metadata": {},
   "source": [
    "Saquemos el histograma de `M` con nuestra gran función `super_histograma()`. "
   ]
  },
  {
   "cell_type": "code",
   "execution_count": 21,
   "metadata": {
    "collapsed": false,
    "scrolled": true
   },
   "outputs": [
    {
     "data": {
      "text/plain": [
       "100-element Array{Float64,1}:\n",
       "  1.0\n",
       "  0.0\n",
       "  2.0\n",
       "  0.0\n",
       "  0.0\n",
       "  1.0\n",
       "  5.0\n",
       "  2.0\n",
       "  7.0\n",
       "  3.0\n",
       "  7.0\n",
       "  9.0\n",
       " 15.0\n",
       "  ⋮  \n",
       "  3.0\n",
       "  0.0\n",
       "  1.0\n",
       "  5.0\n",
       "  0.0\n",
       "  2.0\n",
       "  1.0\n",
       "  0.0\n",
       "  0.0\n",
       "  0.0\n",
       "  0.0\n",
       "  1.0"
      ]
     },
     "execution_count": 21,
     "metadata": {},
     "output_type": "execute_result"
    }
   ],
   "source": [
    "h = super_histograma(M,100)"
   ]
  },
  {
   "cell_type": "markdown",
   "metadata": {},
   "source": [
    "Finalmente, grafiquemos el histograma de `M`.\n",
    "\n",
    "**Nota:** Se graficó histograma vs rango($n_{hist}$) con fines ilustrativos solamente."
   ]
  },
  {
   "cell_type": "code",
   "execution_count": 22,
   "metadata": {
    "collapsed": false,
    "scrolled": false
   },
   "outputs": [
    {
     "data": {
      "image/png": "[encoded data removed]",
      "text/plain": [
       "PyPlot.Figure(PyObject <matplotlib.figure.Figure object at 0x0000000028601E80>)"
      ]
     },
     "metadata": {},
     "output_type": "display_data"
    }
   ],
   "source": [
    "using PyPlot\n",
    "bar(1:100,h);"
   ]
  },
  {
   "cell_type": "markdown",
   "metadata": {},
   "source": [
    "# 2. Promedio y Varianza"
   ]
  },
  {
   "cell_type": "markdown",
   "metadata": {},
   "source": [
    "#### a)Definir funciones para calcular promedio y varianza, comparando con *mean* y *var*"
   ]
  },
  {
   "cell_type": "markdown",
   "metadata": {},
   "source": [
    "Para un conjunto de n números ${x_1,x_2,...,x_n}$, su promedio o media aritmética esta dada por $\\bar{x}=\\frac{1}{n}\\sum\\limits_{i=1}^n x_i$. Además, su varianza se calcula a partir del promedio y está dada por $\\sigma_n^2=\\frac{1}{n}\\sum\\limits_{i=1}^n (\\bar{x}-x_i)^2$."
   ]
  },
  {
   "cell_type": "code",
   "execution_count": 23,
   "metadata": {
    "collapsed": false,
    "scrolled": true
   },
   "outputs": [
    {
     "data": {
      "text/plain": [
       "promedio (generic function with 1 method)"
      ]
     },
     "execution_count": 23,
     "metadata": {},
     "output_type": "execute_result"
    }
   ],
   "source": [
    "\"This function calculates the arithmetic mean over all the elements of an array\"\n",
    "\n",
    "function promedio(S::Array) #el argumento es un array de cualquier dimensión\n",
    "    sum=0.0\n",
    "    for j in S  #el for corre sobre los elementos del array y los va sumando\n",
    "        sum+=j\n",
    "        #println(j)\n",
    "    end \n",
    "    #println(\"suma=\",sum)\n",
    "    return sum/length(S)\n",
    "end    "
   ]
  },
  {
   "cell_type": "code",
   "execution_count": 24,
   "metadata": {
    "collapsed": false
   },
   "outputs": [
    {
     "data": {
      "text/plain": [
       "0.023808124332673045"
      ]
     },
     "execution_count": 24,
     "metadata": {},
     "output_type": "execute_result"
    }
   ],
   "source": [
    "promedio(M) #la función calcula el promedio de todos los elementos del arreglo M, definido anteriormente"
   ]
  },
  {
   "cell_type": "code",
   "execution_count": 25,
   "metadata": {
    "collapsed": false
   },
   "outputs": [
    {
     "data": {
      "text/plain": [
       "10-element Array{Float64,1}:\n",
       " 0.556465\n",
       " 0.782287\n",
       " 0.189121\n",
       " 0.902989\n",
       " 0.855927\n",
       " 0.39089 \n",
       " 0.674782\n",
       " 0.961602\n",
       " 0.479017\n",
       " 0.162753"
      ]
     },
     "execution_count": 25,
     "metadata": {},
     "output_type": "execute_result"
    }
   ],
   "source": [
    "Q=rand(10); #creamos un vector de 10 entradas"
   ]
  },
  {
   "cell_type": "code",
   "execution_count": 26,
   "metadata": {
    "collapsed": false
   },
   "outputs": [
    {
     "data": {
      "text/plain": [
       "0.5955834355677094"
      ]
     },
     "execution_count": 26,
     "metadata": {},
     "output_type": "execute_result"
    }
   ],
   "source": [
    "promedio(Q') #la función también puede calcularlo con su conjugado"
   ]
  },
  {
   "cell_type": "code",
   "execution_count": 27,
   "metadata": {
    "collapsed": false
   },
   "outputs": [],
   "source": [
    "P=rand(3,3,4);"
   ]
  },
  {
   "cell_type": "code",
   "execution_count": 28,
   "metadata": {
    "collapsed": false
   },
   "outputs": [
    {
     "data": {
      "text/plain": [
       "0.6045300512004934"
      ]
     },
     "execution_count": 28,
     "metadata": {},
     "output_type": "execute_result"
    }
   ],
   "source": [
    "promedio(P) #también funciona con arreglos de mayores dimensiones"
   ]
  },
  {
   "cell_type": "markdown",
   "metadata": {},
   "source": [
    "A continuación definiremos la función varianza"
   ]
  },
  {
   "cell_type": "code",
   "execution_count": 29,
   "metadata": {
    "collapsed": false
   },
   "outputs": [
    {
     "data": {
      "text/plain": [
       "varianza (generic function with 1 method)"
      ]
     },
     "execution_count": 29,
     "metadata": {},
     "output_type": "execute_result"
    }
   ],
   "source": [
    "\"Esta función calcula la varianza de un arreglo n dimensional de números\" \n",
    "\n",
    "function varianza(S::Array) #el argumento es un array de cualquier dimensión\n",
    "    sum=0.0\n",
    "    for j in S  #el for corre sobre los elementos del array y los va sumando\n",
    "        sum+=(promedio(S)-j)^2\n",
    "        #println(j)\n",
    "    end \n",
    "    #println(\"suma=\",sum)\n",
    "    return sum/length(S)\n",
    "end    "
   ]
  },
  {
   "cell_type": "code",
   "execution_count": 30,
   "metadata": {
    "collapsed": false,
    "scrolled": true
   },
   "outputs": [
    {
     "data": {
      "text/plain": [
       "(1.0059265382689222,0.0746948828484976,0.0746948828484976,0.08843430113424912,NaN,0.0)"
      ]
     },
     "execution_count": 30,
     "metadata": {},
     "output_type": "execute_result"
    }
   ],
   "source": [
    "varianza(M), varianza(Q),varianza(Q'),varianza(P),varianza([NaN]),varianza([0.1]) #ejemplos de ejecución de la función"
   ]
  },
  {
   "cell_type": "markdown",
   "metadata": {},
   "source": [
    "A continuación compararemos con las funciones *mean* y *var* que tiene Julia"
   ]
  },
  {
   "cell_type": "code",
   "execution_count": 31,
   "metadata": {
    "collapsed": false
   },
   "outputs": [
    {
     "data": {
      "text/plain": [
       "2-element Array{Float64,1}:\n",
       " 0.0238081\n",
       " 0.0238081"
      ]
     },
     "execution_count": 31,
     "metadata": {},
     "output_type": "execute_result"
    }
   ],
   "source": [
    "T1=[mean(M),promedio(M)] "
   ]
  },
  {
   "cell_type": "code",
   "execution_count": 32,
   "metadata": {
    "collapsed": false
   },
   "outputs": [
    {
     "data": {
      "text/plain": [
       "3.469446951953614e-17"
      ]
     },
     "execution_count": 32,
     "metadata": {},
     "output_type": "execute_result"
    }
   ],
   "source": [
    "abs(T1[1]-T1[2]) #hay una pequeña diferencia numérica"
   ]
  },
  {
   "cell_type": "code",
   "execution_count": 33,
   "metadata": {
    "collapsed": false
   },
   "outputs": [
    {
     "data": {
      "text/plain": [
       "2-element Array{Float64,1}:\n",
       " 1.00603\n",
       " 1.00593"
      ]
     },
     "execution_count": 33,
     "metadata": {},
     "output_type": "execute_result"
    }
   ],
   "source": [
    "T2=[var(M),varianza(M)]"
   ]
  },
  {
   "cell_type": "code",
   "execution_count": 34,
   "metadata": {
    "collapsed": false
   },
   "outputs": [
    {
     "data": {
      "text/plain": [
       "0.00010060271410394783"
      ]
     },
     "execution_count": 34,
     "metadata": {},
     "output_type": "execute_result"
    }
   ],
   "source": [
    "abs(T2[1]-T2[2]) #la diferencia es ahora mucho mayor pues se acumula con cada llamada a promedio en varianza"
   ]
  },
  {
   "cell_type": "code",
   "execution_count": 35,
   "metadata": {
    "collapsed": false
   },
   "outputs": [
    {
     "name": "stdout",
     "output_type": "stream",
     "text": [
      "  0.000016 seconds (150 allocations: 10.729 KB)\n",
      "  0.091765 seconds (5 allocations: 176 bytes)\n"
     ]
    }
   ],
   "source": [
    "@time promedio(M);\n",
    "@time varianza(M);"
   ]
  },
  {
   "cell_type": "code",
   "execution_count": 36,
   "metadata": {
    "collapsed": false
   },
   "outputs": [
    {
     "name": "stdout",
     "output_type": "stream",
     "text": [
      "  0.000012 seconds (5 allocations: 176 bytes)\n",
      "  0.000016 seconds (8 allocations: 288 bytes)\n"
     ]
    },
    {
     "data": {
      "text/plain": [
       "1.0060271409830261"
      ]
     },
     "execution_count": 36,
     "metadata": {},
     "output_type": "execute_result"
    }
   ],
   "source": [
    "@time mean(M); #la diferencia en tiempo en promedio no es muy significativa \n",
    "@time var(M); #la diferencia en tiempo en varianza sí lo es"
   ]
  },
  {
   "cell_type": "markdown",
   "metadata": {},
   "source": [
    "#### b) Implementar método para hacer los cálculos con una sola lectura de datos"
   ]
  },
  {
   "cell_type": "markdown",
   "metadata": {},
   "source": [
    "A continuación definiremos una función que calcula ambos valores: promedio y varianza con una sola lectura de los datos del array y devuelve una tupla con ambos resultados"
   ]
  },
  {
   "cell_type": "code",
   "execution_count": 37,
   "metadata": {
    "collapsed": false
   },
   "outputs": [
    {
     "data": {
      "text/plain": [
       "unalectura (generic function with 1 method)"
      ]
     },
     "execution_count": 37,
     "metadata": {},
     "output_type": "execute_result"
    }
   ],
   "source": [
    "\"\"\"\n",
    "Esta función calcula el promedio y la varianza de un conjunto de datos con una sola lectura array \n",
    "y devuelve una tupla con ambos resultados. \n",
    "Fuente: https://en.wikipedia.org/wiki/Algorithms_for_calculating_variance#Online_algorithm\n",
    "\"\"\"\n",
    "function unalectura(S::Array)\n",
    "    n = 0\n",
    "    mean = 0.0\n",
    "    M2 = 0.0\n",
    "     \n",
    "    for x in S\n",
    "        n += 1\n",
    "        delta = x - mean\n",
    "        mean += delta/n\n",
    "        M2 += delta*(x - mean)\n",
    "    end\n",
    "    \n",
    "    if n < 2\n",
    "        return [NaN,NaN]\n",
    "    else\n",
    "        return [mean,M2 / n] #dividimos entre n pues si tomamos n-1 estamos calculando la correción de Bessel de la varianza\n",
    "    end\n",
    "end    "
   ]
  },
  {
   "cell_type": "code",
   "execution_count": 38,
   "metadata": {
    "collapsed": false
   },
   "outputs": [
    {
     "data": {
      "text/plain": [
       "(0.023808124332673045,1.0059265382689222,[0.023808124332673035,1.0059265382689266])"
      ]
     },
     "execution_count": 38,
     "metadata": {},
     "output_type": "execute_result"
    }
   ],
   "source": [
    "promedio(M),varianza(M), unalectura(M) "
   ]
  },
  {
   "cell_type": "code",
   "execution_count": 39,
   "metadata": {
    "collapsed": false
   },
   "outputs": [
    {
     "data": {
      "text/plain": [
       "1.0408340855860843e-17"
      ]
     },
     "execution_count": 39,
     "metadata": {},
     "output_type": "execute_result"
    }
   ],
   "source": [
    "abs(promedio(M)-unalectura(M)[1]) #diferencia en los resultados es muy pequeña"
   ]
  },
  {
   "cell_type": "code",
   "execution_count": 40,
   "metadata": {
    "collapsed": false
   },
   "outputs": [
    {
     "data": {
      "text/plain": [
       "4.440892098500626e-15"
      ]
     },
     "execution_count": 40,
     "metadata": {},
     "output_type": "execute_result"
    }
   ],
   "source": [
    "abs(varianza(M)-unalectura(M)[2]) #la diferencia también es muy pequeña, aunque trés órdenes de magnitud mayor"
   ]
  },
  {
   "cell_type": "code",
   "execution_count": 41,
   "metadata": {
    "collapsed": false
   },
   "outputs": [
    {
     "name": "stdout",
     "output_type": "stream",
     "text": [
      "  0.000013 seconds (5 allocations: 176 bytes)\n",
      "  0.093219 seconds (5 allocations: 176 bytes)\n"
     ]
    }
   ],
   "source": [
    "@time promedio(M);\n",
    "@time varianza(M);"
   ]
  },
  {
   "cell_type": "code",
   "execution_count": 42,
   "metadata": {
    "collapsed": false
   },
   "outputs": [
    {
     "name": "stdout",
     "output_type": "stream",
     "text": [
      "  0.000085 seconds (7 allocations: 272 bytes)\n"
     ]
    },
    {
     "data": {
      "text/plain": [
       "2-element Array{Float64,1}:\n",
       " 0.0238081\n",
       " 1.00593  "
      ]
     },
     "execution_count": 42,
     "metadata": {},
     "output_type": "execute_result"
    }
   ],
   "source": [
    "@time unalectura(M); #es mucho más veloz que el cálculo con varianza() puesto que debe realizar menos iteraciones"
   ]
  },
  {
   "cell_type": "markdown",
   "metadata": {},
   "source": [
    "#### c) Comparar ambos algoritmos para datos de distintas longitudes con diferentes órdenes de magnitud "
   ]
  },
  {
   "cell_type": "markdown",
   "metadata": {},
   "source": [
    "A continuació generaremos distintos arreglos aleatorios de datos de 1 dimensión para evaluar los algoritmos "
   ]
  },
  {
   "cell_type": "code",
   "execution_count": 43,
   "metadata": {
    "collapsed": false
   },
   "outputs": [
    {
     "data": {
      "text/plain": [
       "10-element Array{Float64,1}:\n",
       " 0.639824 \n",
       " 0.244241 \n",
       " 0.0487439\n",
       " 0.0474558\n",
       " 0.193413 \n",
       " 0.669567 \n",
       " 0.552576 \n",
       " 0.644445 \n",
       " 0.359638 \n",
       " 0.0988399"
      ]
     },
     "execution_count": 43,
     "metadata": {},
     "output_type": "execute_result"
    }
   ],
   "source": [
    "A=rand(10); #en 0:1"
   ]
  },
  {
   "cell_type": "code",
   "execution_count": 44,
   "metadata": {
    "collapsed": false
   },
   "outputs": [],
   "source": [
    "B=rand(10^4);"
   ]
  },
  {
   "cell_type": "code",
   "execution_count": 45,
   "metadata": {
    "collapsed": false
   },
   "outputs": [
    {
     "data": {
      "text/plain": [
       "10-element Array{Int64,1}:\n",
       " -6787917684483961437\n",
       " -2127160374783974212\n",
       " -7422868322423122285\n",
       "  4334563522628257253\n",
       " -6130913972627203704\n",
       " -1383579641755166991\n",
       " -1199411034247934038\n",
       " -5371473188631450851\n",
       "  5264171005075180073\n",
       "   617921529562018565"
      ]
     },
     "execution_count": 45,
     "metadata": {},
     "output_type": "execute_result"
    }
   ],
   "source": [
    "C=rand(-typemax(Int64):typemax(Int64),10); #rangos máximos de enteros"
   ]
  },
  {
   "cell_type": "code",
   "execution_count": 46,
   "metadata": {
    "collapsed": true
   },
   "outputs": [],
   "source": [
    "D=rand(-typemax(Int64):typemax(Int64),10^4);"
   ]
  },
  {
   "cell_type": "code",
   "execution_count": 47,
   "metadata": {
    "collapsed": false
   },
   "outputs": [],
   "source": [
    "E=rand(-eps(1.0):eps(1.0),10);"
   ]
  },
  {
   "cell_type": "code",
   "execution_count": 48,
   "metadata": {
    "collapsed": false
   },
   "outputs": [],
   "source": [
    "F=rand(-eps(1.0):eps(1.0),10^4);"
   ]
  },
  {
   "cell_type": "markdown",
   "metadata": {},
   "source": [
    "A continuación evaluaremos los datos en las distintas funciones"
   ]
  },
  {
   "cell_type": "code",
   "execution_count": 49,
   "metadata": {
    "collapsed": false
   },
   "outputs": [
    {
     "name": "stdout",
     "output_type": "stream",
     "text": [
      "  0.000002 seconds (5 allocations: 176 bytes)\n",
      "  0.000002 seconds (7 allocations: 272 bytes)\n"
     ]
    },
    {
     "data": {
      "text/plain": [
       "(0.3498744618056759,0.05950228693030658,[0.34987446180567583,0.05950228693030658])"
      ]
     },
     "execution_count": 49,
     "metadata": {},
     "output_type": "execute_result"
    }
   ],
   "source": [
    "@time promedio(A);\n",
    "@time unalectura(A)\n",
    "promedio(A),varianza(A),unalectura(A)"
   ]
  },
  {
   "cell_type": "code",
   "execution_count": 50,
   "metadata": {
    "collapsed": false
   },
   "outputs": [
    {
     "name": "stdout",
     "output_type": "stream",
     "text": [
      "  0.000015 seconds (5 allocations: 176 bytes)\n",
      "  0.000085 seconds (7 allocations: 272 bytes)\n"
     ]
    },
    {
     "data": {
      "text/plain": [
       "(0.4996435119620689,0.08178894131047688,[0.4996435119620674,0.08178894131047719])"
      ]
     },
     "execution_count": 50,
     "metadata": {},
     "output_type": "execute_result"
    }
   ],
   "source": [
    "@time promedio(B);\n",
    "@time unalectura(B)\n",
    "promedio(B),varianza(B),unalectura(B)"
   ]
  },
  {
   "cell_type": "code",
   "execution_count": 51,
   "metadata": {
    "collapsed": false
   },
   "outputs": [
    {
     "name": "stdout",
     "output_type": "stream",
     "text": [
      "  0.003626 seconds (2.07 k allocations: 100.926 KB)\n",
      "  0.005657 seconds (4.07 k allocations: 195.758 KB)\n"
     ]
    },
    {
     "data": {
      "text/plain": [
       "(-2.0206668161687355e18,1.8154414219292594e37,[-2.0206668161687357e18,1.81544142192926e37])"
      ]
     },
     "execution_count": 51,
     "metadata": {},
     "output_type": "execute_result"
    }
   ],
   "source": [
    "@time promedio(C);\n",
    "@time unalectura(C)\n",
    "promedio(C),varianza(C),unalectura(C)"
   ]
  },
  {
   "cell_type": "code",
   "execution_count": 52,
   "metadata": {
    "collapsed": false
   },
   "outputs": [
    {
     "name": "stdout",
     "output_type": "stream",
     "text": [
      "  0.000041 seconds (5 allocations: 176 bytes)\n",
      "  0.000120 seconds (7 allocations: 272 bytes)\n"
     ]
    },
    {
     "data": {
      "text/plain": [
       "(-1.9930048420131732e16,2.827452243504636e37,[-1.99300484201316e16,2.8274522435046323e37])"
      ]
     },
     "execution_count": 52,
     "metadata": {},
     "output_type": "execute_result"
    }
   ],
   "source": [
    "@time promedio(D);\n",
    "@time unalectura(D)\n",
    "promedio(D),varianza(D),unalectura(D)"
   ]
  },
  {
   "cell_type": "code",
   "execution_count": 53,
   "metadata": {
    "collapsed": false
   },
   "outputs": [
    {
     "name": "stdout",
     "output_type": "stream",
     "text": [
      "  0.000002 seconds (5 allocations: 176 bytes)\n",
      "  0.000002 seconds (7 allocations: 272 bytes)\n"
     ]
    },
    {
     "data": {
      "text/plain": [
       "(-2.220446049250313e-16,0.0,[-2.220446049250313e-16,0.0])"
      ]
     },
     "execution_count": 53,
     "metadata": {},
     "output_type": "execute_result"
    }
   ],
   "source": [
    "@time promedio(E);\n",
    "@time unalectura(E)\n",
    "promedio(E),varianza(E),unalectura(E)"
   ]
  },
  {
   "cell_type": "code",
   "execution_count": 54,
   "metadata": {
    "collapsed": false
   },
   "outputs": [
    {
     "name": "stdout",
     "output_type": "stream",
     "text": [
      "  0.000015 seconds (5 allocations: 176 bytes)\n",
      "  0.000053 seconds (8 allocations: 288 bytes)\n"
     ]
    },
    {
     "data": {
      "text/plain": [
       "(-2.220446049250313e-16,0.0,[-2.220446049250313e-16,0.0])"
      ]
     },
     "execution_count": 54,
     "metadata": {},
     "output_type": "execute_result"
    }
   ],
   "source": [
    "@time promedio(F);\n",
    "@time unalectura(F)[1]\n",
    "promedio(F),varianza(F),unalectura(F)"
   ]
  },
  {
   "cell_type": "markdown",
   "metadata": {},
   "source": [
    "# 3. Método de Simpson para integrar"
   ]
  },
  {
   "cell_type": "markdown",
   "metadata": {},
   "source": [
    "El *método de Simpson* es un método de integración numérica para la aproximación de integrales definidas en un intervalo *(a,b)*.\n",
    "\n",
    "Sigue esta forma:\n",
    "$$\\int_a^b f(x)dx \\approx \\frac{b-a}{6}\\left[f(a)+4f\\left(\\frac{a+b}{2}\\right)+f(b)\\right]$$\n",
    "Definiremos ahora la función `simpson()` que nos permitirá aproximar la integral de cualquier función en un intervalo *(a,b)*:"
   ]
  },
  {
   "cell_type": "code",
   "execution_count": 55,
   "metadata": {
    "collapsed": false
   },
   "outputs": [
    {
     "data": {
      "text/plain": [
       "simpson (generic function with 1 method)"
      ]
     },
     "execution_count": 55,
     "metadata": {},
     "output_type": "execute_result"
    }
   ],
   "source": [
    "\"\"\"This is the Simpson's rule for numerical integration, proposed by mathematician Thomas Simpson.\n",
    "It accepts as parameters function f and two numbers a,b that define the interval inside which the integral of f will be approximated.\"\"\"\n",
    "function simpson(f::Function,a,b)\n",
    "    integral = (b-a)/6 * (f(a)+4*f((a+b)/2)+f(b));\n",
    "    return integral\n",
    "end"
   ]
  },
  {
   "cell_type": "markdown",
   "metadata": {},
   "source": [
    "Si el intervalo *(a,b)* es suficientemente pequeño, la función `simpson()` nos da una aproximación adecuada de la integral. Pero si la función no es tan *suave* en el intervalo (o es muy oscilatoria) no es suficiente esta aproximación.\n",
    "\n",
    "Así, si partimos nuestro intervalo en *n* (par) segmentos iguales, podemos hacer el método de Simpson en cada uno de esos segmentos para obtener una mejor aproximación a nuestra integral:\n",
    "$$ \\int_a^b f(x)dx \\approx \\frac{h}{3} \\left[ f(x_0) + 2 \\sum _{j=1}^{n/2-1} f(x_{2j}) + 4\\sum_{j = 1}^{n/2} f(x_{2j-1}) + f(x_n)\\right] $$"
   ]
  },
  {
   "cell_type": "markdown",
   "metadata": {},
   "source": [
    "donde $x_0 = a$ y $x_n = b$."
   ]
  },
  {
   "cell_type": "code",
   "execution_count": 56,
   "metadata": {
    "collapsed": false
   },
   "outputs": [
    {
     "data": {
      "text/plain": [
       "simpson2 (generic function with 2 methods)"
      ]
     },
     "execution_count": 56,
     "metadata": {},
     "output_type": "execute_result"
    }
   ],
   "source": [
    "\"\"\"General form of simpson(), that takes an additional input n - the number of subintervals of (a,b). Refer to ?simpson.\"\"\"\n",
    "function simpson2(f::Function,a,b,n::Int64=100)\n",
    "    \n",
    "    if n<= 0 # Chequeamos si es no positivo\n",
    "        error(\"N negativo\")\n",
    "    end\n",
    "    \n",
    "    n += n % 2; # Nos aseguramos que sea suma sobre los pares.\n",
    "    h = (b-a)/n;\n",
    "    \n",
    "    x = a+h:h:b-h; # El rango sobre el cual integraremos.\n",
    "    \n",
    "    integral = f(a)+f(b); # Fijamos el valor no iterativo de la integral.\n",
    "    \n",
    "    N = convert(Int64,(n/2)) # Convertimos el índice a entero.\n",
    "    \n",
    "    for k = 1 : (N-1) # Primer término de la suma.\n",
    "        integral += 2*f(x[2*k])\n",
    "    end\n",
    "    \n",
    "    for k = 1 : N # Segundo término de la suma.\n",
    "        integral += 4*f(x[2*k-1]) \n",
    "    end\n",
    "    \n",
    "    return integral*h/3\n",
    "end"
   ]
  },
  {
   "cell_type": "markdown",
   "metadata": {},
   "source": [
    "Definamos nuestra función prueba como $f(x) = x^2$."
   ]
  },
  {
   "cell_type": "code",
   "execution_count": 57,
   "metadata": {
    "collapsed": false
   },
   "outputs": [
    {
     "data": {
      "text/plain": [
       "f (generic function with 1 method)"
      ]
     },
     "execution_count": 57,
     "metadata": {},
     "output_type": "execute_result"
    }
   ],
   "source": [
    "f(x) = x^2"
   ]
  },
  {
   "cell_type": "markdown",
   "metadata": {},
   "source": [
    "Sabemos que la integral de $f(x) = x^2$ es $\\frac{x^3}{3}$ y, evaluada de 0 a 1, nos da un valor de $\\approx 0.333333$. Veamos si nuestra función es acertada."
   ]
  },
  {
   "cell_type": "code",
   "execution_count": 58,
   "metadata": {
    "collapsed": false
   },
   "outputs": [
    {
     "data": {
      "text/plain": [
       "0.3333333333333333"
      ]
     },
     "execution_count": 58,
     "metadata": {},
     "output_type": "execute_result"
    }
   ],
   "source": [
    "simpson2(f,0,1,100)"
   ]
  },
  {
   "cell_type": "markdown",
   "metadata": {},
   "source": [
    "Además, veamos que si tomamos el intervalo inverso (i.e., el (1,0)), nos da el negativo de la integral."
   ]
  },
  {
   "cell_type": "code",
   "execution_count": 59,
   "metadata": {
    "collapsed": false
   },
   "outputs": [
    {
     "data": {
      "text/plain": [
       "-0.3333333333333332"
      ]
     },
     "execution_count": 59,
     "metadata": {},
     "output_type": "execute_result"
    }
   ],
   "source": [
    "simpson2(f,1,0,100)"
   ]
  },
  {
   "cell_type": "markdown",
   "metadata": {},
   "source": [
    "Ahora, comparemos la eficiencia de `simpson()` con su forma generalizada `simpson2()`, para $g(x) = sin(x)$, de 0 a $\\pi$."
   ]
  },
  {
   "cell_type": "code",
   "execution_count": 60,
   "metadata": {
    "collapsed": true
   },
   "outputs": [],
   "source": [
    "g(x) = sin(x);"
   ]
  },
  {
   "cell_type": "code",
   "execution_count": 61,
   "metadata": {
    "collapsed": false
   },
   "outputs": [
    {
     "data": {
      "text/plain": [
       "2.0943951023931953"
      ]
     },
     "execution_count": 61,
     "metadata": {},
     "output_type": "execute_result"
    }
   ],
   "source": [
    "simpson(g,0,pi)"
   ]
  },
  {
   "cell_type": "code",
   "execution_count": 62,
   "metadata": {
    "collapsed": false
   },
   "outputs": [
    {
     "data": {
      "text/plain": [
       "2.000000010824504"
      ]
     },
     "execution_count": 62,
     "metadata": {},
     "output_type": "execute_result"
    }
   ],
   "source": [
    "simpson2(g,0,pi,100)"
   ]
  },
  {
   "cell_type": "markdown",
   "metadata": {},
   "source": [
    "Como vemos, en este caso `simpson2()` es MUCHO más precisa para aproximar la integral."
   ]
  }
 ],
 "metadata": {
  "kernelspec": {
   "display_name": "Julia 0.4.3",
   "language": "julia",
   "name": "julia-0.4"
  },
  "language_info": {
   "file_extension": ".jl",
   "mimetype": "application/julia",
   "name": "julia",
   "version": "0.4.3"
  }
 },
 "nbformat": 4,
 "nbformat_minor": 0
}
