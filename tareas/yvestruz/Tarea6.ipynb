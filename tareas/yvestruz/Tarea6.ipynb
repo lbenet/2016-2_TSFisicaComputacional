{
 "cells": [
  {
   "cell_type": "markdown",
   "metadata": {
    "slideshow": {
     "slide_type": "slide"
    }
   },
   "source": [
    "# Derivadas superiores"
   ]
  },
  {
   "cell_type": "markdown",
   "metadata": {},
   "source": [
    "Hasta ahora hemos visto que, usando diferenciación automática, podemos calcular la derivada de funciones de una variable esencialmente con un error del orden del epsilon de la máquina.\n",
    "\n",
    "La pregunta que abordaremos ahora, es cómo hacer para calcular la segunda derivada, y derivadas de orden superior."
   ]
  },
  {
   "cell_type": "markdown",
   "metadata": {
    "slideshow": {
     "slide_type": "subslide"
    }
   },
   "source": [
    "Una posibilidad, específica para el caso de la segunda derivada, es proceder como en el caso anterior, es decir, definir una *terna ordenada* donde la primer componente es el valor de la función en $x_0$, i.e., $f(x_0)$, el de la segunda es el valor de la primer derivada $f'(x_0)$, y la tercer componente tiene el valor de la segunda derivada, $f^{(2)}(x_0) = f''(x_0)$. \n"
   ]
  },
  {
   "cell_type": "markdown",
   "metadata": {
    "slideshow": {
     "slide_type": "subslide"
    }
   },
   "source": [
    "Con esta definición, las operaciones aritméticas vienen dadas por:\n",
    "\n",
    "\\begin{eqnarray}\n",
    "\\vec{u} + \\vec{v} & = & (u + v, \\quad u'+ v', \\quad u''+v''),\\\\\n",
    "\\vec{u} - \\vec{v} & = & (u - v, \\quad u'- v', \\quad u''-v''),\\\\\n",
    "\\vec{u} \\times \\vec{v} & = & (u v, \\quad u v' + u' v, \\quad u v'' + 2 u' v' + u'' v),\\\\\n",
    "\\frac{\\vec{u}}{\\vec{v}} & = & \\Big( \\frac{u}{v}, \\quad \\frac{u'-( u/v) v'}{v}, \\quad \n",
    "\\frac{u'' - 2 (u/v)' v' - (u/v)v'' }{v}\\Big).\\\\\n",
    "\\end{eqnarray}\n",
    "\n",
    "Claramente, este proceso es muy ineficiente para derivadas de orden aún más alto, dado que las expresiones se complican y es fácil cometer errores."
   ]
  },
  {
   "cell_type": "markdown",
   "metadata": {
    "slideshow": {
     "slide_type": "slide"
    }
   },
   "source": [
    "# Series de Taylor"
   ]
  },
  {
   "cell_type": "markdown",
   "metadata": {
    "slideshow": {
     "slide_type": "-"
    }
   },
   "source": [
    "El punto importante a recordar, es que las derivadas de orden superior de una función $f(x)$ en un punto $x_0$ están contenidas en el desarrollo de Taylor de la función entorno a ese punto. La suposición importante en esto es que $f(x)$ es suficientemente suave; por simplicidad supondremos que $f(x)$ es ${\\cal C}^\\infty$ y que estamos suficientemente cerca del punto $x_0$, i.e., $|x-x_0|\\ll 1$. \n"
   ]
  },
  {
   "cell_type": "markdown",
   "metadata": {
    "slideshow": {
     "slide_type": "subslide"
    }
   },
   "source": [
    "La serie de Taylor de $f(x)$ viene dada por\n",
    "\n",
    "\\begin{eqnarray}\n",
    "f(x) & = & f(x_0) + f^{(1)}(x_0) (x-x_0) + \\frac{f^{(2)}(x_0)}{2!} (x-x_0)^2 + \\dots + \\frac{f^{(k)}(x_0)}{k!} (x-x_0)^k + \\dots,\\\\\n",
    "& = & f_{[0]} + f_{[1]} (x-x_0) + f_{[2]} (x-x_0)^2 + \\dots + f_{[k]} (x-x_0)^k + \\dots,\\\\\n",
    "\\end{eqnarray}\n",
    "\n",
    "donde los coeficientes *normalizados* de Taylor $f_{[k]}$ que aparecen en la segunda línea de la ecuación anterior se definen como\n",
    "\n",
    "\\begin{equation}\n",
    "f_{[k]} = \\frac{f^{(k)}(x_0)}{k!} = \\frac{1}{k!}\\frac{{\\rm d}^k f}{{\\rm d}x^k}(x_0).\n",
    "\\end{equation}\n",
    "\n"
   ]
  },
  {
   "cell_type": "markdown",
   "metadata": {
    "slideshow": {
     "slide_type": "fragment"
    }
   },
   "source": [
    "Vale la pena **enfatizar** que la expresión anterior es exacta en tanto que la serie **no** sea truncada. En el caso de que la serie truncada a orden k, el [teorema de Taylor](https://en.wikipedia.org/wiki/Taylor%27s_theorem) asegura que el residuo (error del truncamiento) se puede escribir como:\n",
    "\n",
    "\\begin{equation}\n",
    "{\\cal R_{k}} = \\frac{f^{(k+1)}\\,(\\xi)}{(k+1)!} (x-x_0)^{k+1},\n",
    "\\end{equation}\n",
    "\n",
    "donde $\\xi$ es un punto que pertenece al interval $[x_0,x]$.\n"
   ]
  },
  {
   "cell_type": "markdown",
   "metadata": {
    "slideshow": {
     "slide_type": "subslide"
    }
   },
   "source": [
    "Si la serie es truncada, la aproximación es un polinomio de orden $k$ (grado máximo es $k$) en $x$. Dado que los polinomios en una variable están definidos por $k+1$ coeficientes, entonces pueden ser mapeados a vectores en $\\mathbb{R}^{k+1}$. \n",
    "\n",
    "Las operaciones aritméticas, en este caso, vienen dadas por:\n",
    "\n",
    "\\begin{eqnarray}\n",
    "(f+g)_{[k]} & = & f_{[k]} + g_{[k]} ,\\\\\n",
    "(f-g)_{[k]} & = & f_{[k]} - g_{[k]} ,\\\\\n",
    "(f \\cdot g)_{[k]} & = & \\sum_{i=0}^k f_{[i]} \\,g_{[k-i]} \\, ,\\\\\n",
    "\\Big(\\frac{f}{g}\\Big)_{[k]} & = & \\frac{1}{g_{[0]}}\n",
    "\\Big( f_{[k]} - \\sum_{i=0}^{k-1} \\big(\\frac{f}{g}\\big)_{[i]} \\, g_{[k-i]} \\Big) . \\\\\n",
    "\\end{eqnarray}"
   ]
  },
  {
   "cell_type": "markdown",
   "metadata": {
    "slideshow": {
     "slide_type": "slide"
    }
   },
   "source": [
    "### Ejercicio\n",
    "\n",
    "Implementen una nueva estructura paramétrica (`type`) que defina el tipo `Taylor`, donde el parámetro debe ser un subtipo de `Number`. Definan métodos que implementen las operaciones aritméticas básicas (`+`, `-`, `*`, `/`) y la igualdad (`==`). Esto deberá ser incluido en un módulo.\n",
    "\n",
    "Incluyan pruebas (en el archivo \"runtests.jl\") para cada uno de los métodos que implementen.\n"
   ]
  },
  {
   "cell_type": "code",
   "execution_count": 1,
   "metadata": {
    "collapsed": false
   },
   "outputs": [],
   "source": [
    "\"\"\"Definición de polinomios de Taylor, parametrizados por un subtipo de Number.\n",
    "\"\"\"\n",
    "type Taylor{T<:Number}\n",
    "    # código: \n",
    "    pol :: Array{T}\n",
    "end"
   ]
  },
  {
   "cell_type": "code",
   "execution_count": 2,
   "metadata": {
    "collapsed": false
   },
   "outputs": [
    {
     "data": {
      "text/plain": [
       "promote_rule (generic function with 125 methods)"
      ]
     },
     "execution_count": 2,
     "metadata": {},
     "output_type": "execute_result"
    }
   ],
   "source": [
    "import Base.convert\n",
    "import Base.promote_rule\n",
    "import Base.+\n",
    "\n",
    "convert{T<:Number}(::Type{Taylor{T}}, a::T) = Taylor(a)\n",
    "\n",
    "promote_rule{T<:Number, S<:Number}(::Type{Taylor{T}}, ::Type{S}) = Taylor{(promote_type)(T,S)}\n"
   ]
  },
  {
   "cell_type": "code",
   "execution_count": 3,
   "metadata": {
    "collapsed": false
   },
   "outputs": [
    {
     "data": {
      "text/plain": [
       "Taylor{T<:Number}"
      ]
     },
     "execution_count": 3,
     "metadata": {},
     "output_type": "execute_result"
    }
   ],
   "source": [
    "Taylor(a::Complex) = Taylor([a])"
   ]
  },
  {
   "cell_type": "code",
   "execution_count": 4,
   "metadata": {
    "collapsed": false
   },
   "outputs": [
    {
     "data": {
      "text/plain": [
       "gradomax (generic function with 2 methods)"
      ]
     },
     "execution_count": 4,
     "metadata": {},
     "output_type": "execute_result"
    }
   ],
   "source": [
    "\"\"\"Definimos una función que te regresa el grado máximo entre polinomios de Taylor para permitir las operaciones entre polinomios.\n",
    "De igual manera saca el grado de un solo Taylor.\n",
    "\"\"\"\n",
    "function gradomax(a::Taylor,b::Taylor)\n",
    "    return max(length(a.pol),length(b.pol))\n",
    "end\n",
    "gradomax(a::Taylor) = length(a.pol)"
   ]
  },
  {
   "cell_type": "code",
   "execution_count": 5,
   "metadata": {
    "collapsed": false
   },
   "outputs": [
    {
     "data": {
      "text/plain": [
       "prom (generic function with 3 methods)"
      ]
     },
     "execution_count": 5,
     "metadata": {},
     "output_type": "execute_result"
    }
   ],
   "source": [
    "\"\"\"Aquí definimos una función que promueve dos polinomios a un grado común.\n",
    "\"\"\"\n",
    "function prom(a::Taylor,b::Taylor = a)\n",
    "    q = [a.pol; fill(0,gradomax(a,b)-gradomax(a))]\n",
    "    return Taylor(q)\n",
    "end\n",
    "\n",
    "prom(a::Taylor,n::Integer) = prom(a,Taylor(zeros(n)))"
   ]
  },
  {
   "cell_type": "code",
   "execution_count": 6,
   "metadata": {
    "collapsed": false
   },
   "outputs": [
    {
     "data": {
      "text/plain": [
       "Taylor{T<:Number}"
      ]
     },
     "execution_count": 6,
     "metadata": {},
     "output_type": "execute_result"
    }
   ],
   "source": [
    "# Polinomio de Taylor de una constante.\n",
    "\n",
    "Taylor(a::Number) = Taylor([a])"
   ]
  },
  {
   "cell_type": "code",
   "execution_count": 7,
   "metadata": {
    "collapsed": false,
    "scrolled": true
   },
   "outputs": [
    {
     "data": {
      "text/plain": [
       "== (generic function with 110 methods)"
      ]
     },
     "execution_count": 7,
     "metadata": {},
     "output_type": "execute_result"
    }
   ],
   "source": [
    "import Base: +, -, *, ^, /, ==\n",
    "\n",
    "# Aquí se implementan los métodos necesarios para la suma\n",
    "+(a::Taylor, b::Taylor) = Taylor(prom(a,b).pol+prom(b,a).pol)\n",
    "+(a::Taylor, k::Number) = a + Taylor(k)\n",
    "+(k::Number, a::Taylor) = a + Taylor(k)\n",
    "\n",
    "# Aquí los necesarios para la resta\n",
    "-(a::Taylor, b::Taylor) = Taylor(prom(a,b).pol-prom(b,a).pol)\n",
    "-(a::Taylor, k::Number) = a - Taylor(k)\n",
    "-(k::Number, a::Taylor) = Taylor(k) - a\n",
    "-(a::Taylor) = Taylor(-a.pol)\n",
    "\n",
    "# Para la multiplicación de polinomios se optó por definir explícitamente la función.\n",
    "function *(a::Taylor, b::Taylor)\n",
    "    n = gradomax(a)+ gradomax(b)-1;\n",
    "    r = Taylor(zeros(n));\n",
    "    \n",
    "    A = prom(a,r);\n",
    "    B = prom(b,r)\n",
    "    \n",
    "    for k = 0:n-1\n",
    "        suma = 0;\n",
    "        \n",
    "        for j = 0:k\n",
    "            suma += A.pol[j+1]*B.pol[k-j+1];\n",
    "        end\n",
    "        r.pol[k+1] = suma;\n",
    "\n",
    "    end\n",
    "    \n",
    "    return r\n",
    "end\n",
    "*(a::Taylor, k::Number) = Taylor(k*a.pol)\n",
    "*(k::Number, a::Taylor) = Taylor(k*a.pol)\n",
    "\n",
    "# Para la división se optó por un procedimiento similar.\n",
    "\n",
    "\n",
    "# Igualdad\n",
    "==(a::Taylor, b::Taylor) = a.pol == b.pol"
   ]
  },
  {
   "cell_type": "markdown",
   "metadata": {},
   "source": [
    "Para la división se optó por un procedimiento similar, pero se obtuvieron los términos de foma iterada. Se definió la función $h(x)=\\frac{f(x)}{g(x)}$. Con esto $f(x)=h(x)*g(x)$, por lo que ahora se puede escribir el polinomio de Taylor (truncado) de f en términos del producto de los de h y g. Esto está dado por \n",
    "\n",
    "\\begin{eqnarray}\n",
    "f_{[k]}& = &(h \\cdot g)_{[k]} & = & \\sum_{i=0}^k h_{[k-i]} \\,g_{[i]} \\, \\\\\n",
    "\\end{eqnarray}\n",
    "\n",
    "Para encontrar el primer término del polinomio de h, se separa la suma de la manera siguiente:\n",
    "\n",
    "\n",
    "\\begin{eqnarray}\n",
    "f_{[k]}& = &(h \\cdot g)_{[k]} & = & \\ g_{[s]}h_{[k-s]}\\ + \\sum_{i=s+1}^k h_{[k-i]} \\,g_{[i]} & \\implies & \n",
    "h_{[k-s]}=\\frac{1}{g_{[s]}}\\Big[f_{[k]}-\\sum_{i=s+1}^k h_{[k-i]} \\,g_{[i]}\\Big], \\\\\n",
    "\\end{eqnarray}\n",
    "\n",
    "donde $s$ es el índice el primer término no cero del polinomio de Taylor. \n",
    "\n",
    "Lo que optamos por hacer primero fue calcular $(1/g)_{[k]}$ y calcular $(f/g)_{[k]}$ a partir de eso.\n",
    "\n",
    "\n",
    "... ***CHORO*** ya lo hicimos directo."
   ]
  },
  {
   "cell_type": "code",
   "execution_count": 8,
   "metadata": {
    "collapsed": false,
    "scrolled": false
   },
   "outputs": [
    {
     "data": {
      "text/plain": [
       "div_ex (generic function with 3 methods)"
      ]
     },
     "execution_count": 8,
     "metadata": {},
     "output_type": "execute_result"
    }
   ],
   "source": [
    "function /(A::Taylor, B::Taylor)\n",
    "    a = prom(A,B);\n",
    "    b = prom(B,A);\n",
    "    \n",
    "    n = gradomax(a);\n",
    "\n",
    "    r = Taylor(zeros(n));\n",
    "    s = 1; # índice desde donde empezamos\n",
    "\n",
    "    while b.pol[s] == 0 # checamos si el primer término no es nulo\n",
    "        s += 1;\n",
    "    end\n",
    "\n",
    "    r.pol[1] = a.pol[s]/b.pol[s];\n",
    "\n",
    "    for k = (s+1):n\n",
    "        suma = 0;\n",
    "        \n",
    "        for j = 0:k-1\n",
    "            suma += r.pol[j+1]*b.pol[k-j]\n",
    "        end\n",
    "\n",
    "        r.pol[k-s+1] = (a.pol[k]-suma)/b.pol[s];\n",
    "    end\n",
    "    return r\n",
    "end\n",
    "/(a::Taylor, k::Number) = Taylor(a.pol/k);\n",
    "/(k::Number, a::Taylor) = Taylor(k)/a\n",
    "div_ex(a::Taylor, b::Taylor, n::Integer) = prom(a,n)/prom(b,n)\n",
    "div_ex(a::Taylor, k::Number, n::Integer) = prom(a,n)/k\n",
    "div_ex(k::Number, a::Taylor, n::Integer) = Taylor(k)/prom(a,n)"
   ]
  },
  {
   "cell_type": "markdown",
   "metadata": {},
   "source": [
    "Definimos además la función `div_ex` que nos da la división de estructuras Taylor para n términos."
   ]
  },
  {
   "cell_type": "markdown",
   "metadata": {},
   "source": [
    "Probemos ahora con $b(x) = x^4$ y $a(x) = x^2$."
   ]
  },
  {
   "cell_type": "code",
   "execution_count": 9,
   "metadata": {
    "collapsed": false
   },
   "outputs": [
    {
     "data": {
      "text/plain": [
       "Taylor{Float64}([0.0,0.0,1.0,0.0,0.0])"
      ]
     },
     "execution_count": 9,
     "metadata": {},
     "output_type": "execute_result"
    }
   ],
   "source": [
    "a = Taylor([0,0,1,0,0]);\n",
    "b = Taylor([0,0,0,0,1]);\n",
    "b/a"
   ]
  },
  {
   "cell_type": "code",
   "execution_count": 10,
   "metadata": {
    "collapsed": true,
    "slideshow": {
     "slide_type": "-"
    }
   },
   "outputs": [],
   "source": [
    "# Muestren que su código funciona con tests adecuados; para los detalles ver \n",
    "# http://julia.readthedocs.org/en/release-0.4/stdlib/test/\n",
    "using Base.Test\n"
   ]
  },
  {
   "cell_type": "markdown",
   "metadata": {
    "slideshow": {
     "slide_type": "slide"
    }
   },
   "source": [
    "# Funciones de polinomios"
   ]
  },
  {
   "cell_type": "markdown",
   "metadata": {},
   "source": [
    "El siguiente punto, es cómo definir funciones de polinomios. \n",
    "\n",
    "Como veremos aquí, esto se basará en plantear una ecuación diferencial apropiada, cuya solución es, precisamente, la expresión que estamos buscando. Este punto es *importante*, y muestra que hay una conexión importante con la solución de ecuaciones diferenciales."
   ]
  },
  {
   "cell_type": "markdown",
   "metadata": {
    "slideshow": {
     "slide_type": "subslide"
    }
   },
   "source": [
    "Como ejemplo consideraremos la función\n",
    "\n",
    "\\begin{equation}\n",
    "E(x) = \\exp\\big(g(x)\\big),\n",
    "\\end{equation}\n",
    "\n",
    "donde \n",
    "\n",
    "\\begin{equation}\n",
    "g(x) = \\sum_{k=0}^\\infty g_{[k]} (x-x_0)^k\n",
    "\\end{equation}\n",
    "\n",
    "está escrita como una serie de Taylor (¡exacta!) alrededor de $x_0$. \n"
   ]
  },
  {
   "cell_type": "markdown",
   "metadata": {},
   "source": [
    "El primer punto, es que escribiremos a $E(x)$ como una serie de Taylor alrededor de $x_0$, es decir,\n",
    "\n",
    "\\begin{equation}\n",
    "E(x) = \\sum_{k=0}^\\infty E_{[k]} (x-x_0)^k.\n",
    "\\end{equation}\n",
    "\n",
    "El objetivo es determinar $E_{[k]}$ para *toda* $k$.\n",
    "\n",
    "Dado que $E(x)$ esun polinomio en $x$, su derivada viene dada por\n",
    "\n",
    "\\begin{equation}\n",
    "\\frac{{\\rm d} E(x)}{{\\rm d}x} = \\sum_{k=1}^\\infty k E_{[k]}\\, (x-x_0)^{k-1} .\n",
    "\\end{equation}"
   ]
  },
  {
   "cell_type": "markdown",
   "metadata": {},
   "source": [
    "Por otra parte, la derivada de $E(x)$ en términos de $g(x)$ está dada por\n",
    "\n",
    "\\begin{equation}\n",
    "\\frac{{\\rm d} E(x)}{{\\rm d}x} = \\exp\\big(g(x)\\big) \\frac{{\\rm d} g(x)}{{\\rm d}x} = E(x) \\frac{{\\rm d} g(x)}{{\\rm d}x},\n",
    "\\end{equation}\n",
    "\n",
    "donde del lado derecho aparece la derivada de $g(x)$. Ya que $g(x)$ *también* está escrita en forma polinomial, su derivada es\n",
    "\n",
    "\\begin{equation}\n",
    "\\frac{{\\rm d} g(x)}{{\\rm d}x} = \\sum_{k=1}^\\infty k g_{[k]}\\, (x-x_0)^{k-1} .\n",
    "\\end{equation}\n"
   ]
  },
  {
   "cell_type": "markdown",
   "metadata": {
    "slideshow": {
     "slide_type": "subslide"
    }
   },
   "source": [
    "Tenemos, entonces, todo lo que requerimos para escribir el lado derecho de la ecuación diferencial y explotar la aritmética de polinomios. \n",
    "\n",
    "\\begin{eqnarray}\n",
    "E(x) \\frac{{\\rm d} g(x)}{{\\rm d}x}& = & \n",
    "\\Big[ \\sum_{k=0}^\\infty E_{[k]} (x-x_0)^k \\Big]\n",
    "\\Big[ \\sum_{j=1}^\\infty j g_{[j]} (x-x_0)^{j-1}\\Big] \\\\\n",
    " & = & \\sum_{k=1}^\\infty \\Big[ \\sum_{j=0}^k j g_{[j]} E_{[k-j]} \\; \\Big] (x-x_0)^{k-1} .\\\\\n",
    "\\end{eqnarray}\n",
    "\n",
    "La segunda línea se obtiene reordenando los términos al fijar la potencia de $(x-x_0)$, esto es, $k+j$ se toma como un nuevo índice ($k$), y el nuevo índice $j$ describe el índice del producto de los polinomios. (La potencia se deja de la forma $k-1$ ya que el lado izquierdo de la ecuación aparece así.)"
   ]
  },
  {
   "cell_type": "markdown",
   "metadata": {},
   "source": [
    "Igualando con el lado izquierdo de la ecuación diferencial, que sólo involucra a la derivada de $E(x)$, tenemos que se debe cumplir\n",
    "\n",
    "\\begin{equation}\n",
    "E_{[k]} = \\frac{1}{k} \\sum_{j=0}^k j g_{[j]} \\, E_{[k-j]} = \n",
    "\\frac{1}{k} \\sum_{j=0}^{k} (k-j) g_{[k-j]} \\, E_{[j]}, \\qquad k=1,2,\\dots,\n",
    "\\end{equation}\n",
    "\n",
    "incluyendo *la condición inicial*\n",
    "\n",
    "\\begin{equation}\n",
    "E_{[0]} = \\exp\\big(g(x_0)\\big).\n",
    "\\end{equation}\n",
    "\n",
    "Estas relaciones *de recurrencia* permiten calcular $\\exp\\big(g(x)\\big)$, para cualquier polinomio $g(x)$."
   ]
  },
  {
   "cell_type": "markdown",
   "metadata": {},
   "source": [
    "Para el caso concreto $g(x) = x$ alrededor de $x_0=0$, donde tenemos $g_{[j]} = \\delta_{j,1}$, obtenemos\n",
    "\n",
    "\\begin{eqnarray}\n",
    "E_{[0]} & = & 1,\\\\\n",
    "E_{[k]} & = & \\frac{1}{k} E_{[k-1]} = \\frac{1}{k(k-1)} E_{[k-2]} = \\dots = \\frac{1}{k!} E_{[0]} = \\frac{1}{k!}\\ ,\n",
    "\\end{eqnarray}\n",
    "\n",
    "que es el resultado bien conocido."
   ]
  },
  {
   "cell_type": "markdown",
   "metadata": {
    "slideshow": {
     "slide_type": "subslide"
    }
   },
   "source": [
    "### Ejercicio\n",
    "\n",
    "Obtengan las relaciones de recurrencia para las funciones $L(x) = \\log\\big(g(x)\\big)$, $P_\\alpha(x) = \\big(g(x)\\big)^\\alpha$, $S(x) = \\sin\\big(g(x)\\big)$, $C(x) = \\cos\\big(g(x)\\big)$ usando el mismo procedimiento que arriba. Implementen métodos adecuados para estas funciones en el módulo, actuando sobre estructuras `Taylor` e incluyan pruebas."
   ]
  },
  {
   "cell_type": "markdown",
   "metadata": {},
   "source": [
    "Definí la función de evaluación de una estructura Taylor en un punto $x_0$ porque pensé que la iba a necesitar más tarde - cosa que no fue el caso, pero no le hace daño a nadie así que la dejo."
   ]
  },
  {
   "cell_type": "code",
   "execution_count": 11,
   "metadata": {
    "collapsed": false
   },
   "outputs": [
    {
     "data": {
      "text/plain": [
       "evaluar (generic function with 1 method)"
      ]
     },
     "execution_count": 11,
     "metadata": {},
     "output_type": "execute_result"
    }
   ],
   "source": [
    "\"\"\"Función que evalúa un Taylor en el punto x0 (debe ser cercano al punto alrededor del que se construye el polinomio de Taylor)\n",
    "\"\"\"\n",
    "function evaluar(a::Taylor,x0)\n",
    "    n = gradomax(a);\n",
    "    ex = :(0)\n",
    "    \n",
    "    for k = 1:n\n",
    "        ex = :($ex + $a.pol[$k]*$x0^$(k-1))\n",
    "    end\n",
    "    return eval(ex)\n",
    "end"
   ]
  },
  {
   "cell_type": "code",
   "execution_count": 12,
   "metadata": {
    "collapsed": false
   },
   "outputs": [
    {
     "data": {
      "text/plain": [
       "exp (generic function with 14 methods)"
      ]
     },
     "execution_count": 12,
     "metadata": {},
     "output_type": "execute_result"
    }
   ],
   "source": [
    "import Base: exp\n",
    "\n",
    "# Definimos el exponencial de una estructura de Taylor\n",
    "function exp(a::Taylor)\n",
    "    n = gradomax(a); # grado máximo\n",
    "    \n",
    "    exp_t = Taylor(zeros(n)); # prealocación de memoria\n",
    "    exp_t.pol[1] = exp(a.pol[1]); # definimos el primer elemento de la serie\n",
    "    \n",
    "    for k = 2:n\n",
    "        suma = 0;\n",
    "        for j = 1:k\n",
    "            suma += (k-j)*a.pol[k-j+1]*exp_t.pol[j];\n",
    "        end\n",
    "        exp_t.pol[k] = suma*(1/(k-1));\n",
    "    end\n",
    "    \n",
    "    return exp_t \n",
    "end\n",
    "exp(a::Taylor,n::Integer) = exp(prom(a,n))"
   ]
  },
  {
   "cell_type": "markdown",
   "metadata": {},
   "source": [
    "Revisemos la expansión de $e^x$ alrededor del 0 para 5 términos (polinomio de orden 4):"
   ]
  },
  {
   "cell_type": "code",
   "execution_count": 13,
   "metadata": {
    "collapsed": false
   },
   "outputs": [
    {
     "data": {
      "text/plain": [
       "Taylor{Float64}([1.0,1.0,0.5,0.16666666666666666,0.041666666666666664])"
      ]
     },
     "execution_count": 13,
     "metadata": {},
     "output_type": "execute_result"
    }
   ],
   "source": [
    "exp(Taylor([0,1]), 5)"
   ]
  },
  {
   "cell_type": "markdown",
   "metadata": {},
   "source": [
    "Veamos si funciona con un ejemplo sencillo. Definimos $ q(x) = \\pi + 2x + ex^2 $$.\n",
    "\n",
    "De acuerdo a nuestros súper cálculos hechos en papel, la expansión de Taylor de la exponencial es\n",
    "$$exp(q(x)) = e^\\pi + 2e^\\pi x + e^\\pi (2+e) x^2+ O(x^3) $$\n",
    "(fácilmente comprobable con [WolframAlpha](http://bit.ly/1qmS7pA))\n",
    "\n",
    "Si ahora calculamos su exponencial, vemos que es cierto."
   ]
  },
  {
   "cell_type": "code",
   "execution_count": 14,
   "metadata": {
    "collapsed": false
   },
   "outputs": [
    {
     "data": {
      "text/plain": [
       "Taylor{Float64}([23.140692632779267,46.281385265558534,109.18430954719852])"
      ]
     },
     "execution_count": 14,
     "metadata": {},
     "output_type": "execute_result"
    }
   ],
   "source": [
    "q = Taylor([π,2,e]);\n",
    "exp(q)"
   ]
  },
  {
   "cell_type": "markdown",
   "metadata": {},
   "source": [
    "Para el logaritmo hacemos un proceso similar. Tenemos a $g(x)$ dada por su expansión de Taylor alrededor de $x_0$, así:\n",
    "\n",
    "$$L(x) = log(g(x)) = \\sum_{k = 0}^{\\infty} L_k(x-x_0)^k$$\n",
    "$$ \\Rightarrow \\frac{d}{dx}L(x) = \\sum_{k = 1}^{\\infty} k L_k(x-x_0)^{k-1} = \\frac{1}{g(x)}\\frac{d}{dx}g(x) = \\frac{\\sum_{k = 1}^{\\infty} k g_k(x-x_0)^{k-1}}{\\sum_{l = 0}^{\\infty}g_l(x-x_0)^l}$$ de donde se puede obtener el k-ésimo término a partir de la relación de recurrencia para la división, con la condición de que $L_0 = log(g_0)$.\n",
    "\n",
    "Hacemos un mismo análisis que para la división (el de checar si el primer elemento de $g$ es nulo) y el k-ésimo (empezando en 1) término queda dado por:"
   ]
  },
  {
   "cell_type": "markdown",
   "metadata": {},
   "source": [
    "$$L_k = \\frac{1}{g_1(k-1)}\\left(kg_{k+1} - \\sum_{j=2}^{k}g_j(k-j)L_{k-j+1}\\right)$$"
   ]
  },
  {
   "cell_type": "code",
   "execution_count": 15,
   "metadata": {
    "collapsed": false
   },
   "outputs": [
    {
     "data": {
      "text/plain": [
       "log (generic function with 21 methods)"
      ]
     },
     "execution_count": 15,
     "metadata": {},
     "output_type": "execute_result"
    }
   ],
   "source": [
    "import Base: log\n",
    "\n",
    "function log(a::Taylor)\n",
    "    n = gradomax(a); # grado máximo\n",
    "\n",
    "    L = Taylor(zeros(n));\n",
    "    L.pol[1] = log(a.pol[1]);\n",
    "\n",
    "    s = 1; # índice desde donde empezamos\n",
    "    while a.pol[s] == 0\n",
    "        s += 1\n",
    "    end\n",
    "    \n",
    "    for k = (s+1):n\n",
    "        suma = 0;\n",
    "        \n",
    "        for j = (s+1): k\n",
    "            suma += (j-1)*L.pol[j]*a.pol[k-j+1];\n",
    "        end\n",
    "        L.pol[k] = (1/a.pol[s])*(a.pol[k]-suma/(k-s))\n",
    "    end\n",
    "    \n",
    "    return L\n",
    "end\n",
    "log(a::Taylor, n::Integer) = log(prom(a,n))"
   ]
  },
  {
   "cell_type": "markdown",
   "metadata": {},
   "source": [
    "Podemos ver la expansión de $log(x+1)$ alrededor del 0 para 10 términos:"
   ]
  },
  {
   "cell_type": "code",
   "execution_count": 16,
   "metadata": {
    "collapsed": false
   },
   "outputs": [
    {
     "data": {
      "text/plain": [
       "Taylor{Float64}([0.0,1.0,-0.5,0.3333333333333333,-0.25,0.2,-0.16666666666666666,0.14285714285714285,-0.125,0.1111111111111111])"
      ]
     },
     "execution_count": 16,
     "metadata": {},
     "output_type": "execute_result"
    }
   ],
   "source": [
    "log(Taylor([1,1]),10)"
   ]
  },
  {
   "cell_type": "markdown",
   "metadata": {
    "collapsed": false
   },
   "source": [
    "Probemos ahora con $b(x) = 9 - (πe)x^3$, de quien la expansión de Taylor del logaritmo (alrededor del 0) queda como:\n",
    "\n",
    "$$ log(b(x)) = log(9) - \\frac{\\pi e}{9}x^3 + O(x^5) $$\n",
    "\n",
    "[Misma historia](http://bit.ly/1WqoujE). Haciéndolo con nuestro método:"
   ]
  },
  {
   "cell_type": "code",
   "execution_count": 17,
   "metadata": {
    "collapsed": false,
    "scrolled": false
   },
   "outputs": [
    {
     "data": {
      "text/plain": [
       "Taylor{Float64}([2.1972245773362196,0.0,0.0,-0.9488593580748406])"
      ]
     },
     "execution_count": 17,
     "metadata": {},
     "output_type": "execute_result"
    }
   ],
   "source": [
    "b = Taylor([9,0,0,-π*e])\n",
    "log(b)"
   ]
  },
  {
   "cell_type": "markdown",
   "metadata": {},
   "source": [
    "Notemos que, dado que no tenemos más herramientas, la expansión de Taylor se hace alrededor de 0."
   ]
  },
  {
   "cell_type": "markdown",
   "metadata": {},
   "source": [
    "Verificamos que la exponencial y el logaritmo **sí** son inversas."
   ]
  },
  {
   "cell_type": "code",
   "execution_count": 18,
   "metadata": {
    "collapsed": false,
    "scrolled": true
   },
   "outputs": [],
   "source": [
    "@test exp(log(q)) == q"
   ]
  },
  {
   "cell_type": "code",
   "execution_count": 19,
   "metadata": {
    "collapsed": false
   },
   "outputs": [
    {
     "data": {
      "text/plain": [
       "^ (generic function with 46 methods)"
      ]
     },
     "execution_count": 19,
     "metadata": {},
     "output_type": "execute_result"
    }
   ],
   "source": [
    "# Definimos la potenciación de estructuras Taylor para exponentes enteros, con metaprogramming.\n",
    "\n",
    "function ^(a::Taylor, n::Integer)\n",
    "    if n != 0\n",
    "        ex = :($a)\n",
    "        k = 1;\n",
    "        while k < n\n",
    "            ex = :($ex * $a)\n",
    "            k += 1\n",
    "        end\n",
    "        return eval(ex)\n",
    "    else\n",
    "        return Taylor(ones(1))\n",
    "    end\n",
    "end"
   ]
  },
  {
   "cell_type": "code",
   "execution_count": 20,
   "metadata": {
    "collapsed": false,
    "scrolled": true
   },
   "outputs": [
    {
     "data": {
      "text/plain": [
       "^ (generic function with 47 methods)"
      ]
     },
     "execution_count": 20,
     "metadata": {},
     "output_type": "execute_result"
    }
   ],
   "source": [
    "import Base: ^\n",
    "#definimos ^ para cualquier número\n",
    "^(a::Taylor, n::Number) = Taylor(exp(n*log(a)))\n"
   ]
  },
  {
   "cell_type": "markdown",
   "metadata": {},
   "source": [
    "Ahora aprovechamos la definición de la potencia para estructuras Taylor para hacer la serie de S "
   ]
  },
  {
   "cell_type": "code",
   "execution_count": 21,
   "metadata": {
    "collapsed": false
   },
   "outputs": [
    {
     "data": {
      "text/plain": [
       "cos (generic function with 12 methods)"
      ]
     },
     "execution_count": 21,
     "metadata": {},
     "output_type": "execute_result"
    }
   ],
   "source": [
    "import Base: sin,cos\n",
    "\n",
    "function sin(a::Taylor)\n",
    "    n = gradomax(a);\n",
    "    S = Taylor(zeros(n));\n",
    "    for k = 0:9\n",
    "        S += (-1)^k * a^(2*k+1) /factorial(2*k + 1);\n",
    "    end\n",
    "    return S\n",
    "end\n",
    "\n",
    "function cos(a::Taylor)\n",
    "    n = gradomax(a);\n",
    "        C = Taylor(zeros(n))\n",
    "        for k = 0:9\n",
    "            C += (-1)^k * a^(2*k) / factorial(2*k);\n",
    "        end\n",
    "    return C \n",
    "end"
   ]
  },
  {
   "cell_type": "markdown",
   "metadata": {},
   "source": [
    "**NOTA** Los ejercicios de este notebook constituyen el contenido de la Tarea6."
   ]
  }
 ],
 "metadata": {
  "celltoolbar": "Slideshow",
  "kernelspec": {
   "display_name": "Julia 0.4.3",
   "language": "julia",
   "name": "julia-0.4"
  },
  "language_info": {
   "file_extension": ".jl",
   "mimetype": "application/julia",
   "name": "julia",
   "version": "0.4.3"
  }
 },
 "nbformat": 4,
 "nbformat_minor": 0
}
