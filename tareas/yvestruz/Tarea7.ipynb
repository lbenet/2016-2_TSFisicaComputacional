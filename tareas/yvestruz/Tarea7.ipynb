{
 "cells": [
  {
   "cell_type": "markdown",
   "metadata": {
    "slideshow": {
     "slide_type": "slide"
    }
   },
   "source": [
    "# Integración por Taylor"
   ]
  },
  {
   "cell_type": "markdown",
   "metadata": {
    "slideshow": {
     "slide_type": "-"
    }
   },
   "source": [
    "Aquí veremos un ejemplo sencillo de cómo integrar usando el método de Tayor en un problema de valor inicial, o sea, para una ecuación diferencial ordinaria con una condición inicial."
   ]
  },
  {
   "cell_type": "markdown",
   "metadata": {
    "slideshow": {
     "slide_type": "subslide"
    }
   },
   "source": [
    "El punto de partida, y *absolutamente importante* en todo lo que sigue, es el [Teorema Fundamental de las Ecuaciones Diferenciales Ordinarias](https://en.wikipedia.org/wiki/Picard%E2%80%93Lindel%C3%B6f_theorem), (o teorema de existencia y unicidad de las EDOs):\n",
    "\n",
    "#### Teorema\n",
    "\n",
    "Consideren el problema de valores iniciales $y'(t)=f(t,y(t)),\\ y(t_0)=y_0$. Suponemos que $f(t,y)$ es Lipschitz uniformemente continua en $y$ (lo que significa que hay una constante, independiente de $t$, que acota $f$ para todo intervalo de su dominio) y continua en $t$. Entonces, para algún valor $\\varepsilon > 0$ existe una solución única $y(t)$ al problema de valor inicial en el intervalo $[t_0-\\varepsilon, t_0+\\varepsilon]$.\n",
    "\n",
    "**Importante:** El teorema establece la existencia y unicidad de la solución en un intervalo de $t$ en torno al valor $t_0$ que especifica la condición inicial. Esto, sin embargo, **no** implica que la solución exista para todo tiempo $t>t_0$."
   ]
  },
  {
   "cell_type": "markdown",
   "metadata": {
    "slideshow": {
     "slide_type": "slide"
    }
   },
   "source": [
    "## Un ejemplo sencillo"
   ]
  },
  {
   "cell_type": "markdown",
   "metadata": {
    "slideshow": {
     "slide_type": "-"
    }
   },
   "source": [
    "El método de Taylor lo describiremos a través de un ejemplo. Concretamente, ilustraremos como integrar la ecuación diferencial\n",
    "\n",
    "\\begin{equation}\n",
    "\\dot{x} = f(x) = x^2,\n",
    "\\end{equation}\n",
    "\n",
    "con $x(0) = 3$."
   ]
  },
  {
   "cell_type": "markdown",
   "metadata": {
    "slideshow": {
     "slide_type": "subslide"
    }
   },
   "source": [
    "Antes de describir el método, vale la pena notar que esta ecuación la podemos resolver analíticamente. La solución, como se puede comprobar rápidamente es\n",
    "\n",
    "\\begin{equation}\n",
    "x(t) = \\frac{3}{1-3t}.\n",
    "\\end{equation}\n",
    "\n",
    "Esta solución muestra que $x(t)\\to\\infty$ cuando $t\\to 1/3$; esto es un ejemplo de que la solución $x(t)$ **no existe** para $t>1/3$. \n"
   ]
  },
  {
   "cell_type": "markdown",
   "metadata": {
    "slideshow": {
     "slide_type": "fragment"
    }
   },
   "source": [
    "El punto importante de este comentario es que, sin importar el método de integración, si hiciéramos una integración \"larga\" usando un *paso de integración constante* (o sea, a partir de $x(t_k)$ obtenemos $x(t_{k+1})$, con $t_{k+1} = t_0 + (k+1)\\delta t = t_k + \\delta t$), el método continuará la integración más allá de $t=1/3$, que es hasta donde tiene sentido la solución, a menos de que tengamos la buena fortuna de caer exactamente en $t_n=1$. Esto es una *advertencia* de que uno debe ser extremandamente cuidadoso si considera pasos de integración constantes. \n",
    "\n",
    "Sin embargo, si tenemos un método de integración con paso adaptativo, hay esperanza de que este problema no ocurra.\n"
   ]
  },
  {
   "cell_type": "markdown",
   "metadata": {
    "slideshow": {
     "slide_type": "subslide"
    }
   },
   "source": [
    "La idea del método de Taylor es construir una solución (local en $t$) que aproxime muy bien la solución de la ecuación diferencial en alguna vecindad del punto inicial $t_0$. En particular, escribimos el polinomios (en torno a $t_0$), esto es\n",
    "\n",
    "\\begin{equation}\n",
    "x(t) = \\sum_{k=0}^\\infty x_{[k]}(t_0)\\, (t-t_0)^k,\n",
    "\\end{equation}\n",
    "\n",
    "donde $x_{[k]}(t_0)$ es el coeficiente de Taylor de orden $k$. Esta solución cumple la condición inicial imponiendo $x_{[0]}(t_0) = x_0$. \n",
    "Excepto por $x_{[0]}(t_0)$, el resto de los coeficientes del desarrollo son por determinar, cosa que haremos iterativamente. \n",
    "\n",
    "Empezaremos considerando que $p$ es infinito, o sea, construiremos la solución analítica; después entraremos en las sutilezas de tener aproximaciones de orden finito."
   ]
  },
  {
   "cell_type": "markdown",
   "metadata": {
    "slideshow": {
     "slide_type": "subslide"
    }
   },
   "source": [
    "### Solución a primer orden"
   ]
  },
  {
   "cell_type": "markdown",
   "metadata": {
    "slideshow": {
     "slide_type": "-"
    }
   },
   "source": [
    "Escribimos, como aproximación de primer orden a la solución en la forma $x(t) = x_0 + x{[1]}(t_0)\\, (t-t_0) + \\mathcal{O}((t-t_0)^2)$, y queremos obtener el valor de $x_{[1]}(t_0)$. De aquí, tenemos que $\\dot{x} = x{[1]}+ \\mathcal{O}((t-t_0))$, y sustituyendo en ambos lados de la ecuación diferencial obtenemos\n",
    "\n",
    "\\begin{eqnarray}\n",
    "x{[1]} + \\mathcal{O}((t-t_0)) & = & \\big[x_0 + x{[1]}(t_0)\\, (t-t_0) + \\mathcal{O}((t-t_0)^2)\\big]^2 \\\\\n",
    "& = & x_0^2 + \\mathcal{O}((t-t_0)).\n",
    "\\end{eqnarray}\n",
    "\n",
    "De aquí concluimos que $x_{[1]}=x_0^2$.\n",
    "\n",
    "Es importante notar que **no** necesitamos hacer el cálculo explícito del cuadrado de todo el polinomio; *únicamente* calculamos (y usamos) el término de orden cero en el lado derecho de la ecuación."
   ]
  },
  {
   "cell_type": "markdown",
   "metadata": {
    "slideshow": {
     "slide_type": "subslide"
    }
   },
   "source": [
    "### Solución a segundo orden y órdenes mayores"
   ]
  },
  {
   "cell_type": "markdown",
   "metadata": {},
   "source": [
    "Para la aproximación a segundo orden escribimos $x(t) = x_0 + x_0^2 (t-t_0) + x{[2]}(t-t_0)^2+\\mathcal{O}((t-t_0)^3)$, donde queremos obtener $x_{[2]}(t_0)$. En este caso, la derivada es $\\dot{x} = x_0^2 + x_{[2]}(t_0)\\,(t-t_0) + \\mathcal{O}((t-t_0)^2)$, y sustituyendo nuevamente en la ecuación diferencial obtenemos\n",
    "\n",
    "\\begin{eqnarray}\n",
    "x_0^2 + 2 x_{[2]}(t_0)\\,(t-t_0) + \\mathcal{O}((t-t_0)^2) & = & \\big[x_0 + x_0^2 (t-t_0) + x{[2]}(t-t_0)^2+\\mathcal{O}((t-t_0)^3)\\big]^2 \\\\\n",
    "& = & x_0^2 + 2 x_0^3 (t-t_0) + \\mathcal{O}((t-t_0)^2).\n",
    "\\end{eqnarray}\n",
    "\n",
    "De aquí obtenemos $x_{[2]}(t_0) = x_0^3$. Nuevamente, vale la pena enfatizar que el lado derecho de la ecuación sólo se calcula a primer orden."
   ]
  },
  {
   "cell_type": "markdown",
   "metadata": {
    "slideshow": {
     "slide_type": "subslide"
    }
   },
   "source": [
    "Para órdenes más altos, uno continua de igual manera: $x(t) = x_0 + x_0^2 (t-t_0) + x_0^3 (t-t_0)^2+ x{[3]}(t-t_0)^3+\\mathcal{O}((t-t_0)^4)$, y al derivar y substituir $x^2$, se obtiene $x{[3]}(t_0)=x_0^4$. Y así se continua sucesivamente.\n",
    "\n",
    "Finalmente, se obtiene que\n",
    "\n",
    "\\begin{eqnarray}\n",
    "x(t) & = & x_0 + x_0^2 (t-t_0) + x_0^3 (t-t_0)^2 + x_0^4 (t-t_0)^3 + \\dots \\\\\n",
    "     & = & x_0 \\big(1 + x_0 (t-t_0) + x_0^2 (t-t_0)^2 + \\dots\\big) = \\frac{x_0}{1-x_0(t-t_0)},\\\\\n",
    "\\end{eqnarray}\n",
    "\n",
    "donde $t$ está limitado por $t - t_0 = 1/x_0$. Esto coincide con el resultado analítico que se espera.\n",
    "\n",
    "Vale la pena notar que, para que la serie converja absolutamente, se requiere que los términos sucesivos satisfagan ($t>t_0$)\n",
    "\n",
    "\\begin{equation}\n",
    "\\Big | \\frac{ x_{[n]}(t_0)\\, (t-t_0)^n }{x_{[n+1]}(t_0)\\, (t-t_0)^{n+1}}\\Big| = \\frac{1}{|x_0|(t-t_0)} < 1,\n",
    "\\end{equation}\n",
    "\n",
    "lo que define el radio de convergencia en $t$ de la serie."
   ]
  },
  {
   "cell_type": "markdown",
   "metadata": {
    "slideshow": {
     "slide_type": "subslide"
    }
   },
   "source": [
    "## El método de Taylor"
   ]
  },
  {
   "cell_type": "markdown",
   "metadata": {},
   "source": [
    "### Relaciones de recurrencia de los coeficientes de Taylor"
   ]
  },
  {
   "cell_type": "markdown",
   "metadata": {
    "slideshow": {
     "slide_type": "-"
    }
   },
   "source": [
    "En general, para la ecuación diferencial $\\dot{x} = f(x(t))$ con $x_0=x(t_0)$, uno puede demostrar que los coeficientes $x_{[k]}$ están dados por\n",
    "\n",
    "\\begin{equation}\n",
    "x_{[k]} = \\frac{f_{[k-1]}}{k},\n",
    "\\end{equation}\n",
    "\n",
    "donde los coeficientes $f_{[k']}$ son los coeficientes del desarrollo en serie de Taylor en $t-t_0$ de $f(x(t))$. Esta es una relación de recurrencia para $x_{[k]}$. Es claro que, dado que el lado derecho de la ecuación anterior involucra los coeficientes $f_{[k']}$, uno debe implementar funciones que permitan calcular dichos coeficientes."
   ]
  },
  {
   "cell_type": "markdown",
   "metadata": {
    "slideshow": {
     "slide_type": "slide"
    }
   },
   "source": [
    "### Paso de integración"
   ]
  },
  {
   "cell_type": "markdown",
   "metadata": {
    "collapsed": true
   },
   "source": [
    "Claramente, lo descrito más arriba no se puede implementar en la computadora. Es decir, estamos obligados a truncar el polinomio de Taylor en un grado $p$ (finito). Formalmente,  escribimos\n",
    "\n",
    "\\begin{equation}\n",
    "x(t) = \\sum_{k=0}^p x_{[k]}(t_0)\\, (t-t_0)^k + \\mathcal{R}_p ,\n",
    "\\end{equation}\n",
    "\n",
    "donde el *residuo* está dado por\n",
    "\n",
    "\\begin{equation}\n",
    "\\mathcal{R}_p = x_{[p+1]}(\\xi)\\, (t-t_0)^{p+1},\n",
    "\\end{equation}\n",
    " y $\\xi \\in [t_0, t]$."
   ]
  },
  {
   "cell_type": "markdown",
   "metadata": {
    "slideshow": {
     "slide_type": "subslide"
    }
   },
   "source": [
    "Queremos, entonces, truncar la serie en un $p$ finito, pero suficientemente grande de tal manera que el residuo sea pequeño."
   ]
  },
  {
   "cell_type": "markdown",
   "metadata": {
    "slideshow": {
     "slide_type": "fragment"
    }
   },
   "source": [
    "¿Dónde truncamos? En general esto sólo lo podemos contestar si podemos conocer el residuo (en términos de $p$), cosa que no es sencilla. \n",
    "\n",
    "Es por esto que uno *usa* las propiedades de convergencia de la serie de Taylor para $x(t)$, para $p$ *suficientemente* grande. Si $p$ es suficientemente grande, entonces las correcciones sucesivas serán cada vez menores, ya que la serie es convergente. "
   ]
  },
  {
   "cell_type": "markdown",
   "metadata": {
    "slideshow": {
     "slide_type": "subslide"
    }
   },
   "source": [
    "En particular, para $p$ suficientemente grande tendremos\n",
    "\n",
    "\\begin{equation}\n",
    "\\big| \\, x_{[p]}(t_0)\\, (t-t_0)^p \\, \\big| \\leq \\epsilon,\n",
    "\\end{equation}\n",
    "\n",
    "donde $\\epsilon$ es una cota, *suficientemente pequeña*, para *todos* los términos sucesivos.\n",
    "\n",
    "De aquí obtenemos una cota para el paso de integración $h=t-t_0$,\n",
    "\n",
    "\\begin{equation}\n",
    "h = t-t_0 \\leq \\Big(\\frac{\\epsilon}{\\big| x_{[p]}(t_0)\\big|}\\Big)^{1/p}.\n",
    "\\end{equation}\n",
    "\n",
    "Uno elige $\\epsilon$ para que sea mucho menor que el epsilon de la máquina. \n",
    "\n",
    "El paso de integración obtenido depende de $t_0$; por lo tanto, al hacer la evolución temporal, distintos pasos de integración se irán calculando, por lo que el paso de integración en general no será constante."
   ]
  },
  {
   "cell_type": "markdown",
   "metadata": {
    "slideshow": {
     "slide_type": "subslide"
    }
   },
   "source": [
    "Algo importante que vale la pena hacer notar es que, fijando $h$ de tal manera que se garantiza la convergencia de la serie, la serie de Taylor se aplica a todo valor de $t$ tal que $t_0 \\leq t \\leq t_0 + h$."
   ]
  },
  {
   "cell_type": "markdown",
   "metadata": {
    "slideshow": {
     "slide_type": "subslide"
    }
   },
   "source": [
    "En la práctica, y dado que normalmente uno lidia con ecuaciones de segundo orden, uno considera el menor de los pasos de integración obtenidos a partir de los dos últimos términos de la serie de Taylor.\n",
    "\n",
    "Es *importante* enfatizar que este procedimiento sólo funciona cuando el orden $p$ es suficientemente grande, de tal manera que estamos entrados en la cola convergente de la serie. "
   ]
  },
  {
   "cell_type": "markdown",
   "metadata": {
    "slideshow": {
     "slide_type": "slide"
    }
   },
   "source": [
    "### Sumando la serie"
   ]
  },
  {
   "cell_type": "markdown",
   "metadata": {
    "slideshow": {
     "slide_type": "-"
    }
   },
   "source": [
    "Una vez que tenemos el paso de integración $h$, queremos sumar la serie para obtener $x(t_1)$ con $t_1 = t_0+h$. Para esto, simplemente debemos sumar la serie\n",
    "\n",
    "\\begin{equation}\n",
    "x(t_1) = x(t_0+h) = \\sum_{k=0}^p x_{[k]}(t_0)\\, h^k.\n",
    "\\end{equation}\n",
    "\n",
    "Numéricamente, la mejor manera de hacer esto es usando [el método de Horner](https://en.wikipedia.org/wiki/Horner%27s_method). El método de Horner consiste en factorizar de manera apropiada el polinomio, el cual sólo se evalúa a través de productos y sumas (¡sin potencias!). Esto permite, por un lado, minimizar el número de operaciones, y en el caso de series de Taylor de orden suficientemente grande para estar en la cola convergente, considerar correctamente los términos pequeños."
   ]
  },
  {
   "cell_type": "markdown",
   "metadata": {
    "slideshow": {
     "slide_type": "subslide"
    }
   },
   "source": [
    "Reescribiendo la serie tenemos\n",
    "\n",
    "\\begin{eqnarray}\n",
    "x(t_1) & = & x_0 + x_{[1]} \\, h + \\dots + x_{[p-1]} \\,h^{p-1} + x_{[p]} \\, h^p\\\\\n",
    "& = & x_0 + x_{[1]} \\, h + \\dots + h^{p-1} ( x_{[p-1]} + h x_{[p]} )\\\\\n",
    "& = & x_0 + x_{[1]} \\, h + \\dots + h^{p-2} ( x_{[p-2]} + h ( x_{[p-1]} + h x_{[p]} ) )\\\\\n",
    "& = & x_0 + h\\big( x_{[1]} + h(... + h ( x_{[p-1]} + h x_{[p]} )...\\big).\n",
    "\\end{eqnarray}\n",
    "\n",
    "Entonces, consideramos primero (para la suma) el término $x_{[p]}$ y $x_{[p]}$, a partir de los cuales construimos $\\tilde{x}_{p-1} = x_{[p-1]} + h x_{[p]}$, y usando $\\tilde{x}_{p-1}$ obtenemos $\\tilde{x}_{p-2} = x_{[p-2]} + h \\tilde{x}_{p-1}$, y así sucesivamente hasta tener $\\tilde{x}_0=x(t_1)$, que es el resultado buscado.\n",
    "\n",
    "Una vez que hemos obtenido $x(t_1)$, uno utiliza este valor como la nueva condición inicial, y simplemente se iteran los pasos anteriores hasta obtener $x(t_2)$."
   ]
  },
  {
   "cell_type": "markdown",
   "metadata": {
    "slideshow": {
     "slide_type": "slide"
    }
   },
   "source": [
    "## Tarea 7"
   ]
  },
  {
   "cell_type": "code",
   "execution_count": 3,
   "metadata": {
    "collapsed": false
   },
   "outputs": [],
   "source": [
    "include(\"Taylor.jl\")\n",
    "using ADT"
   ]
  },
  {
   "cell_type": "markdown",
   "metadata": {
    "slideshow": {
     "slide_type": "-"
    }
   },
   "source": [
    "**NOTA** El contenido de este ejercicio se incluirá en la \"Tarea7.ipynb\". Nuevamente, esta tarea deberá ser elaborada en equipos."
   ]
  },
  {
   "cell_type": "markdown",
   "metadata": {
    "slideshow": {
     "slide_type": "subslide"
    }
   },
   "source": [
    "### Ejercicio"
   ]
  },
  {
   "cell_type": "markdown",
   "metadata": {
    "slideshow": {
     "slide_type": "-"
    }
   },
   "source": [
    "Usando su implementación de polinomios de Taylor, escriban un integrador para la ecuación diferencial que se desarrolló en este ejemplo, esto es, con la condición inicial $x(0) = 3$. \n",
    "\n",
    "El integrador debe hacer las operaciones necesarias para obtener automáticamente los coeficientes $x_{[k]}$, *en cada paso de integración*, a partir de la condición inicial local. Un requisito básico para esto es que tengan una implementación de la función $P_\\alpha(x) = [g(x)]^\\alpha$ con $g(x)$ un polinomio, que obtuvieron en la \"Tarea6\", y que funcione bien en particular para `alpha::Int`."
   ]
  },
  {
   "cell_type": "markdown",
   "metadata": {
    "slideshow": {
     "slide_type": "fragment"
    }
   },
   "source": [
    "La implementación debe consistir de varias funciones: \n",
    "\n",
    "- Una función donde se calculen los coeficientes $x_{[k]}(t_0)$ de la expansión. Esta función deberá llamar a otra donde se implementan las ecuaciones de movimiento.\n",
    "\n",
    "- Una función donde se obtenga el paso de integración $h$.\n",
    "\n",
    "- Otra función donde se haga la suma por el método de Horner.\n",
    "\n",
    "- Finalmente, una función que use las funciones anteriores para hacer la integración desde un tiempo inicial a uno final. En este punto, *fingiremos ignorancia*, en el sentido que el tiempo inicial es cero, y el tiempo final será $0.5$ (que está más allá de donde hay problemas).\n"
   ]
  },
  {
   "cell_type": "markdown",
   "metadata": {
    "slideshow": {
     "slide_type": "fragment"
    }
   },
   "source": [
    "Dado que conocemos la solución analítica, den como función de $t$ el error relativo de su integrador (respecto al valor del resultado analítico)."
   ]
  },
  {
   "cell_type": "markdown",
   "metadata": {},
   "source": [
    "Primero que nada, definamos una función que \"resuelva\" una ecuación diferencial por medio de los polinomios de Taylor. Esto es que, para un $t_0$ fijo, calcule la expansión de Taylor de la solución $x(t)$ alrededor de $t_0$."
   ]
  },
  {
   "cell_type": "code",
   "execution_count": 4,
   "metadata": {
    "collapsed": false,
    "scrolled": false
   },
   "outputs": [
    {
     "data": {
      "text/plain": [
       "coef (generic function with 2 methods)"
      ]
     },
     "execution_count": 4,
     "metadata": {},
     "output_type": "execute_result"
    }
   ],
   "source": [
    "\"\"\"\n",
    "Función que encuentra los coeficientes de la solución (como estructura Taylor) a una ecuación diferencial con condición\n",
    "inicial para un tiempo dado, truncándose en el término n.\n",
    "\"\"\"\n",
    "function coef(x0::Number, F::Function, n = 21)\n",
    "    # el índice final n se define en función de la precisión necesaria\n",
    "    \n",
    "    a = [x0;fill(0.0,n-1)] # prealocamos memoria\n",
    "    \n",
    "    for k = 1:n-1\n",
    "        if a[1] != 0\n",
    "            bool = find(a)[end] # definimos un índice booleano que encuentre los elementos no-nulos\n",
    "            b = Taylor(a[1:bool])\n",
    "        else\n",
    "            b = Taylor(a)\n",
    "        end\n",
    "        f = F(b)\n",
    "        a[k+1] = f.pol[k]/(k) # relación de recurrencia\n",
    "    end\n",
    "    return Taylor(a)\n",
    "end"
   ]
  },
  {
   "cell_type": "markdown",
   "metadata": {},
   "source": [
    "Probamos la función y vemos que funciona bien."
   ]
  },
  {
   "cell_type": "code",
   "execution_count": 5,
   "metadata": {
    "collapsed": false,
    "scrolled": true
   },
   "outputs": [
    {
     "name": "stdout",
     "output_type": "stream",
     "text": [
      "  0.651193 seconds (683.93 k allocations: 34.513 MB, 0.82% gc time)\n"
     ]
    },
    {
     "data": {
      "text/plain": [
       "ADT.Taylor{Float64}([3.0,9.0,27.0,81.0,243.0,729.0,2187.0,6561.0,19683.0,59049.0  …  531441.0,1.59432e6,4.78297e6,1.43489e7,4.30467e7,1.2914e8,3.8742e8,1.16226e9,3.48678e9,1.04604e10])"
      ]
     },
     "execution_count": 5,
     "metadata": {},
     "output_type": "execute_result"
    }
   ],
   "source": [
    "@time a = coef(3,x->x^2)"
   ]
  },
  {
   "cell_type": "markdown",
   "metadata": {},
   "source": [
    "Ahora definimos una función que determina el paso integrador. A diferencia de otros métodos integradores que tienen un paso integrador fijo, aquí encontramos un paso integrador adaptativo, que nos permite encontrar la solución sin preocuparnos tanto por puntos de divergencia."
   ]
  },
  {
   "cell_type": "code",
   "execution_count": 6,
   "metadata": {
    "collapsed": false
   },
   "outputs": [
    {
     "data": {
      "text/plain": [
       "1.0e-20"
      ]
     },
     "execution_count": 6,
     "metadata": {},
     "output_type": "execute_result"
    }
   ],
   "source": [
    "eps_abs = 1e-20"
   ]
  },
  {
   "cell_type": "code",
   "execution_count": 7,
   "metadata": {
    "collapsed": false,
    "scrolled": true
   },
   "outputs": [
    {
     "data": {
      "text/plain": [
       "paso (generic function with 2 methods)"
      ]
     },
     "execution_count": 7,
     "metadata": {},
     "output_type": "execute_result"
    }
   ],
   "source": [
    "\"\"\"\n",
    "Esta función determina el paso iterativo donde es convergente la solución del integrador truncando en 21 términos.\n",
    "\"\"\"\n",
    "function paso(a::Taylor, p = 21)\n",
    "    \n",
    "    while p != 0 && a.pol[p] == 0\n",
    "       p = p-1;\n",
    "    end\n",
    "    #println (\"N donde truncamos = $p\")\n",
    "    h = 0.5*(eps_abs/abs(a.pol[p]))^(1/p)\n",
    "end"
   ]
  },
  {
   "cell_type": "code",
   "execution_count": 8,
   "metadata": {
    "collapsed": false
   },
   "outputs": [
    {
     "data": {
      "text/plain": [
       "0.018598066541795813"
      ]
     },
     "execution_count": 8,
     "metadata": {},
     "output_type": "execute_result"
    }
   ],
   "source": [
    "paso(a)"
   ]
  },
  {
   "cell_type": "markdown",
   "metadata": {},
   "source": [
    "Finalmente - y aunque ya teníamos definida una función para la evaluación de estructuras Taylor (definida en el módulo ADT como `evaluar`) - creamos una función que evalúe los polinomios usando el método de Horner."
   ]
  },
  {
   "cell_type": "code",
   "execution_count": 9,
   "metadata": {
    "collapsed": false
   },
   "outputs": [
    {
     "data": {
      "text/plain": [
       "ev_horner (generic function with 1 method)"
      ]
     },
     "execution_count": 9,
     "metadata": {},
     "output_type": "execute_result"
    }
   ],
   "source": [
    "\"\"\"\n",
    "Evaluación de un Taylor usando el método de Horner.\n",
    "\"\"\"\n",
    "function ev_horner{T<:Number}(a::Taylor,t0::T)\n",
    "    \n",
    "    n = gradomax(a)\n",
    "    x1 = a.pol[n]\n",
    "    \n",
    "    for k = 1:n-1\n",
    "        x1 = a.pol[n-k] + x1*t0\n",
    "    end\n",
    "    return x1\n",
    "end"
   ]
  },
  {
   "cell_type": "code",
   "execution_count": 10,
   "metadata": {
    "collapsed": false
   },
   "outputs": [
    {
     "name": "stdout",
     "output_type": "stream",
     "text": [
      "  0.005543 seconds (2.84 k allocations: 137.722 KB)\n"
     ]
    },
    {
     "data": {
      "text/plain": [
       "3.0"
      ]
     },
     "execution_count": 10,
     "metadata": {},
     "output_type": "execute_result"
    }
   ],
   "source": [
    "@time ev_horner(a,0)"
   ]
  },
  {
   "cell_type": "code",
   "execution_count": 11,
   "metadata": {
    "collapsed": false,
    "scrolled": true
   },
   "outputs": [
    {
     "data": {
      "text/plain": [
       "integrador_taylor (generic function with 1 method)"
      ]
     },
     "execution_count": 11,
     "metadata": {},
     "output_type": "execute_result"
    }
   ],
   "source": [
    "\"\"\"\n",
    "Nuestro super integrador via Taylor para problemas de condición inicial. Acepta x0 condición inicial y el intervalo (t0,tf),\n",
    "así como la función a integrar.\n",
    "\"\"\"\n",
    "function integrador_taylor(x0::Number, t0::Number, tf::Number, f::Function)\n",
    "    nmax = 700\n",
    "    t = [t0]\n",
    "    x = [x0]\n",
    "    H = [0.0] # por si alguien los requiere\n",
    "    n = 0\n",
    "    while t0 < tf && isnan(x0) == false && n < nmax\n",
    "        \n",
    "        eps_abs = 1e-20\n",
    "        \n",
    "        S = coef(x0,f)\n",
    "        h = paso(S)\n",
    "        \n",
    "        t0 += h\n",
    "        \n",
    "        x0 = ev_horner(S,h)\n",
    "        \n",
    "        push!(t,t0)\n",
    "        push!(x,x0)\n",
    "        push!(H,h)\n",
    "        n += 1\n",
    "    end\n",
    "    return t,x,H\n",
    "end"
   ]
  },
  {
   "cell_type": "markdown",
   "metadata": {},
   "source": [
    "Probemos ahora nuestro integrador con el siguiente problema:\n",
    "$$ \\frac{dx}{dt} \\equiv f(x) = x^2$$\n",
    "con $x(0) = 3$."
   ]
  },
  {
   "cell_type": "code",
   "execution_count": 12,
   "metadata": {
    "collapsed": false,
    "scrolled": true
   },
   "outputs": [
    {
     "data": {
      "text/plain": [
       "701"
      ]
     },
     "execution_count": 12,
     "metadata": {},
     "output_type": "execute_result"
    }
   ],
   "source": [
    "f(x) = x^2.;\n",
    "\n",
    "(T,X) = integrador_taylor(3., 0., 0.5, f);\n",
    "length(T)"
   ]
  },
  {
   "cell_type": "markdown",
   "metadata": {},
   "source": [
    "Comparemos ahora con la solución analítica que - gracias a nuestros enormes conocimientos de ecuaciones diferenciales - conocemos:\n",
    "\n",
    "$$ x(t) = \\frac{3}{1-3x} $$"
   ]
  },
  {
   "cell_type": "code",
   "execution_count": 13,
   "metadata": {
    "collapsed": false
   },
   "outputs": [],
   "source": [
    "g(x) = 3/(1-3*x);\n",
    "\n",
    "G = map(g,T);"
   ]
  },
  {
   "cell_type": "code",
   "execution_count": 14,
   "metadata": {
    "collapsed": false,
    "scrolled": false
   },
   "outputs": [
    {
     "data": {
      "image/png": "[encoded data removed]",
      "text/plain": [
       "PyPlot.Figure(PyObject <matplotlib.figure.Figure object at 0x0000000028A59EF0>)"
      ]
     },
     "metadata": {},
     "output_type": "display_data"
    }
   ],
   "source": [
    "using PyPlot\n",
    "subplot(3,1,1)\n",
    "plot(T, X, color=\"green\")\n",
    "axis([0.,0.35,0,100])\n",
    "ylabel(\"Taylor\")\n",
    "grid()\n",
    "subplot(3,1,2)\n",
    "plot(T, G, color=\"red\")\n",
    "axis([0.,0.35,0,100])\n",
    "ylabel(\"Analítica\")\n",
    "xlabel(\"Tiempo\")\n",
    "grid()"
   ]
  },
  {
   "cell_type": "code",
   "execution_count": 15,
   "metadata": {
    "collapsed": false,
    "scrolled": false
   },
   "outputs": [
    {
     "data": {
      "image/png": "[encoded data removed]",
      "text/plain": [
       "PyPlot.Figure(PyObject <matplotlib.figure.Figure object at 0x0000000028D442B0>)"
      ]
     },
     "metadata": {},
     "output_type": "display_data"
    }
   ],
   "source": [
    "ER = abs(G-X);\n",
    "semilogy(T, ER)\n",
    "# axis([1e-2,1,1e-16,1e7])\n",
    "xlabel(\"Tiempo\")\n",
    "ylabel(\"log(Error)\")\n",
    "grid()"
   ]
  },
  {
   "cell_type": "markdown",
   "metadata": {},
   "source": [
    "... de donde observamos que el error se hace muy grande a medida que $t \\rightarrow \\frac{1}{3}$, mientras que para valores alejados de este número se tiene convergencia muy buena."
   ]
  },
  {
   "cell_type": "markdown",
   "metadata": {
    "slideshow": {
     "slide_type": "subslide"
    }
   },
   "source": [
    "### Ejercicio"
   ]
  },
  {
   "cell_type": "markdown",
   "metadata": {
    "slideshow": {
     "slide_type": "-"
    }
   },
   "source": [
    "Repitan los cálculos usando el método de Runge-Kutta de 4o orden con paso de integración fijo (que es lo más sofisticado que conocen hasta ahora) y comparen los resultados del error relativo con el método de Taylor. En particular, finjan ignorancia de la misma manera que en el ejercicio anterior."
   ]
  },
  {
   "cell_type": "markdown",
   "metadata": {
    "collapsed": true
   },
   "source": [
    "Los métodos de Runge-Kutta constituyen una familia de métodos iterativos para resolver EDO´s en tiempo discreto, tanto de forma explícita como implícita. Sin embargo, en este caso, tomaremos el método más utilizado, conocido como RK4. Para esto consideramos una ecuación diferencial ordinaria con condición inicial dada por:\n",
    "\n",
    "$$\\dot{x}=f(t,x) \\quad x(t_0)=x_0$$\n",
    "\n",
    "En donde consideramos que f es una función contínua y diferenciable y que $\\frac{\\partial f}{\\partial x}$ también lo es. Estas son símplemente las hipótesis del Teorema de Existencia-Unicidad, las cuales nos garantizan que el problema tendrá solución única $x(t)$ donde $t\\in[t_0+a,t_0-a]$. A continuación se introduce una paso h de valor fijo de modo que: \n",
    "\n",
    "$$\\dot{x}(t_0)\\approx \\frac{x(t_0+h)-x(t_0)}{h} \\implies x(t_0+h)\\approx x(t_0)+h \\dot{x}(t_0)$$\n",
    "\n",
    "De esta manera se puede calcular iteradamente el valor de $x$ en el siguiente punto mediante $x_{n+1}=x_{n}+h \\dot{x_n}$ donde $x_{n}=x(t_0+nh)$ y $t_n=t_0+nh$. Con esto, los métodos iterativos utilizan la media ponderada de $f$ evaluada en varios puntos posteriores para aproximar la derivada. En particlar, el método RK4 está dado por:\n",
    "\n",
    "\\begin{align}\n",
    "x_{n+1} &= x_n + \\tfrac{h}{6}\\left(k_1 + 2k_2 + 2k_3 + k_4 \\right)\\\\\n",
    "t_{n+1} &= t_n + h \\\\\n",
    "\\end{align}\n",
    "\n",
    "en donde $n =0,1,...,p$ con $p=\\cfrac{t_f-t_0}{h}$ el número de pasos y $t_f$ el tiempo final de evaluación. Cabe mencionar que el método funcione se debería tener $t_f < a$. Además, los coeficientes $k_1,k_2,k_3,k_4$ se calcular mediente:\n",
    "\n",
    "\\begin{align}\n",
    "k_1 &= f(t_n, x_n),\n",
    "\\\\\n",
    "k_2 &= f(t_n + \\tfrac{h}{2}, x_n + \\tfrac{h}{2} k_1),\n",
    "\\\\\n",
    "k_3 &= f(t_n + \\tfrac{h}{2}, x_n + \\tfrac{h}{2} k_2),\n",
    "\\\\\n",
    "k_4 &= f(t_n + h, x_n + hk_3).\n",
    "\\end{align}\n",
    "\n",
    "En realidad, dado que utilizaremos derivación automática con polinomios de Taylor para esta tarea, deberemos asumir que la función $f(t,x(t))=f(t)$ es analítica.\n",
    "\n",
    "A continuación definimos una función que resuelve una EDO por el método de RK4."
   ]
  },
  {
   "cell_type": "code",
   "execution_count": 16,
   "metadata": {
    "collapsed": false
   },
   "outputs": [
    {
     "data": {
      "text/plain": [
       "RK4 (generic function with 1 method)"
      ]
     },
     "execution_count": 16,
     "metadata": {},
     "output_type": "execute_result"
    }
   ],
   "source": [
    "\"\"\"\n",
    "RK4 (f::Function,x_0::Real,t_0::Real,h::Real,p::Integer)\n",
    "\n",
    "Dada la derivada x'(t)=f(t,x),la condición inicial x(t0)=x0, el paso h y el número de iteraciones p, \n",
    "esta función regresa la solución x(t) dada por el método RK4 expresada como un array de p+1 elementos. \n",
    "Es importante notar el órden de los argumentos de f=f(t,x). Por el momento, f no puede ser función de solo una variable,\n",
    "como f(t)=t^2. Sin embargo, f(t,x)=t^2 sí esta permitido.\n",
    "\"\"\"\n",
    "function RK4(f::Function,x_0::Real,t_0::Real,h::Real,p::Integer)\n",
    "    @assert p>=0\n",
    "    x=zeros(typeof(promote(x_0,1.5)[1]),p+1) #inicializar el array solución con el mayor sobre tipo común al de x_0 y Float64 \n",
    "    #x=zeros(BigFloat,p+1)\n",
    "    x[1]=x_0\n",
    "    t=t_0\n",
    "    \n",
    "    for i in 1:p\n",
    "        \n",
    "        k1 = f(t,x[i])\n",
    "        k2 = f(t+h/2,x[i]+h*k1/2)\n",
    "        k3 = f(t+h/2,x[i]+h*k2/2)\n",
    "        k4 = f(t+h,x[i]+h*k3)\n",
    "         \n",
    "        x[i+1]=x[i]+(h/6)*(k1+2k2+2k3+k4)\n",
    "        \n",
    "        t+=h\n",
    "    end\n",
    "    \n",
    "    return x\n",
    "end"
   ]
  },
  {
   "cell_type": "code",
   "execution_count": 17,
   "metadata": {
    "collapsed": false
   },
   "outputs": [
    {
     "data": {
      "text/plain": [
       "g (generic function with 1 method)"
      ]
     },
     "execution_count": 17,
     "metadata": {},
     "output_type": "execute_result"
    }
   ],
   "source": [
    "f(t,x)=x^2\n",
    "g(t)=3/(1-3t)"
   ]
  },
  {
   "cell_type": "code",
   "execution_count": 18,
   "metadata": {
    "collapsed": false
   },
   "outputs": [
    {
     "data": {
      "image/png": "[encoded data removed]",
      "text/plain": [
       "PyPlot.Figure(PyObject <matplotlib.figure.Figure object at 0x000000002946BDA0>)"
      ]
     },
     "metadata": {},
     "output_type": "display_data"
    }
   ],
   "source": [
    "x0=3\n",
    "t0=0\n",
    "tf=.334\n",
    "p=4500\n",
    "h=(tf-t0)/p\n",
    "x=RK4(f,x0,t0,h,p)\n",
    "t=linspace(t0,tf,length(x))\n",
    "G=zeros(t)\n",
    "E=zeros(t)\n",
    "\n",
    "for i in 1:length(t)\n",
    "    G[i]=g(t[i])\n",
    "    E[i]=abs(g(t[i])-x[i])\n",
    "end\n",
    "\n",
    "using PyPlot\n",
    "\n",
    "loglog(t,x,marker=\"o\")\n",
    "loglog(t,G)\n",
    "loglog(t,E)\n",
    "show()"
   ]
  },
  {
   "cell_type": "markdown",
   "metadata": {
    "slideshow": {
     "slide_type": "subslide"
    }
   },
   "source": [
    "### Ejercicio"
   ]
  },
  {
   "cell_type": "markdown",
   "metadata": {},
   "source": [
    "Integra la ecuación de movimiento para el oscilador armónico, $\\ddot{x} = -2x$, con $x(0)=2$, $\\dot{x}(0)=0$, durante 10^4 periodos de oscilación (o sea, hasta $t_f = 10^4 \\cdot 2\\pi/\\sqrt{2}$, usando el método de Taylor y el método de Runge-Kutta de 4o orden con paso de integración constante. Compara cómo cambia la energía (respecto al valor al tiempo cero) en función del tiempo para ambos métodos."
   ]
  },
  {
   "cell_type": "markdown",
   "metadata": {},
   "source": [
    "La ecuación $\\cfrac{d^2x}{dt^2} = f(x) = -2x$ puede ser linealizada como:\n",
    "$$ \\frac{dx}{dt} = y $$\n",
    "$$ \\frac{dy}{dt} = -2x $$\n",
    "\n",
    "con condiciones iniciales $x(0) = 2$ y $y(0) = 0$.\n",
    "\n",
    "Si consideramos a $x(t) = x_0 + x_1(t-t_0) + x_2(t-t_0)^2+ ... $ y a $y(t) = y_0 + y_1(t-t_0) + y_2(t-t_0)^2 +...$, utilizando un sistema de ecuaciones como el anterior llegamos (de manera general) a las siguientes relaciones recursivas:\n",
    "\n",
    "$y_k = \\cfrac{f(x)_{k-1}}{k} \\equiv \\cfrac{f_{k-1}}{k} $, y también $x_k = \\cfrac{y_{k-1}}{k} $.\n",
    "\n",
    "Con esto, podemos implementar una función que calcule al mismo tiempo los coeficientes de las series $x(t), y(t)$ iterativamente."
   ]
  },
  {
   "cell_type": "code",
   "execution_count": 19,
   "metadata": {
    "collapsed": false,
    "scrolled": true
   },
   "outputs": [
    {
     "data": {
      "text/plain": [
       "coef2 (generic function with 2 methods)"
      ]
     },
     "execution_count": 19,
     "metadata": {},
     "output_type": "execute_result"
    }
   ],
   "source": [
    "\"\"\"\n",
    "Solucionador via método de Taylor para un sistema de dos ecuaciones diferenciales lineales. Ver `coef`.\n",
    "\"\"\"\n",
    "function coef2(x0::Number, y0::Number, F::Function, n = 21)\n",
    "    # el índice final n se define en función de la precisión necesaria\n",
    "    \n",
    "    X = [x0;fill(0.0,n-1)] # prealocamos memoria\n",
    "    Y = [y0;fill(0.0,n-1)]\n",
    "    \n",
    "    for k = 1:n-1\n",
    "        \n",
    "        b = Taylor(X)\n",
    "        f = F(b)\n",
    "        \n",
    "        Y[k+1] = f.pol[k]/(k) # relación de recurrencia\n",
    "        X[k+1] = Y[k]/k\n",
    "    end\n",
    "    return Taylor(X), Taylor(Y)\n",
    "end"
   ]
  },
  {
   "cell_type": "markdown",
   "metadata": {},
   "source": [
    "Definimos un epsilon mínimo mucho más chico que antes."
   ]
  },
  {
   "cell_type": "code",
   "execution_count": 20,
   "metadata": {
    "collapsed": false,
    "scrolled": true
   },
   "outputs": [
    {
     "data": {
      "text/plain": [
       "1.0e-50"
      ]
     },
     "execution_count": 20,
     "metadata": {},
     "output_type": "execute_result"
    }
   ],
   "source": [
    "eps_abs = 1e-50"
   ]
  },
  {
   "cell_type": "markdown",
   "metadata": {},
   "source": [
    "Y ahora podemos definir una función `integrador_taylor2` para un sistema linealizado de dos ecuaciones diferenciales, modificando ligeramente el código que ya teníamos.\n",
    "\n",
    "Al momento de calcular el paso iterativo, consideramos el paso de ambas series (tanto para $x$ como para $y$) y tomamos el mínimos entre ellos para tener un buen marco común."
   ]
  },
  {
   "cell_type": "code",
   "execution_count": 21,
   "metadata": {
    "collapsed": false
   },
   "outputs": [
    {
     "data": {
      "text/plain": [
       "integrador_taylor2 (generic function with 1 method)"
      ]
     },
     "execution_count": 21,
     "metadata": {},
     "output_type": "execute_result"
    }
   ],
   "source": [
    "\"\"\"\n",
    "Integrador de un sistema de dos ecuaciones diferenciales lineales en el intervalo [t0,tf] con condiciones\n",
    "de frontera e iniciales. Ver `integrador_taylor`.\n",
    "\"\"\"\n",
    "function integrador_taylor2(x0::Number, y0::Number, t0::Number, tf::Number, f::Function)\n",
    "    \n",
    "    t = [t0]\n",
    "    x = [x0]\n",
    "    y = [y0]\n",
    "    \n",
    "    while t0 < tf && isnan(x0) == false\n",
    "        \n",
    "        X,Y = coef2(x0,y0,f)\n",
    "        \n",
    "        h_x = paso(X)\n",
    "        h_y = paso(Y)\n",
    "        h = min(h_x, h_y)\n",
    "        \n",
    "        t0 += h\n",
    "        \n",
    "        x0 = ev_horner(X,h)\n",
    "        y0 = ev_horner(Y,h)\n",
    "        \n",
    "        push!(t,t0)\n",
    "        push!(x,x0)\n",
    "        push!(y,y0)\n",
    "    end\n",
    "    return t,x,y\n",
    "end"
   ]
  },
  {
   "cell_type": "markdown",
   "metadata": {},
   "source": [
    "Definimos nuestra función y nuestras condiciones iniciales."
   ]
  },
  {
   "cell_type": "code",
   "execution_count": 22,
   "metadata": {
    "collapsed": false,
    "scrolled": false
   },
   "outputs": [],
   "source": [
    "w(x) = -2*x;\n",
    "tf = 10^4*(2*pi/√2);\n",
    "\n",
    "T2,X2,Y2 = integrador_taylor2(2.,0.,0.,tf,w);"
   ]
  },
  {
   "cell_type": "markdown",
   "metadata": {},
   "source": [
    "Vemos la gráfica de nuestra solución y su espacio fase."
   ]
  },
  {
   "cell_type": "code",
   "execution_count": 23,
   "metadata": {
    "collapsed": false
   },
   "outputs": [
    {
     "data": {
      "image/png": "[encoded data removed]",
      "text/plain": [
       "PyPlot.Figure(PyObject <matplotlib.figure.Figure object at 0x0000000028CAC080>)"
      ]
     },
     "metadata": {},
     "output_type": "display_data"
    }
   ],
   "source": [
    "plot(T2,X2)\n",
    "axis([0,20,-2,2])\n",
    "xlabel(\"Tiempo\")\n",
    "ylabel(\"Amplitud de x(t)\")\n",
    "grid()"
   ]
  },
  {
   "cell_type": "code",
   "execution_count": 24,
   "metadata": {
    "collapsed": false
   },
   "outputs": [
    {
     "data": {
      "image/png": "[encoded data removed]",
      "text/plain": [
       "PyPlot.Figure(PyObject <matplotlib.figure.Figure object at 0x000000002B802518>)"
      ]
     },
     "metadata": {},
     "output_type": "display_data"
    }
   ],
   "source": [
    "plot(X2,Y2,\".\", color = \"red\")\n",
    "axis([-3,3,-3,3])\n",
    "xlabel(\"x(t)\")\n",
    "ylabel(\"x'(t)\")\n",
    "grid()"
   ]
  },
  {
   "cell_type": "markdown",
   "metadata": {},
   "source": [
    "Ahora hagamos la integración de esta ecuación mediante Runge-Kutta, para esto hacemos la misma linealización con $f=\\frac{dx}{dt} = y $, y\n",
    "$g=\\frac{dy}{dt} = -2x $, con $x(0)=2$ y $y(0)=0$. Luego tenemos este sistema de 2 ODE's que debemos resolver."
   ]
  },
  {
   "cell_type": "code",
   "execution_count": 25,
   "metadata": {
    "collapsed": false
   },
   "outputs": [
    {
     "data": {
      "text/plain": [
       "RK4_orden2 (generic function with 1 method)"
      ]
     },
     "execution_count": 25,
     "metadata": {},
     "output_type": "execute_result"
    }
   ],
   "source": [
    "\"\"\"\n",
    "Integrador de Runge-Kutta para un sistema de 2 ecuaciones diferenciales ordinarias.\n",
    "\n",
    "\"\"\"\n",
    "function RK4_orden2(f2::Function,g2::Function,y_0::Real,x_0::Real,t_0::Real,h::Real,p::Integer)\n",
    "   \n",
    "    @assert p>=0\n",
    "    x = zeros(typeof(promote(x_0,1.5)[1]),p+1) #inicializar el array solución con el mayor sobre tipo común al de x_0 y Float64 \n",
    "    y = zeros(typeof(promote(y_0,1.5)[1]),p+1)\n",
    "    x[1] = x_0\n",
    "    y[1] = y_0\n",
    "    t = t_0\n",
    "    \n",
    "    for i in 1:p\n",
    "        \n",
    "        k1 = f2(t,x[i],y[i])\n",
    "        l1 = g2(t,x[i],y[i])\n",
    "        k2 = f2(t+h/2, x[i]+h*k1/2, y[i]+h*l1/2)\n",
    "        l2 = g2(t+h/2, x[i]+h*k1/2, y[i]+h*l1/2)\n",
    "        k3 = f2(t+h/2, x[i]+h*k2/2, y[i]+h*l2/2)\n",
    "        l3 = g2(t+h/2, x[i]+h*k2/2, y[i]+h*l2/2)\n",
    "        k4 = f2(t+h, x[i]+h*k3, y[i]+h*l3)\n",
    "        l4 = g2(t+h, x[i]+h*k3, y[i]+h*l3)\n",
    "         \n",
    "        x[i+1] = x[i]+(h/6)*(k1+2k2+2k3+k4)\n",
    "        y[i+1] = y[i]+(h/6)*(l1+2l2+2l3+l4)\n",
    "        \n",
    "        t += h\n",
    "    end\n",
    "    return x,y\n",
    "end"
   ]
  },
  {
   "cell_type": "code",
   "execution_count": 26,
   "metadata": {
    "collapsed": false,
    "scrolled": false
   },
   "outputs": [
    {
     "data": {
      "image/png": "[encoded data removed]",
      "text/plain": [
       "PyPlot.Figure(PyObject <matplotlib.figure.Figure object at 0x000000002BDE0780>)"
      ]
     },
     "metadata": {},
     "output_type": "display_data"
    }
   ],
   "source": [
    "f2(t,x,y) = y\n",
    "g2(t,x,y) = -2*x\n",
    "t0_R2 = 0\n",
    "tf_R2 = 20\n",
    "p_R2 = 9000\n",
    "h_R2 = (tf_R2 - t0_R2)/p_R2\n",
    "XR2,YR2 = RK4_orden2(f2,g2,0,2,t0_R2,h_R2,p_R2)\n",
    "using PyPlot\n",
    "t2 = linspace(0,20,length(XR2))\n",
    "Graf_R2 = plot(t2,XR2)\n",
    "grid()"
   ]
  },
  {
   "cell_type": "markdown",
   "metadata": {
    "collapsed": true
   },
   "source": [
    "Comparemos ahora la energía de las soluciones, sabiendo que $$ E = \\frac{1}{2}v^2 + \\frac{1}{2}2x^2$$"
   ]
  },
  {
   "cell_type": "code",
   "execution_count": 27,
   "metadata": {
    "collapsed": false
   },
   "outputs": [
    {
     "data": {
      "text/plain": [
       "energia (generic function with 1 method)"
      ]
     },
     "execution_count": 27,
     "metadata": {},
     "output_type": "execute_result"
    }
   ],
   "source": [
    "function energia(X,V)\n",
    "    @assert length(X) == length(V)\n",
    "    E = zeros(length(X));\n",
    "    for k in range(1,length(X))\n",
    "        E[k] = 0.5*V[k]^2+X[k]^2\n",
    "    end\n",
    "end"
   ]
  },
  {
   "cell_type": "code",
   "execution_count": 28,
   "metadata": {
    "collapsed": false
   },
   "outputs": [
    {
     "name": "stdout",
     "output_type": "stream",
     "text": [
      "search: assert AssertionError @assert is_assigned_char blas_set_num_threads\n",
      "\n"
     ]
    },
    {
     "data": {
      "text/latex": [
       "\\begin{verbatim}\n",
       "assert(cond)\n",
       "\\end{verbatim}\n",
       "Throw an \\texttt{AssertionError} if \\texttt{cond} is \\texttt{false}. Also available as the macro \\texttt{@assert expr}.\n"
      ],
      "text/markdown": [
       "```\n",
       "assert(cond)\n",
       "```\n",
       "\n",
       "Throw an `AssertionError` if `cond` is `false`. Also available as the macro `@assert expr`.\n"
      ],
      "text/plain": [
       "```\n",
       "assert(cond)\n",
       "```\n",
       "\n",
       "Throw an `AssertionError` if `cond` is `false`. Also available as the macro `@assert expr`.\n"
      ]
     },
     "execution_count": 28,
     "metadata": {},
     "output_type": "execute_result"
    }
   ],
   "source": [
    "?assert"
   ]
  }
 ],
 "metadata": {
  "celltoolbar": "Slideshow",
  "kernelspec": {
   "display_name": "Julia 0.4.3",
   "language": "julia",
   "name": "julia-0.4"
  },
  "language_info": {
   "file_extension": ".jl",
   "mimetype": "application/julia",
   "name": "julia",
   "version": "0.4.3"
  }
 },
 "nbformat": 4,
 "nbformat_minor": 0
}
