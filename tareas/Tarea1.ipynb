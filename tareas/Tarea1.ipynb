{
 "cells": [
  {
   "cell_type": "markdown",
   "metadata": {},
   "source": [
    "# Tarea 1\n",
    "\n",
    "Implementen en [julia](https://github.com/JuliaLang/julia) una función que devuelva las raíces de una ecuación de segundo grado general con coeficientes reales. La función debe ser estable según el tipo (*[type-stable](http://docs.julialang.org/en/release-0.4/manual/faq/?highlight=type%20stability#what-does-type-stable-mean)*), lo que significa que el tipo del resultado *sólamente* depende del tipo de las entradas. Muestren en el notebook con algunos ejemplos (escogidos de manera adecuada) que la función implementada da resultados *correctos*. \n",
    "\n",
    "La función debe estar documentada de manera apropiada, lo que significa que, al correr el Jupyter notebook y desde ahí, tecleando\n",
    "```\n",
    "? nombre_funcion\n",
    "```\n",
    "seguido de <SHIFT>-Enter, debe dar una explicación adecuada de qué hace la función, cuales son las entradas y cuales las salidas. Para esto, lean la documentación [aquí](http://docs.julialang.org/en/release-0.4/manual/documentation/#documentation). \n",
    "\n",
    "Cualquier comentario que ayude a entender su razonamiento lo pueden incluir en el notebook, explotando Markdown.\n",
    "\n",
    "**NOTA** El máximo número de colaboradores es 2, cuyos nombres deben ser incluidos con claridad. Si usan ideas de cualquier fuente, favor de incluir la referencia apropiada."
   ]
  },
  {
   "cell_type": "code",
   "execution_count": null,
   "metadata": {
    "collapsed": true
   },
   "outputs": [],
   "source": []
  }
 ],
 "metadata": {
  "kernelspec": {
   "display_name": "Julia 0.4.3",
   "language": "julia",
   "name": "julia-0.4"
  },
  "language_info": {
   "file_extension": ".jl",
   "mimetype": "application/julia",
   "name": "julia",
   "version": "0.4.3"
  }
 },
 "nbformat": 4,
 "nbformat_minor": 0
}
